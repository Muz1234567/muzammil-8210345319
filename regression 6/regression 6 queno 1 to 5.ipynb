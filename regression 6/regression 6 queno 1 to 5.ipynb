{
 "cells": [
  {
   "cell_type": "markdown",
   "id": "c66250fb",
   "metadata": {},
   "source": [
    "# Queno 1"
   ]
  },
  {
   "cell_type": "code",
   "execution_count": null,
   "id": "edb33162",
   "metadata": {},
   "outputs": [],
   "source": [
    "#First of all we have to design UI (USER INTERFACE) and user experience of web application."
   ]
  },
  {
   "cell_type": "code",
   "execution_count": null,
   "id": "058bf541",
   "metadata": {},
   "outputs": [],
   "source": [
    "#Then we have to design database schemas,data flows and system diagrams which can be machine learning model also."
   ]
  },
  {
   "cell_type": "code",
   "execution_count": null,
   "id": "2c4e460d",
   "metadata": {},
   "outputs": [],
   "source": [
    "#After that we have to develop client side of web application using HTML and then implement UI design . "
   ]
  },
  {
   "cell_type": "code",
   "execution_count": null,
   "id": "443598e3",
   "metadata": {},
   "outputs": [],
   "source": [
    "#Then we have to develop API Using language Python with flask."
   ]
  },
  {
   "cell_type": "code",
   "execution_count": null,
   "id": "c0e35087",
   "metadata": {},
   "outputs": [],
   "source": [
    "#Then we have to create REST ful API for communication between front end and backend."
   ]
  },
  {
   "cell_type": "code",
   "execution_count": null,
   "id": "741fde48",
   "metadata": {},
   "outputs": [],
   "source": [
    "#Then we can develop database schema based on application's data requirements."
   ]
  },
  {
   "cell_type": "code",
   "execution_count": null,
   "id": "8e861ab1",
   "metadata": {},
   "outputs": [],
   "source": [
    "#Now we can host the server of web application with the help of flask and click on the defined route and we can see \n",
    "#the developed web application on server link ."
   ]
  },
  {
   "cell_type": "code",
   "execution_count": null,
   "id": "f3a1a857",
   "metadata": {},
   "outputs": [],
   "source": [
    "#Now after developing web application we can deploy it means make it available to users."
   ]
  },
  {
   "cell_type": "code",
   "execution_count": null,
   "id": "c75d9e81",
   "metadata": {},
   "outputs": [],
   "source": [
    "#There are several web hosting platforms such as AWS ,GOOGLE CLOUD,HEROKU ETC. "
   ]
  },
  {
   "cell_type": "code",
   "execution_count": null,
   "id": "e08e4e04",
   "metadata": {},
   "outputs": [],
   "source": [
    "#Now after that we have to push the whole database code of web application to github ."
   ]
  },
  {
   "cell_type": "code",
   "execution_count": null,
   "id": "b06cd080",
   "metadata": {},
   "outputs": [],
   "source": [
    "#And from github we can choose deployment service as required and set up a continous integration/continous deployment\n",
    "#pipeline for smoother updates and after deployment a link will be generated and after going in this link same web app\n",
    "#will be seen as we have developed it through local server."
   ]
  },
  {
   "cell_type": "markdown",
   "id": "e3509fe4",
   "metadata": {},
   "source": [
    "# Queno 2"
   ]
  },
  {
   "cell_type": "markdown",
   "id": "47ca45f9",
   "metadata": {},
   "source": [
    "# Traditional Web Hosting vs Cloud Hosting"
   ]
  },
  {
   "cell_type": "code",
   "execution_count": null,
   "id": "28a50976",
   "metadata": {},
   "outputs": [],
   "source": [
    "#Cloud hosting uses network of servers in different location to host websites,while traditional web hosting uses single \n",
    "#servers or group of servers located in a single location."
   ]
  },
  {
   "cell_type": "code",
   "execution_count": null,
   "id": "aefa6bfb",
   "metadata": {},
   "outputs": [],
   "source": [
    "#Cloud hosting allows for flexible pricing structures where users only pay for their server resources while traditional\n",
    "#web hosting comes with fixed price.So cloud hsting provides unlimited resources at lower price than traditional hosting."
   ]
  },
  {
   "cell_type": "code",
   "execution_count": null,
   "id": "17b8df9e",
   "metadata": {},
   "outputs": [],
   "source": [
    "#For traditional web hosting managing and configuring servers can be complex while in cloud hosting is known for its \n",
    "#simplicity in server management."
   ]
  },
  {
   "cell_type": "code",
   "execution_count": null,
   "id": "c748b9d7",
   "metadata": {},
   "outputs": [],
   "source": [
    "#Cloud hosting can easily handle fluctuations in web traffic while traditional web hosting may have limited scalability\n",
    "#and performance."
   ]
  },
  {
   "cell_type": "markdown",
   "id": "ccddfa78",
   "metadata": {},
   "source": [
    "# Queno 3"
   ]
  },
  {
   "cell_type": "code",
   "execution_count": null,
   "id": "f0ce0601",
   "metadata": {},
   "outputs": [],
   "source": [
    "#There are many factor for choosing cloud service among them most important is cost in which users needs to be very clear\n",
    "#about the application requirements and needs to check the costing of all servicestogether and then decide."
   ]
  },
  {
   "cell_type": "code",
   "execution_count": null,
   "id": "42c172e8",
   "metadata": {},
   "outputs": [],
   "source": [
    "#User also needs to check which architecture type suits their application that is serverless,virtual machine\n",
    "#web application etc ."
   ]
  },
  {
   "cell_type": "code",
   "execution_count": null,
   "id": "afcab73a",
   "metadata": {},
   "outputs": [],
   "source": [
    "#Users also need to check perforance growth and financial condition of cloud service provider."
   ]
  },
  {
   "cell_type": "code",
   "execution_count": null,
   "id": "ab27bc44",
   "metadata": {},
   "outputs": [],
   "source": [
    "#Also user need to check which security features fit for their application and are easy to integrate."
   ]
  },
  {
   "cell_type": "markdown",
   "id": "8af2555b",
   "metadata": {},
   "source": [
    "# Queno 4"
   ]
  },
  {
   "cell_type": "code",
   "execution_count": null,
   "id": "f5ce2be2",
   "metadata": {},
   "outputs": [],
   "source": [
    "#The first step is to outline sketch of UI design in a piece of paper to know the design layout and needs ,required features\n",
    "#and how to change them rapidly."
   ]
  },
  {
   "cell_type": "code",
   "execution_count": null,
   "id": "2556cb55",
   "metadata": {},
   "outputs": [],
   "source": [
    "#After that wireframing which involves filler content ,text or images,it is very important as it helps to visualize the \n",
    "#general layout."
   ]
  },
  {
   "cell_type": "code",
   "execution_count": null,
   "id": "870828e9",
   "metadata": {},
   "outputs": [],
   "source": [
    "#After that component designing which involves various symbols(badges,buttons,logos),components(forms,card,tables) and \n",
    "#actual text."
   ]
  },
  {
   "cell_type": "code",
   "execution_count": null,
   "id": "5770d6ea",
   "metadata": {},
   "outputs": [],
   "source": [
    "#Next step is that designers use visual,copy and graphic design skills to create a high fidelity design which includes\n",
    "#all typography,labels,messaging,buttons,images and other UI elements that interface will display to user."
   ]
  },
  {
   "cell_type": "code",
   "execution_count": null,
   "id": "b83773c5",
   "metadata": {},
   "outputs": [],
   "source": [
    "#These are the steps involved in designing user interface for web application."
   ]
  },
  {
   "cell_type": "markdown",
   "id": "7571b676",
   "metadata": {},
   "source": [
    "# Queno 5"
   ]
  },
  {
   "cell_type": "code",
   "execution_count": null,
   "id": "48a7a9a9",
   "metadata": {},
   "outputs": [],
   "source": [
    "#First of all we have to decide which type of user interface we want to create."
   ]
  },
  {
   "cell_type": "code",
   "execution_count": null,
   "id": "b621c3de",
   "metadata": {},
   "outputs": [],
   "source": [
    "#Then we have to choose programming languages and framework for example python language with flask framework."
   ]
  },
  {
   "cell_type": "code",
   "execution_count": null,
   "id": "b13337fb",
   "metadata": {},
   "outputs": [],
   "source": [
    "#Then we can design user interface with tools like figma or sketch to create wireframes."
   ]
  },
  {
   "cell_type": "code",
   "execution_count": null,
   "id": "2800db9e",
   "metadata": {},
   "outputs": [],
   "source": [
    "#Then we can connect our user interface with machine learning models with the help of libraries scikit learn to integrate \n",
    "#our model into our application which is also used in classification,regression,clustering,dim reduction and model selection."
   ]
  },
  {
   "cell_type": "code",
   "execution_count": null,
   "id": "676809cc",
   "metadata": {},
   "outputs": [],
   "source": [
    "#Then we can test it and at last deploy it."
   ]
  },
  {
   "cell_type": "code",
   "execution_count": null,
   "id": "b25de34c",
   "metadata": {},
   "outputs": [],
   "source": []
  }
 ],
 "metadata": {
  "kernelspec": {
   "display_name": "Python 3 (ipykernel)",
   "language": "python",
   "name": "python3"
  },
  "language_info": {
   "codemirror_mode": {
    "name": "ipython",
    "version": 3
   },
   "file_extension": ".py",
   "mimetype": "text/x-python",
   "name": "python",
   "nbconvert_exporter": "python",
   "pygments_lexer": "ipython3",
   "version": "3.11.5"
  }
 },
 "nbformat": 4,
 "nbformat_minor": 5
}
