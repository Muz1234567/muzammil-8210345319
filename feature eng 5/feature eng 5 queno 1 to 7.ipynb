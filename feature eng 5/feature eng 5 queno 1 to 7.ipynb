{
 "cells": [
  {
   "cell_type": "markdown",
   "id": "c7a7f82e",
   "metadata": {},
   "source": [
    "# Queno1"
   ]
  },
  {
   "cell_type": "markdown",
   "id": "ce2c8810",
   "metadata": {},
   "source": [
    "# Difference between Ordinal and Label encoding"
   ]
  },
  {
   "cell_type": "code",
   "execution_count": null,
   "id": "57477f1e",
   "metadata": {},
   "outputs": [],
   "source": [
    "#Ordinal encoding and label encoding both used in categorical data but difference is that ordinal encoding is used\n",
    "#in categorical data which is in order but label encoding is used in categorical data where there is no order or it can\n",
    "#also be applied on ordinal data."
   ]
  },
  {
   "cell_type": "code",
   "execution_count": null,
   "id": "54410c82",
   "metadata": {},
   "outputs": [],
   "source": [
    "#Label encoding apply both on ordinal and nominal data while ordinal encoding only can be applied on ordinal data."
   ]
  },
  {
   "cell_type": "code",
   "execution_count": null,
   "id": "69b2e062",
   "metadata": {},
   "outputs": [],
   "source": [
    "#For example excellent,good and average are categorical value with order which is an example of ordinal data and\n",
    "#ordinal encoding would be applied in it."
   ]
  },
  {
   "cell_type": "code",
   "execution_count": null,
   "id": "8761a6c1",
   "metadata": {},
   "outputs": [],
   "source": [
    "#While label encoding works in the ordinal data as well as nominal data such different names of animal,places etc."
   ]
  },
  {
   "cell_type": "markdown",
   "id": "166954b9",
   "metadata": {},
   "source": [
    "# Queno 2"
   ]
  },
  {
   "cell_type": "markdown",
   "id": "b8bfc8a0",
   "metadata": {},
   "source": [
    "# Target guided encoding"
   ]
  },
  {
   "cell_type": "code",
   "execution_count": null,
   "id": "417171ea",
   "metadata": {},
   "outputs": [],
   "source": [
    "#Target guided encoding is best suited for ordinal data which is in order."
   ]
  },
  {
   "cell_type": "code",
   "execution_count": null,
   "id": "3b9c8b25",
   "metadata": {},
   "outputs": [],
   "source": [
    "#Target guided encoding involves sorting categories based on mean target variable for each category and then assigning\n",
    "#a numerical value to each category based on its rank."
   ]
  },
  {
   "cell_type": "code",
   "execution_count": null,
   "id": "4d2bf676",
   "metadata": {},
   "outputs": [],
   "source": [
    "#For example lets have dataset that contains information about survey of different parties and in thisone variable is \n",
    "#public response level which is of four categories excellent,verygood,good and average and the target variable of thiscase\n",
    "#is survey result of different parties."
   ]
  },
  {
   "cell_type": "code",
   "execution_count": null,
   "id": "37209c02",
   "metadata": {},
   "outputs": [],
   "source": [
    "#So after that to encode response level variable using target guided  encoding we would calculate the mean votes for\n",
    "#each response level categories as follows;\n",
    "#excellent=5000\n",
    "#very good=3500\n",
    "#good=2000\n",
    "#average=1000\n",
    "#After that we can sort the response level based on their mean votes from lowest to highest and assign ordinal numbers based\n",
    "#on their rank\n",
    "#average=1\n",
    "#good=2\n",
    "#very good=3\n",
    "#excellent=4"
   ]
  },
  {
   "cell_type": "code",
   "execution_count": null,
   "id": "1cc6c72a",
   "metadata": {},
   "outputs": [],
   "source": [
    "#So we have encoded the response level using target guided encoding and we can use these ordinal numbers as input features\n",
    "#in a machine learning model to predict survey result of different parties."
   ]
  },
  {
   "cell_type": "markdown",
   "id": "ac67063c",
   "metadata": {},
   "source": [
    "# Queno 3"
   ]
  },
  {
   "cell_type": "markdown",
   "id": "1fa27c90",
   "metadata": {},
   "source": [
    "# Covariance and its  Importance"
   ]
  },
  {
   "cell_type": "code",
   "execution_count": null,
   "id": "1029761a",
   "metadata": {},
   "outputs": [],
   "source": [
    "#Covariance is a measure of variance between two variables."
   ]
  },
  {
   "cell_type": "code",
   "execution_count": null,
   "id": "bdbd3980",
   "metadata": {},
   "outputs": [],
   "source": [
    "#Its result in two types that is positive covariance and negative covariance."
   ]
  },
  {
   "cell_type": "code",
   "execution_count": null,
   "id": "a4526c7c",
   "metadata": {},
   "outputs": [],
   "source": [
    "#Positive covariance indicates that two variables tend to move in same direction. "
   ]
  },
  {
   "cell_type": "code",
   "execution_count": null,
   "id": "3c1f1936",
   "metadata": {},
   "outputs": [],
   "source": [
    "#Negative covariance reveals two variables tend to move in inverse directions."
   ]
  },
  {
   "cell_type": "code",
   "execution_count": null,
   "id": "b97fedba",
   "metadata": {},
   "outputs": [],
   "source": [
    "#Covariance can be calculated between two random variables X and Y using formulae \n",
    "#cov(x,y)=(values of x variable-mean of x variable)(values of y variable-mean of y variable)/no of data points -1"
   ]
  },
  {
   "cell_type": "code",
   "execution_count": null,
   "id": "a8eb4376",
   "metadata": {},
   "outputs": [],
   "source": [
    "#Covariance is used to measure the degree to which two variables change together."
   ]
  },
  {
   "cell_type": "markdown",
   "id": "56a299b5",
   "metadata": {},
   "source": [
    "# Queno 4"
   ]
  },
  {
   "cell_type": "code",
   "execution_count": null,
   "id": "89b137be",
   "metadata": {},
   "outputs": [],
   "source": [
    "#First of all we have to create data frame of different columns"
   ]
  },
  {
   "cell_type": "code",
   "execution_count": 14,
   "id": "e7a03a15",
   "metadata": {},
   "outputs": [],
   "source": [
    "import pandas as pd\n",
    "data=[['red','small','wood'],['green','medium','metal'],['blue','large','plastic']]"
   ]
  },
  {
   "cell_type": "code",
   "execution_count": 15,
   "id": "e5b30c10",
   "metadata": {},
   "outputs": [],
   "source": [
    "df=pd.DataFrame(data,columns=['color','size','material'])"
   ]
  },
  {
   "cell_type": "code",
   "execution_count": 16,
   "id": "215f68bd",
   "metadata": {},
   "outputs": [
    {
     "data": {
      "text/html": [
       "<div>\n",
       "<style scoped>\n",
       "    .dataframe tbody tr th:only-of-type {\n",
       "        vertical-align: middle;\n",
       "    }\n",
       "\n",
       "    .dataframe tbody tr th {\n",
       "        vertical-align: top;\n",
       "    }\n",
       "\n",
       "    .dataframe thead th {\n",
       "        text-align: right;\n",
       "    }\n",
       "</style>\n",
       "<table border=\"1\" class=\"dataframe\">\n",
       "  <thead>\n",
       "    <tr style=\"text-align: right;\">\n",
       "      <th></th>\n",
       "      <th>color</th>\n",
       "      <th>size</th>\n",
       "      <th>material</th>\n",
       "    </tr>\n",
       "  </thead>\n",
       "  <tbody>\n",
       "    <tr>\n",
       "      <th>0</th>\n",
       "      <td>red</td>\n",
       "      <td>small</td>\n",
       "      <td>wood</td>\n",
       "    </tr>\n",
       "    <tr>\n",
       "      <th>1</th>\n",
       "      <td>green</td>\n",
       "      <td>medium</td>\n",
       "      <td>metal</td>\n",
       "    </tr>\n",
       "    <tr>\n",
       "      <th>2</th>\n",
       "      <td>blue</td>\n",
       "      <td>large</td>\n",
       "      <td>plastic</td>\n",
       "    </tr>\n",
       "  </tbody>\n",
       "</table>\n",
       "</div>"
      ],
      "text/plain": [
       "   color    size material\n",
       "0    red   small     wood\n",
       "1  green  medium    metal\n",
       "2   blue   large  plastic"
      ]
     },
     "execution_count": 16,
     "metadata": {},
     "output_type": "execute_result"
    }
   ],
   "source": [
    "df"
   ]
  },
  {
   "cell_type": "code",
   "execution_count": 17,
   "id": "11d8d497",
   "metadata": {},
   "outputs": [
    {
     "data": {
      "text/plain": [
       "array(['red', 'green', 'blue'], dtype=object)"
      ]
     },
     "execution_count": 17,
     "metadata": {},
     "output_type": "execute_result"
    }
   ],
   "source": [
    "df['color'].unique()"
   ]
  },
  {
   "cell_type": "code",
   "execution_count": null,
   "id": "51350959",
   "metadata": {},
   "outputs": [],
   "source": [
    "#so we can apply label encoding in coloumn color which is of three categorical feature that is red,gree,blue"
   ]
  },
  {
   "cell_type": "code",
   "execution_count": null,
   "id": "725522ce",
   "metadata": {},
   "outputs": [],
   "source": [
    "#after applying label encoding categorical value got replaced with numerical value."
   ]
  },
  {
   "cell_type": "code",
   "execution_count": 18,
   "id": "eccaa9f7",
   "metadata": {},
   "outputs": [],
   "source": [
    "from sklearn import preprocessing\n",
    "label_encoder=preprocessing.LabelEncoder()\n",
    "df['color']=label_encoder.fit_transform(df['color'])"
   ]
  },
  {
   "cell_type": "code",
   "execution_count": 19,
   "id": "3574d1dd",
   "metadata": {},
   "outputs": [
    {
     "data": {
      "text/plain": [
       "array([2, 1, 0])"
      ]
     },
     "execution_count": 19,
     "metadata": {},
     "output_type": "execute_result"
    }
   ],
   "source": [
    "df['color'].unique()"
   ]
  },
  {
   "cell_type": "code",
   "execution_count": null,
   "id": "c44e6022",
   "metadata": {},
   "outputs": [],
   "source": [
    "#so here we got the result of color column in which red color given high priority which is 2 and blue given low priority \n",
    "#that is 0."
   ]
  },
  {
   "cell_type": "code",
   "execution_count": null,
   "id": "a81f115b",
   "metadata": {},
   "outputs": [],
   "source": [
    "#In the same way we can calcualte the label encoding of other coloumns also that is size and material"
   ]
  },
  {
   "cell_type": "code",
   "execution_count": 8,
   "id": "9605ebbc",
   "metadata": {},
   "outputs": [],
   "source": [
    "df['size']=label_encoder.fit_transform(df['size'])"
   ]
  },
  {
   "cell_type": "code",
   "execution_count": 9,
   "id": "21332ae6",
   "metadata": {},
   "outputs": [
    {
     "data": {
      "text/plain": [
       "array([2, 1, 0])"
      ]
     },
     "execution_count": 9,
     "metadata": {},
     "output_type": "execute_result"
    }
   ],
   "source": [
    "df['size'].unique()"
   ]
  },
  {
   "cell_type": "code",
   "execution_count": null,
   "id": "76c6b976",
   "metadata": {},
   "outputs": [],
   "source": [
    "#so this the way we can do label encoding."
   ]
  },
  {
   "cell_type": "markdown",
   "id": "1845dbf1",
   "metadata": {},
   "source": [
    "# Queno5"
   ]
  },
  {
   "cell_type": "code",
   "execution_count": null,
   "id": "061d981d",
   "metadata": {},
   "outputs": [],
   "source": [
    "#First of all create dataframe with given column age and income not for education level as it is  nominal\n",
    "#categorical coloumn."
   ]
  },
  {
   "cell_type": "code",
   "execution_count": 2,
   "id": "5ff9a09f",
   "metadata": {},
   "outputs": [],
   "source": [
    "import pandas as pd"
   ]
  },
  {
   "cell_type": "code",
   "execution_count": 3,
   "id": "66246990",
   "metadata": {},
   "outputs": [],
   "source": [
    "data=[[25,34000],[30,50000],[32,55000],[35,60000]]"
   ]
  },
  {
   "cell_type": "code",
   "execution_count": 4,
   "id": "1f1bad93",
   "metadata": {},
   "outputs": [],
   "source": [
    "df=pd.DataFrame(data,columns=['Age','Income'])"
   ]
  },
  {
   "cell_type": "code",
   "execution_count": 5,
   "id": "57840d2e",
   "metadata": {},
   "outputs": [
    {
     "data": {
      "text/html": [
       "<div>\n",
       "<style scoped>\n",
       "    .dataframe tbody tr th:only-of-type {\n",
       "        vertical-align: middle;\n",
       "    }\n",
       "\n",
       "    .dataframe tbody tr th {\n",
       "        vertical-align: top;\n",
       "    }\n",
       "\n",
       "    .dataframe thead th {\n",
       "        text-align: right;\n",
       "    }\n",
       "</style>\n",
       "<table border=\"1\" class=\"dataframe\">\n",
       "  <thead>\n",
       "    <tr style=\"text-align: right;\">\n",
       "      <th></th>\n",
       "      <th>Age</th>\n",
       "      <th>Income</th>\n",
       "    </tr>\n",
       "  </thead>\n",
       "  <tbody>\n",
       "    <tr>\n",
       "      <th>0</th>\n",
       "      <td>25</td>\n",
       "      <td>34000</td>\n",
       "    </tr>\n",
       "    <tr>\n",
       "      <th>1</th>\n",
       "      <td>30</td>\n",
       "      <td>50000</td>\n",
       "    </tr>\n",
       "    <tr>\n",
       "      <th>2</th>\n",
       "      <td>32</td>\n",
       "      <td>55000</td>\n",
       "    </tr>\n",
       "    <tr>\n",
       "      <th>3</th>\n",
       "      <td>35</td>\n",
       "      <td>60000</td>\n",
       "    </tr>\n",
       "  </tbody>\n",
       "</table>\n",
       "</div>"
      ],
      "text/plain": [
       "   Age  Income\n",
       "0   25   34000\n",
       "1   30   50000\n",
       "2   32   55000\n",
       "3   35   60000"
      ]
     },
     "execution_count": 5,
     "metadata": {},
     "output_type": "execute_result"
    }
   ],
   "source": [
    "df"
   ]
  },
  {
   "cell_type": "code",
   "execution_count": null,
   "id": "ee496bf4",
   "metadata": {},
   "outputs": [],
   "source": [
    "#lets consider age as x variable and income as y variable"
   ]
  },
  {
   "cell_type": "code",
   "execution_count": null,
   "id": "d8e2d24e",
   "metadata": {},
   "outputs": [],
   "source": [
    "#now we to calculate variance of column age and column income separately."
   ]
  },
  {
   "cell_type": "code",
   "execution_count": 8,
   "id": "0d238ed2",
   "metadata": {},
   "outputs": [
    {
     "data": {
      "text/plain": [
       "17.666666666666668"
      ]
     },
     "execution_count": 8,
     "metadata": {},
     "output_type": "execute_result"
    }
   ],
   "source": [
    "df['Age'].var()\n",
    "#SO VARIANCE OF X variable is 17.66"
   ]
  },
  {
   "cell_type": "code",
   "execution_count": 9,
   "id": "f1375b7e",
   "metadata": {},
   "outputs": [
    {
     "data": {
      "text/plain": [
       "126916666.66666667"
      ]
     },
     "execution_count": 9,
     "metadata": {},
     "output_type": "execute_result"
    }
   ],
   "source": [
    "df['Income'].var()\n",
    "#so variance of y variable is 126916666.66"
   ]
  },
  {
   "cell_type": "code",
   "execution_count": null,
   "id": "968b51cc",
   "metadata": {},
   "outputs": [],
   "source": [
    "#now we have to calculate cov(x,y) \n",
    "#mean ofx variable is 30.5 and y varaible is 49,750.\n",
    "#cov(x,y)=(25-30.5)(34000-49750)+(30-30.5)(50000-49750)+(32-30.5)(55000-49750)+(35-30.5)(60000-49750)\n",
    "#-5.5*-15750+(-0.5*250)+(1.5*5250)+(4.5*10250)\n",
    "#86625-125+7875+46125\n",
    "#140,500\n",
    "#so cov(x,y)=cov(y,x)=140,500"
   ]
  },
  {
   "cell_type": "code",
   "execution_count": null,
   "id": "1e12f5c0",
   "metadata": {},
   "outputs": [],
   "source": [
    "#so 2*2 matrix will be  [varx,cov(x,y)]\n",
    "  #                     [cov(y,x),var(y)]"
   ]
  },
  {
   "cell_type": "code",
   "execution_count": null,
   "id": "bbbb0abf",
   "metadata": {},
   "outputs": [],
   "source": [
    "#so the covariance matrix of age and income would be \n",
    "# [17.66,140,500]\n",
    "# [140,500,126916666.66]"
   ]
  },
  {
   "cell_type": "markdown",
   "id": "8e711471",
   "metadata": {},
   "source": [
    "# Queno 6"
   ]
  },
  {
   "cell_type": "code",
   "execution_count": null,
   "id": "034d7187",
   "metadata": {},
   "outputs": [],
   "source": [
    "#Both label encoding method and one hot encoding can be used for variable as this is nominal categorical column \n",
    "#that is gender  and ordinal encoding can also be used in columns such as education level as it shows order and employ\n",
    "#ment status also."
   ]
  },
  {
   "cell_type": "code",
   "execution_count": null,
   "id": "2234dc77",
   "metadata": {},
   "outputs": [],
   "source": [
    "#so in this way we can transform thecategorical data in to numerical one."
   ]
  },
  {
   "cell_type": "markdown",
   "id": "3564cf0f",
   "metadata": {},
   "source": [
    "# Queno 7"
   ]
  },
  {
   "cell_type": "code",
   "execution_count": null,
   "id": "f82cfb18",
   "metadata": {},
   "outputs": [],
   "source": [
    "#here we hav two categorical column that is weather condition and wind direction we can use label encoding to covert \n",
    "#this categorical column into numeric value so that we can calculate the covariance matrix "
   ]
  },
  {
   "cell_type": "code",
   "execution_count": 10,
   "id": "521bb35a",
   "metadata": {},
   "outputs": [],
   "source": [
    "#so letscreate dataframe\n",
    "data=[[45,95,'sunny','north'],[35,90,'cloudy','south'],[30,85,'rainy','east'],[46,98,'sunny','west']]"
   ]
  },
  {
   "cell_type": "code",
   "execution_count": 11,
   "id": "5ec2d55b",
   "metadata": {},
   "outputs": [],
   "source": [
    "df1=pd.DataFrame(data,columns=['temperature','humidity','weather condition','wind direction'])"
   ]
  },
  {
   "cell_type": "code",
   "execution_count": 12,
   "id": "e1c9748c",
   "metadata": {},
   "outputs": [
    {
     "data": {
      "text/html": [
       "<div>\n",
       "<style scoped>\n",
       "    .dataframe tbody tr th:only-of-type {\n",
       "        vertical-align: middle;\n",
       "    }\n",
       "\n",
       "    .dataframe tbody tr th {\n",
       "        vertical-align: top;\n",
       "    }\n",
       "\n",
       "    .dataframe thead th {\n",
       "        text-align: right;\n",
       "    }\n",
       "</style>\n",
       "<table border=\"1\" class=\"dataframe\">\n",
       "  <thead>\n",
       "    <tr style=\"text-align: right;\">\n",
       "      <th></th>\n",
       "      <th>temperature</th>\n",
       "      <th>humidity</th>\n",
       "      <th>weather condition</th>\n",
       "      <th>wind direction</th>\n",
       "    </tr>\n",
       "  </thead>\n",
       "  <tbody>\n",
       "    <tr>\n",
       "      <th>0</th>\n",
       "      <td>45</td>\n",
       "      <td>95</td>\n",
       "      <td>sunny</td>\n",
       "      <td>north</td>\n",
       "    </tr>\n",
       "    <tr>\n",
       "      <th>1</th>\n",
       "      <td>35</td>\n",
       "      <td>90</td>\n",
       "      <td>cloudy</td>\n",
       "      <td>south</td>\n",
       "    </tr>\n",
       "    <tr>\n",
       "      <th>2</th>\n",
       "      <td>30</td>\n",
       "      <td>85</td>\n",
       "      <td>rainy</td>\n",
       "      <td>east</td>\n",
       "    </tr>\n",
       "    <tr>\n",
       "      <th>3</th>\n",
       "      <td>46</td>\n",
       "      <td>98</td>\n",
       "      <td>sunny</td>\n",
       "      <td>west</td>\n",
       "    </tr>\n",
       "  </tbody>\n",
       "</table>\n",
       "</div>"
      ],
      "text/plain": [
       "   temperature  humidity weather condition wind direction\n",
       "0           45        95             sunny          north\n",
       "1           35        90            cloudy          south\n",
       "2           30        85             rainy           east\n",
       "3           46        98             sunny           west"
      ]
     },
     "execution_count": 12,
     "metadata": {},
     "output_type": "execute_result"
    }
   ],
   "source": [
    "df1"
   ]
  },
  {
   "cell_type": "code",
   "execution_count": 25,
   "id": "220c4276",
   "metadata": {},
   "outputs": [],
   "source": [
    "#now letstake column weather condition in label encoding  \n",
    "df1['weather condition']=label_encoder.fit_transform(df1['weather condition'])"
   ]
  },
  {
   "cell_type": "code",
   "execution_count": 22,
   "id": "c315ca63",
   "metadata": {},
   "outputs": [],
   "source": [
    "df1['wind direction']=label_encoder.fit_transform(df1['wind direction'])"
   ]
  },
  {
   "cell_type": "code",
   "execution_count": 23,
   "id": "c15470af",
   "metadata": {},
   "outputs": [
    {
     "data": {
      "text/plain": [
       "array([1, 2, 0, 3])"
      ]
     },
     "execution_count": 23,
     "metadata": {},
     "output_type": "execute_result"
    }
   ],
   "source": [
    "df1['wind direction'].unique()"
   ]
  },
  {
   "cell_type": "code",
   "execution_count": null,
   "id": "24e9095e",
   "metadata": {},
   "outputs": [],
   "source": [
    "#so here we saw that column wind direction has assigned new numeric values"
   ]
  },
  {
   "cell_type": "code",
   "execution_count": 24,
   "id": "a9e2cfe6",
   "metadata": {},
   "outputs": [
    {
     "data": {
      "text/html": [
       "<div>\n",
       "<style scoped>\n",
       "    .dataframe tbody tr th:only-of-type {\n",
       "        vertical-align: middle;\n",
       "    }\n",
       "\n",
       "    .dataframe tbody tr th {\n",
       "        vertical-align: top;\n",
       "    }\n",
       "\n",
       "    .dataframe thead th {\n",
       "        text-align: right;\n",
       "    }\n",
       "</style>\n",
       "<table border=\"1\" class=\"dataframe\">\n",
       "  <thead>\n",
       "    <tr style=\"text-align: right;\">\n",
       "      <th></th>\n",
       "      <th>temperature</th>\n",
       "      <th>humidity</th>\n",
       "      <th>weather condition</th>\n",
       "      <th>wind direction</th>\n",
       "    </tr>\n",
       "  </thead>\n",
       "  <tbody>\n",
       "    <tr>\n",
       "      <th>0</th>\n",
       "      <td>45</td>\n",
       "      <td>95</td>\n",
       "      <td>2</td>\n",
       "      <td>1</td>\n",
       "    </tr>\n",
       "    <tr>\n",
       "      <th>1</th>\n",
       "      <td>35</td>\n",
       "      <td>90</td>\n",
       "      <td>0</td>\n",
       "      <td>2</td>\n",
       "    </tr>\n",
       "    <tr>\n",
       "      <th>2</th>\n",
       "      <td>30</td>\n",
       "      <td>85</td>\n",
       "      <td>1</td>\n",
       "      <td>0</td>\n",
       "    </tr>\n",
       "    <tr>\n",
       "      <th>3</th>\n",
       "      <td>46</td>\n",
       "      <td>98</td>\n",
       "      <td>2</td>\n",
       "      <td>3</td>\n",
       "    </tr>\n",
       "  </tbody>\n",
       "</table>\n",
       "</div>"
      ],
      "text/plain": [
       "   temperature  humidity  weather condition  wind direction\n",
       "0           45        95                  2               1\n",
       "1           35        90                  0               2\n",
       "2           30        85                  1               0\n",
       "3           46        98                  2               3"
      ]
     },
     "execution_count": 24,
     "metadata": {},
     "output_type": "execute_result"
    }
   ],
   "source": [
    "df1"
   ]
  },
  {
   "cell_type": "code",
   "execution_count": null,
   "id": "9a4a727d",
   "metadata": {},
   "outputs": [],
   "source": [
    "#now we can calculate covariance matrix of this dataset lets take three variables x,y andz x as temperature ,y as humidity\n",
    "#and z as weather condition."
   ]
  },
  {
   "cell_type": "code",
   "execution_count": 26,
   "id": "cb4706c7",
   "metadata": {},
   "outputs": [
    {
     "data": {
      "text/plain": [
       "60.666666666666664"
      ]
     },
     "execution_count": 26,
     "metadata": {},
     "output_type": "execute_result"
    }
   ],
   "source": [
    "df1['temperature'].var()\n",
    "#so variance ofx variable is 60.66"
   ]
  },
  {
   "cell_type": "code",
   "execution_count": 27,
   "id": "26b28d2e",
   "metadata": {},
   "outputs": [
    {
     "data": {
      "text/plain": [
       "32.666666666666664"
      ]
     },
     "execution_count": 27,
     "metadata": {},
     "output_type": "execute_result"
    }
   ],
   "source": [
    "df1['humidity'].var()\n",
    "#variance of y variable is 32.66."
   ]
  },
  {
   "cell_type": "code",
   "execution_count": 28,
   "id": "88885ae5",
   "metadata": {},
   "outputs": [
    {
     "data": {
      "text/plain": [
       "0.9166666666666666"
      ]
     },
     "execution_count": 28,
     "metadata": {},
     "output_type": "execute_result"
    }
   ],
   "source": [
    "df1['weather condition'].var()\n",
    "#variance of z variable is 0.91."
   ]
  },
  {
   "cell_type": "code",
   "execution_count": null,
   "id": "45db8482",
   "metadata": {},
   "outputs": [],
   "source": [
    "#after that we can finf cov(x,y),cov(x,z)and cov(y,z)\n",
    "#andthen put value in the form [var(x),cov(x,y),cov(x,z)]\n",
    "#                              [cov(x,y),var(y),cov(y,z)]\n",
    "#                              [cov(x,z),cov(y,z),var(z)]\n",
    "#so in this way we areableto get the covariance matrix aswehave done in que no 5. "
   ]
  },
  {
   "cell_type": "code",
   "execution_count": null,
   "id": "910746c8",
   "metadata": {},
   "outputs": [],
   "source": []
  }
 ],
 "metadata": {
  "kernelspec": {
   "display_name": "Python 3 (ipykernel)",
   "language": "python",
   "name": "python3"
  },
  "language_info": {
   "codemirror_mode": {
    "name": "ipython",
    "version": 3
   },
   "file_extension": ".py",
   "mimetype": "text/x-python",
   "name": "python",
   "nbconvert_exporter": "python",
   "pygments_lexer": "ipython3",
   "version": "3.11.5"
  }
 },
 "nbformat": 4,
 "nbformat_minor": 5
}
