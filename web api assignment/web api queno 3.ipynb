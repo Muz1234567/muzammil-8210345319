{
 "cells": [
  {
   "cell_type": "markdown",
   "id": "b1a5787b",
   "metadata": {},
   "source": [
    "# Web API"
   ]
  },
  {
   "cell_type": "code",
   "execution_count": null,
   "id": "5cb2ffec",
   "metadata": {},
   "outputs": [],
   "source": [
    "#A web API is an application programming interface(API) for either a web server or a web browser."
   ]
  },
  {
   "cell_type": "code",
   "execution_count": null,
   "id": "697ca194",
   "metadata": {},
   "outputs": [],
   "source": [
    "#It can be accesed using http protocol."
   ]
  },
  {
   "cell_type": "code",
   "execution_count": null,
   "id": "56825ea4",
   "metadata": {},
   "outputs": [],
   "source": [
    "#It is an extensible framework for building HTTP based services that can be accesed in different platforms such as web,windows,mobile etc."
   ]
  },
  {
   "cell_type": "markdown",
   "id": "c79222f4",
   "metadata": {},
   "source": [
    "# Differentiate Web API and APIs"
   ]
  },
  {
   "cell_type": "code",
   "execution_count": null,
   "id": "8f258adf",
   "metadata": {},
   "outputs": [],
   "source": [
    "#API allows to communicate two or more applications from differnt system to connect or communicate."
   ]
  },
  {
   "cell_type": "code",
   "execution_count": null,
   "id": "a3e56775",
   "metadata": {},
   "outputs": [],
   "source": [
    "#Whereas Web API is an application programming interface for the web."
   ]
  },
  {
   "cell_type": "code",
   "execution_count": null,
   "id": "3a25bfd4",
   "metadata": {},
   "outputs": [],
   "source": [
    "#An API is a set of programming code that enables data transmission between one software product and another."
   ]
  },
  {
   "cell_type": "code",
   "execution_count": null,
   "id": "b2714c55",
   "metadata": {},
   "outputs": [],
   "source": [
    "#Web APIs implements protocol specification and thus it incorporates concept like caching,URIs,response headers and various content format in it."
   ]
  },
  {
   "cell_type": "code",
   "execution_count": null,
   "id": "28e12dd3",
   "metadata": {},
   "outputs": [],
   "source": [
    "#ExampleS of Web API are GOOGLE API,YOUTUBE API,BLOGGER API,TWITTER API ETC."
   ]
  },
  {
   "cell_type": "code",
   "execution_count": null,
   "id": "73b9e242",
   "metadata": {},
   "outputs": [],
   "source": [
    "#Examples of API ARE weather snippets,pay with pal,twitter bots,travel booking app, google maps etc."
   ]
  },
  {
   "cell_type": "code",
   "execution_count": null,
   "id": "c29b85b7",
   "metadata": {},
   "outputs": [],
   "source": []
  }
 ],
 "metadata": {
  "kernelspec": {
   "display_name": "Python 3 (ipykernel)",
   "language": "python",
   "name": "python3"
  },
  "language_info": {
   "codemirror_mode": {
    "name": "ipython",
    "version": 3
   },
   "file_extension": ".py",
   "mimetype": "text/x-python",
   "name": "python",
   "nbconvert_exporter": "python",
   "pygments_lexer": "ipython3",
   "version": "3.11.5"
  }
 },
 "nbformat": 4,
 "nbformat_minor": 5
}
