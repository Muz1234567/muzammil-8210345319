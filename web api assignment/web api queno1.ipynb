{
 "cells": [
  {
   "cell_type": "markdown",
   "id": "8fbe8767",
   "metadata": {},
   "source": [
    "# DEFINITION OF API (Application Programming Interface)"
   ]
  },
  {
   "cell_type": "code",
   "execution_count": null,
   "id": "dbd12763",
   "metadata": {},
   "outputs": [],
   "source": [
    "#API is the acronym for application programming interface- a software intermediary that allows two applications to talk each other.."
   ]
  },
  {
   "cell_type": "code",
   "execution_count": null,
   "id": "6d4f6d5d",
   "metadata": {},
   "outputs": [],
   "source": [
    "#API are all around us every time we send mobile payment, or the thermostat temperature from our phone,we are using an API."
   ]
  },
  {
   "cell_type": "code",
   "execution_count": null,
   "id": "b88ec875",
   "metadata": {},
   "outputs": [],
   "source": [
    "#The term \"API\" has been generically used to describe connectivity interfaces to an application."
   ]
  },
  {
   "cell_type": "code",
   "execution_count": null,
   "id": "b6845c6b",
   "metadata": {},
   "outputs": [],
   "source": [
    "#Modern APIs adhere to specific satandards(typically HTTP and REST), which enable APIs to be developer-friendly,self-described,easily accesible."
   ]
  },
  {
   "cell_type": "code",
   "execution_count": null,
   "id": "1c682e5d",
   "metadata": {},
   "outputs": [],
   "source": [
    "#Nowadays,APIs have become so valuable that they comprise a large part of many business' revenue."
   ]
  },
  {
   "cell_type": "code",
   "execution_count": null,
   "id": "49b1356d",
   "metadata": {},
   "outputs": [],
   "source": [
    "#These companies are contributing to marketplace of thousands of APIs."
   ]
  },
  {
   "cell_type": "code",
   "execution_count": null,
   "id": "fcd7de6d",
   "metadata": {},
   "outputs": [],
   "source": [
    "#APIs help them digitize,connect and innovate across their products and services."
   ]
  },
  {
   "cell_type": "code",
   "execution_count": null,
   "id": "c67bfe0c",
   "metadata": {},
   "outputs": [],
   "source": [
    "#Incorporating APIs into buisness operations can help enhance custumor experience and improve oerational speed."
   ]
  },
  {
   "cell_type": "code",
   "execution_count": null,
   "id": "b6a6b57a",
   "metadata": {},
   "outputs": [],
   "source": []
  },
  {
   "cell_type": "code",
   "execution_count": null,
   "id": "bd7de5da",
   "metadata": {},
   "outputs": [],
   "source": []
  },
  {
   "cell_type": "code",
   "execution_count": null,
   "id": "3b6e61d7",
   "metadata": {},
   "outputs": [],
   "source": []
  },
  {
   "cell_type": "code",
   "execution_count": null,
   "id": "3988ee73",
   "metadata": {},
   "outputs": [],
   "source": []
  },
  {
   "cell_type": "code",
   "execution_count": null,
   "id": "158729c6",
   "metadata": {},
   "outputs": [],
   "source": []
  }
 ],
 "metadata": {
  "kernelspec": {
   "display_name": "Python 3 (ipykernel)",
   "language": "python",
   "name": "python3"
  },
  "language_info": {
   "codemirror_mode": {
    "name": "ipython",
    "version": 3
   },
   "file_extension": ".py",
   "mimetype": "text/x-python",
   "name": "python",
   "nbconvert_exporter": "python",
   "pygments_lexer": "ipython3",
   "version": "3.11.5"
  }
 },
 "nbformat": 4,
 "nbformat_minor": 5
}
