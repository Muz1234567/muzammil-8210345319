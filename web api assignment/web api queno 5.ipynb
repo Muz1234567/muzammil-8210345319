{
 "cells": [
  {
   "cell_type": "markdown",
   "id": "942a19de",
   "metadata": {},
   "source": [
    "# Differentiate REST And SOAP"
   ]
  },
  {
   "cell_type": "code",
   "execution_count": null,
   "id": "e2282c67",
   "metadata": {},
   "outputs": [],
   "source": [
    "#SOAP supports only XML data exchange."
   ]
  },
  {
   "cell_type": "code",
   "execution_count": null,
   "id": "84382e41",
   "metadata": {},
   "outputs": [],
   "source": [
    "#While REST supports XML,JSON,plain text,HTML."
   ]
  },
  {
   "cell_type": "code",
   "execution_count": null,
   "id": "4b92eafe",
   "metadata": {},
   "outputs": [],
   "source": [
    "#SOAP messages are larger which makes communication slower."
   ]
  },
  {
   "cell_type": "code",
   "execution_count": null,
   "id": "b00b771a",
   "metadata": {},
   "outputs": [],
   "source": [
    "#REST has faster performance due to smaller messages and caching support."
   ]
  },
  {
   "cell_type": "code",
   "execution_count": null,
   "id": "10268644",
   "metadata": {},
   "outputs": [],
   "source": [
    "#SOAP is a structured protocol."
   ]
  },
  {
   "cell_type": "code",
   "execution_count": null,
   "id": "53743f43",
   "metadata": {},
   "outputs": [],
   "source": [
    "#While REST is more flexible and less defined."
   ]
  },
  {
   "cell_type": "code",
   "execution_count": null,
   "id": "a4e7f59f",
   "metadata": {},
   "outputs": [],
   "source": [
    "#SOAP is more rigid set of messaging patterns than REST."
   ]
  },
  {
   "cell_type": "code",
   "execution_count": null,
   "id": "7d2dbe01",
   "metadata": {},
   "outputs": [],
   "source": [
    "#A cliEnt can use SOAP to create ,retrieve,update,or delete records,such as passwords,accounts,leads and custom objects from server. "
   ]
  },
  {
   "cell_type": "code",
   "execution_count": null,
   "id": "f701da9e",
   "metadata": {},
   "outputs": [],
   "source": [
    "#Client can use REST to modify and even add new items on a server using HTTP methods."
   ]
  },
  {
   "cell_type": "code",
   "execution_count": null,
   "id": "07196ab6",
   "metadata": {},
   "outputs": [],
   "source": []
  }
 ],
 "metadata": {
  "kernelspec": {
   "display_name": "Python 3 (ipykernel)",
   "language": "python",
   "name": "python3"
  },
  "language_info": {
   "codemirror_mode": {
    "name": "ipython",
    "version": 3
   },
   "file_extension": ".py",
   "mimetype": "text/x-python",
   "name": "python",
   "nbconvert_exporter": "python",
   "pygments_lexer": "ipython3",
   "version": "3.11.5"
  }
 },
 "nbformat": 4,
 "nbformat_minor": 5
}
