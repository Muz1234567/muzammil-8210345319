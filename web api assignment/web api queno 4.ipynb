{
 "cells": [
  {
   "cell_type": "markdown",
   "id": "64c8e883",
   "metadata": {},
   "source": [
    "# Rest Architecture"
   ]
  },
  {
   "cell_type": "code",
   "execution_count": null,
   "id": "3624b483",
   "metadata": {},
   "outputs": [],
   "source": [
    "#Rest is a software architectural style that defines the set of rules to be used for creating web services."
   ]
  },
  {
   "cell_type": "code",
   "execution_count": null,
   "id": "a19b331c",
   "metadata": {},
   "outputs": [],
   "source": [
    "#A Restful system consist of client who requests for resource and server who has the resources."
   ]
  },
  {
   "cell_type": "code",
   "execution_count": null,
   "id": "7e7ec5b8",
   "metadata": {},
   "outputs": [],
   "source": [
    "#There are six architectural constraints which makes any web service are:uniform interface,Stateless,Cachable,clent-server,layered system, code on demand."
   ]
  },
  {
   "cell_type": "markdown",
   "id": "1e0b619d",
   "metadata": {},
   "source": [
    "# Soap Architecture"
   ]
  },
  {
   "cell_type": "code",
   "execution_count": null,
   "id": "4bd300a1",
   "metadata": {},
   "outputs": [],
   "source": [
    "#Simple Object Access Protocol(SOAP) is a network protocol for changing structured data between nodes."
   ]
  },
  {
   "cell_type": "code",
   "execution_count": null,
   "id": "1af1dfef",
   "metadata": {},
   "outputs": [],
   "source": [
    "#It uses XML format to transfer messages."
   ]
  },
  {
   "cell_type": "code",
   "execution_count": null,
   "id": "79f7f132",
   "metadata": {},
   "outputs": [],
   "source": [
    "#It works on top application layer protocols like HTTP ARE ALREADY INSTALLED ON ALL PLATFORMS."
   ]
  },
  {
   "cell_type": "code",
   "execution_count": null,
   "id": "e6da5637",
   "metadata": {},
   "outputs": [],
   "source": [
    "#The message in XML format contains three parts envelope,header,body and fault."
   ]
  },
  {
   "cell_type": "code",
   "execution_count": null,
   "id": "cc1489f8",
   "metadata": {},
   "outputs": [],
   "source": [
    "#Soap messages are typically large and contain a lot of redundant information,which can make them slow to transit and process."
   ]
  },
  {
   "cell_type": "code",
   "execution_count": null,
   "id": "a4c45e65",
   "metadata": {},
   "outputs": [],
   "source": [
    "#It is tightly coupled to the underlying transport protocol,typically HTTP or HTTPS."
   ]
  },
  {
   "cell_type": "code",
   "execution_count": null,
   "id": "35052bfa",
   "metadata": {},
   "outputs": [],
   "source": [
    "#This can make difficult to use soap with other transport protocol."
   ]
  },
  {
   "cell_type": "code",
   "execution_count": null,
   "id": "d87255f8",
   "metadata": {},
   "outputs": [],
   "source": []
  }
 ],
 "metadata": {
  "kernelspec": {
   "display_name": "Python 3 (ipykernel)",
   "language": "python",
   "name": "python3"
  },
  "language_info": {
   "codemirror_mode": {
    "name": "ipython",
    "version": 3
   },
   "file_extension": ".py",
   "mimetype": "text/x-python",
   "name": "python",
   "nbconvert_exporter": "python",
   "pygments_lexer": "ipython3",
   "version": "3.11.5"
  }
 },
 "nbformat": 4,
 "nbformat_minor": 5
}
