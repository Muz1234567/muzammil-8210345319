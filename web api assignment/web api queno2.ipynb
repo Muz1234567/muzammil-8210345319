{
 "cells": [
  {
   "cell_type": "markdown",
   "id": "5b2154cb",
   "metadata": {},
   "source": [
    "# Advantages of APIs"
   ]
  },
  {
   "cell_type": "code",
   "execution_count": null,
   "id": "4b5e6b26",
   "metadata": {},
   "outputs": [],
   "source": [
    "#API enable different software systems to communicate with each other,regardless of their programming language."
   ]
  },
  {
   "cell_type": "code",
   "execution_count": null,
   "id": "38c52197",
   "metadata": {},
   "outputs": [],
   "source": [
    "#API driven infrastructure enable developers to reuse code and functionality from existing sofdtweare systems and reduce amount of code needs to be written from scratch."
   ]
  },
  {
   "cell_type": "code",
   "execution_count": null,
   "id": "d670e02e",
   "metadata": {},
   "outputs": [],
   "source": [
    "#APIs provide developers with greater flexibility,enabling them to choose the best programming languages and frameworks for their needs."
   ]
  },
  {
   "cell_type": "code",
   "execution_count": null,
   "id": "5b3c7f11",
   "metadata": {},
   "outputs": [],
   "source": [
    "#APIs can enable companies to create new revenue streams by providing third-party developers with access to their software system."
   ]
  },
  {
   "cell_type": "code",
   "execution_count": null,
   "id": "866b8714",
   "metadata": {},
   "outputs": [],
   "source": [
    "#API can enable third-party developers to create applications that integrate with existing software systems"
   ]
  },
  {
   "cell_type": "markdown",
   "id": "8eec90b8",
   "metadata": {},
   "source": [
    "# Disadvantages of APIs"
   ]
  },
  {
   "cell_type": "code",
   "execution_count": null,
   "id": "b13f5c73",
   "metadata": {},
   "outputs": [],
   "source": [
    "#APIs infrastructure can be vulnerable to security breaches,such as SQL injection attacks and cross-site scripting attacks,making it crucial to implement security measures."
   ]
  },
  {
   "cell_type": "code",
   "execution_count": null,
   "id": "ecd56f2a",
   "metadata": {},
   "outputs": [],
   "source": [
    "#APIs can have compatability issues between different versions of same software system which can lead to error and system failures."
   ]
  },
  {
   "cell_type": "code",
   "execution_count": null,
   "id": "0fd4f1e6",
   "metadata": {},
   "outputs": [],
   "source": [
    "#APIs can be complex,requiring significant amount of development effort to implement and maintain."
   ]
  },
  {
   "cell_type": "code",
   "execution_count": null,
   "id": "c6ac6c5e",
   "metadata": {},
   "outputs": [],
   "source": [
    "#APIs require proper governance and management to ensure they are being used correctly and consistently across different application."
   ]
  },
  {
   "cell_type": "code",
   "execution_count": null,
   "id": "812b1631",
   "metadata": {},
   "outputs": [],
   "source": [
    "#APIs rely on third-party developers to create applications that integrate with the software system."
   ]
  }
 ],
 "metadata": {
  "kernelspec": {
   "display_name": "Python 3 (ipykernel)",
   "language": "python",
   "name": "python3"
  },
  "language_info": {
   "codemirror_mode": {
    "name": "ipython",
    "version": 3
   },
   "file_extension": ".py",
   "mimetype": "text/x-python",
   "name": "python",
   "nbconvert_exporter": "python",
   "pygments_lexer": "ipython3",
   "version": "3.11.5"
  }
 },
 "nbformat": 4,
 "nbformat_minor": 5
}
