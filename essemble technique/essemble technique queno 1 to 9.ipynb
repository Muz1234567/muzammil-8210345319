{
 "cells": [
  {
   "cell_type": "markdown",
   "id": "2bfb230a",
   "metadata": {},
   "source": [
    "# Queno 1 and 2"
   ]
  },
  {
   "cell_type": "code",
   "execution_count": null,
   "id": "3e2901f2",
   "metadata": {},
   "outputs": [],
   "source": [
    "#Essemble techniques are used to improve the accuracy of results in models by combining multiple models instead of using\n",
    "#single models."
   ]
  },
  {
   "cell_type": "code",
   "execution_count": null,
   "id": "311105fd",
   "metadata": {},
   "outputs": [],
   "source": [
    "#After the model get combined its accuracy increases significantly."
   ]
  },
  {
   "cell_type": "code",
   "execution_count": null,
   "id": "c5be3587",
   "metadata": {},
   "outputs": [],
   "source": [
    "#This technique is used for regression and classification where they reduce bias and variance to boost accuracy of models."
   ]
  },
  {
   "cell_type": "code",
   "execution_count": null,
   "id": "a94a3cfc",
   "metadata": {},
   "outputs": [],
   "source": [
    "#Thats why essembling method is more popular in machine learning."
   ]
  },
  {
   "cell_type": "markdown",
   "id": "d40e1575",
   "metadata": {},
   "source": [
    "# Queno 3"
   ]
  },
  {
   "cell_type": "markdown",
   "id": "67a28e54",
   "metadata": {},
   "source": [
    "# Bagging"
   ]
  },
  {
   "cell_type": "code",
   "execution_count": null,
   "id": "26e0ac80",
   "metadata": {},
   "outputs": [],
   "source": [
    "#Bagging also known as Bootstarp Aggregating is a machine learning esemble strategy."
   ]
  },
  {
   "cell_type": "code",
   "execution_count": null,
   "id": "bc904258",
   "metadata": {},
   "outputs": [],
   "source": [
    "#It involves training multiple models independently and combining their predictions through averaging or voting."
   ]
  },
  {
   "cell_type": "code",
   "execution_count": null,
   "id": "341f3bf3",
   "metadata": {},
   "outputs": [],
   "source": [
    "#It entails generating numerous subsets of training data by employing random sampling with replacement."
   ]
  },
  {
   "cell_type": "code",
   "execution_count": null,
   "id": "5b7474f1",
   "metadata": {},
   "outputs": [],
   "source": [
    "#These subsets train multiple base learners such as decision tree,neural networks or other models."
   ]
  },
  {
   "cell_type": "code",
   "execution_count": null,
   "id": "5aa5b7eb",
   "metadata": {},
   "outputs": [],
   "source": [
    "#During prediction the outputs of these base learners are aggregated by averaging to produce final result."
   ]
  },
  {
   "cell_type": "markdown",
   "id": "d1a0af3d",
   "metadata": {},
   "source": [
    "# Queno 4"
   ]
  },
  {
   "cell_type": "markdown",
   "id": "ff2a7f7b",
   "metadata": {},
   "source": [
    "# Boosting"
   ]
  },
  {
   "cell_type": "code",
   "execution_count": null,
   "id": "e3e22666",
   "metadata": {},
   "outputs": [],
   "source": [
    "#In boosting which is an esemble technique designed to create a strong classifier by combining multiple weak classifiers."
   ]
  },
  {
   "cell_type": "code",
   "execution_count": null,
   "id": "a617c42c",
   "metadata": {},
   "outputs": [],
   "source": [
    "#This process involves building models sequentially where each new model aims to correct errors made by previous ones."
   ]
  },
  {
   "cell_type": "code",
   "execution_count": null,
   "id": "3626262e",
   "metadata": {},
   "outputs": [],
   "source": [
    "#Firstly a model is built from training data and second model is built which tries to correct the erros present in first \n",
    "#model."
   ]
  },
  {
   "cell_type": "code",
   "execution_count": null,
   "id": "f67ced09",
   "metadata": {},
   "outputs": [],
   "source": [
    "#This procedure is continued and models are added until either complete training dataset is predicted correctly. "
   ]
  },
  {
   "cell_type": "markdown",
   "id": "9eedfae7",
   "metadata": {},
   "source": [
    "# Queno 5"
   ]
  },
  {
   "cell_type": "markdown",
   "id": "07461f1b",
   "metadata": {},
   "source": [
    "# Benefits of Using Essemble technique"
   ]
  },
  {
   "cell_type": "code",
   "execution_count": null,
   "id": "cacf118d",
   "metadata": {},
   "outputs": [],
   "source": [
    "#Essemble method combine multiple heterogenous classifiers to train a meta model improving overall accuracy and performance."
   ]
  },
  {
   "cell_type": "code",
   "execution_count": null,
   "id": "7b795581",
   "metadata": {},
   "outputs": [],
   "source": [
    "#This method also use multiple learning algorithm to achieve better predictive performance,higher accuracy and low error \n",
    "#rates."
   ]
  },
  {
   "cell_type": "code",
   "execution_count": null,
   "id": "6d0c8c33",
   "metadata": {},
   "outputs": [],
   "source": [
    "#This method also reduce the risk of overfitting and underfitting by balancing the tradeoff between bias and variance\n",
    "#and by using different subsets and features of data."
   ]
  },
  {
   "cell_type": "code",
   "execution_count": null,
   "id": "488e29f9",
   "metadata": {},
   "outputs": [],
   "source": [
    "#This method also reduce the generalization error of prediction."
   ]
  },
  {
   "cell_type": "markdown",
   "id": "b78a8bae",
   "metadata": {},
   "source": [
    "# Queno 6"
   ]
  },
  {
   "cell_type": "code",
   "execution_count": null,
   "id": "32a7108f",
   "metadata": {},
   "outputs": [],
   "source": [
    "#Essemble method train multiple distinct models and then aggregate their predictions."
   ]
  },
  {
   "cell_type": "code",
   "execution_count": null,
   "id": "ff3e79a7",
   "metadata": {},
   "outputs": [],
   "source": [
    "#In this way it becomes combined model which can achieve higher accuracy than any single models."
   ]
  },
  {
   "cell_type": "code",
   "execution_count": null,
   "id": "f6b2135d",
   "metadata": {},
   "outputs": [],
   "source": [
    "#Single model classification method is fast and also takes less memory for computation but it has much unknown patterns\n",
    "#when this increases the performance of single model decreases while in essemble method model also perform well in \n",
    "#unknown patterns."
   ]
  },
  {
   "cell_type": "markdown",
   "id": "cb818ae8",
   "metadata": {},
   "source": [
    "# Queno 7 and 8"
   ]
  },
  {
   "cell_type": "code",
   "execution_count": null,
   "id": "6aad166e",
   "metadata": {},
   "outputs": [],
   "source": [
    "#For example we have sample size of 100 and we have to obtain bootstrap confidence interval of mean. "
   ]
  },
  {
   "cell_type": "code",
   "execution_count": null,
   "id": "abcb3939",
   "metadata": {},
   "outputs": [],
   "source": [
    "#So if we find it with 95% condidence interval then we have to calculate its mean at 2.5% and 97.5% percentile."
   ]
  },
  {
   "cell_type": "code",
   "execution_count": null,
   "id": "4246b788",
   "metadata": {},
   "outputs": [],
   "source": [
    "#2.5th percentile will bbe at position (0.025)(N+1) and 97.5% percentile will be at position (0.975)(N+1) now we have to\n",
    "#calculate the values of these positions which are lower and upper limits of 95% bootstrap interval of true mean"
   ]
  },
  {
   "cell_type": "code",
   "execution_count": null,
   "id": "fb2f84ac",
   "metadata": {},
   "outputs": [],
   "source": [
    "#So n=200 sp 95% confidence inderval mean is \n",
    "#0.025*201=5.025 at 5th position\n",
    "#0.975*201=195.975 at 196th position."
   ]
  },
  {
   "cell_type": "markdown",
   "id": "af8e45f3",
   "metadata": {},
   "source": [
    "# Queno 9"
   ]
  },
  {
   "cell_type": "code",
   "execution_count": null,
   "id": "849168d3",
   "metadata": {},
   "outputs": [],
   "source": [
    "#First of all we have to calculate margin of error \n",
    "#here sample size is 50 mean=15 and standard dev=2 "
   ]
  },
  {
   "cell_type": "code",
   "execution_count": null,
   "id": "b197e286",
   "metadata": {},
   "outputs": [],
   "source": [
    "#so mean=15, n=50 and s=2\n",
    "#WE have to calculate at 95% confidence level so value of z at 95% confidence level is 1.96."
   ]
  },
  {
   "cell_type": "code",
   "execution_count": null,
   "id": "02521721",
   "metadata": {},
   "outputs": [],
   "source": [
    "#Now calculate margin of error me=z*s/sqrtn\n",
    "#me=1.96*2/sqrt50\n",
    "#me=0.55"
   ]
  },
  {
   "cell_type": "code",
   "execution_count": null,
   "id": "5e3c2389",
   "metadata": {},
   "outputs": [],
   "source": [
    "#so we get margin of error 0.55\n",
    "#confidence interval=sample mean+me and sample mean-me\n",
    "#15-0.55 and 15+0.55\n",
    "#14.45 and 16.55"
   ]
  },
  {
   "cell_type": "code",
   "execution_count": null,
   "id": "0f994474",
   "metadata": {},
   "outputs": [],
   "source": [
    "#so we can say with 95% confidence level that mean height of tree would be between 14.45 and 16.55 meters."
   ]
  },
  {
   "cell_type": "code",
   "execution_count": null,
   "id": "164fe28a",
   "metadata": {},
   "outputs": [],
   "source": []
  }
 ],
 "metadata": {
  "kernelspec": {
   "display_name": "Python 3 (ipykernel)",
   "language": "python",
   "name": "python3"
  },
  "language_info": {
   "codemirror_mode": {
    "name": "ipython",
    "version": 3
   },
   "file_extension": ".py",
   "mimetype": "text/x-python",
   "name": "python",
   "nbconvert_exporter": "python",
   "pygments_lexer": "ipython3",
   "version": "3.11.5"
  }
 },
 "nbformat": 4,
 "nbformat_minor": 5
}
