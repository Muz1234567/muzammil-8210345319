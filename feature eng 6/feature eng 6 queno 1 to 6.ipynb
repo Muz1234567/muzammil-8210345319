{
 "cells": [
  {
   "cell_type": "markdown",
   "id": "1af63458",
   "metadata": {},
   "source": [
    "# Queno 1"
   ]
  },
  {
   "cell_type": "code",
   "execution_count": null,
   "id": "78a5ea6f",
   "metadata": {},
   "outputs": [],
   "source": [
    "#lets amount of time taken for study in a day be x variable and final exam score be y variable ."
   ]
  },
  {
   "cell_type": "code",
   "execution_count": 1,
   "id": "f60ef5ad",
   "metadata": {},
   "outputs": [],
   "source": [
    "#now lets create it in a dataframe\n",
    "import pandas as pd"
   ]
  },
  {
   "cell_type": "code",
   "execution_count": 3,
   "id": "5949d741",
   "metadata": {},
   "outputs": [],
   "source": [
    "data=[[6,98],[3,80],[5,99],[8,90]]\n",
    "df=pd.DataFrame(data,columns=['hours spend in a day','final exam score'])"
   ]
  },
  {
   "cell_type": "code",
   "execution_count": 4,
   "id": "0e6415f3",
   "metadata": {},
   "outputs": [
    {
     "data": {
      "text/html": [
       "<div>\n",
       "<style scoped>\n",
       "    .dataframe tbody tr th:only-of-type {\n",
       "        vertical-align: middle;\n",
       "    }\n",
       "\n",
       "    .dataframe tbody tr th {\n",
       "        vertical-align: top;\n",
       "    }\n",
       "\n",
       "    .dataframe thead th {\n",
       "        text-align: right;\n",
       "    }\n",
       "</style>\n",
       "<table border=\"1\" class=\"dataframe\">\n",
       "  <thead>\n",
       "    <tr style=\"text-align: right;\">\n",
       "      <th></th>\n",
       "      <th>hours spend in a day</th>\n",
       "      <th>final exam score</th>\n",
       "    </tr>\n",
       "  </thead>\n",
       "  <tbody>\n",
       "    <tr>\n",
       "      <th>0</th>\n",
       "      <td>6</td>\n",
       "      <td>98</td>\n",
       "    </tr>\n",
       "    <tr>\n",
       "      <th>1</th>\n",
       "      <td>3</td>\n",
       "      <td>80</td>\n",
       "    </tr>\n",
       "    <tr>\n",
       "      <th>2</th>\n",
       "      <td>5</td>\n",
       "      <td>99</td>\n",
       "    </tr>\n",
       "    <tr>\n",
       "      <th>3</th>\n",
       "      <td>8</td>\n",
       "      <td>90</td>\n",
       "    </tr>\n",
       "  </tbody>\n",
       "</table>\n",
       "</div>"
      ],
      "text/plain": [
       "   hours spend in a day  final exam score\n",
       "0                     6                98\n",
       "1                     3                80\n",
       "2                     5                99\n",
       "3                     8                90"
      ]
     },
     "execution_count": 4,
     "metadata": {},
     "output_type": "execute_result"
    }
   ],
   "source": [
    "df"
   ]
  },
  {
   "cell_type": "code",
   "execution_count": null,
   "id": "92366867",
   "metadata": {},
   "outputs": [],
   "source": [
    "#now we can calculate the corelation coefficient manually or by python letsdo it manually"
   ]
  },
  {
   "cell_type": "code",
   "execution_count": null,
   "id": "94ed92ff",
   "metadata": {},
   "outputs": [],
   "source": [
    "#lets calculate variable x*y \n",
    "#6*98=588\n",
    "#3*80=240\n",
    "#5*99=495\n",
    "#8*90=720\n",
    "#now add them all we get 2043"
   ]
  },
  {
   "cell_type": "code",
   "execution_count": null,
   "id": "3c53a2c1",
   "metadata": {},
   "outputs": [],
   "source": [
    "#now we have to square value of x variable\n",
    "#6*6=36\n",
    "#3*3=9\n",
    "#5*5=25\n",
    "#8*8=64\n",
    "#now add them all we get 134"
   ]
  },
  {
   "cell_type": "code",
   "execution_count": null,
   "id": "d2d8ed3f",
   "metadata": {},
   "outputs": [],
   "source": [
    "#now wehave to square value of y variable\n",
    "#98*98=9604\n",
    "#80*80=6400\n",
    "#99*99=9801\n",
    "#90*90=8100\n",
    "#now add them all we get 33905 "
   ]
  },
  {
   "cell_type": "code",
   "execution_count": null,
   "id": "32d1e3ff",
   "metadata": {},
   "outputs": [],
   "source": [
    "#now we can use this formulae to find pearson corelation coefficient\n",
    "#formulae=no of data value*product of x and y variable-(sum of value of x variable)(sum of value of y variable)/\n",
    "#sqrt [no of data value*square of x variable-square of sum of x variable][no of data value*sqaure of y variable-square of \n",
    "#sum of y variable]"
   ]
  },
  {
   "cell_type": "code",
   "execution_count": null,
   "id": "fc12e44b",
   "metadata": {},
   "outputs": [],
   "source": [
    "#now we can put the given in this formuale\n",
    "#result=4*2043-22*367/sqrt [4*134-484][4*33905-134689]\n",
    "#98/sqrt[52][135620-134689]\n",
    "#98/sqrt[52][931]\n",
    "#we get 0.44\n",
    "#it is considered to be moderately corelated.\n"
   ]
  },
  {
   "cell_type": "markdown",
   "id": "e22247e9",
   "metadata": {},
   "source": [
    "# Queno2"
   ]
  },
  {
   "cell_type": "code",
   "execution_count": null,
   "id": "77b8d261",
   "metadata": {},
   "outputs": [],
   "source": [
    "#We can calculate spearmen corelation using scipy.stats and lets take amount of time of sleep as x variable and rating scal\n",
    "#e as y variable."
   ]
  },
  {
   "cell_type": "code",
   "execution_count": 1,
   "id": "8b246884",
   "metadata": {},
   "outputs": [],
   "source": [
    "x=[5,8,4,3,6,1]\n",
    "#amount of hours of sleep in x variable\n",
    "y=[3,7,5,4,7,2]\n",
    "#rating scale given by each individual in y variable"
   ]
  },
  {
   "cell_type": "code",
   "execution_count": 2,
   "id": "a425f9b5",
   "metadata": {},
   "outputs": [],
   "source": [
    "from scipy.stats import spearmanr"
   ]
  },
  {
   "cell_type": "code",
   "execution_count": 3,
   "id": "7df0d51b",
   "metadata": {},
   "outputs": [
    {
     "data": {
      "text/plain": [
       "SignificanceResult(statistic=0.8116794499134279, pvalue=0.04985758510134035)"
      ]
     },
     "execution_count": 3,
     "metadata": {},
     "output_type": "execute_result"
    }
   ],
   "source": [
    "spearmanr(x,y)"
   ]
  },
  {
   "cell_type": "code",
   "execution_count": null,
   "id": "41b4558d",
   "metadata": {},
   "outputs": [],
   "source": [
    "#so with thehelp of scipy function we got the result of spearmen rank corelation is 0.811."
   ]
  },
  {
   "cell_type": "code",
   "execution_count": null,
   "id": "ba985578",
   "metadata": {},
   "outputs": [],
   "source": [
    "#SO as the value of spearman corelation is 0.811 which proves that both variable x and y have strong monotonic increasing\n",
    "#relationship."
   ]
  },
  {
   "cell_type": "markdown",
   "id": "8549e01a",
   "metadata": {},
   "source": [
    "# Queno 3"
   ]
  },
  {
   "cell_type": "code",
   "execution_count": null,
   "id": "19cf0e16",
   "metadata": {},
   "outputs": [],
   "source": [
    "#here in this case also take two variable xand y x variable as hours spent in excercise per week and y variable as \n",
    "#as bmi of individual spending timwe in exercise."
   ]
  },
  {
   "cell_type": "code",
   "execution_count": 4,
   "id": "5dd6dfe9",
   "metadata": {},
   "outputs": [],
   "source": [
    "import numpy as np"
   ]
  },
  {
   "cell_type": "code",
   "execution_count": 6,
   "id": "aa872067",
   "metadata": {},
   "outputs": [
    {
     "data": {
      "text/plain": [
       "array([14.        , 14.08163265, 14.16326531, 14.24489796, 14.32653061,\n",
       "       14.40816327, 14.48979592, 14.57142857, 14.65306122, 14.73469388,\n",
       "       14.81632653, 14.89795918, 14.97959184, 15.06122449, 15.14285714,\n",
       "       15.2244898 , 15.30612245, 15.3877551 , 15.46938776, 15.55102041,\n",
       "       15.63265306, 15.71428571, 15.79591837, 15.87755102, 15.95918367,\n",
       "       16.04081633, 16.12244898, 16.20408163, 16.28571429, 16.36734694,\n",
       "       16.44897959, 16.53061224, 16.6122449 , 16.69387755, 16.7755102 ,\n",
       "       16.85714286, 16.93877551, 17.02040816, 17.10204082, 17.18367347,\n",
       "       17.26530612, 17.34693878, 17.42857143, 17.51020408, 17.59183673,\n",
       "       17.67346939, 17.75510204, 17.83673469, 17.91836735, 18.        ])"
      ]
     },
     "execution_count": 6,
     "metadata": {},
     "output_type": "execute_result"
    }
   ],
   "source": [
    "x=np.linspace(14,18,num=50)\n",
    "x\n",
    "#so this is the hours spent in a week fro 14 to 18 of 50 person in x variable."
   ]
  },
  {
   "cell_type": "code",
   "execution_count": 7,
   "id": "1fd0b4f0",
   "metadata": {},
   "outputs": [],
   "source": [
    "y=np.linspace(18,24,num=50)"
   ]
  },
  {
   "cell_type": "code",
   "execution_count": 8,
   "id": "1656ba94",
   "metadata": {},
   "outputs": [
    {
     "data": {
      "text/plain": [
       "array([18.        , 18.12244898, 18.24489796, 18.36734694, 18.48979592,\n",
       "       18.6122449 , 18.73469388, 18.85714286, 18.97959184, 19.10204082,\n",
       "       19.2244898 , 19.34693878, 19.46938776, 19.59183673, 19.71428571,\n",
       "       19.83673469, 19.95918367, 20.08163265, 20.20408163, 20.32653061,\n",
       "       20.44897959, 20.57142857, 20.69387755, 20.81632653, 20.93877551,\n",
       "       21.06122449, 21.18367347, 21.30612245, 21.42857143, 21.55102041,\n",
       "       21.67346939, 21.79591837, 21.91836735, 22.04081633, 22.16326531,\n",
       "       22.28571429, 22.40816327, 22.53061224, 22.65306122, 22.7755102 ,\n",
       "       22.89795918, 23.02040816, 23.14285714, 23.26530612, 23.3877551 ,\n",
       "       23.51020408, 23.63265306, 23.75510204, 23.87755102, 24.        ])"
      ]
     },
     "execution_count": 8,
     "metadata": {},
     "output_type": "execute_result"
    }
   ],
   "source": [
    "y\n",
    "#so this isthe bmi of 50 individual doing exercise."
   ]
  },
  {
   "cell_type": "code",
   "execution_count": 10,
   "id": "52382efb",
   "metadata": {},
   "outputs": [],
   "source": [
    "#so first of all calculate covariance of x and y \n",
    "from numpy import cov\n",
    "covariance_of_x_and_y=cov(x,y)"
   ]
  },
  {
   "cell_type": "code",
   "execution_count": 11,
   "id": "d2d68ae6",
   "metadata": {},
   "outputs": [
    {
     "data": {
      "text/plain": [
       "array([[1.41607663, 2.12411495],\n",
       "       [2.12411495, 3.18617243]])"
      ]
     },
     "execution_count": 11,
     "metadata": {},
     "output_type": "execute_result"
    }
   ],
   "source": [
    "covariance_of_x_and_y"
   ]
  },
  {
   "cell_type": "code",
   "execution_count": null,
   "id": "d5069743",
   "metadata": {},
   "outputs": [],
   "source": [
    "#so the cov of x and y is 2.12 and now we have to calculate stasndard deviation of x and y."
   ]
  },
  {
   "cell_type": "code",
   "execution_count": 13,
   "id": "072fd78f",
   "metadata": {},
   "outputs": [
    {
     "data": {
      "text/plain": [
       "1.18999018262149"
      ]
     },
     "execution_count": 13,
     "metadata": {},
     "output_type": "execute_result"
    }
   ],
   "source": [
    "import statistics\n",
    "statistics.stdev(x)\n",
    "#so standard deviation of x variable is 1.18"
   ]
  },
  {
   "cell_type": "code",
   "execution_count": 14,
   "id": "2a6c6984",
   "metadata": {},
   "outputs": [
    {
     "data": {
      "text/plain": [
       "1.7849852739322347"
      ]
     },
     "execution_count": 14,
     "metadata": {},
     "output_type": "execute_result"
    }
   ],
   "source": [
    "statistics.stdev(y)\n",
    "#standard deviation of y variable is 1`.78"
   ]
  },
  {
   "cell_type": "code",
   "execution_count": 16,
   "id": "15c42a44",
   "metadata": {},
   "outputs": [
    {
     "data": {
      "text/plain": [
       "2.1004"
      ]
     },
     "execution_count": 16,
     "metadata": {},
     "output_type": "execute_result"
    }
   ],
   "source": [
    "#now we can multiply standard deviation of x and y\n",
    "result=1.18*1.78\n",
    "result\n",
    "#so we got the result that is 2.10"
   ]
  },
  {
   "cell_type": "code",
   "execution_count": 18,
   "id": "e8234601",
   "metadata": {},
   "outputs": [
    {
     "data": {
      "text/plain": [
       "1.0095238095238095"
      ]
     },
     "execution_count": 18,
     "metadata": {},
     "output_type": "execute_result"
    }
   ],
   "source": [
    "#so for pearson corelation we have to do cov(x,y)/std(x*std(y))\n",
    "pearson_core=2.12/2.10\n",
    "pearson_core\n",
    "#so here value is 1.00 whichs total positive corelation."
   ]
  },
  {
   "cell_type": "code",
   "execution_count": null,
   "id": "5ccdd96b",
   "metadata": {},
   "outputs": [],
   "source": [
    "#so here we got the result 1.00 as pearson corelation coefficient orwe can also calculate it using scipy library"
   ]
  },
  {
   "cell_type": "code",
   "execution_count": 19,
   "id": "7a73718e",
   "metadata": {},
   "outputs": [
    {
     "data": {
      "text/plain": [
       "SignificanceResult(statistic=0.9999999999999999, pvalue=0.0)"
      ]
     },
     "execution_count": 19,
     "metadata": {},
     "output_type": "execute_result"
    }
   ],
   "source": [
    "#now for calculating spearman rank corelation\n",
    "spearmanr(x,y)\n",
    "#so we got spearman rank corelation value that is 0.99 which showsstrong increasing monotonic relationship."
   ]
  },
  {
   "cell_type": "markdown",
   "id": "fffc50a8",
   "metadata": {},
   "source": [
    "# Queno 4"
   ]
  },
  {
   "cell_type": "code",
   "execution_count": null,
   "id": "71720433",
   "metadata": {},
   "outputs": [],
   "source": [
    "#same here we have to take x and y as vasriable x as no of hours spend in watching tv and y as their level of physical\n",
    "#activity"
   ]
  },
  {
   "cell_type": "code",
   "execution_count": 20,
   "id": "dc3b9e76",
   "metadata": {},
   "outputs": [],
   "source": [
    "x=np.linspace(5,8,50)"
   ]
  },
  {
   "cell_type": "code",
   "execution_count": 21,
   "id": "f82b6b7a",
   "metadata": {},
   "outputs": [
    {
     "data": {
      "text/plain": [
       "array([5.        , 5.06122449, 5.12244898, 5.18367347, 5.24489796,\n",
       "       5.30612245, 5.36734694, 5.42857143, 5.48979592, 5.55102041,\n",
       "       5.6122449 , 5.67346939, 5.73469388, 5.79591837, 5.85714286,\n",
       "       5.91836735, 5.97959184, 6.04081633, 6.10204082, 6.16326531,\n",
       "       6.2244898 , 6.28571429, 6.34693878, 6.40816327, 6.46938776,\n",
       "       6.53061224, 6.59183673, 6.65306122, 6.71428571, 6.7755102 ,\n",
       "       6.83673469, 6.89795918, 6.95918367, 7.02040816, 7.08163265,\n",
       "       7.14285714, 7.20408163, 7.26530612, 7.32653061, 7.3877551 ,\n",
       "       7.44897959, 7.51020408, 7.57142857, 7.63265306, 7.69387755,\n",
       "       7.75510204, 7.81632653, 7.87755102, 7.93877551, 8.        ])"
      ]
     },
     "execution_count": 21,
     "metadata": {},
     "output_type": "execute_result"
    }
   ],
   "source": [
    "x \n",
    "#so here no of hours spent by in 50 individuals in a day "
   ]
  },
  {
   "cell_type": "code",
   "execution_count": 24,
   "id": "21678e52",
   "metadata": {},
   "outputs": [],
   "source": [
    "y=np.linspace(8,1,50)"
   ]
  },
  {
   "cell_type": "code",
   "execution_count": 25,
   "id": "17aab62b",
   "metadata": {},
   "outputs": [
    {
     "data": {
      "text/plain": [
       "array([8.        , 7.85714286, 7.71428571, 7.57142857, 7.42857143,\n",
       "       7.28571429, 7.14285714, 7.        , 6.85714286, 6.71428571,\n",
       "       6.57142857, 6.42857143, 6.28571429, 6.14285714, 6.        ,\n",
       "       5.85714286, 5.71428571, 5.57142857, 5.42857143, 5.28571429,\n",
       "       5.14285714, 5.        , 4.85714286, 4.71428571, 4.57142857,\n",
       "       4.42857143, 4.28571429, 4.14285714, 4.        , 3.85714286,\n",
       "       3.71428571, 3.57142857, 3.42857143, 3.28571429, 3.14285714,\n",
       "       3.        , 2.85714286, 2.71428571, 2.57142857, 2.42857143,\n",
       "       2.28571429, 2.14285714, 2.        , 1.85714286, 1.71428571,\n",
       "       1.57142857, 1.42857143, 1.28571429, 1.14285714, 1.        ])"
      ]
     },
     "execution_count": 25,
     "metadata": {},
     "output_type": "execute_result"
    }
   ],
   "source": [
    "y\n",
    "#so this is their level of physical activity from 8 to 1."
   ]
  },
  {
   "cell_type": "code",
   "execution_count": 26,
   "id": "e589e5ae",
   "metadata": {},
   "outputs": [],
   "source": [
    "#now for finding pearson corelation we have\n",
    "from scipy.stats import pearsonr"
   ]
  },
  {
   "cell_type": "code",
   "execution_count": 27,
   "id": "1eda1663",
   "metadata": {},
   "outputs": [
    {
     "data": {
      "text/plain": [
       "PearsonRResult(statistic=-1.0, pvalue=0.0)"
      ]
     },
     "execution_count": 27,
     "metadata": {},
     "output_type": "execute_result"
    }
   ],
   "source": [
    "pearsonr(x,y)"
   ]
  },
  {
   "cell_type": "code",
   "execution_count": null,
   "id": "b3d864aa",
   "metadata": {},
   "outputs": [],
   "source": [
    "#so here value of pearson corelation is -1 which shows which shows total negative linear corelation."
   ]
  },
  {
   "cell_type": "markdown",
   "id": "a51a4389",
   "metadata": {},
   "source": [
    "# Queno 5"
   ]
  },
  {
   "cell_type": "code",
   "execution_count": null,
   "id": "5e17f7c2",
   "metadata": {},
   "outputs": [],
   "source": [
    "#this data shows coke softdrink is most preferred among adults."
   ]
  },
  {
   "cell_type": "code",
   "execution_count": null,
   "id": "bef65f3c",
   "metadata": {},
   "outputs": [],
   "source": [
    "#while pepsi is prefereble to middle aged and adult both."
   ]
  },
  {
   "cell_type": "code",
   "execution_count": null,
   "id": "12b76ed3",
   "metadata": {},
   "outputs": [],
   "source": [
    "#Another softdrink that is mountain dew is not popular among adults but it is preferable by middleaged people."
   ]
  },
  {
   "cell_type": "markdown",
   "id": "8233c18d",
   "metadata": {},
   "source": [
    "# Queno 6"
   ]
  },
  {
   "cell_type": "code",
   "execution_count": null,
   "id": "94cf7552",
   "metadata": {},
   "outputs": [],
   "source": [
    "#consider two variables x and y and x as no of sale calls made per day while y as no of sales made per week."
   ]
  },
  {
   "cell_type": "code",
   "execution_count": 31,
   "id": "891a5403",
   "metadata": {},
   "outputs": [],
   "source": [
    "x=np.linspace(50,60,30)"
   ]
  },
  {
   "cell_type": "code",
   "execution_count": 32,
   "id": "f2067e5d",
   "metadata": {},
   "outputs": [
    {
     "data": {
      "text/plain": [
       "array([50.        , 50.34482759, 50.68965517, 51.03448276, 51.37931034,\n",
       "       51.72413793, 52.06896552, 52.4137931 , 52.75862069, 53.10344828,\n",
       "       53.44827586, 53.79310345, 54.13793103, 54.48275862, 54.82758621,\n",
       "       55.17241379, 55.51724138, 55.86206897, 56.20689655, 56.55172414,\n",
       "       56.89655172, 57.24137931, 57.5862069 , 57.93103448, 58.27586207,\n",
       "       58.62068966, 58.96551724, 59.31034483, 59.65517241, 60.        ])"
      ]
     },
     "execution_count": 32,
     "metadata": {},
     "output_type": "execute_result"
    }
   ],
   "source": [
    "x"
   ]
  },
  {
   "cell_type": "code",
   "execution_count": 34,
   "id": "464b4c97",
   "metadata": {},
   "outputs": [
    {
     "data": {
      "text/plain": [
       "array([50., 50., 50., 50., 50., 50., 50., 50., 50., 50., 50., 50., 50.,\n",
       "       50., 50., 60., 60., 60., 60., 60., 60., 60., 60., 60., 60., 60.,\n",
       "       60., 60., 60., 60.])"
      ]
     },
     "execution_count": 34,
     "metadata": {},
     "output_type": "execute_result"
    }
   ],
   "source": [
    "x1=np.round(x,decimals=-1)\n",
    "x1 \n",
    "#so here we got no of sales call per day of 30 repreesentatives in x1 variable."
   ]
  },
  {
   "cell_type": "code",
   "execution_count": 36,
   "id": "dc56066e",
   "metadata": {},
   "outputs": [
    {
     "data": {
      "text/plain": [
       "array([40.        , 40.51724138, 41.03448276, 41.55172414, 42.06896552,\n",
       "       42.5862069 , 43.10344828, 43.62068966, 44.13793103, 44.65517241,\n",
       "       45.17241379, 45.68965517, 46.20689655, 46.72413793, 47.24137931,\n",
       "       47.75862069, 48.27586207, 48.79310345, 49.31034483, 49.82758621,\n",
       "       50.34482759, 50.86206897, 51.37931034, 51.89655172, 52.4137931 ,\n",
       "       52.93103448, 53.44827586, 53.96551724, 54.48275862, 55.        ])"
      ]
     },
     "execution_count": 36,
     "metadata": {},
     "output_type": "execute_result"
    }
   ],
   "source": [
    "y=np.linspace(40,55,30)\n",
    "y"
   ]
  },
  {
   "cell_type": "code",
   "execution_count": 38,
   "id": "f8221aa5",
   "metadata": {},
   "outputs": [
    {
     "data": {
      "text/plain": [
       "array([40., 40., 40., 40., 40., 40., 40., 40., 40., 40., 50., 50., 50.,\n",
       "       50., 50., 50., 50., 50., 50., 50., 50., 50., 50., 50., 50., 50.,\n",
       "       50., 50., 50., 60.])"
      ]
     },
     "execution_count": 38,
     "metadata": {},
     "output_type": "execute_result"
    }
   ],
   "source": [
    "y1=np.round(y,decimals=-1)\n",
    "y1\n",
    "#so this is amount of sales per week of 30 representatives in y variable."
   ]
  },
  {
   "cell_type": "code",
   "execution_count": 40,
   "id": "2cd7e5ea",
   "metadata": {},
   "outputs": [
    {
     "data": {
      "text/plain": [
       "PearsonRResult(statistic=0.6970966755769258, pvalue=1.8668833881048666e-05)"
      ]
     },
     "execution_count": 40,
     "metadata": {},
     "output_type": "execute_result"
    }
   ],
   "source": [
    "#now we calculate using scipy\n",
    "pearsonr(x1,y1)"
   ]
  },
  {
   "cell_type": "code",
   "execution_count": null,
   "id": "1074f8cd",
   "metadata": {},
   "outputs": [],
   "source": [
    "#so here value of pearson corelation is 0.69 which shows both variable is strongly corelated."
   ]
  },
  {
   "cell_type": "code",
   "execution_count": null,
   "id": "322890ec",
   "metadata": {},
   "outputs": [],
   "source": []
  }
 ],
 "metadata": {
  "kernelspec": {
   "display_name": "Python 3 (ipykernel)",
   "language": "python",
   "name": "python3"
  },
  "language_info": {
   "codemirror_mode": {
    "name": "ipython",
    "version": 3
   },
   "file_extension": ".py",
   "mimetype": "text/x-python",
   "name": "python",
   "nbconvert_exporter": "python",
   "pygments_lexer": "ipython3",
   "version": "3.11.5"
  }
 },
 "nbformat": 4,
 "nbformat_minor": 5
}
