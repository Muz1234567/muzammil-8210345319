{
 "cells": [
  {
   "cell_type": "markdown",
   "id": "82553a7a",
   "metadata": {},
   "source": [
    "# Queno 1"
   ]
  },
  {
   "cell_type": "code",
   "execution_count": 2,
   "id": "f6523b8a",
   "metadata": {},
   "outputs": [
    {
     "data": {
      "text/plain": [
       "array([20, 25, 50, 65, 76, 87])"
      ]
     },
     "execution_count": 2,
     "metadata": {},
     "output_type": "execute_result"
    }
   ],
   "source": [
    "import numpy as np\n",
    "import scipy.stats as stats\n",
    "group1=np.array([20,25,50,65,76,87]) #create two group array\n",
    "group1"
   ]
  },
  {
   "cell_type": "code",
   "execution_count": 4,
   "id": "e0a6fdeb",
   "metadata": {},
   "outputs": [
    {
     "data": {
      "text/plain": [
       "array([89, 90, 56, 76, 87, 34])"
      ]
     },
     "execution_count": 4,
     "metadata": {},
     "output_type": "execute_result"
    }
   ],
   "source": [
    "group2=np.array([89,90,56,76,87,34])\n",
    "group2"
   ]
  },
  {
   "cell_type": "code",
   "execution_count": 6,
   "id": "2bc539d7",
   "metadata": {},
   "outputs": [
    {
     "data": {
      "text/plain": [
       "741.3666666666666"
      ]
     },
     "execution_count": 6,
     "metadata": {},
     "output_type": "execute_result"
    }
   ],
   "source": [
    "variance1=np.var(group1,ddof=1) #calculating variance of two group with deltas of freedom 1 \n",
    "variance1"
   ]
  },
  {
   "cell_type": "code",
   "execution_count": 8,
   "id": "688f8f89",
   "metadata": {},
   "outputs": [
    {
     "data": {
      "text/plain": [
       "510.8"
      ]
     },
     "execution_count": 8,
     "metadata": {},
     "output_type": "execute_result"
    }
   ],
   "source": [
    "variance2=np.var(group2,ddof=1)\n",
    "variance2"
   ]
  },
  {
   "cell_type": "code",
   "execution_count": 9,
   "id": "0c2e8cb9",
   "metadata": {},
   "outputs": [
    {
     "data": {
      "text/plain": [
       "1.4513834507961365"
      ]
     },
     "execution_count": 9,
     "metadata": {},
     "output_type": "execute_result"
    }
   ],
   "source": [
    "f_value=variance1/variance2\n",
    "f_value #f statistic value is 1.45"
   ]
  },
  {
   "cell_type": "code",
   "execution_count": 10,
   "id": "143da3c1",
   "metadata": {},
   "outputs": [
    {
     "data": {
      "text/plain": [
       "5"
      ]
     },
     "execution_count": 10,
     "metadata": {},
     "output_type": "execute_result"
    }
   ],
   "source": [
    "df1=len(group1)-1  #df1 and df2 isdegrees of freedom for group1 and group 2\n",
    "df1"
   ]
  },
  {
   "cell_type": "code",
   "execution_count": 11,
   "id": "1e9e49d3",
   "metadata": {},
   "outputs": [
    {
     "data": {
      "text/plain": [
       "5"
      ]
     },
     "execution_count": 11,
     "metadata": {},
     "output_type": "execute_result"
    }
   ],
   "source": [
    "df2=len(group2)-1\n",
    "df2"
   ]
  },
  {
   "cell_type": "code",
   "execution_count": 12,
   "id": "4b586e71",
   "metadata": {},
   "outputs": [
    {
     "data": {
      "text/plain": [
       "0.653661794984314"
      ]
     },
     "execution_count": 12,
     "metadata": {},
     "output_type": "execute_result"
    }
   ],
   "source": [
    "p_value=stats.f.cdf(f_value,df1,df2)\n",
    "p_value #this p value"
   ]
  },
  {
   "cell_type": "code",
   "execution_count": null,
   "id": "14133c42",
   "metadata": {},
   "outputs": [],
   "source": [
    "#hence we got p value 0.653 and f statistic 1.45 by variance ratio test."
   ]
  },
  {
   "cell_type": "markdown",
   "id": "6c5ea614",
   "metadata": {},
   "source": [
    "# Que no 2"
   ]
  },
  {
   "cell_type": "code",
   "execution_count": 14,
   "id": "d87bfa01",
   "metadata": {},
   "outputs": [],
   "source": [
    "result=stats.f.ppf(q=1-.05,dfn=6,dfd=9) #dfn is degrees offreedom in numerator\n",
    "                                        #dfd is degrees of freedom in denominator\n",
    "                                         #q=1-alpha"
   ]
  },
  {
   "cell_type": "code",
   "execution_count": 16,
   "id": "9ead846c",
   "metadata": {},
   "outputs": [
    {
     "name": "stdout",
     "output_type": "stream",
     "text": [
      "critical f value: 3.373753647039214\n"
     ]
    }
   ],
   "source": [
    "print('critical f value:',result) #below is critical f value"
   ]
  },
  {
   "cell_type": "markdown",
   "id": "ebfe3f00",
   "metadata": {},
   "source": [
    "# Queno 3"
   ]
  },
  {
   "cell_type": "code",
   "execution_count": 1,
   "id": "7e7bb69a",
   "metadata": {},
   "outputs": [],
   "source": [
    "import math\n",
    "from random import gauss"
   ]
  },
  {
   "cell_type": "code",
   "execution_count": 47,
   "id": "3616c864",
   "metadata": {},
   "outputs": [
    {
     "data": {
      "text/plain": [
       "[5.733910956906093,\n",
       " 11.345073380972046,\n",
       " 7.1079469777450495,\n",
       " 8.75642089963577,\n",
       " 16.41269789680089,\n",
       " 9.864988769253765,\n",
       " 9.60290645862761,\n",
       " 11.04636564835059,\n",
       " 7.412242118207152,\n",
       " 8.566005866319578,\n",
       " 9.450732096196507,\n",
       " 11.928257650972737,\n",
       " 10.733306070153425,\n",
       " 13.037990429683497,\n",
       " 8.17421888281543,\n",
       " 7.8614792606355195,\n",
       " 10.46099307268746,\n",
       " 8.73444701651419,\n",
       " 10.861342158461127,\n",
       " 11.797734138198718,\n",
       " 15.178613007084516,\n",
       " 12.157705162478818,\n",
       " 8.361088414896733,\n",
       " 11.300020551919458,\n",
       " 15.384267082537143,\n",
       " 8.718712634232961,\n",
       " 7.059269014129853,\n",
       " 12.829077450015234,\n",
       " 5.655521274427086,\n",
       " 4.42442758141944,\n",
       " 15.217559575079123,\n",
       " 8.646442067297777,\n",
       " 9.745435027990775,\n",
       " 7.700490306474789,\n",
       " 11.32385762184915,\n",
       " 5.933630614112908,\n",
       " 9.377411903242617,\n",
       " 8.498912650226092,\n",
       " 10.384322852667752,\n",
       " 7.622829884834909,\n",
       " 10.411576650266257,\n",
       " 11.480396444505867,\n",
       " 10.924720897815458,\n",
       " 4.893213626096908,\n",
       " 7.42905458741463,\n",
       " 8.58383711379194,\n",
       " 6.527404324857725,\n",
       " 6.2243118954944245,\n",
       " 8.494460412932998,\n",
       " 3.9807146487676484]"
      ]
     },
     "execution_count": 47,
     "metadata": {},
     "output_type": "execute_result"
    }
   ],
   "source": [
    "mean=10\n",
    "variance=7\n",
    "sample1=[gauss(10,math.sqrt(7)) for i in range(50)]\n",
    "sample1 #so we have create sample with known variance 7 and mean 10"
   ]
  },
  {
   "cell_type": "code",
   "execution_count": 53,
   "id": "0ec7bb13",
   "metadata": {},
   "outputs": [
    {
     "data": {
      "text/plain": [
       "7.826108083192504"
      ]
     },
     "execution_count": 53,
     "metadata": {},
     "output_type": "execute_result"
    }
   ],
   "source": [
    "var1=np.var(sample1)\n",
    "var1#so its variance is near to 7"
   ]
  },
  {
   "cell_type": "code",
   "execution_count": 49,
   "id": "db2ebb7b",
   "metadata": {},
   "outputs": [
    {
     "data": {
      "text/plain": [
       "[21.289766036459156,\n",
       " 12.230432639540235,\n",
       " 16.501220119542392,\n",
       " 11.97591981098811,\n",
       " 16.637457571472012,\n",
       " 16.014544431571334,\n",
       " 10.379871479699055,\n",
       " 14.75990915498408,\n",
       " 13.668162290224615,\n",
       " 17.736873195805366,\n",
       " 13.715316270491897,\n",
       " 17.404260646783104,\n",
       " 15.897163719945421,\n",
       " 16.450504060112657,\n",
       " 15.476792316771322,\n",
       " 18.161132585697565,\n",
       " 14.24121949776837,\n",
       " 9.746247323511476,\n",
       " 17.767117304183444,\n",
       " 15.677286252088095,\n",
       " 20.02109398409305,\n",
       " 11.815177953232869,\n",
       " 10.387888783227268,\n",
       " 17.535272290387805,\n",
       " 15.216808984836753,\n",
       " 13.891382595695912,\n",
       " 16.41491552196493,\n",
       " 17.827850949639917,\n",
       " 16.16913522121394,\n",
       " 18.419624343523434,\n",
       " 15.136780746250173,\n",
       " 15.322110385038956,\n",
       " 15.448582567018875,\n",
       " 16.026033804480537,\n",
       " 16.879776285263326,\n",
       " 14.36371686551116,\n",
       " 11.040110761608187,\n",
       " 14.433559411367701,\n",
       " 13.492480537327818,\n",
       " 18.706436330650494,\n",
       " 15.549979101758687,\n",
       " 17.44840105859807,\n",
       " 14.74729680256226,\n",
       " 17.84204167629183,\n",
       " 8.744753352161151,\n",
       " 18.27198281809483,\n",
       " 14.924482699567783,\n",
       " 11.720459434410037,\n",
       " 14.251818987308603,\n",
       " 17.64286616524972]"
      ]
     },
     "execution_count": 49,
     "metadata": {},
     "output_type": "execute_result"
    }
   ],
   "source": [
    "sample2=[gauss(15,math.sqrt(7)) for i in range(50)]\n",
    "sample2"
   ]
  },
  {
   "cell_type": "code",
   "execution_count": 52,
   "id": "54413acd",
   "metadata": {},
   "outputs": [
    {
     "data": {
      "text/plain": [
       "7.047944598831368"
      ]
     },
     "execution_count": 52,
     "metadata": {},
     "output_type": "execute_result"
    }
   ],
   "source": [
    "var2=np.var(sample2)\n",
    "var2#its variiance is also near to 7"
   ]
  },
  {
   "cell_type": "code",
   "execution_count": 54,
   "id": "3ae28fe5",
   "metadata": {},
   "outputs": [
    {
     "data": {
      "text/plain": [
       "1.1104099888200263"
      ]
     },
     "execution_count": 54,
     "metadata": {},
     "output_type": "execute_result"
    }
   ],
   "source": [
    "f_value=var1/var2\n",
    "f_value \n",
    "#this is f statistic value"
   ]
  },
  {
   "cell_type": "code",
   "execution_count": 55,
   "id": "c5fe5def",
   "metadata": {},
   "outputs": [],
   "source": [
    "df1=49\n",
    "df2=49 #1 less than no of sample"
   ]
  },
  {
   "cell_type": "code",
   "execution_count": 57,
   "id": "2976dafe",
   "metadata": {},
   "outputs": [
    {
     "data": {
      "text/plain": [
       "0.6422966521692812"
      ]
     },
     "execution_count": 57,
     "metadata": {},
     "output_type": "execute_result"
    }
   ],
   "source": [
    "p_value=stats.f.cdf(f_value,df1,df2)\n",
    "p_value \n",
    "#this is p value"
   ]
  },
  {
   "cell_type": "code",
   "execution_count": null,
   "id": "41aee490",
   "metadata": {},
   "outputs": [],
   "source": [
    "#As p value is greater than alpha so it is a case of null hypotheses and which indicates there is not enough evidence\n",
    "#to conclude that variance are significantly different so results are not statistically significant. "
   ]
  },
  {
   "cell_type": "markdown",
   "id": "f6d45f21",
   "metadata": {},
   "source": [
    "# Queno 4"
   ]
  },
  {
   "cell_type": "code",
   "execution_count": null,
   "id": "e1ab0d69",
   "metadata": {},
   "outputs": [],
   "source": [
    "#First of all we have to create two sample of population."
   ]
  },
  {
   "cell_type": "code",
   "execution_count": 21,
   "id": "1d1d9877",
   "metadata": {},
   "outputs": [],
   "source": [
    "variance1=10\n",
    "variance2=15"
   ]
  },
  {
   "cell_type": "code",
   "execution_count": 22,
   "id": "d45a500e",
   "metadata": {},
   "outputs": [
    {
     "data": {
      "text/plain": [
       "0.6666666666666666"
      ]
     },
     "execution_count": 22,
     "metadata": {},
     "output_type": "execute_result"
    }
   ],
   "source": [
    "f_value=variance1/variance2\n",
    "f_value"
   ]
  },
  {
   "cell_type": "code",
   "execution_count": 23,
   "id": "bbea470b",
   "metadata": {},
   "outputs": [],
   "source": [
    "#now we have to find f critical value\n",
    "import numpy as np\n",
    "import scipy.stats as stats"
   ]
  },
  {
   "cell_type": "code",
   "execution_count": 24,
   "id": "ba9cf337",
   "metadata": {},
   "outputs": [],
   "source": [
    "df1=11\n",
    "df2=11 #degrees of freedom"
   ]
  },
  {
   "cell_type": "code",
   "execution_count": 25,
   "id": "a7ca6019",
   "metadata": {},
   "outputs": [
    {
     "data": {
      "text/plain": [
       "0.2561948993678998"
      ]
     },
     "execution_count": 25,
     "metadata": {},
     "output_type": "execute_result"
    }
   ],
   "source": [
    "p_value=stats.f.cdf(f_value,df1,df2)\n",
    "p_value"
   ]
  },
  {
   "cell_type": "code",
   "execution_count": null,
   "id": "a7351ae4",
   "metadata": {},
   "outputs": [],
   "source": [
    "#hence p_value is greater than alpha so it is a case of alternate hypotheses which indicate that there is not enough\n",
    "#evidence to say that variance of both sample are statistically different."
   ]
  },
  {
   "cell_type": "markdown",
   "id": "6f53d7e9",
   "metadata": {},
   "source": [
    "# Queno 5"
   ]
  },
  {
   "cell_type": "code",
   "execution_count": 27,
   "id": "f3c47f17",
   "metadata": {},
   "outputs": [
    {
     "data": {
      "text/plain": [
       "0.8333333333333334"
      ]
     },
     "execution_count": 27,
     "metadata": {},
     "output_type": "execute_result"
    }
   ],
   "source": [
    "var1=0.005\n",
    "var2=0.006\n",
    "f_value=var1/var2\n",
    "f_value"
   ]
  },
  {
   "cell_type": "code",
   "execution_count": 28,
   "id": "1d97fa99",
   "metadata": {},
   "outputs": [],
   "source": [
    "df1=199 #lets assume 1st data from which sample taken is of 200 size so we take dof as 199 \n",
    "df2=24 #its the dof of sample data of size 25"
   ]
  },
  {
   "cell_type": "code",
   "execution_count": 30,
   "id": "f653ef83",
   "metadata": {},
   "outputs": [
    {
     "data": {
      "text/plain": [
       "0.245466008826903"
      ]
     },
     "execution_count": 30,
     "metadata": {},
     "output_type": "execute_result"
    }
   ],
   "source": [
    "#now calculate p value\n",
    "p_value=stats.f.cdf(f_value,df1,df2)\n",
    "p_value"
   ]
  },
  {
   "cell_type": "code",
   "execution_count": null,
   "id": "91229325",
   "metadata": {},
   "outputs": [],
   "source": [
    "#as p value is greater than alpha 0.01 so it is a case of null hypotheses which does not have any evidence to \n",
    "#differ the variance between the data and sample from which it taken that is 25"
   ]
  },
  {
   "cell_type": "markdown",
   "id": "da2793a0",
   "metadata": {},
   "source": [
    "# Queno 6"
   ]
  },
  {
   "cell_type": "code",
   "execution_count": 53,
   "id": "950a14ee",
   "metadata": {},
   "outputs": [
    {
     "data": {
      "text/plain": [
       "array([ 3.        ,  4.88888889,  6.77777778,  8.66666667, 10.55555556,\n",
       "       12.44444444, 14.33333333, 16.22222222, 18.11111111, 20.        ])"
      ]
     },
     "execution_count": 53,
     "metadata": {},
     "output_type": "execute_result"
    }
   ],
   "source": [
    "\n",
    "sample=np.linspace(3,20,10)\n",
    "sample  #this is sample of no from 3 to 20 of size 10 and from this sample we have to generate f distribution\n",
    "          #for two groups having 10 observation."
   ]
  },
  {
   "cell_type": "code",
   "execution_count": 54,
   "id": "b449d941",
   "metadata": {},
   "outputs": [],
   "source": [
    "dfn=1\n",
    "dfd=9"
   ]
  },
  {
   "cell_type": "code",
   "execution_count": 55,
   "id": "5e036fee",
   "metadata": {},
   "outputs": [],
   "source": [
    "from scipy.stats import f\n",
    "result=f.pdf(sample,dfn,dfd)"
   ]
  },
  {
   "cell_type": "code",
   "execution_count": 56,
   "id": "fe126f2b",
   "metadata": {},
   "outputs": [
    {
     "data": {
      "text/plain": [
       "array([0.05316386, 0.02005122, 0.00900141, 0.00452256, 0.00246599,\n",
       "       0.00143226, 0.00087504, 0.00055733, 0.0003676 , 0.00024979])"
      ]
     },
     "execution_count": 56,
     "metadata": {},
     "output_type": "execute_result"
    }
   ],
   "source": [
    "result \n",
    "#hence we have created f distribution of two group having 10 observation "
   ]
  },
  {
   "cell_type": "code",
   "execution_count": 57,
   "id": "acc2b6e7",
   "metadata": {},
   "outputs": [
    {
     "data": {
      "text/plain": [
       "0.009268705153452485"
      ]
     },
     "execution_count": 57,
     "metadata": {},
     "output_type": "execute_result"
    }
   ],
   "source": [
    "result.mean() #this is the mean of f distribution"
   ]
  },
  {
   "cell_type": "code",
   "execution_count": 58,
   "id": "f56ac835",
   "metadata": {},
   "outputs": [
    {
     "data": {
      "text/plain": [
       "0.0002480243363550442"
      ]
     },
     "execution_count": 58,
     "metadata": {},
     "output_type": "execute_result"
    }
   ],
   "source": [
    "np.var(result) #this is the variance of f distribution"
   ]
  },
  {
   "cell_type": "markdown",
   "id": "9fab232a",
   "metadata": {},
   "source": [
    "# Que no 7"
   ]
  },
  {
   "cell_type": "code",
   "execution_count": null,
   "id": "a639db3a",
   "metadata": {},
   "outputs": [],
   "source": [
    "#lets create two sample with variance 25 and 20 with size 10 and 15."
   ]
  },
  {
   "cell_type": "code",
   "execution_count": 3,
   "id": "57e47a90",
   "metadata": {},
   "outputs": [],
   "source": [
    "variance1=25\n",
    "variance2=20"
   ]
  },
  {
   "cell_type": "code",
   "execution_count": 5,
   "id": "70eb4f5f",
   "metadata": {},
   "outputs": [
    {
     "data": {
      "text/plain": [
       "1.25"
      ]
     },
     "execution_count": 5,
     "metadata": {},
     "output_type": "execute_result"
    }
   ],
   "source": [
    "f_value=variance1/variance2\n",
    "f_value"
   ]
  },
  {
   "cell_type": "code",
   "execution_count": 6,
   "id": "cc568f43",
   "metadata": {},
   "outputs": [],
   "source": [
    "#now we have to calculate p_value\n",
    "import scipy.stats as stats"
   ]
  },
  {
   "cell_type": "code",
   "execution_count": 7,
   "id": "eece0127",
   "metadata": {},
   "outputs": [],
   "source": [
    "df1=9\n",
    "df2=14  #df1 is 9 one less than no of observation that is 9 and in the same way df2."
   ]
  },
  {
   "cell_type": "code",
   "execution_count": 8,
   "id": "9b85d8b8",
   "metadata": {},
   "outputs": [],
   "source": [
    "p_value=stats.f.cdf(f_value,df1,df2)"
   ]
  },
  {
   "cell_type": "code",
   "execution_count": 9,
   "id": "adfb40e7",
   "metadata": {},
   "outputs": [
    {
     "data": {
      "text/plain": [
       "0.6583902808707023"
      ]
     },
     "execution_count": 9,
     "metadata": {},
     "output_type": "execute_result"
    }
   ],
   "source": [
    "p_value"
   ]
  },
  {
   "cell_type": "code",
   "execution_count": null,
   "id": "ea8e00ee",
   "metadata": {},
   "outputs": [],
   "source": [
    "#hence as p_value is greater than 0.1 alpha so it is a case of null hypotheses and we can conclude that there is not enough\n",
    "#evidence to tell that variances are significantly different."
   ]
  },
  {
   "cell_type": "markdown",
   "id": "bfe26604",
   "metadata": {},
   "source": [
    "# Que no 8"
   ]
  },
  {
   "cell_type": "code",
   "execution_count": 10,
   "id": "9ff40b5c",
   "metadata": {},
   "outputs": [],
   "source": [
    "import numpy as np"
   ]
  },
  {
   "cell_type": "code",
   "execution_count": 12,
   "id": "95280404",
   "metadata": {},
   "outputs": [
    {
     "data": {
      "text/plain": [
       "array([24, 25, 28, 23, 22, 20, 27])"
      ]
     },
     "execution_count": 12,
     "metadata": {},
     "output_type": "execute_result"
    }
   ],
   "source": [
    "#convert two waiting time in array oftwo restaurant\n",
    "restaurantA=np.array([24,25,28,23,22,20,27])\n",
    "restaurantA"
   ]
  },
  {
   "cell_type": "code",
   "execution_count": 13,
   "id": "144841fd",
   "metadata": {},
   "outputs": [
    {
     "data": {
      "text/plain": [
       "array([31, 33, 35, 30, 32, 26])"
      ]
     },
     "execution_count": 13,
     "metadata": {},
     "output_type": "execute_result"
    }
   ],
   "source": [
    "restaurantB=np.array([31,33,35,30,32,26])\n",
    "restaurantB"
   ]
  },
  {
   "cell_type": "code",
   "execution_count": 14,
   "id": "448cb058",
   "metadata": {},
   "outputs": [
    {
     "data": {
      "text/plain": [
       "6.6938775510204085"
      ]
     },
     "execution_count": 14,
     "metadata": {},
     "output_type": "execute_result"
    }
   ],
   "source": [
    "#NOW CALCUALTE VARIANCE OF BOTH RESTAURANT \n",
    "varianceA=np.var(restaurantA)\n",
    "varianceA"
   ]
  },
  {
   "cell_type": "code",
   "execution_count": 15,
   "id": "55089517",
   "metadata": {},
   "outputs": [
    {
     "data": {
      "text/plain": [
       "7.805555555555556"
      ]
     },
     "execution_count": 15,
     "metadata": {},
     "output_type": "execute_result"
    }
   ],
   "source": [
    "varianceB=np.var(restaurantB)\n",
    "varianceB"
   ]
  },
  {
   "cell_type": "code",
   "execution_count": 16,
   "id": "9267e878",
   "metadata": {},
   "outputs": [
    {
     "data": {
      "text/plain": [
       "0.8575786186360665"
      ]
     },
     "execution_count": 16,
     "metadata": {},
     "output_type": "execute_result"
    }
   ],
   "source": [
    "f_value=varianceA/varianceB\n",
    "f_value #this f statistic"
   ]
  },
  {
   "cell_type": "code",
   "execution_count": 17,
   "id": "895783ae",
   "metadata": {},
   "outputs": [],
   "source": [
    "df1=6\n",
    "df2=5   #df1 is 6 one less than no of observation in the same way df2"
   ]
  },
  {
   "cell_type": "code",
   "execution_count": 18,
   "id": "1f2c2ddb",
   "metadata": {},
   "outputs": [
    {
     "data": {
      "text/plain": [
       "0.42142186320509295"
      ]
     },
     "execution_count": 18,
     "metadata": {},
     "output_type": "execute_result"
    }
   ],
   "source": [
    "p_value=stats.f.cdf(f_value,df1,df2)\n",
    "p_value"
   ]
  },
  {
   "cell_type": "code",
   "execution_count": null,
   "id": "6930ee36",
   "metadata": {},
   "outputs": [],
   "source": [
    "#here also p value is greater than alpha 0.05 which is null hypotheses and we can conclude that there is not any evidence \n",
    "#to tell variance of both sample is statistically different. "
   ]
  },
  {
   "cell_type": "markdown",
   "id": "e49535f3",
   "metadata": {},
   "source": [
    "# Queno 9"
   ]
  },
  {
   "cell_type": "code",
   "execution_count": 19,
   "id": "b583a134",
   "metadata": {},
   "outputs": [
    {
     "data": {
      "text/plain": [
       "array([80, 85, 90, 92, 87, 83])"
      ]
     },
     "execution_count": 19,
     "metadata": {},
     "output_type": "execute_result"
    }
   ],
   "source": [
    "#letscreate two group array of score of student\n",
    "groupA=np.array([80,85,90,92,87,83])\n",
    "groupA"
   ]
  },
  {
   "cell_type": "code",
   "execution_count": 20,
   "id": "827e664d",
   "metadata": {},
   "outputs": [
    {
     "data": {
      "text/plain": [
       "array([75, 78, 82, 79, 81, 84])"
      ]
     },
     "execution_count": 20,
     "metadata": {},
     "output_type": "execute_result"
    }
   ],
   "source": [
    "groupB=np.array([75,78,82,79,81,84])\n",
    "groupB"
   ]
  },
  {
   "cell_type": "code",
   "execution_count": 31,
   "id": "f310318c",
   "metadata": {},
   "outputs": [
    {
     "data": {
      "text/plain": [
       "19.76666666666667"
      ]
     },
     "execution_count": 31,
     "metadata": {},
     "output_type": "execute_result"
    }
   ],
   "source": [
    "#now calculate variance of both group\n",
    "var1=np.var(groupA,ddof=1)\n",
    "var1"
   ]
  },
  {
   "cell_type": "code",
   "execution_count": 34,
   "id": "1b85b3b2",
   "metadata": {},
   "outputs": [
    {
     "data": {
      "text/plain": [
       "10.166666666666666"
      ]
     },
     "execution_count": 34,
     "metadata": {},
     "output_type": "execute_result"
    }
   ],
   "source": [
    "var2=np.var(groupB,ddof=1)\n",
    "var2"
   ]
  },
  {
   "cell_type": "code",
   "execution_count": 35,
   "id": "bf671e2f",
   "metadata": {},
   "outputs": [
    {
     "data": {
      "text/plain": [
       "1.9442622950819677"
      ]
     },
     "execution_count": 35,
     "metadata": {},
     "output_type": "execute_result"
    }
   ],
   "source": [
    "f_value=var1/var2\n",
    "f_value #it is f statistic"
   ]
  },
  {
   "cell_type": "code",
   "execution_count": 36,
   "id": "4c70d5c5",
   "metadata": {},
   "outputs": [],
   "source": [
    "df1=5\n",
    "df2=5 #both have 5 degree of freedom"
   ]
  },
  {
   "cell_type": "code",
   "execution_count": 37,
   "id": "da304e06",
   "metadata": {},
   "outputs": [],
   "source": [
    "p_value=stats.f.cdf(f_value,df1,df2)"
   ]
  },
  {
   "cell_type": "code",
   "execution_count": 38,
   "id": "7e2ae8cd",
   "metadata": {},
   "outputs": [
    {
     "data": {
      "text/plain": [
       "0.7584478225464656"
      ]
     },
     "execution_count": 38,
     "metadata": {},
     "output_type": "execute_result"
    }
   ],
   "source": [
    "p_value"
   ]
  },
  {
   "cell_type": "code",
   "execution_count": null,
   "id": "1cf0d174",
   "metadata": {},
   "outputs": [],
   "source": [
    "#hence p_value is greater than alpha 0.01 so it is a case of null hypotheses and we can conclude that variance of both group\n",
    "#are not statistically different. "
   ]
  },
  {
   "cell_type": "code",
   "execution_count": null,
   "id": "7145d191",
   "metadata": {},
   "outputs": [],
   "source": []
  },
  {
   "cell_type": "code",
   "execution_count": null,
   "id": "79946cbc",
   "metadata": {},
   "outputs": [],
   "source": []
  }
 ],
 "metadata": {
  "kernelspec": {
   "display_name": "Python 3 (ipykernel)",
   "language": "python",
   "name": "python3"
  },
  "language_info": {
   "codemirror_mode": {
    "name": "ipython",
    "version": 3
   },
   "file_extension": ".py",
   "mimetype": "text/x-python",
   "name": "python",
   "nbconvert_exporter": "python",
   "pygments_lexer": "ipython3",
   "version": "3.11.5"
  }
 },
 "nbformat": 4,
 "nbformat_minor": 5
}
