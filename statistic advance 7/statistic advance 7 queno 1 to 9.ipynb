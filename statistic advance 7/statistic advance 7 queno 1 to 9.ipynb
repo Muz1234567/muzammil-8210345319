{
 "cells": [
  {
   "cell_type": "markdown",
   "id": "82553a7a",
   "metadata": {},
   "source": [
    "# Queno 1"
   ]
  },
  {
   "cell_type": "code",
   "execution_count": 3,
   "id": "f6523b8a",
   "metadata": {},
   "outputs": [
    {
     "data": {
      "text/plain": [
       "array([20, 25, 50, 65, 76, 87])"
      ]
     },
     "execution_count": 3,
     "metadata": {},
     "output_type": "execute_result"
    }
   ],
   "source": [
    "import numpy as np\n",
    "import scipy.stats as stats\n",
    "group1=np.array([20,25,50,65,76,87]) #create two group array\n",
    "group1"
   ]
  },
  {
   "cell_type": "code",
   "execution_count": 4,
   "id": "e0a6fdeb",
   "metadata": {},
   "outputs": [
    {
     "data": {
      "text/plain": [
       "array([89, 90, 56, 76, 87, 34])"
      ]
     },
     "execution_count": 4,
     "metadata": {},
     "output_type": "execute_result"
    }
   ],
   "source": [
    "group2=np.array([89,90,56,76,87,34])\n",
    "group2"
   ]
  },
  {
   "cell_type": "code",
   "execution_count": 6,
   "id": "2bc539d7",
   "metadata": {},
   "outputs": [
    {
     "data": {
      "text/plain": [
       "741.3666666666666"
      ]
     },
     "execution_count": 6,
     "metadata": {},
     "output_type": "execute_result"
    }
   ],
   "source": [
    "variance1=np.var(group1,ddof=1) #calculating variance of two group with deltas of freedom 1 \n",
    "variance1"
   ]
  },
  {
   "cell_type": "code",
   "execution_count": 8,
   "id": "688f8f89",
   "metadata": {},
   "outputs": [
    {
     "data": {
      "text/plain": [
       "510.8"
      ]
     },
     "execution_count": 8,
     "metadata": {},
     "output_type": "execute_result"
    }
   ],
   "source": [
    "variance2=np.var(group2,ddof=1)\n",
    "variance2"
   ]
  },
  {
   "cell_type": "code",
   "execution_count": 9,
   "id": "0c2e8cb9",
   "metadata": {},
   "outputs": [
    {
     "data": {
      "text/plain": [
       "1.4513834507961365"
      ]
     },
     "execution_count": 9,
     "metadata": {},
     "output_type": "execute_result"
    }
   ],
   "source": [
    "f_value=variance1/variance2\n",
    "f_value #f statistic value is 1.45"
   ]
  },
  {
   "cell_type": "code",
   "execution_count": 10,
   "id": "143da3c1",
   "metadata": {},
   "outputs": [
    {
     "data": {
      "text/plain": [
       "5"
      ]
     },
     "execution_count": 10,
     "metadata": {},
     "output_type": "execute_result"
    }
   ],
   "source": [
    "df1=len(group1)-1  #df1 and df2 isdegrees of freedom for group1 and group 2\n",
    "df1"
   ]
  },
  {
   "cell_type": "code",
   "execution_count": 11,
   "id": "1e9e49d3",
   "metadata": {},
   "outputs": [
    {
     "data": {
      "text/plain": [
       "5"
      ]
     },
     "execution_count": 11,
     "metadata": {},
     "output_type": "execute_result"
    }
   ],
   "source": [
    "df2=len(group2)-1\n",
    "df2"
   ]
  },
  {
   "cell_type": "code",
   "execution_count": 12,
   "id": "4b586e71",
   "metadata": {},
   "outputs": [
    {
     "data": {
      "text/plain": [
       "0.653661794984314"
      ]
     },
     "execution_count": 12,
     "metadata": {},
     "output_type": "execute_result"
    }
   ],
   "source": [
    "p_value=stats.f.cdf(f_value,df1,df2)\n",
    "p_value #this p value"
   ]
  },
  {
   "cell_type": "code",
   "execution_count": null,
   "id": "14133c42",
   "metadata": {},
   "outputs": [],
   "source": [
    "#hence we got p value 0.653 and f statistic 1.45 by variance ratio test."
   ]
  },
  {
   "cell_type": "markdown",
   "id": "6c5ea614",
   "metadata": {},
   "source": [
    "# Que no 2"
   ]
  },
  {
   "cell_type": "code",
   "execution_count": 14,
   "id": "d87bfa01",
   "metadata": {},
   "outputs": [],
   "source": [
    "result=stats.f.ppf(q=1-.05,dfn=6,dfd=9) #dfn is degrees offreedom in numerator\n",
    "                                        #dfd is degrees of freedom in denominator\n",
    "                                         #q=1-alpha"
   ]
  },
  {
   "cell_type": "code",
   "execution_count": 16,
   "id": "9ead846c",
   "metadata": {},
   "outputs": [
    {
     "name": "stdout",
     "output_type": "stream",
     "text": [
      "critical f value: 3.373753647039214\n"
     ]
    }
   ],
   "source": [
    "print('critical f value:',result) #below is critical f value"
   ]
  },
  {
   "cell_type": "markdown",
   "id": "ebfe3f00",
   "metadata": {},
   "source": [
    "# Queno 3"
   ]
  },
  {
   "cell_type": "code",
   "execution_count": 1,
   "id": "7e7bb69a",
   "metadata": {},
   "outputs": [],
   "source": [
    "import math\n",
    "from random import gauss"
   ]
  },
  {
   "cell_type": "code",
   "execution_count": 11,
   "id": "3616c864",
   "metadata": {},
   "outputs": [
    {
     "data": {
      "text/plain": [
       "[7.6594369832899245,\n",
       " 7.791536017251296,\n",
       " 13.277019000021502,\n",
       " 11.981702266618933,\n",
       " 8.15531734078187,\n",
       " 8.848054294881083,\n",
       " 10.40112124947844,\n",
       " 5.604451368416479,\n",
       " 11.154972160683858,\n",
       " 9.126957347471214,\n",
       " 4.217625432249498,\n",
       " 8.805818543542113,\n",
       " 9.813289880890254,\n",
       " 6.953598841444576,\n",
       " 8.501194411282105,\n",
       " 9.850738837921192,\n",
       " 7.933624106361728,\n",
       " 5.341589002940519,\n",
       " 5.3432067659203035,\n",
       " 12.528548633616808,\n",
       " 7.567523001553387,\n",
       " 12.096245870190366,\n",
       " 11.545964647301574,\n",
       " 11.10470257693388,\n",
       " 4.683161358213315,\n",
       " 10.846486499499209,\n",
       " 6.497043096854724,\n",
       " 10.876693232605572,\n",
       " 11.574569164024204,\n",
       " 12.790522753278056,\n",
       " 12.89070037119927,\n",
       " 11.357068252665234,\n",
       " 6.903971956900376,\n",
       " 7.2192097674374995,\n",
       " 13.088431673256206,\n",
       " 8.195287068674501,\n",
       " 7.113592514429028,\n",
       " 15.253203126519308,\n",
       " 11.060361960636302,\n",
       " 14.051401367450552,\n",
       " 9.335074414253814,\n",
       " 10.377000651618113,\n",
       " 8.80811196519239,\n",
       " 9.411284074170181,\n",
       " 10.48629353356618,\n",
       " 9.80125995087294,\n",
       " 11.962965178408977,\n",
       " 8.988405106570125,\n",
       " 6.074909010628893,\n",
       " 7.112076871683756]"
      ]
     },
     "execution_count": 11,
     "metadata": {},
     "output_type": "execute_result"
    }
   ],
   "source": [
    "mean=10\n",
    "variance=8\n",
    "sample1=[gauss(10,math.sqrt(7)) for i in range(50)]\n",
    "sample1 #so we have create sample with known variance 7 and mean 10"
   ]
  },
  {
   "cell_type": "code",
   "execution_count": 12,
   "id": "0ec7bb13",
   "metadata": {},
   "outputs": [
    {
     "data": {
      "text/plain": [
       "6.555791014475627"
      ]
     },
     "execution_count": 12,
     "metadata": {},
     "output_type": "execute_result"
    }
   ],
   "source": [
    "var1=np.var(sample1)\n",
    "var1#so its variance is near to 7"
   ]
  },
  {
   "cell_type": "code",
   "execution_count": 8,
   "id": "db2ebb7b",
   "metadata": {},
   "outputs": [
    {
     "data": {
      "text/plain": [
       "[10.191403216408197,\n",
       " 19.088829809573284,\n",
       " 15.762644478936668,\n",
       " 18.11299682298109,\n",
       " 12.448629715775427,\n",
       " 10.656293722569078,\n",
       " 12.35755472777183,\n",
       " 17.94601890923353,\n",
       " 15.713108138771723,\n",
       " 11.68820440425388,\n",
       " 22.935697679027662,\n",
       " 15.667271798814715,\n",
       " 9.726936399028297,\n",
       " 17.192470124049905,\n",
       " 10.689646150109745,\n",
       " 15.546243328661259,\n",
       " 13.767613399265986,\n",
       " 10.91955508666884,\n",
       " 16.48898950739425,\n",
       " 15.542506565936709,\n",
       " 12.731744455631965,\n",
       " 14.210128622452807,\n",
       " 13.093790247981698,\n",
       " 14.070901153722433,\n",
       " 19.819945990823882,\n",
       " 17.288634491088043,\n",
       " 17.868946608421275,\n",
       " 13.813627840769943,\n",
       " 12.57966518137285,\n",
       " 15.877955478770627,\n",
       " 16.3407418363799,\n",
       " 13.27889889671443,\n",
       " 16.42873541664153,\n",
       " 18.411611321448255,\n",
       " 19.796702214651816,\n",
       " 16.301630572950277,\n",
       " 20.223720036280113,\n",
       " 15.762686447130326,\n",
       " 16.879084356787928,\n",
       " 18.443386216158014,\n",
       " 11.90794592665385,\n",
       " 21.37084886704943,\n",
       " 16.83225792711555,\n",
       " 13.41633991273678,\n",
       " 10.01036564982595,\n",
       " 17.308523112366778,\n",
       " 15.151522142160793,\n",
       " 15.275312154999707,\n",
       " 14.113779284011922,\n",
       " 14.890873602735548]"
      ]
     },
     "execution_count": 8,
     "metadata": {},
     "output_type": "execute_result"
    }
   ],
   "source": [
    "sample2=[gauss(15,math.sqrt(8)) for i in range(50)]\n",
    "sample2"
   ]
  },
  {
   "cell_type": "code",
   "execution_count": 9,
   "id": "54413acd",
   "metadata": {},
   "outputs": [
    {
     "data": {
      "text/plain": [
       "9.233467023943811"
      ]
     },
     "execution_count": 9,
     "metadata": {},
     "output_type": "execute_result"
    }
   ],
   "source": [
    "var2=np.var(sample2)\n",
    "var2#its variiance is near to 8"
   ]
  },
  {
   "cell_type": "code",
   "execution_count": 13,
   "id": "3ae28fe5",
   "metadata": {},
   "outputs": [
    {
     "data": {
      "text/plain": [
       "1.4084443820060304"
      ]
     },
     "execution_count": 13,
     "metadata": {},
     "output_type": "execute_result"
    }
   ],
   "source": [
    "f_value=var2/var1\n",
    "f_value #as variance2 is greater so we have to divide it by var1\n",
    "#this is f statistic value"
   ]
  },
  {
   "cell_type": "code",
   "execution_count": 14,
   "id": "c5fe5def",
   "metadata": {},
   "outputs": [],
   "source": [
    "df1=49\n",
    "df2=49 #1 less than no of sample"
   ]
  },
  {
   "cell_type": "code",
   "execution_count": 15,
   "id": "2976dafe",
   "metadata": {},
   "outputs": [
    {
     "data": {
      "text/plain": [
       "0.882921808580744"
      ]
     },
     "execution_count": 15,
     "metadata": {},
     "output_type": "execute_result"
    }
   ],
   "source": [
    "p_value=stats.f.cdf(f_value,df1,df2)\n",
    "p_value \n",
    "#this is p value"
   ]
  },
  {
   "cell_type": "code",
   "execution_count": null,
   "id": "41aee490",
   "metadata": {},
   "outputs": [],
   "source": [
    "#As p value is greater than alpha so it is a case of null hypotheses and which indicates there is not enough evidence\n",
    "#to conclude that variance are significantly different so results are not statistically significant. "
   ]
  },
  {
   "cell_type": "markdown",
   "id": "f6d45f21",
   "metadata": {},
   "source": [
    "# Queno 4"
   ]
  },
  {
   "cell_type": "code",
   "execution_count": null,
   "id": "e1ab0d69",
   "metadata": {},
   "outputs": [],
   "source": [
    "#First of all we have to create two sample of population."
   ]
  },
  {
   "cell_type": "code",
   "execution_count": 18,
   "id": "1d1d9877",
   "metadata": {},
   "outputs": [],
   "source": [
    "variance1=10\n",
    "variance2=15"
   ]
  },
  {
   "cell_type": "code",
   "execution_count": 19,
   "id": "d45a500e",
   "metadata": {},
   "outputs": [
    {
     "data": {
      "text/plain": [
       "1.5"
      ]
     },
     "execution_count": 19,
     "metadata": {},
     "output_type": "execute_result"
    }
   ],
   "source": [
    "f_value=variance2/variance1\n",
    "f_value"
   ]
  },
  {
   "cell_type": "code",
   "execution_count": 20,
   "id": "bbea470b",
   "metadata": {},
   "outputs": [],
   "source": [
    "#now we have to find f critical value\n",
    "import numpy as np\n",
    "import scipy.stats as stats"
   ]
  },
  {
   "cell_type": "code",
   "execution_count": 21,
   "id": "ba9cf337",
   "metadata": {},
   "outputs": [],
   "source": [
    "df1=11\n",
    "df2=11 #degrees of freedom"
   ]
  },
  {
   "cell_type": "code",
   "execution_count": 22,
   "id": "a7ca6019",
   "metadata": {},
   "outputs": [
    {
     "data": {
      "text/plain": [
       "0.7438051006321003"
      ]
     },
     "execution_count": 22,
     "metadata": {},
     "output_type": "execute_result"
    }
   ],
   "source": [
    "p_value=stats.f.cdf(f_value,df1,df2)\n",
    "p_value"
   ]
  },
  {
   "cell_type": "code",
   "execution_count": null,
   "id": "a7351ae4",
   "metadata": {},
   "outputs": [],
   "source": [
    "#hence p_value is greater than alpha so it is a case of alternate hypotheses which indicate that there is not enough\n",
    "#evidence to say that variance of both sample are statistically different."
   ]
  },
  {
   "cell_type": "markdown",
   "id": "6f53d7e9",
   "metadata": {},
   "source": [
    "# Queno 5"
   ]
  },
  {
   "cell_type": "code",
   "execution_count": 23,
   "id": "f3c47f17",
   "metadata": {},
   "outputs": [
    {
     "data": {
      "text/plain": [
       "1.2"
      ]
     },
     "execution_count": 23,
     "metadata": {},
     "output_type": "execute_result"
    }
   ],
   "source": [
    "var1=0.005\n",
    "var2=0.006\n",
    "f_value=var2/var1\n",
    "f_value"
   ]
  },
  {
   "cell_type": "code",
   "execution_count": 24,
   "id": "1d97fa99",
   "metadata": {},
   "outputs": [],
   "source": [
    "df1=199 #lets assume 1st data from which sample taken is of 200 size so we take dof as 199 \n",
    "df2=24 #its the dof of sample data of size 25"
   ]
  },
  {
   "cell_type": "code",
   "execution_count": 25,
   "id": "f653ef83",
   "metadata": {},
   "outputs": [
    {
     "data": {
      "text/plain": [
       "0.6915457318156911"
      ]
     },
     "execution_count": 25,
     "metadata": {},
     "output_type": "execute_result"
    }
   ],
   "source": [
    "#now calculate p value\n",
    "p_value=stats.f.cdf(f_value,df1,df2)\n",
    "p_value"
   ]
  },
  {
   "cell_type": "code",
   "execution_count": null,
   "id": "91229325",
   "metadata": {},
   "outputs": [],
   "source": [
    "#as p value is greater than alpha 0.01 so it is a case of null hypotheses which does not have any evidence to \n",
    "#differ the variance between the data and sample from which it taken that is 25"
   ]
  },
  {
   "cell_type": "markdown",
   "id": "da2793a0",
   "metadata": {},
   "source": [
    "# Queno 6"
   ]
  },
  {
   "cell_type": "code",
   "execution_count": 53,
   "id": "950a14ee",
   "metadata": {},
   "outputs": [
    {
     "data": {
      "text/plain": [
       "array([ 3.        ,  4.88888889,  6.77777778,  8.66666667, 10.55555556,\n",
       "       12.44444444, 14.33333333, 16.22222222, 18.11111111, 20.        ])"
      ]
     },
     "execution_count": 53,
     "metadata": {},
     "output_type": "execute_result"
    }
   ],
   "source": [
    "\n",
    "sample=np.linspace(3,20,10)\n",
    "sample  #this is sample of no from 3 to 20 of size 10 and from this sample we have to generate f distribution\n",
    "          #for two groups having 10 observation."
   ]
  },
  {
   "cell_type": "code",
   "execution_count": 54,
   "id": "b449d941",
   "metadata": {},
   "outputs": [],
   "source": [
    "dfn=1\n",
    "dfd=9"
   ]
  },
  {
   "cell_type": "code",
   "execution_count": 55,
   "id": "5e036fee",
   "metadata": {},
   "outputs": [],
   "source": [
    "from scipy.stats import f\n",
    "result=f.pdf(sample,dfn,dfd)"
   ]
  },
  {
   "cell_type": "code",
   "execution_count": 56,
   "id": "fe126f2b",
   "metadata": {},
   "outputs": [
    {
     "data": {
      "text/plain": [
       "array([0.05316386, 0.02005122, 0.00900141, 0.00452256, 0.00246599,\n",
       "       0.00143226, 0.00087504, 0.00055733, 0.0003676 , 0.00024979])"
      ]
     },
     "execution_count": 56,
     "metadata": {},
     "output_type": "execute_result"
    }
   ],
   "source": [
    "result \n",
    "#hence we have created f distribution of two group having 10 observation "
   ]
  },
  {
   "cell_type": "code",
   "execution_count": 57,
   "id": "acc2b6e7",
   "metadata": {},
   "outputs": [
    {
     "data": {
      "text/plain": [
       "0.009268705153452485"
      ]
     },
     "execution_count": 57,
     "metadata": {},
     "output_type": "execute_result"
    }
   ],
   "source": [
    "result.mean() #this is the mean of f distribution"
   ]
  },
  {
   "cell_type": "code",
   "execution_count": 58,
   "id": "f56ac835",
   "metadata": {},
   "outputs": [
    {
     "data": {
      "text/plain": [
       "0.0002480243363550442"
      ]
     },
     "execution_count": 58,
     "metadata": {},
     "output_type": "execute_result"
    }
   ],
   "source": [
    "np.var(result) #this is the variance of f distribution"
   ]
  },
  {
   "cell_type": "markdown",
   "id": "aa552e08",
   "metadata": {},
   "source": [
    "# Que no 7"
   ]
  },
  {
   "cell_type": "code",
   "execution_count": null,
   "id": "a639db3a",
   "metadata": {},
   "outputs": [],
   "source": [
    "#lets create two sample with variance 25 and 20 with size 10 and 15."
   ]
  },
  {
   "cell_type": "code",
   "execution_count": 3,
   "id": "fe4ae344",
   "metadata": {},
   "outputs": [],
   "source": [
    "variance1=25\n",
    "variance2=20"
   ]
  },
  {
   "cell_type": "code",
   "execution_count": 5,
   "id": "174645ce",
   "metadata": {},
   "outputs": [
    {
     "data": {
      "text/plain": [
       "1.25"
      ]
     },
     "execution_count": 5,
     "metadata": {},
     "output_type": "execute_result"
    }
   ],
   "source": [
    "f_value=variance1/variance2\n",
    "f_value"
   ]
  },
  {
   "cell_type": "code",
   "execution_count": 6,
   "id": "5d0e2ee4",
   "metadata": {},
   "outputs": [],
   "source": [
    "#now we have to calculate p_value\n",
    "import scipy.stats as stats"
   ]
  },
  {
   "cell_type": "code",
   "execution_count": 7,
   "id": "79c7a13b",
   "metadata": {},
   "outputs": [],
   "source": [
    "df1=9\n",
    "df2=14  #df1 is 9 one less than no of observation that is 9 and in the same way df2."
   ]
  },
  {
   "cell_type": "code",
   "execution_count": 8,
   "id": "3f88558a",
   "metadata": {},
   "outputs": [],
   "source": [
    "p_value=stats.f.cdf(f_value,df1,df2)"
   ]
  },
  {
   "cell_type": "code",
   "execution_count": 9,
   "id": "63965f4f",
   "metadata": {},
   "outputs": [
    {
     "data": {
      "text/plain": [
       "0.6583902808707023"
      ]
     },
     "execution_count": 9,
     "metadata": {},
     "output_type": "execute_result"
    }
   ],
   "source": [
    "p_value"
   ]
  },
  {
   "cell_type": "code",
   "execution_count": null,
   "id": "0eae5f4d",
   "metadata": {},
   "outputs": [],
   "source": [
    "#hence as p_value is greater than 0.1 alpha so it is a case of null hypotheses and we can conclude that there is not enough\n",
    "#evidence to tell that variances are significantly different."
   ]
  },
  {
   "cell_type": "markdown",
   "id": "a854dec3",
   "metadata": {},
   "source": [
    "# Que no 8"
   ]
  },
  {
   "cell_type": "code",
   "execution_count": 10,
   "id": "61b8e22b",
   "metadata": {},
   "outputs": [],
   "source": [
    "import numpy as np"
   ]
  },
  {
   "cell_type": "code",
   "execution_count": 27,
   "id": "ecb2a89c",
   "metadata": {},
   "outputs": [
    {
     "data": {
      "text/plain": [
       "array([24, 25, 28, 23, 22, 20, 27])"
      ]
     },
     "execution_count": 27,
     "metadata": {},
     "output_type": "execute_result"
    }
   ],
   "source": [
    "#convert two waiting time in array oftwo restaurant\n",
    "restaurantA=np.array([24,25,28,23,22,20,27])\n",
    "restaurantA"
   ]
  },
  {
   "cell_type": "code",
   "execution_count": 28,
   "id": "a870b279",
   "metadata": {},
   "outputs": [
    {
     "data": {
      "text/plain": [
       "array([31, 33, 35, 30, 32, 26])"
      ]
     },
     "execution_count": 28,
     "metadata": {},
     "output_type": "execute_result"
    }
   ],
   "source": [
    "restaurantB=np.array([31,33,35,30,32,26])\n",
    "restaurantB"
   ]
  },
  {
   "cell_type": "code",
   "execution_count": 29,
   "id": "fbc065c3",
   "metadata": {},
   "outputs": [
    {
     "data": {
      "text/plain": [
       "6.6938775510204085"
      ]
     },
     "execution_count": 29,
     "metadata": {},
     "output_type": "execute_result"
    }
   ],
   "source": [
    "#NOW CALCUALTE VARIANCE OF BOTH RESTAURANT \n",
    "varianceA=np.var(restaurantA)\n",
    "varianceA"
   ]
  },
  {
   "cell_type": "code",
   "execution_count": 30,
   "id": "9bfceb1d",
   "metadata": {},
   "outputs": [
    {
     "data": {
      "text/plain": [
       "7.805555555555556"
      ]
     },
     "execution_count": 30,
     "metadata": {},
     "output_type": "execute_result"
    }
   ],
   "source": [
    "varianceB=np.var(restaurantB)\n",
    "varianceB"
   ]
  },
  {
   "cell_type": "code",
   "execution_count": 31,
   "id": "93292709",
   "metadata": {},
   "outputs": [
    {
     "data": {
      "text/plain": [
       "1.1660738482384825"
      ]
     },
     "execution_count": 31,
     "metadata": {},
     "output_type": "execute_result"
    }
   ],
   "source": [
    "f_value=varianceB/varianceA\n",
    "f_value #this f statistic"
   ]
  },
  {
   "cell_type": "code",
   "execution_count": 32,
   "id": "2ae8fd5e",
   "metadata": {},
   "outputs": [],
   "source": [
    "df1=6\n",
    "df2=5   #df1 is 6 one less than no of observation in the same way df2"
   ]
  },
  {
   "cell_type": "code",
   "execution_count": 34,
   "id": "d64c51f9",
   "metadata": {},
   "outputs": [
    {
     "data": {
      "text/plain": [
       "0.5574494640819424"
      ]
     },
     "execution_count": 34,
     "metadata": {},
     "output_type": "execute_result"
    }
   ],
   "source": [
    "p_value=stats.f.cdf(f_value,df1,df2)\n",
    "p_value"
   ]
  },
  {
   "cell_type": "code",
   "execution_count": null,
   "id": "7e404ef4",
   "metadata": {},
   "outputs": [],
   "source": [
    "#here also p value is greater than alpha 0.05 which is null hypotheses and we can conclude that there is not any evidence \n",
    "#to tell variance of both sample is statistically different. "
   ]
  },
  {
   "cell_type": "markdown",
   "id": "4ec52b30",
   "metadata": {},
   "source": [
    "# Queno 9"
   ]
  },
  {
   "cell_type": "code",
   "execution_count": 35,
   "id": "2179325c",
   "metadata": {},
   "outputs": [
    {
     "data": {
      "text/plain": [
       "array([80, 85, 90, 92, 87, 83])"
      ]
     },
     "execution_count": 35,
     "metadata": {},
     "output_type": "execute_result"
    }
   ],
   "source": [
    "#letscreate two group array of score of student\n",
    "groupA=np.array([80,85,90,92,87,83])\n",
    "groupA"
   ]
  },
  {
   "cell_type": "code",
   "execution_count": 36,
   "id": "af2dfb54",
   "metadata": {},
   "outputs": [
    {
     "data": {
      "text/plain": [
       "array([75, 78, 82, 79, 81, 84])"
      ]
     },
     "execution_count": 36,
     "metadata": {},
     "output_type": "execute_result"
    }
   ],
   "source": [
    "groupB=np.array([75,78,82,79,81,84])\n",
    "groupB"
   ]
  },
  {
   "cell_type": "code",
   "execution_count": 37,
   "id": "678ca2fa",
   "metadata": {},
   "outputs": [
    {
     "data": {
      "text/plain": [
       "19.76666666666667"
      ]
     },
     "execution_count": 37,
     "metadata": {},
     "output_type": "execute_result"
    }
   ],
   "source": [
    "#now calculate variance of both group\n",
    "var1=np.var(groupA,ddof=1)\n",
    "var1"
   ]
  },
  {
   "cell_type": "code",
   "execution_count": 38,
   "id": "78496b91",
   "metadata": {},
   "outputs": [
    {
     "data": {
      "text/plain": [
       "10.166666666666666"
      ]
     },
     "execution_count": 38,
     "metadata": {},
     "output_type": "execute_result"
    }
   ],
   "source": [
    "var2=np.var(groupB,ddof=1)\n",
    "var2"
   ]
  },
  {
   "cell_type": "code",
   "execution_count": 39,
   "id": "ece06271",
   "metadata": {},
   "outputs": [
    {
     "data": {
      "text/plain": [
       "1.9442622950819677"
      ]
     },
     "execution_count": 39,
     "metadata": {},
     "output_type": "execute_result"
    }
   ],
   "source": [
    "f_value=var1/var2\n",
    "f_value #it is f statistic"
   ]
  },
  {
   "cell_type": "code",
   "execution_count": 40,
   "id": "2367ae28",
   "metadata": {},
   "outputs": [],
   "source": [
    "df1=5\n",
    "df2=5 #both have 5 degree of freedom"
   ]
  },
  {
   "cell_type": "code",
   "execution_count": 41,
   "id": "ffad369f",
   "metadata": {},
   "outputs": [],
   "source": [
    "p_value=stats.f.cdf(f_value,df1,df2)"
   ]
  },
  {
   "cell_type": "code",
   "execution_count": 42,
   "id": "7d426114",
   "metadata": {},
   "outputs": [
    {
     "data": {
      "text/plain": [
       "0.7584478225464656"
      ]
     },
     "execution_count": 42,
     "metadata": {},
     "output_type": "execute_result"
    }
   ],
   "source": [
    "p_value"
   ]
  },
  {
   "cell_type": "code",
   "execution_count": null,
   "id": "5b3fc95a",
   "metadata": {},
   "outputs": [],
   "source": [
    "#Hence pvalue is greater than alpha 0.01 so it isa case of null hypotheses and we can coclude that there is not enough \n",
    "#evidence to say variance of both sample are statistically different. "
   ]
  }
 ],
 "metadata": {
  "kernelspec": {
   "display_name": "Python 3 (ipykernel)",
   "language": "python",
   "name": "python3"
  },
  "language_info": {
   "codemirror_mode": {
    "name": "ipython",
    "version": 3
   },
   "file_extension": ".py",
   "mimetype": "text/x-python",
   "name": "python",
   "nbconvert_exporter": "python",
   "pygments_lexer": "ipython3",
   "version": "3.11.5"
  }
 },
 "nbformat": 4,
 "nbformat_minor": 5
}
