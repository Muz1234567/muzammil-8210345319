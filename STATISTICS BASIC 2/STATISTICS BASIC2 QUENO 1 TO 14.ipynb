{
 "cells": [
  {
   "cell_type": "markdown",
   "id": "1ba88f85",
   "metadata": {},
   "source": [
    "# Queno 1 & 2"
   ]
  },
  {
   "cell_type": "markdown",
   "id": "ad4e7e2e",
   "metadata": {},
   "source": [
    "# Three Measures of Central Tendency"
   ]
  },
  {
   "cell_type": "markdown",
   "id": "1e5f1609",
   "metadata": {},
   "source": [
    "The three measures of central tendency are mean,median and mode."
   ]
  },
  {
   "cell_type": "markdown",
   "id": "4943a0ad",
   "metadata": {},
   "source": [
    "# Mean"
   ]
  },
  {
   "cell_type": "markdown",
   "id": "729865b5",
   "metadata": {},
   "source": [
    "#The mean is the sum of the value of each observation in dataset divided by number of observations."
   ]
  },
  {
   "cell_type": "markdown",
   "id": "b3b4d33b",
   "metadata": {},
   "source": [
    "#It is also known as arithmetic average"
   ]
  },
  {
   "cell_type": "markdown",
   "id": "4fda51e9",
   "metadata": {},
   "source": [
    " For ex; score of 5 student in math are 98,97,79,67,67 then the mean of marks of 5 student will calculated by adding all \n",
    " 5 students marks and divide them by total no of observations that is 5."
   ]
  },
  {
   "cell_type": "markdown",
   "id": "75ff41f5",
   "metadata": {},
   "source": [
    "Mean can be used only in continous and discrete data and it cannot be used in categorical data as the values cannot be \n",
    "summed in categorical data"
   ]
  },
  {
   "cell_type": "markdown",
   "id": "49aa28b5",
   "metadata": {},
   "source": [
    "# Median"
   ]
  },
  {
   "cell_type": "markdown",
   "id": "1b5c938c",
   "metadata": {},
   "source": [
    "Median is the middle value in distribution when the values are arranged in ascending or descending order"
   ]
  },
  {
   "cell_type": "markdown",
   "id": "4f5c679e",
   "metadata": {},
   "source": [
    "It is very easy to calculate median when the no of observation is odd.For ex;54,54,54,55,56,57,57,58,58,60,60 here the total\n",
    "no of obsevation is 11 which is odd so we have to only take out the number which is in between 11 numbers that is 6.So in \n",
    "6th position is 57 so 57 is median here."
   ]
  },
  {
   "cell_type": "markdown",
   "id": "220bd382",
   "metadata": {},
   "source": [
    "Now similary these 11 numbers reduced to 10 numbers that is 54,54,55,56,57,57,58,58,60,60 so here the total observation is 10\n",
    "which is even so we to take out two numbers which is in 5th and 6th position that is 57 and 57 .so add both which is 114 and divide by 2 which comes 57 and hence here median is 57."
   ]
  },
  {
   "cell_type": "markdown",
   "id": "1c073afe",
   "metadata": {},
   "source": [
    "# Mode"
   ]
  },
  {
   "cell_type": "markdown",
   "id": "73ceae3d",
   "metadata": {},
   "source": [
    "Mode is the most commonly occuring value in a distribution."
   ]
  },
  {
   "cell_type": "markdown",
   "id": "efe18913",
   "metadata": {},
   "source": [
    "It can be used for both numerical and categorical data."
   ]
  },
  {
   "cell_type": "markdown",
   "id": "5a0349b3",
   "metadata": {},
   "source": [
    "So in the above numbers that is 54,54,55,56,57,57,58,58,60,60,60. So here 60 occurs three times which is mode."
   ]
  },
  {
   "cell_type": "markdown",
   "id": "4b9c54de",
   "metadata": {},
   "source": [
    "# Queno 3"
   ]
  },
  {
   "cell_type": "markdown",
   "id": "2c6af331",
   "metadata": {},
   "source": [
    "So the given data is"
   ]
  },
  {
   "cell_type": "code",
   "execution_count": 3,
   "id": "d2250f82",
   "metadata": {},
   "outputs": [],
   "source": [
    "data=[178,177,176,177,178.2,178,175,179,180,175,178.9,176.2,177,172.5,178,176.5]"
   ]
  },
  {
   "cell_type": "markdown",
   "id": "fdd70fd8",
   "metadata": {},
   "source": [
    "First of all we have to import statistics."
   ]
  },
  {
   "cell_type": "code",
   "execution_count": 2,
   "id": "b7b75fd0",
   "metadata": {},
   "outputs": [],
   "source": [
    "import statistics"
   ]
  },
  {
   "cell_type": "code",
   "execution_count": 8,
   "id": "479bcac2",
   "metadata": {},
   "outputs": [
    {
     "data": {
      "text/plain": [
       "177.01875"
      ]
     },
     "execution_count": 8,
     "metadata": {},
     "output_type": "execute_result"
    }
   ],
   "source": [
    "statistics.mean(data)\n",
    "#So here we got mean of variable data by applying statistics.mean() function."
   ]
  },
  {
   "cell_type": "code",
   "execution_count": 9,
   "id": "7766d90f",
   "metadata": {},
   "outputs": [
    {
     "data": {
      "text/plain": [
       "177.0"
      ]
     },
     "execution_count": 9,
     "metadata": {},
     "output_type": "execute_result"
    }
   ],
   "source": [
    "statistics.median(data)\n",
    "#So here we got the median."
   ]
  },
  {
   "cell_type": "code",
   "execution_count": 10,
   "id": "384c6237",
   "metadata": {},
   "outputs": [
    {
     "data": {
      "text/plain": [
       "178"
      ]
     },
     "execution_count": 10,
     "metadata": {},
     "output_type": "execute_result"
    }
   ],
   "source": [
    "statistics.mode(data)\n",
    "#So here 178 is the mode which occur most time that is thrice."
   ]
  },
  {
   "cell_type": "markdown",
   "id": "1a54d5d7",
   "metadata": {},
   "source": [
    "# Queno 4"
   ]
  },
  {
   "cell_type": "markdown",
   "id": "b5b25805",
   "metadata": {},
   "source": [
    "Standard deviation is a statistic that measures the dispersion of dataset relative to its mean and is calculated as square root\n",
    "of variance."
   ]
  },
  {
   "cell_type": "markdown",
   "id": "bbac79a2",
   "metadata": {},
   "source": [
    "# Steps for calculating standard deviation."
   ]
  },
  {
   "cell_type": "markdown",
   "id": "1ec0863f",
   "metadata": {},
   "source": [
    "First of all calculate average of all data points."
   ]
  },
  {
   "cell_type": "markdown",
   "id": "dd619a3d",
   "metadata": {},
   "source": [
    "Now after that calculate variance for each data point.It is calculated by subtracting mean from the value of each data point."
   ]
  },
  {
   "cell_type": "markdown",
   "id": "4de871db",
   "metadata": {},
   "source": [
    "Now square the variance of each data point and after that add all the squared variance values."
   ]
  },
  {
   "cell_type": "markdown",
   "id": "a79da22a",
   "metadata": {},
   "source": [
    "Now divide the sum of sqaured variance values by number of data points less 1."
   ]
  },
  {
   "cell_type": "markdown",
   "id": "af6031e4",
   "metadata": {},
   "source": [
    "Now after dividing it with number of datapoints less 1 we get the quotient and after that take the squareroot ot quotient."
   ]
  },
  {
   "cell_type": "markdown",
   "id": "ced21791",
   "metadata": {},
   "source": [
    "Now after taking squareroot which we get that is standard deviation."
   ]
  },
  {
   "cell_type": "markdown",
   "id": "4ae8f47f",
   "metadata": {},
   "source": [
    "Same data in the above;"
   ]
  },
  {
   "cell_type": "code",
   "execution_count": 13,
   "id": "362811f0",
   "metadata": {},
   "outputs": [
    {
     "data": {
      "text/plain": [
       "1.8472389305844188"
      ]
     },
     "execution_count": 13,
     "metadata": {},
     "output_type": "execute_result"
    }
   ],
   "source": [
    "statistics.stdev(data)\n",
    "#so by applying statistics function we are able to calculate standard deviation of following data variable."
   ]
  },
  {
   "cell_type": "markdown",
   "id": "3c10c544",
   "metadata": {},
   "source": [
    "# Queno 5"
   ]
  },
  {
   "cell_type": "markdown",
   "id": "51c733f3",
   "metadata": {},
   "source": [
    "Lets take two dataset"
   ]
  },
  {
   "cell_type": "code",
   "execution_count": 3,
   "id": "94418c2f",
   "metadata": {},
   "outputs": [],
   "source": [
    "A=[34,56,87,56,67,98,75]\n",
    "B=[54,76,45,23,45,98,97]"
   ]
  },
  {
   "cell_type": "markdown",
   "id": "bcd2cded",
   "metadata": {},
   "source": [
    "Now calculate the range,variance and standard deviation of two dataset A and B."
   ]
  },
  {
   "cell_type": "markdown",
   "id": "8f764618",
   "metadata": {},
   "source": [
    "First of all calculate range then variance and standard deviation."
   ]
  },
  {
   "cell_type": "code",
   "execution_count": 4,
   "id": "fbe7cf1c",
   "metadata": {},
   "outputs": [
    {
     "data": {
      "text/plain": [
       "64"
      ]
     },
     "execution_count": 4,
     "metadata": {},
     "output_type": "execute_result"
    }
   ],
   "source": [
    "max(A)-min(A)\n",
    "#SO Here we are calculating range of data set A."
   ]
  },
  {
   "cell_type": "code",
   "execution_count": 7,
   "id": "21e63f02",
   "metadata": {},
   "outputs": [
    {
     "data": {
      "text/plain": [
       "458.95238095238096"
      ]
     },
     "execution_count": 7,
     "metadata": {},
     "output_type": "execute_result"
    }
   ],
   "source": [
    "statistics.variance(A)\n",
    "#Here we are calculating variance of dataset A. "
   ]
  },
  {
   "cell_type": "code",
   "execution_count": 8,
   "id": "0368b058",
   "metadata": {},
   "outputs": [
    {
     "data": {
      "text/plain": [
       "21.423173923403155"
      ]
     },
     "execution_count": 8,
     "metadata": {},
     "output_type": "execute_result"
    }
   ],
   "source": [
    "statistics.stdev(A)\n",
    "#Here we are calculating standard deviation of dataset A."
   ]
  },
  {
   "cell_type": "markdown",
   "id": "52016bbc",
   "metadata": {},
   "source": [
    "Now take dataset B"
   ]
  },
  {
   "cell_type": "code",
   "execution_count": 9,
   "id": "df02d471",
   "metadata": {},
   "outputs": [
    {
     "data": {
      "text/plain": [
       "75"
      ]
     },
     "execution_count": 9,
     "metadata": {},
     "output_type": "execute_result"
    }
   ],
   "source": [
    "max(B)-min(B)\n",
    "#Calculating range of dataset B."
   ]
  },
  {
   "cell_type": "code",
   "execution_count": 10,
   "id": "fc133871",
   "metadata": {},
   "outputs": [
    {
     "data": {
      "text/plain": [
       "812.952380952381"
      ]
     },
     "execution_count": 10,
     "metadata": {},
     "output_type": "execute_result"
    }
   ],
   "source": [
    "statistics.variance(B)\n",
    "#Calculating variance of dataset B."
   ]
  },
  {
   "cell_type": "code",
   "execution_count": 11,
   "id": "a0d59e58",
   "metadata": {},
   "outputs": [
    {
     "data": {
      "text/plain": [
       "28.512319810081763"
      ]
     },
     "execution_count": 11,
     "metadata": {},
     "output_type": "execute_result"
    }
   ],
   "source": [
    "statistics.stdev(B)\n",
    "#Calculating standard deviation of dataset B."
   ]
  },
  {
   "cell_type": "markdown",
   "id": "c361651f",
   "metadata": {},
   "source": [
    "So the larger the range,variance and standard deviation in dataset B than A demonstrates that dataset B is more dispersed \n",
    "than dataset A."
   ]
  },
  {
   "cell_type": "markdown",
   "id": "d83ea45f",
   "metadata": {},
   "source": [
    "# Queno 6"
   ]
  },
  {
   "cell_type": "markdown",
   "id": "5efbd0b0",
   "metadata": {},
   "source": [
    "Venn diagrams are the diagrams that are used to represent the sets,relation between sets and operation performed on them in a \n",
    "pictorial way."
   ]
  },
  {
   "cell_type": "markdown",
   "id": "82a42174",
   "metadata": {},
   "source": [
    "A Venn diagram is also called a set diagram or logic diagram showing different or logic diagram showing different set operations\n",
    "such as intersection of sets,union of sets and difference of sets."
   ]
  },
  {
   "cell_type": "markdown",
   "id": "02ba8d57",
   "metadata": {},
   "source": [
    "For using venn we have to import venn2 from matplotlib_venn"
   ]
  },
  {
   "cell_type": "code",
   "execution_count": 15,
   "id": "ac61a2ca",
   "metadata": {},
   "outputs": [],
   "source": [
    "from matplotlib_venn import venn2\n",
    "from matplotlib import pyplot as plt"
   ]
  },
  {
   "cell_type": "code",
   "execution_count": 16,
   "id": "966723cb",
   "metadata": {},
   "outputs": [
    {
     "data": {
      "image/png": "[encoded data removed]",
      "text/plain": [
       "<Figure size 640x480 with 1 Axes>"
      ]
     },
     "metadata": {},
     "output_type": "display_data"
    }
   ],
   "source": [
    "venn2(subsets=(60,20,14),set_labels=('Group A','Group B'))\n",
    "plt.show()"
   ]
  },
  {
   "cell_type": "markdown",
   "id": "edc94e19",
   "metadata": {},
   "source": [
    "So subset parameter is a three element list that is 60,20,14 which corresponds to Ab,aB,AB.\n",
    "Ab=Contained in group A,but not in  B that is 60.\n",
    "aB=Contained in group B,but not in A that is 20.\n",
    "AB=Contained in both group A and B THAT IS 14."
   ]
  },
  {
   "cell_type": "markdown",
   "id": "5948fcae",
   "metadata": {},
   "source": [
    "# Queno 7"
   ]
  },
  {
   "cell_type": "markdown",
   "id": "1aa3f412",
   "metadata": {},
   "source": [
    "Here there are given two sets that is A=(2,3,4,5,6,7) and B=(0,2,6,8,10)\n",
    "First of all we have to find intersection of set A and B and then union of both sets."
   ]
  },
  {
   "cell_type": "markdown",
   "id": "8f0cccf5",
   "metadata": {},
   "source": []
  },
  {
   "cell_type": "code",
   "execution_count": 7,
   "id": "a85c237b",
   "metadata": {},
   "outputs": [],
   "source": [
    "#FOR CALCULATING INTERSECTION CONVERT TUPLE INTO DICT\n",
    "A={2,3,4,5,6,7}\n",
    "B={0,2,6,8,10}\n",
    "#Now calculate intersection by intersection method."
   ]
  },
  {
   "cell_type": "code",
   "execution_count": 8,
   "id": "049d8810",
   "metadata": {},
   "outputs": [
    {
     "data": {
      "text/plain": [
       "{2, 6}"
      ]
     },
     "execution_count": 8,
     "metadata": {},
     "output_type": "execute_result"
    }
   ],
   "source": [
    "A.intersection(B)\n",
    "#so here we see point (2,6) are common in both sets that is point of intersection of a and b."
   ]
  },
  {
   "cell_type": "code",
   "execution_count": 9,
   "id": "5eeb8d70",
   "metadata": {},
   "outputs": [
    {
     "data": {
      "text/plain": [
       "{0, 2, 3, 4, 5, 6, 7, 8, 10}"
      ]
     },
     "execution_count": 9,
     "metadata": {},
     "output_type": "execute_result"
    }
   ],
   "source": [
    "A.union(B)\n",
    "#SO below are the points we see when we unite both sets A and B that is union point of dataset A and B."
   ]
  },
  {
   "cell_type": "markdown",
   "id": "16ee8894",
   "metadata": {},
   "source": [
    "# Queno 8"
   ]
  },
  {
   "cell_type": "markdown",
   "id": "0731868f",
   "metadata": {},
   "source": [
    "# Skewness in data"
   ]
  },
  {
   "cell_type": "markdown",
   "id": "7dd46cf1",
   "metadata": {},
   "source": [
    "Skewness is a measurement of the distortion of symmetrical distribution or asymmetry in a dataset."
   ]
  },
  {
   "cell_type": "markdown",
   "id": "ea1c6083",
   "metadata": {},
   "source": [
    "Zero skew occurs when data graph is symmetrical.The mean of positive skewed data will be greater than median.While in \n",
    "negative skew the mean of negatively skewed data will be less than the median."
   ]
  },
  {
   "cell_type": "markdown",
   "id": "de300a46",
   "metadata": {},
   "source": [
    "There are several ways to measure skewness .Pearson's first or pearson mode skewness and second coefficients of skewness or\n",
    "pearson median skewnessare two common methods."
   ]
  },
  {
   "cell_type": "markdown",
   "id": "180c16ac",
   "metadata": {},
   "source": [
    "In Pearson mode skewness,subtracts the mode from mean and divides the difference by standard deviation while in Pearson \n",
    "median skewness,subtracts the median from mean,multiplies the difference by three,and divides the product by standard\n",
    "deviation.\n"
   ]
  },
  {
   "cell_type": "markdown",
   "id": "17442067",
   "metadata": {},
   "source": [
    "In positive skew since the distribution is positive,the assumption is that its value is positive and most of values end up\n",
    "on being left of mean which means that most extreme values are on right side."
   ]
  },
  {
   "cell_type": "markdown",
   "id": "02963225",
   "metadata": {},
   "source": [
    "While in negative skew most of the values are on right side of mean so most extreme values are found further to the left."
   ]
  },
  {
   "cell_type": "markdown",
   "id": "d52956f2",
   "metadata": {},
   "source": [
    "# Queno 9"
   ]
  },
  {
   "cell_type": "markdown",
   "id": "0f893a7f",
   "metadata": {},
   "source": [
    "Right skewed means positive skewed.And in positive skew data median is left to the mean."
   ]
  },
  {
   "cell_type": "code",
   "execution_count": 3,
   "id": "382889ff",
   "metadata": {},
   "outputs": [],
   "source": [
    "import seaborn as sns"
   ]
  },
  {
   "cell_type": "code",
   "execution_count": 4,
   "id": "0ea760b0",
   "metadata": {},
   "outputs": [],
   "source": [
    "df=sns.load_dataset('iris')"
   ]
  },
  {
   "cell_type": "code",
   "execution_count": 5,
   "id": "0ed7a73c",
   "metadata": {},
   "outputs": [],
   "source": [
    "import pandas as pd\n",
    "data=pd.DataFrame(df)"
   ]
  },
  {
   "cell_type": "code",
   "execution_count": 6,
   "id": "6e989711",
   "metadata": {},
   "outputs": [],
   "source": [
    "data1=data.head(10)"
   ]
  },
  {
   "cell_type": "code",
   "execution_count": 7,
   "id": "a08d6279",
   "metadata": {},
   "outputs": [
    {
     "data": {
      "text/html": [
       "<div>\n",
       "<style scoped>\n",
       "    .dataframe tbody tr th:only-of-type {\n",
       "        vertical-align: middle;\n",
       "    }\n",
       "\n",
       "    .dataframe tbody tr th {\n",
       "        vertical-align: top;\n",
       "    }\n",
       "\n",
       "    .dataframe thead th {\n",
       "        text-align: right;\n",
       "    }\n",
       "</style>\n",
       "<table border=\"1\" class=\"dataframe\">\n",
       "  <thead>\n",
       "    <tr style=\"text-align: right;\">\n",
       "      <th></th>\n",
       "      <th>sepal_length</th>\n",
       "      <th>sepal_width</th>\n",
       "      <th>petal_length</th>\n",
       "      <th>petal_width</th>\n",
       "      <th>species</th>\n",
       "    </tr>\n",
       "  </thead>\n",
       "  <tbody>\n",
       "    <tr>\n",
       "      <th>0</th>\n",
       "      <td>5.1</td>\n",
       "      <td>3.5</td>\n",
       "      <td>1.4</td>\n",
       "      <td>0.2</td>\n",
       "      <td>setosa</td>\n",
       "    </tr>\n",
       "    <tr>\n",
       "      <th>1</th>\n",
       "      <td>4.9</td>\n",
       "      <td>3.0</td>\n",
       "      <td>1.4</td>\n",
       "      <td>0.2</td>\n",
       "      <td>setosa</td>\n",
       "    </tr>\n",
       "    <tr>\n",
       "      <th>2</th>\n",
       "      <td>4.7</td>\n",
       "      <td>3.2</td>\n",
       "      <td>1.3</td>\n",
       "      <td>0.2</td>\n",
       "      <td>setosa</td>\n",
       "    </tr>\n",
       "    <tr>\n",
       "      <th>3</th>\n",
       "      <td>4.6</td>\n",
       "      <td>3.1</td>\n",
       "      <td>1.5</td>\n",
       "      <td>0.2</td>\n",
       "      <td>setosa</td>\n",
       "    </tr>\n",
       "    <tr>\n",
       "      <th>4</th>\n",
       "      <td>5.0</td>\n",
       "      <td>3.6</td>\n",
       "      <td>1.4</td>\n",
       "      <td>0.2</td>\n",
       "      <td>setosa</td>\n",
       "    </tr>\n",
       "    <tr>\n",
       "      <th>5</th>\n",
       "      <td>5.4</td>\n",
       "      <td>3.9</td>\n",
       "      <td>1.7</td>\n",
       "      <td>0.4</td>\n",
       "      <td>setosa</td>\n",
       "    </tr>\n",
       "    <tr>\n",
       "      <th>6</th>\n",
       "      <td>4.6</td>\n",
       "      <td>3.4</td>\n",
       "      <td>1.4</td>\n",
       "      <td>0.3</td>\n",
       "      <td>setosa</td>\n",
       "    </tr>\n",
       "    <tr>\n",
       "      <th>7</th>\n",
       "      <td>5.0</td>\n",
       "      <td>3.4</td>\n",
       "      <td>1.5</td>\n",
       "      <td>0.2</td>\n",
       "      <td>setosa</td>\n",
       "    </tr>\n",
       "    <tr>\n",
       "      <th>8</th>\n",
       "      <td>4.4</td>\n",
       "      <td>2.9</td>\n",
       "      <td>1.4</td>\n",
       "      <td>0.2</td>\n",
       "      <td>setosa</td>\n",
       "    </tr>\n",
       "    <tr>\n",
       "      <th>9</th>\n",
       "      <td>4.9</td>\n",
       "      <td>3.1</td>\n",
       "      <td>1.5</td>\n",
       "      <td>0.1</td>\n",
       "      <td>setosa</td>\n",
       "    </tr>\n",
       "  </tbody>\n",
       "</table>\n",
       "</div>"
      ],
      "text/plain": [
       "   sepal_length  sepal_width  petal_length  petal_width species\n",
       "0           5.1          3.5           1.4          0.2  setosa\n",
       "1           4.9          3.0           1.4          0.2  setosa\n",
       "2           4.7          3.2           1.3          0.2  setosa\n",
       "3           4.6          3.1           1.5          0.2  setosa\n",
       "4           5.0          3.6           1.4          0.2  setosa\n",
       "5           5.4          3.9           1.7          0.4  setosa\n",
       "6           4.6          3.4           1.4          0.3  setosa\n",
       "7           5.0          3.4           1.5          0.2  setosa\n",
       "8           4.4          2.9           1.4          0.2  setosa\n",
       "9           4.9          3.1           1.5          0.1  setosa"
      ]
     },
     "execution_count": 7,
     "metadata": {},
     "output_type": "execute_result"
    }
   ],
   "source": [
    "data1"
   ]
  },
  {
   "cell_type": "code",
   "execution_count": 8,
   "id": "5b5439ad",
   "metadata": {},
   "outputs": [
    {
     "data": {
      "text/plain": [
       "0.22641841887366393"
      ]
     },
     "execution_count": 8,
     "metadata": {},
     "output_type": "execute_result"
    }
   ],
   "source": [
    "data1.sepal_length.skew()\n",
    "#column sepal_length is positively skewed."
   ]
  },
  {
   "cell_type": "code",
   "execution_count": 9,
   "id": "0ea80c30",
   "metadata": {},
   "outputs": [
    {
     "data": {
      "text/plain": [
       "4.9"
      ]
     },
     "execution_count": 9,
     "metadata": {},
     "output_type": "execute_result"
    }
   ],
   "source": [
    "data1.sepal_length.median()"
   ]
  },
  {
   "cell_type": "code",
   "execution_count": 10,
   "id": "3e0ae8a1",
   "metadata": {},
   "outputs": [
    {
     "data": {
      "text/plain": [
       "4.859999999999999"
      ]
     },
     "execution_count": 10,
     "metadata": {},
     "output_type": "execute_result"
    }
   ],
   "source": [
    "data1.sepal_length.mean()"
   ]
  },
  {
   "cell_type": "code",
   "execution_count": 11,
   "id": "80a4e187",
   "metadata": {},
   "outputs": [
    {
     "data": {
      "text/plain": [
       "0    4.6\n",
       "1    4.9\n",
       "2    5.0\n",
       "Name: sepal_length, dtype: float64"
      ]
     },
     "execution_count": 11,
     "metadata": {},
     "output_type": "execute_result"
    }
   ],
   "source": [
    "data1.sepal_length.mode()"
   ]
  },
  {
   "cell_type": "markdown",
   "id": "25560db2",
   "metadata": {},
   "source": [
    "So in this case this column sepal_length is negatively skewed as it is in form mode>median>mean.Here mode which is 5.0 is greater than median 4.9 and median is greater than mean which is 4.85 which is a condition for negatively skewed data.While in \n",
    "right skewed data condition is like this mean>median>mode."
   ]
  },
  {
   "cell_type": "markdown",
   "id": "cea82312",
   "metadata": {},
   "source": [
    "# Queno 10"
   ]
  },
  {
   "cell_type": "markdown",
   "id": "14ea992f",
   "metadata": {},
   "source": [
    "# Corelation vs Covariance"
   ]
  },
  {
   "cell_type": "markdown",
   "id": "ad878d43",
   "metadata": {},
   "source": [
    "Corelation is a measure that determines the degree to which two or more random variables move in sequence.When an equivalent\n",
    "movement of another variable reciprocates the movement of one variable in some way or other ,the variable are said to be corelated."
   ]
  },
  {
   "cell_type": "markdown",
   "id": "00853bae",
   "metadata": {},
   "source": [
    "Formula for corelation is;\n",
    "Pxy=Correlation(x,y)=cov(x,y)/square root var(x)*sqaure root var(y)\n",
    "var(X)=Standard deviation of X\n",
    "var(y)=Standard deviation of y\n",
    "Positive corelation occurs when two variables move in same direction.When variables move in opposite direction,they are said \n",
    "to be negatively corelated."
   ]
  },
  {
   "cell_type": "markdown",
   "id": "846b7e60",
   "metadata": {},
   "source": [
    "Whereas covariance is a statistical term that refers to a systematic relationship between two random variables in which \n",
    "change in the other reflects a change in one variable.Covariance value can range from negative to positive,with a negative\n",
    "value indicating negative relationship and positive value indicating positive relationship."
   ]
  },
  {
   "cell_type": "markdown",
   "id": "7b56c98f",
   "metadata": {},
   "source": [
    "Positive covariance denotes a direct relationship and is represented by positive number.A negative number on the other hand\n",
    "denotes negative covariance,which indicates an inverse relationship between two variables."
   ]
  },
  {
   "cell_type": "markdown",
   "id": "727326d1",
   "metadata": {},
   "source": [
    "Now lets take an example of covariance"
   ]
  },
  {
   "cell_type": "code",
   "execution_count": 12,
   "id": "7e246347",
   "metadata": {},
   "outputs": [],
   "source": [
    "dT=[[1,1.2,3.1],[2,1.8,4.2],[3,2.2,5.0],[4,1.5,4.2]]"
   ]
  },
  {
   "cell_type": "code",
   "execution_count": 14,
   "id": "daa4858f",
   "metadata": {},
   "outputs": [],
   "source": [
    "df2=pd.DataFrame(dT,columns=['Day','X','Y'])"
   ]
  },
  {
   "cell_type": "code",
   "execution_count": 15,
   "id": "e3690a4f",
   "metadata": {},
   "outputs": [
    {
     "data": {
      "text/html": [
       "<div>\n",
       "<style scoped>\n",
       "    .dataframe tbody tr th:only-of-type {\n",
       "        vertical-align: middle;\n",
       "    }\n",
       "\n",
       "    .dataframe tbody tr th {\n",
       "        vertical-align: top;\n",
       "    }\n",
       "\n",
       "    .dataframe thead th {\n",
       "        text-align: right;\n",
       "    }\n",
       "</style>\n",
       "<table border=\"1\" class=\"dataframe\">\n",
       "  <thead>\n",
       "    <tr style=\"text-align: right;\">\n",
       "      <th></th>\n",
       "      <th>Day</th>\n",
       "      <th>X</th>\n",
       "      <th>Y</th>\n",
       "    </tr>\n",
       "  </thead>\n",
       "  <tbody>\n",
       "    <tr>\n",
       "      <th>0</th>\n",
       "      <td>1</td>\n",
       "      <td>1.2</td>\n",
       "      <td>3.1</td>\n",
       "    </tr>\n",
       "    <tr>\n",
       "      <th>1</th>\n",
       "      <td>2</td>\n",
       "      <td>1.8</td>\n",
       "      <td>4.2</td>\n",
       "    </tr>\n",
       "    <tr>\n",
       "      <th>2</th>\n",
       "      <td>3</td>\n",
       "      <td>2.2</td>\n",
       "      <td>5.0</td>\n",
       "    </tr>\n",
       "    <tr>\n",
       "      <th>3</th>\n",
       "      <td>4</td>\n",
       "      <td>1.5</td>\n",
       "      <td>4.2</td>\n",
       "    </tr>\n",
       "  </tbody>\n",
       "</table>\n",
       "</div>"
      ],
      "text/plain": [
       "   Day    X    Y\n",
       "0    1  1.2  3.1\n",
       "1    2  1.8  4.2\n",
       "2    3  2.2  5.0\n",
       "3    4  1.5  4.2"
      ]
     },
     "execution_count": 15,
     "metadata": {},
     "output_type": "execute_result"
    }
   ],
   "source": [
    "df2"
   ]
  },
  {
   "cell_type": "markdown",
   "id": "048f9d50",
   "metadata": {},
   "source": [
    "So here is give an simple data we have to find covariance between x and y.\n",
    "So now we have to find average of x that is 1.675 and y that is 4.125,and subract them from each day value of x and y and do\n",
    "this for each day."
   ]
  },
  {
   "cell_type": "code",
   "execution_count": 16,
   "id": "559943d4",
   "metadata": {},
   "outputs": [
    {
     "data": {
      "text/plain": [
       "0.48687500000000006"
      ]
     },
     "execution_count": 16,
     "metadata": {},
     "output_type": "execute_result"
    }
   ],
   "source": [
    "day1=(1.2-1.675)*(3.1-4.125)\n",
    "day1"
   ]
  },
  {
   "cell_type": "code",
   "execution_count": 17,
   "id": "b305a088",
   "metadata": {},
   "outputs": [
    {
     "data": {
      "text/plain": [
       "0.009375000000000022"
      ]
     },
     "execution_count": 17,
     "metadata": {},
     "output_type": "execute_result"
    }
   ],
   "source": [
    "day2=(1.8-1.675)*(4.2-4.125)\n",
    "day2"
   ]
  },
  {
   "cell_type": "code",
   "execution_count": 18,
   "id": "06ef4a09",
   "metadata": {},
   "outputs": [
    {
     "data": {
      "text/plain": [
       "0.4593750000000001"
      ]
     },
     "execution_count": 18,
     "metadata": {},
     "output_type": "execute_result"
    }
   ],
   "source": [
    "day3=(2.2-1.675)*(5.0-4.125)\n",
    "day3"
   ]
  },
  {
   "cell_type": "code",
   "execution_count": 19,
   "id": "9cccb231",
   "metadata": {},
   "outputs": [
    {
     "data": {
      "text/plain": [
       "-0.013125000000000034"
      ]
     },
     "execution_count": 19,
     "metadata": {},
     "output_type": "execute_result"
    }
   ],
   "source": [
    "day4=(1.5-1.675)*(4.2-4.125)\n",
    "day4"
   ]
  },
  {
   "cell_type": "code",
   "execution_count": 21,
   "id": "61504b26",
   "metadata": {},
   "outputs": [
    {
     "data": {
      "text/plain": [
       "0.9425000000000001"
      ]
     },
     "execution_count": 21,
     "metadata": {},
     "output_type": "execute_result"
    }
   ],
   "source": [
    "#now add all day value\n",
    "all_day=day1+day2+day3+day4\n",
    "all_day"
   ]
  },
  {
   "cell_type": "code",
   "execution_count": 22,
   "id": "049f2128",
   "metadata": {},
   "outputs": [
    {
     "data": {
      "text/plain": [
       "0.3141666666666667"
      ]
     },
     "execution_count": 22,
     "metadata": {},
     "output_type": "execute_result"
    }
   ],
   "source": [
    "#so our sample size is 4 but we have to take less 1 according to the formula and divide sum value of 4 days with 3\n",
    "all_day/3\n"
   ]
  },
  {
   "cell_type": "code",
   "execution_count": null,
   "id": "3c13283b",
   "metadata": {},
   "outputs": [],
   "source": [
    "#so this is the covariance of given dataset of x and y that is 0.314.\n",
    "#so we have discussed covariance use in dataset."
   ]
  },
  {
   "cell_type": "markdown",
   "id": "202c1619",
   "metadata": {},
   "source": [
    "# Que no 11"
   ]
  },
  {
   "cell_type": "markdown",
   "id": "9d3cd4f0",
   "metadata": {},
   "source": [
    "The formula for sample mean=(sum of terms)/(Number of terms).\n",
    "So now lets see an example by using above dataset df2."
   ]
  },
  {
   "cell_type": "code",
   "execution_count": 23,
   "id": "b1dded94",
   "metadata": {},
   "outputs": [
    {
     "data": {
      "text/plain": [
       "0    1.2\n",
       "1    1.8\n",
       "2    2.2\n",
       "3    1.5\n",
       "Name: X, dtype: float64"
      ]
     },
     "execution_count": 23,
     "metadata": {},
     "output_type": "execute_result"
    }
   ],
   "source": [
    "df2.X"
   ]
  },
  {
   "cell_type": "code",
   "execution_count": 24,
   "id": "1a462163",
   "metadata": {},
   "outputs": [
    {
     "data": {
      "text/plain": [
       "6.7"
      ]
     },
     "execution_count": 24,
     "metadata": {},
     "output_type": "execute_result"
    }
   ],
   "source": [
    "#so here sum of terms\n",
    "sum_of_terms=1.2+1.8+2.2+1.5\n",
    "sum_of_terms"
   ]
  },
  {
   "cell_type": "code",
   "execution_count": 25,
   "id": "c1be1006",
   "metadata": {},
   "outputs": [
    {
     "data": {
      "text/plain": [
       "1.675"
      ]
     },
     "execution_count": 25,
     "metadata": {},
     "output_type": "execute_result"
    }
   ],
   "source": [
    "#now divide sum_of_terms by total no of observation.\n",
    "mean=6.7/4\n",
    "mean"
   ]
  },
  {
   "cell_type": "code",
   "execution_count": null,
   "id": "ebb85943",
   "metadata": {},
   "outputs": [],
   "source": [
    "#so here the mean is 1.675"
   ]
  },
  {
   "cell_type": "markdown",
   "id": "39024ba1",
   "metadata": {},
   "source": [
    "# Queno 12"
   ]
  },
  {
   "cell_type": "markdown",
   "id": "c2365625",
   "metadata": {},
   "source": [
    "# Normal distribution of data"
   ]
  },
  {
   "cell_type": "markdown",
   "id": "35a0d7a2",
   "metadata": {},
   "source": [
    "Lets see with an example;\n"
   ]
  },
  {
   "cell_type": "code",
   "execution_count": 29,
   "id": "e08c790e",
   "metadata": {},
   "outputs": [
    {
     "data": {
      "text/plain": [
       "10"
      ]
     },
     "execution_count": 29,
     "metadata": {},
     "output_type": "execute_result"
    }
   ],
   "source": [
    "Set=[6,8,10,12,14,14,12,10,8,6]\n",
    "statistics.mean(Set)\n",
    "#mean"
   ]
  },
  {
   "cell_type": "code",
   "execution_count": 30,
   "id": "7b43e02f",
   "metadata": {},
   "outputs": [
    {
     "data": {
      "text/plain": [
       "10.0"
      ]
     },
     "execution_count": 30,
     "metadata": {},
     "output_type": "execute_result"
    }
   ],
   "source": [
    "statistics.median(Set)\n",
    "#median"
   ]
  },
  {
   "cell_type": "code",
   "execution_count": null,
   "id": "9b5f013e",
   "metadata": {},
   "outputs": [],
   "source": [
    "#HERE MODE MAY BE 6,10,12 AND 14 WHICH OCCUIRS MOST."
   ]
  },
  {
   "cell_type": "markdown",
   "id": "6cb9d709",
   "metadata": {},
   "source": [
    "So in this way mean,median and mode are in same range in normal distribution of data."
   ]
  },
  {
   "cell_type": "markdown",
   "id": "62590342",
   "metadata": {},
   "source": [
    "# Queno 13"
   ]
  },
  {
   "cell_type": "markdown",
   "id": "a25dbdd8",
   "metadata": {},
   "source": [
    "Covariance is a measure indicating the extent to which two random variables change in tandem while Corelation is a statistical\n",
    "that indicates how strongly two variables are related.\n",
    "Covariance is a measure of corelation while corelation is a scaled version of covariance.\n",
    "In Covariance values lies between negative infinity and positive infinity while in corelation values lies between -1 and +1.\n",
    "Change in scale affects covariance while change in scale does not affect corelation.\n",
    "Covariance doesnot have unit free measure while Corelation has unit free measure."
   ]
  },
  {
   "cell_type": "markdown",
   "id": "a1751801",
   "metadata": {},
   "source": [
    "So these are the basic difference that Covariance differ from Corelation."
   ]
  },
  {
   "cell_type": "markdown",
   "id": "28ead9e3",
   "metadata": {},
   "source": [
    "# Queno 14"
   ]
  },
  {
   "cell_type": "markdown",
   "id": "adb9b708",
   "metadata": {},
   "source": [
    "First of all we have to know what is an outlier?\n",
    "An outlier or outliers are numbers in a dataset taht are vastly larger or smaller than the other values in a data set.\n",
    "Lets see how it affects the measure of central tendency and dispersion."
   ]
  },
  {
   "cell_type": "code",
   "execution_count": 3,
   "id": "f47e5189",
   "metadata": {},
   "outputs": [],
   "source": [
    "x=[1,3,2,4,2,4,6]\n",
    "#in the below we are calculating central tendency of dataset x."
   ]
  },
  {
   "cell_type": "code",
   "execution_count": 4,
   "id": "f42c6e40",
   "metadata": {},
   "outputs": [
    {
     "data": {
      "text/plain": [
       "3.142857142857143"
      ]
     },
     "execution_count": 4,
     "metadata": {},
     "output_type": "execute_result"
    }
   ],
   "source": [
    "statistics.mean(x)"
   ]
  },
  {
   "cell_type": "code",
   "execution_count": 5,
   "id": "d097ca66",
   "metadata": {},
   "outputs": [
    {
     "data": {
      "text/plain": [
       "2"
      ]
     },
     "execution_count": 5,
     "metadata": {},
     "output_type": "execute_result"
    }
   ],
   "source": [
    "statistics.mode(x)"
   ]
  },
  {
   "cell_type": "code",
   "execution_count": 6,
   "id": "afe7c200",
   "metadata": {},
   "outputs": [
    {
     "data": {
      "text/plain": [
       "3"
      ]
     },
     "execution_count": 6,
     "metadata": {},
     "output_type": "execute_result"
    }
   ],
   "source": [
    "statistics.median(x)"
   ]
  },
  {
   "cell_type": "markdown",
   "id": "b3035a1a",
   "metadata": {},
   "source": [
    "Now after putting outliers in same dataset that is 69 in place of 4."
   ]
  },
  {
   "cell_type": "code",
   "execution_count": 7,
   "id": "401c9cdf",
   "metadata": {},
   "outputs": [],
   "source": [
    "y=[1,3,2,69,2,4,6]"
   ]
  },
  {
   "cell_type": "code",
   "execution_count": 8,
   "id": "11fece6a",
   "metadata": {},
   "outputs": [
    {
     "data": {
      "text/plain": [
       "12.428571428571429"
      ]
     },
     "execution_count": 8,
     "metadata": {},
     "output_type": "execute_result"
    }
   ],
   "source": [
    "statistics.mean(y)"
   ]
  },
  {
   "cell_type": "code",
   "execution_count": 9,
   "id": "7c898674",
   "metadata": {},
   "outputs": [
    {
     "data": {
      "text/plain": [
       "3"
      ]
     },
     "execution_count": 9,
     "metadata": {},
     "output_type": "execute_result"
    }
   ],
   "source": [
    "statistics.median(y)"
   ]
  },
  {
   "cell_type": "code",
   "execution_count": 10,
   "id": "68e51883",
   "metadata": {},
   "outputs": [
    {
     "data": {
      "text/plain": [
       "2"
      ]
     },
     "execution_count": 10,
     "metadata": {},
     "output_type": "execute_result"
    }
   ],
   "source": [
    "statistics.mode(y)"
   ]
  },
  {
   "cell_type": "code",
   "execution_count": null,
   "id": "21bc683c",
   "metadata": {},
   "outputs": [],
   "source": [
    "#so these are after effects on central tendency after putting outliers."
   ]
  },
  {
   "cell_type": "markdown",
   "id": "7f3ab73d",
   "metadata": {},
   "source": [
    "In the same way there is also some effect of outliers on measures of dispersion lets see with an example;"
   ]
  },
  {
   "cell_type": "code",
   "execution_count": 11,
   "id": "d2baf263",
   "metadata": {},
   "outputs": [
    {
     "data": {
      "text/plain": [
       "[1, 3, 2, 4, 2, 4, 6]"
      ]
     },
     "execution_count": 11,
     "metadata": {},
     "output_type": "execute_result"
    }
   ],
   "source": [
    "x\n",
    "#normal dataset"
   ]
  },
  {
   "cell_type": "code",
   "execution_count": 12,
   "id": "d486bff6",
   "metadata": {},
   "outputs": [
    {
     "data": {
      "text/plain": [
       "1.6761634196950514"
      ]
     },
     "execution_count": 12,
     "metadata": {},
     "output_type": "execute_result"
    }
   ],
   "source": [
    "statistics.stdev(x)"
   ]
  },
  {
   "cell_type": "code",
   "execution_count": 13,
   "id": "a75f178e",
   "metadata": {},
   "outputs": [
    {
     "data": {
      "text/plain": [
       "[1, 3, 2, 69, 2, 4, 6]"
      ]
     },
     "execution_count": 13,
     "metadata": {},
     "output_type": "execute_result"
    }
   ],
   "source": [
    "y\n",
    "#data with an outlier 69 in place of 4."
   ]
  },
  {
   "cell_type": "code",
   "execution_count": 14,
   "id": "82e1132b",
   "metadata": {},
   "outputs": [
    {
     "data": {
      "text/plain": [
       "24.999047600906337"
      ]
     },
     "execution_count": 14,
     "metadata": {},
     "output_type": "execute_result"
    }
   ],
   "source": [
    "statistics.stdev(y)"
   ]
  },
  {
   "cell_type": "code",
   "execution_count": null,
   "id": "ed2a0874",
   "metadata": {},
   "outputs": [],
   "source": [
    "#so in the above we saw data x with standard deviation of 1.67 while data y with an outlier there is vast change in std that \n",
    "is 24.99"
   ]
  },
  {
   "cell_type": "code",
   "execution_count": null,
   "id": "b22004bb",
   "metadata": {},
   "outputs": [],
   "source": [
    "#there will also be change in range that is max value and min value."
   ]
  },
  {
   "cell_type": "markdown",
   "id": "cfa8a4a2",
   "metadata": {},
   "source": [
    "So in this way outliers affect the measure of dispersion and central tendency of dataset."
   ]
  },
  {
   "cell_type": "code",
   "execution_count": null,
   "id": "1d7deacc",
   "metadata": {},
   "outputs": [],
   "source": []
  }
 ],
 "metadata": {
  "kernelspec": {
   "display_name": "Python 3 (ipykernel)",
   "language": "python",
   "name": "python3"
  },
  "language_info": {
   "codemirror_mode": {
    "name": "ipython",
    "version": 3
   },
   "file_extension": ".py",
   "mimetype": "text/x-python",
   "name": "python",
   "nbconvert_exporter": "python",
   "pygments_lexer": "ipython3",
   "version": "3.11.5"
  }
 },
 "nbformat": 4,
 "nbformat_minor": 5
}
