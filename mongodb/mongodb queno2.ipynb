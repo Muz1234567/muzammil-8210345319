{
 "cells": [
  {
   "cell_type": "markdown",
   "id": "2c96036a",
   "metadata": {},
   "source": [
    "# FEATURES OF MONGO DB"
   ]
  },
  {
   "cell_type": "code",
   "execution_count": null,
   "id": "86a28c39",
   "metadata": {},
   "outputs": [],
   "source": [
    "#It is document oriented,in mongodb, all data sored in documents instead of tables like in sql wit its unique id."
   ]
  },
  {
   "cell_type": "code",
   "execution_count": null,
   "id": "622ea486",
   "metadata": {},
   "outputs": [],
   "source": [
    "#Under these documents data is stored in fields(key-value pair) instead of rows and coloumns which make data more flexible."
   ]
  },
  {
   "cell_type": "code",
   "execution_count": null,
   "id": "e5f0f9e2",
   "metadata": {},
   "outputs": [],
   "source": [
    "#In mongodb database, every field in the documjents is indexed with primary and secondary indices which makes easier and takes less time to search dat from pool of data."
   ]
  },
  {
   "cell_type": "code",
   "execution_count": null,
   "id": "bb38030e",
   "metadata": {},
   "outputs": [],
   "source": [
    "#MongoDb provides horizontal scalibility with the help of sharding which means to distribute data on multiple servers."
   ]
  },
  {
   "cell_type": "code",
   "execution_count": null,
   "id": "f7bd17dc",
   "metadata": {},
   "outputs": [],
   "source": [
    "#It can create multiple  copies of data and sends these copies to a different server so that if one sever fails then data can be retrieved from another server."
   ]
  },
  {
   "cell_type": "code",
   "execution_count": null,
   "id": "179c6f2c",
   "metadata": {},
   "outputs": [],
   "source": [
    "#Performance of MongoDb is very high and data persistence as compared to another database due to its features like scalability,indexing,replication etc."
   ]
  },
  {
   "cell_type": "code",
   "execution_count": null,
   "id": "b18bbb4a",
   "metadata": {},
   "outputs": [],
   "source": [
    "#It is also schemaless database means one collection can hold different types of documents in it."
   ]
  },
  {
   "cell_type": "code",
   "execution_count": null,
   "id": "332d310e",
   "metadata": {},
   "outputs": [],
   "source": []
  }
 ],
 "metadata": {
  "kernelspec": {
   "display_name": "Python 3 (ipykernel)",
   "language": "python",
   "name": "python3"
  },
  "language_info": {
   "codemirror_mode": {
    "name": "ipython",
    "version": 3
   },
   "file_extension": ".py",
   "mimetype": "text/x-python",
   "name": "python",
   "nbconvert_exporter": "python",
   "pygments_lexer": "ipython3",
   "version": "3.11.5"
  }
 },
 "nbformat": 4,
 "nbformat_minor": 5
}
