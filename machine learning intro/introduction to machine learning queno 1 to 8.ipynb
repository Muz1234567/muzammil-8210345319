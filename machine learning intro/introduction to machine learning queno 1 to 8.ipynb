{
 "cells": [
  {
   "cell_type": "markdown",
   "id": "a0df3ca1",
   "metadata": {},
   "source": [
    "# Que no 1"
   ]
  },
  {
   "cell_type": "markdown",
   "id": "f569b0d0",
   "metadata": {},
   "source": [
    "# Artificial intelligence"
   ]
  },
  {
   "cell_type": "code",
   "execution_count": null,
   "id": "fa8c0529",
   "metadata": {},
   "outputs": [],
   "source": [
    "#Artificial intelligence refers to simulation of human intelligence by software coded programmes."
   ]
  },
  {
   "cell_type": "code",
   "execution_count": null,
   "id": "34293e8a",
   "metadata": {},
   "outputs": [],
   "source": [
    "#Weak AI tends to be simple and single-oriented,while strong AI carries on tasks that are more complex and human like."
   ]
  },
  {
   "cell_type": "code",
   "execution_count": null,
   "id": "0f98522b",
   "metadata": {},
   "outputs": [],
   "source": [
    "#Artificial intelligence is nowadays used today across different industries from finance to healthcare."
   ]
  },
  {
   "cell_type": "code",
   "execution_count": null,
   "id": "5c39ba71",
   "metadata": {},
   "outputs": [],
   "source": [
    "#There are many example of artificial intelligence like self driving car,human robots,missile launch at specificdestination,\n",
    "#used in Google map.\n"
   ]
  },
  {
   "cell_type": "markdown",
   "id": "b1fd6c4f",
   "metadata": {},
   "source": [
    "# Machine learning"
   ]
  },
  {
   "cell_type": "code",
   "execution_count": null,
   "id": "6cbd6512",
   "metadata": {},
   "outputs": [],
   "source": [
    "#Machine learning is a branch of artificial intelligence that combines data with statistical tools to predict an output that\n",
    "#can be used to make actionable insights."
   ]
  },
  {
   "cell_type": "code",
   "execution_count": null,
   "id": "4a64d961",
   "metadata": {},
   "outputs": [],
   "source": [
    "#It is set as models in many fields like used to power robots,drones making them more intelligent adaptable to changing \n",
    "#environment."
   ]
  },
  {
   "cell_type": "code",
   "execution_count": null,
   "id": "0e7d2712",
   "metadata": {},
   "outputs": [],
   "source": [
    "#Also used in video app uses a combination of colaborative filtering to recommend tv shows and movies to users based on \n",
    "#their viewing history,ratings,and other factors such as genre preference."
   ]
  },
  {
   "cell_type": "markdown",
   "id": "b5412553",
   "metadata": {},
   "source": [
    "# Deep Learning"
   ]
  },
  {
   "cell_type": "code",
   "execution_count": null,
   "id": "08eadbcb",
   "metadata": {},
   "outputs": [],
   "source": [
    "#Deep learning is also a subset of artificial intelligence that teaches computer to process data in a way inspired by human \n",
    "#brain."
   ]
  },
  {
   "cell_type": "code",
   "execution_count": null,
   "id": "34ee0726",
   "metadata": {},
   "outputs": [],
   "source": [
    "#It isused as models that can recognize complex pattern in pictures,text,sounds and other data to produceaccurate insights\n",
    "#and prediction."
   ]
  },
  {
   "cell_type": "code",
   "execution_count": null,
   "id": "40f57335",
   "metadata": {},
   "outputs": [],
   "source": [
    "#It is used in many such as facial recognition password,voice activated television remotes etc."
   ]
  },
  {
   "cell_type": "markdown",
   "id": "4b8e6524",
   "metadata": {},
   "source": [
    "# Queno 2"
   ]
  },
  {
   "cell_type": "markdown",
   "id": "0b2d9ce4",
   "metadata": {},
   "source": [
    "# Supervised learning"
   ]
  },
  {
   "cell_type": "code",
   "execution_count": null,
   "id": "1867ed54",
   "metadata": {},
   "outputs": [],
   "source": [
    "#Supervised learning is a subcategory of machine learning and artificial intelligence."
   ]
  },
  {
   "cell_type": "code",
   "execution_count": null,
   "id": "c0ee38a2",
   "metadata": {},
   "outputs": [],
   "source": [
    "#It is used as labelled datasets to train algorithms to classify data or predict outcomes separately."
   ]
  },
  {
   "cell_type": "code",
   "execution_count": null,
   "id": "ec26f4ce",
   "metadata": {},
   "outputs": [],
   "source": [
    "#It uses a training set to teach models to yield the desired output."
   ]
  },
  {
   "cell_type": "code",
   "execution_count": null,
   "id": "2025dc59",
   "metadata": {},
   "outputs": [],
   "source": [
    "#This training set includes inputs and correct outputs,which allow model to learn over time. "
   ]
  },
  {
   "cell_type": "code",
   "execution_count": null,
   "id": "f604a8e6",
   "metadata": {},
   "outputs": [],
   "source": [
    "#Its one of example is voice recognition as algorithm learns to recognize relationships between spoken words audio features\n",
    "#such as pitch,amplitude and frequency and their textual representation from labeled dataset."
   ]
  },
  {
   "cell_type": "markdown",
   "id": "7c0425c9",
   "metadata": {},
   "source": [
    "# Queno 3"
   ]
  },
  {
   "cell_type": "markdown",
   "id": "0858afe9",
   "metadata": {},
   "source": [
    "# Unsupervised learning"
   ]
  },
  {
   "cell_type": "code",
   "execution_count": null,
   "id": "5678b6ea",
   "metadata": {},
   "outputs": [],
   "source": [
    "#Unsupervised learning is a branch of Artificial intelligence that learns from unlabeled data which means data does not\n",
    "#have any pre existing labels or categories"
   ]
  },
  {
   "cell_type": "code",
   "execution_count": null,
   "id": "9d424ed2",
   "metadata": {},
   "outputs": [],
   "source": [
    "#Unsupervised learning is the training of machine using information that is neither classified nor labeled and allows \n",
    "#algorithm to act on information without guidance."
   ]
  },
  {
   "cell_type": "code",
   "execution_count": null,
   "id": "b834ea17",
   "metadata": {},
   "outputs": [],
   "source": [
    "#Here task of machine is to group unsorted information according to similarities,patterns,and differences without\n",
    "#any prior training of data."
   ]
  },
  {
   "cell_type": "code",
   "execution_count": null,
   "id": "babd4541",
   "metadata": {},
   "outputs": [],
   "source": [
    "#For example we have a machine learning model trained on large datasets of unlabeled mobile phones product,images etc.\n",
    "#The model has never seen an image of mobile product or any human or animals and no labels or categories for these \n",
    "#products or animals and humans.so our task is use unsupervise learning to identify products,animals or humans \n",
    "#in a new unseen image."
   ]
  },
  {
   "cell_type": "markdown",
   "id": "d5980cfe",
   "metadata": {},
   "source": [
    "# Queno 4"
   ]
  },
  {
   "cell_type": "markdown",
   "id": "382d576a",
   "metadata": {},
   "source": [
    "# Difference between DL,AI,DS AND ML"
   ]
  },
  {
   "cell_type": "code",
   "execution_count": null,
   "id": "30f97d3c",
   "metadata": {},
   "outputs": [],
   "source": [
    "#Data science combines with machine learning on the grounds of cleaning and modelling of data."
   ]
  },
  {
   "cell_type": "code",
   "execution_count": null,
   "id": "3a242e94",
   "metadata": {},
   "outputs": [],
   "source": [
    "#Datascience provides modelling techniques to harness data through statistics and algorithms,eventually extract features\n",
    "#and yield out information."
   ]
  },
  {
   "cell_type": "code",
   "execution_count": null,
   "id": "7b9917bb",
   "metadata": {},
   "outputs": [],
   "source": [
    "#While machinelearning,deep learning and artificial intelligence develop functional solution in their own domain using\n",
    "#these techniques."
   ]
  },
  {
   "cell_type": "code",
   "execution_count": null,
   "id": "39b1e59b",
   "metadata": {},
   "outputs": [],
   "source": [
    "#But datascience covers entire spectrum of data processing not just algorithm or statistical aspects of it."
   ]
  },
  {
   "cell_type": "code",
   "execution_count": null,
   "id": "0dee8b3c",
   "metadata": {},
   "outputs": [],
   "source": [
    "#Cleaning and munging steps of datascience is feature extraction and grouping of information in deep learning. "
   ]
  },
  {
   "cell_type": "code",
   "execution_count": null,
   "id": "881cdf56",
   "metadata": {},
   "outputs": [],
   "source": [
    "#The evaluation and self improving stages of deep learning assists in developing superior artificial intelligence."
   ]
  },
  {
   "cell_type": "code",
   "execution_count": null,
   "id": "b916ede1",
   "metadata": {},
   "outputs": [],
   "source": [
    "#So in this way datascience is a broad feature in which machine learning,deep learning and artificial intelligence are \n",
    "#used or we can say that they are branch of datascience."
   ]
  },
  {
   "cell_type": "markdown",
   "id": "2c1fd622",
   "metadata": {},
   "source": [
    "# Queno 5"
   ]
  },
  {
   "cell_type": "markdown",
   "id": "1eec3eba",
   "metadata": {},
   "source": [
    "# Difference between supervised,unsupervised and semi supervised learning"
   ]
  },
  {
   "cell_type": "code",
   "execution_count": null,
   "id": "0751aa2b",
   "metadata": {},
   "outputs": [],
   "source": [
    "#Supervised learning is a category in which we use labelled data as input to machine learning model."
   ]
  },
  {
   "cell_type": "code",
   "execution_count": null,
   "id": "1e061b00",
   "metadata": {},
   "outputs": [],
   "source": [
    "#While in unsupervised learning is a category in which we only have input data to feed to model but no corresponding \n",
    "#output data."
   ]
  },
  {
   "cell_type": "code",
   "execution_count": null,
   "id": "8649c24b",
   "metadata": {},
   "outputs": [],
   "source": [
    "#In semi supervised learning is a category in which we have input data in which only some input data are labelled."
   ]
  },
  {
   "cell_type": "code",
   "execution_count": null,
   "id": "7b86bca8",
   "metadata": {},
   "outputs": [],
   "source": [
    "#In supervised learning input and output are already known and machine learning model algorithm learn the mapping function\n",
    "#from output to input."
   ]
  },
  {
   "cell_type": "code",
   "execution_count": null,
   "id": "4bdf3cfd",
   "metadata": {},
   "outputs": [],
   "source": [
    "#In unsupervised learning machine learning model algorithm generate a pseudo output for learning the mapping function \n",
    "#and in this learning there is no supervision as there is no existence of output data. "
   ]
  },
  {
   "cell_type": "code",
   "execution_count": null,
   "id": "d6a37be1",
   "metadata": {},
   "outputs": [],
   "source": [
    "#While semisupervised learning is partially supervised and partially unsupervised."
   ]
  },
  {
   "cell_type": "code",
   "execution_count": null,
   "id": "fc5dea5e",
   "metadata": {},
   "outputs": [],
   "source": [
    "#Some frequently used algorithms in supervised learning are linear regression and logistic regression,support vector machine\n",
    "#and random forest."
   ]
  },
  {
   "cell_type": "code",
   "execution_count": null,
   "id": "45403550",
   "metadata": {},
   "outputs": [],
   "source": [
    "#Frequently used algorithm in unsupervised learning are k means,Apriori algorithm for learning association rule,\n",
    "#principal component analysis. "
   ]
  },
  {
   "cell_type": "markdown",
   "id": "c635cca3",
   "metadata": {},
   "source": [
    "# Queno 6"
   ]
  },
  {
   "cell_type": "markdown",
   "id": "9673bcc6",
   "metadata": {},
   "source": [
    "# Train,Test Validation Split And Its importance"
   ]
  },
  {
   "cell_type": "code",
   "execution_count": null,
   "id": "3c370501",
   "metadata": {},
   "outputs": [],
   "source": [
    "#Train test validation split is a technique to evaluate the performance of our machine learning model,classification or \n",
    "#regression."
   ]
  },
  {
   "cell_type": "code",
   "execution_count": null,
   "id": "b93e9696",
   "metadata": {},
   "outputs": [],
   "source": [
    "#Given dataset is to be divide in to three subset."
   ]
  },
  {
   "cell_type": "code",
   "execution_count": null,
   "id": "4e55d8ce",
   "metadata": {},
   "outputs": [],
   "source": [
    "#First we have to train dataset that is to fit the parameter to machine learning model."
   ]
  },
  {
   "cell_type": "code",
   "execution_count": null,
   "id": "d72843c9",
   "metadata": {},
   "outputs": [],
   "source": [
    "#Second is to test validity means to provide an unbiased evaluation of model fitted on training dataset."
   ]
  },
  {
   "cell_type": "code",
   "execution_count": null,
   "id": "64e939c8",
   "metadata": {},
   "outputs": [],
   "source": [
    "#Third is to test dataset finally to be fitted on on the training dataset. "
   ]
  },
  {
   "cell_type": "code",
   "execution_count": null,
   "id": "a4adbb4d",
   "metadata": {},
   "outputs": [],
   "source": [
    "#It is very necessary as it allows us to realistically measure our models performance by ensuring dataset used to train model "
   ]
  },
  {
   "cell_type": "markdown",
   "id": "9e79b727",
   "metadata": {},
   "source": [
    "# Queno 7"
   ]
  },
  {
   "cell_type": "code",
   "execution_count": null,
   "id": "3b7d8036",
   "metadata": {},
   "outputs": [],
   "source": [
    "#Anomaly detection used in unsupervised learning as its objective is to detect previously unseen rare objects or events\n",
    "#without any prior knowledge which only be needed in unsupervised learning."
   ]
  },
  {
   "cell_type": "code",
   "execution_count": null,
   "id": "7dd06504",
   "metadata": {},
   "outputs": [],
   "source": [
    "#Anomaly detection is the identification of data points,items,observations or events that do not conform to the expected \n",
    "#pattern of given group which mostly occur in unsupervised learning as there is not labelling of datasets."
   ]
  },
  {
   "cell_type": "code",
   "execution_count": null,
   "id": "a4b17edd",
   "metadata": {},
   "outputs": [],
   "source": [
    "#These anomalies occur very infrequently which may signify a large and significant threat such as cyber intrusions\n",
    "#or fraud that;s why anomaly detection is used in unsupervised learning."
   ]
  },
  {
   "cell_type": "markdown",
   "id": "1104d2ea",
   "metadata": {},
   "source": [
    "# Queno 8"
   ]
  },
  {
   "cell_type": "code",
   "execution_count": null,
   "id": "0037e830",
   "metadata": {},
   "outputs": [],
   "source": [
    "#Commonly used supervised learning algorithms are;Regression,decision tree,random forest,logistic regression etc."
   ]
  },
  {
   "cell_type": "code",
   "execution_count": null,
   "id": "7a05ca71",
   "metadata": {},
   "outputs": [],
   "source": [
    "#Commonly used unsupervised learning algorithms are;Anamoly detection,neural network,hierarchal clustering,apriori algorithm\n",
    "#etc.\n"
   ]
  },
  {
   "cell_type": "code",
   "execution_count": null,
   "id": "2e252a63",
   "metadata": {},
   "outputs": [],
   "source": []
  },
  {
   "cell_type": "code",
   "execution_count": null,
   "id": "d390b2ec",
   "metadata": {},
   "outputs": [],
   "source": []
  },
  {
   "cell_type": "code",
   "execution_count": null,
   "id": "f4b562b2",
   "metadata": {},
   "outputs": [],
   "source": []
  },
  {
   "cell_type": "code",
   "execution_count": null,
   "id": "a049fcb9",
   "metadata": {},
   "outputs": [],
   "source": []
  }
 ],
 "metadata": {
  "kernelspec": {
   "display_name": "Python 3 (ipykernel)",
   "language": "python",
   "name": "python3"
  },
  "language_info": {
   "codemirror_mode": {
    "name": "ipython",
    "version": 3
   },
   "file_extension": ".py",
   "mimetype": "text/x-python",
   "name": "python",
   "nbconvert_exporter": "python",
   "pygments_lexer": "ipython3",
   "version": "3.11.5"
  }
 },
 "nbformat": 4,
 "nbformat_minor": 5
}
