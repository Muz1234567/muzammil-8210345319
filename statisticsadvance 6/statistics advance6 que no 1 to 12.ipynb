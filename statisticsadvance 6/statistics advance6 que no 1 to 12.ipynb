{
 "cells": [
  {
   "cell_type": "markdown",
   "id": "47d01f7c",
   "metadata": {},
   "source": [
    "# Que no 1"
   ]
  },
  {
   "cell_type": "markdown",
   "id": "fb748a70",
   "metadata": {},
   "source": [
    "# Assumptions Required in One Way ANOVA"
   ]
  },
  {
   "cell_type": "code",
   "execution_count": null,
   "id": "b85e91db",
   "metadata": {},
   "outputs": [],
   "source": [
    "#Each sample would be drawn from normally distributed population and should be same in size."
   ]
  },
  {
   "cell_type": "code",
   "execution_count": null,
   "id": "016cf065",
   "metadata": {},
   "outputs": [],
   "source": [
    "#The variances of populations that the samples come from are equal."
   ]
  },
  {
   "cell_type": "code",
   "execution_count": null,
   "id": "627666d6",
   "metadata": {},
   "outputs": [],
   "source": [
    "#The observations in each are independent of each other and observations within group obtained by random sample. "
   ]
  },
  {
   "cell_type": "code",
   "execution_count": null,
   "id": "04a5bdec",
   "metadata": {},
   "outputs": [],
   "source": [
    "#If these assumptions are not met then results of our one way ANOVA could be unreliable. "
   ]
  },
  {
   "cell_type": "markdown",
   "id": "d82fe8ca",
   "metadata": {},
   "source": [
    "# Two Way ANOVA Assumptions"
   ]
  },
  {
   "cell_type": "code",
   "execution_count": null,
   "id": "32175715",
   "metadata": {},
   "outputs": [],
   "source": [
    "#In two way ANOVA two variables for testing should be independent of each other."
   ]
  },
  {
   "cell_type": "code",
   "execution_count": null,
   "id": "ebceb7d1",
   "metadata": {},
   "outputs": [],
   "source": [
    "#One variable should not affect the other variables."
   ]
  },
  {
   "cell_type": "code",
   "execution_count": null,
   "id": "ed06a508",
   "metadata": {},
   "outputs": [],
   "source": [
    "#In two way ANOVA variation around mean for each set of data should not vary significantly for all groups. "
   ]
  },
  {
   "cell_type": "code",
   "execution_count": null,
   "id": "6e42f37b",
   "metadata": {},
   "outputs": [],
   "source": [
    "#The two variables in two way ANOVA test should have a normal distribution."
   ]
  },
  {
   "cell_type": "code",
   "execution_count": null,
   "id": "b14c322d",
   "metadata": {},
   "outputs": [],
   "source": [
    "#Suppose we took three different brands of chocolate of Munch,Diary Milk and Fivestar. "
   ]
  },
  {
   "cell_type": "code",
   "execution_count": null,
   "id": "8c0586db",
   "metadata": {},
   "outputs": [],
   "source": [
    "#We take six sample from Munch and Diary milk and 5 sample from Fivestar."
   ]
  },
  {
   "cell_type": "code",
   "execution_count": null,
   "id": "7641d5b0",
   "metadata": {},
   "outputs": [],
   "source": [
    "#So in this case sample size were different so there would be violation of the validity of reult in testing ANOVA in \n",
    "#these category of chocolates."
   ]
  },
  {
   "cell_type": "markdown",
   "id": "0a88ee50",
   "metadata": {},
   "source": [
    "# Que no 2"
   ]
  },
  {
   "cell_type": "code",
   "execution_count": null,
   "id": "676b7320",
   "metadata": {},
   "outputs": [],
   "source": [
    "#The three types of using ANOVA are one-way ANOVA,two-way ANOVA and n-way ANOVA."
   ]
  },
  {
   "cell_type": "code",
   "execution_count": null,
   "id": "381b26f6",
   "metadata": {},
   "outputs": [],
   "source": [
    "#We use one way ANOVA when we have to collect data about one independent variable and one quantative dependent variable\n",
    "#and independent variable have at least three or more categories."
   ]
  },
  {
   "cell_type": "code",
   "execution_count": null,
   "id": "e6e6382e",
   "metadata": {},
   "outputs": [],
   "source": [
    "#It is a hypotheses test which allows to compares between the means of three or more groups of data of one independent \n",
    "#variable."
   ]
  },
  {
   "cell_type": "code",
   "execution_count": null,
   "id": "2b90a1a1",
   "metadata": {},
   "outputs": [],
   "source": [
    "#We use two way ANOVA when we have to collect data of two independent or factor variable and we can compare multiple groups\n",
    "#of two independent variable that howit affect dependent variable."
   ]
  },
  {
   "cell_type": "code",
   "execution_count": null,
   "id": "56273141",
   "metadata": {},
   "outputs": [],
   "source": [
    "#When use n way ANOVA when researcher wants to compare multiple groups of independent variable more than two that may \n",
    "#3,4 or else."
   ]
  },
  {
   "cell_type": "markdown",
   "id": "79054db7",
   "metadata": {},
   "source": [
    "# Queno 3"
   ]
  },
  {
   "cell_type": "code",
   "execution_count": null,
   "id": "e8712736",
   "metadata": {},
   "outputs": [],
   "source": [
    "#Variance partitioning is also called partition of total sum of squares in ANOVA. "
   ]
  },
  {
   "cell_type": "code",
   "execution_count": null,
   "id": "89bb17b3",
   "metadata": {},
   "outputs": [],
   "source": [
    "#There are three types partioning of sum of sqaures in ANOVA."
   ]
  },
  {
   "cell_type": "code",
   "execution_count": null,
   "id": "c009eca6",
   "metadata": {},
   "outputs": [],
   "source": [
    "#First one is partition of sum of squares due to groups which measures variance difference between groups. \n",
    "#The between partition is measure of variability across means,which will be part of numerator F statistic."
   ]
  },
  {
   "cell_type": "code",
   "execution_count": null,
   "id": "f752787d",
   "metadata": {},
   "outputs": [],
   "source": [
    "#Second one is partition of sum of square for error which measures random variation within group. \n",
    "#The within partition is a mmeasure of variability within each level and will contribute to denominator of F statistic."
   ]
  },
  {
   "cell_type": "code",
   "execution_count": null,
   "id": "bc380e39",
   "metadata": {},
   "outputs": [],
   "source": [
    "#The third one partition of sum of squares total that is sum of squared deviation from mean is called sum of square total.\n",
    "#It can be calculated by subtracting mean from all data point square their difference and add them together or it can also\n",
    "#simply calculated by the sum of square within output with sum of square between output."
   ]
  },
  {
   "cell_type": "markdown",
   "id": "d60a4870",
   "metadata": {},
   "source": [
    "# Que no 4"
   ]
  },
  {
   "cell_type": "code",
   "execution_count": 2,
   "id": "ec77b16f",
   "metadata": {},
   "outputs": [],
   "source": [
    "import pandas as pd"
   ]
  },
  {
   "cell_type": "code",
   "execution_count": 36,
   "id": "1e91477b",
   "metadata": {},
   "outputs": [],
   "source": [
    "data=[[1,76,1],[2,86,1],[3,78,1],[4,90,2],[5,87,2],\n",
    "      [6,86,2],[7,65,3],[8,90,3],[9,99,3]]"
   ]
  },
  {
   "cell_type": "code",
   "execution_count": 37,
   "id": "63bb6b33",
   "metadata": {},
   "outputs": [],
   "source": [
    "df=pd.DataFrame(data,columns=['subject','score','faculty'])"
   ]
  },
  {
   "cell_type": "code",
   "execution_count": 38,
   "id": "f84d4db5",
   "metadata": {},
   "outputs": [
    {
     "data": {
      "text/html": [
       "<div>\n",
       "<style scoped>\n",
       "    .dataframe tbody tr th:only-of-type {\n",
       "        vertical-align: middle;\n",
       "    }\n",
       "\n",
       "    .dataframe tbody tr th {\n",
       "        vertical-align: top;\n",
       "    }\n",
       "\n",
       "    .dataframe thead th {\n",
       "        text-align: right;\n",
       "    }\n",
       "</style>\n",
       "<table border=\"1\" class=\"dataframe\">\n",
       "  <thead>\n",
       "    <tr style=\"text-align: right;\">\n",
       "      <th></th>\n",
       "      <th>subject</th>\n",
       "      <th>score</th>\n",
       "      <th>faculty</th>\n",
       "    </tr>\n",
       "  </thead>\n",
       "  <tbody>\n",
       "    <tr>\n",
       "      <th>0</th>\n",
       "      <td>1</td>\n",
       "      <td>76</td>\n",
       "      <td>1</td>\n",
       "    </tr>\n",
       "    <tr>\n",
       "      <th>1</th>\n",
       "      <td>2</td>\n",
       "      <td>86</td>\n",
       "      <td>1</td>\n",
       "    </tr>\n",
       "    <tr>\n",
       "      <th>2</th>\n",
       "      <td>3</td>\n",
       "      <td>78</td>\n",
       "      <td>1</td>\n",
       "    </tr>\n",
       "    <tr>\n",
       "      <th>3</th>\n",
       "      <td>4</td>\n",
       "      <td>90</td>\n",
       "      <td>2</td>\n",
       "    </tr>\n",
       "    <tr>\n",
       "      <th>4</th>\n",
       "      <td>5</td>\n",
       "      <td>87</td>\n",
       "      <td>2</td>\n",
       "    </tr>\n",
       "    <tr>\n",
       "      <th>5</th>\n",
       "      <td>6</td>\n",
       "      <td>86</td>\n",
       "      <td>2</td>\n",
       "    </tr>\n",
       "    <tr>\n",
       "      <th>6</th>\n",
       "      <td>7</td>\n",
       "      <td>65</td>\n",
       "      <td>3</td>\n",
       "    </tr>\n",
       "    <tr>\n",
       "      <th>7</th>\n",
       "      <td>8</td>\n",
       "      <td>90</td>\n",
       "      <td>3</td>\n",
       "    </tr>\n",
       "    <tr>\n",
       "      <th>8</th>\n",
       "      <td>9</td>\n",
       "      <td>99</td>\n",
       "      <td>3</td>\n",
       "    </tr>\n",
       "  </tbody>\n",
       "</table>\n",
       "</div>"
      ],
      "text/plain": [
       "   subject  score  faculty\n",
       "0        1     76        1\n",
       "1        2     86        1\n",
       "2        3     78        1\n",
       "3        4     90        2\n",
       "4        5     87        2\n",
       "5        6     86        2\n",
       "6        7     65        3\n",
       "7        8     90        3\n",
       "8        9     99        3"
      ]
     },
     "execution_count": 38,
     "metadata": {},
     "output_type": "execute_result"
    }
   ],
   "source": [
    "df"
   ]
  },
  {
   "cell_type": "code",
   "execution_count": null,
   "id": "21851600",
   "metadata": {},
   "outputs": [],
   "source": [
    "#For calculating sum of square total we have calculate faculty wise mean.\n",
    "#FACULTY 1 AS social science\n",
    "#faculty 2 as science\n",
    "#faculty 3 as arts"
   ]
  },
  {
   "cell_type": "code",
   "execution_count": 9,
   "id": "2018148b",
   "metadata": {},
   "outputs": [
    {
     "data": {
      "text/plain": [
       "80.0"
      ]
     },
     "execution_count": 9,
     "metadata": {},
     "output_type": "execute_result"
    }
   ],
   "source": [
    "faculty_socialscience_mean=(76+86+78)/3\n",
    "faculty_socialscience_mean"
   ]
  },
  {
   "cell_type": "code",
   "execution_count": 10,
   "id": "69918ed7",
   "metadata": {},
   "outputs": [
    {
     "data": {
      "text/plain": [
       "87.66666666666667"
      ]
     },
     "execution_count": 10,
     "metadata": {},
     "output_type": "execute_result"
    }
   ],
   "source": [
    "faculty_science_mean=(90+87+86)/3\n",
    "faculty_science_mean"
   ]
  },
  {
   "cell_type": "code",
   "execution_count": 11,
   "id": "6ae772b6",
   "metadata": {},
   "outputs": [
    {
     "data": {
      "text/plain": [
       "84.66666666666667"
      ]
     },
     "execution_count": 11,
     "metadata": {},
     "output_type": "execute_result"
    }
   ],
   "source": [
    "faculty_arts_mean=(65+90+99)/3\n",
    "faculty_arts_mean"
   ]
  },
  {
   "cell_type": "code",
   "execution_count": 12,
   "id": "9553949a",
   "metadata": {},
   "outputs": [
    {
     "data": {
      "text/plain": [
       "84.11111111111111"
      ]
     },
     "execution_count": 12,
     "metadata": {},
     "output_type": "execute_result"
    }
   ],
   "source": [
    "#Now calculate whole mean of score=\n",
    "grand_mean=(76+86+78+90+87+86+65+90+99)/9\n",
    "grand_mean"
   ]
  },
  {
   "cell_type": "code",
   "execution_count": null,
   "id": "48487544",
   "metadata": {},
   "outputs": [],
   "source": [
    "#Now square all the score and add all"
   ]
  },
  {
   "cell_type": "code",
   "execution_count": 13,
   "id": "5892162f",
   "metadata": {},
   "outputs": [
    {
     "data": {
      "text/plain": [
       "64447"
      ]
     },
     "execution_count": 13,
     "metadata": {},
     "output_type": "execute_result"
    }
   ],
   "source": [
    "square_score=(76*76)+(86*86)+(78*78)+(90*90)+(87*87)+(86*86)+(65*65)+(90*90)+(99*99)\n",
    "square_score"
   ]
  },
  {
   "cell_type": "code",
   "execution_count": null,
   "id": "c45a684c",
   "metadata": {},
   "outputs": [],
   "source": [
    "#Now we have to squareeach faculty mean and multiply it with number of subject and add them later"
   ]
  },
  {
   "cell_type": "code",
   "execution_count": 19,
   "id": "c56ee354",
   "metadata": {},
   "outputs": [
    {
     "data": {
      "text/plain": [
       "63754.77359999999"
      ]
     },
     "execution_count": 19,
     "metadata": {},
     "output_type": "execute_result"
    }
   ],
   "source": [
    "result=3*80*80+3*87.66*87.66+3*84.66*84.66\n",
    "result"
   ]
  },
  {
   "cell_type": "code",
   "execution_count": 21,
   "id": "95a8872f",
   "metadata": {},
   "outputs": [
    {
     "data": {
      "text/plain": [
       "63670.4289"
      ]
     },
     "execution_count": 21,
     "metadata": {},
     "output_type": "execute_result"
    }
   ],
   "source": [
    "#now we have to square the grandmean and multiply it with 9\n",
    "result2=84.11*84.11*9\n",
    "result2"
   ]
  },
  {
   "cell_type": "code",
   "execution_count": 22,
   "id": "a674b11f",
   "metadata": {},
   "outputs": [
    {
     "data": {
      "text/plain": [
       "692.3000000000029"
      ]
     },
     "execution_count": 22,
     "metadata": {},
     "output_type": "execute_result"
    }
   ],
   "source": [
    "#Now we have to find sum of square within faculty and between faculty\n",
    "#sum_of_squarewithin=sum of all squarescore -sum of square of all faculty mean multiply by no of subject of each faculty.\n",
    "sum_of_squarewithin=64447-63754.7\n",
    "sum_of_squarewithin"
   ]
  },
  {
   "cell_type": "code",
   "execution_count": 25,
   "id": "871c7d46",
   "metadata": {},
   "outputs": [
    {
     "data": {
      "text/plain": [
       "84.27999999999884"
      ]
     },
     "execution_count": 25,
     "metadata": {},
     "output_type": "execute_result"
    }
   ],
   "source": [
    "#Now we have to calculate sum of squares between\n",
    "#sum of squaresbetween=sum of square of all faculty mean multiply by no of subject of each faculty-sum of square of grand \n",
    "#mean multiply by toatl no of subject\n",
    "sum_of_squarebetween=63754.7-63670.42\n",
    "sum_of_squarebetween"
   ]
  },
  {
   "cell_type": "code",
   "execution_count": 26,
   "id": "464721e2",
   "metadata": {},
   "outputs": [
    {
     "data": {
      "text/plain": [
       "776.5800000000017"
      ]
     },
     "execution_count": 26,
     "metadata": {},
     "output_type": "execute_result"
    }
   ],
   "source": [
    "#Now its very easy to calculate total sum of square of whole sample \n",
    "sum_of_squaretotal=sum_of_squarewithin+sum_of_squarebetween\n",
    "sum_of_squaretotal"
   ]
  },
  {
   "cell_type": "code",
   "execution_count": null,
   "id": "bf7a51f0",
   "metadata": {},
   "outputs": [],
   "source": [
    "#So in this way we have calculated sum of square total(SST)"
   ]
  },
  {
   "cell_type": "code",
   "execution_count": 27,
   "id": "0ce16afc",
   "metadata": {},
   "outputs": [],
   "source": [
    "#It can also be calculate using python\n",
    "import statsmodels.api as sm\n",
    "import numpy as np"
   ]
  },
  {
   "cell_type": "code",
   "execution_count": null,
   "id": "ff2e4e70",
   "metadata": {},
   "outputs": [],
   "source": [
    "#now we have to define response variable x and y"
   ]
  },
  {
   "cell_type": "code",
   "execution_count": 28,
   "id": "6bc3b481",
   "metadata": {},
   "outputs": [
    {
     "data": {
      "text/plain": [
       "0    76\n",
       "1    86\n",
       "2    78\n",
       "3    90\n",
       "4    87\n",
       "5    86\n",
       "6    65\n",
       "7    90\n",
       "8    99\n",
       "Name: score, dtype: int64"
      ]
     },
     "execution_count": 28,
     "metadata": {},
     "output_type": "execute_result"
    }
   ],
   "source": [
    "y=df['score']\n",
    "y"
   ]
  },
  {
   "cell_type": "code",
   "execution_count": 39,
   "id": "765c34bb",
   "metadata": {},
   "outputs": [
    {
     "data": {
      "text/html": [
       "<div>\n",
       "<style scoped>\n",
       "    .dataframe tbody tr th:only-of-type {\n",
       "        vertical-align: middle;\n",
       "    }\n",
       "\n",
       "    .dataframe tbody tr th {\n",
       "        vertical-align: top;\n",
       "    }\n",
       "\n",
       "    .dataframe thead th {\n",
       "        text-align: right;\n",
       "    }\n",
       "</style>\n",
       "<table border=\"1\" class=\"dataframe\">\n",
       "  <thead>\n",
       "    <tr style=\"text-align: right;\">\n",
       "      <th></th>\n",
       "      <th>faculty</th>\n",
       "    </tr>\n",
       "  </thead>\n",
       "  <tbody>\n",
       "    <tr>\n",
       "      <th>0</th>\n",
       "      <td>1</td>\n",
       "    </tr>\n",
       "    <tr>\n",
       "      <th>1</th>\n",
       "      <td>1</td>\n",
       "    </tr>\n",
       "    <tr>\n",
       "      <th>2</th>\n",
       "      <td>1</td>\n",
       "    </tr>\n",
       "    <tr>\n",
       "      <th>3</th>\n",
       "      <td>2</td>\n",
       "    </tr>\n",
       "    <tr>\n",
       "      <th>4</th>\n",
       "      <td>2</td>\n",
       "    </tr>\n",
       "    <tr>\n",
       "      <th>5</th>\n",
       "      <td>2</td>\n",
       "    </tr>\n",
       "    <tr>\n",
       "      <th>6</th>\n",
       "      <td>3</td>\n",
       "    </tr>\n",
       "    <tr>\n",
       "      <th>7</th>\n",
       "      <td>3</td>\n",
       "    </tr>\n",
       "    <tr>\n",
       "      <th>8</th>\n",
       "      <td>3</td>\n",
       "    </tr>\n",
       "  </tbody>\n",
       "</table>\n",
       "</div>"
      ],
      "text/plain": [
       "   faculty\n",
       "0        1\n",
       "1        1\n",
       "2        1\n",
       "3        2\n",
       "4        2\n",
       "5        2\n",
       "6        3\n",
       "7        3\n",
       "8        3"
      ]
     },
     "execution_count": 39,
     "metadata": {},
     "output_type": "execute_result"
    }
   ],
   "source": [
    "x=df[['faculty']]\n",
    "x"
   ]
  },
  {
   "cell_type": "code",
   "execution_count": 40,
   "id": "339ef0a1",
   "metadata": {},
   "outputs": [
    {
     "data": {
      "text/html": [
       "<div>\n",
       "<style scoped>\n",
       "    .dataframe tbody tr th:only-of-type {\n",
       "        vertical-align: middle;\n",
       "    }\n",
       "\n",
       "    .dataframe tbody tr th {\n",
       "        vertical-align: top;\n",
       "    }\n",
       "\n",
       "    .dataframe thead th {\n",
       "        text-align: right;\n",
       "    }\n",
       "</style>\n",
       "<table border=\"1\" class=\"dataframe\">\n",
       "  <thead>\n",
       "    <tr style=\"text-align: right;\">\n",
       "      <th></th>\n",
       "      <th>const</th>\n",
       "      <th>faculty</th>\n",
       "    </tr>\n",
       "  </thead>\n",
       "  <tbody>\n",
       "    <tr>\n",
       "      <th>0</th>\n",
       "      <td>1.0</td>\n",
       "      <td>1</td>\n",
       "    </tr>\n",
       "    <tr>\n",
       "      <th>1</th>\n",
       "      <td>1.0</td>\n",
       "      <td>1</td>\n",
       "    </tr>\n",
       "    <tr>\n",
       "      <th>2</th>\n",
       "      <td>1.0</td>\n",
       "      <td>1</td>\n",
       "    </tr>\n",
       "    <tr>\n",
       "      <th>3</th>\n",
       "      <td>1.0</td>\n",
       "      <td>2</td>\n",
       "    </tr>\n",
       "    <tr>\n",
       "      <th>4</th>\n",
       "      <td>1.0</td>\n",
       "      <td>2</td>\n",
       "    </tr>\n",
       "    <tr>\n",
       "      <th>5</th>\n",
       "      <td>1.0</td>\n",
       "      <td>2</td>\n",
       "    </tr>\n",
       "    <tr>\n",
       "      <th>6</th>\n",
       "      <td>1.0</td>\n",
       "      <td>3</td>\n",
       "    </tr>\n",
       "    <tr>\n",
       "      <th>7</th>\n",
       "      <td>1.0</td>\n",
       "      <td>3</td>\n",
       "    </tr>\n",
       "    <tr>\n",
       "      <th>8</th>\n",
       "      <td>1.0</td>\n",
       "      <td>3</td>\n",
       "    </tr>\n",
       "  </tbody>\n",
       "</table>\n",
       "</div>"
      ],
      "text/plain": [
       "   const  faculty\n",
       "0    1.0        1\n",
       "1    1.0        1\n",
       "2    1.0        1\n",
       "3    1.0        2\n",
       "4    1.0        2\n",
       "5    1.0        2\n",
       "6    1.0        3\n",
       "7    1.0        3\n",
       "8    1.0        3"
      ]
     },
     "execution_count": 40,
     "metadata": {},
     "output_type": "execute_result"
    }
   ],
   "source": [
    "x=sm.add_constant(x)\n",
    "x"
   ]
  },
  {
   "cell_type": "code",
   "execution_count": 41,
   "id": "0d1d66d0",
   "metadata": {},
   "outputs": [],
   "source": [
    "model=sm.OLS(y,x).fit() #Now we have fit linear regressor model as variable x and y."
   ]
  },
  {
   "cell_type": "code",
   "execution_count": 43,
   "id": "b2d78a4c",
   "metadata": {},
   "outputs": [
    {
     "data": {
      "text/plain": [
       "3.4129278203481855e-26"
      ]
     },
     "execution_count": 43,
     "metadata": {},
     "output_type": "execute_result"
    }
   ],
   "source": [
    "sse=np.sum(model.fittedvalues-df.score)**2\n",
    "sse\n",
    "#this is sum of squareerror is the sum of squared difference between predicteddata point and observed data points."
   ]
  },
  {
   "cell_type": "code",
   "execution_count": 48,
   "id": "9ad25762",
   "metadata": {},
   "outputs": [
    {
     "data": {
      "text/plain": [
       "4.543838814073028e-26"
      ]
     },
     "execution_count": 48,
     "metadata": {},
     "output_type": "execute_result"
    }
   ],
   "source": [
    "ssr=np.sum(model.fittedvalues-df.score.mean())**2\n",
    "ssr\n",
    "#this sum of square regression is the sum of of differences between predicted values and mean of dependent variable."
   ]
  },
  {
   "cell_type": "code",
   "execution_count": 49,
   "id": "ae174717",
   "metadata": {},
   "outputs": [
    {
     "data": {
      "text/plain": [
       "7.956766634421213e-26"
      ]
     },
     "execution_count": 49,
     "metadata": {},
     "output_type": "execute_result"
    }
   ],
   "source": [
    "sst=ssr+sse\n",
    "sst #This is the sum of square total as we have calculated above manually"
   ]
  },
  {
   "cell_type": "markdown",
   "id": "a68d57d5",
   "metadata": {},
   "source": [
    "# Que no 5"
   ]
  },
  {
   "cell_type": "code",
   "execution_count": null,
   "id": "85733f79",
   "metadata": {},
   "outputs": [],
   "source": [
    "#first of all we have to create a dataframe using pandas."
   ]
  },
  {
   "cell_type": "code",
   "execution_count": 1,
   "id": "a205cf6d",
   "metadata": {},
   "outputs": [],
   "source": [
    "import numpy as np\n",
    "import pandas as pd"
   ]
  },
  {
   "cell_type": "code",
   "execution_count": 39,
   "id": "874a238b",
   "metadata": {},
   "outputs": [],
   "source": [
    "df2=pd.DataFrame({'age':np.repeat(['teenager','adult'],15),'economic_condition':np.tile(np.repeat(['low','med','high'],\n",
    "                                                                                                 5),2),\n",
    "                 'height_in_cm':[145,154,150,156,174,165,166,170,173,169,178,175,177,172,179,169,170,171,168,176,183,187,\n",
    "                                188,189,184,183,192,195,196,187]})"
   ]
  },
  {
   "cell_type": "code",
   "execution_count": 50,
   "id": "09e771d4",
   "metadata": {},
   "outputs": [
    {
     "data": {
      "text/html": [
       "<div>\n",
       "<style scoped>\n",
       "    .dataframe tbody tr th:only-of-type {\n",
       "        vertical-align: middle;\n",
       "    }\n",
       "\n",
       "    .dataframe tbody tr th {\n",
       "        vertical-align: top;\n",
       "    }\n",
       "\n",
       "    .dataframe thead th {\n",
       "        text-align: right;\n",
       "    }\n",
       "</style>\n",
       "<table border=\"1\" class=\"dataframe\">\n",
       "  <thead>\n",
       "    <tr style=\"text-align: right;\">\n",
       "      <th></th>\n",
       "      <th>age</th>\n",
       "      <th>economic_condition</th>\n",
       "      <th>height_in_cm</th>\n",
       "    </tr>\n",
       "  </thead>\n",
       "  <tbody>\n",
       "    <tr>\n",
       "      <th>0</th>\n",
       "      <td>teenager</td>\n",
       "      <td>low</td>\n",
       "      <td>145</td>\n",
       "    </tr>\n",
       "    <tr>\n",
       "      <th>1</th>\n",
       "      <td>teenager</td>\n",
       "      <td>low</td>\n",
       "      <td>154</td>\n",
       "    </tr>\n",
       "    <tr>\n",
       "      <th>2</th>\n",
       "      <td>teenager</td>\n",
       "      <td>low</td>\n",
       "      <td>150</td>\n",
       "    </tr>\n",
       "    <tr>\n",
       "      <th>3</th>\n",
       "      <td>teenager</td>\n",
       "      <td>low</td>\n",
       "      <td>156</td>\n",
       "    </tr>\n",
       "    <tr>\n",
       "      <th>4</th>\n",
       "      <td>teenager</td>\n",
       "      <td>low</td>\n",
       "      <td>174</td>\n",
       "    </tr>\n",
       "    <tr>\n",
       "      <th>5</th>\n",
       "      <td>teenager</td>\n",
       "      <td>med</td>\n",
       "      <td>165</td>\n",
       "    </tr>\n",
       "    <tr>\n",
       "      <th>6</th>\n",
       "      <td>teenager</td>\n",
       "      <td>med</td>\n",
       "      <td>166</td>\n",
       "    </tr>\n",
       "    <tr>\n",
       "      <th>7</th>\n",
       "      <td>teenager</td>\n",
       "      <td>med</td>\n",
       "      <td>170</td>\n",
       "    </tr>\n",
       "    <tr>\n",
       "      <th>8</th>\n",
       "      <td>teenager</td>\n",
       "      <td>med</td>\n",
       "      <td>173</td>\n",
       "    </tr>\n",
       "    <tr>\n",
       "      <th>9</th>\n",
       "      <td>teenager</td>\n",
       "      <td>med</td>\n",
       "      <td>169</td>\n",
       "    </tr>\n",
       "    <tr>\n",
       "      <th>10</th>\n",
       "      <td>teenager</td>\n",
       "      <td>high</td>\n",
       "      <td>178</td>\n",
       "    </tr>\n",
       "    <tr>\n",
       "      <th>11</th>\n",
       "      <td>teenager</td>\n",
       "      <td>high</td>\n",
       "      <td>175</td>\n",
       "    </tr>\n",
       "    <tr>\n",
       "      <th>12</th>\n",
       "      <td>teenager</td>\n",
       "      <td>high</td>\n",
       "      <td>177</td>\n",
       "    </tr>\n",
       "    <tr>\n",
       "      <th>13</th>\n",
       "      <td>teenager</td>\n",
       "      <td>high</td>\n",
       "      <td>172</td>\n",
       "    </tr>\n",
       "    <tr>\n",
       "      <th>14</th>\n",
       "      <td>teenager</td>\n",
       "      <td>high</td>\n",
       "      <td>179</td>\n",
       "    </tr>\n",
       "    <tr>\n",
       "      <th>15</th>\n",
       "      <td>adult</td>\n",
       "      <td>low</td>\n",
       "      <td>169</td>\n",
       "    </tr>\n",
       "    <tr>\n",
       "      <th>16</th>\n",
       "      <td>adult</td>\n",
       "      <td>low</td>\n",
       "      <td>170</td>\n",
       "    </tr>\n",
       "    <tr>\n",
       "      <th>17</th>\n",
       "      <td>adult</td>\n",
       "      <td>low</td>\n",
       "      <td>171</td>\n",
       "    </tr>\n",
       "    <tr>\n",
       "      <th>18</th>\n",
       "      <td>adult</td>\n",
       "      <td>low</td>\n",
       "      <td>168</td>\n",
       "    </tr>\n",
       "    <tr>\n",
       "      <th>19</th>\n",
       "      <td>adult</td>\n",
       "      <td>low</td>\n",
       "      <td>176</td>\n",
       "    </tr>\n",
       "    <tr>\n",
       "      <th>20</th>\n",
       "      <td>adult</td>\n",
       "      <td>med</td>\n",
       "      <td>183</td>\n",
       "    </tr>\n",
       "    <tr>\n",
       "      <th>21</th>\n",
       "      <td>adult</td>\n",
       "      <td>med</td>\n",
       "      <td>187</td>\n",
       "    </tr>\n",
       "    <tr>\n",
       "      <th>22</th>\n",
       "      <td>adult</td>\n",
       "      <td>med</td>\n",
       "      <td>188</td>\n",
       "    </tr>\n",
       "    <tr>\n",
       "      <th>23</th>\n",
       "      <td>adult</td>\n",
       "      <td>med</td>\n",
       "      <td>189</td>\n",
       "    </tr>\n",
       "    <tr>\n",
       "      <th>24</th>\n",
       "      <td>adult</td>\n",
       "      <td>med</td>\n",
       "      <td>184</td>\n",
       "    </tr>\n",
       "    <tr>\n",
       "      <th>25</th>\n",
       "      <td>adult</td>\n",
       "      <td>high</td>\n",
       "      <td>183</td>\n",
       "    </tr>\n",
       "    <tr>\n",
       "      <th>26</th>\n",
       "      <td>adult</td>\n",
       "      <td>high</td>\n",
       "      <td>192</td>\n",
       "    </tr>\n",
       "    <tr>\n",
       "      <th>27</th>\n",
       "      <td>adult</td>\n",
       "      <td>high</td>\n",
       "      <td>195</td>\n",
       "    </tr>\n",
       "    <tr>\n",
       "      <th>28</th>\n",
       "      <td>adult</td>\n",
       "      <td>high</td>\n",
       "      <td>196</td>\n",
       "    </tr>\n",
       "    <tr>\n",
       "      <th>29</th>\n",
       "      <td>adult</td>\n",
       "      <td>high</td>\n",
       "      <td>187</td>\n",
       "    </tr>\n",
       "  </tbody>\n",
       "</table>\n",
       "</div>"
      ],
      "text/plain": [
       "         age economic_condition  height_in_cm\n",
       "0   teenager                low           145\n",
       "1   teenager                low           154\n",
       "2   teenager                low           150\n",
       "3   teenager                low           156\n",
       "4   teenager                low           174\n",
       "5   teenager                med           165\n",
       "6   teenager                med           166\n",
       "7   teenager                med           170\n",
       "8   teenager                med           173\n",
       "9   teenager                med           169\n",
       "10  teenager               high           178\n",
       "11  teenager               high           175\n",
       "12  teenager               high           177\n",
       "13  teenager               high           172\n",
       "14  teenager               high           179\n",
       "15     adult                low           169\n",
       "16     adult                low           170\n",
       "17     adult                low           171\n",
       "18     adult                low           168\n",
       "19     adult                low           176\n",
       "20     adult                med           183\n",
       "21     adult                med           187\n",
       "22     adult                med           188\n",
       "23     adult                med           189\n",
       "24     adult                med           184\n",
       "25     adult               high           183\n",
       "26     adult               high           192\n",
       "27     adult               high           195\n",
       "28     adult               high           196\n",
       "29     adult               high           187"
      ]
     },
     "execution_count": 50,
     "metadata": {},
     "output_type": "execute_result"
    }
   ],
   "source": [
    "df2\n"
   ]
  },
  {
   "cell_type": "code",
   "execution_count": 44,
   "id": "8a0e7486",
   "metadata": {},
   "outputs": [],
   "source": [
    "import statsmodels.api as sm\n",
    "from statsmodels.formula.api import ols"
   ]
  },
  {
   "cell_type": "code",
   "execution_count": 51,
   "id": "88c911b1",
   "metadata": {},
   "outputs": [],
   "source": [
    "model=ols('height_in_cm ~ C(age) + C(economic_condition) + C(age):C(economic_condition)', data=df2).fit()"
   ]
  },
  {
   "cell_type": "code",
   "execution_count": 53,
   "id": "6fbaa346",
   "metadata": {},
   "outputs": [],
   "source": [
    "result=sm.stats.anova_lm(model,type=2)"
   ]
  },
  {
   "cell_type": "code",
   "execution_count": 54,
   "id": "00b140aa",
   "metadata": {},
   "outputs": [
    {
     "data": {
      "text/html": [
       "<div>\n",
       "<style scoped>\n",
       "    .dataframe tbody tr th:only-of-type {\n",
       "        vertical-align: middle;\n",
       "    }\n",
       "\n",
       "    .dataframe tbody tr th {\n",
       "        vertical-align: top;\n",
       "    }\n",
       "\n",
       "    .dataframe thead th {\n",
       "        text-align: right;\n",
       "    }\n",
       "</style>\n",
       "<table border=\"1\" class=\"dataframe\">\n",
       "  <thead>\n",
       "    <tr style=\"text-align: right;\">\n",
       "      <th></th>\n",
       "      <th>df</th>\n",
       "      <th>sum_sq</th>\n",
       "      <th>mean_sq</th>\n",
       "      <th>F</th>\n",
       "      <th>PR(&gt;F)</th>\n",
       "    </tr>\n",
       "  </thead>\n",
       "  <tbody>\n",
       "    <tr>\n",
       "      <th>C(age)</th>\n",
       "      <td>1.0</td>\n",
       "      <td>1840.833333</td>\n",
       "      <td>1840.833333</td>\n",
       "      <td>59.413663</td>\n",
       "      <td>6.055551e-08</td>\n",
       "    </tr>\n",
       "    <tr>\n",
       "      <th>C(economic_condition)</th>\n",
       "      <td>2.0</td>\n",
       "      <td>2129.400000</td>\n",
       "      <td>1064.700000</td>\n",
       "      <td>34.363636</td>\n",
       "      <td>9.037432e-08</td>\n",
       "    </tr>\n",
       "    <tr>\n",
       "      <th>C(age):C(economic_condition)</th>\n",
       "      <td>2.0</td>\n",
       "      <td>14.466667</td>\n",
       "      <td>7.233333</td>\n",
       "      <td>0.233459</td>\n",
       "      <td>7.935673e-01</td>\n",
       "    </tr>\n",
       "    <tr>\n",
       "      <th>Residual</th>\n",
       "      <td>24.0</td>\n",
       "      <td>743.600000</td>\n",
       "      <td>30.983333</td>\n",
       "      <td>NaN</td>\n",
       "      <td>NaN</td>\n",
       "    </tr>\n",
       "  </tbody>\n",
       "</table>\n",
       "</div>"
      ],
      "text/plain": [
       "                                df       sum_sq      mean_sq          F  \\\n",
       "C(age)                         1.0  1840.833333  1840.833333  59.413663   \n",
       "C(economic_condition)          2.0  2129.400000  1064.700000  34.363636   \n",
       "C(age):C(economic_condition)   2.0    14.466667     7.233333   0.233459   \n",
       "Residual                      24.0   743.600000    30.983333        NaN   \n",
       "\n",
       "                                    PR(>F)  \n",
       "C(age)                        6.055551e-08  \n",
       "C(economic_condition)         9.037432e-08  \n",
       "C(age):C(economic_condition)  7.935673e-01  \n",
       "Residual                               NaN  "
      ]
     },
     "execution_count": 54,
     "metadata": {},
     "output_type": "execute_result"
    }
   ],
   "source": [
    "result"
   ]
  },
  {
   "cell_type": "code",
   "execution_count": null,
   "id": "4039a157",
   "metadata": {},
   "outputs": [],
   "source": [
    "#Since p_value of age and economic condition are less than significant value that is 0.05 so both facors statistically\n",
    "#may have any significant effect on height of person"
   ]
  },
  {
   "cell_type": "code",
   "execution_count": null,
   "id": "055e17ec",
   "metadata": {},
   "outputs": [],
   "source": [
    "#Also pvalue for interaction effect is also greater than significance value 0.05 which tells that there is no significant \n",
    "#interaction effect between age and economic condition of person on their height according to data."
   ]
  },
  {
   "cell_type": "markdown",
   "id": "3732cad4",
   "metadata": {},
   "source": [
    "# Queno 6"
   ]
  },
  {
   "cell_type": "code",
   "execution_count": null,
   "id": "ceb5afc7",
   "metadata": {},
   "outputs": [],
   "source": [
    "#ItS very simple since p value 0.02 which is less than 0.05 significant value. "
   ]
  },
  {
   "cell_type": "code",
   "execution_count": null,
   "id": "0851a01b",
   "metadata": {},
   "outputs": [],
   "source": [
    "#We have to accept alternate hypotheses and conclude that there exists some difference among different groups."
   ]
  },
  {
   "cell_type": "markdown",
   "id": "9fad65cf",
   "metadata": {},
   "source": [
    "# Queno 7"
   ]
  },
  {
   "cell_type": "code",
   "execution_count": null,
   "id": "52ad87d1",
   "metadata": {},
   "outputs": [],
   "source": [
    "#Most effective ways to handle missing data is multiple imputation(MI). "
   ]
  },
  {
   "cell_type": "code",
   "execution_count": null,
   "id": "52e1b7fe",
   "metadata": {},
   "outputs": [],
   "source": [
    "#In ANOVA using MI wecan create multiple plausible replacements of missing data."
   ]
  },
  {
   "cell_type": "code",
   "execution_count": null,
   "id": "123cbbc6",
   "metadata": {},
   "outputs": [],
   "source": [
    "#First missing data have to be imputed multiple times."
   ]
  },
  {
   "cell_type": "code",
   "execution_count": null,
   "id": "bd058c35",
   "metadata": {},
   "outputs": [],
   "source": [
    "#After that imputed datasetshave to be analyzed separately."
   ]
  },
  {
   "cell_type": "code",
   "execution_count": null,
   "id": "524503a4",
   "metadata": {},
   "outputs": [],
   "source": [
    "#Then parameter estimates and hypotheses tests are done to form final set of estimates and inferences."
   ]
  },
  {
   "cell_type": "code",
   "execution_count": null,
   "id": "0914d0f7",
   "metadata": {},
   "outputs": [],
   "source": [
    "#Using different methods in handling missing data in anova test can lead to lack of quality of ANOVA test which is done\n",
    "#with that sample."
   ]
  },
  {
   "cell_type": "markdown",
   "id": "2aecf093",
   "metadata": {},
   "source": [
    "# Queno 8"
   ]
  },
  {
   "cell_type": "markdown",
   "id": "afd11f65",
   "metadata": {},
   "source": [
    "# Post Hoc Test"
   ]
  },
  {
   "cell_type": "code",
   "execution_count": null,
   "id": "99315e87",
   "metadata": {},
   "outputs": [],
   "source": [
    "#Post Hoc test compare the differences between means with various factors to identify significant differences."
   ]
  },
  {
   "cell_type": "code",
   "execution_count": null,
   "id": "adf909be",
   "metadata": {},
   "outputs": [],
   "source": [
    "#The most common post hoc test used in ANOVA are LSD(Fisher;s least significant difference),HSD(Honestly significant\n",
    "# Difference test) is a single step multiple comparison procedure and SCHEFFE'S test."
   ]
  },
  {
   "cell_type": "code",
   "execution_count": null,
   "id": "a4e1a425",
   "metadata": {},
   "outputs": [],
   "source": [
    "#These test are used to find mean that are significantly different from each other in case of alternate\n",
    "#hypotheses."
   ]
  },
  {
   "cell_type": "code",
   "execution_count": null,
   "id": "58239471",
   "metadata": {},
   "outputs": [],
   "source": [
    "#In LSD test absolute mean difference of different groups is compared with t statistic of sample."
   ]
  },
  {
   "cell_type": "code",
   "execution_count": null,
   "id": "8d140d99",
   "metadata": {},
   "outputs": [],
   "source": [
    "#If absolute mean differencevalue is greater thantest statistic then we can conclude there is statistically \n",
    "#significant difference between group and hence we can compare various two groups with this technique."
   ]
  },
  {
   "cell_type": "code",
   "execution_count": null,
   "id": "480519b5",
   "metadata": {},
   "outputs": [],
   "source": [
    "#So in this way post hoc test is used in case of alternate hypotheses to test  different group mean that are different from \n",
    "#each other."
   ]
  },
  {
   "cell_type": "markdown",
   "id": "f1a50acd",
   "metadata": {},
   "source": [
    "# Example"
   ]
  },
  {
   "cell_type": "code",
   "execution_count": null,
   "id": "bcae43f9",
   "metadata": {},
   "outputs": [],
   "source": [
    "#Scenario or condition is same as given in queno 6 if p value is less than alpha or in case of alternate hypotheses."
   ]
  },
  {
   "cell_type": "code",
   "execution_count": null,
   "id": "098290c8",
   "metadata": {},
   "outputs": [],
   "source": [
    "#This gives way to use post hoc test after ANOVA. "
   ]
  },
  {
   "cell_type": "markdown",
   "id": "b13b5e13",
   "metadata": {},
   "source": [
    "# Que no 9"
   ]
  },
  {
   "cell_type": "code",
   "execution_count": null,
   "id": "84348a77",
   "metadata": {},
   "outputs": [],
   "source": [
    "#First of all we have to create three group A,B and C diet for 50 person."
   ]
  },
  {
   "cell_type": "code",
   "execution_count": 1,
   "id": "8f7f1d58",
   "metadata": {},
   "outputs": [],
   "source": [
    "import numpy as np\n",
    "from scipy.stats import f_oneway"
   ]
  },
  {
   "cell_type": "code",
   "execution_count": 3,
   "id": "aaf47a2c",
   "metadata": {},
   "outputs": [
    {
     "data": {
      "text/plain": [
       "array([16.77304831, 21.70103905, 28.73177691, 15.02855995, 13.17716758,\n",
       "        7.13162471, 20.52220966, 22.64678489, 15.97370789,  9.6670093 ,\n",
       "       18.49029216, 23.89084683, 26.29900399, 16.01849944, 19.13445542,\n",
       "       13.55999441, 12.40123419, 13.05979276, 23.39079667, 14.9942368 ,\n",
       "       12.96801979, 17.16557099, 13.78675242, 19.15533494, 26.09789365,\n",
       "       21.7046266 ,  9.72918693, 15.70481304,  9.63122077, 16.09994673,\n",
       "       28.4504625 , 17.47931846, 12.8977107 , 15.12972107, 10.72586151,\n",
       "       23.74962948, 11.91823305, 17.3006453 , 13.57146214, 22.05160271,\n",
       "       20.14711673, 13.82379125, 21.46168539, 19.72250957, 12.47194112,\n",
       "        5.98013831, 20.25221096, 22.08588509, 15.65893722, 10.67648885])"
      ]
     },
     "execution_count": 3,
     "metadata": {},
     "output_type": "execute_result"
    }
   ],
   "source": [
    "dietA=np.random.normal(loc=15,scale=6,size=50)\n",
    "dietA"
   ]
  },
  {
   "cell_type": "code",
   "execution_count": 4,
   "id": "5974e6bc",
   "metadata": {},
   "outputs": [
    {
     "data": {
      "text/plain": [
       "array([ 6.20964221, 20.30786787, 21.87927739, 17.72709606, 17.78893502,\n",
       "       19.18105066, 14.40885198,  6.05305929, 13.83800743, 11.90482278,\n",
       "       16.24920648,  9.37805629,  8.60097559, 15.25387403, 19.06046137,\n",
       "        8.52132395, 19.34700052,  7.53364443, 11.37502979, 18.19347776,\n",
       "       11.54310803, 14.71269684, 12.67045891,  7.6650182 , 22.40056756,\n",
       "       10.24077641, 10.13453211, 13.09785583, 17.27576666, 24.23072163,\n",
       "       24.98610009, 21.17137553, 20.01075738,  8.41005703, 14.20811319,\n",
       "       22.57307708, 13.52875595, 20.68017808, 11.53162915, 19.94944169,\n",
       "       12.15180689, 12.06758079, 18.83132915, 15.54127819, 16.19534456,\n",
       "       22.46912559, 11.90940325, 14.37806271, 19.63696204, 16.43058875])"
      ]
     },
     "execution_count": 4,
     "metadata": {},
     "output_type": "execute_result"
    }
   ],
   "source": [
    "dietB=np.random.normal(loc=15,scale=5,size=50)\n",
    "dietB"
   ]
  },
  {
   "cell_type": "code",
   "execution_count": 5,
   "id": "d4595efd",
   "metadata": {},
   "outputs": [
    {
     "data": {
      "text/plain": [
       "array([ 8.44979282, 12.664715  , 12.54446149, 10.60065098, 15.59822739,\n",
       "       14.24434986, 21.06388092, 13.20361343, 11.62721731, 18.74955707,\n",
       "       20.02729408, 11.33400205, 10.00408094,  7.38465539, 18.441563  ,\n",
       "       10.23500524,  7.00531568, 14.67671962,  5.43224669, 15.97083893,\n",
       "       18.25104737, 17.20366848, 16.80639883, 13.92817604, 15.49684948,\n",
       "       11.9690419 , 19.54886325, 15.67998095, 12.37186894, 11.02466713,\n",
       "       15.30668974, 15.68180141, 10.29531724, 16.46110563, 13.30358631,\n",
       "       12.23904384, 17.1639488 , 13.68835947, 12.02315004, 17.6774459 ,\n",
       "       15.92531541, 17.4754918 , 14.44405874, 15.93005518, 16.21571112,\n",
       "       16.97984395, 16.7446919 , 16.91499314, 17.99194717, 13.57313354])"
      ]
     },
     "execution_count": 5,
     "metadata": {},
     "output_type": "execute_result"
    }
   ],
   "source": [
    "dietC=np.random.normal(loc=15,scale=4,size=50)\n",
    "dietC"
   ]
  },
  {
   "cell_type": "code",
   "execution_count": null,
   "id": "1bc66432",
   "metadata": {},
   "outputs": [],
   "source": [
    "#So we have create three group of dietA,dietB,dietC of same mean that is 15."
   ]
  },
  {
   "cell_type": "code",
   "execution_count": 8,
   "id": "72734c31",
   "metadata": {},
   "outputs": [
    {
     "data": {
      "text/plain": [
       "F_onewayResult(statistic=4.110061178505604, pvalue=0.018329242948328404)"
      ]
     },
     "execution_count": 8,
     "metadata": {},
     "output_type": "execute_result"
    }
   ],
   "source": [
    "RESULT=f_oneway(dietA,dietB,dietC)\n",
    "RESULT"
   ]
  },
  {
   "cell_type": "code",
   "execution_count": null,
   "id": "46df1193",
   "metadata": {},
   "outputs": [],
   "source": [
    "#SO we get f statistic of 4.11 and p value 0.01 which is less than 0.05 and it is a case of alternate hypotheses.\n",
    "#In this way we can coclude that there exists some difference between three diet mean weight loss.However according to \n",
    "#sample their mean is same but after testing we concluded that there exists some difference between mean of three diet A,B\n",
    "# and C."
   ]
  },
  {
   "cell_type": "markdown",
   "id": "2f60c2d7",
   "metadata": {},
   "source": [
    "# Queno 10"
   ]
  },
  {
   "cell_type": "code",
   "execution_count": 1,
   "id": "22aef9fe",
   "metadata": {},
   "outputs": [],
   "source": [
    "import numpy as np\n",
    "import pandas as pd"
   ]
  },
  {
   "cell_type": "code",
   "execution_count": 8,
   "id": "c2aa9672",
   "metadata": {},
   "outputs": [],
   "source": [
    "df3=pd.DataFrame({'Programme':np.repeat(['A','B','C'],10),'Experience_level':np.repeat(['Fast','Medium','Slow'],10),\n",
    "                 'Timetaken_by_employee_in_hrs':[1,3,2,2.5,1.5,0.5,1.2,2.2,2.4,3.2,3.5,3.6,4,4.1,3.3,3.1,4.5,3.4,3,2.9,\n",
    "                                                4.5,4.6,4.9,5,5.5,5.6,6,6.7,6.9,6.4]})"
   ]
  },
  {
   "cell_type": "code",
   "execution_count": 9,
   "id": "ba69480b",
   "metadata": {},
   "outputs": [
    {
     "data": {
      "text/html": [
       "<div>\n",
       "<style scoped>\n",
       "    .dataframe tbody tr th:only-of-type {\n",
       "        vertical-align: middle;\n",
       "    }\n",
       "\n",
       "    .dataframe tbody tr th {\n",
       "        vertical-align: top;\n",
       "    }\n",
       "\n",
       "    .dataframe thead th {\n",
       "        text-align: right;\n",
       "    }\n",
       "</style>\n",
       "<table border=\"1\" class=\"dataframe\">\n",
       "  <thead>\n",
       "    <tr style=\"text-align: right;\">\n",
       "      <th></th>\n",
       "      <th>Programme</th>\n",
       "      <th>Experience_level</th>\n",
       "      <th>Timetaken_by_employee_in_hrs</th>\n",
       "    </tr>\n",
       "  </thead>\n",
       "  <tbody>\n",
       "    <tr>\n",
       "      <th>0</th>\n",
       "      <td>A</td>\n",
       "      <td>Fast</td>\n",
       "      <td>1.0</td>\n",
       "    </tr>\n",
       "    <tr>\n",
       "      <th>1</th>\n",
       "      <td>A</td>\n",
       "      <td>Fast</td>\n",
       "      <td>3.0</td>\n",
       "    </tr>\n",
       "    <tr>\n",
       "      <th>2</th>\n",
       "      <td>A</td>\n",
       "      <td>Fast</td>\n",
       "      <td>2.0</td>\n",
       "    </tr>\n",
       "    <tr>\n",
       "      <th>3</th>\n",
       "      <td>A</td>\n",
       "      <td>Fast</td>\n",
       "      <td>2.5</td>\n",
       "    </tr>\n",
       "    <tr>\n",
       "      <th>4</th>\n",
       "      <td>A</td>\n",
       "      <td>Fast</td>\n",
       "      <td>1.5</td>\n",
       "    </tr>\n",
       "    <tr>\n",
       "      <th>5</th>\n",
       "      <td>A</td>\n",
       "      <td>Fast</td>\n",
       "      <td>0.5</td>\n",
       "    </tr>\n",
       "    <tr>\n",
       "      <th>6</th>\n",
       "      <td>A</td>\n",
       "      <td>Fast</td>\n",
       "      <td>1.2</td>\n",
       "    </tr>\n",
       "    <tr>\n",
       "      <th>7</th>\n",
       "      <td>A</td>\n",
       "      <td>Fast</td>\n",
       "      <td>2.2</td>\n",
       "    </tr>\n",
       "    <tr>\n",
       "      <th>8</th>\n",
       "      <td>A</td>\n",
       "      <td>Fast</td>\n",
       "      <td>2.4</td>\n",
       "    </tr>\n",
       "    <tr>\n",
       "      <th>9</th>\n",
       "      <td>A</td>\n",
       "      <td>Fast</td>\n",
       "      <td>3.2</td>\n",
       "    </tr>\n",
       "    <tr>\n",
       "      <th>10</th>\n",
       "      <td>B</td>\n",
       "      <td>Medium</td>\n",
       "      <td>3.5</td>\n",
       "    </tr>\n",
       "    <tr>\n",
       "      <th>11</th>\n",
       "      <td>B</td>\n",
       "      <td>Medium</td>\n",
       "      <td>3.6</td>\n",
       "    </tr>\n",
       "    <tr>\n",
       "      <th>12</th>\n",
       "      <td>B</td>\n",
       "      <td>Medium</td>\n",
       "      <td>4.0</td>\n",
       "    </tr>\n",
       "    <tr>\n",
       "      <th>13</th>\n",
       "      <td>B</td>\n",
       "      <td>Medium</td>\n",
       "      <td>4.1</td>\n",
       "    </tr>\n",
       "    <tr>\n",
       "      <th>14</th>\n",
       "      <td>B</td>\n",
       "      <td>Medium</td>\n",
       "      <td>3.3</td>\n",
       "    </tr>\n",
       "    <tr>\n",
       "      <th>15</th>\n",
       "      <td>B</td>\n",
       "      <td>Medium</td>\n",
       "      <td>3.1</td>\n",
       "    </tr>\n",
       "    <tr>\n",
       "      <th>16</th>\n",
       "      <td>B</td>\n",
       "      <td>Medium</td>\n",
       "      <td>4.5</td>\n",
       "    </tr>\n",
       "    <tr>\n",
       "      <th>17</th>\n",
       "      <td>B</td>\n",
       "      <td>Medium</td>\n",
       "      <td>3.4</td>\n",
       "    </tr>\n",
       "    <tr>\n",
       "      <th>18</th>\n",
       "      <td>B</td>\n",
       "      <td>Medium</td>\n",
       "      <td>3.0</td>\n",
       "    </tr>\n",
       "    <tr>\n",
       "      <th>19</th>\n",
       "      <td>B</td>\n",
       "      <td>Medium</td>\n",
       "      <td>2.9</td>\n",
       "    </tr>\n",
       "    <tr>\n",
       "      <th>20</th>\n",
       "      <td>C</td>\n",
       "      <td>Slow</td>\n",
       "      <td>4.5</td>\n",
       "    </tr>\n",
       "    <tr>\n",
       "      <th>21</th>\n",
       "      <td>C</td>\n",
       "      <td>Slow</td>\n",
       "      <td>4.6</td>\n",
       "    </tr>\n",
       "    <tr>\n",
       "      <th>22</th>\n",
       "      <td>C</td>\n",
       "      <td>Slow</td>\n",
       "      <td>4.9</td>\n",
       "    </tr>\n",
       "    <tr>\n",
       "      <th>23</th>\n",
       "      <td>C</td>\n",
       "      <td>Slow</td>\n",
       "      <td>5.0</td>\n",
       "    </tr>\n",
       "    <tr>\n",
       "      <th>24</th>\n",
       "      <td>C</td>\n",
       "      <td>Slow</td>\n",
       "      <td>5.5</td>\n",
       "    </tr>\n",
       "    <tr>\n",
       "      <th>25</th>\n",
       "      <td>C</td>\n",
       "      <td>Slow</td>\n",
       "      <td>5.6</td>\n",
       "    </tr>\n",
       "    <tr>\n",
       "      <th>26</th>\n",
       "      <td>C</td>\n",
       "      <td>Slow</td>\n",
       "      <td>6.0</td>\n",
       "    </tr>\n",
       "    <tr>\n",
       "      <th>27</th>\n",
       "      <td>C</td>\n",
       "      <td>Slow</td>\n",
       "      <td>6.7</td>\n",
       "    </tr>\n",
       "    <tr>\n",
       "      <th>28</th>\n",
       "      <td>C</td>\n",
       "      <td>Slow</td>\n",
       "      <td>6.9</td>\n",
       "    </tr>\n",
       "    <tr>\n",
       "      <th>29</th>\n",
       "      <td>C</td>\n",
       "      <td>Slow</td>\n",
       "      <td>6.4</td>\n",
       "    </tr>\n",
       "  </tbody>\n",
       "</table>\n",
       "</div>"
      ],
      "text/plain": [
       "   Programme Experience_level  Timetaken_by_employee_in_hrs\n",
       "0          A             Fast                           1.0\n",
       "1          A             Fast                           3.0\n",
       "2          A             Fast                           2.0\n",
       "3          A             Fast                           2.5\n",
       "4          A             Fast                           1.5\n",
       "5          A             Fast                           0.5\n",
       "6          A             Fast                           1.2\n",
       "7          A             Fast                           2.2\n",
       "8          A             Fast                           2.4\n",
       "9          A             Fast                           3.2\n",
       "10         B           Medium                           3.5\n",
       "11         B           Medium                           3.6\n",
       "12         B           Medium                           4.0\n",
       "13         B           Medium                           4.1\n",
       "14         B           Medium                           3.3\n",
       "15         B           Medium                           3.1\n",
       "16         B           Medium                           4.5\n",
       "17         B           Medium                           3.4\n",
       "18         B           Medium                           3.0\n",
       "19         B           Medium                           2.9\n",
       "20         C             Slow                           4.5\n",
       "21         C             Slow                           4.6\n",
       "22         C             Slow                           4.9\n",
       "23         C             Slow                           5.0\n",
       "24         C             Slow                           5.5\n",
       "25         C             Slow                           5.6\n",
       "26         C             Slow                           6.0\n",
       "27         C             Slow                           6.7\n",
       "28         C             Slow                           6.9\n",
       "29         C             Slow                           6.4"
      ]
     },
     "execution_count": 9,
     "metadata": {},
     "output_type": "execute_result"
    }
   ],
   "source": [
    "df3 #so here we have created dataframe for 30 employees working for three programme A,B and C and time taken by them\n",
    "#for completing their work so with hese sample we have to find significant effect and interaction effect between \n",
    "#softweare programme and experience level."
   ]
  },
  {
   "cell_type": "code",
   "execution_count": 10,
   "id": "4d55bc44",
   "metadata": {},
   "outputs": [],
   "source": [
    "import statsmodels.api as sm\n",
    "from statsmodels.formula.api import ols"
   ]
  },
  {
   "cell_type": "code",
   "execution_count": 5,
   "id": "9689545a",
   "metadata": {},
   "outputs": [],
   "source": [
    "model=ols('Timetaken_by_employee_in_hrs~C(Programme)+C(Experience_level)+C(Programme):C(Experience_level)',data=df3).fit()"
   ]
  },
  {
   "cell_type": "code",
   "execution_count": 11,
   "id": "5b727515",
   "metadata": {},
   "outputs": [],
   "source": [
    "result=sm.stats.anova_lm(model,type=2)"
   ]
  },
  {
   "cell_type": "code",
   "execution_count": 12,
   "id": "545bd370",
   "metadata": {},
   "outputs": [
    {
     "data": {
      "text/html": [
       "<div>\n",
       "<style scoped>\n",
       "    .dataframe tbody tr th:only-of-type {\n",
       "        vertical-align: middle;\n",
       "    }\n",
       "\n",
       "    .dataframe tbody tr th {\n",
       "        vertical-align: top;\n",
       "    }\n",
       "\n",
       "    .dataframe thead th {\n",
       "        text-align: right;\n",
       "    }\n",
       "</style>\n",
       "<table border=\"1\" class=\"dataframe\">\n",
       "  <thead>\n",
       "    <tr style=\"text-align: right;\">\n",
       "      <th></th>\n",
       "      <th>df</th>\n",
       "      <th>sum_sq</th>\n",
       "      <th>mean_sq</th>\n",
       "      <th>F</th>\n",
       "      <th>PR(&gt;F)</th>\n",
       "    </tr>\n",
       "  </thead>\n",
       "  <tbody>\n",
       "    <tr>\n",
       "      <th>C(Programme)</th>\n",
       "      <td>2.0</td>\n",
       "      <td>67.362000</td>\n",
       "      <td>33.681000</td>\n",
       "      <td>56.141931</td>\n",
       "      <td>2.402979e-10</td>\n",
       "    </tr>\n",
       "    <tr>\n",
       "      <th>C(Experience_level)</th>\n",
       "      <td>2.0</td>\n",
       "      <td>1.970531</td>\n",
       "      <td>0.985265</td>\n",
       "      <td>1.642312</td>\n",
       "      <td>2.122811e-01</td>\n",
       "    </tr>\n",
       "    <tr>\n",
       "      <th>C(Programme):C(Experience_level)</th>\n",
       "      <td>4.0</td>\n",
       "      <td>3.115946</td>\n",
       "      <td>0.778987</td>\n",
       "      <td>1.298471</td>\n",
       "      <td>2.955428e-01</td>\n",
       "    </tr>\n",
       "    <tr>\n",
       "      <th>Residual</th>\n",
       "      <td>27.0</td>\n",
       "      <td>16.198000</td>\n",
       "      <td>0.599926</td>\n",
       "      <td>NaN</td>\n",
       "      <td>NaN</td>\n",
       "    </tr>\n",
       "  </tbody>\n",
       "</table>\n",
       "</div>"
      ],
      "text/plain": [
       "                                    df     sum_sq    mean_sq          F  \\\n",
       "C(Programme)                       2.0  67.362000  33.681000  56.141931   \n",
       "C(Experience_level)                2.0   1.970531   0.985265   1.642312   \n",
       "C(Programme):C(Experience_level)   4.0   3.115946   0.778987   1.298471   \n",
       "Residual                          27.0  16.198000   0.599926        NaN   \n",
       "\n",
       "                                        PR(>F)  \n",
       "C(Programme)                      2.402979e-10  \n",
       "C(Experience_level)               2.122811e-01  \n",
       "C(Programme):C(Experience_level)  2.955428e-01  \n",
       "Residual                                   NaN  "
      ]
     },
     "execution_count": 12,
     "metadata": {},
     "output_type": "execute_result"
    }
   ],
   "source": [
    "result"
   ]
  },
  {
   "cell_type": "code",
   "execution_count": null,
   "id": "bd45a50a",
   "metadata": {},
   "outputs": [],
   "source": [
    "#So p value of software programme is less than 0.05 which means that type of software programme have significant effect \n",
    "#on timing of work done. \n",
    "#after converting we got p value for software programme is 0.00000000024\n",
    "#p value for experience level is 0.212\n",
    "#p value for interaction effect between programme and experience level is 0.295."
   ]
  },
  {
   "cell_type": "code",
   "execution_count": null,
   "id": "87453229",
   "metadata": {},
   "outputs": [],
   "source": [
    "#While p value of experience level is more than 0.05 which meams there is not any significant effect of experience level\n",
    "#on work being done."
   ]
  },
  {
   "cell_type": "code",
   "execution_count": null,
   "id": "3da611b4",
   "metadata": {},
   "outputs": [],
   "source": [
    "#Also p value for interaction effect is also greater than significance value that is 0.05 which means there is not significa\n",
    "#nt interaction between software programme and experience level.\n"
   ]
  },
  {
   "cell_type": "markdown",
   "id": "faf48b0c",
   "metadata": {},
   "source": [
    "# Queno 11"
   ]
  },
  {
   "cell_type": "code",
   "execution_count": null,
   "id": "17cd1d14",
   "metadata": {},
   "outputs": [],
   "source": [
    "#First of all we have to create two sample of 100 students score of traditional teaching meathod and new teaching method."
   ]
  },
  {
   "cell_type": "code",
   "execution_count": 1,
   "id": "c8e75639",
   "metadata": {},
   "outputs": [],
   "source": [
    "import numpy as np"
   ]
  },
  {
   "cell_type": "code",
   "execution_count": 3,
   "id": "35a16cc1",
   "metadata": {},
   "outputs": [
    {
     "data": {
      "text/plain": [
       "array([70.49116526, 63.24509589, 74.82710345, 86.98630546, 73.83934898,\n",
       "       78.28491327, 73.62096753, 93.35304529, 69.29672984, 85.50373728,\n",
       "       72.41305897, 46.58467339, 72.89468346, 64.4760733 , 59.5511576 ,\n",
       "       72.10489773, 69.77828178, 72.90097168, 68.41705252, 65.72517113,\n",
       "       67.79681728, 56.55953124, 51.29091356, 86.15394605, 82.32384729,\n",
       "       82.01728972, 72.1158764 , 67.6892383 , 62.50809984, 75.03525308,\n",
       "       67.53076683, 61.51024586, 53.59931817, 75.51886341, 62.01046092,\n",
       "       67.69948764, 57.57950597, 62.16879818, 81.70491807, 70.24040649,\n",
       "       58.13084493, 80.31704074, 74.86423794, 67.67699354, 80.65769971,\n",
       "       72.83095084, 66.08910147, 78.26917684, 67.28038561, 78.45285058,\n",
       "       62.33212996, 63.33920913, 68.98559436, 63.91450803, 87.5636434 ,\n",
       "       59.66574862, 73.17336023, 64.42216052, 63.5459828 , 76.47356459,\n",
       "       62.39078535, 68.51361452, 75.69569519, 79.20587079, 68.11176061,\n",
       "       75.36341185, 73.4342612 , 63.3801095 , 81.75600714, 58.27059916,\n",
       "       50.08923763, 83.22398962, 62.52793675, 52.23426066, 71.81139301,\n",
       "       58.55439654, 81.28428166, 71.84686483, 70.59035174, 69.17312058,\n",
       "       69.97491867, 70.33066776, 61.6358341 , 72.71270374, 57.73659719,\n",
       "       44.20247276, 73.59895341, 72.48430346, 63.8291502 , 64.52133129,\n",
       "       69.27315887, 56.18628465, 77.69748803, 77.46355912, 65.26007489,\n",
       "       56.71376229, 53.63701882, 75.27279904, 81.56888218, 79.79240116])"
      ]
     },
     "execution_count": 3,
     "metadata": {},
     "output_type": "execute_result"
    }
   ],
   "source": [
    "traditional_teaching_method=np.random.normal(loc=70,scale=10,size=100)\n",
    "traditional_teaching_method #score of students who are conducting traditional teaching method"
   ]
  },
  {
   "cell_type": "code",
   "execution_count": 4,
   "id": "e132e40c",
   "metadata": {},
   "outputs": [
    {
     "data": {
      "text/plain": [
       "array([ 91.29524341,  97.77387799,  85.94357826, 104.46198782,\n",
       "       100.8153688 ,  92.68627845,  97.02349256,  72.23322333,\n",
       "        88.22386951,  89.91030945,  96.94632536,  83.69195464,\n",
       "        92.95243543,  82.99500431,  87.58284161,  98.78223562,\n",
       "        93.94663939,  96.74982854,  90.56977395,  91.02026774,\n",
       "        80.65936254, 102.35684532, 103.00686521,  87.71343114,\n",
       "        78.75060265,  90.00918047,  81.85471758, 103.94525265,\n",
       "       109.67629014,  93.30595898,  79.18984561,  74.96499153,\n",
       "       108.60849824, 107.74163461,  86.84304643,  98.29408488,\n",
       "        81.59330158, 102.07194721, 109.7686973 ,  87.48975111,\n",
       "        84.12818778,  93.97957746, 100.36144753, 105.43616814,\n",
       "        99.54083748, 101.28348308,  93.73438801, 103.76071311,\n",
       "       108.9139156 ,  79.30880173,  82.55500799, 108.02056665,\n",
       "        90.63928579, 100.21600794,  75.6674318 ,  92.49743476,\n",
       "        93.65128279,  97.8248985 ,  92.18604729, 111.66744323,\n",
       "        92.57463222,  90.41323891,  97.01535591,  95.9226384 ,\n",
       "        97.61439856, 107.69860394,  87.86859557,  90.70778624,\n",
       "        87.75422827,  80.02785882,  91.77930917,  97.98098673,\n",
       "        95.59430019,  87.91940082, 105.23043293,  88.16683279,\n",
       "        90.71804944, 108.45793296,  89.89281195, 101.91016317,\n",
       "        99.44237381,  95.67922825,  99.50436128,  95.09211527,\n",
       "        80.68778331,  83.1280927 , 110.59244172, 101.10131522,\n",
       "       102.81535319,  95.39858888,  78.37365934, 100.04769481,\n",
       "        96.32675624,  90.216931  ,  96.40327111,  96.54925264,\n",
       "        96.14296708,  86.60692713,  99.34427886,  66.50534512])"
      ]
     },
     "execution_count": 4,
     "metadata": {},
     "output_type": "execute_result"
    }
   ],
   "source": [
    "new_teaching_method=np.random.normal(loc=94,scale=10,size=100)\n",
    "new_teaching_method"
   ]
  },
  {
   "cell_type": "code",
   "execution_count": 6,
   "id": "948177b8",
   "metadata": {},
   "outputs": [],
   "source": [
    "#Now conduct two sample t test\n",
    "import scipy.stats as stats\n",
    "import pingouin as pg"
   ]
  },
  {
   "cell_type": "code",
   "execution_count": 12,
   "id": "6f285389",
   "metadata": {},
   "outputs": [
    {
     "data": {
      "text/html": [
       "<div>\n",
       "<style scoped>\n",
       "    .dataframe tbody tr th:only-of-type {\n",
       "        vertical-align: middle;\n",
       "    }\n",
       "\n",
       "    .dataframe tbody tr th {\n",
       "        vertical-align: top;\n",
       "    }\n",
       "\n",
       "    .dataframe thead th {\n",
       "        text-align: right;\n",
       "    }\n",
       "</style>\n",
       "<table border=\"1\" class=\"dataframe\">\n",
       "  <thead>\n",
       "    <tr style=\"text-align: right;\">\n",
       "      <th></th>\n",
       "      <th>T</th>\n",
       "      <th>dof</th>\n",
       "      <th>alternative</th>\n",
       "      <th>p-val</th>\n",
       "      <th>CI95%</th>\n",
       "      <th>cohen-d</th>\n",
       "      <th>BF10</th>\n",
       "      <th>power</th>\n",
       "    </tr>\n",
       "  </thead>\n",
       "  <tbody>\n",
       "    <tr>\n",
       "      <th>T-test</th>\n",
       "      <td>-18.372922</td>\n",
       "      <td>197.959394</td>\n",
       "      <td>two-sided</td>\n",
       "      <td>1.182420e-44</td>\n",
       "      <td>[-27.1, -21.85]</td>\n",
       "      <td>2.598324</td>\n",
       "      <td>1.109e+41</td>\n",
       "      <td>1.0</td>\n",
       "    </tr>\n",
       "  </tbody>\n",
       "</table>\n",
       "</div>"
      ],
      "text/plain": [
       "                T         dof alternative         p-val            CI95%  \\\n",
       "T-test -18.372922  197.959394   two-sided  1.182420e-44  [-27.1, -21.85]   \n",
       "\n",
       "         cohen-d       BF10  power  \n",
       "T-test  2.598324  1.109e+41    1.0  "
      ]
     },
     "execution_count": 12,
     "metadata": {},
     "output_type": "execute_result"
    }
   ],
   "source": [
    "result=pg.ttest(traditional_teaching_method,new_teaching_method,correction=True)\n",
    "result"
   ]
  },
  {
   "cell_type": "code",
   "execution_count": null,
   "id": "8f94e282",
   "metadata": {},
   "outputs": [],
   "source": [
    "#So p value is 0.000000000000018 which is very much less than 0.05 which states that score obtained by mew teaching method\n",
    "#is very much different from score obtained by new teaching method."
   ]
  },
  {
   "cell_type": "code",
   "execution_count": 3,
   "id": "061df2e1",
   "metadata": {},
   "outputs": [],
   "source": [
    "#Now we can conduct post  hoc tukey test for this we have to cretae dataframe\n",
    "import numpy as np\n",
    "import pandas as pd"
   ]
  },
  {
   "cell_type": "code",
   "execution_count": 4,
   "id": "7a476193",
   "metadata": {},
   "outputs": [],
   "source": [
    "df4=pd.DataFrame({'SCORE':[70.49116526, 63.24509589, 74.82710345, 86.98630546, 73.83934898,\n",
    "       78.28491327, 73.62096753, 93.35304529, 69.29672984, 85.50373728,\n",
    "       72.41305897, 46.58467339, 72.89468346, 64.4760733 , 59.5511576 ,\n",
    "       72.10489773, 69.77828178, 72.90097168, 68.41705252, 65.72517113,\n",
    "       67.79681728, 56.55953124, 51.29091356, 86.15394605, 82.32384729,\n",
    "       82.01728972, 72.1158764 , 67.6892383 , 62.50809984, 75.03525308,\n",
    "       67.53076683, 61.51024586, 53.59931817, 75.51886341, 62.01046092,\n",
    "       67.69948764, 57.57950597, 62.16879818, 81.70491807, 70.24040649,\n",
    "       58.13084493, 80.31704074, 74.86423794, 67.67699354, 80.65769971,\n",
    "       72.83095084, 66.08910147, 78.26917684, 67.28038561, 78.45285058,\n",
    "       62.33212996, 63.33920913, 68.98559436, 63.91450803, 87.5636434 ,\n",
    "       59.66574862, 73.17336023, 64.42216052, 63.5459828 , 76.47356459,\n",
    "       62.39078535, 68.51361452, 75.69569519, 79.20587079, 68.11176061,\n",
    "       75.36341185, 73.4342612 , 63.3801095 , 81.75600714, 58.27059916,\n",
    "       50.08923763, 83.22398962, 62.52793675, 52.23426066, 71.81139301,\n",
    "       58.55439654, 81.28428166, 71.84686483, 70.59035174, 69.17312058,\n",
    "       69.97491867, 70.33066776, 61.6358341 , 72.71270374, 57.73659719,\n",
    "       44.20247276, 73.59895341, 72.48430346, 63.8291502 , 64.52133129,\n",
    "       69.27315887, 56.18628465, 77.69748803, 77.46355912, 65.26007489,\n",
    "       56.71376229, 53.63701882, 75.27279904, 81.56888218, 79.79240116,91.29524341,  97.77387799,  85.94357826, 104.46198782,\n",
    "       100.8153688 ,  92.68627845,  97.02349256,  72.23322333,\n",
    "        88.22386951,  89.91030945,  96.94632536,  83.69195464,\n",
    "        92.95243543,  82.99500431,  87.58284161,  98.78223562,\n",
    "        93.94663939,  96.74982854,  90.56977395,  91.02026774,\n",
    "        80.65936254, 102.35684532, 103.00686521,  87.71343114,\n",
    "        78.75060265,  90.00918047,  81.85471758, 103.94525265,\n",
    "       109.67629014,  93.30595898,  79.18984561,  74.96499153,\n",
    "       108.60849824, 107.74163461,  86.84304643,  98.29408488,\n",
    "        81.59330158, 102.07194721, 109.7686973 ,  87.48975111,\n",
    "        84.12818778,  93.97957746, 100.36144753, 105.43616814,\n",
    "        99.54083748, 101.28348308,  93.73438801, 103.76071311,\n",
    "       108.9139156 ,  79.30880173,  82.55500799, 108.02056665,\n",
    "        90.63928579, 100.21600794,  75.6674318 ,  92.49743476,\n",
    "        93.65128279,  97.8248985 ,  92.18604729, 111.66744323,\n",
    "        92.57463222,  90.41323891,  97.01535591,  95.9226384 ,\n",
    "        97.61439856, 107.69860394,  87.86859557,  90.70778624,\n",
    "        87.75422827,  80.02785882,  91.77930917,  97.98098673,\n",
    "        95.59430019,  87.91940082, 105.23043293,  88.16683279,\n",
    "        90.71804944, 108.45793296,  89.89281195, 101.91016317,\n",
    "        99.44237381,  95.67922825,  99.50436128,  95.09211527,\n",
    "        80.68778331,  83.1280927 , 110.59244172, 101.10131522,\n",
    "       102.81535319,  95.39858888,  78.37365934, 100.04769481,\n",
    "        96.32675624,  90.216931  ,  96.40327111,  96.54925264,\n",
    "        96.14296708,  86.60692713,  99.34427886,  66.50534512],'group':np.repeat(['traditional teaching method',\n",
    "                                                                                 'new teaching method'],repeats=100)})"
   ]
  },
  {
   "cell_type": "code",
   "execution_count": 5,
   "id": "6ec8d4d5",
   "metadata": {},
   "outputs": [
    {
     "data": {
      "text/html": [
       "<div>\n",
       "<style scoped>\n",
       "    .dataframe tbody tr th:only-of-type {\n",
       "        vertical-align: middle;\n",
       "    }\n",
       "\n",
       "    .dataframe tbody tr th {\n",
       "        vertical-align: top;\n",
       "    }\n",
       "\n",
       "    .dataframe thead th {\n",
       "        text-align: right;\n",
       "    }\n",
       "</style>\n",
       "<table border=\"1\" class=\"dataframe\">\n",
       "  <thead>\n",
       "    <tr style=\"text-align: right;\">\n",
       "      <th></th>\n",
       "      <th>SCORE</th>\n",
       "      <th>group</th>\n",
       "    </tr>\n",
       "  </thead>\n",
       "  <tbody>\n",
       "    <tr>\n",
       "      <th>0</th>\n",
       "      <td>70.491165</td>\n",
       "      <td>traditional teaching method</td>\n",
       "    </tr>\n",
       "    <tr>\n",
       "      <th>1</th>\n",
       "      <td>63.245096</td>\n",
       "      <td>traditional teaching method</td>\n",
       "    </tr>\n",
       "    <tr>\n",
       "      <th>2</th>\n",
       "      <td>74.827103</td>\n",
       "      <td>traditional teaching method</td>\n",
       "    </tr>\n",
       "    <tr>\n",
       "      <th>3</th>\n",
       "      <td>86.986305</td>\n",
       "      <td>traditional teaching method</td>\n",
       "    </tr>\n",
       "    <tr>\n",
       "      <th>4</th>\n",
       "      <td>73.839349</td>\n",
       "      <td>traditional teaching method</td>\n",
       "    </tr>\n",
       "    <tr>\n",
       "      <th>...</th>\n",
       "      <td>...</td>\n",
       "      <td>...</td>\n",
       "    </tr>\n",
       "    <tr>\n",
       "      <th>195</th>\n",
       "      <td>96.549253</td>\n",
       "      <td>new teaching method</td>\n",
       "    </tr>\n",
       "    <tr>\n",
       "      <th>196</th>\n",
       "      <td>96.142967</td>\n",
       "      <td>new teaching method</td>\n",
       "    </tr>\n",
       "    <tr>\n",
       "      <th>197</th>\n",
       "      <td>86.606927</td>\n",
       "      <td>new teaching method</td>\n",
       "    </tr>\n",
       "    <tr>\n",
       "      <th>198</th>\n",
       "      <td>99.344279</td>\n",
       "      <td>new teaching method</td>\n",
       "    </tr>\n",
       "    <tr>\n",
       "      <th>199</th>\n",
       "      <td>66.505345</td>\n",
       "      <td>new teaching method</td>\n",
       "    </tr>\n",
       "  </tbody>\n",
       "</table>\n",
       "<p>200 rows × 2 columns</p>\n",
       "</div>"
      ],
      "text/plain": [
       "         SCORE                        group\n",
       "0    70.491165  traditional teaching method\n",
       "1    63.245096  traditional teaching method\n",
       "2    74.827103  traditional teaching method\n",
       "3    86.986305  traditional teaching method\n",
       "4    73.839349  traditional teaching method\n",
       "..         ...                          ...\n",
       "195  96.549253          new teaching method\n",
       "196  96.142967          new teaching method\n",
       "197  86.606927          new teaching method\n",
       "198  99.344279          new teaching method\n",
       "199  66.505345          new teaching method\n",
       "\n",
       "[200 rows x 2 columns]"
      ]
     },
     "execution_count": 5,
     "metadata": {},
     "output_type": "execute_result"
    }
   ],
   "source": [
    "df4"
   ]
  },
  {
   "cell_type": "code",
   "execution_count": 7,
   "id": "f7d143d7",
   "metadata": {},
   "outputs": [],
   "source": [
    "#now we can conduct tukey test\n",
    "from statsmodels.stats.multicomp import pairwise_tukeyhsd"
   ]
  },
  {
   "cell_type": "code",
   "execution_count": 9,
   "id": "07290808",
   "metadata": {},
   "outputs": [],
   "source": [
    "tukey=pairwise_tukeyhsd(endog=df4['SCORE'],groups=df4['group'],alpha=0.05)"
   ]
  },
  {
   "cell_type": "code",
   "execution_count": 10,
   "id": "66ecd2d7",
   "metadata": {},
   "outputs": [
    {
     "data": {
      "text/plain": [
       "<statsmodels.sandbox.stats.multicomp.TukeyHSDResults at 0x26cfe02d690>"
      ]
     },
     "execution_count": 10,
     "metadata": {},
     "output_type": "execute_result"
    }
   ],
   "source": [
    "tukey"
   ]
  },
  {
   "cell_type": "code",
   "execution_count": 11,
   "id": "ac4a7e67",
   "metadata": {},
   "outputs": [
    {
     "name": "stdout",
     "output_type": "stream",
     "text": [
      "                  Multiple Comparison of Means - Tukey HSD, FWER=0.05                  \n",
      "=======================================================================================\n",
      "       group1                  group2           meandiff p-adj  lower    upper   reject\n",
      "---------------------------------------------------------------------------------------\n",
      "new teaching method traditional teaching method -24.4734   0.0 -27.1002 -21.8466   True\n",
      "---------------------------------------------------------------------------------------\n"
     ]
    }
   ],
   "source": [
    "print(tukey)"
   ]
  },
  {
   "cell_type": "code",
   "execution_count": null,
   "id": "5be4b3d0",
   "metadata": {},
   "outputs": [],
   "source": [
    "#As p value for difference in mean between traditional and new teaching method is 0 which means that there is statistically \n",
    "#significant difference between means of new teaching and traditional teaching as p value is less than 0.05."
   ]
  },
  {
   "cell_type": "markdown",
   "id": "3b5a6ecb",
   "metadata": {},
   "source": [
    "# Queno 12"
   ]
  },
  {
   "cell_type": "code",
   "execution_count": null,
   "id": "500fc358",
   "metadata": {},
   "outputs": [],
   "source": [
    "#create three group of STORE A,B and C according to their no of sale."
   ]
  },
  {
   "cell_type": "code",
   "execution_count": 13,
   "id": "ee56bcdd",
   "metadata": {},
   "outputs": [
    {
     "data": {
      "text/plain": [
       "array([107.96088523, 110.09768376, 102.38845638,  86.05780226,\n",
       "       106.23710791, 105.03842777, 102.3977176 , 102.78857939,\n",
       "        91.78047734, 101.96710099,  99.53625279,  94.33330231,\n",
       "       120.77619951,  83.68468328, 119.48326782, 102.90568063,\n",
       "       101.10586026,  97.65909797,  92.50894139,  98.59179601,\n",
       "       119.79648631, 107.88956518,  98.73091027,  92.20655846,\n",
       "        92.31596443, 115.74374724,  83.23156595,  85.39179913,\n",
       "       103.19229802,  94.11109848])"
      ]
     },
     "execution_count": 13,
     "metadata": {},
     "output_type": "execute_result"
    }
   ],
   "source": [
    "storeA=np.random.normal(loc=100,scale=10,size=30)\n",
    "storeA"
   ]
  },
  {
   "cell_type": "code",
   "execution_count": 14,
   "id": "4a98473c",
   "metadata": {},
   "outputs": [
    {
     "data": {
      "text/plain": [
       "array([ 75.39450021,  87.88672748,  95.87649   ,  84.11048336,\n",
       "       100.60768488,  77.71501442,  74.90541631,  98.76026472,\n",
       "        83.2150574 ,  98.31666104,  71.5921787 ,  87.47946965,\n",
       "        96.14427835, 106.06207911,  99.03099057,  85.21743908,\n",
       "        93.86197759,  81.54424511,  67.39332457,  87.62555279,\n",
       "        95.72661999,  81.21438975,  92.83373233,  97.7284351 ,\n",
       "        84.28650382,  69.78802376,  94.6637884 ,  71.26504849,\n",
       "        70.80057324,  80.09789532])"
      ]
     },
     "execution_count": 14,
     "metadata": {},
     "output_type": "execute_result"
    }
   ],
   "source": [
    "storeB=np.random.normal(loc=90,scale=10,size=30)\n",
    "storeB"
   ]
  },
  {
   "cell_type": "code",
   "execution_count": 15,
   "id": "a9daa9b8",
   "metadata": {},
   "outputs": [
    {
     "data": {
      "text/plain": [
       "array([ 88.87848105,  87.44418851,  67.17333428,  95.81457207,\n",
       "        94.09475739,  73.59673231,  87.69730469,  94.16572869,\n",
       "        49.66976029,  88.0292543 ,  82.2461809 ,  81.02982356,\n",
       "        73.21792341,  81.32616222,  89.91285846,  84.21935795,\n",
       "        76.65066523,  81.35766542,  85.43030806,  77.24134061,\n",
       "        76.65436397,  73.50024728, 104.4044532 ,  79.55534432,\n",
       "        85.60992922,  68.5942724 ,  78.14018138,  81.74468709,\n",
       "        57.15923537,  77.9507711 ])"
      ]
     },
     "execution_count": 15,
     "metadata": {},
     "output_type": "execute_result"
    }
   ],
   "source": [
    "storeC=np.random.normal(loc=80,scale=10,size=30)\n",
    "storeC"
   ]
  },
  {
   "cell_type": "code",
   "execution_count": 18,
   "id": "fc68a37b",
   "metadata": {},
   "outputs": [],
   "source": [
    "#NOW we have to create dataframe\n",
    "df5=pd.DataFrame({'No_of_days':np.repeat([1,2,3,4,5,6,7,8,9,10,11,12,13,14,15,16,17,18,19,20,21,22,23,24,25,26,27,28,\n",
    "                                         29,30],3),'store':np.tile(['A','B','C'],30),'No_of_sales':[107, 110, 102,86,106, 105, 102 , 102,\n",
    "        91,101,99,94,120,83,119,102,101,97,92,98,119,107,98,92,92,115,83,85,103,94,75,87,95,84,100,77,74,98,83,98,71, 87,\n",
    "        96,106,99,85,93,81,67,87,95,81,92,97,84,69,94,71,70,80,88,87,67,95,94,73,87,94,49,88,82,81,73,81,89,84,76,81,85,77,\n",
    "        76,73,104,79,85,68,78,84,57,77]})"
   ]
  },
  {
   "cell_type": "code",
   "execution_count": 19,
   "id": "f161cd9d",
   "metadata": {},
   "outputs": [
    {
     "data": {
      "text/html": [
       "<div>\n",
       "<style scoped>\n",
       "    .dataframe tbody tr th:only-of-type {\n",
       "        vertical-align: middle;\n",
       "    }\n",
       "\n",
       "    .dataframe tbody tr th {\n",
       "        vertical-align: top;\n",
       "    }\n",
       "\n",
       "    .dataframe thead th {\n",
       "        text-align: right;\n",
       "    }\n",
       "</style>\n",
       "<table border=\"1\" class=\"dataframe\">\n",
       "  <thead>\n",
       "    <tr style=\"text-align: right;\">\n",
       "      <th></th>\n",
       "      <th>No_of_days</th>\n",
       "      <th>store</th>\n",
       "      <th>No_of_sales</th>\n",
       "    </tr>\n",
       "  </thead>\n",
       "  <tbody>\n",
       "    <tr>\n",
       "      <th>0</th>\n",
       "      <td>1</td>\n",
       "      <td>A</td>\n",
       "      <td>107</td>\n",
       "    </tr>\n",
       "    <tr>\n",
       "      <th>1</th>\n",
       "      <td>1</td>\n",
       "      <td>B</td>\n",
       "      <td>110</td>\n",
       "    </tr>\n",
       "    <tr>\n",
       "      <th>2</th>\n",
       "      <td>1</td>\n",
       "      <td>C</td>\n",
       "      <td>102</td>\n",
       "    </tr>\n",
       "    <tr>\n",
       "      <th>3</th>\n",
       "      <td>2</td>\n",
       "      <td>A</td>\n",
       "      <td>86</td>\n",
       "    </tr>\n",
       "    <tr>\n",
       "      <th>4</th>\n",
       "      <td>2</td>\n",
       "      <td>B</td>\n",
       "      <td>106</td>\n",
       "    </tr>\n",
       "    <tr>\n",
       "      <th>...</th>\n",
       "      <td>...</td>\n",
       "      <td>...</td>\n",
       "      <td>...</td>\n",
       "    </tr>\n",
       "    <tr>\n",
       "      <th>85</th>\n",
       "      <td>29</td>\n",
       "      <td>B</td>\n",
       "      <td>68</td>\n",
       "    </tr>\n",
       "    <tr>\n",
       "      <th>86</th>\n",
       "      <td>29</td>\n",
       "      <td>C</td>\n",
       "      <td>78</td>\n",
       "    </tr>\n",
       "    <tr>\n",
       "      <th>87</th>\n",
       "      <td>30</td>\n",
       "      <td>A</td>\n",
       "      <td>84</td>\n",
       "    </tr>\n",
       "    <tr>\n",
       "      <th>88</th>\n",
       "      <td>30</td>\n",
       "      <td>B</td>\n",
       "      <td>57</td>\n",
       "    </tr>\n",
       "    <tr>\n",
       "      <th>89</th>\n",
       "      <td>30</td>\n",
       "      <td>C</td>\n",
       "      <td>77</td>\n",
       "    </tr>\n",
       "  </tbody>\n",
       "</table>\n",
       "<p>90 rows × 3 columns</p>\n",
       "</div>"
      ],
      "text/plain": [
       "    No_of_days store  No_of_sales\n",
       "0            1     A          107\n",
       "1            1     B          110\n",
       "2            1     C          102\n",
       "3            2     A           86\n",
       "4            2     B          106\n",
       "..         ...   ...          ...\n",
       "85          29     B           68\n",
       "86          29     C           78\n",
       "87          30     A           84\n",
       "88          30     B           57\n",
       "89          30     C           77\n",
       "\n",
       "[90 rows x 3 columns]"
      ]
     },
     "execution_count": 19,
     "metadata": {},
     "output_type": "execute_result"
    }
   ],
   "source": [
    "df5"
   ]
  },
  {
   "cell_type": "code",
   "execution_count": 21,
   "id": "8b00c0c3",
   "metadata": {},
   "outputs": [],
   "source": [
    "from statsmodels.stats.anova import AnovaRM\n",
    "#for testing repeated measures in ANOVA."
   ]
  },
  {
   "cell_type": "code",
   "execution_count": 26,
   "id": "64b3f16a",
   "metadata": {},
   "outputs": [],
   "source": [
    "RESULT=AnovaRM(data=df5,depvar='No_of_sales',subject='store',within=['No_of_days']).fit()"
   ]
  },
  {
   "cell_type": "code",
   "execution_count": 27,
   "id": "70a30eca",
   "metadata": {},
   "outputs": [
    {
     "name": "stdout",
     "output_type": "stream",
     "text": [
      "                  Anova\n",
      "=========================================\n",
      "           F Value  Num DF  Den DF Pr > F\n",
      "-----------------------------------------\n",
      "No_of_days  2.1913 29.0000 58.0000 0.0056\n",
      "=========================================\n",
      "\n"
     ]
    }
   ],
   "source": [
    "print(RESULT)"
   ]
  },
  {
   "cell_type": "code",
   "execution_count": null,
   "id": "8336f24e",
   "metadata": {},
   "outputs": [],
   "source": [
    "#hence p value is less than 0.05 which is 0.0056 in favour of alternate hypotheses for which we can conclude that there is \n",
    "#statistically difference among the sale of store A,B and C."
   ]
  },
  {
   "cell_type": "code",
   "execution_count": null,
   "id": "40767491",
   "metadata": {},
   "outputs": [],
   "source": [
    "#now we can conduct post hoc test to see which store differ from each other for this we have to create new dataframe"
   ]
  },
  {
   "cell_type": "code",
   "execution_count": 29,
   "id": "c1fb3048",
   "metadata": {},
   "outputs": [],
   "source": [
    "df6=pd.DataFrame({'no_of_sales':[107, 110, 102,86,106, 105, 102 , 102,\n",
    "        91,101,99,94,120,83,119,102,101,97,92,98,119,107,98,92,92,115,83,85,103,94,75,87,95,84,100,77,74,98,83,98,71, 87,\n",
    "        96,106,99,85,93,81,67,87,95,81,92,97,84,69,94,71,70,80,88,87,67,95,94,73,87,94,49,88,82,81,73,81,89,84,76,81,85,77,\n",
    "        76,73,104,79,85,68,78,84,57,77],'group':np.repeat(['storeA','storeB','storeC'],repeats=30)})"
   ]
  },
  {
   "cell_type": "code",
   "execution_count": 30,
   "id": "d7d4a4d5",
   "metadata": {},
   "outputs": [
    {
     "data": {
      "text/html": [
       "<div>\n",
       "<style scoped>\n",
       "    .dataframe tbody tr th:only-of-type {\n",
       "        vertical-align: middle;\n",
       "    }\n",
       "\n",
       "    .dataframe tbody tr th {\n",
       "        vertical-align: top;\n",
       "    }\n",
       "\n",
       "    .dataframe thead th {\n",
       "        text-align: right;\n",
       "    }\n",
       "</style>\n",
       "<table border=\"1\" class=\"dataframe\">\n",
       "  <thead>\n",
       "    <tr style=\"text-align: right;\">\n",
       "      <th></th>\n",
       "      <th>no_of_sales</th>\n",
       "      <th>group</th>\n",
       "    </tr>\n",
       "  </thead>\n",
       "  <tbody>\n",
       "    <tr>\n",
       "      <th>0</th>\n",
       "      <td>107</td>\n",
       "      <td>storeA</td>\n",
       "    </tr>\n",
       "    <tr>\n",
       "      <th>1</th>\n",
       "      <td>110</td>\n",
       "      <td>storeA</td>\n",
       "    </tr>\n",
       "    <tr>\n",
       "      <th>2</th>\n",
       "      <td>102</td>\n",
       "      <td>storeA</td>\n",
       "    </tr>\n",
       "    <tr>\n",
       "      <th>3</th>\n",
       "      <td>86</td>\n",
       "      <td>storeA</td>\n",
       "    </tr>\n",
       "    <tr>\n",
       "      <th>4</th>\n",
       "      <td>106</td>\n",
       "      <td>storeA</td>\n",
       "    </tr>\n",
       "    <tr>\n",
       "      <th>...</th>\n",
       "      <td>...</td>\n",
       "      <td>...</td>\n",
       "    </tr>\n",
       "    <tr>\n",
       "      <th>85</th>\n",
       "      <td>68</td>\n",
       "      <td>storeC</td>\n",
       "    </tr>\n",
       "    <tr>\n",
       "      <th>86</th>\n",
       "      <td>78</td>\n",
       "      <td>storeC</td>\n",
       "    </tr>\n",
       "    <tr>\n",
       "      <th>87</th>\n",
       "      <td>84</td>\n",
       "      <td>storeC</td>\n",
       "    </tr>\n",
       "    <tr>\n",
       "      <th>88</th>\n",
       "      <td>57</td>\n",
       "      <td>storeC</td>\n",
       "    </tr>\n",
       "    <tr>\n",
       "      <th>89</th>\n",
       "      <td>77</td>\n",
       "      <td>storeC</td>\n",
       "    </tr>\n",
       "  </tbody>\n",
       "</table>\n",
       "<p>90 rows × 2 columns</p>\n",
       "</div>"
      ],
      "text/plain": [
       "    no_of_sales   group\n",
       "0           107  storeA\n",
       "1           110  storeA\n",
       "2           102  storeA\n",
       "3            86  storeA\n",
       "4           106  storeA\n",
       "..          ...     ...\n",
       "85           68  storeC\n",
       "86           78  storeC\n",
       "87           84  storeC\n",
       "88           57  storeC\n",
       "89           77  storeC\n",
       "\n",
       "[90 rows x 2 columns]"
      ]
     },
     "execution_count": 30,
     "metadata": {},
     "output_type": "execute_result"
    }
   ],
   "source": [
    "df6"
   ]
  },
  {
   "cell_type": "code",
   "execution_count": 32,
   "id": "4f2164a6",
   "metadata": {},
   "outputs": [],
   "source": [
    "tukey=pairwise_tukeyhsd(endog=df6['no_of_sales'],groups=df6['group'],alpha=0.05)\n"
   ]
  },
  {
   "cell_type": "code",
   "execution_count": 33,
   "id": "8179e993",
   "metadata": {},
   "outputs": [
    {
     "name": "stdout",
     "output_type": "stream",
     "text": [
      " Multiple Comparison of Means - Tukey HSD, FWER=0.05 \n",
      "=====================================================\n",
      "group1 group2 meandiff p-adj  lower    upper   reject\n",
      "-----------------------------------------------------\n",
      "storeA storeB    -14.3   0.0  -20.893   -7.707   True\n",
      "storeA storeC -19.7667   0.0 -26.3597 -13.1736   True\n",
      "storeB storeC  -5.4667 0.124 -12.0597   1.1264  False\n",
      "-----------------------------------------------------\n"
     ]
    }
   ],
   "source": [
    "print(tukey)"
   ]
  },
  {
   "cell_type": "code",
   "execution_count": null,
   "id": "6e4a50f8",
   "metadata": {},
   "outputs": [],
   "source": [
    "#Thus according to post hoc test only sales of store B and C statistically do not differ as its p value is greater than \n",
    "#alpha 0.05."
   ]
  },
  {
   "cell_type": "code",
   "execution_count": null,
   "id": "bcd04cf2",
   "metadata": {},
   "outputs": [],
   "source": []
  }
 ],
 "metadata": {
  "kernelspec": {
   "display_name": "Python 3 (ipykernel)",
   "language": "python",
   "name": "python3"
  },
  "language_info": {
   "codemirror_mode": {
    "name": "ipython",
    "version": 3
   },
   "file_extension": ".py",
   "mimetype": "text/x-python",
   "name": "python",
   "nbconvert_exporter": "python",
   "pygments_lexer": "ipython3",
   "version": "3.11.5"
  }
 },
 "nbformat": 4,
 "nbformat_minor": 5
}
