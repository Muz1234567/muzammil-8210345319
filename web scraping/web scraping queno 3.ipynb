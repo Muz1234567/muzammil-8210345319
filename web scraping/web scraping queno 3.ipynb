{
 "cells": [
  {
   "cell_type": "markdown",
   "id": "287209db",
   "metadata": {},
   "source": [
    "# Beautiful Soup And Its Use"
   ]
  },
  {
   "cell_type": "code",
   "execution_count": null,
   "id": "81216943",
   "metadata": {},
   "outputs": [],
   "source": [
    "#Beautiful Soup is a python library that makes it easy to scrape information from web pages."
   ]
  },
  {
   "cell_type": "code",
   "execution_count": null,
   "id": "a0eed161",
   "metadata": {},
   "outputs": [],
   "source": [
    "#It sits a top an HTML or XML parser and provides Pythonic idioms for iterating,searching and modifying the parse tree."
   ]
  },
  {
   "cell_type": "code",
   "execution_count": null,
   "id": "45304fd5",
   "metadata": {},
   "outputs": [],
   "source": [
    "#Beautiful Soup library helps with isolating titles and links from webpages."
   ]
  },
  {
   "cell_type": "code",
   "execution_count": null,
   "id": "909c9d3a",
   "metadata": {},
   "outputs": [],
   "source": [
    "#It can extract all of the text from HTML tags, and alter the HTML in the document with which we're working."
   ]
  },
  {
   "cell_type": "code",
   "execution_count": null,
   "id": "a6d61783",
   "metadata": {},
   "outputs": [],
   "source": [
    "#Beautiful Soup provides a few simple methods and pythonic idioms for navigating,searching,and modifying a parse tree.#"
   ]
  },
  {
   "cell_type": "code",
   "execution_count": null,
   "id": "053be588",
   "metadata": {},
   "outputs": [],
   "source": [
    "#Beautiful Soup automatically converts incoming documents to unicode and outgoing documents to UTF-8"
   ]
  },
  {
   "cell_type": "code",
   "execution_count": null,
   "id": "56a3b7b7",
   "metadata": {},
   "outputs": [],
   "source": [
    "#Beautiful Soup sits on top of popular parsers like lxml and html5lib,which allows us to try out different parsing strategies or trade speed."
   ]
  },
  {
   "cell_type": "code",
   "execution_count": null,
   "id": "37960704",
   "metadata": {},
   "outputs": [],
   "source": []
  }
 ],
 "metadata": {
  "kernelspec": {
   "display_name": "Python 3 (ipykernel)",
   "language": "python",
   "name": "python3"
  },
  "language_info": {
   "codemirror_mode": {
    "name": "ipython",
    "version": 3
   },
   "file_extension": ".py",
   "mimetype": "text/x-python",
   "name": "python",
   "nbconvert_exporter": "python",
   "pygments_lexer": "ipython3",
   "version": "3.11.5"
  }
 },
 "nbformat": 4,
 "nbformat_minor": 5
}
