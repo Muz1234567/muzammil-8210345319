{
 "cells": [
  {
   "cell_type": "markdown",
   "id": "ec1231f5",
   "metadata": {},
   "source": [
    "# AWS Services Used In Web Scraping"
   ]
  },
  {
   "cell_type": "code",
   "execution_count": null,
   "id": "f2d34a94",
   "metadata": {},
   "outputs": [],
   "source": [
    "#AWS is a cloud computing platform supported by Amazon that includes a mixture of infrastructure as a service.\n",
    "\n",
    "\n",
    "\n",
    "#There are lots of over 200 AWS services globally."
   ]
  },
  {
   "cell_type": "code",
   "execution_count": null,
   "id": "13849bd2",
   "metadata": {},
   "outputs": [],
   "source": [
    "#Nowadays we need Lambda,Eventbridge,DynamoDB and IAM for web scraping."
   ]
  },
  {
   "cell_type": "code",
   "execution_count": null,
   "id": "0a039a46",
   "metadata": {},
   "outputs": [],
   "source": [
    "#AWS lambda lets us write or upload a code and dependencies so that we can use amzon's infrastructure to run code."
   ]
  },
  {
   "cell_type": "code",
   "execution_count": null,
   "id": "0fe7c31d",
   "metadata": {},
   "outputs": [],
   "source": [
    "#The benefit is that we can run any code regardless of our computer specifics and don't need to turn on our computer to run our code."
   ]
  },
  {
   "cell_type": "code",
   "execution_count": null,
   "id": "0808a445",
   "metadata": {},
   "outputs": [],
   "source": [
    "#Also we can integrate it with other AWS services to do more advanced stuff."
   ]
  },
  {
   "cell_type": "code",
   "execution_count": null,
   "id": "7b3b646f",
   "metadata": {},
   "outputs": [],
   "source": [
    "#EventBridge AWS connect our applications with data from a variety of sources."
   ]
  },
  {
   "cell_type": "code",
   "execution_count": null,
   "id": "790df57d",
   "metadata": {},
   "outputs": [],
   "source": [
    "#It detects an event from other services in real-time and activates an action when it detects an event."
   ]
  },
  {
   "cell_type": "code",
   "execution_count": null,
   "id": "1b7eedb3",
   "metadata": {},
   "outputs": [],
   "source": [
    "#DynamoDB IS A NOSQL database service we can use from AWS."
   ]
  },
  {
   "cell_type": "code",
   "execution_count": null,
   "id": "dc7e3703",
   "metadata": {},
   "outputs": [],
   "source": [
    "#We can easily create tables,store data and query rows and it uses cloud to store data."
   ]
  },
  {
   "cell_type": "code",
   "execution_count": null,
   "id": "b5ef79ff",
   "metadata": {},
   "outputs": [],
   "source": [
    "#IAM services can't be accesed from others by default for security reasons."
   ]
  },
  {
   "cell_type": "code",
   "execution_count": null,
   "id": "3e7f2e7b",
   "metadata": {},
   "outputs": [],
   "source": [
    "#We need to create roles first from IAM and assign those roles to each service to connect with others."
   ]
  }
 ],
 "metadata": {
  "kernelspec": {
   "display_name": "Python 3 (ipykernel)",
   "language": "python",
   "name": "python3"
  },
  "language_info": {
   "codemirror_mode": {
    "name": "ipython",
    "version": 3
   },
   "file_extension": ".py",
   "mimetype": "text/x-python",
   "name": "python",
   "nbconvert_exporter": "python",
   "pygments_lexer": "ipython3",
   "version": "3.11.5"
  }
 },
 "nbformat": 4,
 "nbformat_minor": 5
}
