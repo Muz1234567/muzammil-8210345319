{
 "cells": [
  {
   "cell_type": "markdown",
   "id": "5e6e70f4",
   "metadata": {},
   "source": [
    "# Flask Use In Web Scraping"
   ]
  },
  {
   "cell_type": "code",
   "execution_count": null,
   "id": "b794a38b",
   "metadata": {},
   "outputs": [],
   "source": [
    "#With flask microframework, we can create a web interface to display the data we gather."
   ]
  },
  {
   "cell_type": "code",
   "execution_count": null,
   "id": "5a53e27d",
   "metadata": {},
   "outputs": [],
   "source": [
    "#Here we will scrape data from a sample news portal and display the headlines on our flask web app."
   ]
  },
  {
   "cell_type": "code",
   "execution_count": null,
   "id": "6edf9431",
   "metadata": {},
   "outputs": [],
   "source": [
    "#we will use this flask to parse our collected data and display it as HTML in a new HTML file."
   ]
  },
  {
   "cell_type": "code",
   "execution_count": null,
   "id": "9a7ba6fe",
   "metadata": {},
   "outputs": [],
   "source": [
    "#Under this requests module allows us to send http requests to the website we want to scrape."
   ]
  },
  {
   "cell_type": "code",
   "execution_count": null,
   "id": "729d7f80",
   "metadata": {},
   "outputs": [],
   "source": [
    "#We can integrate the function with our Flask app by calling it in 'home' route and passing the headlines to the 'index.html' template."
   ]
  },
  {
   "cell_type": "code",
   "execution_count": null,
   "id": "ad626169",
   "metadata": {},
   "outputs": [],
   "source": [
    "#We used the Flask to build a web app that allows users to interact with web scraper written in python."
   ]
  }
 ],
 "metadata": {
  "kernelspec": {
   "display_name": "Python 3 (ipykernel)",
   "language": "python",
   "name": "python3"
  },
  "language_info": {
   "codemirror_mode": {
    "name": "ipython",
    "version": 3
   },
   "file_extension": ".py",
   "mimetype": "text/x-python",
   "name": "python",
   "nbconvert_exporter": "python",
   "pygments_lexer": "ipython3",
   "version": "3.11.5"
  }
 },
 "nbformat": 4,
 "nbformat_minor": 5
}
