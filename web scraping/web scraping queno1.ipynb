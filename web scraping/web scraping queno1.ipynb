{
 "cells": [
  {
   "cell_type": "markdown",
   "id": "734b6604",
   "metadata": {},
   "source": [
    "# Web Scrapping And Its Use"
   ]
  },
  {
   "cell_type": "code",
   "execution_count": null,
   "id": "267b1621",
   "metadata": {},
   "outputs": [],
   "source": [
    "#Web scraping is an automatic method to obtain large amounts of data from websites."
   ]
  },
  {
   "cell_type": "code",
   "execution_count": null,
   "id": "7f979c9d",
   "metadata": {},
   "outputs": [],
   "source": [
    "#Most of htis data is unstructured data in an HTML format which is then converted into structured dta in a spreadsheet or a database so that it can be used in various appplications."
   ]
  },
  {
   "cell_type": "code",
   "execution_count": null,
   "id": "39f53f8e",
   "metadata": {},
   "outputs": [],
   "source": [
    "#There are many ways to perform web scraping to obtain data from websites."
   ]
  },
  {
   "cell_type": "code",
   "execution_count": null,
   "id": "26c90394",
   "metadata": {},
   "outputs": [],
   "source": [
    "#These include using online services,particular API's or even creating our code for web scraping from scratch."
   ]
  },
  {
   "cell_type": "code",
   "execution_count": null,
   "id": "497d0b12",
   "metadata": {},
   "outputs": [],
   "source": [
    "#Many large websites like Google,Twitter,Facebook,Stackoverflowetc have APIs that allow us access data in structured format."
   ]
  },
  {
   "cell_type": "code",
   "execution_count": null,
   "id": "2dde84c2",
   "metadata": {},
   "outputs": [],
   "source": [
    "#But there are other sites that don't allow users to access large amounts of data in structured form,in that situation its best to use Web scraping to scrap website for data."
   ]
  },
  {
   "cell_type": "code",
   "execution_count": null,
   "id": "8a6188ce",
   "metadata": {},
   "outputs": [],
   "source": [
    "#Web scraping can be used by companies to scrap the product data for their products and competing products as well to see how it impact their pricing strategies."
   ]
  },
  {
   "cell_type": "code",
   "execution_count": null,
   "id": "858a6faf",
   "metadata": {},
   "outputs": [],
   "source": [
    "#Web scraping is also used for market research by companies."
   ]
  },
  {
   "cell_type": "code",
   "execution_count": null,
   "id": "4ac0f208",
   "metadata": {},
   "outputs": [],
   "source": [
    "#High-quality web scraped data obtained in large volumes can be very helpful for companies in analyzing consumer trends."
   ]
  },
  {
   "cell_type": "code",
   "execution_count": null,
   "id": "8ddfe46f",
   "metadata": {},
   "outputs": [],
   "source": [
    "#Companies can use web scraping to collect data from social media websites such as facebook and twitter as to what the general sentiment about their product is."
   ]
  },
  {
   "cell_type": "code",
   "execution_count": null,
   "id": "57655913",
   "metadata": {},
   "outputs": [],
   "source": [
    "#Web scraping news sites can provide detailed reports on the current news to a company."
   ]
  },
  {
   "cell_type": "markdown",
   "id": "c046bc20",
   "metadata": {},
   "source": [
    "# Areas Where Web scraping used"
   ]
  },
  {
   "cell_type": "code",
   "execution_count": null,
   "id": "c730e0dc",
   "metadata": {},
   "outputs": [],
   "source": [
    "#Price monitoring and comparison;Retailers and e-commerce buisneses scrape competitor websites to monitor and compare prices."
   ]
  },
  {
   "cell_type": "code",
   "execution_count": null,
   "id": "62f3e35b",
   "metadata": {},
   "outputs": [],
   "source": [
    "#Stock market analysis;Financial analysts scrape stock market websites to gather data on stock prices,company news and finacial statements for analysing and forecasting."
   ]
  },
  {
   "cell_type": "code",
   "execution_count": null,
   "id": "b582b5dc",
   "metadata": {},
   "outputs": [],
   "source": [
    "#Job board monitoring;Recruitment agencies and HR departments scrape job boards to find new job listings that match specific criteria."
   ]
  }
 ],
 "metadata": {
  "kernelspec": {
   "display_name": "Python 3 (ipykernel)",
   "language": "python",
   "name": "python3"
  },
  "language_info": {
   "codemirror_mode": {
    "name": "ipython",
    "version": 3
   },
   "file_extension": ".py",
   "mimetype": "text/x-python",
   "name": "python",
   "nbconvert_exporter": "python",
   "pygments_lexer": "ipython3",
   "version": "3.11.5"
  }
 },
 "nbformat": 4,
 "nbformat_minor": 5
}
