{
 "cells": [
  {
   "cell_type": "markdown",
   "id": "bacf907d",
   "metadata": {},
   "source": [
    "# queno 1"
   ]
  },
  {
   "cell_type": "markdown",
   "id": "75b4bbcb",
   "metadata": {},
   "source": [
    "# Probability Density Function"
   ]
  },
  {
   "cell_type": "code",
   "execution_count": null,
   "id": "7076bac9",
   "metadata": {},
   "outputs": [],
   "source": [
    "#Probability density function is used to define the random variable's probability coming within a distinct range of values."
   ]
  },
  {
   "cell_type": "code",
   "execution_count": null,
   "id": "cf2f9951",
   "metadata": {},
   "outputs": [],
   "source": [
    "#It defines the probability function representing the density of a continous variable lying between a specific range of values.\n"
   ]
  },
  {
   "cell_type": "code",
   "execution_count": null,
   "id": "d5bfae79",
   "metadata": {},
   "outputs": [],
   "source": [
    "#Probability density function is defined for continous random variables. "
   ]
  },
  {
   "cell_type": "code",
   "execution_count": null,
   "id": "2f9e4938",
   "metadata": {},
   "outputs": [],
   "source": [
    "#In case of continous random variable, the probability taken by x on some given value is always 0."
   ]
  },
  {
   "cell_type": "code",
   "execution_count": null,
   "id": "d5a0e855",
   "metadata": {},
   "outputs": [],
   "source": [
    "#In this case if we find P(X=x),it does not work, instead we have to calculate probability of X lying in an interval(a,b). "
   ]
  },
  {
   "cell_type": "code",
   "execution_count": null,
   "id": "65cf57a4",
   "metadata": {},
   "outputs": [],
   "source": [
    "#After that we have to find it out for p(a<x<b),and calculate using formulae of Probability density function."
   ]
  },
  {
   "cell_type": "markdown",
   "id": "3d1943a9",
   "metadata": {},
   "source": [
    "# queno 2 and 4"
   ]
  },
  {
   "cell_type": "markdown",
   "id": "e4158528",
   "metadata": {},
   "source": [
    "# Probability Distribution"
   ]
  },
  {
   "cell_type": "code",
   "execution_count": null,
   "id": "7bc3cfd6",
   "metadata": {},
   "outputs": [],
   "source": [
    "#Probability distribution gives the possibility of each outcome of a random experiment or event."
   ]
  },
  {
   "cell_type": "code",
   "execution_count": null,
   "id": "bb0d3b7d",
   "metadata": {},
   "outputs": [],
   "source": [
    "#It yields the possible outcomes for any random event."
   ]
  },
  {
   "cell_type": "code",
   "execution_count": null,
   "id": "76a265e0",
   "metadata": {},
   "outputs": [],
   "source": [
    "#Suppose we toss a coin, we cannot predict what outcome it will appear either it will come as Head or as Tail."
   ]
  },
  {
   "cell_type": "code",
   "execution_count": null,
   "id": "06fb8389",
   "metadata": {},
   "outputs": [],
   "source": [
    "#Possible result of a random experiment is called an outcome and the set of outcomes is called a sample point."
   ]
  },
  {
   "cell_type": "markdown",
   "id": "a04532b8",
   "metadata": {},
   "source": [
    "# Types of Probability Distribution"
   ]
  },
  {
   "cell_type": "code",
   "execution_count": null,
   "id": "464b0955",
   "metadata": {},
   "outputs": [],
   "source": [
    "#There are two types of probability distribution which are used for different purposes.\n",
    "#1.Normal or Cumulative Probability Distribution\n",
    "#2.Binomial or Discrete Probability Distribution"
   ]
  },
  {
   "cell_type": "markdown",
   "id": "d0c9d6ff",
   "metadata": {},
   "source": [
    "# Normal Probability Distribution"
   ]
  },
  {
   "cell_type": "code",
   "execution_count": null,
   "id": "80ee68a3",
   "metadata": {},
   "outputs": [],
   "source": [
    "#It is also known as continous probability distribution."
   ]
  },
  {
   "cell_type": "code",
   "execution_count": null,
   "id": "32b48712",
   "metadata": {},
   "outputs": [],
   "source": [
    "#In this the set of possible outcomes can take on values in a continous range."
   ]
  },
  {
   "cell_type": "code",
   "execution_count": null,
   "id": "dd8d42d5",
   "metadata": {},
   "outputs": [],
   "source": [
    "#for ex; a set of real numbers,prime numbers,whole numbers are a continous or normal distribution as it gives all possible outcomes."
   ]
  },
  {
   "attachments": {
    "image.png": {
     "image/png": "[encoded data removed]"
    }
   },
   "cell_type": "markdown",
   "id": "905e17f1",
   "metadata": {},
   "source": [
    "#the formulae for normal probability distribution is\n",
    "![image.png](attachment:image.png)"
   ]
  },
  {
   "cell_type": "code",
   "execution_count": null,
   "id": "db816372",
   "metadata": {},
   "outputs": [],
   "source": [
    "#where\n",
    "#μ = Mean Value\n",
    "#σ = Standard Distribution of probability.\n",
    "#If mean(μ) = 0 and standard deviation(σ) = 1, then this distribution is known to be normal distribution.\n",
    "# x = Normal random variable"
   ]
  },
  {
   "cell_type": "code",
   "execution_count": null,
   "id": "bca3aab0",
   "metadata": {},
   "outputs": [],
   "source": [
    "#it's examples are ; rolling a dice (once or multiple times),weight of born babies range,sizes of shoes etc."
   ]
  },
  {
   "cell_type": "markdown",
   "id": "f487f6aa",
   "metadata": {},
   "source": [
    "# Binomial Probability Distribution"
   ]
  },
  {
   "cell_type": "code",
   "execution_count": null,
   "id": "53feb500",
   "metadata": {},
   "outputs": [],
   "source": [
    "#It is also called discrete probability distribution,where set of outcomes are discrete in nature."
   ]
  },
  {
   "cell_type": "code",
   "execution_count": null,
   "id": "fc960c46",
   "metadata": {},
   "outputs": [],
   "source": [
    "#for ex; if a dice is rolled, then all possible outcomes are discrete and give a mass of outcomes."
   ]
  },
  {
   "cell_type": "code",
   "execution_count": null,
   "id": "4492ddcc",
   "metadata": {},
   "outputs": [],
   "source": [
    "#so the outcomes of binomial distribution consist of n repeated trials and outcome may or may not occur."
   ]
  },
  {
   "attachments": {
    "image.png": {
     "image/png": "[encoded data removed]"
    }
   },
   "cell_type": "markdown",
   "id": "70efac1c",
   "metadata": {},
   "source": [
    "#formulae for binomial distribution are;\n",
    "![image.png](attachment:image.png)"
   ]
  },
  {
   "cell_type": "code",
   "execution_count": null,
   "id": "d73180e3",
   "metadata": {},
   "outputs": [],
   "source": [
    "#where\n",
    "# n = Total number of events\n",
    "# r = Total number of successful events.\n",
    "# p = Success on a single trial probability.\n",
    "# nCr = [n!/r!(n−r)]!\n",
    "# 1 – p = Failure Probability"
   ]
  },
  {
   "cell_type": "code",
   "execution_count": null,
   "id": "8c3b682e",
   "metadata": {},
   "outputs": [],
   "source": [
    "#Examples of binomial distribution are;\n",
    "#1.to find number of used and unused materials while manufacturing product.\n",
    "#2.to count votes for candidate in an election and many more."
   ]
  },
  {
   "cell_type": "markdown",
   "id": "f7664bd4",
   "metadata": {},
   "source": [
    "# queno 3"
   ]
  },
  {
   "cell_type": "markdown",
   "id": "099f5f3e",
   "metadata": {},
   "source": [
    "# Finding probability density function by using python function"
   ]
  },
  {
   "cell_type": "code",
   "execution_count": 11,
   "id": "4d8d734f",
   "metadata": {},
   "outputs": [],
   "source": [
    "#first of all we have to import norm from scipy.stats and then numpy\n",
    "from scipy.stats import norm\n",
    "import numpy as np\n"
   ]
  },
  {
   "cell_type": "code",
   "execution_count": 3,
   "id": "ea4402de",
   "metadata": {},
   "outputs": [],
   "source": [
    "#now take imaginary data\n",
    "data_start=-4\n",
    "data_end=6\n",
    "data_points=11\n",
    "data=np.linspace(data_start,data_end,data_points)\n"
   ]
  },
  {
   "cell_type": "code",
   "execution_count": 4,
   "id": "2bc2f338",
   "metadata": {},
   "outputs": [
    {
     "data": {
      "text/plain": [
       "array([-4., -3., -2., -1.,  0.,  1.,  2.,  3.,  4.,  5.,  6.])"
      ]
     },
     "execution_count": 4,
     "metadata": {},
     "output_type": "execute_result"
    }
   ],
   "source": [
    "data"
   ]
  },
  {
   "cell_type": "code",
   "execution_count": null,
   "id": "20465372",
   "metadata": {},
   "outputs": [],
   "source": [
    "#so this is data and now we have to calculate mean and std"
   ]
  },
  {
   "cell_type": "code",
   "execution_count": 6,
   "id": "ebb09ccf",
   "metadata": {},
   "outputs": [
    {
     "data": {
      "text/plain": [
       "1.0"
      ]
     },
     "execution_count": 6,
     "metadata": {},
     "output_type": "execute_result"
    }
   ],
   "source": [
    "mean=np.mean(data)\n",
    "mean"
   ]
  },
  {
   "cell_type": "code",
   "execution_count": 7,
   "id": "ed8901db",
   "metadata": {},
   "outputs": [
    {
     "data": {
      "text/plain": [
       "3.1622776601683795"
      ]
     },
     "execution_count": 7,
     "metadata": {},
     "output_type": "execute_result"
    }
   ],
   "source": [
    "std=np.std(data)\n",
    "std"
   ]
  },
  {
   "cell_type": "code",
   "execution_count": 15,
   "id": "f208553d",
   "metadata": {},
   "outputs": [
    {
     "data": {
      "text/plain": [
       "array([0.03614448, 0.05668583, 0.08044102, 0.10328831, 0.12000389,\n",
       "       0.12615663, 0.12000389, 0.10328831, 0.08044102, 0.05668583,\n",
       "       0.03614448])"
      ]
     },
     "execution_count": 15,
     "metadata": {},
     "output_type": "execute_result"
    }
   ],
   "source": [
    "#now we can calculate probability density function by taking mean as location and standard deviation as scale\n",
    "pdf=norm.pdf(data,loc=mean,scale=std)\n",
    "pdf\n",
    "#so in this way we are able to find pdf from -4 to 6 .\n"
   ]
  },
  {
   "cell_type": "code",
   "execution_count": 16,
   "id": "b9d19055",
   "metadata": {},
   "outputs": [
    {
     "data": {
      "text/plain": [
       "0.05668582612248957"
      ]
     },
     "execution_count": 16,
     "metadata": {},
     "output_type": "execute_result"
    }
   ],
   "source": [
    "#if we want to find pdf of single point from -4 to 6 that is -3 then\n",
    "pdf=norm.pdf(-3,loc=mean,scale=std)\n",
    "pdf"
   ]
  },
  {
   "cell_type": "code",
   "execution_count": null,
   "id": "67823da0",
   "metadata": {},
   "outputs": [],
   "source": [
    "#so this is the way we can find pdf by using python function."
   ]
  },
  {
   "cell_type": "markdown",
   "id": "174cdff1",
   "metadata": {},
   "source": [
    "# queno 5"
   ]
  },
  {
   "cell_type": "code",
   "execution_count": 12,
   "id": "b55f4f5e",
   "metadata": {},
   "outputs": [],
   "source": [
    "# so first of all we have to take n as no of trial and p as success probability of each trial\n",
    "n=10\n",
    "p=0.4\n",
    "size=1000\n",
    "#so now\n",
    "sample_size=np.random.binomial(10,0.4,1000)"
   ]
  },
  {
   "cell_type": "code",
   "execution_count": 13,
   "id": "5a0d76d6",
   "metadata": {},
   "outputs": [
    {
     "data": {
      "text/plain": [
       "array([3, 5, 4, 5, 4, 5, 5, 5, 3, 3, 2, 4, 5, 3, 3, 4, 3, 7, 4, 4, 2, 2,\n",
       "       7, 6, 1, 3, 1, 4, 3, 2, 3, 3, 2, 1, 2, 6, 6, 5, 5, 7, 4, 7, 4, 4,\n",
       "       7, 4, 3, 3, 3, 4, 3, 5, 4, 2, 5, 4, 2, 4, 6, 3, 4, 4, 5, 2, 5, 5,\n",
       "       4, 3, 4, 3, 5, 3, 6, 2, 5, 6, 4, 2, 5, 7, 5, 2, 2, 4, 5, 5, 5, 3,\n",
       "       5, 3, 2, 6, 5, 4, 4, 1, 5, 5, 6, 5, 4, 5, 4, 0, 5, 2, 7, 4, 3, 7,\n",
       "       3, 5, 6, 5, 1, 1, 3, 0, 3, 2, 5, 5, 4, 3, 7, 4, 2, 3, 5, 4, 4, 5,\n",
       "       1, 2, 3, 5, 4, 3, 3, 7, 3, 5, 6, 4, 7, 4, 6, 3, 3, 8, 4, 4, 2, 3,\n",
       "       8, 3, 6, 3, 3, 4, 4, 6, 6, 3, 4, 5, 4, 5, 3, 5, 3, 6, 5, 4, 7, 0,\n",
       "       5, 1, 5, 7, 4, 4, 2, 4, 6, 2, 3, 3, 1, 4, 2, 5, 4, 0, 1, 2, 3, 6,\n",
       "       2, 3, 3, 0, 6, 1, 5, 2, 6, 6, 4, 4, 3, 2, 3, 2, 5, 4, 3, 3, 6, 3,\n",
       "       2, 2, 5, 4, 5, 5, 6, 3, 4, 4, 2, 3, 3, 6, 5, 5, 3, 4, 7, 6, 4, 2,\n",
       "       5, 5, 4, 4, 3, 3, 3, 3, 7, 6, 2, 4, 5, 5, 3, 4, 6, 5, 4, 4, 5, 2,\n",
       "       4, 5, 2, 3, 5, 3, 6, 3, 7, 6, 5, 6, 5, 2, 3, 1, 7, 5, 6, 7, 6, 8,\n",
       "       2, 6, 0, 5, 2, 5, 5, 3, 3, 6, 3, 7, 5, 4, 2, 5, 4, 4, 4, 5, 3, 4,\n",
       "       2, 5, 3, 5, 2, 3, 4, 3, 3, 2, 4, 6, 3, 5, 5, 5, 8, 3, 3, 5, 6, 1,\n",
       "       4, 4, 2, 5, 3, 7, 4, 5, 4, 4, 2, 5, 3, 4, 3, 4, 5, 6, 4, 4, 6, 1,\n",
       "       7, 3, 5, 2, 4, 3, 1, 4, 3, 3, 1, 2, 6, 4, 5, 5, 3, 5, 6, 4, 4, 3,\n",
       "       6, 6, 3, 1, 4, 3, 6, 2, 2, 1, 5, 2, 7, 4, 2, 3, 5, 4, 4, 6, 2, 3,\n",
       "       2, 2, 3, 4, 6, 4, 3, 4, 3, 5, 4, 3, 2, 5, 7, 3, 4, 3, 3, 6, 6, 6,\n",
       "       5, 5, 2, 4, 4, 6, 1, 5, 3, 7, 4, 7, 1, 4, 2, 6, 4, 4, 3, 3, 4, 1,\n",
       "       2, 3, 2, 3, 4, 4, 5, 2, 3, 2, 4, 3, 3, 5, 2, 6, 7, 2, 5, 2, 2, 5,\n",
       "       3, 5, 5, 5, 4, 3, 3, 3, 2, 4, 6, 2, 4, 5, 2, 5, 5, 5, 4, 3, 3, 3,\n",
       "       5, 5, 4, 5, 4, 4, 3, 4, 4, 5, 3, 5, 3, 2, 5, 5, 2, 5, 5, 3, 3, 4,\n",
       "       3, 4, 2, 2, 3, 3, 2, 1, 4, 3, 5, 3, 3, 4, 4, 2, 4, 4, 2, 6, 3, 3,\n",
       "       4, 7, 3, 3, 2, 4, 5, 5, 4, 4, 3, 1, 1, 4, 5, 4, 3, 7, 3, 5, 2, 4,\n",
       "       4, 3, 4, 1, 4, 2, 3, 4, 4, 2, 5, 4, 3, 4, 4, 4, 6, 4, 1, 4, 6, 4,\n",
       "       2, 6, 2, 4, 4, 4, 5, 4, 2, 5, 4, 6, 3, 6, 3, 4, 4, 8, 4, 4, 5, 4,\n",
       "       5, 0, 6, 3, 3, 5, 4, 0, 3, 5, 4, 1, 3, 5, 2, 0, 2, 4, 4, 6, 4, 3,\n",
       "       4, 4, 1, 5, 3, 3, 4, 4, 4, 6, 6, 4, 5, 3, 7, 4, 2, 3, 6, 7, 1, 1,\n",
       "       3, 3, 2, 3, 3, 4, 2, 6, 4, 2, 3, 6, 4, 5, 2, 3, 5, 4, 3, 3, 5, 3,\n",
       "       6, 1, 7, 3, 6, 4, 6, 4, 7, 3, 3, 4, 2, 7, 2, 4, 3, 4, 3, 2, 2, 6,\n",
       "       6, 3, 2, 3, 4, 6, 8, 5, 6, 5, 5, 3, 3, 5, 3, 3, 4, 4, 4, 4, 5, 3,\n",
       "       4, 5, 6, 6, 4, 4, 3, 5, 4, 5, 2, 3, 4, 5, 3, 1, 3, 7, 4, 4, 5, 5,\n",
       "       4, 5, 5, 4, 5, 4, 4, 4, 7, 3, 4, 3, 6, 2, 2, 5, 2, 6, 3, 4, 3, 5,\n",
       "       3, 5, 4, 3, 5, 3, 2, 4, 6, 4, 5, 6, 3, 4, 0, 1, 4, 5, 6, 5, 3, 1,\n",
       "       1, 2, 7, 3, 3, 3, 1, 5, 3, 4, 5, 3, 5, 6, 5, 4, 5, 5, 4, 3, 4, 6,\n",
       "       4, 6, 6, 6, 4, 6, 4, 6, 2, 5, 7, 6, 5, 5, 4, 3, 2, 5, 4, 2, 5, 4,\n",
       "       0, 4, 2, 4, 3, 3, 2, 6, 4, 4, 7, 6, 5, 2, 3, 4, 4, 5, 5, 5, 6, 5,\n",
       "       1, 6, 5, 1, 6, 2, 2, 5, 4, 2, 2, 6, 4, 3, 3, 2, 5, 3, 3, 2, 4, 2,\n",
       "       3, 6, 5, 2, 5, 5, 3, 4, 3, 1, 7, 2, 3, 3, 2, 2, 1, 4, 4, 4, 6, 6,\n",
       "       6, 6, 4, 6, 5, 7, 8, 3, 6, 3, 5, 5, 2, 4, 5, 5, 7, 3, 6, 3, 5, 2,\n",
       "       1, 4, 8, 2, 4, 3, 3, 3, 4, 4, 2, 4, 3, 4, 4, 4, 5, 7, 6, 5, 4, 8,\n",
       "       5, 5, 3, 2, 3, 7, 5, 5, 5, 5, 2, 4, 4, 5, 5, 5, 3, 4, 7, 5, 6, 2,\n",
       "       3, 4, 5, 3, 4, 4, 5, 4, 5, 3, 1, 5, 4, 3, 5, 5, 3, 3, 7, 4, 8, 2,\n",
       "       6, 2, 0, 5, 5, 3, 5, 5, 6, 5, 3, 6, 3, 3, 5, 3, 4, 4, 3, 5, 3, 4,\n",
       "       3, 3, 4, 2, 1, 4, 4, 3, 4, 6])"
      ]
     },
     "execution_count": 13,
     "metadata": {},
     "output_type": "execute_result"
    }
   ],
   "source": [
    "sample_size"
   ]
  },
  {
   "cell_type": "code",
   "execution_count": 19,
   "id": "659d9634",
   "metadata": {},
   "outputs": [
    {
     "data": {
      "text/plain": [
       "(array([  5.,  29., 135., 210.,   0., 270., 183., 109.,  48.,  11.]),\n",
       " array([0. , 0.8, 1.6, 2.4, 3.2, 4. , 4.8, 5.6, 6.4, 7.2, 8. ]),\n",
       " <BarContainer object of 10 artists>)"
      ]
     },
     "execution_count": 19,
     "metadata": {},
     "output_type": "execute_result"
    },
    {
     "data": {
      "image/png": "[encoded data removed]",
      "text/plain": [
       "<Figure size 640x480 with 1 Axes>"
      ]
     },
     "metadata": {},
     "output_type": "display_data"
    }
   ],
   "source": [
    "#now to plot histogram we have to import pyplot from matplotlib\n",
    "from matplotlib import pyplot as plt\n",
    "plt.hist(sample_size)\n"
   ]
  },
  {
   "cell_type": "code",
   "execution_count": 23,
   "id": "c7307d0d",
   "metadata": {},
   "outputs": [
    {
     "data": {
      "text/plain": [
       "(array([  5.,  29., 135., 210., 270., 183., 109.,  48.,  11.]),\n",
       " array([0., 1., 2., 3., 4., 5., 6., 7., 8., 9.]),\n",
       " <BarContainer object of 9 artists>)"
      ]
     },
     "execution_count": 23,
     "metadata": {},
     "output_type": "execute_result"
    },
    {
     "data": {
      "image/png": "[encoded data removed]",
      "text/plain": [
       "<Figure size 640x480 with 1 Axes>"
      ]
     },
     "metadata": {},
     "output_type": "display_data"
    }
   ],
   "source": [
    "#we can also set interval \n",
    "int=[0,1,2,3,4,5,6,7,8,9]\n",
    "plt.hist(sample_size,int)"
   ]
  },
  {
   "cell_type": "code",
   "execution_count": null,
   "id": "3d784a94",
   "metadata": {},
   "outputs": [],
   "source": [
    "#so in this way we can plot histogram of different trial using them as interval of 1000 sample size normal random data."
   ]
  },
  {
   "cell_type": "markdown",
   "id": "17a9752c",
   "metadata": {},
   "source": [
    "# Que no 6"
   ]
  },
  {
   "cell_type": "markdown",
   "id": "b8eebe9c",
   "metadata": {},
   "source": [
    "# Calculating CDF from poisson distribution"
   ]
  },
  {
   "cell_type": "code",
   "execution_count": 1,
   "id": "dbad9700",
   "metadata": {},
   "outputs": [],
   "source": [
    "#first of all we have to import poisson from scipy.stats\n",
    "from scipy.stats import poisson"
   ]
  },
  {
   "cell_type": "code",
   "execution_count": 4,
   "id": "3a153bd0",
   "metadata": {},
   "outputs": [
    {
     "data": {
      "text/plain": [
       "array([1, 3, 5, 2, 7, 6, 6, 7, 7, 4], dtype=int64)"
      ]
     },
     "execution_count": 4,
     "metadata": {},
     "output_type": "execute_result"
    }
   ],
   "source": [
    "#now we have to generate random data of size 10 and mean 5\n",
    "data=poisson.rvs(mu=5,size=10)\n",
    "data"
   ]
  },
  {
   "cell_type": "code",
   "execution_count": 6,
   "id": "69536397",
   "metadata": {},
   "outputs": [
    {
     "data": {
      "text/plain": [
       "0.8666283259299925"
      ]
     },
     "execution_count": 6,
     "metadata": {},
     "output_type": "execute_result"
    }
   ],
   "source": [
    "# now we can calculate the cumulative distribution frequency of given data and lets take a point 7\n",
    "cdf=poisson.cdf(k=7,mu=5)\n",
    "cdf"
   ]
  },
  {
   "cell_type": "code",
   "execution_count": null,
   "id": "6977d119",
   "metadata": {},
   "outputs": [],
   "source": [
    "#so the cumulative distribution frequency of given point 7 is 0.866."
   ]
  },
  {
   "cell_type": "markdown",
   "id": "c95585b6",
   "metadata": {},
   "source": [
    "# Queno 7"
   ]
  },
  {
   "cell_type": "markdown",
   "id": "1d5c39ec",
   "metadata": {},
   "source": [
    "# Binomial distribution vs Poisson Distribution"
   ]
  },
  {
   "cell_type": "code",
   "execution_count": null,
   "id": "bc66beca",
   "metadata": {},
   "outputs": [],
   "source": [
    "#In binomial distribution no of outcomes are only two that is success or failure while in poisson distribution there are \n",
    "#unlimited possible outcome"
   ]
  },
  {
   "cell_type": "code",
   "execution_count": null,
   "id": "45ba93d2",
   "metadata": {},
   "outputs": [],
   "source": [
    "#Binomial distribution has two parameters n and p, where n means number of trials and p means success probability. "
   ]
  },
  {
   "cell_type": "code",
   "execution_count": null,
   "id": "80f38516",
   "metadata": {},
   "outputs": [],
   "source": [
    "#while poisson distribution has only one parameter that is m that is mean."
   ]
  },
  {
   "cell_type": "code",
   "execution_count": null,
   "id": "1705b950",
   "metadata": {},
   "outputs": [],
   "source": [
    "#Example of binomial distribution is coin toss has only two outcome that is head or tail."
   ]
  },
  {
   "cell_type": "code",
   "execution_count": null,
   "id": "b3160d2d",
   "metadata": {},
   "outputs": [],
   "source": [
    "#Example of poisson distribution is no of admission done in a school per day which is admission done in school can be unlimited possible outcome."
   ]
  },
  {
   "cell_type": "markdown",
   "id": "1f459865",
   "metadata": {},
   "source": [
    "# queno 8"
   ]
  },
  {
   "cell_type": "code",
   "execution_count": 3,
   "id": "ca7bacb5",
   "metadata": {},
   "outputs": [
    {
     "data": {
      "text/plain": [
       "array([ 2,  9,  7,  8,  9,  4,  3,  3,  9,  7,  0,  5,  6, 10,  2,  3,  4,\n",
       "        2,  3,  7,  5,  5,  3,  4,  8, 12,  6,  4,  4,  8,  2,  6,  5,  6,\n",
       "        2,  4,  2,  6,  4,  2,  6,  5,  2,  8,  6,  4,  5,  6,  3,  1,  7,\n",
       "        6,  6,  4,  4,  1,  8, 10,  5,  3,  4,  2,  9, 11,  5,  4,  3,  3,\n",
       "        8,  7,  8,  3,  4,  1,  9,  9,  4,  4,  3,  3,  6,  5,  8,  4,  7,\n",
       "        6,  5,  4,  4,  3,  6,  2,  5,  9, 10,  3,  7,  4,  9,  5,  6,  7,\n",
       "        6,  0,  4,  3, 11,  6,  2,  6,  4,  5,  1,  6,  5,  1,  5,  7,  2,\n",
       "        3,  3,  5,  3,  6,  5,  5,  6,  7, 10,  7,  6,  4, 13,  4,  4,  6,\n",
       "        1,  5,  5,  5,  6,  5,  6,  2,  4,  8,  6, 10,  6,  3,  2,  3,  2,\n",
       "        6,  3,  3,  6, 13,  7,  3,  8,  7,  7,  5,  2,  8,  4,  5,  6,  3,\n",
       "        2,  7,  5,  2,  3,  6,  4, 10,  2,  3,  6,  8,  4,  3,  6,  3,  3,\n",
       "        7,  4,  2,  1, 10,  5,  6,  2,  5,  6,  4,  1,  5,  5,  8,  7,  5,\n",
       "        6,  3,  5,  0,  6,  4,  8,  3,  9,  8,  5,  3,  7,  3,  6,  2,  4,\n",
       "        4,  6,  2,  4,  3,  8,  4,  4,  2,  6,  5,  5,  3,  6,  9,  3,  4,\n",
       "        4,  5,  6,  1,  5,  7,  7,  4,  5,  5,  4,  3,  5,  8,  3,  2,  6,\n",
       "        3,  6,  6,  7,  2, 10,  3,  2,  8,  2,  7,  1,  3,  6,  5,  0,  6,\n",
       "        5,  4,  7,  6,  5,  2,  8,  4,  0,  1,  4,  8,  3,  6,  6,  3,  6,\n",
       "        7,  9,  3,  2,  3,  7,  4,  3,  2,  6,  4,  5,  4,  6,  6,  3,  7,\n",
       "        3, 10,  3,  4,  4,  5,  4,  2,  7,  7, 10,  5,  2,  2,  4, 12,  3,\n",
       "        3,  3, 11,  7,  6,  3,  5,  3,  4,  8,  8,  9,  3,  2,  4,  2,  9,\n",
       "        9,  4,  4,  6,  5,  7,  3,  5,  6,  3,  5,  8,  6,  2,  1,  2,  4,\n",
       "        6,  5,  5,  3,  5,  6,  4,  5,  1,  7,  2,  3,  5,  1,  3,  2,  5,\n",
       "        6,  5,  3,  2,  5,  5,  5,  5,  5,  4,  4,  6,  3,  5, 10,  5,  5,\n",
       "        8,  5,  4,  2,  5,  4,  8,  6,  3,  5,  6,  4,  9,  6,  7,  8,  6,\n",
       "        6,  6,  7,  3,  3,  5,  7,  7,  5,  8,  7,  6,  6,  2,  8,  8,  4,\n",
       "        3,  5,  5,  5,  7,  1,  6,  2,  9,  2,  5,  4,  3,  7,  8,  1,  1,\n",
       "        4,  3,  2,  2,  6, 12,  4,  4,  6,  5,  5,  4,  5,  3,  5,  8,  3,\n",
       "        4,  6,  4,  9,  7,  4,  8,  7,  6,  1,  5,  5,  6,  3,  9,  6,  4,\n",
       "        4,  3,  9, 12,  5,  6,  9,  4,  5,  7,  6,  4,  5,  5,  3,  3,  6,\n",
       "        7,  4,  4,  7,  4,  5,  6,  5,  6,  7,  3,  9,  5,  8,  6,  3,  8,\n",
       "        9,  3,  5,  7,  3,  5,  5,  2,  5,  6,  6,  3,  5,  3,  4,  5,  6,\n",
       "        9,  9,  6,  2,  8,  6,  5,  7,  6,  4,  6,  9,  6,  0,  6,  3,  3,\n",
       "        6,  2,  5,  4,  9,  4,  8,  5,  3,  5, 10,  5,  4,  2,  8,  3,  1,\n",
       "        3,  5,  7,  2,  5,  8,  3,  3,  4,  9,  4,  4,  7,  3,  3,  3,  2,\n",
       "       10,  6,  4,  8,  3,  4,  4,  1,  4,  7,  5,  8,  8,  7,  4,  5,  8,\n",
       "        6,  4,  6,  3,  2,  4,  3,  5,  7,  2,  2,  5,  8,  9,  4,  2,  2,\n",
       "        5,  5,  7,  5, 13,  2,  7,  7,  3,  7,  6,  9,  4,  8,  4,  8,  3,\n",
       "        6,  5,  3,  5,  9,  4,  5,  7,  3,  3,  4,  4,  4,  1,  6,  4,  7,\n",
       "        7,  9,  3, 12,  6,  6,  6,  5,  6,  9,  3,  8,  4,  4,  8,  2,  4,\n",
       "        8,  7,  1,  2,  2,  7,  4,  2,  7,  3, 13,  2,  5, 10,  4,  6,  8,\n",
       "        6,  2,  5,  9,  1,  5,  7,  9,  3,  5,  7, 10,  6,  7,  4, 10,  6,\n",
       "       10,  3,  1,  4,  4,  4,  7, 10,  4,  5,  4,  4,  3,  7,  6,  2,  5,\n",
       "        5,  3,  7,  6,  2,  3,  4,  5,  4,  4,  3,  4,  7,  4,  4,  8,  4,\n",
       "        5,  5,  7,  6,  1,  5,  9,  4,  3,  8,  2,  3,  6,  6,  5,  0,  3,\n",
       "        3,  2,  5,  6,  6,  5,  4,  8,  5,  6,  7,  6,  8,  2,  5,  4,  7,\n",
       "        4,  1,  6,  5,  4,  3,  3,  4,  7,  7,  6,  5,  5,  5,  6,  6,  6,\n",
       "        4, 11,  5,  5,  6,  7,  3, 12,  4,  5,  8,  8,  8,  4,  3,  4,  2,\n",
       "        6,  6,  4,  5,  9,  6,  6,  6,  6,  2,  6,  2,  3,  6,  9,  5,  5,\n",
       "        3,  7,  3,  7,  3,  6,  3,  6,  8,  9,  7,  4,  6,  4,  8,  5,  5,\n",
       "        1,  5,  4,  5,  3,  4,  2,  5,  6,  6,  2,  6,  5,  8,  6,  5,  5,\n",
       "        7,  7,  7,  4,  5,  2,  4,  5,  6,  4,  9,  5,  9,  5,  2,  7,  3,\n",
       "        4,  5,  3,  6,  4,  6,  2,  9,  9,  8,  4,  4,  7,  3,  6,  4,  1,\n",
       "        4,  3,  5,  4,  7,  2,  2,  5,  8,  7,  6,  7,  9,  4,  3,  6,  1,\n",
       "        6,  4,  4,  1,  8,  5,  7, 12,  4,  3,  5,  7,  5,  5,  3,  6,  4,\n",
       "        4,  4, 10,  1,  5,  4,  8,  7,  6,  5,  5,  5,  5,  8,  6,  5,  6,\n",
       "        6,  4,  6,  6,  2,  4,  8,  5,  7,  5,  3,  8,  3,  5,  3,  2,  7,\n",
       "       11,  4,  6,  2,  2,  4,  3,  3,  8,  3,  2,  4,  3,  3,  5,  2,  3,\n",
       "        4,  2,  3,  5,  1,  4,  6,  6,  4,  5,  5,  1,  6,  5,  6,  6,  4,\n",
       "        3,  6,  2,  6,  3,  5,  3,  6,  4,  4,  2,  4,  6,  4],\n",
       "      dtype=int64)"
      ]
     },
     "execution_count": 3,
     "metadata": {},
     "output_type": "execute_result"
    }
   ],
   "source": [
    "#first of all we have to import poisson from scipy.stats\n",
    "#then set parameter in data1 according to given question\n",
    "#then we are able to get poison distribution\n",
    "data1=poisson.rvs(mu=5,size=1000)\n",
    "data1"
   ]
  },
  {
   "cell_type": "code",
   "execution_count": 4,
   "id": "92b782ce",
   "metadata": {},
   "outputs": [],
   "source": [
    "#now to find sample mean and variance we have to import statistics\n",
    "import statistics"
   ]
  },
  {
   "cell_type": "code",
   "execution_count": 6,
   "id": "1dd480ab",
   "metadata": {},
   "outputs": [
    {
     "data": {
      "text/plain": [
       "5"
      ]
     },
     "execution_count": 6,
     "metadata": {},
     "output_type": "execute_result"
    }
   ],
   "source": [
    "mean=statistics.mean(data1)\n",
    "mean\n",
    "#so the sample mean is 5."
   ]
  },
  {
   "cell_type": "code",
   "execution_count": 9,
   "id": "1962e36e",
   "metadata": {},
   "outputs": [
    {
     "data": {
      "text/plain": [
       "5"
      ]
     },
     "execution_count": 9,
     "metadata": {},
     "output_type": "execute_result"
    }
   ],
   "source": [
    "variance=statistics.variance(data1)\n",
    "variance"
   ]
  },
  {
   "cell_type": "code",
   "execution_count": null,
   "id": "9d690fe3",
   "metadata": {},
   "outputs": [],
   "source": [
    "#so here mean and variance are equal that is 5 which is a condition for poisson distribution."
   ]
  },
  {
   "cell_type": "markdown",
   "id": "64427e34",
   "metadata": {},
   "source": [
    "# queno 9"
   ]
  },
  {
   "cell_type": "code",
   "execution_count": null,
   "id": "52dc68d8",
   "metadata": {},
   "outputs": [],
   "source": [
    "#In binomial distribution the mean is greater than variance while in poisson distribution the mean and variance are equal."
   ]
  },
  {
   "cell_type": "code",
   "execution_count": 14,
   "id": "7386abfb",
   "metadata": {},
   "outputs": [
    {
     "data": {
      "text/plain": [
       "array([3, 5, 4, 5, 4, 5, 5, 5, 3, 3, 2, 4, 5, 3, 3, 4, 3, 7, 4, 4, 2, 2,\n",
       "       7, 6, 1, 3, 1, 4, 3, 2, 3, 3, 2, 1, 2, 6, 6, 5, 5, 7, 4, 7, 4, 4,\n",
       "       7, 4, 3, 3, 3, 4, 3, 5, 4, 2, 5, 4, 2, 4, 6, 3, 4, 4, 5, 2, 5, 5,\n",
       "       4, 3, 4, 3, 5, 3, 6, 2, 5, 6, 4, 2, 5, 7, 5, 2, 2, 4, 5, 5, 5, 3,\n",
       "       5, 3, 2, 6, 5, 4, 4, 1, 5, 5, 6, 5, 4, 5, 4, 0, 5, 2, 7, 4, 3, 7,\n",
       "       3, 5, 6, 5, 1, 1, 3, 0, 3, 2, 5, 5, 4, 3, 7, 4, 2, 3, 5, 4, 4, 5,\n",
       "       1, 2, 3, 5, 4, 3, 3, 7, 3, 5, 6, 4, 7, 4, 6, 3, 3, 8, 4, 4, 2, 3,\n",
       "       8, 3, 6, 3, 3, 4, 4, 6, 6, 3, 4, 5, 4, 5, 3, 5, 3, 6, 5, 4, 7, 0,\n",
       "       5, 1, 5, 7, 4, 4, 2, 4, 6, 2, 3, 3, 1, 4, 2, 5, 4, 0, 1, 2, 3, 6,\n",
       "       2, 3, 3, 0, 6, 1, 5, 2, 6, 6, 4, 4, 3, 2, 3, 2, 5, 4, 3, 3, 6, 3,\n",
       "       2, 2, 5, 4, 5, 5, 6, 3, 4, 4, 2, 3, 3, 6, 5, 5, 3, 4, 7, 6, 4, 2,\n",
       "       5, 5, 4, 4, 3, 3, 3, 3, 7, 6, 2, 4, 5, 5, 3, 4, 6, 5, 4, 4, 5, 2,\n",
       "       4, 5, 2, 3, 5, 3, 6, 3, 7, 6, 5, 6, 5, 2, 3, 1, 7, 5, 6, 7, 6, 8,\n",
       "       2, 6, 0, 5, 2, 5, 5, 3, 3, 6, 3, 7, 5, 4, 2, 5, 4, 4, 4, 5, 3, 4,\n",
       "       2, 5, 3, 5, 2, 3, 4, 3, 3, 2, 4, 6, 3, 5, 5, 5, 8, 3, 3, 5, 6, 1,\n",
       "       4, 4, 2, 5, 3, 7, 4, 5, 4, 4, 2, 5, 3, 4, 3, 4, 5, 6, 4, 4, 6, 1,\n",
       "       7, 3, 5, 2, 4, 3, 1, 4, 3, 3, 1, 2, 6, 4, 5, 5, 3, 5, 6, 4, 4, 3,\n",
       "       6, 6, 3, 1, 4, 3, 6, 2, 2, 1, 5, 2, 7, 4, 2, 3, 5, 4, 4, 6, 2, 3,\n",
       "       2, 2, 3, 4, 6, 4, 3, 4, 3, 5, 4, 3, 2, 5, 7, 3, 4, 3, 3, 6, 6, 6,\n",
       "       5, 5, 2, 4, 4, 6, 1, 5, 3, 7, 4, 7, 1, 4, 2, 6, 4, 4, 3, 3, 4, 1,\n",
       "       2, 3, 2, 3, 4, 4, 5, 2, 3, 2, 4, 3, 3, 5, 2, 6, 7, 2, 5, 2, 2, 5,\n",
       "       3, 5, 5, 5, 4, 3, 3, 3, 2, 4, 6, 2, 4, 5, 2, 5, 5, 5, 4, 3, 3, 3,\n",
       "       5, 5, 4, 5, 4, 4, 3, 4, 4, 5, 3, 5, 3, 2, 5, 5, 2, 5, 5, 3, 3, 4,\n",
       "       3, 4, 2, 2, 3, 3, 2, 1, 4, 3, 5, 3, 3, 4, 4, 2, 4, 4, 2, 6, 3, 3,\n",
       "       4, 7, 3, 3, 2, 4, 5, 5, 4, 4, 3, 1, 1, 4, 5, 4, 3, 7, 3, 5, 2, 4,\n",
       "       4, 3, 4, 1, 4, 2, 3, 4, 4, 2, 5, 4, 3, 4, 4, 4, 6, 4, 1, 4, 6, 4,\n",
       "       2, 6, 2, 4, 4, 4, 5, 4, 2, 5, 4, 6, 3, 6, 3, 4, 4, 8, 4, 4, 5, 4,\n",
       "       5, 0, 6, 3, 3, 5, 4, 0, 3, 5, 4, 1, 3, 5, 2, 0, 2, 4, 4, 6, 4, 3,\n",
       "       4, 4, 1, 5, 3, 3, 4, 4, 4, 6, 6, 4, 5, 3, 7, 4, 2, 3, 6, 7, 1, 1,\n",
       "       3, 3, 2, 3, 3, 4, 2, 6, 4, 2, 3, 6, 4, 5, 2, 3, 5, 4, 3, 3, 5, 3,\n",
       "       6, 1, 7, 3, 6, 4, 6, 4, 7, 3, 3, 4, 2, 7, 2, 4, 3, 4, 3, 2, 2, 6,\n",
       "       6, 3, 2, 3, 4, 6, 8, 5, 6, 5, 5, 3, 3, 5, 3, 3, 4, 4, 4, 4, 5, 3,\n",
       "       4, 5, 6, 6, 4, 4, 3, 5, 4, 5, 2, 3, 4, 5, 3, 1, 3, 7, 4, 4, 5, 5,\n",
       "       4, 5, 5, 4, 5, 4, 4, 4, 7, 3, 4, 3, 6, 2, 2, 5, 2, 6, 3, 4, 3, 5,\n",
       "       3, 5, 4, 3, 5, 3, 2, 4, 6, 4, 5, 6, 3, 4, 0, 1, 4, 5, 6, 5, 3, 1,\n",
       "       1, 2, 7, 3, 3, 3, 1, 5, 3, 4, 5, 3, 5, 6, 5, 4, 5, 5, 4, 3, 4, 6,\n",
       "       4, 6, 6, 6, 4, 6, 4, 6, 2, 5, 7, 6, 5, 5, 4, 3, 2, 5, 4, 2, 5, 4,\n",
       "       0, 4, 2, 4, 3, 3, 2, 6, 4, 4, 7, 6, 5, 2, 3, 4, 4, 5, 5, 5, 6, 5,\n",
       "       1, 6, 5, 1, 6, 2, 2, 5, 4, 2, 2, 6, 4, 3, 3, 2, 5, 3, 3, 2, 4, 2,\n",
       "       3, 6, 5, 2, 5, 5, 3, 4, 3, 1, 7, 2, 3, 3, 2, 2, 1, 4, 4, 4, 6, 6,\n",
       "       6, 6, 4, 6, 5, 7, 8, 3, 6, 3, 5, 5, 2, 4, 5, 5, 7, 3, 6, 3, 5, 2,\n",
       "       1, 4, 8, 2, 4, 3, 3, 3, 4, 4, 2, 4, 3, 4, 4, 4, 5, 7, 6, 5, 4, 8,\n",
       "       5, 5, 3, 2, 3, 7, 5, 5, 5, 5, 2, 4, 4, 5, 5, 5, 3, 4, 7, 5, 6, 2,\n",
       "       3, 4, 5, 3, 4, 4, 5, 4, 5, 3, 1, 5, 4, 3, 5, 5, 3, 3, 7, 4, 8, 2,\n",
       "       6, 2, 0, 5, 5, 3, 5, 5, 6, 5, 3, 6, 3, 3, 5, 3, 4, 4, 3, 5, 3, 4,\n",
       "       3, 3, 4, 2, 1, 4, 4, 3, 4, 6])"
      ]
     },
     "execution_count": 14,
     "metadata": {},
     "output_type": "execute_result"
    }
   ],
   "source": [
    "#so lets take an example of data named sample_size which is binomial distribution\n",
    "sample_size"
   ]
  },
  {
   "cell_type": "code",
   "execution_count": 15,
   "id": "d4a28ff6",
   "metadata": {},
   "outputs": [
    {
     "data": {
      "text/plain": [
       "3"
      ]
     },
     "execution_count": 15,
     "metadata": {},
     "output_type": "execute_result"
    }
   ],
   "source": [
    "#now calculate its mean and variance\n",
    "mean=statistics.mean(sample_size)\n",
    "mean"
   ]
  },
  {
   "cell_type": "code",
   "execution_count": 17,
   "id": "df7dc16b",
   "metadata": {},
   "outputs": [
    {
     "data": {
      "text/plain": [
       "2"
      ]
     },
     "execution_count": 17,
     "metadata": {},
     "output_type": "execute_result"
    }
   ],
   "source": [
    "variance=statistics.variance(sample_size)\n",
    "variance"
   ]
  },
  {
   "cell_type": "code",
   "execution_count": null,
   "id": "81d96cb3",
   "metadata": {},
   "outputs": [],
   "source": [
    "#so here we saw that in binomial distribution mean is greater than variance."
   ]
  },
  {
   "cell_type": "code",
   "execution_count": null,
   "id": "415f1274",
   "metadata": {},
   "outputs": [],
   "source": [
    "#while in poisson distribution mean and variance are equal as we have discussed in queno 8. "
   ]
  },
  {
   "cell_type": "markdown",
   "id": "b86a046c",
   "metadata": {},
   "source": [
    "# queno 10"
   ]
  },
  {
   "cell_type": "code",
   "execution_count": null,
   "id": "12cb14be",
   "metadata": {},
   "outputs": [],
   "source": [
    "#In normal distribution the mode which is most occuring frequent data appears near the mean."
   ]
  },
  {
   "cell_type": "code",
   "execution_count": null,
   "id": "6acde29d",
   "metadata": {},
   "outputs": [],
   "source": [
    "#While the least frequent data appears farther away from the mean in sample set."
   ]
  },
  {
   "cell_type": "code",
   "execution_count": null,
   "id": "8ae14efa",
   "metadata": {},
   "outputs": [],
   "source": []
  },
  {
   "cell_type": "code",
   "execution_count": null,
   "id": "7be38422",
   "metadata": {},
   "outputs": [],
   "source": []
  }
 ],
 "metadata": {
  "kernelspec": {
   "display_name": "Python 3 (ipykernel)",
   "language": "python",
   "name": "python3"
  },
  "language_info": {
   "codemirror_mode": {
    "name": "ipython",
    "version": 3
   },
   "file_extension": ".py",
   "mimetype": "text/x-python",
   "name": "python",
   "nbconvert_exporter": "python",
   "pygments_lexer": "ipython3",
   "version": "3.11.5"
  }
 },
 "nbformat": 4,
 "nbformat_minor": 5
}
