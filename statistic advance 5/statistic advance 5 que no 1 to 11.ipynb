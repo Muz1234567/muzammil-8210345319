{
 "cells": [
  {
   "cell_type": "markdown",
   "id": "7b18a52b",
   "metadata": {},
   "source": [
    "# Queno 1"
   ]
  },
  {
   "cell_type": "code",
   "execution_count": 1,
   "id": "638d6f52",
   "metadata": {},
   "outputs": [
    {
     "data": {
      "text/plain": [
       "array([42.46615619, 53.93481815, 48.04017546, 52.77439368, 46.10412422,\n",
       "       46.80494592, 49.35095562, 51.88820487, 54.23888484, 55.36629917,\n",
       "       45.31106999, 54.66080784, 45.81251245, 54.11081658, 42.20393476,\n",
       "       43.16920472, 41.75539701, 52.40004014, 48.36011209, 49.85754691,\n",
       "       51.39100903, 46.14398489, 48.3064939 , 53.74556752, 48.95944262,\n",
       "       44.19298135, 41.79202049, 52.42144522, 46.20706977])"
      ]
     },
     "execution_count": 1,
     "metadata": {},
     "output_type": "execute_result"
    }
   ],
   "source": [
    "#In this case we can use one sample t test \n",
    "#First of all we have to generate sample of size less than 30 as we are conducting t test.\n",
    "import numpy as np\n",
    "sample1=np.random.normal(loc=50,scale=5,size=29)\n",
    "sample1"
   ]
  },
  {
   "cell_type": "code",
   "execution_count": 2,
   "id": "0f3995c7",
   "metadata": {},
   "outputs": [],
   "source": [
    "#now we can conduct one sample t test in sample1."
   ]
  },
  {
   "cell_type": "code",
   "execution_count": 3,
   "id": "6401297b",
   "metadata": {},
   "outputs": [],
   "source": [
    "#for this we have to import scipy.stats as stats\n",
    "import scipy.stats as stats\n",
    "t_statistic,p_value=stats.ttest_1samp(a=sample1,popmean=50)"
   ]
  },
  {
   "cell_type": "code",
   "execution_count": 4,
   "id": "21686175",
   "metadata": {},
   "outputs": [
    {
     "data": {
      "text/plain": [
       "-1.6353008074785063"
      ]
     },
     "execution_count": 4,
     "metadata": {},
     "output_type": "execute_result"
    }
   ],
   "source": [
    "t_statistic"
   ]
  },
  {
   "cell_type": "code",
   "execution_count": 5,
   "id": "2831ee6c",
   "metadata": {},
   "outputs": [
    {
     "data": {
      "text/plain": [
       "0.11317999605625802"
      ]
     },
     "execution_count": 5,
     "metadata": {},
     "output_type": "execute_result"
    }
   ],
   "source": [
    "p_value"
   ]
  },
  {
   "cell_type": "code",
   "execution_count": 6,
   "id": "8c26cdd9",
   "metadata": {},
   "outputs": [],
   "source": [
    "#so at 95% confidence level alpha value is 5% that is 0.05 which is less than p value 0.11."
   ]
  },
  {
   "cell_type": "code",
   "execution_count": 7,
   "id": "fc4cd79b",
   "metadata": {},
   "outputs": [],
   "source": [
    "#So in this way we have to accept null hypotheses and coclude that mean of given sample is equal to the specified \n",
    "#sample after test."
   ]
  },
  {
   "cell_type": "markdown",
   "id": "48005727",
   "metadata": {},
   "source": [
    "# Queno 2"
   ]
  },
  {
   "cell_type": "code",
   "execution_count": 8,
   "id": "168ec30b",
   "metadata": {},
   "outputs": [],
   "source": [
    "#For this we have to create observed distribution of colour in bag that is 30% blue,20%orange,10%green,20%yellow,\n",
    "#10%red and 10% brown."
   ]
  },
  {
   "cell_type": "code",
   "execution_count": 9,
   "id": "3f306fb8",
   "metadata": {},
   "outputs": [],
   "source": [
    "observed_data=[30,20,10,20,10,10]\n",
    "expected_data=[20,20,20,10,10,20]\n",
    "chi_square_test_statistic,p_value=stats.chisquare(observed_data,expected_data)"
   ]
  },
  {
   "cell_type": "code",
   "execution_count": 10,
   "id": "21a12a7f",
   "metadata": {},
   "outputs": [
    {
     "data": {
      "text/plain": [
       "25.0"
      ]
     },
     "execution_count": 10,
     "metadata": {},
     "output_type": "execute_result"
    }
   ],
   "source": [
    "chi_square_test_statistic"
   ]
  },
  {
   "cell_type": "code",
   "execution_count": 11,
   "id": "350510da",
   "metadata": {},
   "outputs": [
    {
     "data": {
      "text/plain": [
       "0.0001393337911856263"
      ]
     },
     "execution_count": 11,
     "metadata": {},
     "output_type": "execute_result"
    }
   ],
   "source": [
    "p_value"
   ]
  },
  {
   "cell_type": "code",
   "execution_count": 12,
   "id": "eefef076",
   "metadata": {},
   "outputs": [],
   "source": [
    "#Now we have to find chisquare critical value\n",
    "chisquare_criticalvalue=stats.chi2.ppf(1-0.05,df=5) \n",
    "#here alpha is 0.05 and degree of freedom is 5 which is 1 less than category of colour.\n"
   ]
  },
  {
   "cell_type": "code",
   "execution_count": 13,
   "id": "cd4e02d9",
   "metadata": {},
   "outputs": [
    {
     "data": {
      "text/plain": [
       "11.070497693516351"
      ]
     },
     "execution_count": 13,
     "metadata": {},
     "output_type": "execute_result"
    }
   ],
   "source": [
    "chisquare_criticalvalue"
   ]
  },
  {
   "cell_type": "code",
   "execution_count": 14,
   "id": "fa380659",
   "metadata": {},
   "outputs": [],
   "source": [
    "#Now we have to compare chi squarevalue with chisquare critical value"
   ]
  },
  {
   "cell_type": "code",
   "execution_count": 15,
   "id": "73dfbc49",
   "metadata": {},
   "outputs": [],
   "source": [
    "#So here we saw that 25 which is chiquare value is greater than chisqaure critical value that is 11.07"
   ]
  },
  {
   "cell_type": "code",
   "execution_count": 16,
   "id": "fe6af7b4",
   "metadata": {},
   "outputs": [],
   "source": [
    "#So from this we can conclude that it is a case of alternate hypothesis and difference between expected\n",
    "#distribution of colours and observed distribution of coloursis statistically significant.\n",
    "#As there is change in observed and expected output of blue ,green,yellow and brown colour.  \n"
   ]
  },
  {
   "cell_type": "markdown",
   "id": "b4b24dc2",
   "metadata": {},
   "source": [
    "# Queno 3"
   ]
  },
  {
   "cell_type": "code",
   "execution_count": 17,
   "id": "ef644356",
   "metadata": {},
   "outputs": [
    {
     "data": {
      "text/plain": [
       "array([[20, 10, 15],\n",
       "       [15, 25, 20]])"
      ]
     },
     "execution_count": 17,
     "metadata": {},
     "output_type": "execute_result"
    }
   ],
   "source": [
    "#In this case we have to use chi square contingency test,for this we have to;\n",
    "import numpy as np\n",
    "from scipy.stats import chi2_contingency\n",
    "#Now we have to create table for observed data given in question\n",
    "observed_datatable=np.array([[20,10,15],[15,25,20]])\n",
    "observed_datatable"
   ]
  },
  {
   "cell_type": "code",
   "execution_count": 18,
   "id": "49babd04",
   "metadata": {},
   "outputs": [],
   "source": [
    "#so in the above line we see group A observation and in below line we see group B observation"
   ]
  },
  {
   "cell_type": "code",
   "execution_count": 19,
   "id": "bd9d4586",
   "metadata": {},
   "outputs": [],
   "source": [
    "stat,p,dof,expected=chi2_contingency(observed_datatable)"
   ]
  },
  {
   "cell_type": "code",
   "execution_count": 20,
   "id": "20e513d4",
   "metadata": {},
   "outputs": [
    {
     "data": {
      "text/plain": [
       "5.833333333333334"
      ]
     },
     "execution_count": 20,
     "metadata": {},
     "output_type": "execute_result"
    }
   ],
   "source": [
    "stat #it is chi square statistic"
   ]
  },
  {
   "cell_type": "code",
   "execution_count": 21,
   "id": "9934f5b3",
   "metadata": {},
   "outputs": [
    {
     "data": {
      "text/plain": [
       "0.05411376622282158"
      ]
     },
     "execution_count": 21,
     "metadata": {},
     "output_type": "execute_result"
    }
   ],
   "source": [
    "p #it is p value"
   ]
  },
  {
   "cell_type": "code",
   "execution_count": 22,
   "id": "fe6ca909",
   "metadata": {},
   "outputs": [
    {
     "data": {
      "text/plain": [
       "2"
      ]
     },
     "execution_count": 22,
     "metadata": {},
     "output_type": "execute_result"
    }
   ],
   "source": [
    "dof #it is degree of freedom which is 1 less than no of total outcome."
   ]
  },
  {
   "cell_type": "code",
   "execution_count": 23,
   "id": "e791ea48",
   "metadata": {},
   "outputs": [
    {
     "data": {
      "text/plain": [
       "array([[15., 15., 15.],\n",
       "       [20., 20., 20.]])"
      ]
     },
     "execution_count": 23,
     "metadata": {},
     "output_type": "execute_result"
    }
   ],
   "source": [
    "expected #it is expected sample value that can be obtained in place of observed one."
   ]
  },
  {
   "cell_type": "code",
   "execution_count": 24,
   "id": "cebc1ef3",
   "metadata": {},
   "outputs": [],
   "source": [
    "#Now value of critical chisquare at degree of freeedom 2 and confidence level 95% is 5.99"
   ]
  },
  {
   "cell_type": "code",
   "execution_count": 25,
   "id": "f4a3dd76",
   "metadata": {},
   "outputs": [],
   "source": [
    "#so critical chisquare is greater than chisquare statistic which is 5.83 and we will accept or null hypothesis."
   ]
  },
  {
   "cell_type": "code",
   "execution_count": 26,
   "id": "7b7bf565",
   "metadata": {},
   "outputs": [],
   "source": [
    "#At last we can conclude that our observed variables do not have significant relation."
   ]
  },
  {
   "cell_type": "markdown",
   "id": "2b36e451",
   "metadata": {},
   "source": [
    "# Que no 4"
   ]
  },
  {
   "cell_type": "code",
   "execution_count": 27,
   "id": "10344e5f",
   "metadata": {},
   "outputs": [],
   "source": [
    "#So first of all we have to create a sample from which study have done that 60 people in average smoke in 500 people."
   ]
  },
  {
   "cell_type": "code",
   "execution_count": 76,
   "id": "befce179",
   "metadata": {},
   "outputs": [
    {
     "data": {
      "text/plain": [
       "array([64.30327724, 63.59569618, 67.04124114, 57.87032149, 63.45532375,\n",
       "       62.59440816, 52.66550551, 58.37304441, 63.86161682, 52.02464003,\n",
       "       60.37180857, 60.62854455, 51.08885585, 51.34426717, 59.16113547,\n",
       "       67.50978223, 59.2375465 , 63.98580839, 57.21543244, 54.29113476,\n",
       "       67.46443745, 62.36565604, 63.77372472, 58.95484505, 67.46042731,\n",
       "       63.35996261, 53.22905756, 65.75441326, 51.26234808, 58.37033622,\n",
       "       65.03704748, 61.6343898 , 63.76276229, 59.47833237, 61.88899302,\n",
       "       63.5322365 , 59.4970907 , 59.29766296, 56.1685707 , 56.71813284,\n",
       "       68.83490776, 68.24007771, 62.14071052, 53.77986742, 49.55927218,\n",
       "       54.25993679, 56.82343716, 56.27681808, 61.21125205, 63.38412263])"
      ]
     },
     "execution_count": 76,
     "metadata": {},
     "output_type": "execute_result"
    }
   ],
   "source": [
    "sample=np.random.normal(loc=60,scale=5,size=50) #now we are creating sample of study done on 50 different places\n",
    "#for above condition and taking standarddeviation as 5 and mean as 60 that is loc.\n",
    "sample"
   ]
  },
  {
   "cell_type": "code",
   "execution_count": 77,
   "id": "4f9df0a6",
   "metadata": {},
   "outputs": [
    {
     "data": {
      "text/plain": [
       "(58.67615181690498, 61.48945697924378)"
      ]
     },
     "execution_count": 77,
     "metadata": {},
     "output_type": "execute_result"
    }
   ],
   "source": [
    "import scipy.stats as st\n",
    "#Now we have to find true proportion of people who smoke cigrate in a estimated range.\n",
    "st.norm.interval(confidence=0.95,loc=np.mean(sample),scale=st.sem(sample)) #we are having confidencelevel 95%.\n",
    "\n"
   ]
  },
  {
   "cell_type": "code",
   "execution_count": 30,
   "id": "768d935d",
   "metadata": {},
   "outputs": [],
   "source": [
    "#As our sample size is 50 which is greater than 30 so we use normal distribution .\n",
    "#In which we got the true proportion who smoke cigrete is 58.6 to 61.4 at 95% confidence level."
   ]
  },
  {
   "cell_type": "markdown",
   "id": "ce51388b",
   "metadata": {},
   "source": [
    "# Queno 5"
   ]
  },
  {
   "cell_type": "code",
   "execution_count": 31,
   "id": "6527c0a4",
   "metadata": {},
   "outputs": [],
   "source": [
    "#lets create sample of size less than 30 and use t distribution to find true estimated mean with 90% confidence level."
   ]
  },
  {
   "cell_type": "code",
   "execution_count": 32,
   "id": "440962ee",
   "metadata": {},
   "outputs": [
    {
     "data": {
      "text/plain": [
       "array([75.17424433, 71.84487855, 94.0654051 , 88.22479924, 93.54196839,\n",
       "       59.43223633, 93.84116584, 77.77741674, 57.16052093, 86.69821558,\n",
       "       67.69807511, 64.5768814 , 70.23148065, 79.56664673, 83.06405228,\n",
       "       82.03711698, 80.70803589, 79.42172747, 74.92108392, 57.368404  ])"
      ]
     },
     "execution_count": 32,
     "metadata": {},
     "output_type": "execute_result"
    }
   ],
   "source": [
    "sampleb=np.random.normal(loc=75,scale=12,size=20)#loc is mean and scale is standarddeviation.\n",
    "sampleb"
   ]
  },
  {
   "cell_type": "code",
   "execution_count": 33,
   "id": "42ea4904",
   "metadata": {},
   "outputs": [
    {
     "data": {
      "text/plain": [
       "(72.37470639633352, 81.36072914756932)"
      ]
     },
     "execution_count": 33,
     "metadata": {},
     "output_type": "execute_result"
    }
   ],
   "source": [
    "result=st.t.interval(confidence=0.90,df=19,loc=np.mean(sampleb),scale=st.sem(sampleb)) #confidence level is 90%\n",
    "result"
   ]
  },
  {
   "cell_type": "code",
   "execution_count": 34,
   "id": "f537c9bf",
   "metadata": {},
   "outputs": [],
   "source": [
    "#here we use t distribution method because sample size is small and we can conclude that true mean is between \n",
    "#72.7 to 81.8 at 90% confidence level"
   ]
  },
  {
   "cell_type": "markdown",
   "id": "545aed2c",
   "metadata": {},
   "source": [
    "# Queno 6"
   ]
  },
  {
   "cell_type": "code",
   "execution_count": null,
   "id": "e9baa699",
   "metadata": {},
   "outputs": [],
   "source": [
    "#for this we have to import some libraries and create a sample size of difference 1.5 equally spaced in range of 0 to 25."
   ]
  },
  {
   "cell_type": "code",
   "execution_count": 52,
   "id": "3ec53caf",
   "metadata": {},
   "outputs": [],
   "source": [
    "from numpy import random\n",
    "import matplotlib.pyplot as plt\n",
    "from scipy.stats import chi2"
   ]
  },
  {
   "cell_type": "code",
   "execution_count": 67,
   "id": "940f7517",
   "metadata": {},
   "outputs": [
    {
     "data": {
      "text/plain": [
       "array([ 0.        ,  0.51020408,  1.02040816,  1.53061224,  2.04081633,\n",
       "        2.55102041,  3.06122449,  3.57142857,  4.08163265,  4.59183673,\n",
       "        5.10204082,  5.6122449 ,  6.12244898,  6.63265306,  7.14285714,\n",
       "        7.65306122,  8.16326531,  8.67346939,  9.18367347,  9.69387755,\n",
       "       10.20408163, 10.71428571, 11.2244898 , 11.73469388, 12.24489796,\n",
       "       12.75510204, 13.26530612, 13.7755102 , 14.28571429, 14.79591837,\n",
       "       15.30612245, 15.81632653, 16.32653061, 16.83673469, 17.34693878,\n",
       "       17.85714286, 18.36734694, 18.87755102, 19.3877551 , 19.89795918,\n",
       "       20.40816327, 20.91836735, 21.42857143, 21.93877551, 22.44897959,\n",
       "       22.95918367, 23.46938776, 23.97959184, 24.48979592, 25.        ])"
      ]
     },
     "execution_count": 67,
     "metadata": {},
     "output_type": "execute_result"
    }
   ],
   "source": [
    "x=np.linspace(0,25,50)\n",
    "x"
   ]
  },
  {
   "cell_type": "code",
   "execution_count": null,
   "id": "3ee8c012",
   "metadata": {},
   "outputs": [],
   "source": [
    "#now plot chi2 distribution of this sample with degree of freedom 10."
   ]
  },
  {
   "cell_type": "code",
   "execution_count": 68,
   "id": "35186e59",
   "metadata": {},
   "outputs": [
    {
     "data": {
      "text/plain": [
       "array([0.00000000e+00, 6.83636254e-05, 8.47531132e-04, 3.32453789e-03,\n",
       "       8.14135749e-03, 1.54009485e-02, 2.47447485e-02, 3.55206410e-02,\n",
       "       4.69525489e-02, 5.82746742e-02, 6.88209096e-02, 7.80731568e-02,\n",
       "       8.56774584e-02, 9.14377627e-02, 9.52960536e-02, 9.73057268e-02,\n",
       "       9.76031618e-02, 9.63807348e-02, 9.38631574e-02, 9.02880210e-02,\n",
       "       8.58907320e-02, 8.08935867e-02, 7.54984834e-02, 6.98826620e-02,\n",
       "       6.41968404e-02, 5.85651572e-02, 5.30863983e-02, 4.78360727e-02,\n",
       "       4.28689827e-02, 3.82220200e-02, 3.39169861e-02, 2.99632972e-02,\n",
       "       2.63604810e-02, 2.31004143e-02, 2.01692741e-02, 1.75492019e-02,\n",
       "       1.52196893e-02, 1.31587086e-02, 1.13436117e-02, 9.75182694e-03,\n",
       "       8.36138294e-03, 7.15128633e-03, 6.10177927e-03, 5.19449993e-03,\n",
       "       4.41256606e-03, 3.74059906e-03, 3.16470347e-03, 2.67241389e-03,\n",
       "       2.25261945e-03, 1.89547382e-03])"
      ]
     },
     "execution_count": 68,
     "metadata": {},
     "output_type": "execute_result"
    }
   ],
   "source": [
    "y1=chi2.pdf(x,df=10)\n",
    "y1"
   ]
  },
  {
   "cell_type": "code",
   "execution_count": 74,
   "id": "82aae2cd",
   "metadata": {},
   "outputs": [
    {
     "data": {
      "text/plain": [
       "<matplotlib.collections.PolyCollection at 0x2178a2ae150>"
      ]
     },
     "execution_count": 74,
     "metadata": {},
     "output_type": "execute_result"
    },
    {
     "data": {
      "image/png": "[encoded data removed]",
      "text/plain": [
       "<Figure size 640x480 with 1 Axes>"
      ]
     },
     "metadata": {},
     "output_type": "display_data"
    }
   ],
   "source": [
    "plt.plot(x,y1,label='df=10')\n",
    "plt.legend()\n",
    "plt.ylabel('density')\n",
    "plt.xlabel('x')\n",
    "plt.title('chi2 distribution of 50 numbers in range of 0 to 25')\n",
    "x_fill=np.linspace(start=15,stop=25,num=50)\n",
    "y_fill=chi2.pdf(x_fill,df=10)\n",
    "plt.fill_between(x_fill,y_fill,color='r')"
   ]
  },
  {
   "cell_type": "code",
   "execution_count": null,
   "id": "4ac596f9",
   "metadata": {},
   "outputs": [],
   "source": [
    "#So in this way we are able to plot chi2 distribution of sample with df 10 and shade the region up to chi2 statistic 15."
   ]
  },
  {
   "cell_type": "markdown",
   "id": "0a5c95db",
   "metadata": {},
   "source": [
    "# Que no 7"
   ]
  },
  {
   "cell_type": "code",
   "execution_count": null,
   "id": "f61d6860",
   "metadata": {},
   "outputs": [],
   "source": [
    "#Let x be no of people who preferred coke that is 520."
   ]
  },
  {
   "cell_type": "code",
   "execution_count": null,
   "id": "80820f06",
   "metadata": {},
   "outputs": [],
   "source": [
    "#n be sample size that is no of respondent 1000."
   ]
  },
  {
   "cell_type": "code",
   "execution_count": null,
   "id": "5e613f1a",
   "metadata": {},
   "outputs": [],
   "source": [
    "#Now we have to find p' and q'."
   ]
  },
  {
   "cell_type": "code",
   "execution_count": null,
   "id": "397022ec",
   "metadata": {},
   "outputs": [],
   "source": [
    "#p'=x/n=520/1000=0.52 so 0.52 is the point estimate of the proportion."
   ]
  },
  {
   "cell_type": "code",
   "execution_count": null,
   "id": "d42bf192",
   "metadata": {},
   "outputs": [],
   "source": [
    "#q'=1-p'=1-0.52=0.48\n",
    "#Now alpha value=1-conffidence level=1-0.99=0.01 \n",
    "#z standardvalue at 99% confidence level is 2.576\n",
    "#now find lower limit and upper limit."
   ]
  },
  {
   "cell_type": "code",
   "execution_count": null,
   "id": "3f58c9cf",
   "metadata": {},
   "outputs": [],
   "source": [
    "#lower limit=p'-z standard valuesqrt p'*q'/n\n",
    "#lower limit=0.52-2.576sqrt 0.52*0.48/100 #sample is 100% equal to 1000.\n",
    "#So here we got 0.511 that is 51.1%"
   ]
  },
  {
   "cell_type": "code",
   "execution_count": null,
   "id": "f5dd0159",
   "metadata": {},
   "outputs": [],
   "source": [
    "#upper limit=p'+z standard valuesqrt p'*q'/n\n",
    "#upper limit=0.52+2.576sqrt 0.52*0.48/100 #sample is 100% equal to 1000\n",
    "#So here we got 0.528 that is 52.8%"
   ]
  },
  {
   "cell_type": "code",
   "execution_count": null,
   "id": "97868d94",
   "metadata": {},
   "outputs": [],
   "source": [
    "#so we can conclude that true proportion who preferred coke are 511 that is 51.1% to 528 that is 52.8%."
   ]
  },
  {
   "cell_type": "markdown",
   "id": "4386c54d",
   "metadata": {},
   "source": [
    "# Que no 8"
   ]
  },
  {
   "cell_type": "code",
   "execution_count": null,
   "id": "26c25c31",
   "metadata": {},
   "outputs": [],
   "source": [
    "#So if a coin tossed 100 times and got tail 45 times then head it get would be 55times. "
   ]
  },
  {
   "cell_type": "code",
   "execution_count": 8,
   "id": "c60aef77",
   "metadata": {},
   "outputs": [],
   "source": [
    "import numpy as np\n",
    "import scipy.stats as stats\n",
    "observed_data=[45,55] #45 times tail and 55 times head\n"
   ]
  },
  {
   "cell_type": "code",
   "execution_count": 9,
   "id": "9e8b95d5",
   "metadata": {},
   "outputs": [],
   "source": [
    "#As researcher hypothesizes that coin is biased towards tail then expected data would be\n",
    "expected_data=[70,30] #70 times tail and 30 times head."
   ]
  },
  {
   "cell_type": "code",
   "execution_count": null,
   "id": "dfa1c65b",
   "metadata": {},
   "outputs": [],
   "source": [
    "#now conduct chi2 goodness of fit test to determine observed data matches expected data or not with alpha 0.05."
   ]
  },
  {
   "cell_type": "code",
   "execution_count": 10,
   "id": "eae8663e",
   "metadata": {},
   "outputs": [],
   "source": [
    "chi_square_test_statistic,p_value=stats.chisquare(observed_data,expected_data)"
   ]
  },
  {
   "cell_type": "code",
   "execution_count": 11,
   "id": "c566da44",
   "metadata": {},
   "outputs": [
    {
     "data": {
      "text/plain": [
       "29.76190476190476"
      ]
     },
     "execution_count": 11,
     "metadata": {},
     "output_type": "execute_result"
    }
   ],
   "source": [
    "chi_square_test_statistic"
   ]
  },
  {
   "cell_type": "code",
   "execution_count": 12,
   "id": "4a887866",
   "metadata": {},
   "outputs": [
    {
     "data": {
      "text/plain": [
       "4.884973059456476e-08"
      ]
     },
     "execution_count": 12,
     "metadata": {},
     "output_type": "execute_result"
    }
   ],
   "source": [
    "p_value"
   ]
  },
  {
   "cell_type": "code",
   "execution_count": 13,
   "id": "8b5d6a5b",
   "metadata": {},
   "outputs": [],
   "source": [
    "#now we have to find chisquare critical value\n",
    "chisquare_criticalvalue=stats.chi2.ppf(1-0.05,df=1)"
   ]
  },
  {
   "cell_type": "code",
   "execution_count": 14,
   "id": "bd1255a7",
   "metadata": {},
   "outputs": [
    {
     "data": {
      "text/plain": [
       "3.841458820694124"
      ]
     },
     "execution_count": 14,
     "metadata": {},
     "output_type": "execute_result"
    }
   ],
   "source": [
    "chisquare_criticalvalue"
   ]
  },
  {
   "cell_type": "code",
   "execution_count": null,
   "id": "c18767d9",
   "metadata": {},
   "outputs": [],
   "source": [
    "#Now we have to compare chi2 value with chi2 critical value in which chi2 value is greater than chi2 critical value. "
   ]
  },
  {
   "cell_type": "code",
   "execution_count": null,
   "id": "01de9c53",
   "metadata": {},
   "outputs": [],
   "source": [
    "#So it is a case of alternate hypotheses and we can conclude that difference between observed data and expected data\n",
    "#is statistically significant as there is very much difference between expected data and observed data."
   ]
  },
  {
   "cell_type": "markdown",
   "id": "61188c96",
   "metadata": {},
   "source": [
    "# Que no 9"
   ]
  },
  {
   "cell_type": "code",
   "execution_count": null,
   "id": "75bdd0d6",
   "metadata": {},
   "outputs": [],
   "source": [
    "#So this is a case chi2 contingency test that is independent test for categorical variable."
   ]
  },
  {
   "cell_type": "code",
   "execution_count": null,
   "id": "c6e649ae",
   "metadata": {},
   "outputs": [],
   "source": [
    "#So we have to create data for two category yes or no from smoker and non smoker leading to cancer."
   ]
  },
  {
   "cell_type": "code",
   "execution_count": 15,
   "id": "77b1cd02",
   "metadata": {},
   "outputs": [],
   "source": [
    "data=[[60,30],[140,170]] #first section is for positive cancer patient for smoker and non smoker\n",
    "                        #while second section is for negative cancer patient for smoker and non smoker.\n",
    "      "
   ]
  },
  {
   "cell_type": "code",
   "execution_count": 17,
   "id": "634dd0a4",
   "metadata": {},
   "outputs": [],
   "source": [
    "from scipy.stats import chi2_contingency"
   ]
  },
  {
   "cell_type": "code",
   "execution_count": 18,
   "id": "cc968129",
   "metadata": {},
   "outputs": [
    {
     "data": {
      "text/plain": [
       "[[60, 30], [140, 170]]"
      ]
     },
     "execution_count": 18,
     "metadata": {},
     "output_type": "execute_result"
    }
   ],
   "source": [
    "data"
   ]
  },
  {
   "cell_type": "code",
   "execution_count": 19,
   "id": "d759e9a0",
   "metadata": {},
   "outputs": [],
   "source": [
    "stat,p,dof,expected=chi2_contingency(data)"
   ]
  },
  {
   "cell_type": "code",
   "execution_count": 20,
   "id": "e4d3d727",
   "metadata": {},
   "outputs": [
    {
     "data": {
      "text/plain": [
       "12.057347670250895"
      ]
     },
     "execution_count": 20,
     "metadata": {},
     "output_type": "execute_result"
    }
   ],
   "source": [
    "stat #chi2 statistic value"
   ]
  },
  {
   "cell_type": "code",
   "execution_count": 21,
   "id": "e4f97aa3",
   "metadata": {},
   "outputs": [
    {
     "data": {
      "text/plain": [
       "0.0005158863863703744"
      ]
     },
     "execution_count": 21,
     "metadata": {},
     "output_type": "execute_result"
    }
   ],
   "source": [
    "p #p value"
   ]
  },
  {
   "cell_type": "code",
   "execution_count": 22,
   "id": "e6871877",
   "metadata": {},
   "outputs": [
    {
     "data": {
      "text/plain": [
       "array([[ 45.,  45.],\n",
       "       [155., 155.]])"
      ]
     },
     "execution_count": 22,
     "metadata": {},
     "output_type": "execute_result"
    }
   ],
   "source": [
    "expected"
   ]
  },
  {
   "cell_type": "code",
   "execution_count": null,
   "id": "a77144bf",
   "metadata": {},
   "outputs": [],
   "source": [
    "#Asp value 0.0005 which is less than alpha that is 0.05 which is a case of alternate hypotheses which shows that our \n",
    "#variable has may have significant association or may be not."
   ]
  },
  {
   "cell_type": "code",
   "execution_count": null,
   "id": "3a03008c",
   "metadata": {},
   "outputs": [],
   "source": [
    "#So we can conclude that there is significant association between smoking status and lungs cancer diagnosis. "
   ]
  },
  {
   "cell_type": "markdown",
   "id": "98d5438d",
   "metadata": {},
   "source": [
    "# Que no 10"
   ]
  },
  {
   "cell_type": "code",
   "execution_count": null,
   "id": "a242393c",
   "metadata": {},
   "outputs": [],
   "source": [
    "#In this again we have to use chi2 contingency test that is independent test as their is three categorical variable."
   ]
  },
  {
   "cell_type": "code",
   "execution_count": null,
   "id": "28d52960",
   "metadata": {},
   "outputs": [],
   "source": [
    "#For this we have to create data2 which shows preference of different types of chocolate in US and UK. "
   ]
  },
  {
   "cell_type": "code",
   "execution_count": 23,
   "id": "505e8d3c",
   "metadata": {},
   "outputs": [],
   "source": [
    "data2=[[200,225],[150,175],[150,100]]"
   ]
  },
  {
   "cell_type": "code",
   "execution_count": 24,
   "id": "9cea34a0",
   "metadata": {},
   "outputs": [
    {
     "data": {
      "text/plain": [
       "[[200, 225], [150, 175], [150, 100]]"
      ]
     },
     "execution_count": 24,
     "metadata": {},
     "output_type": "execute_result"
    }
   ],
   "source": [
    "data2"
   ]
  },
  {
   "cell_type": "code",
   "execution_count": 25,
   "id": "45264f75",
   "metadata": {},
   "outputs": [],
   "source": [
    "stat,p,dof,expected=chi2_contingency(data2)"
   ]
  },
  {
   "cell_type": "code",
   "execution_count": 26,
   "id": "378b749d",
   "metadata": {},
   "outputs": [
    {
     "data": {
      "text/plain": [
       "13.393665158371041"
      ]
     },
     "execution_count": 26,
     "metadata": {},
     "output_type": "execute_result"
    }
   ],
   "source": [
    "stat"
   ]
  },
  {
   "cell_type": "code",
   "execution_count": 27,
   "id": "57778935",
   "metadata": {},
   "outputs": [
    {
     "data": {
      "text/plain": [
       "0.0012348168997745918"
      ]
     },
     "execution_count": 27,
     "metadata": {},
     "output_type": "execute_result"
    }
   ],
   "source": [
    "p #p value"
   ]
  },
  {
   "cell_type": "code",
   "execution_count": 28,
   "id": "b9271a90",
   "metadata": {},
   "outputs": [
    {
     "data": {
      "text/plain": [
       "2"
      ]
     },
     "execution_count": 28,
     "metadata": {},
     "output_type": "execute_result"
    }
   ],
   "source": [
    "dof"
   ]
  },
  {
   "cell_type": "code",
   "execution_count": 29,
   "id": "f00e5634",
   "metadata": {},
   "outputs": [
    {
     "data": {
      "text/plain": [
       "array([[212.5, 212.5],\n",
       "       [162.5, 162.5],\n",
       "       [125. , 125. ]])"
      ]
     },
     "execution_count": 29,
     "metadata": {},
     "output_type": "execute_result"
    }
   ],
   "source": [
    "expected"
   ]
  },
  {
   "cell_type": "code",
   "execution_count": null,
   "id": "2c1e63df",
   "metadata": {},
   "outputs": [],
   "source": [
    "#Here again p value is less than significant value that is 0.01 with 99% confidence level."
   ]
  },
  {
   "cell_type": "code",
   "execution_count": null,
   "id": "37efc828",
   "metadata": {},
   "outputs": [],
   "source": [
    "#As p value is less than alpha value it is a case of alternate hypothesis"
   ]
  },
  {
   "cell_type": "code",
   "execution_count": null,
   "id": "fdffab65",
   "metadata": {},
   "outputs": [],
   "source": [
    "#So we can conclude that there is significant asscociation between chocolate preference and country of origin \n",
    "#as different chocolate has different level of preference in different country according to data shown ."
   ]
  },
  {
   "cell_type": "markdown",
   "id": "1ca44185",
   "metadata": {},
   "source": [
    "# Que no 11"
   ]
  },
  {
   "cell_type": "code",
   "execution_count": null,
   "id": "0261b9a1",
   "metadata": {},
   "outputs": [],
   "source": [
    "#We can also use one sample t test in this case as there is only sample size of 30.  "
   ]
  },
  {
   "cell_type": "code",
   "execution_count": null,
   "id": "e7f1684f",
   "metadata": {},
   "outputs": [],
   "source": [
    "#First of all we have to generate sample"
   ]
  },
  {
   "cell_type": "code",
   "execution_count": 1,
   "id": "1b7e0112",
   "metadata": {},
   "outputs": [
    {
     "data": {
      "text/plain": [
       "array([83.63574753, 86.14328796, 65.65757454, 90.97517327, 66.91835149,\n",
       "       80.08164303, 65.82046323, 62.83826826, 65.4330984 , 76.20206548,\n",
       "       69.42656766, 71.13047958, 72.1999291 , 75.05223564, 68.77966995,\n",
       "       75.04832733, 73.44458087, 70.53397235, 72.01997166, 67.29711372,\n",
       "       76.02855951, 83.19590039, 72.52270458, 62.37680568, 75.70655201,\n",
       "       71.4569928 , 64.82761364, 72.42369584, 76.97833076, 83.60021456])"
      ]
     },
     "execution_count": 1,
     "metadata": {},
     "output_type": "execute_result"
    }
   ],
   "source": [
    "import numpy as np\n",
    "sample3=np.random.normal(loc=72,scale=10,size=30)\n",
    "sample3"
   ]
  },
  {
   "cell_type": "code",
   "execution_count": 2,
   "id": "a8f49d33",
   "metadata": {},
   "outputs": [],
   "source": [
    "#Now we can use one sample t test for hypotheses testing with help of python\n",
    "import scipy.stats as stats"
   ]
  },
  {
   "cell_type": "code",
   "execution_count": 15,
   "id": "e4875376",
   "metadata": {},
   "outputs": [],
   "source": [
    "t_statistic,p_value=stats.ttest_1samp(a=sample3,popmean=70)"
   ]
  },
  {
   "cell_type": "code",
   "execution_count": 16,
   "id": "50c21a76",
   "metadata": {},
   "outputs": [
    {
     "data": {
      "text/plain": [
       "2.4945912597543627"
      ]
     },
     "execution_count": 16,
     "metadata": {},
     "output_type": "execute_result"
    }
   ],
   "source": [
    "t_statistic"
   ]
  },
  {
   "cell_type": "code",
   "execution_count": 17,
   "id": "283df093",
   "metadata": {},
   "outputs": [
    {
     "data": {
      "text/plain": [
       "0.018555688022483155"
      ]
     },
     "execution_count": 17,
     "metadata": {},
     "output_type": "execute_result"
    }
   ],
   "source": [
    "p_value"
   ]
  },
  {
   "cell_type": "code",
   "execution_count": null,
   "id": "0393424d",
   "metadata": {},
   "outputs": [],
   "source": [
    "#As pvalue which is 0.01 which is less than significance level that is alpha 0.05 and we have to accept the alternate \n",
    "#hypotheses."
   ]
  },
  {
   "cell_type": "code",
   "execution_count": null,
   "id": "dfbcd406",
   "metadata": {},
   "outputs": [],
   "source": [
    "#So we have to conclude that expected population mean which is 70 is significantly different specified population mean that \n",
    "#is 72."
   ]
  },
  {
   "cell_type": "code",
   "execution_count": null,
   "id": "e735e83d",
   "metadata": {},
   "outputs": [],
   "source": []
  }
 ],
 "metadata": {
  "kernelspec": {
   "display_name": "Python 3 (ipykernel)",
   "language": "python",
   "name": "python3"
  },
  "language_info": {
   "codemirror_mode": {
    "name": "ipython",
    "version": 3
   },
   "file_extension": ".py",
   "mimetype": "text/x-python",
   "name": "python",
   "nbconvert_exporter": "python",
   "pygments_lexer": "ipython3",
   "version": "3.11.5"
  }
 },
 "nbformat": 4,
 "nbformat_minor": 5
}
