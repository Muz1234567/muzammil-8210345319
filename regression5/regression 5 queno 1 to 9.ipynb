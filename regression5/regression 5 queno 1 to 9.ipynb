{
 "cells": [
  {
   "cell_type": "markdown",
   "id": "c72ddb14",
   "metadata": {},
   "source": [
    "# Queno 1"
   ]
  },
  {
   "cell_type": "markdown",
   "id": "351a3f26",
   "metadata": {},
   "source": [
    "# Elastic Net Regression"
   ]
  },
  {
   "cell_type": "code",
   "execution_count": null,
   "id": "98f07760",
   "metadata": {},
   "outputs": [],
   "source": [
    "#Elastic net is a regularized regression method that linearly combines the l1 and l2 penalties of the lasso and ridge \n",
    "#methods."
   ]
  },
  {
   "cell_type": "code",
   "execution_count": null,
   "id": "e3e62696",
   "metadata": {},
   "outputs": [],
   "source": [
    "#In elastic net instead of using one regularization parameter we now use two parameters one that controls l1 penalty\n",
    "#and another controls the l2 penalty."
   ]
  },
  {
   "cell_type": "code",
   "execution_count": null,
   "id": "89118598",
   "metadata": {},
   "outputs": [],
   "source": [
    "#Here regularization parameter is denoted by alpha so if alpha1=0 then it is ridge regression and if alpha2=0 then we have \n",
    "#lasso."
   ]
  },
  {
   "cell_type": "code",
   "execution_count": null,
   "id": "ab814966",
   "metadata": {},
   "outputs": [],
   "source": [
    "#We can also use just one alpha and l1 ratio parameter which determines percentage of l1 penalty with regard to alpha\n",
    "#So if alpha=1 and l1 ratio=0.4 then l1 penalty will be multiplied by 0.4 and l2 penalty will be multiplied with \n",
    "#1-l1-ratio=0.6"
   ]
  },
  {
   "cell_type": "code",
   "execution_count": null,
   "id": "1cb4873f",
   "metadata": {},
   "outputs": [],
   "source": [
    "#We can also use cross validation to determine best ratio between l1 and l2 penalty strength."
   ]
  },
  {
   "cell_type": "code",
   "execution_count": null,
   "id": "36d2320b",
   "metadata": {},
   "outputs": [],
   "source": [
    "#Elastic net is different from other regression as it is a combination of l1 and l2 norm as penalty ."
   ]
  },
  {
   "cell_type": "code",
   "execution_count": null,
   "id": "aadad84c",
   "metadata": {},
   "outputs": [],
   "source": [
    "#So in this way it allows to balance between feature selection and to deal with situations where lasso and ridge regression\n",
    "#may fail."
   ]
  },
  {
   "cell_type": "markdown",
   "id": "6e4d5090",
   "metadata": {},
   "source": [
    "# Queno 2"
   ]
  },
  {
   "cell_type": "code",
   "execution_count": null,
   "id": "e822cfb7",
   "metadata": {},
   "outputs": [],
   "source": [
    "#Elastic net regression is combination of ridge and lasso regression into single algorithm."
   ]
  },
  {
   "cell_type": "code",
   "execution_count": null,
   "id": "ae5b9a0a",
   "metadata": {},
   "outputs": [],
   "source": [
    "#Parameters alpha and l1 ratio controls the penalties imposed on algorithm."
   ]
  },
  {
   "cell_type": "code",
   "execution_count": null,
   "id": "7e7d992d",
   "metadata": {},
   "outputs": [],
   "source": [
    "#If l1 ratio =0 we have ridge regression and if l1 ratio=1 we have lasso."
   ]
  },
  {
   "cell_type": "code",
   "execution_count": null,
   "id": "d904b3c4",
   "metadata": {},
   "outputs": [],
   "source": [
    "#Thus elastic net regression remove the weak variables by turning them to zero or close to zero as possible. "
   ]
  },
  {
   "cell_type": "code",
   "execution_count": null,
   "id": "fa9e5bca",
   "metadata": {},
   "outputs": [],
   "source": [
    "#Elasticnet regression can also variables with negative effect can force them to positive by putting true parameters that\n",
    "#fits the model."
   ]
  },
  {
   "cell_type": "markdown",
   "id": "964fc93c",
   "metadata": {},
   "source": [
    "# Queno 3"
   ]
  },
  {
   "cell_type": "markdown",
   "id": "7e4e9304",
   "metadata": {},
   "source": [
    "# Advantages and Disadvantages of Elastic Net Regression"
   ]
  },
  {
   "cell_type": "code",
   "execution_count": null,
   "id": "d73423a4",
   "metadata": {},
   "outputs": [],
   "source": [
    "#Elastic net can handle multicollinearity better than ridge or lasso when there are many predictors are highly corelated."
   ]
  },
  {
   "cell_type": "code",
   "execution_count": null,
   "id": "0a4c17f3",
   "metadata": {},
   "outputs": [],
   "source": [
    "#Elastic net perform feature selection by setting some coefficients to zero while keep others that are significant. "
   ]
  },
  {
   "cell_type": "code",
   "execution_count": null,
   "id": "555bd0a0",
   "metadata": {},
   "outputs": [],
   "source": [
    "#It also reduce the risk of overfitting by combing the effect of both lasso and ridge regularisation."
   ]
  },
  {
   "cell_type": "code",
   "execution_count": null,
   "id": "2e6393fa",
   "metadata": {},
   "outputs": [],
   "source": [
    "#Elastic net is not suitable for high dimensional data where the number of predictors is much larger than number of \n",
    "#observations."
   ]
  },
  {
   "cell_type": "code",
   "execution_count": null,
   "id": "31f6c071",
   "metadata": {},
   "outputs": [],
   "source": [
    "#It is more complex asit involves two penalties and two hyperparameters. "
   ]
  },
  {
   "cell_type": "code",
   "execution_count": null,
   "id": "d15edf1b",
   "metadata": {},
   "outputs": [],
   "source": [
    "#It is also not suitable for non linear problems where relationship between predictors and outcome is not linear."
   ]
  },
  {
   "cell_type": "markdown",
   "id": "b8a1e484",
   "metadata": {},
   "source": [
    "# Queno 4"
   ]
  },
  {
   "cell_type": "code",
   "execution_count": null,
   "id": "5bab7d3a",
   "metadata": {},
   "outputs": [],
   "source": [
    "#Elastic net regression is used to deal with the problems of multicollinearity and overfitting."
   ]
  },
  {
   "cell_type": "code",
   "execution_count": null,
   "id": "a9870e09",
   "metadata": {},
   "outputs": [],
   "source": [
    "#As multicollinearity and overfitting is common in high dimensional dataset so it is best to use in high dimensional \n",
    "#dataset."
   ]
  },
  {
   "cell_type": "code",
   "execution_count": null,
   "id": "91fec917",
   "metadata": {},
   "outputs": [],
   "source": [
    "#It is used in dataset having variables highly corelated as it is best in dealing with multicollinearity."
   ]
  },
  {
   "cell_type": "markdown",
   "id": "a6002754",
   "metadata": {},
   "source": [
    "# Queno 5"
   ]
  },
  {
   "cell_type": "code",
   "execution_count": null,
   "id": "31c14684",
   "metadata": {},
   "outputs": [],
   "source": [
    "#Coefficients of elastic net regression represent the linear relationship between features and target variables."
   ]
  },
  {
   "cell_type": "code",
   "execution_count": null,
   "id": "c67c0395",
   "metadata": {},
   "outputs": [],
   "source": [
    "#Large value of coefficients has stronger effect of the corresponding feature on target variable.  "
   ]
  },
  {
   "cell_type": "code",
   "execution_count": null,
   "id": "1d574da3",
   "metadata": {},
   "outputs": [],
   "source": [
    "#Positive coefficient shows positive corelation between features and target variables and negative coefficients shows \n",
    "#negative corelation."
   ]
  },
  {
   "cell_type": "code",
   "execution_count": null,
   "id": "b113c193",
   "metadata": {},
   "outputs": [],
   "source": [
    "#Coefficient zero features indicates that features are not relevant for the model and they are eliminated."
   ]
  },
  {
   "cell_type": "code",
   "execution_count": null,
   "id": "e3038ec7",
   "metadata": {},
   "outputs": [],
   "source": [
    "#So we can use non zero coefficient features and rank them according to their importance."
   ]
  },
  {
   "cell_type": "markdown",
   "id": "f5c582e0",
   "metadata": {},
   "source": [
    "# Queno 6"
   ]
  },
  {
   "cell_type": "markdown",
   "id": "e6b6ebec",
   "metadata": {},
   "source": [
    "# Handling Missing Values In Elastic Net Regression"
   ]
  },
  {
   "cell_type": "code",
   "execution_count": null,
   "id": "eb6cec33",
   "metadata": {},
   "outputs": [],
   "source": [
    "#There are many ways that we can handle missing values in elastic net regression. "
   ]
  },
  {
   "cell_type": "code",
   "execution_count": null,
   "id": "429cd1e9",
   "metadata": {},
   "outputs": [],
   "source": [
    "#Among one them is imputation method that is we use mean,median or mode of observed values or random values from \n",
    "#distribution that matches data."
   ]
  },
  {
   "cell_type": "code",
   "execution_count": null,
   "id": "90f3cd88",
   "metadata": {},
   "outputs": [],
   "source": [
    "#Another method is maximum likelihood that can handle missing data by using only observed data and ignoring the missing\n",
    "#values."
   ]
  },
  {
   "cell_type": "code",
   "execution_count": null,
   "id": "e750080a",
   "metadata": {},
   "outputs": [],
   "source": [
    "#Another method is by dropping rows or columns encoding missing values."
   ]
  },
  {
   "cell_type": "code",
   "execution_count": null,
   "id": "83a5cb0b",
   "metadata": {},
   "outputs": [],
   "source": [
    "#In this way missing values can be handled in elastic net regression."
   ]
  },
  {
   "cell_type": "markdown",
   "id": "5b5a89a8",
   "metadata": {},
   "source": [
    "# Queno 7"
   ]
  },
  {
   "cell_type": "code",
   "execution_count": null,
   "id": "db426a3a",
   "metadata": {},
   "outputs": [],
   "source": [
    "#Coefficient of elastic net regression represent the linear relationship between the features and the target variables."
   ]
  },
  {
   "cell_type": "code",
   "execution_count": null,
   "id": "ee45ca0c",
   "metadata": {},
   "outputs": [],
   "source": [
    "#The larger absolute value of coefficient the stronger effect of corresponding feature on target variable."
   ]
  },
  {
   "cell_type": "code",
   "execution_count": null,
   "id": "12e95811",
   "metadata": {},
   "outputs": [],
   "source": [
    "#Positive coefficient features shows positive corelation with target variables and negative coefficient features shows\n",
    "#negative corelation."
   ]
  },
  {
   "cell_type": "code",
   "execution_count": null,
   "id": "8d6be816",
   "metadata": {},
   "outputs": [],
   "source": [
    "#Zero coefficient features shows that feature are not relevant for the model and can be eliminated."
   ]
  },
  {
   "cell_type": "code",
   "execution_count": null,
   "id": "cab17b39",
   "metadata": {},
   "outputs": [],
   "source": [
    "#So in this way we use elastic net to determine coefficient of each feature and rank them according to their importance. "
   ]
  },
  {
   "cell_type": "markdown",
   "id": "201561e4",
   "metadata": {},
   "source": [
    "# Queno 8"
   ]
  },
  {
   "cell_type": "code",
   "execution_count": null,
   "id": "d29d0376",
   "metadata": {},
   "outputs": [],
   "source": [
    "#For pickling elastic net model first we have to import pickle."
   ]
  },
  {
   "cell_type": "code",
   "execution_count": null,
   "id": "6d0f536e",
   "metadata": {},
   "outputs": [],
   "source": [
    "#Then we have to fit the tained data with elastic net model."
   ]
  },
  {
   "cell_type": "code",
   "execution_count": null,
   "id": "bba50a21",
   "metadata": {},
   "outputs": [],
   "source": [
    "#After that we have to use dump function in pickle and save the model with a file name to be passed in the function\n",
    "#like open('file name','wb') 'wb' means file mode should be in write and binary format."
   ]
  },
  {
   "cell_type": "code",
   "execution_count": null,
   "id": "46704f2d",
   "metadata": {},
   "outputs": [],
   "source": [
    "#While for unpickling the model we have to load the pickled file from pickle library with open('model name','rb') here 'rb' \n",
    "#function is used which means read mode and binary format ."
   ]
  },
  {
   "cell_type": "markdown",
   "id": "7ca7b9d0",
   "metadata": {},
   "source": [
    "# Queno 9"
   ]
  },
  {
   "cell_type": "code",
   "execution_count": null,
   "id": "ecedff39",
   "metadata": {},
   "outputs": [],
   "source": [
    "#Pickle module is used to store python objects and convert the object into byte streams."
   ]
  },
  {
   "cell_type": "code",
   "execution_count": null,
   "id": "a475131b",
   "metadata": {},
   "outputs": [],
   "source": [
    "#After that it can be easily written into a file."
   ]
  },
  {
   "cell_type": "code",
   "execution_count": null,
   "id": "e9827434",
   "metadata": {},
   "outputs": [],
   "source": [
    "#Now with the help of pickle library we can easily load the file with the name saved and can be read and also can be \n",
    "#reconstructed which we called depickling."
   ]
  },
  {
   "cell_type": "code",
   "execution_count": null,
   "id": "6fbe0841",
   "metadata": {},
   "outputs": [],
   "source": [
    "#So in this way pickle function deserialize machine learning models and make it possible to use them again."
   ]
  }
 ],
 "metadata": {
  "kernelspec": {
   "display_name": "Python 3 (ipykernel)",
   "language": "python",
   "name": "python3"
  },
  "language_info": {
   "codemirror_mode": {
    "name": "ipython",
    "version": 3
   },
   "file_extension": ".py",
   "mimetype": "text/x-python",
   "name": "python",
   "nbconvert_exporter": "python",
   "pygments_lexer": "ipython3",
   "version": "3.11.5"
  }
 },
 "nbformat": 4,
 "nbformat_minor": 5
}
