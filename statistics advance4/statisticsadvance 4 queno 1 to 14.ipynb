{
 "cells": [
  {
   "cell_type": "markdown",
   "id": "70f82136",
   "metadata": {},
   "source": [
    "# Que no 1"
   ]
  },
  {
   "cell_type": "markdown",
   "id": "29baa00e",
   "metadata": {},
   "source": [
    "# Difference between Z test and T test"
   ]
  },
  {
   "cell_type": "code",
   "execution_count": null,
   "id": "7a1b16c7",
   "metadata": {},
   "outputs": [],
   "source": [
    "#Z test is the statistical test used to analyse whether two population means are different or not when the variances are\n",
    "# known, and the sample size is large."
   ]
  },
  {
   "cell_type": "code",
   "execution_count": null,
   "id": "4e491026",
   "metadata": {},
   "outputs": [],
   "source": [
    "#While t test is a parametric test used to identify mean of two datasets difference when variance is not known."
   ]
  },
  {
   "cell_type": "code",
   "execution_count": null,
   "id": "e28feece",
   "metadata": {},
   "outputs": [],
   "source": [
    "#Z test is used in large sample."
   ]
  },
  {
   "cell_type": "code",
   "execution_count": null,
   "id": "85280590",
   "metadata": {},
   "outputs": [],
   "source": [
    "#While t test is used in small sample."
   ]
  },
  {
   "cell_type": "code",
   "execution_count": null,
   "id": "377b18e6",
   "metadata": {},
   "outputs": [],
   "source": [
    "#Sample size in z test should not be less than 30."
   ]
  },
  {
   "cell_type": "code",
   "execution_count": null,
   "id": "f6812aa1",
   "metadata": {},
   "outputs": [],
   "source": [
    "#While sample size in t test should be less than 30."
   ]
  },
  {
   "cell_type": "code",
   "execution_count": null,
   "id": "cbab09fe",
   "metadata": {},
   "outputs": [],
   "source": [
    "#Use of z test with an example;\n",
    "#let;s consider mean height of student in class is more than 170cm with a standard deviation of 10.\n",
    "#Now if sample of 50 students is selected with a mean height of 175cm.\n",
    "#First of all calculate z value and significance level would be used 0.05."
   ]
  },
  {
   "cell_type": "code",
   "execution_count": null,
   "id": "3583be8a",
   "metadata": {},
   "outputs": [],
   "source": [
    "#So here sample size =50 and it is a case of right-tailed one-sample z test and calculate z value\n",
    "# z value=(sample mean-population mean/population std/squareroot sample size)\n",
    "#so after applying this formuale we get z value that is 3.54.\n",
    "#So the from z table critical valueat alpha 0.05 is 1.645 which is less than z value 3.54 and there is acceptance of \n",
    "#alternate hypothesis.\n",
    "#So we can conclude that mean of height of student is greater than 170 cm.\n"
   ]
  },
  {
   "cell_type": "code",
   "execution_count": null,
   "id": "6bea9a2e",
   "metadata": {},
   "outputs": [],
   "source": [
    "#Use of t test with example;\n",
    "#A store want to improve its sale\n",
    "#His previous sale shows data of 30 salesman of average 40 rs sale.\n",
    "#Aftersome training sale improves with 60rs average sale with standard deviation of 20 rs.\n",
    "#Now we have to calculate to predict did training improves sale.\n",
    "#Now we have to calculate t value and critical value\n",
    "#So we get t value 5.47 and critical value at alpha 0.05 is 1.711\n",
    "#So there is acceptance of alternatehypotheses as t value> critical value.\n",
    "#And now we can conclude that training improve sale in store. "
   ]
  },
  {
   "cell_type": "markdown",
   "id": "895f9aef",
   "metadata": {},
   "source": [
    "# Que no 2"
   ]
  },
  {
   "cell_type": "markdown",
   "id": "c53d3f0c",
   "metadata": {},
   "source": [
    "# Difference between one nailed and two nailed test"
   ]
  },
  {
   "cell_type": "code",
   "execution_count": null,
   "id": "fc18c3b6",
   "metadata": {},
   "outputs": [],
   "source": [
    "#One tailed hypotheses test are known as one-sided tests because we can test for result in only one direction."
   ]
  },
  {
   "cell_type": "code",
   "execution_count": null,
   "id": "1fa4bbf2",
   "metadata": {},
   "outputs": [],
   "source": [
    "#While two-tailed hypotheses tests are also known as two sided tests because we can test for effect in both directions."
   ]
  },
  {
   "cell_type": "code",
   "execution_count": null,
   "id": "745666cc",
   "metadata": {},
   "outputs": [],
   "source": [
    "#In one-tailed test we use an alpha of 5% and each distribution has one shaded region of 5%."
   ]
  },
  {
   "cell_type": "code",
   "execution_count": null,
   "id": "fb2f68a8",
   "metadata": {},
   "outputs": [],
   "source": [
    "#While in two tailed tests we use an alpha of 5% and distribution has two shaded regions of 2.5%*2=5%."
   ]
  },
  {
   "cell_type": "code",
   "execution_count": null,
   "id": "fa5dfd6e",
   "metadata": {},
   "outputs": [],
   "source": [
    "#In one tailed test alternate hypotheses is mean difference is greater than 0 and in null hypotheses mean difference\n",
    "# is equal or less than 0."
   ]
  },
  {
   "cell_type": "code",
   "execution_count": null,
   "id": "4a213d59",
   "metadata": {},
   "outputs": [],
   "source": [
    "#In two tailed test in null hypotheses the result equals 0 and in alternate hypotheses the result is not equal to 0. "
   ]
  },
  {
   "cell_type": "markdown",
   "id": "3d120ebb",
   "metadata": {},
   "source": [
    "# Que no 3 Type 1 error and Type 2 error"
   ]
  },
  {
   "cell_type": "code",
   "execution_count": null,
   "id": "f915f93d",
   "metadata": {},
   "outputs": [],
   "source": [
    "#Type 1 error is acceptance of alternate and rejection of null hypotheses that is actually false positive result."
   ]
  },
  {
   "cell_type": "code",
   "execution_count": null,
   "id": "77ab9345",
   "metadata": {},
   "outputs": [],
   "source": [
    "#While type 2 error is acceptance of null hypotheses that is actually false negative result. "
   ]
  },
  {
   "cell_type": "code",
   "execution_count": null,
   "id": "7c15f55b",
   "metadata": {},
   "outputs": [],
   "source": [
    "#In type 1 error p value is lower than significant value which means our result is consistent with alternative hyopotheses."
   ]
  },
  {
   "cell_type": "code",
   "execution_count": null,
   "id": "c81a7fd5",
   "metadata": {},
   "outputs": [],
   "source": [
    "#While in type 2 error p value is higher than significant value means our result is considered non-significant is \n",
    "# consistent with null hypotheses. "
   ]
  },
  {
   "cell_type": "code",
   "execution_count": null,
   "id": "a4d097cb",
   "metadata": {},
   "outputs": [],
   "source": [
    "#Type 1 error example;After various discoveries we found tiger is endangered but we didn't consider it as endangered.\n",
    "#In this there is acceptance of alternate hypotheses where tiger is not endangered but after various discoveries we \n",
    "#found it endangered."
   ]
  },
  {
   "cell_type": "code",
   "execution_count": null,
   "id": "33d59b09",
   "metadata": {},
   "outputs": [],
   "source": [
    "#Type 2 error example;A guilty person is not convicted so in this case there is failure to reject null hypotheses that is \n",
    "#actually false."
   ]
  },
  {
   "cell_type": "markdown",
   "id": "bd613e04",
   "metadata": {},
   "source": [
    "# Queno 4 and 6"
   ]
  },
  {
   "cell_type": "markdown",
   "id": "248b7b65",
   "metadata": {},
   "source": [
    "# Bayes theorem"
   ]
  },
  {
   "cell_type": "code",
   "execution_count": null,
   "id": "2388b3cb",
   "metadata": {},
   "outputs": [],
   "source": [
    "# Bayes theorem describes probability of occurence of event for given condition."
   ]
  },
  {
   "cell_type": "code",
   "execution_count": null,
   "id": "d22c15c4",
   "metadata": {},
   "outputs": [],
   "source": [
    "#Formula for bayes theorem are;\n",
    "#P(A/B)=P(A).P(B/A)/P(B)\n",
    "#P(A)=probability of A occuring\n",
    "#P(B)=probability of B occuring\n",
    "#P(A/B)=probability of A given B.\n",
    "#P(B/A)=probability of B given A."
   ]
  },
  {
   "cell_type": "code",
   "execution_count": null,
   "id": "4626d075",
   "metadata": {},
   "outputs": [],
   "source": [
    "#Example of bayes theorem;\n",
    "#Let there are two bags that is A and B\n",
    "#Bag A contains 4 white and 6 black balls.\n",
    "#Bag B contains 4 white and 3 black balls.\n",
    "#Now one ball is drawn random at one bags and it is found to be black, what is probability that it was drawn from bagA. "
   ]
  },
  {
   "cell_type": "code",
   "execution_count": 8,
   "id": "3e406031",
   "metadata": {},
   "outputs": [],
   "source": [
    "#so now lets calculate;\n",
    "#PE1==1/2\n",
    "#PE2==1/2\n",
    "#E1 be the event of choosing bag A and E2 be the event of choosing bag B is equal to 1/2 as it is about only\n",
    "#bag A.\n",
    "#P(A/E1)==6/10 \n",
    "#A be the event of drawing black ball from bag A.\n",
    "#P(A/E2)==3/7 \n",
    "#A be the event of drawing black ball from bag B.\n",
    "#P(E1/A)==PE1*P(A/E1)/PE1*P(A/E1)+P(E2)*P(A/E2)\n",
    "#So after calculating we got result 7/12\n",
    "#so by using ba\n",
    "\n"
   ]
  },
  {
   "cell_type": "markdown",
   "id": "8c9ea81a",
   "metadata": {},
   "source": [
    "# Queno 5.Confidence Interval"
   ]
  },
  {
   "cell_type": "code",
   "execution_count": null,
   "id": "d1feb505",
   "metadata": {},
   "outputs": [],
   "source": [
    "#Confidence interval in statistics refers to the probability that a population parameter will fall between estimated set\n",
    "# of values."
   ]
  },
  {
   "cell_type": "code",
   "execution_count": null,
   "id": "2abb02c7",
   "metadata": {},
   "outputs": [],
   "source": [
    "#For example if a point estimate is generated from statistical model of 20 then with 95% confidence interval of 18 to 22\n",
    "# then it can be inferred that 95% probbaility that true value falls within that range."
   ]
  },
  {
   "cell_type": "code",
   "execution_count": null,
   "id": "2a25316e",
   "metadata": {},
   "outputs": [],
   "source": [
    "#Confidence intervals measure the degree of uncertainity or certainity in a sampling method."
   ]
  },
  {
   "cell_type": "code",
   "execution_count": null,
   "id": "1fd4a333",
   "metadata": {},
   "outputs": [],
   "source": [
    "#We can take any number of probability limits,with most common being 95% or 99% confidence level."
   ]
  },
  {
   "cell_type": "code",
   "execution_count": null,
   "id": "548566db",
   "metadata": {},
   "outputs": [],
   "source": [
    "#For example; Suppose we get a sample of 50 people in states with their average age 35."
   ]
  },
  {
   "cell_type": "code",
   "execution_count": null,
   "id": "5530662f",
   "metadata": {},
   "outputs": [],
   "source": [
    "#Now we can estimate mean of age large number of population in state. "
   ]
  },
  {
   "cell_type": "code",
   "execution_count": null,
   "id": "ef2ca47a",
   "metadata": {},
   "outputs": [],
   "source": [
    "#If we take 95% confidence interval and suppose we get estimated mean from 33 to 37 by calculating margin of error."
   ]
  },
  {
   "cell_type": "code",
   "execution_count": null,
   "id": "69a20420",
   "metadata": {},
   "outputs": [],
   "source": [
    "#Then we can conclude with 95% probablity that estimated mean falls with in range of 33 to 37."
   ]
  },
  {
   "cell_type": "markdown",
   "id": "52e9eaa6",
   "metadata": {},
   "source": [
    "# Queno 7"
   ]
  },
  {
   "cell_type": "code",
   "execution_count": null,
   "id": "8df5a18c",
   "metadata": {},
   "outputs": [],
   "source": [
    "#so here we get confidence interval of 95% so z critical value at 95% is 1.96."
   ]
  },
  {
   "cell_type": "code",
   "execution_count": null,
   "id": "4aa95680",
   "metadata": {},
   "outputs": [],
   "source": [
    "#mean of sample is 50 and standard deviation is 5. "
   ]
  },
  {
   "cell_type": "code",
   "execution_count": null,
   "id": "338f6a33",
   "metadata": {},
   "outputs": [],
   "source": [
    "#so now we have to calculate standard of error(sor)."
   ]
  },
  {
   "cell_type": "code",
   "execution_count": null,
   "id": "9214d022",
   "metadata": {},
   "outputs": [],
   "source": [
    "#So here sample size is not give so we cannot calculate standard of error."
   ]
  },
  {
   "cell_type": "code",
   "execution_count": null,
   "id": "60e2b904",
   "metadata": {},
   "outputs": [],
   "source": [
    "#so now we can take sample size of 50 which is more than 30 and for this we have to use z value which is 1.96."
   ]
  },
  {
   "cell_type": "code",
   "execution_count": null,
   "id": "1d201ae1",
   "metadata": {},
   "outputs": [],
   "source": [
    "#sor=5/sqrt sample size\n",
    "#we get sor=0.70"
   ]
  },
  {
   "cell_type": "code",
   "execution_count": 1,
   "id": "e0789f89",
   "metadata": {},
   "outputs": [
    {
     "data": {
      "text/plain": [
       "1.3719999999999999"
      ]
     },
     "execution_count": 1,
     "metadata": {},
     "output_type": "execute_result"
    }
   ],
   "source": [
    "#now calculate margin of error(mor)\n",
    "mor=0.70*1.96\n",
    "mor"
   ]
  },
  {
   "cell_type": "code",
   "execution_count": 2,
   "id": "c700691a",
   "metadata": {},
   "outputs": [
    {
     "data": {
      "text/plain": [
       "48.628"
      ]
     },
     "execution_count": 2,
     "metadata": {},
     "output_type": "execute_result"
    }
   ],
   "source": [
    "mean=50\n",
    "#we have to calculate estimated mean\n",
    "lower=mean-mor\n",
    "lower"
   ]
  },
  {
   "cell_type": "code",
   "execution_count": 3,
   "id": "16f7d3ab",
   "metadata": {},
   "outputs": [
    {
     "data": {
      "text/plain": [
       "51.372"
      ]
     },
     "execution_count": 3,
     "metadata": {},
     "output_type": "execute_result"
    }
   ],
   "source": [
    "upper=mean+mor\n",
    "upper"
   ]
  },
  {
   "cell_type": "code",
   "execution_count": null,
   "id": "01d3ba0f",
   "metadata": {},
   "outputs": [],
   "source": [
    "#so we conclude with 95% confidence level that estimated mean would be between 48.62 to 51.37."
   ]
  },
  {
   "cell_type": "markdown",
   "id": "d64401e2",
   "metadata": {},
   "source": [
    "# Que no 8"
   ]
  },
  {
   "cell_type": "markdown",
   "id": "d821d0aa",
   "metadata": {},
   "source": [
    "# Margin of Error"
   ]
  },
  {
   "cell_type": "code",
   "execution_count": null,
   "id": "f81d7e7f",
   "metadata": {},
   "outputs": [],
   "source": [
    "#Margin of error is a range of values above and below the actual results from survey."
   ]
  },
  {
   "cell_type": "code",
   "execution_count": null,
   "id": "4e124e21",
   "metadata": {},
   "outputs": [],
   "source": [
    "#For example if we have to estimate mean of population from given sample mean 50 and we got 3% as margin of error.\n",
    "#Then we can conclude that mean of real population is between 47% and 53% with 3% of margin of error. "
   ]
  },
  {
   "cell_type": "code",
   "execution_count": null,
   "id": "72b357e6",
   "metadata": {},
   "outputs": [],
   "source": [
    "#In case of Margin of error as sample size increases the margin of error decreases.\n",
    "#lets see it with an example of mean estimation of both samplesize of 20 and samplesize of 100 with 95% confidence interval."
   ]
  },
  {
   "cell_type": "code",
   "execution_count": null,
   "id": "f4eed9a5",
   "metadata": {},
   "outputs": [],
   "source": [
    "sample_size=20\n",
    "mean=50\n",
    "standard_deviation=5\n",
    "standard_error=5/sqrt20=1.11\n",
    "critical_zvalue=1.96 #critical z value is 1.96 for 95% confidence_level.\n",
    "margin of error=2.17"
   ]
  },
  {
   "cell_type": "code",
   "execution_count": null,
   "id": "ea8baf07",
   "metadata": {},
   "outputs": [],
   "source": [
    "sample_size=100\n",
    "mean=50\n",
    "standard_deviation=5\n",
    "standard_error=5/sqrt100=0.5\n",
    "crtical_zvalue=1.96 #critical_zvalue for 95% confidence_level\n",
    "margin of error=0.98 \n",
    "#so we see that sample with larger size has less margin of error and sample with smaller size has large margin of error."
   ]
  },
  {
   "cell_type": "markdown",
   "id": "22b12cb4",
   "metadata": {},
   "source": [
    "# Queno 9"
   ]
  },
  {
   "cell_type": "markdown",
   "id": "8f7fe5f9",
   "metadata": {},
   "source": [
    "# Z score"
   ]
  },
  {
   "cell_type": "code",
   "execution_count": null,
   "id": "b2c28452",
   "metadata": {},
   "outputs": [],
   "source": [
    "#Formulae for z score is;\n",
    "#z=z-score\n",
    "#x=the value being evaluated\n",
    "#m=mean\n",
    "#s=standard deviation\n",
    "#z=(x-m)/s"
   ]
  },
  {
   "cell_type": "code",
   "execution_count": 2,
   "id": "ee713ded",
   "metadata": {},
   "outputs": [
    {
     "data": {
      "text/plain": [
       "1.0"
      ]
     },
     "execution_count": 2,
     "metadata": {},
     "output_type": "execute_result"
    }
   ],
   "source": [
    "x=75\n",
    "m=70\n",
    "s=5\n",
    "z=(x-m)/s\n",
    "z"
   ]
  },
  {
   "cell_type": "code",
   "execution_count": null,
   "id": "afb1aec5",
   "metadata": {},
   "outputs": [],
   "source": [
    "#So in this case z score is 1 which is positive because the value lies above the mean."
   ]
  },
  {
   "cell_type": "markdown",
   "id": "8814cafd",
   "metadata": {},
   "source": [
    "# Que no 10"
   ]
  },
  {
   "cell_type": "code",
   "execution_count": 1,
   "id": "6a105d3e",
   "metadata": {},
   "outputs": [
    {
     "data": {
      "text/plain": [
       "array([ 5.4577775 ,  4.60115864,  6.3152263 , 10.57151272,  6.74313996,\n",
       "        2.19472768, 12.24775089,  7.67695213,  6.93747093,  1.20339195,\n",
       "        7.42378302,  3.98801845,  3.7071356 ,  4.21973732,  5.65558925,\n",
       "        9.17791563, 11.59636743,  6.06287954,  3.08314933,  6.64860027,\n",
       "        3.86113839, 11.39933872,  6.25317828,  7.99600507,  5.1199882 ,\n",
       "        5.63299435,  7.95427683,  5.09821715,  5.59320563,  8.90226468,\n",
       "        0.91885639,  5.03412191,  2.06507877,  9.00426971,  4.16957193,\n",
       "        6.90970189,  4.9975278 , 10.93457679,  4.82899012,  7.71386225,\n",
       "        7.57343337,  5.17203924,  9.39679236, 10.3431696 ,  9.36354909,\n",
       "        8.57338936,  3.59295355,  6.6312191 ,  9.16327845,  7.5416366 ])"
      ]
     },
     "execution_count": 1,
     "metadata": {},
     "output_type": "execute_result"
    }
   ],
   "source": [
    "#So for this we have to generate sample of given mean and standarddeviation;\n",
    "import numpy as np\n",
    "#mean=loc\n",
    "#scale=standarddeviation\n",
    "#size=sample size\n",
    "samplewl=np.random.normal(loc=6,scale=2.5,size=50)\n",
    "samplewl"
   ]
  },
  {
   "cell_type": "code",
   "execution_count": null,
   "id": "eec49914",
   "metadata": {},
   "outputs": [],
   "source": [
    "#now we have to conduct one sample t test for determining p value."
   ]
  },
  {
   "cell_type": "code",
   "execution_count": 7,
   "id": "b5c2aa05",
   "metadata": {},
   "outputs": [],
   "source": [
    "import scipy.stats as stats\n",
    "t_statistic,p_value=stats.ttest_1samp(a=samplewl,popmean=6)"
   ]
  },
  {
   "cell_type": "code",
   "execution_count": 6,
   "id": "6fe58449",
   "metadata": {},
   "outputs": [
    {
     "data": {
      "text/plain": [
       "-0.7818423101942854"
      ]
     },
     "execution_count": 6,
     "metadata": {},
     "output_type": "execute_result"
    }
   ],
   "source": [
    "t_statistic"
   ]
  },
  {
   "cell_type": "code",
   "execution_count": 7,
   "id": "67387993",
   "metadata": {},
   "outputs": [
    {
     "data": {
      "text/plain": [
       "0.43806897603908623"
      ]
     },
     "execution_count": 7,
     "metadata": {},
     "output_type": "execute_result"
    }
   ],
   "source": [
    "p_value"
   ]
  },
  {
   "cell_type": "code",
   "execution_count": null,
   "id": "9bbdfe61",
   "metadata": {},
   "outputs": [],
   "source": [
    "#so here we get p value 0.438 which is greater than alpha that is 0.05 so here is rejection of alternate hypotheses and \n",
    "#acceptance of null hypotheses."
   ]
  },
  {
   "cell_type": "code",
   "execution_count": null,
   "id": "56a9cddc",
   "metadata": {},
   "outputs": [],
   "source": [
    "#So we can conclude that after observation the expected mean of sample is equal to the specified mean of sample that is 6."
   ]
  },
  {
   "cell_type": "markdown",
   "id": "9f442ad9",
   "metadata": {},
   "source": [
    "# Queno 11"
   ]
  },
  {
   "cell_type": "code",
   "execution_count": 11,
   "id": "106e7b45",
   "metadata": {},
   "outputs": [],
   "source": [
    "#Calculate number of people satisfied with their job \n",
    "#no_of_people=65% that is sample mean is 0.65\n",
    "#confidence_level=95%=0.95\n",
    "#alpha=1-confidence_level=0.05=5%"
   ]
  },
  {
   "cell_type": "code",
   "execution_count": null,
   "id": "f5f3b110",
   "metadata": {},
   "outputs": [],
   "source": [
    "#so the standard critical value at 95% confidence level in normal distribution table is 1.96"
   ]
  },
  {
   "cell_type": "code",
   "execution_count": null,
   "id": "abafaef2",
   "metadata": {},
   "outputs": [],
   "source": [
    "#lowerlimit=mean of sample - standard critical value sqrt mean of sample*(1-mean of sample)/sample size"
   ]
  },
  {
   "cell_type": "code",
   "execution_count": null,
   "id": "8187f1f2",
   "metadata": {},
   "outputs": [],
   "source": [
    "#so in this way lower limit=0.65-1.96 sqrt 0.65*(1-0.65)/500\n",
    "#we got answer 0.648\n",
    "#that is 64.8%."
   ]
  },
  {
   "cell_type": "code",
   "execution_count": null,
   "id": "c4d85c17",
   "metadata": {},
   "outputs": [],
   "source": [
    "#now upper limit=mean of sample + standard critical value sqrt mean of sample*(1-mean of sample)/sample size"
   ]
  },
  {
   "cell_type": "code",
   "execution_count": null,
   "id": "296a0521",
   "metadata": {},
   "outputs": [],
   "source": [
    "#so in this way upper limit=0.65+1.96 sqrt 0.65*(1-0.65)/500\n",
    "#we got answer 0.651.\n",
    "#that is 65.1"
   ]
  },
  {
   "cell_type": "code",
   "execution_count": null,
   "id": "441d96d7",
   "metadata": {},
   "outputs": [],
   "source": [
    "#So we can conclude that between 64.8% to 65.1% people aresatisfied with 95% confidence level."
   ]
  },
  {
   "cell_type": "markdown",
   "id": "1907f3e2",
   "metadata": {},
   "source": [
    "# Queno 12"
   ]
  },
  {
   "cell_type": "code",
   "execution_count": 2,
   "id": "0da0cb9e",
   "metadata": {},
   "outputs": [
    {
     "data": {
      "text/plain": [
       "array([88.55363594, 81.85374614, 84.05455485, 89.06192535, 82.83091548,\n",
       "       77.93614074, 98.158198  , 89.01000554, 76.88300036, 83.08475872,\n",
       "       79.2572832 , 80.89789007, 88.75454009, 80.90079218, 87.18843032,\n",
       "       81.70978678, 85.13311079, 92.13999647, 94.17364193, 70.57418378,\n",
       "       75.00057131, 87.83161392, 78.59073819, 79.85131319, 85.39558103,\n",
       "       85.75743895, 84.89980034, 81.35834947, 99.0650608 ])"
      ]
     },
     "execution_count": 2,
     "metadata": {},
     "output_type": "execute_result"
    }
   ],
   "source": [
    "#This is a case of two sample t test\n",
    "#Lets createtwo sample sampleA and sampleB and sample size should be less than 30 as it would be appropriate for t test.\n",
    "sampleA=np.random.normal(loc=85,scale=6,size=29)#loc is mean and scale is standard deviation\n",
    "sampleA"
   ]
  },
  {
   "cell_type": "code",
   "execution_count": 3,
   "id": "50bd77c4",
   "metadata": {},
   "outputs": [
    {
     "data": {
      "text/plain": [
       "array([73.95392478, 87.74567688, 82.13869933, 86.87518722, 81.97571122,\n",
       "       84.30558469, 81.71563966, 80.08089654, 80.10814466, 84.56011567,\n",
       "       78.31192818, 80.56065891, 78.2746176 , 85.12101481, 78.43616113,\n",
       "       85.47400232, 86.79874007, 77.30290684, 72.05336966, 74.35241183,\n",
       "       77.94923989, 76.26033924, 87.00386608, 71.78176964, 86.93218922,\n",
       "       74.44362483, 80.55815573, 87.25586958, 84.95734491])"
      ]
     },
     "execution_count": 3,
     "metadata": {},
     "output_type": "execute_result"
    }
   ],
   "source": [
    "sampleB=np.random.normal(loc=82,scale=5,size=29)\n",
    "sampleB"
   ]
  },
  {
   "cell_type": "code",
   "execution_count": 4,
   "id": "816fc61c",
   "metadata": {},
   "outputs": [],
   "source": [
    "#so for this we have to import some library\n",
    "from statsmodels.stats.weightstats import ttest_ind\n",
    "import pingouin as pg"
   ]
  },
  {
   "cell_type": "code",
   "execution_count": 5,
   "id": "6c8016b5",
   "metadata": {},
   "outputs": [
    {
     "data": {
      "text/html": [
       "<div>\n",
       "<style scoped>\n",
       "    .dataframe tbody tr th:only-of-type {\n",
       "        vertical-align: middle;\n",
       "    }\n",
       "\n",
       "    .dataframe tbody tr th {\n",
       "        vertical-align: top;\n",
       "    }\n",
       "\n",
       "    .dataframe thead th {\n",
       "        text-align: right;\n",
       "    }\n",
       "</style>\n",
       "<table border=\"1\" class=\"dataframe\">\n",
       "  <thead>\n",
       "    <tr style=\"text-align: right;\">\n",
       "      <th></th>\n",
       "      <th>T</th>\n",
       "      <th>dof</th>\n",
       "      <th>alternative</th>\n",
       "      <th>p-val</th>\n",
       "      <th>CI95%</th>\n",
       "      <th>cohen-d</th>\n",
       "      <th>BF10</th>\n",
       "      <th>power</th>\n",
       "    </tr>\n",
       "  </thead>\n",
       "  <tbody>\n",
       "    <tr>\n",
       "      <th>T-test</th>\n",
       "      <td>2.346942</td>\n",
       "      <td>52.186955</td>\n",
       "      <td>two-sided</td>\n",
       "      <td>0.022758</td>\n",
       "      <td>[0.51, 6.56]</td>\n",
       "      <td>0.616337</td>\n",
       "      <td>2.522</td>\n",
       "      <td>0.63556</td>\n",
       "    </tr>\n",
       "  </tbody>\n",
       "</table>\n",
       "</div>"
      ],
      "text/plain": [
       "               T        dof alternative     p-val         CI95%   cohen-d  \\\n",
       "T-test  2.346942  52.186955   two-sided  0.022758  [0.51, 6.56]  0.616337   \n",
       "\n",
       "         BF10    power  \n",
       "T-test  2.522  0.63556  "
      ]
     },
     "execution_count": 5,
     "metadata": {},
     "output_type": "execute_result"
    }
   ],
   "source": [
    "result=pg.ttest(sampleA,sampleB,correction=True)\n",
    "result"
   ]
  },
  {
   "cell_type": "code",
   "execution_count": null,
   "id": "4bad9033",
   "metadata": {},
   "outputs": [],
   "source": [
    "#so here we got p value 0.02 which is greater than alpha that is 0.01 which implies that mean score of student in sampleA\n",
    "# is statistically not different from mean score of sampleB and it is a null hypotheses."
   ]
  },
  {
   "cell_type": "markdown",
   "id": "c58a39a4",
   "metadata": {},
   "source": [
    "# Que no 13"
   ]
  },
  {
   "cell_type": "code",
   "execution_count": null,
   "id": "c4a649fb",
   "metadata": {},
   "outputs": [],
   "source": [
    "#Calculating 90percent confidence level of population mean from given sample.\n",
    "#sample mean=65\n",
    "#confidence level=0.90=90%\n",
    "#alpha=0.10=10%"
   ]
  },
  {
   "cell_type": "code",
   "execution_count": null,
   "id": "b4d5848a",
   "metadata": {},
   "outputs": [],
   "source": [
    "#now we have to calculate lower limit and upper limit\n",
    "#so standard critical value at 90% confidence lvel is 1.645."
   ]
  },
  {
   "cell_type": "code",
   "execution_count": null,
   "id": "169eed06",
   "metadata": {},
   "outputs": [],
   "source": [
    "#lowerlimit=mean of sample - standard critical value *standard deviation/sqrtsamplesize"
   ]
  },
  {
   "cell_type": "code",
   "execution_count": null,
   "id": "0b5b1dcc",
   "metadata": {},
   "outputs": [],
   "source": [
    "#lowerlimit=65-1.645*8/sqrt50\n",
    "#63.1"
   ]
  },
  {
   "cell_type": "code",
   "execution_count": null,
   "id": "38399311",
   "metadata": {},
   "outputs": [],
   "source": [
    "#upper limit=mean of sample - standard critical value *standard deviation/sqrtsamplesize\n"
   ]
  },
  {
   "cell_type": "code",
   "execution_count": null,
   "id": "bdc2130f",
   "metadata": {},
   "outputs": [],
   "source": [
    "#upper limit=65+1.645*8/sqrt50\n",
    "#66.86"
   ]
  },
  {
   "cell_type": "code",
   "execution_count": null,
   "id": "0fb1cd43",
   "metadata": {},
   "outputs": [],
   "source": [
    "#Hence the true population mean at 90% confidence interval is between 63.1 and 66.86. "
   ]
  },
  {
   "cell_type": "markdown",
   "id": "f8689a61",
   "metadata": {},
   "source": [
    "# Queno 14"
   ]
  },
  {
   "cell_type": "code",
   "execution_count": 6,
   "id": "dffd3447",
   "metadata": {},
   "outputs": [
    {
     "data": {
      "text/plain": [
       "array([0.20267187, 0.19377541, 0.25363808, 0.19819436, 0.20323779,\n",
       "       0.28999822, 0.24146194, 0.21846933, 0.21604436, 0.17158404,\n",
       "       0.17506957, 0.21208574, 0.22843891, 0.21229065, 0.23734964,\n",
       "       0.20373049, 0.31077386, 0.16982222, 0.23897889, 0.25385688,\n",
       "       0.26430232, 0.25208314, 0.30873768, 0.19966039, 0.22566998,\n",
       "       0.20597547, 0.22617149, 0.25482181, 0.22007637, 0.22298073])"
      ]
     },
     "execution_count": 6,
     "metadata": {},
     "output_type": "execute_result"
    }
   ],
   "source": [
    "#First of all create a sample of reaction time\n",
    "samplert=np.random.normal(loc=0.25,scale=0.05,size=30)\n",
    "samplert"
   ]
  },
  {
   "cell_type": "code",
   "execution_count": null,
   "id": "f960e998",
   "metadata": {},
   "outputs": [],
   "source": [
    "#now we can use one sample t test with use of python"
   ]
  },
  {
   "cell_type": "code",
   "execution_count": 8,
   "id": "fa3ec655",
   "metadata": {},
   "outputs": [],
   "source": [
    "t_statistic,p_value=stats.ttest_1samp(a=samplert,popmean=0.25)"
   ]
  },
  {
   "cell_type": "code",
   "execution_count": 9,
   "id": "d885b64b",
   "metadata": {},
   "outputs": [
    {
     "data": {
      "text/plain": [
       "-3.5210906891289873"
      ]
     },
     "execution_count": 9,
     "metadata": {},
     "output_type": "execute_result"
    }
   ],
   "source": [
    "t_statistic"
   ]
  },
  {
   "cell_type": "code",
   "execution_count": 10,
   "id": "33ca6bc8",
   "metadata": {},
   "outputs": [
    {
     "data": {
      "text/plain": [
       "0.0014421683566927584"
      ]
     },
     "execution_count": 10,
     "metadata": {},
     "output_type": "execute_result"
    }
   ],
   "source": [
    "p_value"
   ]
  },
  {
   "cell_type": "code",
   "execution_count": null,
   "id": "5e736703",
   "metadata": {},
   "outputs": [],
   "source": [
    "#alpha=1-confidence level=1-0.90=0.10 ,that is 10% which is greater than p value and there is rejection of null hypotheses\n",
    "#in favour of alternate hypothesis."
   ]
  },
  {
   "cell_type": "code",
   "execution_count": null,
   "id": "b365ed3f",
   "metadata": {},
   "outputs": [],
   "source": [
    "#so we can conclude that mean of sample is not equal to 0.25 so caffein may have signigicant effect or not \n",
    "#on reaction time at 90% confidence level."
   ]
  },
  {
   "cell_type": "code",
   "execution_count": null,
   "id": "88a0c436",
   "metadata": {},
   "outputs": [],
   "source": []
  },
  {
   "cell_type": "code",
   "execution_count": null,
   "id": "0f7aa94d",
   "metadata": {},
   "outputs": [],
   "source": []
  }
 ],
 "metadata": {
  "kernelspec": {
   "display_name": "Python 3 (ipykernel)",
   "language": "python",
   "name": "python3"
  },
  "language_info": {
   "codemirror_mode": {
    "name": "ipython",
    "version": 3
   },
   "file_extension": ".py",
   "mimetype": "text/x-python",
   "name": "python",
   "nbconvert_exporter": "python",
   "pygments_lexer": "ipython3",
   "version": "3.11.5"
  }
 },
 "nbformat": 4,
 "nbformat_minor": 5
}
