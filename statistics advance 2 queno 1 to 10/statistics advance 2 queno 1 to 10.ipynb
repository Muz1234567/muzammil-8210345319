{
 "cells": [
  {
   "cell_type": "markdown",
   "id": "86c3fb73",
   "metadata": {},
   "source": [
    "# Queno 1"
   ]
  },
  {
   "cell_type": "markdown",
   "id": "5d3abfc9",
   "metadata": {},
   "source": [
    "# Probability Mass Function"
   ]
  },
  {
   "cell_type": "code",
   "execution_count": null,
   "id": "5b9280d5",
   "metadata": {},
   "outputs": [],
   "source": [
    "#Probability mass function is used for discrete random variable."
   ]
  },
  {
   "cell_type": "code",
   "execution_count": null,
   "id": "2679aabd",
   "metadata": {},
   "outputs": [],
   "source": [
    "#It is evaluated at an exact point."
   ]
  },
  {
   "cell_type": "code",
   "execution_count": null,
   "id": "b2b36818",
   "metadata": {},
   "outputs": [],
   "source": [
    "#The formulae for probability mass function is f(x)=P(X=x)."
   ]
  },
  {
   "cell_type": "code",
   "execution_count": null,
   "id": "accb7d98",
   "metadata": {},
   "outputs": [],
   "source": [
    "#To determine the cumulative distribution frequency,the probability mass function needs to be summed up to x values."
   ]
  },
  {
   "cell_type": "code",
   "execution_count": null,
   "id": "c1c491cf",
   "metadata": {},
   "outputs": [],
   "source": [
    "#Example of Probability mass function is;suppose a coin is tossed twice and sample space recorded as S=[HH,HT,TH,TT]."
   ]
  },
  {
   "cell_type": "code",
   "execution_count": null,
   "id": "ba77c45e",
   "metadata": {},
   "outputs": [],
   "source": [
    "#Now the probability of getting head needs to be determined that is X be the random variable that shows how many heads obtained."
   ]
  },
  {
   "cell_type": "code",
   "execution_count": null,
   "id": "2c5f58dc",
   "metadata": {},
   "outputs": [],
   "source": [
    "#X can take on values 0,1,2 the probability that X will be equal to 1 is 0.5 or the probability mass function of X evaluated at 1 will be 0.5."
   ]
  },
  {
   "cell_type": "markdown",
   "id": "577af651",
   "metadata": {},
   "source": [
    "# Probability Density function"
   ]
  },
  {
   "cell_type": "code",
   "execution_count": null,
   "id": "09b1ae40",
   "metadata": {},
   "outputs": [],
   "source": [
    "#It is used for continous random variable."
   ]
  },
  {
   "cell_type": "code",
   "execution_count": null,
   "id": "005f7553",
   "metadata": {},
   "outputs": [],
   "source": [
    "#It is evaluated between a range of values."
   ]
  },
  {
   "cell_type": "code",
   "execution_count": null,
   "id": "57977abe",
   "metadata": {},
   "outputs": [],
   "source": [
    "#The formulae for probability density function is given as p(X)=dF(x)/dx=F'(x),where F(x) is cumulative distribution function. "
   ]
  },
  {
   "cell_type": "code",
   "execution_count": null,
   "id": "e28249ff",
   "metadata": {},
   "outputs": [],
   "source": [
    "#To determine cumulative distribution frequency the probabaility density function needs to be integrated from -infinity to x."
   ]
  },
  {
   "cell_type": "code",
   "execution_count": null,
   "id": "8da60f55",
   "metadata": {},
   "outputs": [],
   "source": [
    "#Now let us consider an example with PDF,f(x)=x+3,when 1< x < = 3.now we have to find P(2<X<3)."
   ]
  },
  {
   "cell_type": "code",
   "execution_count": null,
   "id": "9844bc36",
   "metadata": {},
   "outputs": [],
   "source": [
    "#Now integrating x+3 within the limits 2 and 3 gives answer 5.5."
   ]
  },
  {
   "cell_type": "markdown",
   "id": "9d2394da",
   "metadata": {},
   "source": [
    "# Queno 2"
   ]
  },
  {
   "cell_type": "markdown",
   "id": "e630d041",
   "metadata": {},
   "source": [
    "# Cumulative Density Function"
   ]
  },
  {
   "cell_type": "code",
   "execution_count": null,
   "id": "5906e749",
   "metadata": {},
   "outputs": [],
   "source": [
    "#Cumulative distribution function is used to describe the probability distribution of random variables."
   ]
  },
  {
   "cell_type": "code",
   "execution_count": null,
   "id": "d2e6d942",
   "metadata": {},
   "outputs": [],
   "source": [
    "#It can be used to describe probability of discrete,continous or mixed variable."
   ]
  },
  {
   "cell_type": "code",
   "execution_count": null,
   "id": "6091ecfe",
   "metadata": {},
   "outputs": [],
   "source": [
    "#The cumulative density function of random variable to be calculated at point x is represented as Fx(X)."
   ]
  },
  {
   "cell_type": "code",
   "execution_count": null,
   "id": "d6129219",
   "metadata": {},
   "outputs": [],
   "source": [
    "#Where X is probability that takes a value less than or equal to x and that lies in semi-closed interval(a,b],where a<b in case of discrete variable."
   ]
  },
  {
   "cell_type": "code",
   "execution_count": null,
   "id": "44d01b00",
   "metadata": {},
   "outputs": [],
   "source": [
    "#Now with simple example we know the probability of getting an outcome by rolling a six-sided die is given as;\n",
    "#probability of getting 1=p(X<_1)=1/6\n",
    "#probability of getting 2=p(X<_2)=2/6\n",
    "#probability of getting 3=P(X<_3)=3/6\n",
    "#probability of getting 4=P(X<_4)=4/6\n",
    "#probability of getting 5=P(X<_5)=5/6\n",
    "#probability of getting 6=P(X<_6)=6/6=1\n",
    "#So in this way it is proved that probability value always lies between 0 and 1 and it is non-decreasing and right continous in nature."
   ]
  },
  {
   "cell_type": "markdown",
   "id": "b1e7f276",
   "metadata": {},
   "source": [
    "# Queno 3"
   ]
  },
  {
   "cell_type": "code",
   "execution_count": null,
   "id": "cba80207",
   "metadata": {},
   "outputs": [],
   "source": [
    "#Some examples of situation where normal distribution is used as a model are;\n",
    "#1.Measuring blood pressure\n",
    "#Normal distribution data used as blood pressure reading of model person in general that is 100-130 diastolic and 60-80 sys.\n",
    "#2.Height of the people\n",
    "#Most of the people in a specificpopulation are of average height as very small number of people are extremely short or extremely small.\n",
    "#therefore it follows normal distribution."
   ]
  },
  {
   "cell_type": "code",
   "execution_count": null,
   "id": "df51d16a",
   "metadata": {},
   "outputs": [],
   "source": [
    "#so with the in python we will see how parameter change affect shape and size of normal distribution. "
   ]
  },
  {
   "cell_type": "code",
   "execution_count": 1,
   "id": "ce012c97",
   "metadata": {},
   "outputs": [],
   "source": [
    "from scipy import stats\n",
    "#first of all import stats from scipy"
   ]
  },
  {
   "cell_type": "code",
   "execution_count": 4,
   "id": "ac10480d",
   "metadata": {},
   "outputs": [],
   "source": [
    "#now take parameters mean=30,standard deviation=5\n",
    "mean=30\n",
    "standard_deviation=5\n",
    "data=stats.norm(loc=mean,scale=standard_deviation)\n"
   ]
  },
  {
   "cell_type": "code",
   "execution_count": 6,
   "id": "8e349a04",
   "metadata": {},
   "outputs": [
    {
     "data": {
      "text/plain": [
       "array([32.73714688, 26.61974739, 29.73931631, 30.98549636, 26.4911322 ,\n",
       "       32.160677  , 32.8741378 , 17.88580498, 37.01956152, 30.96536195,\n",
       "       35.23830071, 31.76933483, 33.60201816, 34.26948905, 33.71552619,\n",
       "       23.71673208, 30.45841819, 38.0526446 , 35.62049535, 33.57501705])"
      ]
     },
     "execution_count": 6,
     "metadata": {},
     "output_type": "execute_result"
    }
   ],
   "source": [
    "#now create sample\n",
    "sample=data.rvs(size=20)\n",
    "sample"
   ]
  },
  {
   "cell_type": "code",
   "execution_count": 7,
   "id": "409c8fd0",
   "metadata": {},
   "outputs": [],
   "source": [
    "# in the same way after changing parameter\n",
    "mean=50\n",
    "standard_deviation=8\n",
    "data=stats.norm(loc=mean,scale=standard_deviation)"
   ]
  },
  {
   "cell_type": "code",
   "execution_count": 9,
   "id": "73d3bccf",
   "metadata": {},
   "outputs": [
    {
     "data": {
      "text/plain": [
       "array([49.05029309, 57.32545622, 51.43575258, 48.13406314, 51.80178194,\n",
       "       36.92157612, 54.25304556, 58.30302521, 42.79274806, 48.56418349,\n",
       "       49.18581987, 48.12763864, 61.23955259, 61.42411097, 42.84097997,\n",
       "       50.15452533, 51.58344156, 57.57877635, 34.02925925, 58.31217534])"
      ]
     },
     "execution_count": 9,
     "metadata": {},
     "output_type": "execute_result"
    }
   ],
   "source": [
    "sample=data.rvs(size=20)\n",
    "sample"
   ]
  },
  {
   "cell_type": "code",
   "execution_count": null,
   "id": "93dc4f38",
   "metadata": {},
   "outputs": [],
   "source": [
    "#so in this way we can see change in the shape of sample after changing parameter that is mean and standard deviation."
   ]
  },
  {
   "cell_type": "markdown",
   "id": "6c8db981",
   "metadata": {},
   "source": [
    "# Queno 4"
   ]
  },
  {
   "cell_type": "markdown",
   "id": "68ed72bb",
   "metadata": {},
   "source": [
    "# Importance of Normal Distribution"
   ]
  },
  {
   "cell_type": "code",
   "execution_count": null,
   "id": "c9b34c48",
   "metadata": {},
   "outputs": [],
   "source": [
    "#The normal distribution is symmetric and has a skewness of zero."
   ]
  },
  {
   "cell_type": "code",
   "execution_count": null,
   "id": "a6662fd7",
   "metadata": {},
   "outputs": [],
   "source": [
    "#The skewness measures the symmetry of a distribution with respect to normal distribution."
   ]
  },
  {
   "cell_type": "code",
   "execution_count": null,
   "id": "91773df4",
   "metadata": {},
   "outputs": [],
   "source": [
    "#Normal distribution is an important probability distribution in math and statistics because many continous data in nature\n",
    "#and psychology display this bell-shaped curve when compiled and graphed."
   ]
  },
  {
   "cell_type": "code",
   "execution_count": null,
   "id": "89995fbe",
   "metadata": {},
   "outputs": [],
   "source": [
    "#Normal distribution is widely used in financing industries to examine price action of stocks and to account for returns in asset class."
   ]
  },
  {
   "cell_type": "markdown",
   "id": "c923ffe3",
   "metadata": {},
   "source": [
    "# Que no 5"
   ]
  },
  {
   "cell_type": "markdown",
   "id": "d1df2c61",
   "metadata": {},
   "source": [
    "# Bernauli Distribution"
   ]
  },
  {
   "cell_type": "code",
   "execution_count": null,
   "id": "9547879f",
   "metadata": {},
   "outputs": [],
   "source": [
    "#Bernauli distribution is a discrete probability distribution,meaning it's concerned with discrete random variables."
   ]
  },
  {
   "cell_type": "code",
   "execution_count": null,
   "id": "0be38447",
   "metadata": {},
   "outputs": [],
   "source": [
    "#A discrete random variable is one that has finite or countable number of possible values."
   ]
  },
  {
   "cell_type": "code",
   "execution_count": null,
   "id": "5f3409b1",
   "metadata": {},
   "outputs": [],
   "source": [
    "#Bernouli distribution applies to events that have one trial and two possible outcomes.\n",
    "#for example will student ramesh pass or fail in math test."
   ]
  },
  {
   "cell_type": "code",
   "execution_count": null,
   "id": "888321d3",
   "metadata": {},
   "outputs": [],
   "source": [
    "#So whenever we have an event that has only two possible outcomes,Bernouli distribution enables us to calculate probability of each outcome."
   ]
  },
  {
   "cell_type": "markdown",
   "id": "14fc3c71",
   "metadata": {},
   "source": [
    "# Difference between Berenouli and Binomial distribution"
   ]
  },
  {
   "cell_type": "code",
   "execution_count": null,
   "id": "65c9f99c",
   "metadata": {},
   "outputs": [],
   "source": [
    "#Bernouli distribution is a type of binomoal distribution."
   ]
  },
  {
   "cell_type": "code",
   "execution_count": null,
   "id": "302260e9",
   "metadata": {},
   "outputs": [],
   "source": [
    "#Bernouli distribution applies to events that have one trial and two possible outcomes."
   ]
  },
  {
   "cell_type": "code",
   "execution_count": null,
   "id": "18e71289",
   "metadata": {},
   "outputs": [],
   "source": [
    "#But when we have more han one trial for ex when we flip coin five times -the binomial distribution gives discrete\n",
    "#probability distribution of the no of 'successes' or 'failures'"
   ]
  },
  {
   "cell_type": "markdown",
   "id": "63e61d59",
   "metadata": {},
   "source": [
    "# Queno 6"
   ]
  },
  {
   "cell_type": "code",
   "execution_count": null,
   "id": "06158786",
   "metadata": {},
   "outputs": [],
   "source": [
    "#Create dataset of normal distribution with the help of python of mean=50 and standard deviation=10."
   ]
  },
  {
   "cell_type": "code",
   "execution_count": 3,
   "id": "90bbdfca",
   "metadata": {},
   "outputs": [
    {
     "data": {
      "text/plain": [
       "array([41.34399649, 45.46764715, 41.09314937, 39.17726939, 45.38206046,\n",
       "       49.86393017, 34.1356605 , 70.15908328, 51.13318347, 31.00646894,\n",
       "       55.09490967, 50.20262801, 32.55117018, 51.88872123, 55.77975558,\n",
       "       45.41994154, 46.18663258, 49.71239237, 63.17213294, 64.1688634 ,\n",
       "       59.85866472, 47.2975606 , 41.89790247, 57.38556366, 59.79277913,\n",
       "       54.89262678, 41.66330882, 42.72963127, 35.50171703, 35.53071302,\n",
       "       53.56951266])"
      ]
     },
     "execution_count": 3,
     "metadata": {},
     "output_type": "execute_result"
    }
   ],
   "source": [
    "#first of all import numpy\n",
    "import numpy as np\n",
    "Mean=50\n",
    "Standard_deviation=10\n",
    "size=31\n",
    "dataset=np.random.normal(Mean,Standard_deviation,size)\n",
    "dataset"
   ]
  },
  {
   "cell_type": "code",
   "execution_count": null,
   "id": "0dcc87c8",
   "metadata": {},
   "outputs": [],
   "source": [
    "#The probability of getting more than 60 in a dataset is very low only two times in 31 observation."
   ]
  },
  {
   "cell_type": "code",
   "execution_count": null,
   "id": "3cd974f4",
   "metadata": {},
   "outputs": [],
   "source": [
    "#Now another method is to find it by using z score"
   ]
  },
  {
   "cell_type": "code",
   "execution_count": null,
   "id": "cc61cc22",
   "metadata": {},
   "outputs": [],
   "source": [
    "#so we have to convert 60 in to z score or standard score by subtracting mean 50 from 60 we get 10 and then divide by standard\n",
    "#deviation 10 with 10 we get 1 as z score and its value 0.8413."
   ]
  },
  {
   "cell_type": "code",
   "execution_count": null,
   "id": "2c224645",
   "metadata": {},
   "outputs": [],
   "source": [
    "#The probability of score above 60 is very less in this case as it would be in the far right tail of the distribution."
   ]
  },
  {
   "cell_type": "markdown",
   "id": "4b73fcbc",
   "metadata": {},
   "source": [
    "# Queno 7"
   ]
  },
  {
   "cell_type": "markdown",
   "id": "8343737a",
   "metadata": {},
   "source": [
    "# Uniform Distribution"
   ]
  },
  {
   "cell_type": "code",
   "execution_count": null,
   "id": "c0418dc2",
   "metadata": {},
   "outputs": [],
   "source": [
    "#Uniform distribution is a term in statistics used to describe a form of probability distribution where every possible\n",
    "#outcome has an equal likelihood of happening."
   ]
  },
  {
   "cell_type": "code",
   "execution_count": null,
   "id": "f553ee4d",
   "metadata": {},
   "outputs": [],
   "source": [
    "#The probability is constant since each variable has equal chances of being the outcome."
   ]
  },
  {
   "cell_type": "code",
   "execution_count": null,
   "id": "bed884d4",
   "metadata": {},
   "outputs": [],
   "source": [
    "#For example if we stand on a street corner and start to randomly hand pamphlet then every passerby have an equal chances\n",
    "# of being given the pamphlet.The percentage of probability is 1 divided by total no of outcomes."
   ]
  },
  {
   "cell_type": "markdown",
   "id": "f52b7d50",
   "metadata": {},
   "source": [
    "# Queno 8"
   ]
  },
  {
   "cell_type": "markdown",
   "id": "9d552249",
   "metadata": {},
   "source": [
    "# Z-Score and Its importance"
   ]
  },
  {
   "cell_type": "code",
   "execution_count": null,
   "id": "a63e725e",
   "metadata": {},
   "outputs": [],
   "source": [
    "#Z score or standard score is very useful statistic because it allows us to calculate probability of score occuring within \n",
    "# our normal distribution dataset."
   ]
  },
  {
   "cell_type": "code",
   "execution_count": null,
   "id": "611dedca",
   "metadata": {},
   "outputs": [],
   "source": [
    "# It's calculation process as we have seen in queno 6."
   ]
  },
  {
   "cell_type": "code",
   "execution_count": null,
   "id": "8b65a504",
   "metadata": {},
   "outputs": [],
   "source": [
    "#Z score indicates the position of data values by measuring their distance from mean."
   ]
  },
  {
   "cell_type": "code",
   "execution_count": null,
   "id": "d17b898d",
   "metadata": {},
   "outputs": [],
   "source": [
    "#Z score gives an idea of where data points fit into the distribution."
   ]
  },
  {
   "cell_type": "code",
   "execution_count": null,
   "id": "6e2e2c70",
   "metadata": {},
   "outputs": [],
   "source": [
    "#It is also used to compare two different distributions."
   ]
  },
  {
   "cell_type": "code",
   "execution_count": null,
   "id": "c82c37ef",
   "metadata": {},
   "outputs": [],
   "source": [
    "#Z score is also used in hypothesis testing."
   ]
  },
  {
   "cell_type": "markdown",
   "id": "41fc92c6",
   "metadata": {},
   "source": [
    "# Que no 9"
   ]
  },
  {
   "cell_type": "markdown",
   "id": "2dccbd22",
   "metadata": {},
   "source": [
    "# Central Limit Theorem"
   ]
  },
  {
   "cell_type": "code",
   "execution_count": null,
   "id": "a08d094f",
   "metadata": {},
   "outputs": [],
   "source": [
    "#The central limit theorem relies on concept of a sampling distribution,which is probability distribution of statistic for\n",
    "# a large number of samples taken from population."
   ]
  },
  {
   "cell_type": "code",
   "execution_count": null,
   "id": "60b38272",
   "metadata": {},
   "outputs": [],
   "source": [
    "#Suppose we draw a random sample from a population and calculate a statistic for the sample such as mean."
   ]
  },
  {
   "cell_type": "code",
   "execution_count": null,
   "id": "a8914646",
   "metadata": {},
   "outputs": [],
   "source": [
    "#Now we draw another random sample of same size,and again calculate the mean."
   ]
  },
  {
   "cell_type": "code",
   "execution_count": null,
   "id": "8ce79c76",
   "metadata": {},
   "outputs": [],
   "source": [
    "#We repeat this process many times,and end up with large number of means,one for each sample."
   ]
  },
  {
   "cell_type": "code",
   "execution_count": null,
   "id": "4e791247",
   "metadata": {},
   "outputs": [],
   "source": [
    "#According to central limit theorem if we take large samples from population,the sample means will be normally distributed\n",
    "#even if population is not normally distributed."
   ]
  },
  {
   "cell_type": "code",
   "execution_count": null,
   "id": "2c0711a8",
   "metadata": {},
   "outputs": [],
   "source": [
    "#For example;if we take 1000 samples from population each with sample size of 40.\n",
    "#The sample means follow normal distribution, as predicted by central limit theorem."
   ]
  },
  {
   "cell_type": "code",
   "execution_count": null,
   "id": "937468c1",
   "metadata": {},
   "outputs": [],
   "source": [
    "#In central limit theorem sampling size should be large that is more than 30 or equal to 30."
   ]
  },
  {
   "cell_type": "markdown",
   "id": "6adc150d",
   "metadata": {},
   "source": [
    "# Que no 10"
   ]
  },
  {
   "cell_type": "markdown",
   "id": "c6a61a17",
   "metadata": {},
   "source": [
    "# Assumptions of Central limit Theorem"
   ]
  },
  {
   "cell_type": "code",
   "execution_count": null,
   "id": "a8639515",
   "metadata": {},
   "outputs": [],
   "source": [
    "#Data must be randomly sampled one by one in different sample group."
   ]
  },
  {
   "cell_type": "code",
   "execution_count": null,
   "id": "078a91ec",
   "metadata": {},
   "outputs": [],
   "source": [
    "#Every sample should be unrelated to one another means they should not impact one another."
   ]
  },
  {
   "cell_type": "code",
   "execution_count": null,
   "id": "eafd81b3",
   "metadata": {},
   "outputs": [],
   "source": [
    "#Also overall sample size after combining every sample should not exceed 10% of population."
   ]
  },
  {
   "cell_type": "code",
   "execution_count": null,
   "id": "bee259da",
   "metadata": {},
   "outputs": [],
   "source": [
    "#Also every sample of size 30 is considered reasonable."
   ]
  }
 ],
 "metadata": {
  "kernelspec": {
   "display_name": "Python 3 (ipykernel)",
   "language": "python",
   "name": "python3"
  },
  "language_info": {
   "codemirror_mode": {
    "name": "ipython",
    "version": 3
   },
   "file_extension": ".py",
   "mimetype": "text/x-python",
   "name": "python",
   "nbconvert_exporter": "python",
   "pygments_lexer": "ipython3",
   "version": "3.11.5"
  }
 },
 "nbformat": 4,
 "nbformat_minor": 5
}
