{
 "cells": [
  {
   "cell_type": "markdown",
   "id": "add14197",
   "metadata": {},
   "source": [
    "# Flask Framework And Its Advantages"
   ]
  },
  {
   "cell_type": "code",
   "execution_count": null,
   "id": "11e0bb3f",
   "metadata": {},
   "outputs": [],
   "source": [
    "#Flask is a fantastic framework for developing web apps in python."
   ]
  },
  {
   "cell_type": "code",
   "execution_count": null,
   "id": "529ec55e",
   "metadata": {},
   "outputs": [],
   "source": [
    "#Flask is a sophisticated Python web development framework for creating dynamic,interactive web pages."
   ]
  },
  {
   "cell_type": "code",
   "execution_count": null,
   "id": "92c1aa1c",
   "metadata": {},
   "outputs": [],
   "source": [
    "#It provides a simple ,minimalist API that lets you write flexible and efficient web applications."
   ]
  },
  {
   "cell_type": "code",
   "execution_count": null,
   "id": "b83717d0",
   "metadata": {},
   "outputs": [],
   "source": [
    "#It provides us with tools we need to create an application quickly and easily,without having to deal with complicated code that we usually have to write."
   ]
  },
  {
   "cell_type": "code",
   "execution_count": null,
   "id": "6eac2e21",
   "metadata": {},
   "outputs": [],
   "source": [
    "#Flask allows us to create applications like this by handling all the comlex bankend code for us."
   ]
  },
  {
   "cell_type": "code",
   "execution_count": null,
   "id": "f8f46dd9",
   "metadata": {},
   "outputs": [],
   "source": [
    "#There are impressive features to use flask in our web application framework like;"
   ]
  },
  {
   "cell_type": "code",
   "execution_count": null,
   "id": "15c94fd5",
   "metadata": {},
   "outputs": [],
   "source": [
    "#Integrated support for unit testing."
   ]
  },
  {
   "cell_type": "code",
   "execution_count": null,
   "id": "cbd73d82",
   "metadata": {},
   "outputs": [],
   "source": [
    "#Fast debugger."
   ]
  },
  {
   "cell_type": "code",
   "execution_count": null,
   "id": "5892177d",
   "metadata": {},
   "outputs": [],
   "source": [
    "#It also has support for cookies."
   ]
  },
  {
   "cell_type": "code",
   "execution_count": null,
   "id": "81264861",
   "metadata": {},
   "outputs": [],
   "source": [
    "#Flask gives us premiere control to develop our project."
   ]
  },
  {
   "cell_type": "code",
   "execution_count": null,
   "id": "e31d778a",
   "metadata": {},
   "outputs": [],
   "source": [
    "#It is highly flexible."
   ]
  },
  {
   "cell_type": "code",
   "execution_count": null,
   "id": "68301b63",
   "metadata": {},
   "outputs": [],
   "source": [
    "#It is easy to deploy the flask in production."
   ]
  },
  {
   "cell_type": "code",
   "execution_count": null,
   "id": "52172b32",
   "metadata": {},
   "outputs": [],
   "source": [
    "#It also has http request handling function."
   ]
  }
 ],
 "metadata": {
  "kernelspec": {
   "display_name": "Python 3 (ipykernel)",
   "language": "python",
   "name": "python3"
  },
  "language_info": {
   "codemirror_mode": {
    "name": "ipython",
    "version": 3
   },
   "file_extension": ".py",
   "mimetype": "text/x-python",
   "name": "python",
   "nbconvert_exporter": "python",
   "pygments_lexer": "ipython3",
   "version": "3.11.5"
  }
 },
 "nbformat": 4,
 "nbformat_minor": 5
}
