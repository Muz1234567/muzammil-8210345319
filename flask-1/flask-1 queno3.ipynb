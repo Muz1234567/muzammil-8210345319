{
 "cells": [
  {
   "cell_type": "markdown",
   "id": "7a7d2877",
   "metadata": {},
   "source": [
    "# App Routing And Its Use"
   ]
  },
  {
   "cell_type": "code",
   "execution_count": null,
   "id": "eb8e04b2",
   "metadata": {},
   "outputs": [],
   "source": [
    "# App routing means mapping the URLs to a specific function that will handle the logic for that URL."
   ]
  },
  {
   "cell_type": "code",
   "execution_count": null,
   "id": "6b54a6b2",
   "metadata": {},
   "outputs": [],
   "source": [
    "#To bind a function to an URL path we use app.route decorator."
   ]
  },
  {
   "cell_type": "code",
   "execution_count": null,
   "id": "e2017b18",
   "metadata": {},
   "outputs": [],
   "source": [
    "#the URL (\"/\") is associated with root URL."
   ]
  },
  {
   "cell_type": "code",
   "execution_count": null,
   "id": "18bcea5e",
   "metadata": {},
   "outputs": [],
   "source": [
    "#So if our site domain was www.jupyter.app and we want to add routing to \"www.jupyter.app/detail\",we would use \"/detail\"."
   ]
  },
  {
   "cell_type": "code",
   "execution_count": null,
   "id": "36904fff",
   "metadata": {},
   "outputs": [],
   "source": [
    "#THE routing technique helps a user remember application URLs and is useful to access the desired page directly without navigating from homepage."
   ]
  },
  {
   "cell_type": "code",
   "execution_count": null,
   "id": "198e6512",
   "metadata": {},
   "outputs": [],
   "source": [
    "#We can add multiple routes with single function by stacking additional route decorators above any route."
   ]
  }
 ],
 "metadata": {
  "kernelspec": {
   "display_name": "Python 3 (ipykernel)",
   "language": "python",
   "name": "python3"
  },
  "language_info": {
   "codemirror_mode": {
    "name": "ipython",
    "version": 3
   },
   "file_extension": ".py",
   "mimetype": "text/x-python",
   "name": "python",
   "nbconvert_exporter": "python",
   "pygments_lexer": "ipython3",
   "version": "3.11.5"
  }
 },
 "nbformat": 4,
 "nbformat_minor": 5
}
