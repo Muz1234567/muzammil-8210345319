{
 "cells": [
  {
   "cell_type": "code",
   "execution_count": 1,
   "id": "eedd861e",
   "metadata": {},
   "outputs": [],
   "source": [
    "#queno1\n",
    "import numpy as np"
   ]
  },
  {
   "cell_type": "code",
   "execution_count": 2,
   "id": "bb2b46d8",
   "metadata": {},
   "outputs": [
    {
     "data": {
      "text/plain": [
       "list"
      ]
     },
     "execution_count": 2,
     "metadata": {},
     "output_type": "execute_result"
    }
   ],
   "source": [
    "list=['1','2','3','4','5']\n",
    "type(list)\n",
    "\n",
    "\n",
    "\n",
    "#the data type of this variable is list.\n"
   ]
  },
  {
   "cell_type": "code",
   "execution_count": 3,
   "id": "09895232",
   "metadata": {},
   "outputs": [],
   "source": [
    "array_list=np.array(object=list)"
   ]
  },
  {
   "cell_type": "code",
   "execution_count": 4,
   "id": "71cc67df",
   "metadata": {},
   "outputs": [
    {
     "data": {
      "text/plain": [
       "array(['1', '2', '3', '4', '5'], dtype='<U1')"
      ]
     },
     "execution_count": 4,
     "metadata": {},
     "output_type": "execute_result"
    }
   ],
   "source": [
    "array_list"
   ]
  },
  {
   "cell_type": "code",
   "execution_count": 5,
   "id": "899b199d",
   "metadata": {},
   "outputs": [
    {
     "data": {
      "text/plain": [
       "numpy.ndarray"
      ]
     },
     "execution_count": 5,
     "metadata": {},
     "output_type": "execute_result"
    }
   ],
   "source": [
    "type(array_list)\n",
    "\n",
    "#data type of this array_list is numpy.ndarray"
   ]
  },
  {
   "cell_type": "code",
   "execution_count": 6,
   "id": "6e3ade70",
   "metadata": {},
   "outputs": [
    {
     "name": "stdout",
     "output_type": "stream",
     "text": [
      "byte order is : =\n",
      "size is: 4\n",
      "datatype is: str32\n"
     ]
    }
   ],
   "source": [
    "dt=np.dtype('<U1')\n",
    "print(\"byte order is :\",dt.byteorder)\n",
    "print(\"size is:\",dt.itemsize)\n",
    "print(\"datatype is:\",dt.name)\n",
    "\n",
    "#this is the data type and details of the np.dtype(''<U1') which is subtype of datatype numpy.ndararay."
   ]
  },
  {
   "cell_type": "code",
   "execution_count": null,
   "id": "388fec3d",
   "metadata": {},
   "outputs": [],
   "source": [
    "#so this the difference between two variables first one which datatype is list has become the object of arraylist darray\n"
   ]
  },
  {
   "cell_type": "code",
   "execution_count": 7,
   "id": "03251c04",
   "metadata": {},
   "outputs": [
    {
     "data": {
      "text/plain": [
       "['1', '2', '3', '4', '5']"
      ]
     },
     "execution_count": 7,
     "metadata": {},
     "output_type": "execute_result"
    }
   ],
   "source": [
    "#queno2\n",
    "list"
   ]
  },
  {
   "cell_type": "code",
   "execution_count": 8,
   "id": "ebd58073",
   "metadata": {},
   "outputs": [
    {
     "data": {
      "text/plain": [
       "(str, str, str, str, str)"
      ]
     },
     "execution_count": 8,
     "metadata": {},
     "output_type": "execute_result"
    }
   ],
   "source": [
    "type(list[0]),type(list[1]),type(list[2]),type(list[3]),type(list[4])"
   ]
  },
  {
   "cell_type": "code",
   "execution_count": null,
   "id": "3ea4b6b0",
   "metadata": {},
   "outputs": [],
   "source": [
    "#by using indexing we are able to know the element datatype of list."
   ]
  },
  {
   "cell_type": "code",
   "execution_count": 9,
   "id": "c08fb4b8",
   "metadata": {},
   "outputs": [
    {
     "data": {
      "text/plain": [
       "array(['1', '2', '3', '4', '5'], dtype='<U1')"
      ]
     },
     "execution_count": 9,
     "metadata": {},
     "output_type": "execute_result"
    }
   ],
   "source": [
    "array_list"
   ]
  },
  {
   "cell_type": "code",
   "execution_count": 10,
   "id": "f438716d",
   "metadata": {},
   "outputs": [
    {
     "data": {
      "text/plain": [
       "(numpy.str_, numpy.str_, numpy.str_, numpy.str_)"
      ]
     },
     "execution_count": 10,
     "metadata": {},
     "output_type": "execute_result"
    }
   ],
   "source": [
    "type(array_list[0]),type(array_list[1]),type(array_list[2]),type(array_list[4])"
   ]
  },
  {
   "cell_type": "code",
   "execution_count": null,
   "id": "43d39dc4",
   "metadata": {},
   "outputs": [],
   "source": [
    "#so in this way data type of element in array_list is numpystring."
   ]
  },
  {
   "cell_type": "code",
   "execution_count": null,
   "id": "3ddd6fc2",
   "metadata": {},
   "outputs": [],
   "source": [
    "#queno3"
   ]
  },
  {
   "cell_type": "code",
   "execution_count": 11,
   "id": "227001f9",
   "metadata": {},
   "outputs": [],
   "source": [
    "list=[1,2,3,4,5]"
   ]
  },
  {
   "cell_type": "code",
   "execution_count": 12,
   "id": "5015916b",
   "metadata": {},
   "outputs": [],
   "source": [
    "array_list=np.array(object=list,dtype=int)"
   ]
  },
  {
   "cell_type": "code",
   "execution_count": 13,
   "id": "41a8e3f7",
   "metadata": {},
   "outputs": [
    {
     "data": {
      "text/plain": [
       "array([1, 2, 3, 4, 5])"
      ]
     },
     "execution_count": 13,
     "metadata": {},
     "output_type": "execute_result"
    }
   ],
   "source": [
    "array_list"
   ]
  },
  {
   "cell_type": "code",
   "execution_count": 14,
   "id": "b2727548",
   "metadata": {},
   "outputs": [
    {
     "data": {
      "text/plain": [
       "(list, numpy.ndarray)"
      ]
     },
     "execution_count": 14,
     "metadata": {},
     "output_type": "execute_result"
    }
   ],
   "source": [
    "type(list),type(array_list)"
   ]
  },
  {
   "cell_type": "code",
   "execution_count": null,
   "id": "90e0fa60",
   "metadata": {},
   "outputs": [],
   "source": [
    "#data type of list is same but datatype of array_list has changed from numpy.str to numpy.ndarray."
   ]
  },
  {
   "cell_type": "code",
   "execution_count": 15,
   "id": "1b75960a",
   "metadata": {},
   "outputs": [
    {
     "data": {
      "text/plain": [
       "(int, int, int, int, int)"
      ]
     },
     "execution_count": 15,
     "metadata": {},
     "output_type": "execute_result"
    }
   ],
   "source": [
    "type(list[0]),type(list[1]),type(list[2]),type(list[3]),type(list[4])"
   ]
  },
  {
   "cell_type": "code",
   "execution_count": 16,
   "id": "88939a9e",
   "metadata": {},
   "outputs": [
    {
     "data": {
      "text/plain": [
       "(numpy.int32, numpy.int32, numpy.int32, numpy.int32)"
      ]
     },
     "execution_count": 16,
     "metadata": {},
     "output_type": "execute_result"
    }
   ],
   "source": [
    "type(array_list[0]),type(array_list[1]),type(array_list[2]),type(array_list[4])"
   ]
  },
  {
   "cell_type": "code",
   "execution_count": null,
   "id": "e5ed8de8",
   "metadata": {},
   "outputs": [],
   "source": [
    "#so these are the data type of list and array_list which has changed from numpy.str to numpy.int32"
   ]
  },
  {
   "cell_type": "markdown",
   "id": "1857fe1c",
   "metadata": {},
   "source": [
    "# queno4"
   ]
  },
  {
   "cell_type": "code",
   "execution_count": 3,
   "id": "3c38989b",
   "metadata": {},
   "outputs": [],
   "source": [
    "import numpy as np\n",
    "num_list=[[1,2,3],[4,5,6]]"
   ]
  },
  {
   "cell_type": "code",
   "execution_count": 4,
   "id": "46467192",
   "metadata": {},
   "outputs": [],
   "source": [
    "num_array=np.array(object=num_list)"
   ]
  },
  {
   "cell_type": "code",
   "execution_count": 5,
   "id": "7e4fd0a5",
   "metadata": {},
   "outputs": [
    {
     "data": {
      "text/plain": [
       "array([[1, 2, 3],\n",
       "       [4, 5, 6]])"
      ]
     },
     "execution_count": 5,
     "metadata": {},
     "output_type": "execute_result"
    }
   ],
   "source": [
    "num_array"
   ]
  },
  {
   "cell_type": "code",
   "execution_count": 6,
   "id": "0fa4af7c",
   "metadata": {},
   "outputs": [],
   "source": [
    "arr=num_array"
   ]
  },
  {
   "cell_type": "code",
   "execution_count": 7,
   "id": "e2bf7ed4",
   "metadata": {},
   "outputs": [
    {
     "data": {
      "text/plain": [
       "array([[1, 2, 3],\n",
       "       [4, 5, 6]])"
      ]
     },
     "execution_count": 7,
     "metadata": {},
     "output_type": "execute_result"
    }
   ],
   "source": [
    "arr"
   ]
  },
  {
   "cell_type": "code",
   "execution_count": 8,
   "id": "ce0bda80",
   "metadata": {},
   "outputs": [
    {
     "name": "stdout",
     "output_type": "stream",
     "text": [
      "(2, 3)\n"
     ]
    }
   ],
   "source": [
    "print(arr.shape)"
   ]
  },
  {
   "cell_type": "code",
   "execution_count": 9,
   "id": "6d62bccd",
   "metadata": {},
   "outputs": [
    {
     "name": "stdout",
     "output_type": "stream",
     "text": [
      "6\n"
     ]
    }
   ],
   "source": [
    "print(arr.size)"
   ]
  },
  {
   "cell_type": "code",
   "execution_count": null,
   "id": "a8dfa267",
   "metadata": {},
   "outputs": [],
   "source": [
    "#so in this way shape of num_array is (2,3) and size is 6."
   ]
  },
  {
   "cell_type": "markdown",
   "id": "ad8697f4",
   "metadata": {},
   "source": [
    "# queno 5 "
   ]
  },
  {
   "cell_type": "code",
   "execution_count": 14,
   "id": "9974f701",
   "metadata": {},
   "outputs": [],
   "source": [
    "zero_matrix=np.zeros((3,3))"
   ]
  },
  {
   "cell_type": "code",
   "execution_count": 15,
   "id": "86715de2",
   "metadata": {},
   "outputs": [
    {
     "data": {
      "text/plain": [
       "array([[0., 0., 0.],\n",
       "       [0., 0., 0.],\n",
       "       [0., 0., 0.]])"
      ]
     },
     "execution_count": 15,
     "metadata": {},
     "output_type": "execute_result"
    }
   ],
   "source": [
    "zero_matrix"
   ]
  },
  {
   "cell_type": "code",
   "execution_count": 18,
   "id": "44773757",
   "metadata": {},
   "outputs": [
    {
     "data": {
      "text/plain": [
       "(9, (3, 3))"
      ]
     },
     "execution_count": 18,
     "metadata": {},
     "output_type": "execute_result"
    }
   ],
   "source": [
    "zero_matrix.size,zero_matrix.shape"
   ]
  },
  {
   "cell_type": "code",
   "execution_count": null,
   "id": "677b54d1",
   "metadata": {},
   "outputs": [],
   "source": [
    "#so in this way we are able to create matrix of 3*3 containing zero and having required shape and size."
   ]
  },
  {
   "cell_type": "markdown",
   "id": "3ee1c65f",
   "metadata": {},
   "source": [
    "# queno 6"
   ]
  },
  {
   "cell_type": "code",
   "execution_count": 24,
   "id": "13b1b3a0",
   "metadata": {},
   "outputs": [],
   "source": [
    "zero_matrix=np.zeros((5,5))"
   ]
  },
  {
   "cell_type": "code",
   "execution_count": 25,
   "id": "60290512",
   "metadata": {},
   "outputs": [
    {
     "data": {
      "text/plain": [
       "array([[0., 0., 0., 0., 0.],\n",
       "       [0., 0., 0., 0., 0.],\n",
       "       [0., 0., 0., 0., 0.],\n",
       "       [0., 0., 0., 0., 0.],\n",
       "       [0., 0., 0., 0., 0.]])"
      ]
     },
     "execution_count": 25,
     "metadata": {},
     "output_type": "execute_result"
    }
   ],
   "source": [
    "zero_matrix"
   ]
  },
  {
   "cell_type": "code",
   "execution_count": 26,
   "id": "d519684b",
   "metadata": {},
   "outputs": [],
   "source": [
    "zero_matrix=np.diag([1,1,1,1,1])"
   ]
  },
  {
   "cell_type": "code",
   "execution_count": 27,
   "id": "876c23a2",
   "metadata": {},
   "outputs": [
    {
     "data": {
      "text/plain": [
       "array([[1, 0, 0, 0, 0],\n",
       "       [0, 1, 0, 0, 0],\n",
       "       [0, 0, 1, 0, 0],\n",
       "       [0, 0, 0, 1, 0],\n",
       "       [0, 0, 0, 0, 1]])"
      ]
     },
     "execution_count": 27,
     "metadata": {},
     "output_type": "execute_result"
    }
   ],
   "source": [
    "zero_matrix"
   ]
  },
  {
   "cell_type": "code",
   "execution_count": null,
   "id": "80bb4978",
   "metadata": {},
   "outputs": [],
   "source": [
    "#so in this way we are able to convert zero_matrix containing zero to matrix containing 1 as diagonally and rest as 0."
   ]
  }
 ],
 "metadata": {
  "kernelspec": {
   "display_name": "Python 3 (ipykernel)",
   "language": "python",
   "name": "python3"
  },
  "language_info": {
   "codemirror_mode": {
    "name": "ipython",
    "version": 3
   },
   "file_extension": ".py",
   "mimetype": "text/x-python",
   "name": "python",
   "nbconvert_exporter": "python",
   "pygments_lexer": "ipython3",
   "version": "3.11.5"
  }
 },
 "nbformat": 4,
 "nbformat_minor": 5
}
