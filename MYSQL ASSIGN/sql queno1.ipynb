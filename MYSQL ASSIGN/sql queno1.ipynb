{
 "cells": [
  {
   "cell_type": "code",
   "execution_count": null,
   "id": "7cdfb217",
   "metadata": {},
   "outputs": [],
   "source": [
    "#SQL is a domain specific language used to query and manage data and works by allowing users to query,insert,delete and update records in databases."
   ]
  },
  {
   "cell_type": "code",
   "execution_count": null,
   "id": "bf563005",
   "metadata": {},
   "outputs": [],
   "source": [
    "#NOSQL is a type of database that uses non relational data structures, such as documents,graph databases and keyvalue stores to store and retrieve data."
   ]
  },
  {
   "cell_type": "code",
   "execution_count": null,
   "id": "caeee1e1",
   "metadata": {},
   "outputs": [],
   "source": [
    "#SQL is suitable for structured data with predefined schema."
   ]
  },
  {
   "cell_type": "code",
   "execution_count": null,
   "id": "602bd27d",
   "metadata": {},
   "outputs": [],
   "source": [
    "#while Nosql is suitable for unstructured and semi structured data."
   ]
  },
  {
   "cell_type": "code",
   "execution_count": null,
   "id": "b3e511d0",
   "metadata": {},
   "outputs": [],
   "source": [
    "#SQL requires vertical scaling to handle large volumes of data."
   ]
  },
  {
   "cell_type": "code",
   "execution_count": null,
   "id": "aefaea24",
   "metadata": {},
   "outputs": [],
   "source": [
    "#in nosql horizontal scaling is possible to handle large volumes of data."
   ]
  },
  {
   "cell_type": "code",
   "execution_count": null,
   "id": "a7894ff7",
   "metadata": {},
   "outputs": [],
   "source": [
    "#examples of SQL are mysql,postgreSQL,Oracle,SQL Server,Microsoft Sql server etc"
   ]
  },
  {
   "cell_type": "code",
   "execution_count": null,
   "id": "9ca13fd7",
   "metadata": {},
   "outputs": [],
   "source": [
    "#examples of nosql are Mongodb,cassandra,couchbase,amazondynamodb,redis etc."
   ]
  },
  {
   "cell_type": "code",
   "execution_count": null,
   "id": "a836c49f",
   "metadata": {},
   "outputs": [],
   "source": [
    "#Sql uses normalised data structure."
   ]
  },
  {
   "cell_type": "code",
   "execution_count": null,
   "id": "e9741eaa",
   "metadata": {},
   "outputs": [],
   "source": [
    "#Nosql uses denormalised data structure."
   ]
  },
  {
   "cell_type": "code",
   "execution_count": 1,
   "id": "64f6c886",
   "metadata": {},
   "outputs": [],
   "source": [
    "import pandas as pd\n",
    "import sqlite3"
   ]
  },
  {
   "cell_type": "code",
   "execution_count": 2,
   "id": "7f543c4b",
   "metadata": {},
   "outputs": [
    {
     "data": {
      "text/html": [
       "<div>\n",
       "<style scoped>\n",
       "    .dataframe tbody tr th:only-of-type {\n",
       "        vertical-align: middle;\n",
       "    }\n",
       "\n",
       "    .dataframe tbody tr th {\n",
       "        vertical-align: top;\n",
       "    }\n",
       "\n",
       "    .dataframe thead th {\n",
       "        text-align: right;\n",
       "    }\n",
       "</style>\n",
       "<table border=\"1\" class=\"dataframe\">\n",
       "  <thead>\n",
       "    <tr style=\"text-align: right;\">\n",
       "      <th></th>\n",
       "      <th>vehicle</th>\n",
       "      <th>SPEED</th>\n",
       "      <th>PRICE</th>\n",
       "    </tr>\n",
       "  </thead>\n",
       "  <tbody>\n",
       "    <tr>\n",
       "      <th>0</th>\n",
       "      <td>Maruti</td>\n",
       "      <td>180</td>\n",
       "      <td>3 LAKH</td>\n",
       "    </tr>\n",
       "    <tr>\n",
       "      <th>1</th>\n",
       "      <td>Hayate</td>\n",
       "      <td>130</td>\n",
       "      <td>1 LAKH</td>\n",
       "    </tr>\n",
       "    <tr>\n",
       "      <th>2</th>\n",
       "      <td>Yamaha</td>\n",
       "      <td>150</td>\n",
       "      <td>90 THOUSAND</td>\n",
       "    </tr>\n",
       "  </tbody>\n",
       "</table>\n",
       "</div>"
      ],
      "text/plain": [
       "  vehicle SPEED        PRICE\n",
       "0  Maruti   180       3 LAKH\n",
       "1  Hayate   130       1 LAKH\n",
       "2  Yamaha   150  90 THOUSAND"
      ]
     },
     "execution_count": 2,
     "metadata": {},
     "output_type": "execute_result"
    }
   ],
   "source": [
    "df=pd.DataFrame({'vehicle':['Maruti','Hayate','Yamaha'],'SPEED':['180','130','150'],'PRICE':['3 LAKH','1 LAKH','90 THOUSAND']})\n",
    "df"
   ]
  },
  {
   "cell_type": "code",
   "execution_count": 3,
   "id": "680f635c",
   "metadata": {},
   "outputs": [],
   "source": [
    "cnn = sqlite3.connect('jupyter_sql_tutorial.db')"
   ]
  },
  {
   "cell_type": "code",
   "execution_count": 4,
   "id": "36672f1d",
   "metadata": {},
   "outputs": [
    {
     "data": {
      "text/plain": [
       "3"
      ]
     },
     "execution_count": 4,
     "metadata": {},
     "output_type": "execute_result"
    }
   ],
   "source": [
    "df.to_sql('people',cnn)"
   ]
  },
  {
   "cell_type": "code",
   "execution_count": 5,
   "id": "f392f800",
   "metadata": {},
   "outputs": [],
   "source": [
    "%load_ext sql"
   ]
  },
  {
   "cell_type": "code",
   "execution_count": 6,
   "id": "c97d7050",
   "metadata": {},
   "outputs": [],
   "source": [
    "%sql sqlite:///jupyter_sql_tutorial.db"
   ]
  },
  {
   "cell_type": "code",
   "execution_count": 7,
   "id": "14dc42f0",
   "metadata": {},
   "outputs": [
    {
     "name": "stdout",
     "output_type": "stream",
     "text": [
      " * sqlite:///jupyter_sql_tutorial.db\n",
      "Done.\n"
     ]
    },
    {
     "data": {
      "text/html": [
       "<table>\n",
       "    <thead>\n",
       "        <tr>\n",
       "            <th>index</th>\n",
       "            <th>vehicle</th>\n",
       "            <th>SPEED</th>\n",
       "            <th>PRICE</th>\n",
       "        </tr>\n",
       "    </thead>\n",
       "    <tbody>\n",
       "        <tr>\n",
       "            <td>0</td>\n",
       "            <td>Maruti</td>\n",
       "            <td>180</td>\n",
       "            <td>3 LAKH</td>\n",
       "        </tr>\n",
       "        <tr>\n",
       "            <td>1</td>\n",
       "            <td>Hayate</td>\n",
       "            <td>130</td>\n",
       "            <td>1 LAKH</td>\n",
       "        </tr>\n",
       "        <tr>\n",
       "            <td>2</td>\n",
       "            <td>Yamaha</td>\n",
       "            <td>150</td>\n",
       "            <td>90 THOUSAND</td>\n",
       "        </tr>\n",
       "    </tbody>\n",
       "</table>"
      ],
      "text/plain": [
       "[(0, 'Maruti', '180', '3 LAKH'),\n",
       " (1, 'Hayate', '130', '1 LAKH'),\n",
       " (2, 'Yamaha', '150', '90 THOUSAND')]"
      ]
     },
     "execution_count": 7,
     "metadata": {},
     "output_type": "execute_result"
    }
   ],
   "source": [
    "%%sql \n",
    "SELECT *\n",
    "FROM people"
   ]
  },
  {
   "cell_type": "code",
   "execution_count": null,
   "id": "54c4b580",
   "metadata": {},
   "outputs": [],
   "source": [
    "#so in the above we have created sql data and also connection with sqlite3 which we can see above."
   ]
  }
 ],
 "metadata": {
  "kernelspec": {
   "display_name": "Python 3 (ipykernel)",
   "language": "python",
   "name": "python3"
  },
  "language_info": {
   "codemirror_mode": {
    "name": "ipython",
    "version": 3
   },
   "file_extension": ".py",
   "mimetype": "text/x-python",
   "name": "python",
   "nbconvert_exporter": "python",
   "pygments_lexer": "ipython3",
   "version": "3.11.5"
  }
 },
 "nbformat": 4,
 "nbformat_minor": 5
}
