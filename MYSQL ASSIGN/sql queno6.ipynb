{
 "cells": [
  {
   "cell_type": "code",
   "execution_count": 1,
   "id": "8e4ce103",
   "metadata": {},
   "outputs": [
    {
     "ename": "ModuleNotFoundError",
     "evalue": "No module named 'pymysql'",
     "output_type": "error",
     "traceback": [
      "\u001b[1;31m---------------------------------------------------------------------------\u001b[0m",
      "\u001b[1;31mModuleNotFoundError\u001b[0m                       Traceback (most recent call last)",
      "Cell \u001b[1;32mIn[1], line 1\u001b[0m\n\u001b[1;32m----> 1\u001b[0m \u001b[38;5;28;01mfrom\u001b[39;00m \u001b[38;5;21;01mpymysql\u001b[39;00m \u001b[38;5;28;01mimport\u001b[39;00m connect\n\u001b[0;32m      2\u001b[0m \u001b[38;5;28;01mimport\u001b[39;00m \u001b[38;5;21;01mpandas\u001b[39;00m \u001b[38;5;28;01mas\u001b[39;00m \u001b[38;5;21;01mrsd\u001b[39;00m\n",
      "\u001b[1;31mModuleNotFoundError\u001b[0m: No module named 'pymysql'"
     ]
    }
   ],
   "source": [
    "from pymysql import connect\n",
    "import pandas as rsd"
   ]
  },
  {
   "cell_type": "code",
   "execution_count": 2,
   "id": "53a5ecce",
   "metadata": {},
   "outputs": [
    {
     "name": "stdout",
     "output_type": "stream",
     "text": [
      "Collecting pymysql\n",
      "  Obtaining dependency information for pymysql from https://files.pythonhosted.org/packages/e5/30/20467e39523d0cfc2b6227902d3687a16364307260c75e6a1cb4422b0c62/PyMySQL-1.1.0-py3-none-any.whl.metadata\n",
      "  Downloading PyMySQL-1.1.0-py3-none-any.whl.metadata (4.4 kB)\n",
      "Downloading PyMySQL-1.1.0-py3-none-any.whl (44 kB)\n",
      "   ---------------------------------------- 0.0/44.8 kB ? eta -:--:--\n",
      "   --------- ------------------------------ 10.2/44.8 kB ? eta -:--:--\n",
      "   --------- ------------------------------ 10.2/44.8 kB ? eta -:--:--\n",
      "   ------------------ --------------------- 20.5/44.8 kB 162.5 kB/s eta 0:00:01\n",
      "   ------------------------------------ --- 41.0/44.8 kB 217.9 kB/s eta 0:00:01\n",
      "   ---------------------------------------- 44.8/44.8 kB 200.7 kB/s eta 0:00:00\n",
      "Installing collected packages: pymysql\n",
      "Successfully installed pymysql-1.1.0\n",
      "Note: you may need to restart the kernel to use updated packages.\n"
     ]
    }
   ],
   "source": [
    "pip install pymysql"
   ]
  },
  {
   "cell_type": "code",
   "execution_count": 1,
   "id": "f5de8dd6",
   "metadata": {},
   "outputs": [],
   "source": [
    "from pymysql import connect\n",
    "import pandas as rsd"
   ]
  },
  {
   "cell_type": "code",
   "execution_count": 7,
   "id": "7d04e615",
   "metadata": {},
   "outputs": [
    {
     "name": "stdout",
     "output_type": "stream",
     "text": [
      "('information_schema',)\n",
      "('mysql',)\n",
      "('performance_schema',)\n",
      "('result',)\n",
      "('sqlqueno2',)\n",
      "('sqlqueno_2',)\n",
      "('state',)\n",
      "('sys',)\n",
      "('university',)\n",
      "('world',)\n"
     ]
    }
   ],
   "source": [
    "data_base=connect(host='localhost',\n",
    "                  user='root',\n",
    "                  password='shahroz')\n",
    "cur=data_base.cursor()\n",
    "query='show databases'\n",
    "cur.execute(query)\n",
    "data_bases=cur.fetchall()\n",
    "for data in data_bases:\n",
    "    print(data)"
   ]
  },
  {
   "cell_type": "code",
   "execution_count": 11,
   "id": "7c35902f",
   "metadata": {},
   "outputs": [
    {
     "name": "stdout",
     "output_type": "stream",
     "text": [
      "('details',)\n"
     ]
    }
   ],
   "source": [
    "data_base=connect(host='localhost',\n",
    "                  user='root',\n",
    "                  password='shahroz',\n",
    "                  database='state')\n",
    "cur=data_base.cursor() \n",
    "query='show tables'\n",
    "cur.execute(query)\n",
    "tables=cur.fetchall()\n",
    "for table in tables:\n",
    "       print(table)           "
   ]
  },
  {
   "cell_type": "code",
   "execution_count": null,
   "id": "6f2d0882",
   "metadata": {},
   "outputs": [],
   "source": [
    "#so in this way by installing pymsql we are able to connect with mysql with data base by using python code.\n"
   ]
  },
  {
   "cell_type": "code",
   "execution_count": null,
   "id": "63fef42f",
   "metadata": {},
   "outputs": [],
   "source": [
    "#with the help of query we are able to show all databases or schema and again we are able to get table detail of schema 'state'by using query 'show tables'."
   ]
  },
  {
   "cell_type": "code",
   "execution_count": null,
   "id": "8d0d1930",
   "metadata": {},
   "outputs": [],
   "source": [
    "#a cursor is an object which helps to execute the query and fetch the records from database.\n"
   ]
  },
  {
   "cell_type": "code",
   "execution_count": null,
   "id": "fabe7fcd",
   "metadata": {},
   "outputs": [],
   "source": [
    "#son both cursor() and execute() method is used above to fetch data from database as given in the above."
   ]
  }
 ],
 "metadata": {
  "kernelspec": {
   "display_name": "Python 3 (ipykernel)",
   "language": "python",
   "name": "python3"
  },
  "language_info": {
   "codemirror_mode": {
    "name": "ipython",
    "version": 3
   },
   "file_extension": ".py",
   "mimetype": "text/x-python",
   "name": "python",
   "nbconvert_exporter": "python",
   "pygments_lexer": "ipython3",
   "version": "3.11.5"
  }
 },
 "nbformat": 4,
 "nbformat_minor": 5
}
