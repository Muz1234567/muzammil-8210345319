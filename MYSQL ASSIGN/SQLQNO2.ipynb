{
 "cells": [
  {
   "cell_type": "code",
   "execution_count": null,
   "id": "f58aa685",
   "metadata": {},
   "outputs": [],
   "source": [
    "#A DATA DEFINITION LANGUAGE (DDL) is a computer language used to create and modify the structure of database."
   ]
  },
  {
   "cell_type": "code",
   "execution_count": null,
   "id": "33e70514",
   "metadata": {},
   "outputs": [],
   "source": [
    "# SQL often uses imperative verbs with normal ENGLISH such as sentences to implement database modifications."
   ]
  },
  {
   "cell_type": "code",
   "execution_count": null,
   "id": "ce21c27d",
   "metadata": {},
   "outputs": [],
   "source": [
    "#But DDL does not shoe up as different language in an SQL database, but does define changes in database schema."
   ]
  },
  {
   "cell_type": "code",
   "execution_count": null,
   "id": "dfb202c1",
   "metadata": {},
   "outputs": [],
   "source": [
    "#DDL commands are used for altering the database structure such as creating tables or objects along with their attributes(data type,tablename,etc)."
   ]
  },
  {
   "cell_type": "code",
   "execution_count": null,
   "id": "8fea435d",
   "metadata": {},
   "outputs": [],
   "source": [
    "#Commonly used DDL in SQL querying are CREATE,ALTER,DROP,and TRUNCATE."
   ]
  }
 ],
 "metadata": {
  "kernelspec": {
   "display_name": "Python 3 (ipykernel)",
   "language": "python",
   "name": "python3"
  },
  "language_info": {
   "codemirror_mode": {
    "name": "ipython",
    "version": 3
   },
   "file_extension": ".py",
   "mimetype": "text/x-python",
   "name": "python",
   "nbconvert_exporter": "python",
   "pygments_lexer": "ipython3",
   "version": "3.11.5"
  }
 },
 "nbformat": 4,
 "nbformat_minor": 5
}
