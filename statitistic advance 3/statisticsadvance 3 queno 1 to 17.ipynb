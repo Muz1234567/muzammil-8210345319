{
 "cells": [
  {
   "cell_type": "markdown",
   "id": "df343be3",
   "metadata": {},
   "source": [
    "# Que no 1"
   ]
  },
  {
   "cell_type": "markdown",
   "id": "74c584b8",
   "metadata": {},
   "source": [
    "# Estimation Statistics"
   ]
  },
  {
   "cell_type": "code",
   "execution_count": null,
   "id": "21f021f5",
   "metadata": {},
   "outputs": [],
   "source": [
    "#Estimation in statistics is used to learn about characteistics of large group of elements such as individual,households\n",
    "#buildings,products,parts,customers and so on."
   ]
  },
  {
   "cell_type": "code",
   "execution_count": null,
   "id": "2eddbf44",
   "metadata": {},
   "outputs": [],
   "source": [
    "#Data taken from sample are used to develop estimates of characteristics of larger population."
   ]
  },
  {
   "cell_type": "code",
   "execution_count": null,
   "id": "8952002c",
   "metadata": {},
   "outputs": [],
   "source": [
    "#Characteristics of data are such data mean, data variance and data proportion are also parameters of data."
   ]
  },
  {
   "cell_type": "code",
   "execution_count": null,
   "id": "022115a6",
   "metadata": {},
   "outputs": [],
   "source": [
    "#There are two types of estimates are'\n",
    "#1.Point estimate\n",
    "#2.Interval estimate"
   ]
  },
  {
   "cell_type": "code",
   "execution_count": null,
   "id": "ef32b78a",
   "metadata": {},
   "outputs": [],
   "source": [
    "#1.Point estimate; Point estimate is a value of sample statistic that is used as single estimate of data parameter.\n",
    "#No statement are made about quality of point estimate."
   ]
  },
  {
   "cell_type": "code",
   "execution_count": null,
   "id": "11296c85",
   "metadata": {},
   "outputs": [],
   "source": [
    "#2.Interval estimate; Interval estimates are accompanied by a statement concerning the degree of confidence that interval\n",
    "# contains the data parameter being estimated.\n",
    "#Interval estimates of data parameters are called confidence intervals. "
   ]
  },
  {
   "cell_type": "markdown",
   "id": "c8d5fc41",
   "metadata": {},
   "source": [
    "# Que no 2"
   ]
  },
  {
   "cell_type": "code",
   "execution_count": 16,
   "id": "7637cfa1",
   "metadata": {},
   "outputs": [],
   "source": [
    "#First of all create a sample;\n",
    "import random"
   ]
  },
  {
   "cell_type": "code",
   "execution_count": 18,
   "id": "ef1e2f3b",
   "metadata": {},
   "outputs": [
    {
     "data": {
      "text/plain": [
       "[53,\n",
       " 67,\n",
       " 43,\n",
       " 44,\n",
       " 69,\n",
       " 76,\n",
       " 80,\n",
       " 86,\n",
       " 61,\n",
       " 54,\n",
       " 90,\n",
       " 78,\n",
       " 37,\n",
       " 74,\n",
       " 71,\n",
       " 31,\n",
       " 27,\n",
       " 88,\n",
       " 34,\n",
       " 47,\n",
       " 51,\n",
       " 41,\n",
       " 85,\n",
       " 73,\n",
       " 23,\n",
       " 82,\n",
       " 52,\n",
       " 39,\n",
       " 28,\n",
       " 89,\n",
       " 66,\n",
       " 46]"
      ]
     },
     "execution_count": 18,
     "metadata": {},
     "output_type": "execute_result"
    }
   ],
   "source": [
    "num=32\n",
    "start=20\n",
    "end=90\n",
    "sample=random.sample(range(start,end+1),num)\n",
    "sample"
   ]
  },
  {
   "cell_type": "code",
   "execution_count": null,
   "id": "890e45df",
   "metadata": {},
   "outputs": [],
   "source": [
    "#so these are sample data of size 32 and we have calculate its mean and standard deviation."
   ]
  },
  {
   "cell_type": "code",
   "execution_count": 19,
   "id": "9deca0fe",
   "metadata": {},
   "outputs": [],
   "source": [
    "import statistics"
   ]
  },
  {
   "cell_type": "code",
   "execution_count": 22,
   "id": "b277c78a",
   "metadata": {},
   "outputs": [
    {
     "data": {
      "text/plain": [
       "58.90625"
      ]
     },
     "execution_count": 22,
     "metadata": {},
     "output_type": "execute_result"
    }
   ],
   "source": [
    "mean=statistics.mean(sample)\n",
    "mean\n",
    "#calculating mean from dataset sample"
   ]
  },
  {
   "cell_type": "code",
   "execution_count": 24,
   "id": "76932905",
   "metadata": {},
   "outputs": [
    {
     "data": {
      "text/plain": [
       "20.771194966168427"
      ]
     },
     "execution_count": 24,
     "metadata": {},
     "output_type": "execute_result"
    }
   ],
   "source": [
    "std=statistics.stdev(sample) \n",
    "std\n",
    "#calculating standarddeviation from sample given."
   ]
  },
  {
   "cell_type": "code",
   "execution_count": null,
   "id": "9a84b4d2",
   "metadata": {},
   "outputs": [],
   "source": [
    "#now with help of given sample we are able to find population mean."
   ]
  },
  {
   "cell_type": "code",
   "execution_count": null,
   "id": "7ca0f80a",
   "metadata": {},
   "outputs": [],
   "source": [
    "#for this we have to use confidence interval which is highest for our assumption of population mean that is 95%."
   ]
  },
  {
   "cell_type": "code",
   "execution_count": null,
   "id": "3175c511",
   "metadata": {},
   "outputs": [],
   "source": [
    "#the we have to import scipy.stats and math"
   ]
  },
  {
   "cell_type": "code",
   "execution_count": 8,
   "id": "2a781a0e",
   "metadata": {},
   "outputs": [],
   "source": [
    "import scipy.stats as stats\n",
    "import math"
   ]
  },
  {
   "cell_type": "code",
   "execution_count": null,
   "id": "f4b4dc99",
   "metadata": {},
   "outputs": [],
   "source": [
    "#now we have to take sample mean (x_bar),sample standard deviation (s) and n as sample size and confidence_level also."
   ]
  },
  {
   "cell_type": "code",
   "execution_count": 26,
   "id": "212fe908",
   "metadata": {},
   "outputs": [],
   "source": [
    "x_bar=58.90\n",
    "s=20.77\n",
    "n=32\n",
    "confidence_level=0.95\n"
   ]
  },
  {
   "cell_type": "code",
   "execution_count": null,
   "id": "4e33f769",
   "metadata": {},
   "outputs": [],
   "source": [
    "#after that we have to calculate alpha,degress of freedom(df),t-value and margin of error(mor)"
   ]
  },
  {
   "cell_type": "code",
   "execution_count": 28,
   "id": "72a6fdbf",
   "metadata": {},
   "outputs": [
    {
     "data": {
      "text/plain": [
       "0.050000000000000044"
      ]
     },
     "execution_count": 28,
     "metadata": {},
     "output_type": "execute_result"
    }
   ],
   "source": [
    "alpha=(1-confidence_level)\n",
    "alpha"
   ]
  },
  {
   "cell_type": "code",
   "execution_count": null,
   "id": "b00cdfa4",
   "metadata": {},
   "outputs": [],
   "source": [
    "#so we get alpha as 5% that is 0.05\n",
    "#now we can calculate degrees of freedom as df"
   ]
  },
  {
   "cell_type": "code",
   "execution_count": 30,
   "id": "8d03bc59",
   "metadata": {},
   "outputs": [
    {
     "data": {
      "text/plain": [
       "31"
      ]
     },
     "execution_count": 30,
     "metadata": {},
     "output_type": "execute_result"
    }
   ],
   "source": [
    "df=n-1\n",
    "df"
   ]
  },
  {
   "cell_type": "code",
   "execution_count": 32,
   "id": "790255dc",
   "metadata": {},
   "outputs": [
    {
     "data": {
      "text/plain": [
       "3.671651961311148"
      ]
     },
     "execution_count": 32,
     "metadata": {},
     "output_type": "execute_result"
    }
   ],
   "source": [
    "#now after that we have to calculate standard error(sr)\n",
    "sr=s/math.sqrt(n)\n",
    "sr\n",
    "#so we get standard error of 3.67."
   ]
  },
  {
   "cell_type": "code",
   "execution_count": 33,
   "id": "c8904fbf",
   "metadata": {},
   "outputs": [
    {
     "data": {
      "text/plain": [
       "2.0395134463964077"
      ]
     },
     "execution_count": 33,
     "metadata": {},
     "output_type": "execute_result"
    }
   ],
   "source": [
    "#now ater that we have to calculate  critical_test(ct)\n",
    "ct=stats.t.ppf(1-alpha/2,df)\n",
    "ct\n",
    "#crtical test value is 2.03"
   ]
  },
  {
   "cell_type": "code",
   "execution_count": 34,
   "id": "eaf447ea",
   "metadata": {},
   "outputs": [
    {
     "data": {
      "text/plain": [
       "7.488383545581829"
      ]
     },
     "execution_count": 34,
     "metadata": {},
     "output_type": "execute_result"
    }
   ],
   "source": [
    "#now we have to calculate margin of error(mor)\n",
    "mor=ct*sr\n",
    "mor\n",
    "#so we get margin of error as 7.48"
   ]
  },
  {
   "cell_type": "code",
   "execution_count": null,
   "id": "228219b1",
   "metadata": {},
   "outputs": [],
   "source": [
    "#now we have to calculate range that is lower and upper"
   ]
  },
  {
   "cell_type": "code",
   "execution_count": 35,
   "id": "132db20d",
   "metadata": {},
   "outputs": [
    {
     "data": {
      "text/plain": [
       "51.411616454418166"
      ]
     },
     "execution_count": 35,
     "metadata": {},
     "output_type": "execute_result"
    }
   ],
   "source": [
    "lower=x_bar-mor\n",
    "lower"
   ]
  },
  {
   "cell_type": "code",
   "execution_count": 37,
   "id": "221b570d",
   "metadata": {},
   "outputs": [
    {
     "data": {
      "text/plain": [
       "66.38838354558183"
      ]
     },
     "execution_count": 37,
     "metadata": {},
     "output_type": "execute_result"
    }
   ],
   "source": [
    "upper=x_bar+mor\n",
    "upper"
   ]
  },
  {
   "cell_type": "code",
   "execution_count": null,
   "id": "9be2c38b",
   "metadata": {},
   "outputs": [],
   "source": [
    "#so in this way we are able  95% confidence estimate that population mean would be between 51.41 to 66.3."
   ]
  },
  {
   "cell_type": "markdown",
   "id": "cbf16f08",
   "metadata": {},
   "source": [
    "# Que no 3"
   ]
  },
  {
   "cell_type": "markdown",
   "id": "ebd9d7dd",
   "metadata": {},
   "source": [
    "# Hypothesis Testing"
   ]
  },
  {
   "cell_type": "code",
   "execution_count": null,
   "id": "2996fdfc",
   "metadata": {},
   "outputs": [],
   "source": [
    "#Hypothesis testing is a type of statistical analysis in which we put our assumption about data parameter to test."
   ]
  },
  {
   "cell_type": "code",
   "execution_count": null,
   "id": "28270a1d",
   "metadata": {},
   "outputs": [],
   "source": [
    "#It is used to estimate the relationship between 2 statistical variables."
   ]
  },
  {
   "cell_type": "code",
   "execution_count": null,
   "id": "c6c95f7a",
   "metadata": {},
   "outputs": [],
   "source": [
    "#Measurement and analyses are conducted on a random sample of the data to test."
   ]
  },
  {
   "cell_type": "code",
   "execution_count": null,
   "id": "05305bb2",
   "metadata": {},
   "outputs": [],
   "source": [
    "#Analysts use random data sample to test two hypothesis; the null and alternate hypothesis."
   ]
  },
  {
   "cell_type": "code",
   "execution_count": null,
   "id": "8780a46b",
   "metadata": {},
   "outputs": [],
   "source": [
    "#A null hypothesis may claim that data mean return equal to 0."
   ]
  },
  {
   "cell_type": "code",
   "execution_count": null,
   "id": "06f704d6",
   "metadata": {},
   "outputs": [],
   "source": [
    "#While alternate hypothesis isessentially inverse of null hypothesis that is data mean the return is not equal to 0."
   ]
  },
  {
   "cell_type": "code",
   "execution_count": null,
   "id": "fe48eac4",
   "metadata": {},
   "outputs": [],
   "source": [
    "#So they both are mutually exclusive and only one can be correct."
   ]
  },
  {
   "cell_type": "code",
   "execution_count": null,
   "id": "389bbf3f",
   "metadata": {},
   "outputs": [],
   "source": [
    "#Hypothesis is mainly used in data sample to make prediction for large data. "
   ]
  },
  {
   "cell_type": "markdown",
   "id": "7ac2a814",
   "metadata": {},
   "source": [
    "# Que no 4"
   ]
  },
  {
   "cell_type": "code",
   "execution_count": null,
   "id": "5d43f58a",
   "metadata": {},
   "outputs": [],
   "source": [
    "#This is a kind of alternative hypothesis."
   ]
  },
  {
   "cell_type": "code",
   "execution_count": null,
   "id": "e78c5817",
   "metadata": {},
   "outputs": [],
   "source": [
    "#As male students are more likely to weigh than female students."
   ]
  },
  {
   "cell_type": "code",
   "execution_count": null,
   "id": "ca59907b",
   "metadata": {},
   "outputs": [],
   "source": [
    "#So population percentage of male students weight > population percent of female students,that is p males>p females."
   ]
  },
  {
   "cell_type": "code",
   "execution_count": null,
   "id": "056337de",
   "metadata": {},
   "outputs": [],
   "source": [
    "#So this is one sided alternative hypothesis."
   ]
  },
  {
   "cell_type": "markdown",
   "id": "a224cac5",
   "metadata": {},
   "source": [
    "# Que no 5"
   ]
  },
  {
   "cell_type": "code",
   "execution_count": null,
   "id": "3db2c424",
   "metadata": {},
   "outputs": [],
   "source": [
    "#First of all create two sample of mean=30 and standard deviation of 16  and another mean of 33 and standard deviation of 18."
   ]
  },
  {
   "cell_type": "code",
   "execution_count": 10,
   "id": "5365b101",
   "metadata": {},
   "outputs": [],
   "source": [
    "import numpy as np"
   ]
  },
  {
   "cell_type": "code",
   "execution_count": 19,
   "id": "773ec330",
   "metadata": {},
   "outputs": [
    {
     "data": {
      "text/plain": [
       "array([45, 46, 48, 49, 43, 40, 47, 50, 53, 51])"
      ]
     },
     "execution_count": 19,
     "metadata": {},
     "output_type": "execute_result"
    }
   ],
   "source": [
    "#sample 1\n",
    "\n",
    "sample1=np.array([45,46,48,49,43,40,47,50,53,51])\n",
    "sample1"
   ]
  },
  {
   "cell_type": "code",
   "execution_count": 22,
   "id": "46e68058",
   "metadata": {},
   "outputs": [
    {
     "data": {
      "text/plain": [
       "array([35, 36, 38, 40, 43, 33, 37, 42, 34, 39])"
      ]
     },
     "execution_count": 22,
     "metadata": {},
     "output_type": "execute_result"
    }
   ],
   "source": [
    "#Sample 2\n",
    "sample2=np.array([35,36,38,40,43,33,37,42,34,39])\n",
    "sample2"
   ]
  },
  {
   "cell_type": "code",
   "execution_count": 23,
   "id": "e649508f",
   "metadata": {},
   "outputs": [
    {
     "data": {
      "text/plain": [
       "0.050000000000000044"
      ]
     },
     "execution_count": 23,
     "metadata": {},
     "output_type": "execute_result"
    }
   ],
   "source": [
    "#first of all we have to find alpha or significance value at confidence_level=95%\n",
    "confidence_level=0.95\n",
    "alpha=1-confidence_level\n",
    "alpha\n",
    "#so we alpha that is 5%"
   ]
  },
  {
   "cell_type": "code",
   "execution_count": null,
   "id": "d22b68e2",
   "metadata": {},
   "outputs": [],
   "source": [
    "#now we have to find  p value of both sample for this we have to import some libraries."
   ]
  },
  {
   "cell_type": "code",
   "execution_count": 4,
   "id": "ebce8d36",
   "metadata": {},
   "outputs": [],
   "source": [
    "from statsmodels.stats.weightstats import ttest_ind\n",
    "import pingouin as pg"
   ]
  },
  {
   "cell_type": "code",
   "execution_count": 25,
   "id": "c1d73b18",
   "metadata": {},
   "outputs": [],
   "source": [
    "result=pg.ttest(sample1,sample2,correction=True)"
   ]
  },
  {
   "cell_type": "code",
   "execution_count": 26,
   "id": "5b58c202",
   "metadata": {},
   "outputs": [
    {
     "data": {
      "text/html": [
       "<div>\n",
       "<style scoped>\n",
       "    .dataframe tbody tr th:only-of-type {\n",
       "        vertical-align: middle;\n",
       "    }\n",
       "\n",
       "    .dataframe tbody tr th {\n",
       "        vertical-align: top;\n",
       "    }\n",
       "\n",
       "    .dataframe thead th {\n",
       "        text-align: right;\n",
       "    }\n",
       "</style>\n",
       "<table border=\"1\" class=\"dataframe\">\n",
       "  <thead>\n",
       "    <tr style=\"text-align: right;\">\n",
       "      <th></th>\n",
       "      <th>T</th>\n",
       "      <th>dof</th>\n",
       "      <th>alternative</th>\n",
       "      <th>p-val</th>\n",
       "      <th>CI95%</th>\n",
       "      <th>cohen-d</th>\n",
       "      <th>BF10</th>\n",
       "      <th>power</th>\n",
       "    </tr>\n",
       "  </thead>\n",
       "  <tbody>\n",
       "    <tr>\n",
       "      <th>T-test</th>\n",
       "      <td>5.870365</td>\n",
       "      <td>17.600729</td>\n",
       "      <td>two-sided</td>\n",
       "      <td>0.000016</td>\n",
       "      <td>[6.09, 12.91]</td>\n",
       "      <td>2.625307</td>\n",
       "      <td>1012.155</td>\n",
       "      <td>0.999825</td>\n",
       "    </tr>\n",
       "  </tbody>\n",
       "</table>\n",
       "</div>"
      ],
      "text/plain": [
       "               T        dof alternative     p-val          CI95%   cohen-d  \\\n",
       "T-test  5.870365  17.600729   two-sided  0.000016  [6.09, 12.91]  2.625307   \n",
       "\n",
       "            BF10     power  \n",
       "T-test  1012.155  0.999825  "
      ]
     },
     "execution_count": 26,
     "metadata": {},
     "output_type": "execute_result"
    }
   ],
   "source": [
    "result"
   ]
  },
  {
   "cell_type": "code",
   "execution_count": null,
   "id": "faffb51b",
   "metadata": {},
   "outputs": [],
   "source": [
    "#so here we got p value as 0.000016 which is 0.016% which is significantly lower than alpha value that is 5%."
   ]
  },
  {
   "cell_type": "code",
   "execution_count": null,
   "id": "d9a216c3",
   "metadata": {},
   "outputs": [],
   "source": [
    "#so if p-value<=alpha there is rejection of null hypothesis\n",
    "#if p-value> alpha there is failure to reject null hypothesis."
   ]
  },
  {
   "cell_type": "code",
   "execution_count": null,
   "id": "6cb5519c",
   "metadata": {},
   "outputs": [],
   "source": [
    "#So in this case we got the result of p-value 0f 0.016% which is less than alpha that is 5% ,so there is rejection of null\n",
    "#hypothesis."
   ]
  },
  {
   "cell_type": "code",
   "execution_count": null,
   "id": "3516d12f",
   "metadata": {},
   "outputs": [],
   "source": [
    "#So from the above sample t-test of both sample sample we conclude that sample1 is either greater or less than mean of \n",
    "# sample 2."
   ]
  },
  {
   "cell_type": "markdown",
   "id": "13837872",
   "metadata": {},
   "source": [
    "# Que no 6"
   ]
  },
  {
   "cell_type": "markdown",
   "id": "b26ffce0",
   "metadata": {},
   "source": [
    "# Null And Alternate Hypothesis"
   ]
  },
  {
   "cell_type": "code",
   "execution_count": null,
   "id": "9c5c4e27",
   "metadata": {},
   "outputs": [],
   "source": [
    "#Null hypothesis is a kind ofhypothesis which explains the data parameter whose purpose is to chech validity of data."
   ]
  },
  {
   "cell_type": "code",
   "execution_count": null,
   "id": "07e462d7",
   "metadata": {},
   "outputs": [],
   "source": [
    "#This hypothesis is either rejected or not rejected based on the validity of given data sample. "
   ]
  },
  {
   "cell_type": "code",
   "execution_count": null,
   "id": "98675edb",
   "metadata": {},
   "outputs": [],
   "source": [
    "#Null hypothesis is rejected when p-value is less than or equal to alpha in favour of alternate hypothesis."
   ]
  },
  {
   "cell_type": "code",
   "execution_count": null,
   "id": "2662b54d",
   "metadata": {},
   "outputs": [],
   "source": [
    "#The observations of this hypothesis is a result of chance."
   ]
  },
  {
   "cell_type": "code",
   "execution_count": null,
   "id": "05170e06",
   "metadata": {},
   "outputs": [],
   "source": [
    "#For example if there is a question Does medicine reduces chances of stroke?\n",
    "#Then for for this question null hypothesis would be medicine does not reduce the chance of stroke."
   ]
  },
  {
   "cell_type": "code",
   "execution_count": null,
   "id": "43cb7c4d",
   "metadata": {},
   "outputs": [],
   "source": [
    "#In alternative hypothesis the statement is true from researcher point of view."
   ]
  },
  {
   "cell_type": "code",
   "execution_count": null,
   "id": "b7c840d0",
   "metadata": {},
   "outputs": [],
   "source": [
    "#And researcher proves to reject null to replace it with alternative hypothesis."
   ]
  },
  {
   "cell_type": "code",
   "execution_count": null,
   "id": "02e72903",
   "metadata": {},
   "outputs": [],
   "source": [
    "#For example according to class teacher a student performance has been improved lot compared to previous year is a kind\n",
    "# of alternate hypothesis."
   ]
  },
  {
   "cell_type": "markdown",
   "id": "4e8469e0",
   "metadata": {},
   "source": [
    "# Queno 7"
   ]
  },
  {
   "cell_type": "markdown",
   "id": "32daa321",
   "metadata": {},
   "source": [
    "# Steps for Hypothesis testing"
   ]
  },
  {
   "cell_type": "code",
   "execution_count": null,
   "id": "b1f4141e",
   "metadata": {},
   "outputs": [],
   "source": [
    "#First step for analyst to state the hypotheses."
   ]
  },
  {
   "cell_type": "code",
   "execution_count": null,
   "id": "ef437b22",
   "metadata": {},
   "outputs": [],
   "source": [
    "#Second step is to analyze the sample data."
   ]
  },
  {
   "cell_type": "code",
   "execution_count": null,
   "id": "40e60ca5",
   "metadata": {},
   "outputs": [],
   "source": [
    "#The final step is to analyse the result and either reject null hypotheses or state that null hypothesis is acceptable."
   ]
  },
  {
   "cell_type": "code",
   "execution_count": null,
   "id": "c33e4c11",
   "metadata": {},
   "outputs": [],
   "source": [
    "#If null hypotheses is not acceptable then it would be in favour of alternate hypotheses."
   ]
  },
  {
   "cell_type": "code",
   "execution_count": null,
   "id": "55807809",
   "metadata": {},
   "outputs": [],
   "source": [
    "#As in the above we have saw that how do we get p value from sample data and on this basis we are able to make hypotheses\n",
    "#of large data that would be null or alternate depending on p-value as we saw above."
   ]
  },
  {
   "cell_type": "markdown",
   "id": "f8b17e3b",
   "metadata": {},
   "source": [
    "# Queno 8"
   ]
  },
  {
   "cell_type": "markdown",
   "id": "64e56844",
   "metadata": {},
   "source": [
    "# P-value"
   ]
  },
  {
   "cell_type": "code",
   "execution_count": null,
   "id": "e643ee48",
   "metadata": {},
   "outputs": [],
   "source": [
    "#P value or probability value is a number, calculated from statistical test."
   ]
  },
  {
   "cell_type": "code",
   "execution_count": null,
   "id": "688d1f5a",
   "metadata": {},
   "outputs": [],
   "source": [
    "#It describes how likely we are to have found a particular set of observations if null hypotheses were true."
   ]
  },
  {
   "cell_type": "code",
   "execution_count": null,
   "id": "c6cd918f",
   "metadata": {},
   "outputs": [],
   "source": [
    "#The smaller the p value than alpha the more we are likely to reject null hypotheses and come in favour of alternate\n",
    "# hypotheses."
   ]
  },
  {
   "cell_type": "code",
   "execution_count": null,
   "id": "4bea9055",
   "metadata": {},
   "outputs": [],
   "source": [
    "#The larger p value than alpha the more we are likely to accept null hypothesis."
   ]
  },
  {
   "cell_type": "code",
   "execution_count": null,
   "id": "0c9f84bc",
   "metadata": {},
   "outputs": [],
   "source": [
    "#For example; if p value is 5% it means that we would see a test statistic at least as extreme as the one we found if the\n",
    "# null hypothesis was true."
   ]
  },
  {
   "cell_type": "code",
   "execution_count": null,
   "id": "93878c54",
   "metadata": {},
   "outputs": [],
   "source": [
    "#So p value can only tell us whether or not the null hypotheses is supported."
   ]
  },
  {
   "cell_type": "markdown",
   "id": "d39305f4",
   "metadata": {},
   "source": [
    "# Que no 9"
   ]
  },
  {
   "cell_type": "code",
   "execution_count": 1,
   "id": "6d62342f",
   "metadata": {},
   "outputs": [],
   "source": [
    "#For this we have to import some libraries;\n",
    "import matplotlib.pyplot as plt\n",
    "import numpy as np\n",
    "from scipy.stats import t"
   ]
  },
  {
   "cell_type": "code",
   "execution_count": 20,
   "id": "fcd7849a",
   "metadata": {},
   "outputs": [
    {
     "data": {
      "text/plain": [
       "array([30.        , 32.08333333, 34.16666667, 36.25      , 38.33333333,\n",
       "       40.41666667, 42.5       , 44.58333333, 46.66666667, 48.75      ,\n",
       "       50.83333333, 52.91666667, 55.        , 57.08333333, 59.16666667,\n",
       "       61.25      , 63.33333333, 65.41666667, 67.5       , 69.58333333,\n",
       "       71.66666667, 73.75      , 75.83333333, 77.91666667, 80.        ])"
      ]
     },
     "execution_count": 20,
     "metadata": {},
     "output_type": "execute_result"
    }
   ],
   "source": [
    "x=np.linspace(30,80,25)\n",
    "x"
   ]
  },
  {
   "cell_type": "code",
   "execution_count": null,
   "id": "65b0a702",
   "metadata": {},
   "outputs": [],
   "source": [
    "#so we taken sample x of size 25 starting from 30 and ending at 80."
   ]
  },
  {
   "cell_type": "code",
   "execution_count": null,
   "id": "d0bd8487",
   "metadata": {},
   "outputs": [],
   "source": [
    "#now we have to plot student t distribution of degrees of freedom 10."
   ]
  },
  {
   "cell_type": "code",
   "execution_count": 21,
   "id": "96168fa8",
   "metadata": {},
   "outputs": [
    {
     "data": {
      "image/png": "[encoded data removed]",
      "text/plain": [
       "<Figure size 640x480 with 1 Axes>"
      ]
     },
     "metadata": {},
     "output_type": "display_data"
    }
   ],
   "source": [
    "degrees_of_freedom=[10]\n",
    "for df in degrees_of_freedom:\n",
    "    y=t.pdf(x,df)\n",
    "    plt.plot(x,y,label=f\"Degrees of Freedom={df}\")\n",
    "    plt.xlabel('x')\n",
    "    plt.ylabel('PDF')\n",
    "    plt.title('T-Distribution with Varying Degrees of Freedom')\n",
    "    plt.legend()\n",
    "    plt.show()\n",
    "    "
   ]
  },
  {
   "cell_type": "code",
   "execution_count": null,
   "id": "3210997b",
   "metadata": {},
   "outputs": [],
   "source": [
    "#so in this way we are able to plot t distribution with varying degrees of freedom."
   ]
  },
  {
   "cell_type": "markdown",
   "id": "62c44b0c",
   "metadata": {},
   "source": [
    "# Que no 10"
   ]
  },
  {
   "cell_type": "code",
   "execution_count": 10,
   "id": "a883a0db",
   "metadata": {},
   "outputs": [],
   "source": [
    "#First of all we have to create two random sample for this we have to import random\n",
    "import random"
   ]
  },
  {
   "cell_type": "code",
   "execution_count": 14,
   "id": "2c8fde00",
   "metadata": {},
   "outputs": [
    {
     "data": {
      "text/plain": [
       "[6, 7, 5, 9, 4, 8]"
      ]
     },
     "execution_count": 14,
     "metadata": {},
     "output_type": "execute_result"
    }
   ],
   "source": [
    "sample=[5,4,8,9,6,7]\n",
    "sample1=random.sample(sample,6)\n",
    "sample1"
   ]
  },
  {
   "cell_type": "code",
   "execution_count": 16,
   "id": "620c6b05",
   "metadata": {},
   "outputs": [
    {
     "data": {
      "text/plain": [
       "[11, 10, 9, 16, 13, 12]"
      ]
     },
     "execution_count": 16,
     "metadata": {},
     "output_type": "execute_result"
    }
   ],
   "source": [
    "sample=[10,12,13,16,9,11]\n",
    "sample2=random.sample(sample,6)\n",
    "sample2"
   ]
  },
  {
   "cell_type": "code",
   "execution_count": null,
   "id": "6d561968",
   "metadata": {},
   "outputs": [],
   "source": [
    "#now we have to import ttest_ind and pingouin library for finding p-value and conductinh two sample t test."
   ]
  },
  {
   "cell_type": "code",
   "execution_count": 19,
   "id": "83617391",
   "metadata": {},
   "outputs": [
    {
     "data": {
      "text/html": [
       "<div>\n",
       "<style scoped>\n",
       "    .dataframe tbody tr th:only-of-type {\n",
       "        vertical-align: middle;\n",
       "    }\n",
       "\n",
       "    .dataframe tbody tr th {\n",
       "        vertical-align: top;\n",
       "    }\n",
       "\n",
       "    .dataframe thead th {\n",
       "        text-align: right;\n",
       "    }\n",
       "</style>\n",
       "<table border=\"1\" class=\"dataframe\">\n",
       "  <thead>\n",
       "    <tr style=\"text-align: right;\">\n",
       "      <th></th>\n",
       "      <th>T</th>\n",
       "      <th>dof</th>\n",
       "      <th>alternative</th>\n",
       "      <th>p-val</th>\n",
       "      <th>CI95%</th>\n",
       "      <th>cohen-d</th>\n",
       "      <th>BF10</th>\n",
       "      <th>power</th>\n",
       "    </tr>\n",
       "  </thead>\n",
       "  <tbody>\n",
       "    <tr>\n",
       "      <th>T-test</th>\n",
       "      <td>-4.201806</td>\n",
       "      <td>9.292818</td>\n",
       "      <td>two-sided</td>\n",
       "      <td>0.002143</td>\n",
       "      <td>[-8.19, -2.48]</td>\n",
       "      <td>2.425914</td>\n",
       "      <td>17.853</td>\n",
       "      <td>0.965059</td>\n",
       "    </tr>\n",
       "  </tbody>\n",
       "</table>\n",
       "</div>"
      ],
      "text/plain": [
       "               T       dof alternative     p-val           CI95%   cohen-d  \\\n",
       "T-test -4.201806  9.292818   two-sided  0.002143  [-8.19, -2.48]  2.425914   \n",
       "\n",
       "          BF10     power  \n",
       "T-test  17.853  0.965059  "
      ]
     },
     "execution_count": 19,
     "metadata": {},
     "output_type": "execute_result"
    }
   ],
   "source": [
    "result=pg.ttest(sample1,sample2,correction=True)\n",
    "result"
   ]
  },
  {
   "cell_type": "code",
   "execution_count": null,
   "id": "a825bfe7",
   "metadata": {},
   "outputs": [],
   "source": [
    "#so here we got p-value that is 0.002143 which is lower than alpha that is 5% which rejects null hypothesis and is in favour\n",
    "#of alternate hypothesis and so we can conclude that sample 1 mean is either greater or less than sample 2."
   ]
  },
  {
   "cell_type": "code",
   "execution_count": null,
   "id": "d255c574",
   "metadata": {},
   "outputs": [],
   "source": [
    "#while if we got p-value more that alpha then there would be acceptance of null hypotheses and we would conclude\n",
    "#that mean of both sample would be equal."
   ]
  },
  {
   "cell_type": "markdown",
   "id": "57500c8c",
   "metadata": {},
   "source": [
    "# Que no 11"
   ]
  },
  {
   "cell_type": "markdown",
   "id": "c21c1f4a",
   "metadata": {},
   "source": [
    "# Student t Distribution"
   ]
  },
  {
   "cell_type": "code",
   "execution_count": null,
   "id": "fa0d704b",
   "metadata": {},
   "outputs": [],
   "source": [
    "#T distribution is used for estimating population parameters for small sample sizes or unknown variances."
   ]
  },
  {
   "cell_type": "code",
   "execution_count": null,
   "id": "0ac43cb5",
   "metadata": {},
   "outputs": [],
   "source": [
    "#Tail heaviness in t distribution is determined by parameter of t distribution called degrees of freedom."
   ]
  },
  {
   "cell_type": "code",
   "execution_count": null,
   "id": "44a0ce78",
   "metadata": {},
   "outputs": [],
   "source": [
    "#Smaller dof giving heavier tail while larger dof giving lighter tails."
   ]
  },
  {
   "cell_type": "code",
   "execution_count": null,
   "id": "77a54a09",
   "metadata": {},
   "outputs": [],
   "source": [
    "#T distribution is used when estimating mean of normally distributed sample where sample size is small and population\n",
    "#standard deviation is unknown."
   ]
  },
  {
   "cell_type": "markdown",
   "id": "15221801",
   "metadata": {},
   "source": [
    "# Que no 12"
   ]
  },
  {
   "cell_type": "code",
   "execution_count": null,
   "id": "d8c4fcba",
   "metadata": {},
   "outputs": [],
   "source": [
    "#T statistics is used in t test to decide if we should support or reject null hypotheses."
   ]
  },
  {
   "cell_type": "code",
   "execution_count": null,
   "id": "a5ab9df0",
   "metadata": {},
   "outputs": [],
   "source": [
    "#So it is used in running hypotheses test."
   ]
  },
  {
   "cell_type": "code",
   "execution_count": null,
   "id": "32e02a51",
   "metadata": {},
   "outputs": [],
   "source": [
    "#It is also used to for hypotheses testing between two sample called as two sample t test. "
   ]
  },
  {
   "cell_type": "code",
   "execution_count": null,
   "id": "4d876b6e",
   "metadata": {},
   "outputs": [],
   "source": [
    "#In t statistics when we use t test we have to determine p-value for making hypotheses."
   ]
  },
  {
   "cell_type": "code",
   "execution_count": null,
   "id": "8c5995ed",
   "metadata": {},
   "outputs": [],
   "source": [
    "#If p-value is smaller or equal to alpha the more we are likely to reject null hypotheses and accept alternate hypotheses."
   ]
  },
  {
   "cell_type": "code",
   "execution_count": null,
   "id": "7368c7a6",
   "metadata": {},
   "outputs": [],
   "source": [
    "#While if p-value is larger than alpha then there would be null hypotheses."
   ]
  },
  {
   "cell_type": "code",
   "execution_count": null,
   "id": "f75cb57a",
   "metadata": {},
   "outputs": [],
   "source": [
    "#There are many types of t statistic that is one-sample t test,two sample-t test,paired sample t test,equal and unequal\n",
    "#variance t test."
   ]
  },
  {
   "cell_type": "code",
   "execution_count": null,
   "id": "2f5b1ed2",
   "metadata": {},
   "outputs": [],
   "source": [
    "#formulae for different types of t test are;"
   ]
  },
  {
   "cell_type": "markdown",
   "id": "2f4db203",
   "metadata": {},
   "source": [
    "#one sample t test formulae;\n",
    "onesample t test=mean of group-theoretical mean value of population/standard deviation/square root of sample size"
   ]
  },
  {
   "cell_type": "markdown",
   "id": "05ece7fe",
   "metadata": {},
   "source": [
    "#Two sample t test formulae;\n",
    "***difference of means of two groups /square root of standard dev 1/squareroot of sample size 1 +\n",
    "squareroot of std 2/sqaureroot of sample size 2***"
   ]
  },
  {
   "cell_type": "code",
   "execution_count": null,
   "id": "44527d98",
   "metadata": {},
   "outputs": [],
   "source": [
    "#so in this way there are different formuale used for different types of t test."
   ]
  },
  {
   "cell_type": "markdown",
   "id": "db6954ff",
   "metadata": {},
   "source": [
    "# Queno 13"
   ]
  },
  {
   "cell_type": "code",
   "execution_count": null,
   "id": "9e6d747c",
   "metadata": {},
   "outputs": [],
   "source": [
    "#For this we have to import scipy and math from stats."
   ]
  },
  {
   "cell_type": "code",
   "execution_count": null,
   "id": "5541782b",
   "metadata": {},
   "outputs": [],
   "source": [
    "#After this we have to take n as no of days,x_bar as mean of revenue,s as standard deviation,and confidence_level. "
   ]
  },
  {
   "cell_type": "code",
   "execution_count": 2,
   "id": "72fcbd9d",
   "metadata": {},
   "outputs": [],
   "source": [
    "n=50\n",
    "x_bar=500\n",
    "s=50\n",
    "confidence_level=0.95"
   ]
  },
  {
   "cell_type": "code",
   "execution_count": null,
   "id": "04b07a47",
   "metadata": {},
   "outputs": [],
   "source": [
    "#Now we have to calculate alpha"
   ]
  },
  {
   "cell_type": "code",
   "execution_count": 3,
   "id": "50721a9f",
   "metadata": {},
   "outputs": [
    {
     "data": {
      "text/plain": [
       "0.050000000000000044"
      ]
     },
     "execution_count": 3,
     "metadata": {},
     "output_type": "execute_result"
    }
   ],
   "source": [
    "alpha=1-confidence_level\n",
    "alpha\n",
    "#so we get alpha 5%"
   ]
  },
  {
   "cell_type": "code",
   "execution_count": null,
   "id": "b77b1e88",
   "metadata": {},
   "outputs": [],
   "source": [
    "#now we have to calculate degrees of freedom (dof)"
   ]
  },
  {
   "cell_type": "code",
   "execution_count": 4,
   "id": "b5d8f59e",
   "metadata": {},
   "outputs": [
    {
     "data": {
      "text/plain": [
       "49"
      ]
     },
     "execution_count": 4,
     "metadata": {},
     "output_type": "execute_result"
    }
   ],
   "source": [
    "dof=n-1\n",
    "dof\n",
    "#so we get degree of freedom 49."
   ]
  },
  {
   "cell_type": "code",
   "execution_count": 5,
   "id": "f76139ba",
   "metadata": {},
   "outputs": [
    {
     "data": {
      "text/plain": [
       "7.071067811865475"
      ]
     },
     "execution_count": 5,
     "metadata": {},
     "output_type": "execute_result"
    }
   ],
   "source": [
    "#now we have to calculate standard error(sr)\n",
    "sr=s/math.sqrt(n)\n",
    "sr\n",
    "#so we get standard error of 7.07"
   ]
  },
  {
   "cell_type": "code",
   "execution_count": 7,
   "id": "3872ca33",
   "metadata": {},
   "outputs": [
    {
     "data": {
      "text/plain": [
       "2.009575234489209"
      ]
     },
     "execution_count": 7,
     "metadata": {},
     "output_type": "execute_result"
    }
   ],
   "source": [
    "#after that we have to calculate critical_test(ct)\n",
    "ct=stats.t.ppf(1-alpha/2,dof)\n",
    "ct\n",
    "#so we get critical_test 2.00"
   ]
  },
  {
   "cell_type": "code",
   "execution_count": 8,
   "id": "aa918aad",
   "metadata": {},
   "outputs": [
    {
     "data": {
      "text/plain": [
       "14.209842756118658"
      ]
     },
     "execution_count": 8,
     "metadata": {},
     "output_type": "execute_result"
    }
   ],
   "source": [
    "#now we have to multiply standarderror and criticaltest for finding margin of error(mor)\n",
    "mor=sr*ct\n",
    "mor"
   ]
  },
  {
   "cell_type": "code",
   "execution_count": 9,
   "id": "e73cb739",
   "metadata": {},
   "outputs": [
    {
     "data": {
      "text/plain": [
       "485.79015724388137"
      ]
     },
     "execution_count": 9,
     "metadata": {},
     "output_type": "execute_result"
    }
   ],
   "source": [
    "#now we have to calculate the range to which mean of large revenue of shop\n",
    "#x_bar is mean of sample mor is margin of error.\n",
    "lower=x_bar-mor\n",
    "lower"
   ]
  },
  {
   "cell_type": "code",
   "execution_count": 11,
   "id": "c0308117",
   "metadata": {},
   "outputs": [
    {
     "data": {
      "text/plain": [
       "514.2098427561186"
      ]
     },
     "execution_count": 11,
     "metadata": {},
     "output_type": "execute_result"
    }
   ],
   "source": [
    "upper=x_bar+mor\n",
    "upper"
   ]
  },
  {
   "cell_type": "code",
   "execution_count": null,
   "id": "272b225b",
   "metadata": {},
   "outputs": [],
   "source": [
    "#so in this way we are 95% confidence level estimated that the populatiom mean would be between 485.7 and 514.2."
   ]
  },
  {
   "cell_type": "markdown",
   "id": "1785fd61",
   "metadata": {},
   "source": [
    "# Que no 14"
   ]
  },
  {
   "cell_type": "code",
   "execution_count": null,
   "id": "bf06f021",
   "metadata": {},
   "outputs": [],
   "source": [
    "#So first of all create sample of 100 patients got 8mm average decrease as blood pressure reading."
   ]
  },
  {
   "cell_type": "code",
   "execution_count": 14,
   "id": "7a88c171",
   "metadata": {},
   "outputs": [
    {
     "data": {
      "text/plain": [
       "array([13.29215704,  9.20047163, 10.93621395, 14.7226796 , 13.60267397,\n",
       "        5.06816636, 10.85026525,  7.54592838,  7.69034344,  9.23179551,\n",
       "        8.43213071, 12.36282052, 10.28311318,  8.36502505,  9.3315897 ,\n",
       "        9.00102298, 12.48223722,  7.38452521,  8.9392031 ,  5.43771278,\n",
       "        0.34103055,  9.96085579, 10.5933086 ,  5.77350494, 14.80926387,\n",
       "        3.63690298,  8.13727555,  7.43844845, 12.59833764, 12.40807631,\n",
       "        8.46484228,  9.13448756,  5.33664276,  2.0576106 ,  6.95626355,\n",
       "        8.46904691, 11.69087204, 11.60713955,  6.83801955,  7.09309175,\n",
       "        4.8543411 ,  3.73994619,  2.88118943, 13.85232619,  6.47104345,\n",
       "        6.6857771 ,  4.24161392, 10.33247107,  3.15830646,  7.36177916,\n",
       "        5.31360032,  9.16070749,  6.46758459,  4.45810345,  7.91545331,\n",
       "        9.28499561,  8.19955167,  8.90741569,  6.09703372,  6.9117765 ,\n",
       "        5.98261866,  6.92134052,  5.56056115,  2.82115219,  8.53227843,\n",
       "        6.79465719,  3.10940496,  9.38834677,  5.27810491,  8.15583619,\n",
       "       10.18727169,  8.38694873, 11.41820205,  4.29552254,  9.20702492,\n",
       "        5.94556973,  5.38760855,  6.26345101,  7.0653424 ,  8.16849603,\n",
       "        4.50455048, 10.70247946,  9.39698732,  3.39126894, 12.46475658,\n",
       "       13.68766753, 11.53633871,  7.46022549,  4.78774214, 11.16335518,\n",
       "        6.79046916, 11.66733521,  8.62482493, 10.92991711,  9.06909919,\n",
       "       10.1197195 ,  8.03150006, 13.35761148,  8.38073628,  9.20596809])"
      ]
     },
     "execution_count": 14,
     "metadata": {},
     "output_type": "execute_result"
    }
   ],
   "source": [
    "import numpy as np\n",
    "np.random.seed(0)\n",
    "samplebp=np.random.normal(loc=8,scale=3,size=100)\n",
    "samplebp"
   ]
  },
  {
   "cell_type": "code",
   "execution_count": null,
   "id": "22be2c13",
   "metadata": {},
   "outputs": [],
   "source": [
    "#so these are sample in decrease in bp of 100 patients. "
   ]
  },
  {
   "cell_type": "code",
   "execution_count": 18,
   "id": "4bfc4449",
   "metadata": {},
   "outputs": [],
   "source": [
    "#so now we have to calcualte one sample t test of given 'samplebp'.\n",
    "t_statistic,p_value=stats.ttest_1samp(a=samplebp,popmean=8)\n"
   ]
  },
  {
   "cell_type": "code",
   "execution_count": 19,
   "id": "2d105ecb",
   "metadata": {},
   "outputs": [
    {
     "data": {
      "text/plain": [
       "0.5904283402851621"
      ]
     },
     "execution_count": 19,
     "metadata": {},
     "output_type": "execute_result"
    }
   ],
   "source": [
    "t_statistic"
   ]
  },
  {
   "cell_type": "code",
   "execution_count": 20,
   "id": "1f7e422d",
   "metadata": {},
   "outputs": [
    {
     "data": {
      "text/plain": [
       "0.5562489158694726"
      ]
     },
     "execution_count": 20,
     "metadata": {},
     "output_type": "execute_result"
    }
   ],
   "source": [
    "p_value"
   ]
  },
  {
   "cell_type": "code",
   "execution_count": null,
   "id": "f97594ef",
   "metadata": {},
   "outputs": [],
   "source": [
    "#so here p-value is more than the significance value so there is acceptance of null hypothesis.\n",
    "#so this indicates that mean decrease in bp of 100 patients is equal to the specified mean decrease that is 8mm. "
   ]
  },
  {
   "cell_type": "markdown",
   "id": "6ce2593e",
   "metadata": {},
   "source": [
    "# Que no 15"
   ]
  },
  {
   "cell_type": "code",
   "execution_count": null,
   "id": "c65f9a80",
   "metadata": {},
   "outputs": [],
   "source": [
    "#in this case also one sample t test is requiredfor finding p value of sample which is being researched."
   ]
  },
  {
   "cell_type": "code",
   "execution_count": 21,
   "id": "53c2d4c6",
   "metadata": {},
   "outputs": [
    {
     "data": {
      "text/plain": [
       "array([5.74157535, 4.12612047, 4.1647575 , 5.28469835, 4.2134383 ,\n",
       "       5.77181059, 4.59319051, 4.42627259, 5.76147101, 5.5402574 ,\n",
       "       5.73377948, 5.25302233, 4.36938716, 5.75503248, 4.66599831,\n",
       "       5.2012282 , 5.27362598, 4.72249495, 5.10703969, 5.26110334,\n",
       "       4.98821277, 4.2502996 , 4.94911909, 5.46319295, 4.45271607])"
      ]
     },
     "execution_count": 21,
     "metadata": {},
     "output_type": "execute_result"
    }
   ],
   "source": [
    "#so first of all create sample would be \n",
    "samplepro=np.random.normal(loc=4.8,scale=0.5,size=25)\n",
    "samplepro\n",
    "#so this are product weight sample of mean 4.8."
   ]
  },
  {
   "cell_type": "code",
   "execution_count": 22,
   "id": "19cca600",
   "metadata": {},
   "outputs": [],
   "source": [
    "#now use one-sample t test.\n",
    "t_statistic,p_value=stats.ttest_1samp(a=samplepro,popmean=4.8)"
   ]
  },
  {
   "cell_type": "code",
   "execution_count": 23,
   "id": "fc4d58ac",
   "metadata": {},
   "outputs": [
    {
     "data": {
      "text/plain": [
       "1.789499367960571"
      ]
     },
     "execution_count": 23,
     "metadata": {},
     "output_type": "execute_result"
    }
   ],
   "source": [
    "t_statistic"
   ]
  },
  {
   "cell_type": "code",
   "execution_count": 24,
   "id": "92eaa50c",
   "metadata": {},
   "outputs": [
    {
     "data": {
      "text/plain": [
       "0.08616256665366688"
      ]
     },
     "execution_count": 24,
     "metadata": {},
     "output_type": "execute_result"
    }
   ],
   "source": [
    "p_value"
   ]
  },
  {
   "cell_type": "code",
   "execution_count": null,
   "id": "79f6749b",
   "metadata": {},
   "outputs": [],
   "source": [
    "#so here we got pvaluee greater than signi value that is 0.01 so there is acceptance of null hypotheses \n",
    "#and this indicate mean weight of product is equal to the specified mean weight of product that is 4.8."
   ]
  },
  {
   "cell_type": "markdown",
   "id": "9b67a842",
   "metadata": {},
   "source": [
    "# Que no 16"
   ]
  },
  {
   "cell_type": "code",
   "execution_count": null,
   "id": "de27a6a0",
   "metadata": {},
   "outputs": [],
   "source": [
    "#first of all create sample for two groups of student and then apply two sample t test for finding p value."
   ]
  },
  {
   "cell_type": "code",
   "execution_count": 2,
   "id": "7b7f1225",
   "metadata": {},
   "outputs": [
    {
     "data": {
      "text/plain": [
       "array([ 97.64052346,  84.00157208,  89.78737984, 102.40893199,\n",
       "        98.6755799 ,  70.2272212 ,  89.50088418,  78.48642792,\n",
       "        78.96781148,  84.10598502,  81.44043571,  94.54273507,\n",
       "        87.61037725,  81.21675016,  84.43863233,  83.33674327,\n",
       "        94.94079073,  77.94841736,  83.13067702,  71.45904261,\n",
       "        54.47010184,  86.53618595,  88.64436199,  72.5783498 ,\n",
       "       102.69754624,  65.45634325,  80.45758517,  78.1281615 ,\n",
       "        95.32779214,  94.6935877 ])"
      ]
     },
     "execution_count": 2,
     "metadata": {},
     "output_type": "execute_result"
    }
   ],
   "source": [
    "import numpy as np\n",
    "np.random.seed(0)\n",
    "group1=np.random.normal(loc=80,scale=10,size=30)  #taking loc as mean and scale as standarddeviation\n",
    "group1"
   ]
  },
  {
   "cell_type": "code",
   "execution_count": 3,
   "id": "25e5d854",
   "metadata": {},
   "outputs": [
    {
     "data": {
      "text/plain": [
       "array([76.23957941, 78.02530016, 67.89771402, 59.15362825, 72.21670281,\n",
       "       76.25079175, 84.84232545, 84.61903879, 71.90138546, 72.581578  ,\n",
       "       66.61157628, 63.6398565 , 61.34983847, 90.60620316, 70.92278255,\n",
       "       71.49540559, 64.97763712, 81.21992285, 62.08881722, 73.29807776,\n",
       "       67.83626751, 78.09521998, 70.9135589 , 65.55494253, 74.77454217,\n",
       "       78.42665496, 75.53213778, 77.41977518, 69.92542325, 72.09807067,\n",
       "       69.62031642, 72.12357471, 68.49482974, 61.18973918, 76.41940914,\n",
       "       71.78575251, 61.95841322, 78.70225804, 67.74161308, 75.41556317])"
      ]
     },
     "execution_count": 3,
     "metadata": {},
     "output_type": "execute_result"
    }
   ],
   "source": [
    "group2=np.random.normal(loc=75,scale=8,size=40)\n",
    "group2"
   ]
  },
  {
   "cell_type": "code",
   "execution_count": null,
   "id": "b5f9b9f8",
   "metadata": {},
   "outputs": [],
   "source": [
    "#now we have to apply two sample t test for both sample group1 and group2 for this we have to import pingouin and ttest_ind."
   ]
  },
  {
   "cell_type": "code",
   "execution_count": 5,
   "id": "13e0efbd",
   "metadata": {},
   "outputs": [
    {
     "data": {
      "text/html": [
       "<div>\n",
       "<style scoped>\n",
       "    .dataframe tbody tr th:only-of-type {\n",
       "        vertical-align: middle;\n",
       "    }\n",
       "\n",
       "    .dataframe tbody tr th {\n",
       "        vertical-align: top;\n",
       "    }\n",
       "\n",
       "    .dataframe thead th {\n",
       "        text-align: right;\n",
       "    }\n",
       "</style>\n",
       "<table border=\"1\" class=\"dataframe\">\n",
       "  <thead>\n",
       "    <tr style=\"text-align: right;\">\n",
       "      <th></th>\n",
       "      <th>T</th>\n",
       "      <th>dof</th>\n",
       "      <th>alternative</th>\n",
       "      <th>p-val</th>\n",
       "      <th>CI95%</th>\n",
       "      <th>cohen-d</th>\n",
       "      <th>BF10</th>\n",
       "      <th>power</th>\n",
       "    </tr>\n",
       "  </thead>\n",
       "  <tbody>\n",
       "    <tr>\n",
       "      <th>T-test</th>\n",
       "      <td>5.38078</td>\n",
       "      <td>45.986234</td>\n",
       "      <td>two-sided</td>\n",
       "      <td>0.000002</td>\n",
       "      <td>[7.72, 16.94]</td>\n",
       "      <td>1.382799</td>\n",
       "      <td>1.368e+04</td>\n",
       "      <td>0.999885</td>\n",
       "    </tr>\n",
       "  </tbody>\n",
       "</table>\n",
       "</div>"
      ],
      "text/plain": [
       "              T        dof alternative     p-val          CI95%   cohen-d  \\\n",
       "T-test  5.38078  45.986234   two-sided  0.000002  [7.72, 16.94]  1.382799   \n",
       "\n",
       "             BF10     power  \n",
       "T-test  1.368e+04  0.999885  "
      ]
     },
     "execution_count": 5,
     "metadata": {},
     "output_type": "execute_result"
    }
   ],
   "source": [
    "result=pg.ttest(group1,group2,correction=True)\n",
    "result"
   ]
  },
  {
   "cell_type": "code",
   "execution_count": null,
   "id": "45f16e11",
   "metadata": {},
   "outputs": [],
   "source": [
    "#so here we saw that p-value which is 0.000002 is smaller than significant value 0.01 so there is rejection of null hypo\n",
    "#theses and in favour of alternate hypotheses."
   ]
  },
  {
   "cell_type": "code",
   "execution_count": null,
   "id": "ee44af02",
   "metadata": {},
   "outputs": [],
   "source": [
    "#So this two sample t test conclude that mean of group1 is either greater or less than mean of group2."
   ]
  },
  {
   "cell_type": "markdown",
   "id": "dfe5cc88",
   "metadata": {},
   "source": [
    "# Que no 17"
   ]
  },
  {
   "cell_type": "code",
   "execution_count": 6,
   "id": "1f245133",
   "metadata": {},
   "outputs": [
    {
     "data": {
      "text/plain": [
       "array([5.09363584, 4.19347437, 5.70910103, 2.14776127, 4.60351246,\n",
       "       2.97278486, 2.69380428, 3.1317255 , 3.5326712 , 4.08424801,\n",
       "       2.25227524, 5.35123973, 4.69849366, 1.69563447, 6.23237829,\n",
       "       6.84383376, 5.76816936, 3.73011275, 2.39387107, 5.58167759,\n",
       "       3.39523458, 5.83366761, 4.31241247, 5.46495855, 4.5345496 ,\n",
       "       5.05985975, 4.01575003, 6.67880574, 4.19036814, 4.60298405,\n",
       "       6.82472605, 1.97836141, 2.0942725 , 5.45409506, 2.24031489,\n",
       "       6.91543178, 3.37957153, 2.87881778, 6.88441304, 6.22077219,\n",
       "       6.80133844, 5.35906699, 2.70816147, 6.86509743, 3.59799494,\n",
       "       5.20368459, 5.42087795, 3.76748486, 4.92111906, 5.38331001])"
      ]
     },
     "execution_count": 6,
     "metadata": {},
     "output_type": "execute_result"
    }
   ],
   "source": [
    "#Now first of all generate a sample of tv viewers\n",
    "sampleviewers=np.random.normal(loc=4,scale=1.5,size=50) #taking loc as mean and scale as standard deviation\n",
    "sampleviewers"
   ]
  },
  {
   "cell_type": "code",
   "execution_count": null,
   "id": "bff82ab1",
   "metadata": {},
   "outputs": [],
   "source": [
    "#now we have to apply one sample t test for finding p-value"
   ]
  },
  {
   "cell_type": "code",
   "execution_count": 10,
   "id": "cd6ecb41",
   "metadata": {},
   "outputs": [],
   "source": [
    "t_statistic,p_value=stats.ttest_1samp(a=sampleviewers,popmean=4) #import stats from scipy"
   ]
  },
  {
   "cell_type": "code",
   "execution_count": 11,
   "id": "6cc1307d",
   "metadata": {},
   "outputs": [
    {
     "data": {
      "text/plain": [
       "2.364159670360431"
      ]
     },
     "execution_count": 11,
     "metadata": {},
     "output_type": "execute_result"
    }
   ],
   "source": [
    "t_statistic"
   ]
  },
  {
   "cell_type": "code",
   "execution_count": 12,
   "id": "73b68c3e",
   "metadata": {},
   "outputs": [
    {
     "data": {
      "text/plain": [
       "0.022078679230316187"
      ]
     },
     "execution_count": 12,
     "metadata": {},
     "output_type": "execute_result"
    }
   ],
   "source": [
    "p_value"
   ]
  },
  {
   "cell_type": "code",
   "execution_count": null,
   "id": "ef712762",
   "metadata": {},
   "outputs": [],
   "source": [
    "#so p_value is 0.02\n",
    "#Now we have to determine significant value that is alpha."
   ]
  },
  {
   "cell_type": "code",
   "execution_count": 13,
   "id": "736a3cc3",
   "metadata": {},
   "outputs": [
    {
     "data": {
      "text/plain": [
       "0.010000000000000009"
      ]
     },
     "execution_count": 13,
     "metadata": {},
     "output_type": "execute_result"
    }
   ],
   "source": [
    "#We have confidence level of 99% that is 0.99 so for finding alpha we have to\n",
    "alpha=1-0.99\n",
    "alpha"
   ]
  },
  {
   "cell_type": "code",
   "execution_count": null,
   "id": "81be454e",
   "metadata": {},
   "outputs": [],
   "source": [
    "#so value of alpha is 0.01 and p_value is 0.02 which is greater than alpha so there is acceptance of null hypotheses."
   ]
  },
  {
   "cell_type": "code",
   "execution_count": null,
   "id": "c0609a7b",
   "metadata": {},
   "outputs": [],
   "source": [
    "#In this way we can conclude that mean of tv viewers is equal to the specified tv viewers that is 4."
   ]
  },
  {
   "cell_type": "code",
   "execution_count": null,
   "id": "59072b4a",
   "metadata": {},
   "outputs": [],
   "source": []
  }
 ],
 "metadata": {
  "kernelspec": {
   "display_name": "Python 3 (ipykernel)",
   "language": "python",
   "name": "python3"
  },
  "language_info": {
   "codemirror_mode": {
    "name": "ipython",
    "version": 3
   },
   "file_extension": ".py",
   "mimetype": "text/x-python",
   "name": "python",
   "nbconvert_exporter": "python",
   "pygments_lexer": "ipython3",
   "version": "3.11.5"
  }
 },
 "nbformat": 4,
 "nbformat_minor": 5
}
