{
 "cells": [
  {
   "cell_type": "code",
   "execution_count": 2,
   "id": "e49633cc",
   "metadata": {},
   "outputs": [],
   "source": [
    "link=(\"https://colab.research.google.com/drive/1Zr99ZgQFu1i9F1unMq30uVhtXO5InNOR?usp=sharing\")"
   ]
  },
  {
   "cell_type": "code",
   "execution_count": 3,
   "id": "a66b8a0b",
   "metadata": {},
   "outputs": [
    {
     "data": {
      "text/plain": [
       "'https://colab.research.google.com/drive/1Zr99ZgQFu1i9F1unMq30uVhtXO5InNOR?usp=sharing'"
      ]
     },
     "execution_count": 3,
     "metadata": {},
     "output_type": "execute_result"
    }
   ],
   "source": [
    "link\n"
   ]
  },
  {
   "cell_type": "code",
   "execution_count": null,
   "id": "ecfcf18a",
   "metadata": {},
   "outputs": [],
   "source": []
  },
  {
   "cell_type": "code",
   "execution_count": null,
   "id": "f1eb0ece",
   "metadata": {},
   "outputs": [],
   "source": []
  }
 ],
 "metadata": {
  "kernelspec": {
   "display_name": "Python 3 (ipykernel)",
   "language": "python",
   "name": "python3"
  },
  "language_info": {
   "codemirror_mode": {
    "name": "ipython",
    "version": 3
   },
   "file_extension": ".py",
   "mimetype": "text/x-python",
   "name": "python",
   "nbconvert_exporter": "python",
   "pygments_lexer": "ipython3",
   "version": "3.11.5"
  }
 },
 "nbformat": 4,
 "nbformat_minor": 5
}
