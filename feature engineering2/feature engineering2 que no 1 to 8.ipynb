{
 "cells": [
  {
   "cell_type": "markdown",
   "id": "45c63685",
   "metadata": {},
   "source": [
    "# Queno1"
   ]
  },
  {
   "cell_type": "markdown",
   "id": "c0429fb3",
   "metadata": {},
   "source": [
    "# Filter Method"
   ]
  },
  {
   "cell_type": "code",
   "execution_count": null,
   "id": "0f15e781",
   "metadata": {},
   "outputs": [],
   "source": [
    "#Filter method is a feature selection method in machine learning model which increases accuracy of model. "
   ]
  },
  {
   "cell_type": "code",
   "execution_count": null,
   "id": "29c5633f",
   "metadata": {},
   "outputs": [],
   "source": [
    "#In this method it goes through dataset and evaluate each feature's relevance and importance,and find the most valuable\n",
    "#hint leading to accurate prediction."
   ]
  },
  {
   "cell_type": "code",
   "execution_count": null,
   "id": "1a49c18e",
   "metadata": {},
   "outputs": [],
   "source": [
    "#This filter method filters out the irrelevant features in dataset and leave only most informative and relevant ones to \n",
    "#be used in building the model."
   ]
  },
  {
   "cell_type": "code",
   "execution_count": null,
   "id": "06e42dc6",
   "metadata": {},
   "outputs": [],
   "source": [
    "#In this way it increases the accuracy of model after its use."
   ]
  },
  {
   "cell_type": "markdown",
   "id": "2b07745b",
   "metadata": {},
   "source": [
    "# Queno2"
   ]
  },
  {
   "cell_type": "code",
   "execution_count": null,
   "id": "267a0c9a",
   "metadata": {},
   "outputs": [],
   "source": [
    "#In filter method statistical ways are applied to evaluate subset of features while in wrapper method cross validation\n",
    "#method is used to evaluate subset of features."
   ]
  },
  {
   "cell_type": "code",
   "execution_count": null,
   "id": "e6f6c9fb",
   "metadata": {},
   "outputs": [],
   "source": [
    "#Filter method is used within association with a dependent variable while wrapper method is used in dataset\n",
    "#used in training a model in it. \n"
   ]
  },
  {
   "cell_type": "code",
   "execution_count": null,
   "id": "55fdcedd",
   "metadata": {},
   "outputs": [],
   "source": [
    "#Filter method sometimes fail to find best subset of features while wrapper method always gives best subset of features."
   ]
  },
  {
   "cell_type": "markdown",
   "id": "87de6560",
   "metadata": {},
   "source": [
    "# Queno 3"
   ]
  },
  {
   "cell_type": "markdown",
   "id": "87d0a12a",
   "metadata": {},
   "source": [
    "# Embedded feature selection "
   ]
  },
  {
   "cell_type": "code",
   "execution_count": null,
   "id": "1258f39d",
   "metadata": {},
   "outputs": [],
   "source": [
    "#Techniques used in embedded feature selection is regulaization technique that is lasso regaularization and Elastic nets\n",
    "#regularization."
   ]
  },
  {
   "cell_type": "code",
   "execution_count": null,
   "id": "b5cac32e",
   "metadata": {},
   "outputs": [],
   "source": [
    "#Another technique used in thisselection method is tree based method that is random forest,gradient boosting etc."
   ]
  },
  {
   "cell_type": "markdown",
   "id": "2d8fb9f9",
   "metadata": {},
   "source": [
    "# Queno4"
   ]
  },
  {
   "cell_type": "markdown",
   "id": "5f21f183",
   "metadata": {},
   "source": [
    "# Drawbacks of Filter Method"
   ]
  },
  {
   "cell_type": "code",
   "execution_count": null,
   "id": "6aaa7b3d",
   "metadata": {},
   "outputs": [],
   "source": [
    "#Filter methods donot fit the model in machine learning."
   ]
  },
  {
   "cell_type": "code",
   "execution_count": null,
   "id": "b34e6f01",
   "metadata": {},
   "outputs": [],
   "source": [
    "#This method also ignore the interaction between features and models ."
   ]
  },
  {
   "cell_type": "code",
   "execution_count": null,
   "id": "57bb654b",
   "metadata": {},
   "outputs": [],
   "source": [
    "#Filter method evaluate the features individually not in combination with the model."
   ]
  },
  {
   "cell_type": "code",
   "execution_count": null,
   "id": "390e4b12",
   "metadata": {},
   "outputs": [],
   "source": [
    "#This method also donot interact with predictive model which are drawbacks of filter method in feature selection."
   ]
  },
  {
   "cell_type": "markdown",
   "id": "1940e4ea",
   "metadata": {},
   "source": [
    "# Queno5"
   ]
  },
  {
   "cell_type": "code",
   "execution_count": null,
   "id": "b6f9e39f",
   "metadata": {},
   "outputs": [],
   "source": [
    "#Filter method is used in large dataset as it is very fast while wrapper method is used in small dataset because it is \n",
    "#slower than filter method."
   ]
  },
  {
   "cell_type": "code",
   "execution_count": null,
   "id": "435a47a1",
   "metadata": {},
   "outputs": [],
   "source": [
    "#Filter method simply analyze its statistical relation with model's target,using measures such as coorelation while in \n",
    "#wrapper method model used as different subsets of features and finally select the best one."
   ]
  },
  {
   "cell_type": "markdown",
   "id": "b3770308",
   "metadata": {},
   "source": [
    "# Queno 6"
   ]
  },
  {
   "cell_type": "code",
   "execution_count": null,
   "id": "12fd544e",
   "metadata": {},
   "outputs": [],
   "source": [
    "#In this case filter method is used in different types of data in analyzing custumor churn."
   ]
  },
  {
   "cell_type": "code",
   "execution_count": null,
   "id": "fdb125c4",
   "metadata": {},
   "outputs": [],
   "source": [
    "#Attribute here we have to use is to filter by number so that we have to make a  predictive model in relation to number \n",
    "#of customers stop using that product."
   ]
  },
  {
   "cell_type": "markdown",
   "id": "975aabb9",
   "metadata": {},
   "source": [
    "# Queno 7"
   ]
  },
  {
   "cell_type": "code",
   "execution_count": null,
   "id": "bab1d66f",
   "metadata": {},
   "outputs": [],
   "source": [
    "#In an embedded method feature selection is built into classifier algorithm."
   ]
  },
  {
   "cell_type": "code",
   "execution_count": null,
   "id": "3e187377",
   "metadata": {},
   "outputs": [],
   "source": [
    "#So during training model we have to put player stastistics and teamranking or other relevant data in the internal \n",
    "#parameters and determine the level of importance given to each type of data and after that we can produce best classificati\n",
    "#on accuracy through which we can predict the result of the match."
   ]
  },
  {
   "cell_type": "markdown",
   "id": "0eb68deb",
   "metadata": {},
   "source": [
    "# Queno8"
   ]
  },
  {
   "cell_type": "code",
   "execution_count": null,
   "id": "0a610cc1",
   "metadata": {},
   "outputs": [],
   "source": [
    "#Backward elimination technique is most suitable technique in this case of priceprediction of house.  "
   ]
  },
  {
   "cell_type": "code",
   "execution_count": null,
   "id": "d7663b8e",
   "metadata": {},
   "outputs": [],
   "source": [
    "#This method uses an iterative approach where we start with all features and after each iteration we removed the least \n",
    "#significant."
   ]
  },
  {
   "cell_type": "code",
   "execution_count": null,
   "id": "2e1aca8a",
   "metadata": {},
   "outputs": [],
   "source": [
    "#We can apply this this technique till there is no improvement in the model observed."
   ]
  }
 ],
 "metadata": {
  "kernelspec": {
   "display_name": "Python 3 (ipykernel)",
   "language": "python",
   "name": "python3"
  },
  "language_info": {
   "codemirror_mode": {
    "name": "ipython",
    "version": 3
   },
   "file_extension": ".py",
   "mimetype": "text/x-python",
   "name": "python",
   "nbconvert_exporter": "python",
   "pygments_lexer": "ipython3",
   "version": "3.11.5"
  }
 },
 "nbformat": 4,
 "nbformat_minor": 5
}
