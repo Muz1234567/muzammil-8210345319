{
 "cells": [
  {
   "cell_type": "code",
   "execution_count": 1,
   "id": "545c805b-de0e-49e7-8805-808c4ec2c3ad",
   "metadata": {
    "tags": []
   },
   "outputs": [],
   "source": [
    "from requests_html import HTMLSession\n",
    "from bs4 import BeautifulSoup as bs"
   ]
  },
  {
   "cell_type": "code",
   "execution_count": 2,
   "id": "4773413e-2db9-4df8-b6c6-7ad8d967004d",
   "metadata": {
    "tags": []
   },
   "outputs": [],
   "source": [
    "video_url=\"https://www.youtube.com/@PW-Foundation/videos\""
   ]
  },
  {
   "cell_type": "code",
   "execution_count": null,
   "id": "f7b1a52b-a5df-4eff-8d11-98fe76980570",
   "metadata": {},
   "outputs": [],
   "source": [
    "#from this url we have to scrap first five videos and for scrapping videos we have to use video id."
   ]
  },
  {
   "cell_type": "code",
   "execution_count": 8,
   "id": "41e02c3e-9eaa-44db-b398-45ce248a82ef",
   "metadata": {
    "tags": []
   },
   "outputs": [],
   "source": [
    "video1_url=\"https://www.youtube.com/watch?v=Hk38eamyEhc\""
   ]
  },
  {
   "cell_type": "code",
   "execution_count": 9,
   "id": "88c57bb0-ff13-4697-bae5-14eba08f6091",
   "metadata": {
    "tags": []
   },
   "outputs": [],
   "source": [
    "session=HTMLSession()"
   ]
  },
  {
   "cell_type": "code",
   "execution_count": 17,
   "id": "f8ca614c-728d-49ba-94f7-706ac5dd7c65",
   "metadata": {
    "tags": []
   },
   "outputs": [],
   "source": [
    "response=session.get(video1_url)"
   ]
  },
  {
   "cell_type": "code",
   "execution_count": 18,
   "id": "00203ad8-a50c-4ec6-8a35-19cd6aedd89e",
   "metadata": {
    "tags": []
   },
   "outputs": [
    {
     "data": {
      "text/plain": [
       "<bound method HTML.render of <HTML url='https://www.youtube.com/watch?v=Hk38eamyEhc'>>"
      ]
     },
     "execution_count": 18,
     "metadata": {},
     "output_type": "execute_result"
    }
   ],
   "source": [
    "response.html.render"
   ]
  },
  {
   "cell_type": "code",
   "execution_count": 19,
   "id": "2e4b1a35-d1b7-47e4-9223-c3b00a30c857",
   "metadata": {
    "tags": []
   },
   "outputs": [],
   "source": [
    "soup=bs(response.html.html,\"html.parser\")"
   ]
  },
  {
   "cell_type": "code",
   "execution_count": 20,
   "id": "4d220ebf-c59a-4a15-be0a-79ee7a123d7f",
   "metadata": {
    "tags": []
   },
   "outputs": [
    {
     "data": {
      "text/plain": [
       "[<meta content=\"ApvK67ociHgr2egd6c2ZjrfPuRs8BHcvSggogIOPQNH7GJ3cVlyJ1NOq/COCdj0+zxskqHt9HgLLETc8qqD+vwsAAABteyJvcmlnaW4iOiJodHRwczovL3lvdXR1YmUuY29tOjQ0MyIsImZlYXR1cmUiOiJQcml2YWN5U2FuZGJveEFkc0FQSXMiLCJleHBpcnkiOjE2OTUxNjc5OTksImlzU3ViZG9tYWluIjp0cnVlfQ==\" http-equiv=\"origin-trial\"/>,\n",
       " <meta content=\"rgba(255, 255, 255, 0.98)\" name=\"theme-color\"/>,\n",
       " <meta content=\"FEDERALISM in 30 mins || Class - 10TH Boards\" name=\"title\"/>,\n",
       " <meta content=\"📕 Mind map Class: 10th Batch - https://physicswallah.onelink.me/ZAZB/otswytoy📕 Udaan Fastrack 10th CBSE: https://physicswallah.onelink.me/ZAZB/v3dolixz📕 N...\" name=\"description\"/>,\n",
       " <meta content=\"class 10, class 10 sst, federalism class 10, federalism, federalism class 10 one shot, federalism class 10th, federalism class 10 revision, federalism one shot, sst, cbse, sst class 10th, pw, class 10th, pw foundation, federalism sst, sst ncert, federalism class 10 history, federalism class 10 cbse, class 10 federalism, federalism class 10 in hindi, what is federalism class 10, federalism class 10 sst, federalism class 10 chapter 2, class 10 civics chapter 2, cbse class 10\" name=\"keywords\"/>,\n",
       " <meta content=\"YouTube\" property=\"og:site_name\"/>,\n",
       " <meta content=\"https://www.youtube.com/watch?v=Hk38eamyEhc\" property=\"og:url\"/>,\n",
       " <meta content=\"FEDERALISM in 30 mins || Class - 10TH Boards\" property=\"og:title\"/>,\n",
       " <meta content=\"https://i.ytimg.com/vi/Hk38eamyEhc/maxresdefault.jpg\" property=\"og:image\"/>,\n",
       " <meta content=\"1280\" property=\"og:image:width\"/>,\n",
       " <meta content=\"720\" property=\"og:image:height\"/>,\n",
       " <meta content=\"📕 Mind map Class: 10th Batch - https://physicswallah.onelink.me/ZAZB/otswytoy📕 Udaan Fastrack 10th CBSE: https://physicswallah.onelink.me/ZAZB/v3dolixz📕 N...\" property=\"og:description\"/>,\n",
       " <meta content=\"544007664\" property=\"al:ios:app_store_id\"/>,\n",
       " <meta content=\"YouTube\" property=\"al:ios:app_name\"/>,\n",
       " <meta content=\"vnd.youtube://www.youtube.com/watch?v=Hk38eamyEhc&amp;feature=applinks\" property=\"al:ios:url\"/>,\n",
       " <meta content=\"vnd.youtube://www.youtube.com/watch?v=Hk38eamyEhc&amp;feature=applinks\" property=\"al:android:url\"/>,\n",
       " <meta content=\"http://www.youtube.com/watch?v=Hk38eamyEhc&amp;feature=applinks\" property=\"al:web:url\"/>,\n",
       " <meta content=\"video.other\" property=\"og:type\"/>,\n",
       " <meta content=\"https://www.youtube.com/embed/Hk38eamyEhc\" property=\"og:video:url\"/>,\n",
       " <meta content=\"https://www.youtube.com/embed/Hk38eamyEhc\" property=\"og:video:secure_url\"/>,\n",
       " <meta content=\"text/html\" property=\"og:video:type\"/>,\n",
       " <meta content=\"1280\" property=\"og:video:width\"/>,\n",
       " <meta content=\"720\" property=\"og:video:height\"/>,\n",
       " <meta content=\"YouTube\" property=\"al:android:app_name\"/>,\n",
       " <meta content=\"com.google.android.youtube\" property=\"al:android:package\"/>,\n",
       " <meta content=\"class 10\" property=\"og:video:tag\"/>,\n",
       " <meta content=\"class 10 sst\" property=\"og:video:tag\"/>,\n",
       " <meta content=\"federalism class 10\" property=\"og:video:tag\"/>,\n",
       " <meta content=\"federalism\" property=\"og:video:tag\"/>,\n",
       " <meta content=\"federalism class 10 one shot\" property=\"og:video:tag\"/>,\n",
       " <meta content=\"federalism class 10th\" property=\"og:video:tag\"/>,\n",
       " <meta content=\"federalism class 10 revision\" property=\"og:video:tag\"/>,\n",
       " <meta content=\"federalism one shot\" property=\"og:video:tag\"/>,\n",
       " <meta content=\"sst\" property=\"og:video:tag\"/>,\n",
       " <meta content=\"cbse\" property=\"og:video:tag\"/>,\n",
       " <meta content=\"sst class 10th\" property=\"og:video:tag\"/>,\n",
       " <meta content=\"pw\" property=\"og:video:tag\"/>,\n",
       " <meta content=\"class 10th\" property=\"og:video:tag\"/>,\n",
       " <meta content=\"pw foundation\" property=\"og:video:tag\"/>,\n",
       " <meta content=\"federalism sst\" property=\"og:video:tag\"/>,\n",
       " <meta content=\"sst ncert\" property=\"og:video:tag\"/>,\n",
       " <meta content=\"federalism class 10 history\" property=\"og:video:tag\"/>,\n",
       " <meta content=\"federalism class 10 cbse\" property=\"og:video:tag\"/>,\n",
       " <meta content=\"class 10 federalism\" property=\"og:video:tag\"/>,\n",
       " <meta content=\"federalism class 10 in hindi\" property=\"og:video:tag\"/>,\n",
       " <meta content=\"what is federalism class 10\" property=\"og:video:tag\"/>,\n",
       " <meta content=\"federalism class 10 sst\" property=\"og:video:tag\"/>,\n",
       " <meta content=\"federalism class 10 chapter 2\" property=\"og:video:tag\"/>,\n",
       " <meta content=\"class 10 civics chapter 2\" property=\"og:video:tag\"/>,\n",
       " <meta content=\"cbse class 10\" property=\"og:video:tag\"/>,\n",
       " <meta content=\"87741124305\" property=\"fb:app_id\"/>,\n",
       " <meta content=\"player\" name=\"twitter:card\"/>,\n",
       " <meta content=\"@youtube\" name=\"twitter:site\"/>,\n",
       " <meta content=\"https://www.youtube.com/watch?v=Hk38eamyEhc\" name=\"twitter:url\"/>,\n",
       " <meta content=\"FEDERALISM in 30 mins || Class - 10TH Boards\" name=\"twitter:title\"/>,\n",
       " <meta content=\"📕 Mind map Class: 10th Batch - https://physicswallah.onelink.me/ZAZB/otswytoy📕 Udaan Fastrack 10th CBSE: https://physicswallah.onelink.me/ZAZB/v3dolixz📕 N...\" name=\"twitter:description\"/>,\n",
       " <meta content=\"https://i.ytimg.com/vi/Hk38eamyEhc/maxresdefault.jpg\" name=\"twitter:image\"/>,\n",
       " <meta content=\"YouTube\" name=\"twitter:app:name:iphone\"/>,\n",
       " <meta content=\"544007664\" name=\"twitter:app:id:iphone\"/>,\n",
       " <meta content=\"YouTube\" name=\"twitter:app:name:ipad\"/>,\n",
       " <meta content=\"544007664\" name=\"twitter:app:id:ipad\"/>,\n",
       " <meta content=\"vnd.youtube://www.youtube.com/watch?v=Hk38eamyEhc&amp;feature=applinks\" name=\"twitter:app:url:iphone\"/>,\n",
       " <meta content=\"vnd.youtube://www.youtube.com/watch?v=Hk38eamyEhc&amp;feature=applinks\" name=\"twitter:app:url:ipad\"/>,\n",
       " <meta content=\"YouTube\" name=\"twitter:app:name:googleplay\"/>,\n",
       " <meta content=\"com.google.android.youtube\" name=\"twitter:app:id:googleplay\"/>,\n",
       " <meta content=\"https://www.youtube.com/watch?v=Hk38eamyEhc\" name=\"twitter:app:url:googleplay\"/>,\n",
       " <meta content=\"https://www.youtube.com/embed/Hk38eamyEhc\" name=\"twitter:player\"/>,\n",
       " <meta content=\"1280\" name=\"twitter:player:width\"/>,\n",
       " <meta content=\"720\" name=\"twitter:player:height\"/>,\n",
       " <meta content=\"FEDERALISM in 30 mins || Class - 10TH Boards\" itemprop=\"name\"/>,\n",
       " <meta content=\"📕 Mind map Class: 10th Batch - https://physicswallah.onelink.me/ZAZB/otswytoy📕 Udaan Fastrack 10th CBSE: https://physicswallah.onelink.me/ZAZB/v3dolixz📕 N...\" itemprop=\"description\"/>,\n",
       " <meta content=\"False\" itemprop=\"requiresSubscription\"/>,\n",
       " <meta content=\"Hk38eamyEhc\" itemprop=\"identifier\"/>,\n",
       " <meta content=\"PT31M18S\" itemprop=\"duration\"/>,\n",
       " <meta content=\"1280\" itemprop=\"width\"/>,\n",
       " <meta content=\"720\" itemprop=\"height\"/>,\n",
       " <meta content=\"HTML5 Flash\" itemprop=\"playerType\"/>,\n",
       " <meta content=\"1280\" itemprop=\"width\"/>,\n",
       " <meta content=\"720\" itemprop=\"height\"/>,\n",
       " <meta content=\"true\" itemprop=\"isFamilyFriendly\"/>,\n",
       " <meta content=\"AD,AE,AF,AG,AI,AL,AM,AO,AQ,AR,AS,AT,AU,AW,AX,AZ,BA,BB,BD,BE,BF,BG,BH,BI,BJ,BL,BM,BN,BO,BQ,BR,BS,BT,BV,BW,BY,BZ,CA,CC,CD,CF,CG,CH,CI,CK,CL,CM,CN,CO,CR,CU,CV,CW,CX,CY,CZ,DE,DJ,DK,DM,DO,DZ,EC,EE,EG,EH,ER,ES,ET,FI,FJ,FK,FM,FO,FR,GA,GB,GD,GE,GF,GG,GH,GI,GL,GM,GN,GP,GQ,GR,GS,GT,GU,GW,GY,HK,HM,HN,HR,HT,HU,ID,IE,IL,IM,IN,IO,IQ,IR,IS,IT,JE,JM,JO,JP,KE,KG,KH,KI,KM,KN,KP,KR,KW,KY,KZ,LA,LB,LC,LI,LK,LR,LS,LT,LU,LV,LY,MA,MC,MD,ME,MF,MG,MH,MK,ML,MM,MN,MO,MP,MQ,MR,MS,MT,MU,MV,MW,MX,MY,MZ,NA,NC,NE,NF,NG,NI,NL,NO,NP,NR,NU,NZ,OM,PA,PE,PF,PG,PH,PK,PL,PM,PN,PR,PS,PT,PW,PY,QA,RE,RO,RS,RU,RW,SA,SB,SC,SD,SE,SG,SH,SI,SJ,SK,SL,SM,SN,SO,SR,SS,ST,SV,SX,SY,SZ,TC,TD,TF,TG,TH,TJ,TK,TL,TM,TN,TO,TR,TT,TV,TW,TZ,UA,UG,UM,US,UY,UZ,VA,VC,VE,VG,VI,VN,VU,WF,WS,YE,YT,ZA,ZM,ZW\" itemprop=\"regionsAllowed\"/>,\n",
       " <meta content=\"4026\" itemprop=\"interactionCount\"/>,\n",
       " <meta content=\"2023-10-10T05:30:09-07:00\" itemprop=\"datePublished\"/>,\n",
       " <meta content=\"2023-10-10T05:30:09-07:00\" itemprop=\"uploadDate\"/>,\n",
       " <meta content=\"Education\" itemprop=\"genre\"/>,\n",
       " <meta content=\"Lecture\" itemprop=\"learningResourceType\"/>]"
      ]
     },
     "execution_count": 20,
     "metadata": {},
     "output_type": "execute_result"
    }
   ],
   "source": [
    "soup.find_all(\"meta\")"
   ]
  },
  {
   "cell_type": "code",
   "execution_count": 21,
   "id": "c7855caf-6d35-411e-a26f-cd2d07d68a49",
   "metadata": {
    "tags": []
   },
   "outputs": [
    {
     "data": {
      "text/plain": [
       "<meta content=\"https://i.ytimg.com/vi/Hk38eamyEhc/maxresdefault.jpg\" property=\"og:image\"/>"
      ]
     },
     "execution_count": 21,
     "metadata": {},
     "output_type": "execute_result"
    }
   ],
   "source": [
    "soup.find(\"meta\",property=\"og:image\")"
   ]
  },
  {
   "cell_type": "code",
   "execution_count": 22,
   "id": "ba14aed3-b2e9-4b9e-a0bf-82f50e7544c3",
   "metadata": {
    "tags": []
   },
   "outputs": [
    {
     "data": {
      "text/plain": [
       "<meta content=\"https://www.youtube.com/watch?v=Hk38eamyEhc\" property=\"og:url\"/>"
      ]
     },
     "execution_count": 22,
     "metadata": {},
     "output_type": "execute_result"
    }
   ],
   "source": [
    "soup.find(\"meta\",property=\"og:url\")"
   ]
  },
  {
   "cell_type": "code",
   "execution_count": null,
   "id": "92f75ced-1188-483b-abc9-ff2d22e98def",
   "metadata": {},
   "outputs": [],
   "source": [
    "#so in this way we are able to scrap thumnail and url of video 1."
   ]
  },
  {
   "cell_type": "code",
   "execution_count": 23,
   "id": "2697f654-3fc3-4633-a1b9-a71eb61e672b",
   "metadata": {
    "tags": []
   },
   "outputs": [],
   "source": [
    "video2_url=\"https://www.youtube.com/watch?v=3xcO-Uci14o\""
   ]
  },
  {
   "cell_type": "code",
   "execution_count": 24,
   "id": "6b520ef4-9dbe-4111-9dd9-78fe1b374032",
   "metadata": {
    "tags": []
   },
   "outputs": [],
   "source": [
    "response=session.get(video2_url)"
   ]
  },
  {
   "cell_type": "code",
   "execution_count": 25,
   "id": "d6002a2f-0980-478e-84f9-139e5084fbea",
   "metadata": {
    "tags": []
   },
   "outputs": [
    {
     "data": {
      "text/plain": [
       "<bound method HTML.render of <HTML url='https://www.youtube.com/watch?v=3xcO-Uci14o'>>"
      ]
     },
     "execution_count": 25,
     "metadata": {},
     "output_type": "execute_result"
    }
   ],
   "source": [
    "response.html.render"
   ]
  },
  {
   "cell_type": "code",
   "execution_count": 26,
   "id": "57590625-9b4c-4608-bdbd-afaec59dd120",
   "metadata": {
    "tags": []
   },
   "outputs": [],
   "source": [
    "soup=bs(response.html.html,\"html.parser\")"
   ]
  },
  {
   "cell_type": "code",
   "execution_count": 27,
   "id": "a9852404-fb61-43ac-b7c6-40c2292aa913",
   "metadata": {
    "tags": []
   },
   "outputs": [
    {
     "data": {
      "text/plain": [
       "<meta content=\"https://i.ytimg.com/vi/3xcO-Uci14o/maxresdefault.jpg\" property=\"og:image\"/>"
      ]
     },
     "execution_count": 27,
     "metadata": {},
     "output_type": "execute_result"
    }
   ],
   "source": [
    "soup.find(\"meta\",property=\"og:image\")"
   ]
  },
  {
   "cell_type": "code",
   "execution_count": 28,
   "id": "f341d58d-922f-437c-ab37-cdca5912e8c4",
   "metadata": {
    "tags": []
   },
   "outputs": [
    {
     "data": {
      "text/plain": [
       "<meta content=\"https://www.youtube.com/watch?v=3xcO-Uci14o\" property=\"og:url\"/>"
      ]
     },
     "execution_count": 28,
     "metadata": {},
     "output_type": "execute_result"
    }
   ],
   "source": [
    "soup.find(\"meta\",property=\"og:url\")"
   ]
  },
  {
   "cell_type": "code",
   "execution_count": null,
   "id": "ef6a3cc8-ecc0-4a2c-8cd1-fa2cd37ad814",
   "metadata": {},
   "outputs": [],
   "source": [
    "#this are scrap data of video 2"
   ]
  },
  {
   "cell_type": "code",
   "execution_count": 29,
   "id": "b1073a6e-26e4-4fca-add4-ba21afe07cf4",
   "metadata": {
    "tags": []
   },
   "outputs": [],
   "source": [
    "video3_url=\"https://www.youtube.com/watch?v=9psNUS-2Bow\""
   ]
  },
  {
   "cell_type": "code",
   "execution_count": 30,
   "id": "1220ce3d-1356-4203-a1b9-9dd1dd797267",
   "metadata": {
    "tags": []
   },
   "outputs": [],
   "source": [
    "response=session.get(video3_url)"
   ]
  },
  {
   "cell_type": "code",
   "execution_count": 31,
   "id": "60aa18e7-0aab-4bfa-b03d-5310f655d062",
   "metadata": {
    "tags": []
   },
   "outputs": [
    {
     "data": {
      "text/plain": [
       "<bound method HTML.render of <HTML url='https://www.youtube.com/watch?v=9psNUS-2Bow'>>"
      ]
     },
     "execution_count": 31,
     "metadata": {},
     "output_type": "execute_result"
    }
   ],
   "source": [
    "response.html.render"
   ]
  },
  {
   "cell_type": "code",
   "execution_count": 32,
   "id": "d2447118-3aca-4b0a-b0b3-876a9b58c9a9",
   "metadata": {
    "tags": []
   },
   "outputs": [],
   "source": [
    "soup=bs(response.html.html,\"html.parser\")"
   ]
  },
  {
   "cell_type": "code",
   "execution_count": 33,
   "id": "65e5df94-a99e-4b89-be26-2547ed62978f",
   "metadata": {
    "tags": []
   },
   "outputs": [
    {
     "data": {
      "text/plain": [
       "<meta content=\"https://i.ytimg.com/vi/9psNUS-2Bow/maxresdefault.jpg\" property=\"og:image\"/>"
      ]
     },
     "execution_count": 33,
     "metadata": {},
     "output_type": "execute_result"
    }
   ],
   "source": [
    "soup.find(\"meta\",property=\"og:image\")"
   ]
  },
  {
   "cell_type": "code",
   "execution_count": 34,
   "id": "00c6208a-4d5d-4729-9c1e-6f2fe61fb022",
   "metadata": {
    "tags": []
   },
   "outputs": [
    {
     "data": {
      "text/plain": [
       "<meta content=\"https://www.youtube.com/watch?v=9psNUS-2Bow\" property=\"og:url\"/>"
      ]
     },
     "execution_count": 34,
     "metadata": {},
     "output_type": "execute_result"
    }
   ],
   "source": [
    "soup.find(\"meta\",property=\"og:url\")"
   ]
  },
  {
   "cell_type": "code",
   "execution_count": null,
   "id": "eb65849a-dc96-4af2-875a-10f877b86e19",
   "metadata": {},
   "outputs": [],
   "source": [
    "#these are scraped data of video3."
   ]
  },
  {
   "cell_type": "code",
   "execution_count": 35,
   "id": "709af405-de30-4204-b887-b4274726ad21",
   "metadata": {
    "tags": []
   },
   "outputs": [],
   "source": [
    "video4_url=\"https://www.youtube.com/watch?v=Zyw6KS4myIY\""
   ]
  },
  {
   "cell_type": "code",
   "execution_count": 36,
   "id": "84733009-6879-492d-aa20-c7d6594d4057",
   "metadata": {
    "tags": []
   },
   "outputs": [],
   "source": [
    "response=session.get(video4_url)"
   ]
  },
  {
   "cell_type": "code",
   "execution_count": 37,
   "id": "f7413fe6-35a1-4203-b8f6-0743519bee21",
   "metadata": {
    "tags": []
   },
   "outputs": [
    {
     "data": {
      "text/plain": [
       "<bound method HTML.render of <HTML url='https://www.youtube.com/watch?v=Zyw6KS4myIY'>>"
      ]
     },
     "execution_count": 37,
     "metadata": {},
     "output_type": "execute_result"
    }
   ],
   "source": [
    "response.html.render"
   ]
  },
  {
   "cell_type": "code",
   "execution_count": 38,
   "id": "7988a757-9b42-4edf-8924-5adf392a7f3f",
   "metadata": {
    "tags": []
   },
   "outputs": [],
   "source": [
    "soup=bs(response.html.html,\"html.parser\")"
   ]
  },
  {
   "cell_type": "code",
   "execution_count": 39,
   "id": "f7e0046f-df0c-4e4f-92eb-efc6ab65820c",
   "metadata": {
    "tags": []
   },
   "outputs": [
    {
     "data": {
      "text/plain": [
       "<meta content=\"https://i.ytimg.com/vi/Zyw6KS4myIY/maxresdefault.jpg\" property=\"og:image\"/>"
      ]
     },
     "execution_count": 39,
     "metadata": {},
     "output_type": "execute_result"
    }
   ],
   "source": [
    "soup.find(\"meta\",property=\"og:image\")"
   ]
  },
  {
   "cell_type": "code",
   "execution_count": 40,
   "id": "68130986-951c-4f8e-9b98-2cee527d5b2c",
   "metadata": {
    "tags": []
   },
   "outputs": [
    {
     "data": {
      "text/plain": [
       "<meta content=\"https://www.youtube.com/watch?v=Zyw6KS4myIY\" property=\"og:url\"/>"
      ]
     },
     "execution_count": 40,
     "metadata": {},
     "output_type": "execute_result"
    }
   ],
   "source": [
    "soup.find(\"meta\",property=\"og:url\")"
   ]
  },
  {
   "cell_type": "code",
   "execution_count": null,
   "id": "481e1827-7ee1-4dde-9f9b-3aa6f6338d44",
   "metadata": {},
   "outputs": [],
   "source": [
    "#these are scrapped data of video 4"
   ]
  },
  {
   "cell_type": "code",
   "execution_count": 41,
   "id": "d534543a-7549-4af0-83de-187c13ddb641",
   "metadata": {
    "tags": []
   },
   "outputs": [],
   "source": [
    "video5_url=\"https://www.youtube.com/watch?v=fP0E43Y6ldI\""
   ]
  },
  {
   "cell_type": "code",
   "execution_count": 43,
   "id": "9091fe28-e5db-456b-b19a-8c6ce344660a",
   "metadata": {
    "tags": []
   },
   "outputs": [],
   "source": [
    "response=session.get(video5_url)"
   ]
  },
  {
   "cell_type": "code",
   "execution_count": 44,
   "id": "8e80851d-f78c-45cf-bdaa-5a69c5c9c86b",
   "metadata": {
    "tags": []
   },
   "outputs": [
    {
     "data": {
      "text/plain": [
       "<bound method HTML.render of <HTML url='https://www.youtube.com/watch?v=fP0E43Y6ldI'>>"
      ]
     },
     "execution_count": 44,
     "metadata": {},
     "output_type": "execute_result"
    }
   ],
   "source": [
    "response.html.render"
   ]
  },
  {
   "cell_type": "code",
   "execution_count": 45,
   "id": "ec99f995-81f9-4842-a837-e78f7f4e3094",
   "metadata": {
    "tags": []
   },
   "outputs": [],
   "source": [
    "soup=bs(response.html.html,\"html.parser\")"
   ]
  },
  {
   "cell_type": "code",
   "execution_count": 46,
   "id": "be76b2ac-9572-4da4-92e3-5f1013de3b11",
   "metadata": {
    "tags": []
   },
   "outputs": [
    {
     "data": {
      "text/plain": [
       "<meta content=\"https://i.ytimg.com/vi/fP0E43Y6ldI/maxresdefault.jpg\" property=\"og:image\"/>"
      ]
     },
     "execution_count": 46,
     "metadata": {},
     "output_type": "execute_result"
    }
   ],
   "source": [
    "soup.find(\"meta\",property=\"og:image\")"
   ]
  },
  {
   "cell_type": "code",
   "execution_count": 47,
   "id": "c575ae44-f837-4f8f-8762-861c62d67b48",
   "metadata": {
    "tags": []
   },
   "outputs": [
    {
     "data": {
      "text/plain": [
       "<meta content=\"https://www.youtube.com/watch?v=fP0E43Y6ldI\" property=\"og:url\"/>"
      ]
     },
     "execution_count": 47,
     "metadata": {},
     "output_type": "execute_result"
    }
   ],
   "source": [
    "soup.find(\"meta\",property=\"og:url\")"
   ]
  },
  {
   "cell_type": "code",
   "execution_count": null,
   "id": "ced5301a-17c8-466d-b20f-37a60d9d4228",
   "metadata": {},
   "outputs": [],
   "source": [
    "#these are scrapped data of video 5"
   ]
  },
  {
   "cell_type": "code",
   "execution_count": null,
   "id": "1419ae5c-9348-4336-b170-3bf8740c5a25",
   "metadata": {},
   "outputs": [],
   "source": []
  }
 ],
 "metadata": {
  "kernelspec": {
   "display_name": "Python 3 (ipykernel)",
   "language": "python",
   "name": "python3"
  },
  "language_info": {
   "codemirror_mode": {
    "name": "ipython",
    "version": 3
   },
   "file_extension": ".py",
   "mimetype": "text/x-python",
   "name": "python",
   "nbconvert_exporter": "python",
   "pygments_lexer": "ipython3",
   "version": "3.11.5"
  }
 },
 "nbformat": 4,
 "nbformat_minor": 5
}
