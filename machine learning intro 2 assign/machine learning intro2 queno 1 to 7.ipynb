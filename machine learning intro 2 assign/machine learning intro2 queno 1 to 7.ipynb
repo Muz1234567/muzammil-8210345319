{
 "cells": [
  {
   "cell_type": "markdown",
   "id": "9727e6e5",
   "metadata": {},
   "source": [
    "# Queno 1 and 3"
   ]
  },
  {
   "cell_type": "markdown",
   "id": "8a15fc1f",
   "metadata": {},
   "source": [
    "# Overfitting In Machine Learning"
   ]
  },
  {
   "cell_type": "code",
   "execution_count": null,
   "id": "9a05c1b5",
   "metadata": {},
   "outputs": [],
   "source": [
    "#An overfitted statistical model does not make accurate prediction on testing data."
   ]
  },
  {
   "cell_type": "code",
   "execution_count": null,
   "id": "d1a93f7b",
   "metadata": {},
   "outputs": [],
   "source": [
    "#This happens when model gets trained with so much data and it starts learning from noise and inaccurate dataset enters\n",
    "#in our dataset."
   ]
  },
  {
   "cell_type": "code",
   "execution_count": null,
   "id": "9e984f60",
   "metadata": {},
   "outputs": [],
   "source": [
    "#Overfitting in model caused by high variance and low bias."
   ]
  },
  {
   "cell_type": "code",
   "execution_count": null,
   "id": "c9cfed64",
   "metadata": {},
   "outputs": [],
   "source": [
    "#This happens due to using of non linear methods algorithm as they have more freedom in building model base on dataset and \n",
    "#therefore they can really build unrealistic models."
   ]
  },
  {
   "cell_type": "code",
   "execution_count": null,
   "id": "ec9bd398",
   "metadata": {},
   "outputs": [],
   "source": [
    "#Overfitting can be avoided by using linear algorithm if we have linear data or wecan use decision tree maximal depth. "
   ]
  },
  {
   "cell_type": "markdown",
   "id": "386f38be",
   "metadata": {},
   "source": [
    "# Underfitting In Machine Learning"
   ]
  },
  {
   "cell_type": "code",
   "execution_count": null,
   "id": "82013d68",
   "metadata": {},
   "outputs": [],
   "source": [
    "#Underfitting in machine learning occurs when model is too simple to capture data complexities."
   ]
  },
  {
   "cell_type": "code",
   "execution_count": null,
   "id": "5d76fab0",
   "metadata": {},
   "outputs": [],
   "source": [
    "#It represents inability of model to learn training data effectively which result in poor performance both on training and \n",
    "#testing data."
   ]
  },
  {
   "cell_type": "code",
   "execution_count": null,
   "id": "641f29ea",
   "metadata": {},
   "outputs": [],
   "source": [
    "#Underfitting model has high bias and low variance."
   ]
  },
  {
   "cell_type": "code",
   "execution_count": null,
   "id": "0d4f2da3",
   "metadata": {},
   "outputs": [],
   "source": [
    "#To avoid underfitting we need to use more complex models with enhanced feature representation and increase duration of\n",
    "#training data to get better result."
   ]
  },
  {
   "cell_type": "markdown",
   "id": "b740c692",
   "metadata": {},
   "source": [
    "# Queno 2"
   ]
  },
  {
   "cell_type": "code",
   "execution_count": null,
   "id": "4afaf04a",
   "metadata": {},
   "outputs": [],
   "source": [
    "#Overfitting in machine learning can be reduced first of all we have to reduce model complexity."
   ]
  },
  {
   "cell_type": "code",
   "execution_count": null,
   "id": "ae00da68",
   "metadata": {},
   "outputs": [],
   "source": [
    "#We also have to increase training data and we can also use dropout for neural network algorithm to avoid overfitting."
   ]
  },
  {
   "cell_type": "markdown",
   "id": "5abba5e0",
   "metadata": {},
   "source": [
    "# Queno 4"
   ]
  },
  {
   "cell_type": "markdown",
   "id": "197999c6",
   "metadata": {},
   "source": [
    "# Bias Variance Tradeoff"
   ]
  },
  {
   "cell_type": "code",
   "execution_count": null,
   "id": "ece23b3f",
   "metadata": {},
   "outputs": [],
   "source": [
    "#If in a model algorithm is too simple with linear equation then it may be on high bias and low variance."
   ]
  },
  {
   "cell_type": "code",
   "execution_count": null,
   "id": "1bcedfc8",
   "metadata": {},
   "outputs": [],
   "source": [
    "#While if the algorithm is too complex with high degree equation then it may be on high variance and low bias."
   ]
  },
  {
   "cell_type": "code",
   "execution_count": null,
   "id": "126bfef2",
   "metadata": {},
   "outputs": [],
   "source": [
    "#So bias variance tradeoff is term in which algorithm cant be more complex and very less complex at same time as it tells\n",
    "#about the relationship between bias and variance."
   ]
  },
  {
   "cell_type": "code",
   "execution_count": null,
   "id": "4f5f4d74",
   "metadata": {},
   "outputs": [],
   "source": [
    "#It is impossible to have an machine learning model with low bias and low variance."
   ]
  },
  {
   "cell_type": "code",
   "execution_count": null,
   "id": "e90900c0",
   "metadata": {},
   "outputs": [],
   "source": [
    "#When data engineer modifies machine learning algorithm to have more better dataset it will have low bias and increase\n",
    "#its variance."
   ]
  },
  {
   "cell_type": "markdown",
   "id": "f47324ee",
   "metadata": {},
   "source": [
    "# Que no 5"
   ]
  },
  {
   "cell_type": "code",
   "execution_count": null,
   "id": "596c4d7b",
   "metadata": {},
   "outputs": [],
   "source": [
    "#Overfittting occurs when model is too complex and fits training data too closely which results in poor performance."
   ]
  },
  {
   "cell_type": "code",
   "execution_count": null,
   "id": "e449ab0a",
   "metadata": {},
   "outputs": [],
   "source": [
    "#Overfitting in model can be detected by cross validation where we split data in to training and validation."
   ]
  },
  {
   "cell_type": "code",
   "execution_count": null,
   "id": "d14cfca4",
   "metadata": {},
   "outputs": [],
   "source": [
    "#After evaluating if model performs well on training data but not well on validation data it may be overfitting."
   ]
  },
  {
   "cell_type": "code",
   "execution_count": null,
   "id": "086a595e",
   "metadata": {},
   "outputs": [],
   "source": [
    "#Underfitting in machine learning occurs when model is too simple and cannot capture pattern in data resulting in poor \n",
    "#performance both on training and test data."
   ]
  },
  {
   "cell_type": "code",
   "execution_count": null,
   "id": "02dd840b",
   "metadata": {},
   "outputs": [],
   "source": [
    "#If model has bias and perform poorly on training data it may be underfitting."
   ]
  },
  {
   "cell_type": "markdown",
   "id": "4445446a",
   "metadata": {},
   "source": [
    "# Queno 6"
   ]
  },
  {
   "cell_type": "markdown",
   "id": "9dbcbd39",
   "metadata": {},
   "source": [
    "# Bias vs Variance"
   ]
  },
  {
   "cell_type": "code",
   "execution_count": null,
   "id": "0d4ca0df",
   "metadata": {},
   "outputs": [],
   "source": [
    "#Bias is defined as inability of the model becauseof that there issome error occuring between model's predicted value and\n",
    "#actual value."
   ]
  },
  {
   "cell_type": "code",
   "execution_count": null,
   "id": "22e4e660",
   "metadata": {},
   "outputs": [],
   "source": [
    "#While variance is measure of spread of data from its mean position."
   ]
  },
  {
   "cell_type": "code",
   "execution_count": null,
   "id": "052917d4",
   "metadata": {},
   "outputs": [],
   "source": [
    "#Bias is a systematic error occur due to wrong assumption."
   ]
  },
  {
   "cell_type": "code",
   "execution_count": null,
   "id": "eaa7dcbc",
   "metadata": {},
   "outputs": [],
   "source": [
    "#Variance is variability of model that how much it is sensitive to another subset of training dataset."
   ]
  },
  {
   "cell_type": "code",
   "execution_count": null,
   "id": "5dd1fd2b",
   "metadata": {},
   "outputs": [],
   "source": [
    "#In low bias less assumptions are taken to build the target and in this case model will closely match training dataset."
   ]
  },
  {
   "cell_type": "code",
   "execution_count": null,
   "id": "0439adfa",
   "metadata": {},
   "outputs": [],
   "source": [
    "#In high bias more assumptions are taken to build the target function and in this case model will not match training \n",
    "#dataset closely."
   ]
  },
  {
   "cell_type": "code",
   "execution_count": null,
   "id": "5a3cc99e",
   "metadata": {},
   "outputs": [],
   "source": [
    "#High bias in model also leads to underfitting as it will not be able to capture dataset trend and leads to high error."
   ]
  },
  {
   "cell_type": "code",
   "execution_count": null,
   "id": "dcadc4d3",
   "metadata": {},
   "outputs": [],
   "source": [
    "#While in case of variance if variance is low then it means that model is less sensitive to changes in training data\n",
    "#and produce consistent estimates of target function."
   ]
  },
  {
   "cell_type": "code",
   "execution_count": null,
   "id": "16ab349d",
   "metadata": {},
   "outputs": [],
   "source": [
    "#While in high variance model means that model is very sensitive to changes in training data and can result in significa\n",
    "#nt changes in the estimate of target function when trained on different subsets of data from same distribution."
   ]
  },
  {
   "cell_type": "markdown",
   "id": "50ba28c0",
   "metadata": {},
   "source": [
    "# Queno 7"
   ]
  },
  {
   "cell_type": "markdown",
   "id": "d4472732",
   "metadata": {},
   "source": [
    "# Regularization in Machine learning"
   ]
  },
  {
   "cell_type": "code",
   "execution_count": null,
   "id": "cd9f1464",
   "metadata": {},
   "outputs": [],
   "source": [
    "#Regularization is a technique used to solve the problem in overfitting in machine learning."
   ]
  },
  {
   "cell_type": "code",
   "execution_count": null,
   "id": "dc9a9dfa",
   "metadata": {},
   "outputs": [],
   "source": [
    "#Regularization is a technique used to reduce errors by fitting function appropriately on the given training set and avoid\n",
    "#overfitting."
   ]
  },
  {
   "cell_type": "code",
   "execution_count": null,
   "id": "df17a96c",
   "metadata": {},
   "outputs": [],
   "source": [
    "#Commonly used regularization technique are;lasso or l1 regularizatio,ridge or l2 regularization and elastic net \n",
    "#regularization l1 or l2."
   ]
  },
  {
   "cell_type": "code",
   "execution_count": null,
   "id": "ac2ffbcd",
   "metadata": {},
   "outputs": [],
   "source": [
    "#L1 regression help achieving feature selection by penalizing weights to approximately equal to zero if that feature\n",
    "#does not serve any purpose in model."
   ]
  },
  {
   "cell_type": "code",
   "execution_count": null,
   "id": "9f44d0db",
   "metadata": {},
   "outputs": [],
   "source": [
    "#l2 regression adds squared magnitude of coefficient as a penalty term to loss function."
   ]
  },
  {
   "cell_type": "code",
   "execution_count": null,
   "id": "96bd7427",
   "metadata": {},
   "outputs": [],
   "source": [
    "#With the help of extra hyperparameter that controls ratio of l1 and l2 regularization we can add absolute norm of weights\n",
    "#as well as squaredmeasure of weights."
   ]
  }
 ],
 "metadata": {
  "kernelspec": {
   "display_name": "Python 3 (ipykernel)",
   "language": "python",
   "name": "python3"
  },
  "language_info": {
   "codemirror_mode": {
    "name": "ipython",
    "version": 3
   },
   "file_extension": ".py",
   "mimetype": "text/x-python",
   "name": "python",
   "nbconvert_exporter": "python",
   "pygments_lexer": "ipython3",
   "version": "3.11.5"
  }
 },
 "nbformat": 4,
 "nbformat_minor": 5
}
