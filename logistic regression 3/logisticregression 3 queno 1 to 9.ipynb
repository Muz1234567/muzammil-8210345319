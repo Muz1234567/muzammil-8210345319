{
 "cells": [
  {
   "cell_type": "markdown",
   "id": "d2be335e",
   "metadata": {},
   "source": [
    "# Queno 1"
   ]
  },
  {
   "cell_type": "code",
   "execution_count": null,
   "id": "f7ef0345",
   "metadata": {},
   "outputs": [],
   "source": [
    "#Recall is the ability of a model to find all relevant cases within a dataset. "
   ]
  },
  {
   "cell_type": "code",
   "execution_count": null,
   "id": "d0faff56",
   "metadata": {},
   "outputs": [],
   "source": [
    "#Recall is defined as the number of true positives divided by number of true positives plus number of false negatives. "
   ]
  },
  {
   "cell_type": "code",
   "execution_count": null,
   "id": "0044ccad",
   "metadata": {},
   "outputs": [],
   "source": [
    "#True positives are data points classified as positive by the model that actually are positive and false negatives are\n",
    "#data points the model identifies as negative that actually are positive."
   ]
  },
  {
   "cell_type": "code",
   "execution_count": null,
   "id": "cecd966e",
   "metadata": {},
   "outputs": [],
   "source": [
    "#While Precision is the ability of a classification model to identify only the relevant data points."
   ]
  },
  {
   "cell_type": "code",
   "execution_count": null,
   "id": "d5a28486",
   "metadata": {},
   "outputs": [],
   "source": [
    "#Precision is the number of true positives plus the number of false positives."
   ]
  },
  {
   "cell_type": "code",
   "execution_count": null,
   "id": "41d9744f",
   "metadata": {},
   "outputs": [],
   "source": [
    "#False positive are case the model incorrectly labels as positive that are actually negative."
   ]
  },
  {
   "cell_type": "markdown",
   "id": "ac86aaea",
   "metadata": {},
   "source": [
    "# Queno2"
   ]
  },
  {
   "cell_type": "markdown",
   "id": "df199311",
   "metadata": {},
   "source": [
    "# F1 score"
   ]
  },
  {
   "cell_type": "code",
   "execution_count": null,
   "id": "48ab7826",
   "metadata": {},
   "outputs": [],
   "source": [
    "#F1 score is machine learning evaluation metric which measures model's accuracy."
   ]
  },
  {
   "cell_type": "code",
   "execution_count": null,
   "id": "a8839ff2",
   "metadata": {},
   "outputs": [],
   "source": [
    "#F1 score combines precision and recall using their harmonic mean and maximising both precision and recall. "
   ]
  },
  {
   "cell_type": "code",
   "execution_count": null,
   "id": "cea681d3",
   "metadata": {},
   "outputs": [],
   "source": [
    "#F1 score is calculated as harmonic mean of the precision and recall scores. "
   ]
  },
  {
   "cell_type": "code",
   "execution_count": null,
   "id": "b7a1f571",
   "metadata": {},
   "outputs": [],
   "source": [
    "#A higher F1 score denotes a better quality classifier."
   ]
  },
  {
   "cell_type": "code",
   "execution_count": null,
   "id": "5eb360fa",
   "metadata": {},
   "outputs": [],
   "source": [
    "#Formulae for calculating F1 score is =2*precision*recall/precision+recall .\n",
    "#or f1=true positive/true positive+1/2(false positive+false negative)"
   ]
  },
  {
   "cell_type": "code",
   "execution_count": null,
   "id": "0ee812fb",
   "metadata": {},
   "outputs": [],
   "source": [
    "#F1 score is a measure that combines recall and precision and f1 score result wiil be zero when any of components precision \n",
    "#or recall fall to zero and it penalizes extreme values of either component while precision is a metric that gives us the\n",
    "#proportion of true positives to amount of total positives that model predicts and recall also focuses on how good model\n",
    "#is at finding all the positives."
   ]
  },
  {
   "cell_type": "markdown",
   "id": "98811954",
   "metadata": {},
   "source": [
    "# Queno 3"
   ]
  },
  {
   "cell_type": "markdown",
   "id": "98625fcf",
   "metadata": {},
   "source": [
    "# ROC And AUC"
   ]
  },
  {
   "cell_type": "code",
   "execution_count": null,
   "id": "1a7ec0a9",
   "metadata": {},
   "outputs": [],
   "source": [
    "#An ROC curve is a graph showing performance of classification model at all classification thresholds which plots two \n",
    "#parameters that is True positive rate and False positive rate."
   ]
  },
  {
   "cell_type": "code",
   "execution_count": null,
   "id": "1f5ad916",
   "metadata": {},
   "outputs": [],
   "source": [
    "#True positive rate is a synonym for recall and defined as TPR=TP/TP+FN\n",
    "#While False positive rate is defined as follows FPR=FP/FP+TN ."
   ]
  },
  {
   "cell_type": "code",
   "execution_count": null,
   "id": "549390c7",
   "metadata": {},
   "outputs": [],
   "source": [
    "#While AUC stands for 'Area under the ROC Curve' that is AUC measures the entire two dimensional area underneath the \n",
    "#entire ROC curve from (0,0) to (1,1)."
   ]
  },
  {
   "cell_type": "code",
   "execution_count": null,
   "id": "1118bc0c",
   "metadata": {},
   "outputs": [],
   "source": [
    "#AUC ranges in value from 0 to 1 in which model whose predictions are 100% wrong has an AUC of 0.0 and one whose predictions\n",
    "#are 100% correct has an AUC of 1.0."
   ]
  },
  {
   "cell_type": "code",
   "execution_count": null,
   "id": "510a691c",
   "metadata": {},
   "outputs": [],
   "source": [
    "#AUC measures how well predictions are ranked rather than their absolute values."
   ]
  },
  {
   "cell_type": "markdown",
   "id": "6a10457d",
   "metadata": {},
   "source": [
    "# Queno 4"
   ]
  },
  {
   "cell_type": "code",
   "execution_count": null,
   "id": "edda70f0",
   "metadata": {},
   "outputs": [],
   "source": [
    "#There are many ways for measuring classification performance that is accuracy,confusion matrix,log loss and AUC-ROC \n",
    "#are used in evaluating classification of models."
   ]
  },
  {
   "cell_type": "code",
   "execution_count": null,
   "id": "a1dcafef",
   "metadata": {},
   "outputs": [],
   "source": [
    "#Accuracy simply measures how often the classifier correctly predicts and it is the ratio of the number of correct \n",
    "#predictions and total no of predictions."
   ]
  },
  {
   "cell_type": "code",
   "execution_count": null,
   "id": "84de5009",
   "metadata": {},
   "outputs": [],
   "source": [
    "#Confusion matrix is a performance measurement for machine learning classification problems where the output can be two\n",
    "#or more classes."
   ]
  },
  {
   "cell_type": "code",
   "execution_count": null,
   "id": "3ffd15c0",
   "metadata": {},
   "outputs": [],
   "source": [
    "#Precision explains how many of correctly predicted cases actually turned out to be positive."
   ]
  },
  {
   "cell_type": "code",
   "execution_count": null,
   "id": "3dcf07af",
   "metadata": {},
   "outputs": [],
   "source": [
    "#Precision is useful in the cases where false positive is a higher concern than false negatives."
   ]
  },
  {
   "cell_type": "code",
   "execution_count": null,
   "id": "b6c811c4",
   "metadata": {},
   "outputs": [],
   "source": [
    "#Therefore precision is defined as no of true positives divided bt no of predicted positives."
   ]
  },
  {
   "cell_type": "code",
   "execution_count": null,
   "id": "c63d60f4",
   "metadata": {},
   "outputs": [],
   "source": [
    "#So in this way different metrics are useful in evaluating performance of classification models."
   ]
  },
  {
   "cell_type": "markdown",
   "id": "842e1d68",
   "metadata": {},
   "source": [
    "# Multiclass Classification"
   ]
  },
  {
   "cell_type": "code",
   "execution_count": null,
   "id": "a0f10a93",
   "metadata": {},
   "outputs": [],
   "source": [
    "#Multi class classification is the task of classifying elements into different classes. "
   ]
  },
  {
   "cell_type": "code",
   "execution_count": null,
   "id": "ac1ca559",
   "metadata": {},
   "outputs": [],
   "source": [
    "#Examples of multiclass classification are ; classification of news in different categories,classifying books according to\n",
    "#subject and classifying students according to their courses."
   ]
  },
  {
   "cell_type": "code",
   "execution_count": null,
   "id": "8b40560a",
   "metadata": {},
   "outputs": [],
   "source": [
    "#In thses there are different classes for the response variable to be classified in and thus according to name it is a multi\n",
    "#class classification."
   ]
  },
  {
   "cell_type": "code",
   "execution_count": null,
   "id": "044d7eb1",
   "metadata": {},
   "outputs": [],
   "source": [
    "#It is different from binary classication as binary classification is a classification of two groups which classifies \n",
    "#objects in at most two classes while in multiclass classification there can be no of classes in which object classifies \n",
    "#into more than two classes."
   ]
  },
  {
   "cell_type": "markdown",
   "id": "cb16fafe",
   "metadata": {},
   "source": [
    "# Queno 5"
   ]
  },
  {
   "cell_type": "code",
   "execution_count": null,
   "id": "7ab84199",
   "metadata": {},
   "outputs": [],
   "source": [
    "#Logistic regression is mainly used in binary classification data."
   ]
  },
  {
   "cell_type": "code",
   "execution_count": null,
   "id": "d3aea345",
   "metadata": {},
   "outputs": [],
   "source": [
    "#But it can also be used in multiclass classification problem."
   ]
  },
  {
   "cell_type": "code",
   "execution_count": null,
   "id": "850db1fc",
   "metadata": {},
   "outputs": [],
   "source": [
    "#For this we have to transformed it into multiple binary classification problems."
   ]
  },
  {
   "cell_type": "code",
   "execution_count": null,
   "id": "81b12c95",
   "metadata": {},
   "outputs": [],
   "source": [
    "#So in this way logistic regression can be used in multiclass classification problems."
   ]
  },
  {
   "cell_type": "markdown",
   "id": "1842ed8c",
   "metadata": {},
   "source": [
    "# Queno 6"
   ]
  },
  {
   "cell_type": "code",
   "execution_count": null,
   "id": "2056bc5a",
   "metadata": {},
   "outputs": [],
   "source": [
    "#First of all we have to load the dataset on which we are working ."
   ]
  },
  {
   "cell_type": "code",
   "execution_count": null,
   "id": "007031d1",
   "metadata": {},
   "outputs": [],
   "source": [
    "#Then various libraries are used such as numpy,pandas,seaborn,scikit learn,scipy."
   ]
  },
  {
   "cell_type": "code",
   "execution_count": null,
   "id": "05e92575",
   "metadata": {},
   "outputs": [],
   "source": [
    "#Now after that we can explore the dataset its shape and size and types and features."
   ]
  },
  {
   "cell_type": "code",
   "execution_count": null,
   "id": "294595d0",
   "metadata": {},
   "outputs": [],
   "source": [
    "#After that we can make new dataset with the features we are using under these dataset."
   ]
  },
  {
   "cell_type": "code",
   "execution_count": null,
   "id": "eaafd3a0",
   "metadata": {},
   "outputs": [],
   "source": [
    "#After creating new dataset with required features we can also check nan values in that feature column."
   ]
  },
  {
   "cell_type": "code",
   "execution_count": null,
   "id": "661a8511",
   "metadata": {},
   "outputs": [],
   "source": [
    "#We can also check unique value in dataset."
   ]
  },
  {
   "cell_type": "code",
   "execution_count": null,
   "id": "3fcdd161",
   "metadata": {},
   "outputs": [],
   "source": [
    "#After that we can combine some categories and make it in to single class."
   ]
  },
  {
   "cell_type": "code",
   "execution_count": null,
   "id": "24e9852e",
   "metadata": {},
   "outputs": [],
   "source": [
    "#After that we can map this category into number so that model will understand in better way. "
   ]
  },
  {
   "cell_type": "code",
   "execution_count": null,
   "id": "8dcbd979",
   "metadata": {},
   "outputs": [],
   "source": [
    "#After that we can split data into train and test sets and can use 75% of data for training and rest for testing "
   ]
  },
  {
   "cell_type": "code",
   "execution_count": null,
   "id": "cfc09c63",
   "metadata": {},
   "outputs": [],
   "source": [
    "#We can keep all models in a list andloop through the list for each model to get a mean accuracy and  standard deviation \n",
    "#to calculate and compare performance for each of these models."
   ]
  },
  {
   "cell_type": "code",
   "execution_count": null,
   "id": "24ce2ba0",
   "metadata": {},
   "outputs": [],
   "source": [
    "#With the help of 'linear support vector machine' we can evaluate and check its performance on unseen data."
   ]
  },
  {
   "cell_type": "code",
   "execution_count": null,
   "id": "ccedc1ea",
   "metadata": {},
   "outputs": [],
   "source": [
    "#With the help of classification report generated we can observe that classes that have greater number of occurences have\n",
    "#good f1 score compared to other classes."
   ]
  },
  {
   "cell_type": "code",
   "execution_count": null,
   "id": "5742a2f7",
   "metadata": {},
   "outputs": [],
   "source": [
    "#After that make some predictions on unseen data and check the model performance."
   ]
  },
  {
   "cell_type": "markdown",
   "id": "659f4edc",
   "metadata": {},
   "source": [
    "# Queno 7"
   ]
  },
  {
   "cell_type": "markdown",
   "id": "b9e2e768",
   "metadata": {},
   "source": [
    "# Model Deployment And its Importance"
   ]
  },
  {
   "cell_type": "code",
   "execution_count": null,
   "id": "87b18a7f",
   "metadata": {},
   "outputs": [],
   "source": [
    "#Model deployment means connecting machine learning model into an existing production environment where it can take in an \n",
    "#input and return an output."
   ]
  },
  {
   "cell_type": "code",
   "execution_count": null,
   "id": "98c6f27a",
   "metadata": {},
   "outputs": [],
   "source": [
    "#Model deployment is important as we can make predictions from trained machine learning model available to others ."
   ]
  },
  {
   "cell_type": "code",
   "execution_count": null,
   "id": "2116e1be",
   "metadata": {},
   "outputs": [],
   "source": [
    "#Model deployment provides practical insights from model as if we are not able to get practical insights of our model\n",
    "#then the impact of model is severely limited."
   ]
  },
  {
   "cell_type": "code",
   "execution_count": null,
   "id": "ce3c1d13",
   "metadata": {},
   "outputs": [],
   "source": [
    "#It also provides most value of machine learning models hence it is important to deploy into production to make practical \n",
    "#decisions."
   ]
  },
  {
   "cell_type": "markdown",
   "id": "c26c4d49",
   "metadata": {},
   "source": [
    "# Queno 8"
   ]
  },
  {
   "cell_type": "code",
   "execution_count": null,
   "id": "b93a16ea",
   "metadata": {},
   "outputs": [],
   "source": [
    "#Multi cloud deployment is a method in which an organization uses cloud computing services from at least two cloud providers\n",
    "#to run their application."
   ]
  },
  {
   "cell_type": "code",
   "execution_count": null,
   "id": "573f6b4e",
   "metadata": {},
   "outputs": [],
   "source": [
    "#Multi cloud deployments instead of using single cloud stack,include a combination of two or more public clouds,private \n",
    "#clouds or in some cases combination of both."
   ]
  },
  {
   "cell_type": "code",
   "execution_count": null,
   "id": "1f1d8a81",
   "metadata": {},
   "outputs": [],
   "source": [
    "#It increases flexibility and fault tolerance as in case of microsoft azure,AWS,Amazon AWS and Google Cloud."
   ]
  },
  {
   "cell_type": "markdown",
   "id": "38fd6981",
   "metadata": {},
   "source": [
    "# Queno 9"
   ]
  },
  {
   "cell_type": "markdown",
   "id": "b9ff23c2",
   "metadata": {},
   "source": [
    "# Benefit Of Multicloud Deployment"
   ]
  },
  {
   "cell_type": "code",
   "execution_count": null,
   "id": "046d2ab1",
   "metadata": {},
   "outputs": [],
   "source": [
    "#Multi cloud deployment has the ability to control cloud computing costs."
   ]
  },
  {
   "cell_type": "code",
   "execution_count": null,
   "id": "2eb25f15",
   "metadata": {},
   "outputs": [],
   "source": [
    "#Multicloud deployment also diversify the tools we use so that entire cloud deployment doesnt get locked into a pricing\n",
    "#structure we cant afford."
   ]
  },
  {
   "cell_type": "code",
   "execution_count": null,
   "id": "3b983206",
   "metadata": {},
   "outputs": [],
   "source": [
    "#Many organizations use multicloud deployment as it has specific strengths,cost saving etc. "
   ]
  },
  {
   "cell_type": "markdown",
   "id": "d2acf3b2",
   "metadata": {},
   "source": [
    "# Challenges Multi cloud deployment"
   ]
  },
  {
   "cell_type": "code",
   "execution_count": null,
   "id": "98484f42",
   "metadata": {},
   "outputs": [],
   "source": [
    "#It requires specialised skills to manage."
   ]
  },
  {
   "cell_type": "code",
   "execution_count": null,
   "id": "0a9ee15d",
   "metadata": {},
   "outputs": [],
   "source": [
    "#Managing multiple different environments and dealing with multiple vendors can get petty complicated."
   ]
  },
  {
   "cell_type": "code",
   "execution_count": null,
   "id": "29aba476",
   "metadata": {},
   "outputs": [],
   "source": [
    "#Users should ensure the security andrisk management before using multicloud deployment."
   ]
  },
  {
   "cell_type": "code",
   "execution_count": null,
   "id": "68ff37ab",
   "metadata": {},
   "outputs": [],
   "source": []
  }
 ],
 "metadata": {
  "kernelspec": {
   "display_name": "Python 3 (ipykernel)",
   "language": "python",
   "name": "python3"
  },
  "language_info": {
   "codemirror_mode": {
    "name": "ipython",
    "version": 3
   },
   "file_extension": ".py",
   "mimetype": "text/x-python",
   "name": "python",
   "nbconvert_exporter": "python",
   "pygments_lexer": "ipython3",
   "version": "3.11.5"
  }
 },
 "nbformat": 4,
 "nbformat_minor": 5
}
