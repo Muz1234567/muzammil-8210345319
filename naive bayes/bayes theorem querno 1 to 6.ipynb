{
 "cells": [
  {
   "cell_type": "markdown",
   "id": "be55391f",
   "metadata": {},
   "source": [
    "# Queno 1,2 and 3"
   ]
  },
  {
   "cell_type": "markdown",
   "id": "7d5f45de",
   "metadata": {},
   "source": [
    "# Bayes Theorem"
   ]
  },
  {
   "cell_type": "code",
   "execution_count": null,
   "id": "1e6868ea",
   "metadata": {},
   "outputs": [],
   "source": [
    "#Bayes theorem gives the probability of an event based on new information that is related to that event."
   ]
  },
  {
   "cell_type": "code",
   "execution_count": null,
   "id": "fdef9cda",
   "metadata": {},
   "outputs": [],
   "source": [
    "#It is also used to determine how the probability of an event occuring may be affected by hypothetical new information\n",
    "#supposing the new information turn out to be true."
   ]
  },
  {
   "cell_type": "markdown",
   "id": "27ed390a",
   "metadata": {},
   "source": [
    "# Formulae for Bayes Theorem"
   ]
  },
  {
   "cell_type": "code",
   "execution_count": null,
   "id": "273dfc39",
   "metadata": {},
   "outputs": [],
   "source": [
    "#P(A/B)=P(A&B)/P(B)=P(A).P(B/A)/P(B)\n",
    "#Where P(A)=probability of A occuring\n",
    "#P(B)=Probability of B occuring\n",
    "#P(A/B)=Probability of A given B\n",
    "#P(B/A)=Probability of B given A\n",
    "#P(A&B)=Probability of both A and B occuring"
   ]
  },
  {
   "cell_type": "markdown",
   "id": "41bc0355",
   "metadata": {},
   "source": [
    "# Showing examples of its use"
   ]
  },
  {
   "cell_type": "code",
   "execution_count": null,
   "id": "504f59c7",
   "metadata": {},
   "outputs": [],
   "source": [
    "#Imagine there is cancer test that is 98% accurate means 98% of time it shows a true positiveresult for cancer disease\n",
    "#of person while 98% of time it shows negative result for person not detecting cancer."
   ]
  },
  {
   "cell_type": "code",
   "execution_count": null,
   "id": "1600c21e",
   "metadata": {},
   "outputs": [],
   "source": [
    "#Next assume 0.5% person is cancer affected so if a person selected at random tests positive for cancer then following calcu\n",
    "#lation is used to determine probability of person actually affected with cancer.\n",
    "#A=Probability of positive test result is true\n",
    "#B=Percent of people affected with cancer\n",
    "#A*B=Probability that positive test result is true\n",
    "#(1-A)*(1-B)=Probability that negative test result is true"
   ]
  },
  {
   "cell_type": "code",
   "execution_count": null,
   "id": "9b7855dc",
   "metadata": {},
   "outputs": [],
   "source": [
    "#So now we can put this in formula\n",
    "#(A*B)/[(A*B)+{(1-A)*(1-B)}]=Probability of person having cancer\n",
    "#(0.98*0.005)/[(0.98*0.005)+{(1-0.98)*(1-0.005)}]=\n",
    "#0.0049/(0.0049+0.0199)=19.76%"
   ]
  },
  {
   "cell_type": "code",
   "execution_count": null,
   "id": "d17f55b1",
   "metadata": {},
   "outputs": [],
   "source": [
    "#Bayes theorem shows that if a person tested positive with cancer is 19.76% chance and 80.24% chance they are affected \n",
    "#with cancer .So in this way bayes theorem is used in reallife practice."
   ]
  },
  {
   "cell_type": "markdown",
   "id": "98e32787",
   "metadata": {},
   "source": [
    "# Queno4"
   ]
  },
  {
   "cell_type": "markdown",
   "id": "d23a4f32",
   "metadata": {},
   "source": [
    "# Relationship between Bayes theorem and conditional Probability"
   ]
  },
  {
   "cell_type": "code",
   "execution_count": null,
   "id": "cb5321ce",
   "metadata": {},
   "outputs": [],
   "source": [
    "#Bayes theorem is an extension of conditional probability."
   ]
  },
  {
   "cell_type": "code",
   "execution_count": null,
   "id": "e8ecaea3",
   "metadata": {},
   "outputs": [],
   "source": [
    "#While using bayes theorem we use one conditional probability to calculate another one."
   ]
  },
  {
   "cell_type": "code",
   "execution_count": null,
   "id": "85352c7a",
   "metadata": {},
   "outputs": [],
   "source": [
    "#P(A/B)=P(B/A)*P(A)/P(B)\n",
    "#Here we calculate the probability of event A given that event B has occured."
   ]
  },
  {
   "cell_type": "code",
   "execution_count": null,
   "id": "24204ace",
   "metadata": {},
   "outputs": [],
   "source": [
    "#The RHS consists of the probability of event B given event A has occured multiplied by ratio of probability of event A\n",
    "#to probability of event B."
   ]
  },
  {
   "cell_type": "markdown",
   "id": "d4603fad",
   "metadata": {},
   "source": [
    "# QUENO 5"
   ]
  },
  {
   "cell_type": "code",
   "execution_count": null,
   "id": "302e5f52",
   "metadata": {},
   "outputs": [],
   "source": [
    "#Gaussian naive bayes classifier is used when continuous values associated with each feature are assumed to be distributed \n",
    "#according to Gaussian distribution."
   ]
  },
  {
   "cell_type": "code",
   "execution_count": null,
   "id": "9e1784c9",
   "metadata": {},
   "outputs": [],
   "source": [
    "#Multinomial naive bayes classifier is used when feature vectors represent frequencies with certain events generated by \n",
    "#multinomial distribution."
   ]
  },
  {
   "cell_type": "code",
   "execution_count": null,
   "id": "43b3fb65",
   "metadata": {},
   "outputs": [],
   "source": [
    "#It is mainly used for document classification."
   ]
  },
  {
   "cell_type": "code",
   "execution_count": null,
   "id": "bb562231",
   "metadata": {},
   "outputs": [],
   "source": [
    "#Bernoulli naive bayes is used in multivariate bernouli event when features are independent booleans describing inputs."
   ]
  },
  {
   "cell_type": "code",
   "execution_count": null,
   "id": "c3290302",
   "metadata": {},
   "outputs": [],
   "source": [
    "#It isalso popular for document classification where binary term occurence features are used rather than term frequencies."
   ]
  },
  {
   "cell_type": "markdown",
   "id": "557f519f",
   "metadata": {},
   "source": [
    "# Queno 6"
   ]
  },
  {
   "cell_type": "code",
   "execution_count": null,
   "id": "a9dbe964",
   "metadata": {},
   "outputs": [],
   "source": [
    "#In feature x1=3 we have class A=4 and B=1\n",
    "#P(A/B)=4+1/1=5/1=5\n",
    "#P(B/A)=4+1/4=1.25"
   ]
  },
  {
   "cell_type": "code",
   "execution_count": null,
   "id": "e798b173",
   "metadata": {},
   "outputs": [],
   "source": [
    "#In feature x2=4 we have class a=3 and b=3\n",
    "#P(A/B)=3+3/3=2\n",
    "#P(B/A)=3+3/3=2"
   ]
  },
  {
   "cell_type": "code",
   "execution_count": null,
   "id": "01d623ec",
   "metadata": {},
   "outputs": [],
   "source": [
    "#So in class B IN feature x1=3 naive bayes would predict new instance ."
   ]
  },
  {
   "cell_type": "code",
   "execution_count": null,
   "id": "4845057b",
   "metadata": {},
   "outputs": [],
   "source": []
  },
  {
   "cell_type": "code",
   "execution_count": null,
   "id": "1ef56a4a",
   "metadata": {},
   "outputs": [],
   "source": []
  }
 ],
 "metadata": {
  "kernelspec": {
   "display_name": "Python 3 (ipykernel)",
   "language": "python",
   "name": "python3"
  },
  "language_info": {
   "codemirror_mode": {
    "name": "ipython",
    "version": 3
   },
   "file_extension": ".py",
   "mimetype": "text/x-python",
   "name": "python",
   "nbconvert_exporter": "python",
   "pygments_lexer": "ipython3",
   "version": "3.11.5"
  }
 },
 "nbformat": 4,
 "nbformat_minor": 5
}
