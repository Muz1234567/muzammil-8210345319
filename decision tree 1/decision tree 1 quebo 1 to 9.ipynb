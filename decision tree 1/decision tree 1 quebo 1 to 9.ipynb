{
 "cells": [
  {
   "cell_type": "markdown",
   "id": "36e5b000",
   "metadata": {},
   "source": [
    "# Queno 1"
   ]
  },
  {
   "cell_type": "code",
   "execution_count": null,
   "id": "087b68c2",
   "metadata": {},
   "outputs": [],
   "source": [
    "#Decision tree is a supervised learning technique and can be used for both classification and regression problems."
   ]
  },
  {
   "cell_type": "code",
   "execution_count": null,
   "id": "755876ef",
   "metadata": {},
   "outputs": [],
   "source": [
    "#It is used mostly for solving classification problems"
   ]
  },
  {
   "cell_type": "code",
   "execution_count": null,
   "id": "d3057d03",
   "metadata": {},
   "outputs": [],
   "source": [
    "#Under this internal nodes represent the features of dataset,branches represent the decision rules andeach leaf node \n",
    "#represents the outcome."
   ]
  },
  {
   "cell_type": "code",
   "execution_count": null,
   "id": "a9229df1",
   "metadata": {},
   "outputs": [],
   "source": [
    "#There are two nodes in decision tree that is decision node used to make any decision and have multiple branches whereas\n",
    "#leaf nodes are output of those decisions anddonot contain any further branches."
   ]
  },
  {
   "cell_type": "code",
   "execution_count": null,
   "id": "15a14f54",
   "metadata": {},
   "outputs": [],
   "source": [
    "#A decision tree simply asks question and based on the answer (yes/no),it further split the tress into subtrees."
   ]
  },
  {
   "cell_type": "code",
   "execution_count": null,
   "id": "7a556577",
   "metadata": {},
   "outputs": [],
   "source": [
    "#The aim of decision tree is to create training model that can use to predict class or value of target variable ."
   ]
  },
  {
   "cell_type": "code",
   "execution_count": null,
   "id": "981bcedf",
   "metadata": {},
   "outputs": [],
   "source": [
    "#For prediction ofclass label in decision tree we haveto start it from the root of the tree and then we can compare value\n",
    "#of root attribute with records attribute."
   ]
  },
  {
   "cell_type": "code",
   "execution_count": null,
   "id": "5f7366d0",
   "metadata": {},
   "outputs": [],
   "source": [
    "#On the basis of this comparison we follow branch corresponding to that value and can jump to the next node."
   ]
  },
  {
   "cell_type": "markdown",
   "id": "4b411453",
   "metadata": {},
   "source": [
    "# Queno 2"
   ]
  },
  {
   "cell_type": "code",
   "execution_count": null,
   "id": "d361b787",
   "metadata": {},
   "outputs": [],
   "source": [
    "#Decision tree use multiple algorithms to decide to split node into two or more sub nodes. "
   ]
  },
  {
   "cell_type": "code",
   "execution_count": null,
   "id": "26345ef3",
   "metadata": {},
   "outputs": [],
   "source": [
    "#The decision tree then splits the nodes on all available variables and then select the split which results in most  \n",
    "#homogenous sub nodes."
   ]
  },
  {
   "cell_type": "code",
   "execution_count": null,
   "id": "4e761a38",
   "metadata": {},
   "outputs": [],
   "source": [
    "#One of the algorithms used in decision tree is ID3 (extension of d3). "
   ]
  },
  {
   "cell_type": "code",
   "execution_count": null,
   "id": "0b91a22b",
   "metadata": {},
   "outputs": [],
   "source": [
    "#Steps involved in ID3 algorithms \n",
    "#First we have to select root node based on low entropy and highest gain.\n",
    "#Entropy and information gain can be calculated on each iteration of an algorithms.\n",
    "#Then we can select node based on lowest entropy or highest information gain.\n",
    "#Then we can split root node to produce subsets of data.\n",
    "#An algorithms continues to recur on each subset and creates decision tree.  #Entropy calculates the homogeneity of sample.\n",
    "                                                                             #Information gain is based on decrease in \n",
    "                                                                              #entropy after dataset split on an attribute."
   ]
  },
  {
   "cell_type": "markdown",
   "id": "a89087ad",
   "metadata": {},
   "source": [
    "# Queno 3"
   ]
  },
  {
   "cell_type": "code",
   "execution_count": null,
   "id": "012dff3f",
   "metadata": {},
   "outputs": [],
   "source": [
    "#A binary classification is a problem where the goal is to predict the value of variable where there are only two \n",
    "#possibilities.\n"
   ]
  },
  {
   "cell_type": "code",
   "execution_count": null,
   "id": "21d3b3b3",
   "metadata": {},
   "outputs": [],
   "source": [
    "#In a binary classification decision tree is a structure that focuses on sequential decision tree."
   ]
  },
  {
   "cell_type": "code",
   "execution_count": null,
   "id": "fbcb68c2",
   "metadata": {},
   "outputs": [],
   "source": [
    "#It starts from the root which is a feature evaluated and one of two branchesselected."
   ]
  },
  {
   "cell_type": "code",
   "execution_count": null,
   "id": "177d6e4d",
   "metadata": {},
   "outputs": [],
   "source": [
    "#This procedure is repeated until the final leaf is reached."
   ]
  },
  {
   "cell_type": "markdown",
   "id": "a9c1ebb9",
   "metadata": {},
   "source": [
    "# Queno 4"
   ]
  },
  {
   "cell_type": "code",
   "execution_count": null,
   "id": "9008f8ba",
   "metadata": {},
   "outputs": [],
   "source": [
    " #A decision tree mainly contains root node,interior node and leaf nodes which are connected by branches."
   ]
  },
  {
   "cell_type": "code",
   "execution_count": null,
   "id": "a6579ffa",
   "metadata": {},
   "outputs": [],
   "source": [
    "#Internal nodes indicate a choice or decision we make and leaf node of tree indicates that a final decision has been made. "
   ]
  },
  {
   "cell_type": "code",
   "execution_count": null,
   "id": "cd64011d",
   "metadata": {},
   "outputs": [],
   "source": [
    "#Every decision we make at internal node will create hyperplane and splitting of dataset."
   ]
  },
  {
   "cell_type": "code",
   "execution_count": null,
   "id": "ee395b03",
   "metadata": {},
   "outputs": [],
   "source": [
    "#All of our hyperplanes are axis parallel and they are parallel to either x axis or y axis."
   ]
  },
  {
   "cell_type": "code",
   "execution_count": null,
   "id": "3375f57f",
   "metadata": {},
   "outputs": [],
   "source": [
    "#So we can imagine decision tree asa set of axis hyperplanes."
   ]
  },
  {
   "cell_type": "code",
   "execution_count": null,
   "id": "3d0b6b86",
   "metadata": {},
   "outputs": [],
   "source": [
    "#Therefore it would be useful to measure informativeness of features and use feature with most informativeness as feature\n",
    "#which is used to split data."
   ]
  },
  {
   "cell_type": "code",
   "execution_count": null,
   "id": "6df8ac4f",
   "metadata": {},
   "outputs": [],
   "source": [
    "#So in decision tree for prediction we have to start from root of tree."
   ]
  },
  {
   "cell_type": "code",
   "execution_count": null,
   "id": "afe35f91",
   "metadata": {},
   "outputs": [],
   "source": [
    "#After comparing values of root attribute with records attribute we follow the branch corresponding to that value and jump \n",
    "#to next node."
   ]
  },
  {
   "cell_type": "markdown",
   "id": "c2ad9f48",
   "metadata": {},
   "source": [
    "# Queno 5"
   ]
  },
  {
   "cell_type": "markdown",
   "id": "9f2369a9",
   "metadata": {},
   "source": [
    "# Confusion Matrix"
   ]
  },
  {
   "cell_type": "code",
   "execution_count": null,
   "id": "37f4d604",
   "metadata": {},
   "outputs": [],
   "source": [
    "#A confusion matrix is a table that allows us to visualize performance of classification model."
   ]
  },
  {
   "cell_type": "code",
   "execution_count": null,
   "id": "e3ce17f9",
   "metadata": {},
   "outputs": [],
   "source": [
    "#We can calculate various classification metrics with confusion matrix that are accuracy,sensitivity,precision,specificity\n",
    "#etc."
   ]
  },
  {
   "cell_type": "code",
   "execution_count": null,
   "id": "353e3441",
   "metadata": {},
   "outputs": [],
   "source": [
    "#Accuracy is the sum of true positives and negatives divided by total population."
   ]
  },
  {
   "cell_type": "code",
   "execution_count": null,
   "id": "e150e52e",
   "metadata": {},
   "outputs": [],
   "source": [
    "#Sensitivity tells us how often the model chooses the positive class when the observation is in fact in positive class and it\n",
    "#is calculated by dividing no of true positives in matrix by total no of real positives in data."
   ]
  },
  {
   "cell_type": "code",
   "execution_count": null,
   "id": "0aab32bc",
   "metadata": {},
   "outputs": [],
   "source": [
    "#Precision measures how often a model is correct when it predicts the positive class and it is calculated by dividing \n",
    "#no of true positives in matrix by total no of predicted positives."
   ]
  },
  {
   "cell_type": "code",
   "execution_count": null,
   "id": "4b2016c9",
   "metadata": {},
   "outputs": [],
   "source": [
    "#Specificity measures how often the model chooses the negative class when observation is in fact in negative class and is \n",
    "#calculated by dividing no of true negatives by total no of real negatives in data."
   ]
  },
  {
   "cell_type": "code",
   "execution_count": null,
   "id": "85b9fe6f",
   "metadata": {},
   "outputs": [],
   "source": [
    "#So with help of these evaluation matrix in confusion matrix we can evaluate the performance of classification model."
   ]
  },
  {
   "cell_type": "markdown",
   "id": "5a8a1097",
   "metadata": {},
   "source": [
    "# Queno 6"
   ]
  },
  {
   "cell_type": "code",
   "execution_count": null,
   "id": "c6775cba",
   "metadata": {},
   "outputs": [],
   "source": [
    "#For example lets consider whether a person is cancer patient or not ."
   ]
  },
  {
   "cell_type": "code",
   "execution_count": null,
   "id": "52038ef5",
   "metadata": {},
   "outputs": [],
   "source": [
    "#If the test for cancer is positive then the person is cancer patient and if test is negative then the person is not cancer\n",
    "#patient."
   ]
  },
  {
   "cell_type": "code",
   "execution_count": null,
   "id": "e18584fb",
   "metadata": {},
   "outputs": [],
   "source": [
    "#So a person who is actually cancer pantient(positive) and classified as cancer(positive) which is called true positive."
   ]
  },
  {
   "cell_type": "code",
   "execution_count": null,
   "id": "baa84290",
   "metadata": {},
   "outputs": [],
   "source": [
    "#A person who is actually not cancer patient (negative) and classified as cancer patient (negative) which is called as\n",
    "#true negative."
   ]
  },
  {
   "cell_type": "code",
   "execution_count": null,
   "id": "22bfb87d",
   "metadata": {},
   "outputs": [],
   "source": [
    "#A person who is actually not cancer patient (negative) and classified as cancer patient (positive) which is called false \n",
    "#positive."
   ]
  },
  {
   "cell_type": "code",
   "execution_count": null,
   "id": "a7a6f225",
   "metadata": {},
   "outputs": [],
   "source": [
    "#A person who is actually cancer patient(positive) and classified as cancer patient(negative) which is called as \n",
    "#false negative."
   ]
  },
  {
   "cell_type": "code",
   "execution_count": null,
   "id": "213fb9b3",
   "metadata": {},
   "outputs": [],
   "source": [
    "#So for confusion matrix we have to know the value of true negative ,false positive,false negative,and true negative."
   ]
  },
  {
   "cell_type": "code",
   "execution_count": null,
   "id": "75cecfe7",
   "metadata": {},
   "outputs": [],
   "source": [
    "#So with the help of these we calculate various evaluation metrics such as Accuracy=true negative+true positive/true negative\n",
    "#+false positive+true positive+false negative"
   ]
  },
  {
   "cell_type": "code",
   "execution_count": null,
   "id": "b1a7075b",
   "metadata": {},
   "outputs": [],
   "source": [
    "#For precision =true positive/true positive+false positive."
   ]
  },
  {
   "cell_type": "code",
   "execution_count": null,
   "id": "40216675",
   "metadata": {},
   "outputs": [],
   "source": [
    "#For recall=true positive/true positive+false negative"
   ]
  },
  {
   "cell_type": "code",
   "execution_count": null,
   "id": "4d33ae99",
   "metadata": {},
   "outputs": [],
   "source": [
    "#For f1score=2*precision*recall/precision+recall."
   ]
  },
  {
   "cell_type": "markdown",
   "id": "9a8009a0",
   "metadata": {},
   "source": [
    "# Queno 7"
   ]
  },
  {
   "cell_type": "code",
   "execution_count": null,
   "id": "5bac368a",
   "metadata": {},
   "outputs": [],
   "source": [
    "#There are many ways for measuring classification problem like accuracy,confusion matrix, log loss,and AUC-ROC ."
   ]
  },
  {
   "cell_type": "code",
   "execution_count": null,
   "id": "718d637b",
   "metadata": {},
   "outputs": [],
   "source": [
    "#But the most accurate evaluation metrics for classification problem is precision and recall."
   ]
  },
  {
   "cell_type": "code",
   "execution_count": null,
   "id": "106bc093",
   "metadata": {},
   "outputs": [],
   "source": [
    "#Precision is useful in the cases where false positive is higher concern than false negatives."
   ]
  },
  {
   "cell_type": "code",
   "execution_count": null,
   "id": "38f801c8",
   "metadata": {},
   "outputs": [],
   "source": [
    "#Precision for label is defined as the no of true positives divided by no of predicted positives.\n",
    "#Precision=true positive/true positive+false positive"
   ]
  },
  {
   "cell_type": "code",
   "execution_count": null,
   "id": "49033406",
   "metadata": {},
   "outputs": [],
   "source": [
    "#Recall is useful metric in cases wher false negative is of higher concern than false positive."
   ]
  },
  {
   "cell_type": "code",
   "execution_count": null,
   "id": "b71e2167",
   "metadata": {},
   "outputs": [],
   "source": [
    "#Recall is defined as no of truue positives divided by the total no of actual positives.\n",
    "#Recall=true positive/true positive+false negative"
   ]
  },
  {
   "cell_type": "markdown",
   "id": "c63125c5",
   "metadata": {},
   "source": [
    "# Queno 8"
   ]
  },
  {
   "cell_type": "code",
   "execution_count": null,
   "id": "f7339591",
   "metadata": {},
   "outputs": [],
   "source": [
    "#Precision metrics is useful in cases where false positive is a higher concern than false negatives."
   ]
  },
  {
   "cell_type": "code",
   "execution_count": null,
   "id": "724d259a",
   "metadata": {},
   "outputs": [],
   "source": [
    "#It is used in music or video recommentation systems,e commerce websites etc."
   ]
  },
  {
   "cell_type": "code",
   "execution_count": null,
   "id": "e9f413c3",
   "metadata": {},
   "outputs": [],
   "source": [
    "#It can be calculated by dividing no of correct positive predictions by total no of instances the model predicted as positive\n",
    "#both true and false."
   ]
  },
  {
   "cell_type": "code",
   "execution_count": null,
   "id": "cf40016b",
   "metadata": {},
   "outputs": [],
   "source": [
    "#For example out 60 patient  there is accracy of 95% and which shows 5% may be cancer patient and remaining 95% is \n",
    "#non cancer patient."
   ]
  },
  {
   "cell_type": "code",
   "execution_count": null,
   "id": "d81cc05b",
   "metadata": {},
   "outputs": [],
   "source": [
    "#So we have to calculate precision we must divide no of correctly predicted cancer patient by their total number."
   ]
  },
  {
   "cell_type": "code",
   "execution_count": null,
   "id": "c7ea4be3",
   "metadata": {},
   "outputs": [],
   "source": [
    "#Correctly identified cancer patient is 0 in which there were 3 cancer patient is in dataset and model missed them all."
   ]
  },
  {
   "cell_type": "code",
   "execution_count": null,
   "id": "bbd5a4e6",
   "metadata": {},
   "outputs": [],
   "source": [
    "#All the correct predictions were about non cancer patient."
   ]
  },
  {
   "cell_type": "code",
   "execution_count": null,
   "id": "7d6e67c1",
   "metadata": {},
   "outputs": [],
   "source": [
    "#In this way prtecision corrects for major downside of accuracy."
   ]
  },
  {
   "cell_type": "markdown",
   "id": "01d50231",
   "metadata": {},
   "source": [
    "# Queno 9"
   ]
  },
  {
   "cell_type": "code",
   "execution_count": null,
   "id": "abfa77e4",
   "metadata": {},
   "outputs": [],
   "source": [
    "#Recall is most important metric because it measures the ability of model to identify all of positive instances in a dataset. "
   ]
  },
  {
   "cell_type": "code",
   "execution_count": null,
   "id": "cdd92b31",
   "metadata": {},
   "outputs": [],
   "source": [
    "#It is defined as number of true positives divided by number of true positives and false negatives."
   ]
  },
  {
   "cell_type": "code",
   "execution_count": null,
   "id": "d9aff2c0",
   "metadata": {},
   "outputs": [],
   "source": [
    "#It is used when it is important to identify all of positive instances and to avoid false positives."
   ]
  },
  {
   "cell_type": "code",
   "execution_count": null,
   "id": "d58ae326",
   "metadata": {},
   "outputs": [],
   "source": [
    "#It is mainly used in imbalanced dataset where negative instances is greater than positive instances."
   ]
  }
 ],
 "metadata": {
  "kernelspec": {
   "display_name": "Python 3 (ipykernel)",
   "language": "python",
   "name": "python3"
  },
  "language_info": {
   "codemirror_mode": {
    "name": "ipython",
    "version": 3
   },
   "file_extension": ".py",
   "mimetype": "text/x-python",
   "name": "python",
   "nbconvert_exporter": "python",
   "pygments_lexer": "ipython3",
   "version": "3.11.5"
  }
 },
 "nbformat": 4,
 "nbformat_minor": 5
}
