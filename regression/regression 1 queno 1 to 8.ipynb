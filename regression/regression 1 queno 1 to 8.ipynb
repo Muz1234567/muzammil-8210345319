{
 "cells": [
  {
   "cell_type": "markdown",
   "id": "575241dd",
   "metadata": {},
   "source": [
    "# Queno 1"
   ]
  },
  {
   "cell_type": "markdown",
   "id": "de0e9d77",
   "metadata": {},
   "source": [
    "# Difference Between Simple linear Regression And Multiple Linear Regression"
   ]
  },
  {
   "cell_type": "code",
   "execution_count": null,
   "id": "36a59076",
   "metadata": {},
   "outputs": [],
   "source": [
    "#Simple linear regression models the relationship between one dependent and one independent variable while multiple \n",
    "#regression models the relationship between one dependent and two or more independent variables. "
   ]
  },
  {
   "cell_type": "code",
   "execution_count": null,
   "id": "c88abb90",
   "metadata": {},
   "outputs": [],
   "source": [
    "#Linear regression is simple asit deals with one relationship while multiple linear regression is complex due to multiple \n",
    "#relationships."
   ]
  },
  {
   "cell_type": "code",
   "execution_count": null,
   "id": "6dc81fe5",
   "metadata": {},
   "outputs": [],
   "source": [
    "#Linear regression is used when there is one clear predictor while multiple linear regression is suitable when multiple          \n",
    "#factors affect the outcome."
   ]
  },
  {
   "cell_type": "code",
   "execution_count": null,
   "id": "37bf361d",
   "metadata": {},
   "outputs": [],
   "source": [
    "#Simple Linear regression has lower risk of overfitting as it deals with only one predictor while multiple linear regression\n",
    "#has higher risk of overfitting as too many predictors are used without adequate data.   "
   ]
  },
  {
   "cell_type": "code",
   "execution_count": null,
   "id": "671f4e7c",
   "metadata": {},
   "outputs": [],
   "source": [
    "#Examples of simple linear regression \n",
    "#letstaketwo quantative variable  as x and y where\n",
    "#x=3,5,2,7\n",
    "#y=4,6,3,2\n",
    "#To find the linear regression equation we need to find total value of x,y,x**2 and xy.\n",
    "#so total value of x=17\n",
    "#total value of y=15\n",
    "#total value of x**2=87\n",
    "#total value of xy=62\n",
    "#So with help of formula and putting this value in the formulae we can find a and b\n",
    "#a=(total value of y)(total value of x**2)-(total value of x)(total value of xy)/size of variable(total value of x**2)-\n",
    "#(total value of x)**2\n",
    "#a=15*87-17*62/4*87-(17)**2\n",
    "#a=1305-1054/348-289\n",
    "#a=251/59\n",
    "#a=4.25\n",
    "#similarly we can find the value of b using another formulae for b\n",
    "#b=size of variable(total value of xy)-(total value of x)(total value of y)/sizeof variable(total value ofx**2)-(total value\n",
    "#of x)**2\n",
    "#b=4*62-17*15/4*87-(17)**2\n",
    "#b=248-255/348-289\n",
    "#b=-7/59\n",
    "#b=-0.11\n",
    "#Hence we got the value of a=1.25 and b=-0.11 and we can put the value in eqaution that is \n",
    "#y=a+bx\n",
    "#y=4.25+(-0.11)x\n",
    "#y=4.25-0.11x\n",
    "#Hencethe equation of linear regression is y=4.25-0.11x"
   ]
  },
  {
   "cell_type": "code",
   "execution_count": null,
   "id": "14596308",
   "metadata": {},
   "outputs": [],
   "source": [
    "#Example of multiple linear regression  \n",
    "#lets take x1,x2 and y asvariable where two of them is predictor and y is response.\n",
    "#x1=0,11,11\n",
    "#x2=1,5,4\n",
    "#y=11,15,13\n",
    "#sum of x1=22\n",
    "#sum of x2=10\n",
    "#sum of y=39\n",
    "#Mean of x1=7.33\n",
    "#mean of x2=3.33\n",
    "#mean of y=13\n",
    "#sum of squares of x1=80.66\n",
    "#sum of squares of x2=8.66\n",
    "#sum of products x1y=22\n",
    "#sum of products x2y=8\n",
    "#sum of products x1x2=25.66\n",
    "#Regression equation=y=b1x1+b2x2+a\n",
    "#b1=(spx1y)*(ssx2)-(spx1x2)*(spx2y)/(ssx1)*(ssx2)-(spx1x2)*(spx1x2)   #sp=sum of product,ss=sum ofsquare\n",
    "#b1=-14.67/40.33=-0.363\n",
    "#b2=(spx2y)*(ssx1)-(spx1x2)*(spx1y)/(ssx1)*(ssx2)-(spx1x2)*(spx1x2)=80.67/40.33=2\n",
    "#a=my-b1mx1-b2mx2=13-(-0.36*7.33)-(2*3.33)=9   m=mean\n",
    "#therefore y=-0.363x1+2x2+9  "
   ]
  },
  {
   "cell_type": "markdown",
   "id": "0365be10",
   "metadata": {},
   "source": [
    "# Queno 2"
   ]
  },
  {
   "cell_type": "markdown",
   "id": "d02b4dc6",
   "metadata": {},
   "source": [
    "# Assumptions In linear Regression"
   ]
  },
  {
   "cell_type": "code",
   "execution_count": 1,
   "id": "fa06872c",
   "metadata": {},
   "outputs": [],
   "source": [
    "#No multicolinearity should be in the data if there is high colinearity means that two variables vary very similarly which\n",
    "#will lead to reduncy in dataset and model become so complex."
   ]
  },
  {
   "cell_type": "code",
   "execution_count": null,
   "id": "7e82d0c4",
   "metadata": {},
   "outputs": [],
   "source": [
    "#There should be equal variance or equal space regression model uequal spaced regression model is called to be \n",
    "#unsatisfactory.  "
   ]
  },
  {
   "cell_type": "code",
   "execution_count": null,
   "id": "1ec79b62",
   "metadata": {},
   "outputs": [],
   "source": [
    "#Number of observation data should be greater than number of prediction data and observation should be unique\n",
    "#means observation in datset should be measured separately on unique ocurrence of event that caused observation."
   ]
  },
  {
   "cell_type": "code",
   "execution_count": null,
   "id": "fe99a088",
   "metadata": {},
   "outputs": [],
   "source": [
    "#Data in the predictor variable should be distributed normally."
   ]
  },
  {
   "cell_type": "code",
   "execution_count": null,
   "id": "74ed2937",
   "metadata": {},
   "outputs": [],
   "source": [
    "#We can use heatmap to check multicolinearity that is to see if there is significant corelation between variables.  "
   ]
  },
  {
   "cell_type": "code",
   "execution_count": null,
   "id": "f0ac3266",
   "metadata": {},
   "outputs": [],
   "source": [
    "#So with use of python we can calculate vif variation inflation factor between variables and according to its value we\n",
    "#can calculate if vif is 1 then is not corel;ated ,1-5 means moderately corelated and =>5 means highly corelated."
   ]
  },
  {
   "cell_type": "code",
   "execution_count": null,
   "id": "d2f373bf",
   "metadata": {},
   "outputs": [],
   "source": [
    "#so in this way we are able to test various other assumption in linear regression."
   ]
  },
  {
   "cell_type": "markdown",
   "id": "5ab4e3e5",
   "metadata": {},
   "source": [
    "# Queno 3"
   ]
  },
  {
   "cell_type": "code",
   "execution_count": null,
   "id": "92ed4cf4",
   "metadata": {},
   "outputs": [],
   "source": [
    "#Intercept is the value of y when x value is 0 calculated in the form of a as in the above question."
   ]
  },
  {
   "cell_type": "code",
   "execution_count": null,
   "id": "7c92bed6",
   "metadata": {},
   "outputs": [],
   "source": [
    "#Slope in line in linear regression is indicated by b which shows steepness of line and intercept shows location where it \n",
    "#intersects an axis."
   ]
  },
  {
   "cell_type": "code",
   "execution_count": null,
   "id": "baef4d23",
   "metadata": {},
   "outputs": [],
   "source": [
    "#For example if regression equation is weight=6.5+1.8(height) that is y=a+bx where a represent intercepts that is 6.5 which \n",
    "#means when height=0 then predicted value of weight=6.5 and another b represent slope which is 1.8 which means every inch \n",
    "#increase in height the predicted value of weight increases by 1.8."
   ]
  },
  {
   "cell_type": "markdown",
   "id": "99171db0",
   "metadata": {},
   "source": [
    "# Queno4"
   ]
  },
  {
   "cell_type": "markdown",
   "id": "53465422",
   "metadata": {},
   "source": [
    "# Gradient Descent And its Use"
   ]
  },
  {
   "cell_type": "code",
   "execution_count": null,
   "id": "2cbf22ee",
   "metadata": {},
   "outputs": [],
   "source": [
    "#Gradient descent is known as one of the most commonly used optimization algorithm to train machine learning models by \n",
    "#means of minimizing errors between actual and expected results. "
   ]
  },
  {
   "cell_type": "code",
   "execution_count": null,
   "id": "0336a760",
   "metadata": {},
   "outputs": [],
   "source": [
    "#If we move towards negative gradient it will give local minimum of the function and when we move towards positive gradient\n",
    "#we will get the local maximum of that function. "
   ]
  },
  {
   "cell_type": "code",
   "execution_count": null,
   "id": "491f7e60",
   "metadata": {},
   "outputs": [],
   "source": [
    "#Suppose if equation of linear regression is like this y=mx+c where m represent slope and c represent intercepts on y \n",
    "#axis.The slope becomes steeper at starting pointbut whenever new parameters generated then steepness gradually reduces\n",
    "#and it approaches at lowest point which is called point of convergence.So the main objective of gradient descent is to\n",
    "#minimize the cost function or error between expected and actual."
   ]
  },
  {
   "cell_type": "markdown",
   "id": "077c3837",
   "metadata": {},
   "source": [
    "# Queno 5"
   ]
  },
  {
   "cell_type": "code",
   "execution_count": null,
   "id": "d535f524",
   "metadata": {},
   "outputs": [],
   "source": [
    "#Under multiple linear regression model multiple regression is used to predict the values of respoonse(dependent) variable \n",
    "#from a collection of predictor (independent) variables."
   ]
  },
  {
   "cell_type": "code",
   "execution_count": null,
   "id": "c3c3634f",
   "metadata": {},
   "outputs": [],
   "source": [
    "#For example scores on multiple predictors and one criterion are available multiple regression may be used to develop a \n",
    "#single equation to predict criterion performance from set of predictors."
   ]
  },
  {
   "cell_type": "code",
   "execution_count": null,
   "id": "680bd6e8",
   "metadata": {},
   "outputs": [],
   "source": [
    "#In simple linear regression model has only one y and one x variable while multiple linear regression model has one y and\n",
    "#two or more x variables."
   ]
  },
  {
   "cell_type": "code",
   "execution_count": null,
   "id": "65653cb4",
   "metadata": {},
   "outputs": [],
   "source": [
    "#Under simple linear regression dependent variable is modeled as linear function of independent variable while in multiple\n",
    "#linear regression dependent variable is modeled as linear function of multiple independent variables."
   ]
  },
  {
   "cell_type": "markdown",
   "id": "f92bfcf5",
   "metadata": {},
   "source": [
    "# Queno 6"
   ]
  },
  {
   "cell_type": "markdown",
   "id": "332bd08d",
   "metadata": {},
   "source": [
    "# Multicolinearity And Its Detection"
   ]
  },
  {
   "cell_type": "code",
   "execution_count": null,
   "id": "ae10567d",
   "metadata": {},
   "outputs": [],
   "source": [
    "#Multicolinearity is occurence of high intercorrelations among two or more independent variables in multiple regression\n",
    "#model"
   ]
  },
  {
   "cell_type": "code",
   "execution_count": null,
   "id": "5f60dd80",
   "metadata": {},
   "outputs": [],
   "source": [
    "#It leads to wider confidence intervals that produce less reliable probabilities in terms of effect of independent variables\n",
    "#in a model."
   ]
  },
  {
   "cell_type": "code",
   "execution_count": null,
   "id": "4e8df286",
   "metadata": {},
   "outputs": [],
   "source": [
    "#Multicollinearity among independent variables can result in less reliable statistical inferences."
   ]
  },
  {
   "cell_type": "code",
   "execution_count": null,
   "id": "7c83cd0a",
   "metadata": {},
   "outputs": [],
   "source": [
    "#A statistical technique called variance inflation factor(vif) can detect and measure the amount of collinearity in a \n",
    "#multiple regression model."
   ]
  },
  {
   "cell_type": "code",
   "execution_count": null,
   "id": "8c6fc83e",
   "metadata": {},
   "outputs": [],
   "source": [
    "#It measures how much variance of estimated regression coefficients is inflated as compared when predictor variables are \n",
    "#not linearly related.VIF of 1 means variables are not corelated between 1 and 5 means variables are moderately corelated\n",
    "#between 5 and 10 mean variables are highly corelated."
   ]
  },
  {
   "cell_type": "markdown",
   "id": "af947ca5",
   "metadata": {},
   "source": [
    "# Polynomial Regression Model"
   ]
  },
  {
   "cell_type": "code",
   "execution_count": null,
   "id": "f99ab5a4",
   "metadata": {},
   "outputs": [],
   "source": [
    "#Polynomial regression is an algorithm that models relationship between dependent(y) and independent(x) variable as nth \n",
    "#degree polynomial."
   ]
  },
  {
   "cell_type": "code",
   "execution_count": null,
   "id": "ab9d2b8a",
   "metadata": {},
   "outputs": [],
   "source": [
    "#We add polynomial terms to the multiple linear regression equation to convert it into polynomial regression."
   ]
  },
  {
   "cell_type": "code",
   "execution_count": null,
   "id": "c5dba402",
   "metadata": {},
   "outputs": [],
   "source": [
    "#It is linear model with some modification in order to increase the accuracy."
   ]
  },
  {
   "cell_type": "code",
   "execution_count": null,
   "id": "7493006a",
   "metadata": {},
   "outputs": [],
   "source": [
    "#Dataset used in polynomial regression for training is of non linear nature."
   ]
  },
  {
   "cell_type": "code",
   "execution_count": null,
   "id": "52d1d7f4",
   "metadata": {},
   "outputs": [],
   "source": [
    "#It is used in linear regression model to fit the complicated and non linear functions and datasets."
   ]
  },
  {
   "cell_type": "code",
   "execution_count": null,
   "id": "fe23bd2a",
   "metadata": {},
   "outputs": [],
   "source": [
    "#It is different from linear regression in such a way that if we apply linear regression model on linear dataset then it \n",
    "#provides good result but if we apply linear regression model on non linear dataset then it will produce drastic output\n",
    "#due to which error rate will become high and accuracy will be decreased.Then in such case when data points are in non\n",
    "#linear we need to use polynomial regression model.So polynomial regression model is used for non linear dataset."
   ]
  },
  {
   "cell_type": "markdown",
   "id": "3ab83f2b",
   "metadata": {},
   "source": [
    "# Queno 8"
   ]
  },
  {
   "cell_type": "markdown",
   "id": "b9d56b10",
   "metadata": {},
   "source": [
    "# Advantages And Disadvantages of polynomial regression Over linear Regression"
   ]
  },
  {
   "cell_type": "code",
   "execution_count": null,
   "id": "6fef704f",
   "metadata": {},
   "outputs": [],
   "source": [
    "#Polynomial regression can capture nonlinearity between response variable and predictor variable. "
   ]
  },
  {
   "cell_type": "code",
   "execution_count": null,
   "id": "ce2b3698",
   "metadata": {},
   "outputs": [],
   "source": [
    "#Polynomial regression often result in a better fit to datathan linear regression because it can capture more complex\n",
    "#relationship between variables andcan improve accuracy of model."
   ]
  },
  {
   "cell_type": "code",
   "execution_count": null,
   "id": "1a3de610",
   "metadata": {},
   "outputs": [],
   "source": [
    "#It allows more flexibility in modelling the relationship between variables"
   ]
  },
  {
   "cell_type": "code",
   "execution_count": null,
   "id": "18f77fa6",
   "metadata": {},
   "outputs": [],
   "source": [
    "#It also provides better predictions than linear regression because it can capture more variability of data and make more\n",
    "#accurate predictions for new data points. "
   ]
  },
  {
   "cell_type": "code",
   "execution_count": null,
   "id": "fa3a7d53",
   "metadata": {},
   "outputs": [],
   "source": [
    "#Thereare also some disadvantages of polynomial regression such as overfittin the data,increased complexity of model,\n",
    "#and difficulty in interpreting results."
   ]
  },
  {
   "cell_type": "code",
   "execution_count": null,
   "id": "e6a1c52f",
   "metadata": {},
   "outputs": [],
   "source": []
  }
 ],
 "metadata": {
  "kernelspec": {
   "display_name": "Python 3 (ipykernel)",
   "language": "python",
   "name": "python3"
  },
  "language_info": {
   "codemirror_mode": {
    "name": "ipython",
    "version": 3
   },
   "file_extension": ".py",
   "mimetype": "text/x-python",
   "name": "python",
   "nbconvert_exporter": "python",
   "pygments_lexer": "ipython3",
   "version": "3.11.5"
  }
 },
 "nbformat": 4,
 "nbformat_minor": 5
}
