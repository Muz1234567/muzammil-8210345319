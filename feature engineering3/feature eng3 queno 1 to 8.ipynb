{
 "cells": [
  {
   "cell_type": "markdown",
   "id": "daed24eb",
   "metadata": {},
   "source": [
    "# Queno1"
   ]
  },
  {
   "cell_type": "markdown",
   "id": "21e1d749",
   "metadata": {},
   "source": [
    "# Min max scaling technique"
   ]
  },
  {
   "cell_type": "code",
   "execution_count": null,
   "id": "49e1dfee",
   "metadata": {},
   "outputs": [],
   "source": [
    "#Min max is a technique of normalisation where values are rescaled and shifted so that they range between 0 and 1. "
   ]
  },
  {
   "cell_type": "code",
   "execution_count": null,
   "id": "49ed60f5",
   "metadata": {},
   "outputs": [],
   "source": [
    "#For example lets take five numeric values that is 5,6,19,45,35."
   ]
  },
  {
   "cell_type": "code",
   "execution_count": null,
   "id": "9dc50b6f",
   "metadata": {},
   "outputs": [],
   "source": [
    "#So here min=5,max=45\n",
    "#so now we can find min max normalized values\n",
    "#5:(5-5)/(45-5)=0\n",
    "#6:(6-5)/(45-5)=0.025\n",
    "#19:(19-5)/(45-5)=0.35\n",
    "#45:(45-5)/(45-5)=1\n",
    "#35:(35-5)/(45-5)=0.75\n",
    "#so in this way we saw that min value is 0 and max value is 0 .\n"
   ]
  },
  {
   "cell_type": "code",
   "execution_count": null,
   "id": "9a39fa1f",
   "metadata": {},
   "outputs": [],
   "source": [
    "#Min max scaler can reduce the impact of different scales on the accuracy of machine learning models."
   ]
  },
  {
   "cell_type": "markdown",
   "id": "a373b8a3",
   "metadata": {},
   "source": [
    "# Queno2"
   ]
  },
  {
   "cell_type": "markdown",
   "id": "f07063ae",
   "metadata": {},
   "source": [
    "# Unit Vector Technique"
   ]
  },
  {
   "cell_type": "code",
   "execution_count": null,
   "id": "96d5b93b",
   "metadata": {},
   "outputs": [],
   "source": [
    "#Unit vector specify the direction of vectors."
   ]
  },
  {
   "cell_type": "code",
   "execution_count": null,
   "id": "d067950f",
   "metadata": {},
   "outputs": [],
   "source": [
    "#It can exist in both two and three dimensional planes. "
   ]
  },
  {
   "cell_type": "code",
   "execution_count": null,
   "id": "79dc427d",
   "metadata": {},
   "outputs": [],
   "source": [
    "#Here we have to define two special unit cordinate vectors that is i and j."
   ]
  },
  {
   "cell_type": "code",
   "execution_count": null,
   "id": "c1999aa9",
   "metadata": {},
   "outputs": [],
   "source": [
    "#i=[0,1] and j=[0,1] where i is a unit vector in the direction of x axis and j is a unit vector in the direction of y axis. "
   ]
  },
  {
   "cell_type": "code",
   "execution_count": null,
   "id": "54f312fb",
   "metadata": {},
   "outputs": [],
   "source": [
    "#Unit vector also produces range of value  0 to 1 just like min max scaling technique but in unit vector it divides each\n",
    "#component by euclidean length of vector while in min max scaler it works on rows numeric values . "
   ]
  },
  {
   "cell_type": "code",
   "execution_count": null,
   "id": "b7a81b2e",
   "metadata": {},
   "outputs": [],
   "source": [
    "#For example forces acting on paraglyder in sky the paraglyder generates a force in downward direction and the air in the sky\n",
    "#generates a force in upward direction is a real life example of unit vector."
   ]
  },
  {
   "cell_type": "markdown",
   "id": "352a5e71",
   "metadata": {},
   "source": [
    "# Queno3"
   ]
  },
  {
   "cell_type": "markdown",
   "id": "0b3bcb1b",
   "metadata": {},
   "source": [
    "# Principal Component Analysis"
   ]
  },
  {
   "cell_type": "code",
   "execution_count": null,
   "id": "696299a8",
   "metadata": {},
   "outputs": [],
   "source": [
    "#Principal component analysis(PCA) is a linear dimension reduction algorithms."
   ]
  },
  {
   "cell_type": "code",
   "execution_count": null,
   "id": "97666a40",
   "metadata": {},
   "outputs": [],
   "source": [
    "#It is used to reduce the dimensionality of large datasets by transforming large set of variables into smaller one that still\n",
    "#contains most of the information in the large dataset."
   ]
  },
  {
   "cell_type": "code",
   "execution_count": null,
   "id": "0f0dcfd9",
   "metadata": {},
   "outputs": [],
   "source": [
    "#As smaller datasets are easier to explore and visualise and make analyzing data points much easier and faster for machine\n",
    "#learning algorithms."
   ]
  },
  {
   "cell_type": "code",
   "execution_count": null,
   "id": "e35f6b1d",
   "metadata": {},
   "outputs": [],
   "source": [
    "#The technique of PCA enables us to create and use a reduced set of varaibles,which are called principal factors."
   ]
  },
  {
   "cell_type": "code",
   "execution_count": null,
   "id": "035ab0f5",
   "metadata": {},
   "outputs": [],
   "source": [
    "#This technique is used in data compression which means reducing irrelevant information and keep the essential features \n",
    "#of data."
   ]
  },
  {
   "cell_type": "code",
   "execution_count": null,
   "id": "e96f9dcd",
   "metadata": {},
   "outputs": [],
   "source": [
    "#It is also used in reducing noise in audio signals by eliminating the components that are irrelevant."
   ]
  },
  {
   "cell_type": "markdown",
   "id": "3d5b96c8",
   "metadata": {},
   "source": [
    "# Queno4"
   ]
  },
  {
   "cell_type": "code",
   "execution_count": null,
   "id": "95099af1",
   "metadata": {},
   "outputs": [],
   "source": [
    "#Feature extraction is most important application of Principal Component Analysis."
   ]
  },
  {
   "cell_type": "code",
   "execution_count": null,
   "id": "1e7e6736",
   "metadata": {},
   "outputs": [],
   "source": [
    "#Feature extraction can help us improve the accuracy,efficiency and interpretability of our data analysis for machine\n",
    "#learning."
   ]
  },
  {
   "cell_type": "code",
   "execution_count": null,
   "id": "f34bd86a",
   "metadata": {},
   "outputs": [],
   "source": [
    "#PCA can help perform feature extraction by creating principal components in a linear combination of variables and variable\n",
    "#can be orthogonal or uncorelated to each other."
   ]
  },
  {
   "cell_type": "code",
   "execution_count": null,
   "id": "fd6aac47",
   "metadata": {},
   "outputs": [],
   "source": [
    "#For example we can use PCA to extract features to capture difference and similarities among groups of customers,products\n",
    "#or markets."
   ]
  },
  {
   "cell_type": "markdown",
   "id": "d513a227",
   "metadata": {},
   "source": [
    "# Queno5"
   ]
  },
  {
   "cell_type": "code",
   "execution_count": null,
   "id": "5bcc7b64",
   "metadata": {},
   "outputs": [],
   "source": [
    "#We have to make different column for price,rating and delivery time in a data frame."
   ]
  },
  {
   "cell_type": "code",
   "execution_count": null,
   "id": "2d73960d",
   "metadata": {},
   "outputs": [],
   "source": [
    "#After that we can use min max scaling technique in to the value of that coloumn as we have done in queno1."
   ]
  },
  {
   "cell_type": "code",
   "execution_count": null,
   "id": "8aeb8a8d",
   "metadata": {},
   "outputs": [],
   "source": [
    "#And after min max scaling we can keep the rescaled data in new variable."
   ]
  },
  {
   "cell_type": "code",
   "execution_count": null,
   "id": "d1104d26",
   "metadata": {},
   "outputs": [],
   "source": [
    "#lets see with an example in python"
   ]
  },
  {
   "cell_type": "code",
   "execution_count": 1,
   "id": "61d762a0",
   "metadata": {},
   "outputs": [],
   "source": [
    "import pandas as pd"
   ]
  },
  {
   "cell_type": "code",
   "execution_count": 3,
   "id": "61105ffe",
   "metadata": {},
   "outputs": [],
   "source": [
    "price_in_rs=pd.Series([20,80,90,100,55,80],index=(range(6)))\n",
    "rating=pd.Series([4,7,9,3,5,10],index=(range(6)))\n",
    "delivery_time_min=pd.Series([50,60,24,15,30,10],index=(range(6)))\n",
    "df=pd.DataFrame(price_in_rs,columns=['price in rs'])"
   ]
  },
  {
   "cell_type": "code",
   "execution_count": 6,
   "id": "266fccfd",
   "metadata": {},
   "outputs": [],
   "source": [
    "df['rating']=rating\n",
    "df['delivery time in min']=delivery_time_min"
   ]
  },
  {
   "cell_type": "code",
   "execution_count": 7,
   "id": "197ce2b4",
   "metadata": {},
   "outputs": [
    {
     "data": {
      "text/html": [
       "<div>\n",
       "<style scoped>\n",
       "    .dataframe tbody tr th:only-of-type {\n",
       "        vertical-align: middle;\n",
       "    }\n",
       "\n",
       "    .dataframe tbody tr th {\n",
       "        vertical-align: top;\n",
       "    }\n",
       "\n",
       "    .dataframe thead th {\n",
       "        text-align: right;\n",
       "    }\n",
       "</style>\n",
       "<table border=\"1\" class=\"dataframe\">\n",
       "  <thead>\n",
       "    <tr style=\"text-align: right;\">\n",
       "      <th></th>\n",
       "      <th>price in rs</th>\n",
       "      <th>rating</th>\n",
       "      <th>delivery time in min</th>\n",
       "    </tr>\n",
       "  </thead>\n",
       "  <tbody>\n",
       "    <tr>\n",
       "      <th>0</th>\n",
       "      <td>20</td>\n",
       "      <td>4</td>\n",
       "      <td>50</td>\n",
       "    </tr>\n",
       "    <tr>\n",
       "      <th>1</th>\n",
       "      <td>80</td>\n",
       "      <td>7</td>\n",
       "      <td>60</td>\n",
       "    </tr>\n",
       "    <tr>\n",
       "      <th>2</th>\n",
       "      <td>90</td>\n",
       "      <td>9</td>\n",
       "      <td>24</td>\n",
       "    </tr>\n",
       "    <tr>\n",
       "      <th>3</th>\n",
       "      <td>100</td>\n",
       "      <td>3</td>\n",
       "      <td>15</td>\n",
       "    </tr>\n",
       "    <tr>\n",
       "      <th>4</th>\n",
       "      <td>55</td>\n",
       "      <td>5</td>\n",
       "      <td>30</td>\n",
       "    </tr>\n",
       "    <tr>\n",
       "      <th>5</th>\n",
       "      <td>80</td>\n",
       "      <td>10</td>\n",
       "      <td>10</td>\n",
       "    </tr>\n",
       "  </tbody>\n",
       "</table>\n",
       "</div>"
      ],
      "text/plain": [
       "   price in rs  rating  delivery time in min\n",
       "0           20       4                    50\n",
       "1           80       7                    60\n",
       "2           90       9                    24\n",
       "3          100       3                    15\n",
       "4           55       5                    30\n",
       "5           80      10                    10"
      ]
     },
     "execution_count": 7,
     "metadata": {},
     "output_type": "execute_result"
    }
   ],
   "source": [
    "df\n",
    "#now we have created dataframe wit given column that is price in rs ,ratinng and delivery timing."
   ]
  },
  {
   "cell_type": "code",
   "execution_count": 14,
   "id": "9c2d3b0e",
   "metadata": {},
   "outputs": [],
   "source": [
    "from mlxtend.preprocessing import minmax_scaling"
   ]
  },
  {
   "cell_type": "code",
   "execution_count": 16,
   "id": "c8dd3b35",
   "metadata": {},
   "outputs": [],
   "source": [
    "#now with the use of min max scaling we can use this technique in python\n",
    "result=minmax_scaling(df,columns=['price in rs','rating','delivery time in min'])"
   ]
  },
  {
   "cell_type": "code",
   "execution_count": 17,
   "id": "355f0010",
   "metadata": {},
   "outputs": [
    {
     "data": {
      "text/html": [
       "<div>\n",
       "<style scoped>\n",
       "    .dataframe tbody tr th:only-of-type {\n",
       "        vertical-align: middle;\n",
       "    }\n",
       "\n",
       "    .dataframe tbody tr th {\n",
       "        vertical-align: top;\n",
       "    }\n",
       "\n",
       "    .dataframe thead th {\n",
       "        text-align: right;\n",
       "    }\n",
       "</style>\n",
       "<table border=\"1\" class=\"dataframe\">\n",
       "  <thead>\n",
       "    <tr style=\"text-align: right;\">\n",
       "      <th></th>\n",
       "      <th>price in rs</th>\n",
       "      <th>rating</th>\n",
       "      <th>delivery time in min</th>\n",
       "    </tr>\n",
       "  </thead>\n",
       "  <tbody>\n",
       "    <tr>\n",
       "      <th>0</th>\n",
       "      <td>0.0000</td>\n",
       "      <td>0.142857</td>\n",
       "      <td>0.80</td>\n",
       "    </tr>\n",
       "    <tr>\n",
       "      <th>1</th>\n",
       "      <td>0.7500</td>\n",
       "      <td>0.571429</td>\n",
       "      <td>1.00</td>\n",
       "    </tr>\n",
       "    <tr>\n",
       "      <th>2</th>\n",
       "      <td>0.8750</td>\n",
       "      <td>0.857143</td>\n",
       "      <td>0.28</td>\n",
       "    </tr>\n",
       "    <tr>\n",
       "      <th>3</th>\n",
       "      <td>1.0000</td>\n",
       "      <td>0.000000</td>\n",
       "      <td>0.10</td>\n",
       "    </tr>\n",
       "    <tr>\n",
       "      <th>4</th>\n",
       "      <td>0.4375</td>\n",
       "      <td>0.285714</td>\n",
       "      <td>0.40</td>\n",
       "    </tr>\n",
       "    <tr>\n",
       "      <th>5</th>\n",
       "      <td>0.7500</td>\n",
       "      <td>1.000000</td>\n",
       "      <td>0.00</td>\n",
       "    </tr>\n",
       "  </tbody>\n",
       "</table>\n",
       "</div>"
      ],
      "text/plain": [
       "   price in rs    rating  delivery time in min\n",
       "0       0.0000  0.142857                  0.80\n",
       "1       0.7500  0.571429                  1.00\n",
       "2       0.8750  0.857143                  0.28\n",
       "3       1.0000  0.000000                  0.10\n",
       "4       0.4375  0.285714                  0.40\n",
       "5       0.7500  1.000000                  0.00"
      ]
     },
     "execution_count": 17,
     "metadata": {},
     "output_type": "execute_result"
    }
   ],
   "source": [
    "result"
   ]
  },
  {
   "cell_type": "code",
   "execution_count": null,
   "id": "a6e6e4ab",
   "metadata": {},
   "outputs": [],
   "source": [
    "#so in this way we have use min max scaling with help of python."
   ]
  },
  {
   "cell_type": "markdown",
   "id": "b6303aee",
   "metadata": {},
   "source": [
    "# Queno 6"
   ]
  },
  {
   "cell_type": "code",
   "execution_count": null,
   "id": "13b6b368",
   "metadata": {},
   "outputs": [],
   "source": [
    "#PCA is a process or technique of removing dimension of dataset by removing irrelevant data from it."
   ]
  },
  {
   "cell_type": "code",
   "execution_count": null,
   "id": "71a6b760",
   "metadata": {},
   "outputs": [],
   "source": [
    "#For this given question we have to create dataframe with any name with two columns that is financial data and market trend.  "
   ]
  },
  {
   "cell_type": "code",
   "execution_count": null,
   "id": "17a584bf",
   "metadata": {},
   "outputs": [],
   "source": [
    "#Now we can apply PCA method in dataframe by taking no of component that is 2 equal to features of dataset."
   ]
  },
  {
   "cell_type": "code",
   "execution_count": null,
   "id": "2483d8e7",
   "metadata": {},
   "outputs": [],
   "source": [
    "#So in this way we are able to apply PCA technique in python."
   ]
  },
  {
   "cell_type": "markdown",
   "id": "656c250a",
   "metadata": {},
   "source": [
    "# Queno7"
   ]
  },
  {
   "cell_type": "code",
   "execution_count": null,
   "id": "223a02b6",
   "metadata": {},
   "outputs": [],
   "source": [
    "#dataset=[1,5,10,15,20]\n",
    "#min value=1,max value=20\n",
    "#now we can find min max normalised value\n",
    "#1:[1-1]/[20-1]=0\n",
    "#5:[5-1]/[20-1]=0.21\n",
    "#10:[10-1]/[20-1]=0.47\n",
    "#15:[15-1]/[20-1]=0.73\n",
    "#20:[20-1]/[20-1]=1\n"
   ]
  },
  {
   "cell_type": "code",
   "execution_count": null,
   "id": "7ca08ca3",
   "metadata": {},
   "outputs": [],
   "source": [
    "#SO HERE WE GOT MIN MAX NORMALISED VALUE IN RANGE OF 0 TO 1 that is 0,0.21,0.47,0.73 and 1."
   ]
  },
  {
   "cell_type": "markdown",
   "id": "b1d264f9",
   "metadata": {},
   "source": [
    "# Queno8"
   ]
  },
  {
   "cell_type": "code",
   "execution_count": null,
   "id": "2dd00d53",
   "metadata": {},
   "outputs": [],
   "source": [
    "#First of all we have to distribute dataset in two variable x and y."
   ]
  },
  {
   "cell_type": "code",
   "execution_count": null,
   "id": "1409bcda",
   "metadata": {},
   "outputs": [],
   "source": [
    "#After that we have split both variable in to training set and test set and set a standard scale. "
   ]
  },
  {
   "cell_type": "code",
   "execution_count": null,
   "id": "da8484b7",
   "metadata": {},
   "outputs": [],
   "source": [
    "#Then after that we can apply PCA function in both training set and test set of x component taking 5 as principal components\n",
    "#as there are five features that is height,weight,gender,age and blood pressure."
   ]
  },
  {
   "cell_type": "code",
   "execution_count": null,
   "id": "933a24b2",
   "metadata": {},
   "outputs": [],
   "source": [
    "#After that we can fit logistic regression to training set and then can predict the test set result. "
   ]
  },
  {
   "cell_type": "code",
   "execution_count": null,
   "id": "86b82b9a",
   "metadata": {},
   "outputs": [],
   "source": [
    "#Then we can apply confusion matrix between test set of y and predicted value."
   ]
  },
  {
   "cell_type": "code",
   "execution_count": null,
   "id": "74ea47c1",
   "metadata": {},
   "outputs": [],
   "source": [
    "#Then after that we can predict training set result."
   ]
  }
 ],
 "metadata": {
  "kernelspec": {
   "display_name": "Python 3 (ipykernel)",
   "language": "python",
   "name": "python3"
  },
  "language_info": {
   "codemirror_mode": {
    "name": "ipython",
    "version": 3
   },
   "file_extension": ".py",
   "mimetype": "text/x-python",
   "name": "python",
   "nbconvert_exporter": "python",
   "pygments_lexer": "ipython3",
   "version": "3.11.5"
  }
 },
 "nbformat": 4,
 "nbformat_minor": 5
}
