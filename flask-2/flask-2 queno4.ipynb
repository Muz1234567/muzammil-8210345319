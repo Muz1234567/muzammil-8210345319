{
 "cells": [
  {
   "cell_type": "markdown",
   "id": "5c74c545",
   "metadata": {},
   "source": [
    "# Templates In Flask"
   ]
  },
  {
   "cell_type": "code",
   "execution_count": null,
   "id": "a1df4b14",
   "metadata": {},
   "outputs": [],
   "source": [
    "#Templates are scripts that include stand ins for data streams in addition to static data."
   ]
  },
  {
   "cell_type": "code",
   "execution_count": null,
   "id": "8ec8b3c4",
   "metadata": {},
   "outputs": [],
   "source": [
    "#Flask makes use of junja template library."
   ]
  },
  {
   "cell_type": "code",
   "execution_count": null,
   "id": "65a325ef",
   "metadata": {},
   "outputs": [],
   "source": [
    "#Jinja is set up in flask to automatically escape any data rendered in HTML layouts."
   ]
  },
  {
   "cell_type": "code",
   "execution_count": null,
   "id": "eee5c227",
   "metadata": {},
   "outputs": [],
   "source": [
    "#Creating HTML from within python is not easy,because we have to do the HTML escaping on our own to keep the application secure."
   ]
  },
  {
   "cell_type": "code",
   "execution_count": null,
   "id": "2996ff20",
   "metadata": {},
   "outputs": [],
   "source": [
    "#Because of that Flask configures the jinja2 template engine for us automatically."
   ]
  },
  {
   "cell_type": "code",
   "execution_count": null,
   "id": "17447463",
   "metadata": {},
   "outputs": [],
   "source": [
    "#To rander a template we can use render_template() method."
   ]
  },
  {
   "cell_type": "code",
   "execution_count": null,
   "id": "e3bb0b74",
   "metadata": {},
   "outputs": [],
   "source": [
    "#All we have to do is provide the name of template and the variables we want to pass to template engine as keyword argument."
   ]
  },
  {
   "cell_type": "code",
   "execution_count": null,
   "id": "911e7aaa",
   "metadata": {},
   "outputs": [],
   "source": [
    "#Flask will look for templates in the templates folder."
   ]
  },
  {
   "cell_type": "code",
   "execution_count": null,
   "id": "f45ef038",
   "metadata": {},
   "outputs": [],
   "source": [
    "#If our application is amodule, this folder is next to that module,if its a package its actually inside our package."
   ]
  }
 ],
 "metadata": {
  "kernelspec": {
   "display_name": "Python 3 (ipykernel)",
   "language": "python",
   "name": "python3"
  },
  "language_info": {
   "codemirror_mode": {
    "name": "ipython",
    "version": 3
   },
   "file_extension": ".py",
   "mimetype": "text/x-python",
   "name": "python",
   "nbconvert_exporter": "python",
   "pygments_lexer": "ipython3",
   "version": "3.11.5"
  }
 },
 "nbformat": 4,
 "nbformat_minor": 5
}
