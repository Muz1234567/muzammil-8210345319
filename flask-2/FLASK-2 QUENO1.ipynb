{
 "cells": [
  {
   "cell_type": "markdown",
   "id": "d95e862f",
   "metadata": {},
   "source": [
    "# GET METHOD"
   ]
  },
  {
   "cell_type": "code",
   "execution_count": null,
   "id": "8b2b4db6",
   "metadata": {},
   "outputs": [],
   "source": [
    "#GET method is used to request data from a specified resource."
   ]
  },
  {
   "cell_type": "code",
   "execution_count": null,
   "id": "b26e0057",
   "metadata": {},
   "outputs": [],
   "source": [
    "#when sending data ,the GET method adds the data to the URL;and the the length of a URL is limited ."
   ]
  },
  {
   "cell_type": "code",
   "execution_count": null,
   "id": "156ba9e7",
   "metadata": {},
   "outputs": [],
   "source": [
    "#GET is less secure compared to post because data sent is part of URL."
   ]
  },
  {
   "cell_type": "code",
   "execution_count": null,
   "id": "d6979c55",
   "metadata": {},
   "outputs": [],
   "source": [
    "#In GET data is visible to every one in URL."
   ]
  },
  {
   "cell_type": "markdown",
   "id": "44b562e1",
   "metadata": {},
   "source": [
    "# POST METHOD"
   ]
  },
  {
   "cell_type": "code",
   "execution_count": null,
   "id": "bfc08bf0",
   "metadata": {},
   "outputs": [],
   "source": [
    "#Post is used to send data to a server to create/update a resource."
   ]
  },
  {
   "cell_type": "code",
   "execution_count": null,
   "id": "cbb95661",
   "metadata": {},
   "outputs": [],
   "source": [
    "#There is not any restriction IN POST like GET as URL capacity is limited in GET."
   ]
  },
  {
   "cell_type": "code",
   "execution_count": null,
   "id": "bb12b087",
   "metadata": {},
   "outputs": [],
   "source": [
    "#Post is little safer than GET because the parameters are not stored in browser history or in web server logs."
   ]
  },
  {
   "cell_type": "code",
   "execution_count": null,
   "id": "979d0427",
   "metadata": {},
   "outputs": [],
   "source": [
    "#In POST data is not displayed in the URL."
   ]
  },
  {
   "cell_type": "code",
   "execution_count": null,
   "id": "f456436b",
   "metadata": {},
   "outputs": [],
   "source": [
    "#POST cannot be bookmarked or cannot be cached."
   ]
  },
  {
   "cell_type": "code",
   "execution_count": null,
   "id": "d7c7f7ec",
   "metadata": {},
   "outputs": [],
   "source": []
  }
 ],
 "metadata": {
  "kernelspec": {
   "display_name": "Python 3 (ipykernel)",
   "language": "python",
   "name": "python3"
  },
  "language_info": {
   "codemirror_mode": {
    "name": "ipython",
    "version": 3
   },
   "file_extension": ".py",
   "mimetype": "text/x-python",
   "name": "python",
   "nbconvert_exporter": "python",
   "pygments_lexer": "ipython3",
   "version": "3.11.5"
  }
 },
 "nbformat": 4,
 "nbformat_minor": 5
}
