{
 "cells": [
  {
   "cell_type": "markdown",
   "id": "d8e81fb7",
   "metadata": {},
   "source": [
    "# queno 1"
   ]
  },
  {
   "cell_type": "markdown",
   "id": "c1e82bcf",
   "metadata": {},
   "source": [
    "# Creating pandas series"
   ]
  },
  {
   "cell_type": "code",
   "execution_count": 1,
   "id": "cddff282",
   "metadata": {},
   "outputs": [],
   "source": [
    "import pandas as pd"
   ]
  },
  {
   "cell_type": "code",
   "execution_count": 13,
   "id": "676d992d",
   "metadata": {},
   "outputs": [],
   "source": [
    "data=[4,18,15,16,23,42]\n",
    "series=pd.Series(data)"
   ]
  },
  {
   "cell_type": "code",
   "execution_count": 14,
   "id": "1418212b",
   "metadata": {},
   "outputs": [
    {
     "data": {
      "text/plain": [
       "0     4\n",
       "1    18\n",
       "2    15\n",
       "3    16\n",
       "4    23\n",
       "5    42\n",
       "dtype: int64"
      ]
     },
     "execution_count": 14,
     "metadata": {},
     "output_type": "execute_result"
    }
   ],
   "source": [
    "series"
   ]
  },
  {
   "cell_type": "code",
   "execution_count": 4,
   "id": "45d34ed8",
   "metadata": {},
   "outputs": [
    {
     "data": {
      "text/plain": [
       "pandas.core.series.Series"
      ]
     },
     "execution_count": 4,
     "metadata": {},
     "output_type": "execute_result"
    }
   ],
   "source": [
    "type(series)"
   ]
  },
  {
   "cell_type": "code",
   "execution_count": 5,
   "id": "b0f8dd59",
   "metadata": {},
   "outputs": [
    {
     "data": {
      "text/plain": [
       "[4, 18, 15, 16, 23, 42]"
      ]
     },
     "execution_count": 5,
     "metadata": {},
     "output_type": "execute_result"
    }
   ],
   "source": [
    "list(series)"
   ]
  },
  {
   "cell_type": "code",
   "execution_count": null,
   "id": "c1864814",
   "metadata": {},
   "outputs": [],
   "source": [
    "#so in the above we have created series and list of \"series\"."
   ]
  },
  {
   "cell_type": "markdown",
   "id": "1d556533",
   "metadata": {},
   "source": [
    "# queno 2"
   ]
  },
  {
   "cell_type": "code",
   "execution_count": 6,
   "id": "199ee118",
   "metadata": {},
   "outputs": [],
   "source": [
    "series=[3,5,6,89,78,65,67,45,76,67]\n",
    "variable=pd.Series(series)"
   ]
  },
  {
   "cell_type": "code",
   "execution_count": 7,
   "id": "9f5ff7c0",
   "metadata": {},
   "outputs": [
    {
     "data": {
      "text/plain": [
       "0     3\n",
       "1     5\n",
       "2     6\n",
       "3    89\n",
       "4    78\n",
       "5    65\n",
       "6    67\n",
       "7    45\n",
       "8    76\n",
       "9    67\n",
       "dtype: int64"
      ]
     },
     "execution_count": 7,
     "metadata": {},
     "output_type": "execute_result"
    }
   ],
   "source": [
    "variable"
   ]
  },
  {
   "cell_type": "code",
   "execution_count": 8,
   "id": "ad7ccf2f",
   "metadata": {},
   "outputs": [
    {
     "data": {
      "text/plain": [
       "pandas.core.series.Series"
      ]
     },
     "execution_count": 8,
     "metadata": {},
     "output_type": "execute_result"
    }
   ],
   "source": [
    "type(variable)"
   ]
  },
  {
   "cell_type": "code",
   "execution_count": 9,
   "id": "e192d0c4",
   "metadata": {},
   "outputs": [
    {
     "data": {
      "text/plain": [
       "dtype('int64')"
      ]
     },
     "execution_count": 9,
     "metadata": {},
     "output_type": "execute_result"
    }
   ],
   "source": [
    "variable.dtypes"
   ]
  },
  {
   "cell_type": "code",
   "execution_count": 10,
   "id": "dd73351a",
   "metadata": {},
   "outputs": [
    {
     "data": {
      "text/plain": [
       "[3, 5, 6, 89, 78, 65, 67, 45, 76, 67]"
      ]
     },
     "execution_count": 10,
     "metadata": {},
     "output_type": "execute_result"
    }
   ],
   "source": [
    "list(variable)"
   ]
  },
  {
   "cell_type": "code",
   "execution_count": null,
   "id": "0ef95687",
   "metadata": {},
   "outputs": [],
   "source": [
    "#so in the same way we have taken variable named as variable and printed the series by using pandas.series Function()."
   ]
  },
  {
   "cell_type": "markdown",
   "id": "e5cd18d7",
   "metadata": {},
   "source": [
    "# queno 3"
   ]
  },
  {
   "cell_type": "code",
   "execution_count": 12,
   "id": "3dcfb90a",
   "metadata": {},
   "outputs": [],
   "source": [
    "data=[['Alice','25','Female'],['Bob','30','Male'],['Claire','27','Female']]"
   ]
  },
  {
   "cell_type": "code",
   "execution_count": 13,
   "id": "a6a25114",
   "metadata": {},
   "outputs": [],
   "source": [
    "df=pd.DataFrame(data,columns=['Name','Age','Gender'])"
   ]
  },
  {
   "cell_type": "code",
   "execution_count": 14,
   "id": "b561f8e6",
   "metadata": {},
   "outputs": [
    {
     "data": {
      "text/html": [
       "<div>\n",
       "<style scoped>\n",
       "    .dataframe tbody tr th:only-of-type {\n",
       "        vertical-align: middle;\n",
       "    }\n",
       "\n",
       "    .dataframe tbody tr th {\n",
       "        vertical-align: top;\n",
       "    }\n",
       "\n",
       "    .dataframe thead th {\n",
       "        text-align: right;\n",
       "    }\n",
       "</style>\n",
       "<table border=\"1\" class=\"dataframe\">\n",
       "  <thead>\n",
       "    <tr style=\"text-align: right;\">\n",
       "      <th></th>\n",
       "      <th>Name</th>\n",
       "      <th>Age</th>\n",
       "      <th>Gender</th>\n",
       "    </tr>\n",
       "  </thead>\n",
       "  <tbody>\n",
       "    <tr>\n",
       "      <th>0</th>\n",
       "      <td>Alice</td>\n",
       "      <td>25</td>\n",
       "      <td>Female</td>\n",
       "    </tr>\n",
       "    <tr>\n",
       "      <th>1</th>\n",
       "      <td>Bob</td>\n",
       "      <td>30</td>\n",
       "      <td>Male</td>\n",
       "    </tr>\n",
       "    <tr>\n",
       "      <th>2</th>\n",
       "      <td>Claire</td>\n",
       "      <td>27</td>\n",
       "      <td>Female</td>\n",
       "    </tr>\n",
       "  </tbody>\n",
       "</table>\n",
       "</div>"
      ],
      "text/plain": [
       "     Name Age  Gender\n",
       "0   Alice  25  Female\n",
       "1     Bob  30    Male\n",
       "2  Claire  27  Female"
      ]
     },
     "execution_count": 14,
     "metadata": {},
     "output_type": "execute_result"
    }
   ],
   "source": [
    "df"
   ]
  },
  {
   "cell_type": "code",
   "execution_count": 15,
   "id": "49b2d178",
   "metadata": {},
   "outputs": [
    {
     "data": {
      "text/html": [
       "<div>\n",
       "<style scoped>\n",
       "    .dataframe tbody tr th:only-of-type {\n",
       "        vertical-align: middle;\n",
       "    }\n",
       "\n",
       "    .dataframe tbody tr th {\n",
       "        vertical-align: top;\n",
       "    }\n",
       "\n",
       "    .dataframe thead th {\n",
       "        text-align: right;\n",
       "    }\n",
       "</style>\n",
       "<table border=\"1\" class=\"dataframe\">\n",
       "  <thead>\n",
       "    <tr style=\"text-align: right;\">\n",
       "      <th></th>\n",
       "      <th>Age</th>\n",
       "      <th>Gender</th>\n",
       "    </tr>\n",
       "    <tr>\n",
       "      <th>Name</th>\n",
       "      <th></th>\n",
       "      <th></th>\n",
       "    </tr>\n",
       "  </thead>\n",
       "  <tbody>\n",
       "    <tr>\n",
       "      <th>Alice</th>\n",
       "      <td>25</td>\n",
       "      <td>Female</td>\n",
       "    </tr>\n",
       "    <tr>\n",
       "      <th>Bob</th>\n",
       "      <td>30</td>\n",
       "      <td>Male</td>\n",
       "    </tr>\n",
       "    <tr>\n",
       "      <th>Claire</th>\n",
       "      <td>27</td>\n",
       "      <td>Female</td>\n",
       "    </tr>\n",
       "  </tbody>\n",
       "</table>\n",
       "</div>"
      ],
      "text/plain": [
       "       Age  Gender\n",
       "Name              \n",
       "Alice   25  Female\n",
       "Bob     30    Male\n",
       "Claire  27  Female"
      ]
     },
     "execution_count": 15,
     "metadata": {},
     "output_type": "execute_result"
    }
   ],
   "source": [
    "df.set_index('Name')"
   ]
  },
  {
   "cell_type": "code",
   "execution_count": null,
   "id": "39ba0c89",
   "metadata": {},
   "outputs": [],
   "source": [
    "#So in this way we have printed dataframe having variable df by applying pd.dataframe function."
   ]
  },
  {
   "cell_type": "markdown",
   "id": "e5b5c7ae",
   "metadata": {},
   "source": [
    "# queno 4"
   ]
  },
  {
   "cell_type": "markdown",
   "id": "0376196e",
   "metadata": {},
   "source": [
    "# DataFrame"
   ]
  },
  {
   "cell_type": "code",
   "execution_count": null,
   "id": "7e994c53",
   "metadata": {},
   "outputs": [],
   "source": [
    "#DataFrame is a datastructure that organizes data into a 2-dimensional table of rows and columns,much like a spreadsheet."
   ]
  },
  {
   "cell_type": "code",
   "execution_count": null,
   "id": "0f29ca8a",
   "metadata": {},
   "outputs": [],
   "source": [
    "#It has many features like its size is mutable,has labelled axes and also can perform arithmetic operations on rows and columns."
   ]
  },
  {
   "cell_type": "code",
   "execution_count": null,
   "id": "c21e529a",
   "metadata": {},
   "outputs": [],
   "source": [
    "#In the other hand ther is one dimensional labelled array called Pandas Series may hold any form of data (integer,list,float,string)etc."
   ]
  },
  {
   "cell_type": "code",
   "execution_count": null,
   "id": "993ba229",
   "metadata": {},
   "outputs": [],
   "source": [
    "#It is possible to create new series by using lists,arrays,dictionaries,and existing Series objects."
   ]
  },
  {
   "cell_type": "code",
   "execution_count": null,
   "id": "62e8d835",
   "metadata": {},
   "outputs": [],
   "source": [
    "#Pandas series can be aligned with another Series or DataFrame even if indsex labels are ordered differently while in dataframe alighnment is also supported but it is determined by coumn label."
   ]
  },
  {
   "cell_type": "code",
   "execution_count": null,
   "id": "0952fb5f",
   "metadata": {},
   "outputs": [],
   "source": [
    "#Additional features like filtering,merging and joining is accesible in dataframe but not in Series."
   ]
  },
  {
   "cell_type": "code",
   "execution_count": 16,
   "id": "6363a6d3",
   "metadata": {},
   "outputs": [],
   "source": [
    "data=[['Alice','25','Female'],['Bob','30','Male'],['Claire','27','Female']]"
   ]
  },
  {
   "cell_type": "code",
   "execution_count": 17,
   "id": "202b6b1e",
   "metadata": {},
   "outputs": [],
   "source": [
    "df=pd.DataFrame(data,columns=['Name','Age','Gender'])"
   ]
  },
  {
   "cell_type": "code",
   "execution_count": 18,
   "id": "85dfb98c",
   "metadata": {},
   "outputs": [
    {
     "data": {
      "text/html": [
       "<div>\n",
       "<style scoped>\n",
       "    .dataframe tbody tr th:only-of-type {\n",
       "        vertical-align: middle;\n",
       "    }\n",
       "\n",
       "    .dataframe tbody tr th {\n",
       "        vertical-align: top;\n",
       "    }\n",
       "\n",
       "    .dataframe thead th {\n",
       "        text-align: right;\n",
       "    }\n",
       "</style>\n",
       "<table border=\"1\" class=\"dataframe\">\n",
       "  <thead>\n",
       "    <tr style=\"text-align: right;\">\n",
       "      <th></th>\n",
       "      <th>Name</th>\n",
       "      <th>Age</th>\n",
       "      <th>Gender</th>\n",
       "    </tr>\n",
       "  </thead>\n",
       "  <tbody>\n",
       "    <tr>\n",
       "      <th>0</th>\n",
       "      <td>Alice</td>\n",
       "      <td>25</td>\n",
       "      <td>Female</td>\n",
       "    </tr>\n",
       "    <tr>\n",
       "      <th>1</th>\n",
       "      <td>Bob</td>\n",
       "      <td>30</td>\n",
       "      <td>Male</td>\n",
       "    </tr>\n",
       "    <tr>\n",
       "      <th>2</th>\n",
       "      <td>Claire</td>\n",
       "      <td>27</td>\n",
       "      <td>Female</td>\n",
       "    </tr>\n",
       "  </tbody>\n",
       "</table>\n",
       "</div>"
      ],
      "text/plain": [
       "     Name Age  Gender\n",
       "0   Alice  25  Female\n",
       "1     Bob  30    Male\n",
       "2  Claire  27  Female"
      ]
     },
     "execution_count": 18,
     "metadata": {},
     "output_type": "execute_result"
    }
   ],
   "source": [
    "df"
   ]
  },
  {
   "cell_type": "code",
   "execution_count": 19,
   "id": "7c164ecf",
   "metadata": {},
   "outputs": [],
   "source": [
    "df1=pd.Series(data)"
   ]
  },
  {
   "cell_type": "code",
   "execution_count": 20,
   "id": "3f5c7f1f",
   "metadata": {},
   "outputs": [
    {
     "data": {
      "text/plain": [
       "0     [Alice, 25, Female]\n",
       "1         [Bob, 30, Male]\n",
       "2    [Claire, 27, Female]\n",
       "dtype: object"
      ]
     },
     "execution_count": 20,
     "metadata": {},
     "output_type": "execute_result"
    }
   ],
   "source": [
    "df1"
   ]
  },
  {
   "cell_type": "code",
   "execution_count": 21,
   "id": "cba7b0fe",
   "metadata": {},
   "outputs": [
    {
     "data": {
      "text/plain": [
       "pandas.core.frame.DataFrame"
      ]
     },
     "execution_count": 21,
     "metadata": {},
     "output_type": "execute_result"
    }
   ],
   "source": [
    "type(df)"
   ]
  },
  {
   "cell_type": "code",
   "execution_count": 22,
   "id": "54cb936d",
   "metadata": {},
   "outputs": [
    {
     "data": {
      "text/plain": [
       "pandas.core.series.Series"
      ]
     },
     "execution_count": 22,
     "metadata": {},
     "output_type": "execute_result"
    }
   ],
   "source": [
    "type(df1)"
   ]
  },
  {
   "cell_type": "code",
   "execution_count": null,
   "id": "773e732e",
   "metadata": {},
   "outputs": [],
   "source": [
    "#so after converting dataframe in to series we have seen that dataframe has lost the columns after converting into series."
   ]
  },
  {
   "cell_type": "markdown",
   "id": "2f8528fc",
   "metadata": {},
   "source": [
    "# queno 5"
   ]
  },
  {
   "cell_type": "code",
   "execution_count": 23,
   "id": "ab85f798",
   "metadata": {},
   "outputs": [],
   "source": [
    "x=pd.read_excel(\"DATASCRAPPED.XLSX.xlsx\")"
   ]
  },
  {
   "cell_type": "code",
   "execution_count": 24,
   "id": "2aa9b14f",
   "metadata": {},
   "outputs": [],
   "source": [
    "df2=pd.DataFrame(x)"
   ]
  },
  {
   "cell_type": "code",
   "execution_count": 25,
   "id": "815e3dde",
   "metadata": {},
   "outputs": [
    {
     "data": {
      "text/html": [
       "<div>\n",
       "<style scoped>\n",
       "    .dataframe tbody tr th:only-of-type {\n",
       "        vertical-align: middle;\n",
       "    }\n",
       "\n",
       "    .dataframe tbody tr th {\n",
       "        vertical-align: top;\n",
       "    }\n",
       "\n",
       "    .dataframe thead th {\n",
       "        text-align: right;\n",
       "    }\n",
       "</style>\n",
       "<table border=\"1\" class=\"dataframe\">\n",
       "  <thead>\n",
       "    <tr style=\"text-align: right;\">\n",
       "      <th></th>\n",
       "      <th>VIDEO.NO</th>\n",
       "      <th>VIDEO_URL</th>\n",
       "      <th>VIDEO_THUMBNAIL</th>\n",
       "      <th>VIDEO_VIEWS</th>\n",
       "      <th>VIDEO_TITLE</th>\n",
       "      <th>VIDEO_UPLOAD_DATE</th>\n",
       "    </tr>\n",
       "  </thead>\n",
       "  <tbody>\n",
       "    <tr>\n",
       "      <th>0</th>\n",
       "      <td>1</td>\n",
       "      <td>https://www.youtube.com/watch?v=Hk38eamyEhc</td>\n",
       "      <td>https://i.ytimg.com/vi/Hk38eamyEhc/maxresdefau...</td>\n",
       "      <td>3666</td>\n",
       "      <td>FEDERALISM in 30 mins || Class - 10TH Boards'\"</td>\n",
       "      <td>2023-10-10T05:30:09-07:00</td>\n",
       "    </tr>\n",
       "    <tr>\n",
       "      <th>1</th>\n",
       "      <td>2</td>\n",
       "      <td>https://www.youtube.com/watch?v=3xcO-Uci14o</td>\n",
       "      <td>https://i.ytimg.com/vi/3xcO-Uci14o/maxresdefau...</td>\n",
       "      <td>16099</td>\n",
       "      <td>ACIDS, BASES, AND SALTS in 55 mins || Class - ...</td>\n",
       "      <td>2023-10-09T05:30:02-07:00</td>\n",
       "    </tr>\n",
       "    <tr>\n",
       "      <th>2</th>\n",
       "      <td>3</td>\n",
       "      <td>https://www.youtube.com/watch?v=9psNUS-2Bow</td>\n",
       "      <td>https://i.ytimg.com/vi/9psNUS-2Bow/maxresdefau...</td>\n",
       "      <td>7277</td>\n",
       "      <td>SECTORS OF THE INDIAN ECONOMY in 40 mins || Cl...</td>\n",
       "      <td>2023-10-07T05:30:05-07:00</td>\n",
       "    </tr>\n",
       "    <tr>\n",
       "      <th>3</th>\n",
       "      <td>4</td>\n",
       "      <td>https://www.youtube.com/watch?v=Zyw6KS4myIY</td>\n",
       "      <td>https://i.ytimg.com/vi/Zyw6KS4myIY/maxresdefau...</td>\n",
       "      <td>8618</td>\n",
       "      <td>The Human Eye and the Colourful World in 30min...</td>\n",
       "      <td>2023-10-06T05:30:17-07:00</td>\n",
       "    </tr>\n",
       "    <tr>\n",
       "      <th>4</th>\n",
       "      <td>5</td>\n",
       "      <td>https://www.youtube.com/watch?v=fP0E43Y6ldI</td>\n",
       "      <td>https://i.ytimg.com/vi/fP0E43Y6ldI/maxresdefau...</td>\n",
       "      <td>8036</td>\n",
       "      <td>FOREST AND WILDLIFE RESOURCES in 40mins  || Cl...</td>\n",
       "      <td>2023-10-05T05:30:33-07:00</td>\n",
       "    </tr>\n",
       "  </tbody>\n",
       "</table>\n",
       "</div>"
      ],
      "text/plain": [
       "   VIDEO.NO                                    VIDEO_URL  \\\n",
       "0         1  https://www.youtube.com/watch?v=Hk38eamyEhc   \n",
       "1         2  https://www.youtube.com/watch?v=3xcO-Uci14o   \n",
       "2         3  https://www.youtube.com/watch?v=9psNUS-2Bow   \n",
       "3         4  https://www.youtube.com/watch?v=Zyw6KS4myIY   \n",
       "4         5  https://www.youtube.com/watch?v=fP0E43Y6ldI   \n",
       "\n",
       "                                     VIDEO_THUMBNAIL  VIDEO_VIEWS  \\\n",
       "0  https://i.ytimg.com/vi/Hk38eamyEhc/maxresdefau...         3666   \n",
       "1  https://i.ytimg.com/vi/3xcO-Uci14o/maxresdefau...        16099   \n",
       "2  https://i.ytimg.com/vi/9psNUS-2Bow/maxresdefau...         7277   \n",
       "3  https://i.ytimg.com/vi/Zyw6KS4myIY/maxresdefau...         8618   \n",
       "4  https://i.ytimg.com/vi/fP0E43Y6ldI/maxresdefau...         8036   \n",
       "\n",
       "                                         VIDEO_TITLE  \\\n",
       "0     FEDERALISM in 30 mins || Class - 10TH Boards'\"   \n",
       "1  ACIDS, BASES, AND SALTS in 55 mins || Class - ...   \n",
       "2  SECTORS OF THE INDIAN ECONOMY in 40 mins || Cl...   \n",
       "3  The Human Eye and the Colourful World in 30min...   \n",
       "4  FOREST AND WILDLIFE RESOURCES in 40mins  || Cl...   \n",
       "\n",
       "           VIDEO_UPLOAD_DATE  \n",
       "0  2023-10-10T05:30:09-07:00  \n",
       "1  2023-10-09T05:30:02-07:00  \n",
       "2  2023-10-07T05:30:05-07:00  \n",
       "3  2023-10-06T05:30:17-07:00  \n",
       "4  2023-10-05T05:30:33-07:00  "
      ]
     },
     "execution_count": 25,
     "metadata": {},
     "output_type": "execute_result"
    }
   ],
   "source": [
    "df2"
   ]
  },
  {
   "cell_type": "code",
   "execution_count": 26,
   "id": "37ffe763",
   "metadata": {},
   "outputs": [
    {
     "data": {
      "text/plain": [
       "Index(['VIDEO.NO', 'VIDEO_URL', 'VIDEO_THUMBNAIL', 'VIDEO_VIEWS',\n",
       "       'VIDEO_TITLE', 'VIDEO_UPLOAD_DATE'],\n",
       "      dtype='object')"
      ]
     },
     "execution_count": 26,
     "metadata": {},
     "output_type": "execute_result"
    }
   ],
   "source": [
    "df2.columns"
   ]
  },
  {
   "cell_type": "code",
   "execution_count": 27,
   "id": "58335fab",
   "metadata": {},
   "outputs": [
    {
     "data": {
      "text/plain": [
       "['VIDEO.NO',\n",
       " 'VIDEO_URL',\n",
       " 'VIDEO_THUMBNAIL',\n",
       " 'VIDEO_VIEWS',\n",
       " 'VIDEO_TITLE',\n",
       " 'VIDEO_UPLOAD_DATE']"
      ]
     },
     "execution_count": 27,
     "metadata": {},
     "output_type": "execute_result"
    }
   ],
   "source": [
    "list(df2.columns)"
   ]
  },
  {
   "cell_type": "code",
   "execution_count": 28,
   "id": "c28fcfa8",
   "metadata": {},
   "outputs": [
    {
     "data": {
      "text/plain": [
       "VIDEO.NO              int64\n",
       "VIDEO_URL            object\n",
       "VIDEO_THUMBNAIL      object\n",
       "VIDEO_VIEWS           int64\n",
       "VIDEO_TITLE          object\n",
       "VIDEO_UPLOAD_DATE    object\n",
       "dtype: object"
      ]
     },
     "execution_count": 28,
     "metadata": {},
     "output_type": "execute_result"
    }
   ],
   "source": [
    "df2.dtypes"
   ]
  },
  {
   "cell_type": "code",
   "execution_count": 29,
   "id": "f24ee86c",
   "metadata": {},
   "outputs": [
    {
     "data": {
      "text/html": [
       "<div>\n",
       "<style scoped>\n",
       "    .dataframe tbody tr th:only-of-type {\n",
       "        vertical-align: middle;\n",
       "    }\n",
       "\n",
       "    .dataframe tbody tr th {\n",
       "        vertical-align: top;\n",
       "    }\n",
       "\n",
       "    .dataframe thead th {\n",
       "        text-align: right;\n",
       "    }\n",
       "</style>\n",
       "<table border=\"1\" class=\"dataframe\">\n",
       "  <thead>\n",
       "    <tr style=\"text-align: right;\">\n",
       "      <th></th>\n",
       "      <th>VIDEO.NO</th>\n",
       "      <th>VIDEO_TITLE</th>\n",
       "      <th>VIDEO_UPLOAD_DATE</th>\n",
       "      <th>VIDEO_VIEWS</th>\n",
       "    </tr>\n",
       "  </thead>\n",
       "  <tbody>\n",
       "    <tr>\n",
       "      <th>0</th>\n",
       "      <td>1</td>\n",
       "      <td>FEDERALISM in 30 mins || Class - 10TH Boards'\"</td>\n",
       "      <td>2023-10-10T05:30:09-07:00</td>\n",
       "      <td>3666</td>\n",
       "    </tr>\n",
       "    <tr>\n",
       "      <th>1</th>\n",
       "      <td>2</td>\n",
       "      <td>ACIDS, BASES, AND SALTS in 55 mins || Class - ...</td>\n",
       "      <td>2023-10-09T05:30:02-07:00</td>\n",
       "      <td>16099</td>\n",
       "    </tr>\n",
       "    <tr>\n",
       "      <th>2</th>\n",
       "      <td>3</td>\n",
       "      <td>SECTORS OF THE INDIAN ECONOMY in 40 mins || Cl...</td>\n",
       "      <td>2023-10-07T05:30:05-07:00</td>\n",
       "      <td>7277</td>\n",
       "    </tr>\n",
       "    <tr>\n",
       "      <th>3</th>\n",
       "      <td>4</td>\n",
       "      <td>The Human Eye and the Colourful World in 30min...</td>\n",
       "      <td>2023-10-06T05:30:17-07:00</td>\n",
       "      <td>8618</td>\n",
       "    </tr>\n",
       "    <tr>\n",
       "      <th>4</th>\n",
       "      <td>5</td>\n",
       "      <td>FOREST AND WILDLIFE RESOURCES in 40mins  || Cl...</td>\n",
       "      <td>2023-10-05T05:30:33-07:00</td>\n",
       "      <td>8036</td>\n",
       "    </tr>\n",
       "  </tbody>\n",
       "</table>\n",
       "</div>"
      ],
      "text/plain": [
       "   VIDEO.NO                                        VIDEO_TITLE  \\\n",
       "0         1     FEDERALISM in 30 mins || Class - 10TH Boards'\"   \n",
       "1         2  ACIDS, BASES, AND SALTS in 55 mins || Class - ...   \n",
       "2         3  SECTORS OF THE INDIAN ECONOMY in 40 mins || Cl...   \n",
       "3         4  The Human Eye and the Colourful World in 30min...   \n",
       "4         5  FOREST AND WILDLIFE RESOURCES in 40mins  || Cl...   \n",
       "\n",
       "           VIDEO_UPLOAD_DATE  VIDEO_VIEWS  \n",
       "0  2023-10-10T05:30:09-07:00         3666  \n",
       "1  2023-10-09T05:30:02-07:00        16099  \n",
       "2  2023-10-07T05:30:05-07:00         7277  \n",
       "3  2023-10-06T05:30:17-07:00         8618  \n",
       "4  2023-10-05T05:30:33-07:00         8036  "
      ]
     },
     "execution_count": 29,
     "metadata": {},
     "output_type": "execute_result"
    }
   ],
   "source": [
    "df2[['VIDEO.NO','VIDEO_TITLE','VIDEO_UPLOAD_DATE','VIDEO_VIEWS']]"
   ]
  },
  {
   "cell_type": "code",
   "execution_count": null,
   "id": "ab7ad55c",
   "metadata": {},
   "outputs": [],
   "source": [
    "#So in the above we saw that we are able to remove column video_url and video_thumbnail and also rearrange the column in a new way."
   ]
  },
  {
   "cell_type": "markdown",
   "id": "9f76e3a7",
   "metadata": {},
   "source": [
    "# queno 6"
   ]
  },
  {
   "cell_type": "code",
   "execution_count": null,
   "id": "4366c615",
   "metadata": {},
   "outputs": [],
   "source": [
    "#The value in series is mutable means we can change any value in series ,but the size is immutable."
   ]
  },
  {
   "cell_type": "code",
   "execution_count": null,
   "id": "b63d5642",
   "metadata": {},
   "outputs": [],
   "source": [
    "#While in Dataframe size and data is mutable means we can change size and data at any time."
   ]
  },
  {
   "cell_type": "code",
   "execution_count": null,
   "id": "b32dcd0c",
   "metadata": {},
   "outputs": [],
   "source": [
    "#Panel is a three dimensional data structure with heterogenous data."
   ]
  },
  {
   "cell_type": "code",
   "execution_count": null,
   "id": "0e7ad00c",
   "metadata": {},
   "outputs": [],
   "source": [
    "#In panel both data and size are mutable."
   ]
  },
  {
   "cell_type": "code",
   "execution_count": 44,
   "id": "36277883",
   "metadata": {},
   "outputs": [],
   "source": [
    "index_=['mango','guava','banana','orange','cauliflower','cabbage']"
   ]
  },
  {
   "cell_type": "code",
   "execution_count": 45,
   "id": "8c6fc69f",
   "metadata": {},
   "outputs": [],
   "source": [
    "series.index=index_"
   ]
  },
  {
   "cell_type": "code",
   "execution_count": 46,
   "id": "13e70acf",
   "metadata": {},
   "outputs": [
    {
     "data": {
      "text/plain": [
       "mango           4\n",
       "guava          18\n",
       "banana         15\n",
       "orange         16\n",
       "cauliflower    23\n",
       "cabbage        42\n",
       "dtype: int64"
      ]
     },
     "execution_count": 46,
     "metadata": {},
     "output_type": "execute_result"
    }
   ],
   "source": [
    "series"
   ]
  },
  {
   "cell_type": "code",
   "execution_count": 47,
   "id": "e99dcfb0",
   "metadata": {},
   "outputs": [],
   "source": [
    "change=series.replace(to_replace=4,value=50)"
   ]
  },
  {
   "cell_type": "code",
   "execution_count": 48,
   "id": "3bb05653",
   "metadata": {},
   "outputs": [
    {
     "data": {
      "text/plain": [
       "mango          50\n",
       "guava          18\n",
       "banana         15\n",
       "orange         16\n",
       "cauliflower    23\n",
       "cabbage        42\n",
       "dtype: int64"
      ]
     },
     "execution_count": 48,
     "metadata": {},
     "output_type": "execute_result"
    }
   ],
   "source": [
    "change"
   ]
  },
  {
   "cell_type": "code",
   "execution_count": null,
   "id": "7eef401b",
   "metadata": {},
   "outputs": [],
   "source": [
    "#so here we saw value of series mutating from 4 to 50."
   ]
  },
  {
   "cell_type": "code",
   "execution_count": 49,
   "id": "734c95ae",
   "metadata": {},
   "outputs": [
    {
     "data": {
      "text/html": [
       "<div>\n",
       "<style scoped>\n",
       "    .dataframe tbody tr th:only-of-type {\n",
       "        vertical-align: middle;\n",
       "    }\n",
       "\n",
       "    .dataframe tbody tr th {\n",
       "        vertical-align: top;\n",
       "    }\n",
       "\n",
       "    .dataframe thead th {\n",
       "        text-align: right;\n",
       "    }\n",
       "</style>\n",
       "<table border=\"1\" class=\"dataframe\">\n",
       "  <thead>\n",
       "    <tr style=\"text-align: right;\">\n",
       "      <th></th>\n",
       "      <th>VIDEO.NO</th>\n",
       "      <th>VIDEO_URL</th>\n",
       "      <th>VIDEO_THUMBNAIL</th>\n",
       "      <th>VIDEO_VIEWS</th>\n",
       "      <th>VIDEO_TITLE</th>\n",
       "      <th>VIDEO_UPLOAD_DATE</th>\n",
       "    </tr>\n",
       "  </thead>\n",
       "  <tbody>\n",
       "    <tr>\n",
       "      <th>0</th>\n",
       "      <td>1</td>\n",
       "      <td>https://www.youtube.com/watch?v=Hk38eamyEhc</td>\n",
       "      <td>https://i.ytimg.com/vi/Hk38eamyEhc/maxresdefau...</td>\n",
       "      <td>3666</td>\n",
       "      <td>FEDERALISM in 30 mins || Class - 10TH Boards'\"</td>\n",
       "      <td>2023-10-10T05:30:09-07:00</td>\n",
       "    </tr>\n",
       "    <tr>\n",
       "      <th>1</th>\n",
       "      <td>2</td>\n",
       "      <td>https://www.youtube.com/watch?v=3xcO-Uci14o</td>\n",
       "      <td>https://i.ytimg.com/vi/3xcO-Uci14o/maxresdefau...</td>\n",
       "      <td>16099</td>\n",
       "      <td>ACIDS, BASES, AND SALTS in 55 mins || Class - ...</td>\n",
       "      <td>2023-10-09T05:30:02-07:00</td>\n",
       "    </tr>\n",
       "    <tr>\n",
       "      <th>2</th>\n",
       "      <td>3</td>\n",
       "      <td>https://www.youtube.com/watch?v=9psNUS-2Bow</td>\n",
       "      <td>https://i.ytimg.com/vi/9psNUS-2Bow/maxresdefau...</td>\n",
       "      <td>7277</td>\n",
       "      <td>SECTORS OF THE INDIAN ECONOMY in 40 mins || Cl...</td>\n",
       "      <td>2023-10-07T05:30:05-07:00</td>\n",
       "    </tr>\n",
       "    <tr>\n",
       "      <th>3</th>\n",
       "      <td>4</td>\n",
       "      <td>https://www.youtube.com/watch?v=Zyw6KS4myIY</td>\n",
       "      <td>https://i.ytimg.com/vi/Zyw6KS4myIY/maxresdefau...</td>\n",
       "      <td>8618</td>\n",
       "      <td>The Human Eye and the Colourful World in 30min...</td>\n",
       "      <td>2023-10-06T05:30:17-07:00</td>\n",
       "    </tr>\n",
       "    <tr>\n",
       "      <th>4</th>\n",
       "      <td>5</td>\n",
       "      <td>https://www.youtube.com/watch?v=fP0E43Y6ldI</td>\n",
       "      <td>https://i.ytimg.com/vi/fP0E43Y6ldI/maxresdefau...</td>\n",
       "      <td>8036</td>\n",
       "      <td>FOREST AND WILDLIFE RESOURCES in 40mins  || Cl...</td>\n",
       "      <td>2023-10-05T05:30:33-07:00</td>\n",
       "    </tr>\n",
       "  </tbody>\n",
       "</table>\n",
       "</div>"
      ],
      "text/plain": [
       "   VIDEO.NO                                    VIDEO_URL  \\\n",
       "0         1  https://www.youtube.com/watch?v=Hk38eamyEhc   \n",
       "1         2  https://www.youtube.com/watch?v=3xcO-Uci14o   \n",
       "2         3  https://www.youtube.com/watch?v=9psNUS-2Bow   \n",
       "3         4  https://www.youtube.com/watch?v=Zyw6KS4myIY   \n",
       "4         5  https://www.youtube.com/watch?v=fP0E43Y6ldI   \n",
       "\n",
       "                                     VIDEO_THUMBNAIL  VIDEO_VIEWS  \\\n",
       "0  https://i.ytimg.com/vi/Hk38eamyEhc/maxresdefau...         3666   \n",
       "1  https://i.ytimg.com/vi/3xcO-Uci14o/maxresdefau...        16099   \n",
       "2  https://i.ytimg.com/vi/9psNUS-2Bow/maxresdefau...         7277   \n",
       "3  https://i.ytimg.com/vi/Zyw6KS4myIY/maxresdefau...         8618   \n",
       "4  https://i.ytimg.com/vi/fP0E43Y6ldI/maxresdefau...         8036   \n",
       "\n",
       "                                         VIDEO_TITLE  \\\n",
       "0     FEDERALISM in 30 mins || Class - 10TH Boards'\"   \n",
       "1  ACIDS, BASES, AND SALTS in 55 mins || Class - ...   \n",
       "2  SECTORS OF THE INDIAN ECONOMY in 40 mins || Cl...   \n",
       "3  The Human Eye and the Colourful World in 30min...   \n",
       "4  FOREST AND WILDLIFE RESOURCES in 40mins  || Cl...   \n",
       "\n",
       "           VIDEO_UPLOAD_DATE  \n",
       "0  2023-10-10T05:30:09-07:00  \n",
       "1  2023-10-09T05:30:02-07:00  \n",
       "2  2023-10-07T05:30:05-07:00  \n",
       "3  2023-10-06T05:30:17-07:00  \n",
       "4  2023-10-05T05:30:33-07:00  "
      ]
     },
     "execution_count": 49,
     "metadata": {},
     "output_type": "execute_result"
    }
   ],
   "source": [
    "df2"
   ]
  },
  {
   "cell_type": "code",
   "execution_count": 50,
   "id": "396f9e4c",
   "metadata": {},
   "outputs": [
    {
     "data": {
      "text/html": [
       "<div>\n",
       "<style scoped>\n",
       "    .dataframe tbody tr th:only-of-type {\n",
       "        vertical-align: middle;\n",
       "    }\n",
       "\n",
       "    .dataframe tbody tr th {\n",
       "        vertical-align: top;\n",
       "    }\n",
       "\n",
       "    .dataframe thead th {\n",
       "        text-align: right;\n",
       "    }\n",
       "</style>\n",
       "<table border=\"1\" class=\"dataframe\">\n",
       "  <thead>\n",
       "    <tr style=\"text-align: right;\">\n",
       "      <th></th>\n",
       "      <th>VIDEO.NO</th>\n",
       "      <th>VIDEO_TITLE</th>\n",
       "      <th>VIDEO_URL</th>\n",
       "      <th>VIDEO_THUMBNAIL</th>\n",
       "    </tr>\n",
       "  </thead>\n",
       "  <tbody>\n",
       "    <tr>\n",
       "      <th>0</th>\n",
       "      <td>1</td>\n",
       "      <td>FEDERALISM in 30 mins || Class - 10TH Boards'\"</td>\n",
       "      <td>https://www.youtube.com/watch?v=Hk38eamyEhc</td>\n",
       "      <td>https://i.ytimg.com/vi/Hk38eamyEhc/maxresdefau...</td>\n",
       "    </tr>\n",
       "    <tr>\n",
       "      <th>1</th>\n",
       "      <td>2</td>\n",
       "      <td>ACIDS, BASES, AND SALTS in 55 mins || Class - ...</td>\n",
       "      <td>https://www.youtube.com/watch?v=3xcO-Uci14o</td>\n",
       "      <td>https://i.ytimg.com/vi/3xcO-Uci14o/maxresdefau...</td>\n",
       "    </tr>\n",
       "    <tr>\n",
       "      <th>2</th>\n",
       "      <td>3</td>\n",
       "      <td>SECTORS OF THE INDIAN ECONOMY in 40 mins || Cl...</td>\n",
       "      <td>https://www.youtube.com/watch?v=9psNUS-2Bow</td>\n",
       "      <td>https://i.ytimg.com/vi/9psNUS-2Bow/maxresdefau...</td>\n",
       "    </tr>\n",
       "    <tr>\n",
       "      <th>3</th>\n",
       "      <td>4</td>\n",
       "      <td>The Human Eye and the Colourful World in 30min...</td>\n",
       "      <td>https://www.youtube.com/watch?v=Zyw6KS4myIY</td>\n",
       "      <td>https://i.ytimg.com/vi/Zyw6KS4myIY/maxresdefau...</td>\n",
       "    </tr>\n",
       "    <tr>\n",
       "      <th>4</th>\n",
       "      <td>5</td>\n",
       "      <td>FOREST AND WILDLIFE RESOURCES in 40mins  || Cl...</td>\n",
       "      <td>https://www.youtube.com/watch?v=fP0E43Y6ldI</td>\n",
       "      <td>https://i.ytimg.com/vi/fP0E43Y6ldI/maxresdefau...</td>\n",
       "    </tr>\n",
       "  </tbody>\n",
       "</table>\n",
       "</div>"
      ],
      "text/plain": [
       "   VIDEO.NO                                        VIDEO_TITLE  \\\n",
       "0         1     FEDERALISM in 30 mins || Class - 10TH Boards'\"   \n",
       "1         2  ACIDS, BASES, AND SALTS in 55 mins || Class - ...   \n",
       "2         3  SECTORS OF THE INDIAN ECONOMY in 40 mins || Cl...   \n",
       "3         4  The Human Eye and the Colourful World in 30min...   \n",
       "4         5  FOREST AND WILDLIFE RESOURCES in 40mins  || Cl...   \n",
       "\n",
       "                                     VIDEO_URL  \\\n",
       "0  https://www.youtube.com/watch?v=Hk38eamyEhc   \n",
       "1  https://www.youtube.com/watch?v=3xcO-Uci14o   \n",
       "2  https://www.youtube.com/watch?v=9psNUS-2Bow   \n",
       "3  https://www.youtube.com/watch?v=Zyw6KS4myIY   \n",
       "4  https://www.youtube.com/watch?v=fP0E43Y6ldI   \n",
       "\n",
       "                                     VIDEO_THUMBNAIL  \n",
       "0  https://i.ytimg.com/vi/Hk38eamyEhc/maxresdefau...  \n",
       "1  https://i.ytimg.com/vi/3xcO-Uci14o/maxresdefau...  \n",
       "2  https://i.ytimg.com/vi/9psNUS-2Bow/maxresdefau...  \n",
       "3  https://i.ytimg.com/vi/Zyw6KS4myIY/maxresdefau...  \n",
       "4  https://i.ytimg.com/vi/fP0E43Y6ldI/maxresdefau...  "
      ]
     },
     "execution_count": 50,
     "metadata": {},
     "output_type": "execute_result"
    }
   ],
   "source": [
    "df2[['VIDEO.NO','VIDEO_TITLE','VIDEO_URL','VIDEO_THUMBNAIL']]"
   ]
  },
  {
   "cell_type": "code",
   "execution_count": 55,
   "id": "35733f1d",
   "metadata": {},
   "outputs": [],
   "source": [
    "df2['VIDEO_VIEWS']=df2['VIDEO_VIEWS'].replace([7277],10000)"
   ]
  },
  {
   "cell_type": "code",
   "execution_count": 56,
   "id": "04b93978",
   "metadata": {},
   "outputs": [
    {
     "data": {
      "text/html": [
       "<div>\n",
       "<style scoped>\n",
       "    .dataframe tbody tr th:only-of-type {\n",
       "        vertical-align: middle;\n",
       "    }\n",
       "\n",
       "    .dataframe tbody tr th {\n",
       "        vertical-align: top;\n",
       "    }\n",
       "\n",
       "    .dataframe thead th {\n",
       "        text-align: right;\n",
       "    }\n",
       "</style>\n",
       "<table border=\"1\" class=\"dataframe\">\n",
       "  <thead>\n",
       "    <tr style=\"text-align: right;\">\n",
       "      <th></th>\n",
       "      <th>VIDEO.NO</th>\n",
       "      <th>VIDEO_URL</th>\n",
       "      <th>VIDEO_THUMBNAIL</th>\n",
       "      <th>VIDEO_VIEWS</th>\n",
       "      <th>VIDEO_TITLE</th>\n",
       "      <th>VIDEO_UPLOAD_DATE</th>\n",
       "    </tr>\n",
       "  </thead>\n",
       "  <tbody>\n",
       "    <tr>\n",
       "      <th>0</th>\n",
       "      <td>1</td>\n",
       "      <td>https://www.youtube.com/watch?v=Hk38eamyEhc</td>\n",
       "      <td>https://i.ytimg.com/vi/Hk38eamyEhc/maxresdefau...</td>\n",
       "      <td>3666</td>\n",
       "      <td>FEDERALISM in 30 mins || Class - 10TH Boards'\"</td>\n",
       "      <td>2023-10-10T05:30:09-07:00</td>\n",
       "    </tr>\n",
       "    <tr>\n",
       "      <th>1</th>\n",
       "      <td>2</td>\n",
       "      <td>https://www.youtube.com/watch?v=3xcO-Uci14o</td>\n",
       "      <td>https://i.ytimg.com/vi/3xcO-Uci14o/maxresdefau...</td>\n",
       "      <td>16099</td>\n",
       "      <td>ACIDS, BASES, AND SALTS in 55 mins || Class - ...</td>\n",
       "      <td>2023-10-09T05:30:02-07:00</td>\n",
       "    </tr>\n",
       "    <tr>\n",
       "      <th>2</th>\n",
       "      <td>7</td>\n",
       "      <td>https://www.youtube.com/watch?v=9psNUS-2Bow</td>\n",
       "      <td>https://i.ytimg.com/vi/9psNUS-2Bow/maxresdefau...</td>\n",
       "      <td>10000</td>\n",
       "      <td>SECTORS OF THE INDIAN ECONOMY in 40 mins || Cl...</td>\n",
       "      <td>2023-10-07T05:30:05-07:00</td>\n",
       "    </tr>\n",
       "    <tr>\n",
       "      <th>3</th>\n",
       "      <td>4</td>\n",
       "      <td>https://www.youtube.com/watch?v=Zyw6KS4myIY</td>\n",
       "      <td>https://i.ytimg.com/vi/Zyw6KS4myIY/maxresdefau...</td>\n",
       "      <td>8618</td>\n",
       "      <td>The Human Eye and the Colourful World in 30min...</td>\n",
       "      <td>2023-10-06T05:30:17-07:00</td>\n",
       "    </tr>\n",
       "    <tr>\n",
       "      <th>4</th>\n",
       "      <td>5</td>\n",
       "      <td>https://www.youtube.com/watch?v=fP0E43Y6ldI</td>\n",
       "      <td>https://i.ytimg.com/vi/fP0E43Y6ldI/maxresdefau...</td>\n",
       "      <td>8036</td>\n",
       "      <td>FOREST AND WILDLIFE RESOURCES in 40mins  || Cl...</td>\n",
       "      <td>2023-10-05T05:30:33-07:00</td>\n",
       "    </tr>\n",
       "  </tbody>\n",
       "</table>\n",
       "</div>"
      ],
      "text/plain": [
       "   VIDEO.NO                                    VIDEO_URL  \\\n",
       "0         1  https://www.youtube.com/watch?v=Hk38eamyEhc   \n",
       "1         2  https://www.youtube.com/watch?v=3xcO-Uci14o   \n",
       "2         7  https://www.youtube.com/watch?v=9psNUS-2Bow   \n",
       "3         4  https://www.youtube.com/watch?v=Zyw6KS4myIY   \n",
       "4         5  https://www.youtube.com/watch?v=fP0E43Y6ldI   \n",
       "\n",
       "                                     VIDEO_THUMBNAIL  VIDEO_VIEWS  \\\n",
       "0  https://i.ytimg.com/vi/Hk38eamyEhc/maxresdefau...         3666   \n",
       "1  https://i.ytimg.com/vi/3xcO-Uci14o/maxresdefau...        16099   \n",
       "2  https://i.ytimg.com/vi/9psNUS-2Bow/maxresdefau...        10000   \n",
       "3  https://i.ytimg.com/vi/Zyw6KS4myIY/maxresdefau...         8618   \n",
       "4  https://i.ytimg.com/vi/fP0E43Y6ldI/maxresdefau...         8036   \n",
       "\n",
       "                                         VIDEO_TITLE  \\\n",
       "0     FEDERALISM in 30 mins || Class - 10TH Boards'\"   \n",
       "1  ACIDS, BASES, AND SALTS in 55 mins || Class - ...   \n",
       "2  SECTORS OF THE INDIAN ECONOMY in 40 mins || Cl...   \n",
       "3  The Human Eye and the Colourful World in 30min...   \n",
       "4  FOREST AND WILDLIFE RESOURCES in 40mins  || Cl...   \n",
       "\n",
       "           VIDEO_UPLOAD_DATE  \n",
       "0  2023-10-10T05:30:09-07:00  \n",
       "1  2023-10-09T05:30:02-07:00  \n",
       "2  2023-10-07T05:30:05-07:00  \n",
       "3  2023-10-06T05:30:17-07:00  \n",
       "4  2023-10-05T05:30:33-07:00  "
      ]
     },
     "execution_count": 56,
     "metadata": {},
     "output_type": "execute_result"
    }
   ],
   "source": [
    "df2"
   ]
  },
  {
   "cell_type": "code",
   "execution_count": null,
   "id": "4cf89386",
   "metadata": {},
   "outputs": [],
   "source": [
    "#SO IN THIS DATA FRAME we have changed value from column video_views from 7277 to 10000."
   ]
  },
  {
   "cell_type": "markdown",
   "id": "1b14dc26",
   "metadata": {},
   "source": [
    "# queno 7"
   ]
  },
  {
   "cell_type": "code",
   "execution_count": 15,
   "id": "987d61ed",
   "metadata": {},
   "outputs": [
    {
     "data": {
      "text/plain": [
       "0     4\n",
       "1    18\n",
       "2    15\n",
       "3    16\n",
       "4    23\n",
       "5    42\n",
       "dtype: int64"
      ]
     },
     "execution_count": 15,
     "metadata": {},
     "output_type": "execute_result"
    }
   ],
   "source": [
    "series"
   ]
  },
  {
   "cell_type": "code",
   "execution_count": 16,
   "id": "27101625",
   "metadata": {},
   "outputs": [],
   "source": [
    "data=[5,7,8,54,34,65]\n",
    "series1=pd.Series(data)"
   ]
  },
  {
   "cell_type": "code",
   "execution_count": 17,
   "id": "4545aa49",
   "metadata": {},
   "outputs": [
    {
     "data": {
      "text/plain": [
       "0     5\n",
       "1     7\n",
       "2     8\n",
       "3    54\n",
       "4    34\n",
       "5    65\n",
       "dtype: int64"
      ]
     },
     "execution_count": 17,
     "metadata": {},
     "output_type": "execute_result"
    }
   ],
   "source": [
    "series1"
   ]
  },
  {
   "cell_type": "code",
   "execution_count": null,
   "id": "6e6bffbb",
   "metadata": {},
   "outputs": [],
   "source": [
    "#so here are two series series1 and series converting in to dataframe."
   ]
  },
  {
   "cell_type": "code",
   "execution_count": 21,
   "id": "2a1127b7",
   "metadata": {},
   "outputs": [],
   "source": [
    "frame={'Entry':series,'Age':series1}"
   ]
  },
  {
   "cell_type": "code",
   "execution_count": 22,
   "id": "aad646b0",
   "metadata": {},
   "outputs": [],
   "source": [
    "CONV_TO_DF=pd.DataFrame(frame)"
   ]
  },
  {
   "cell_type": "code",
   "execution_count": 23,
   "id": "537feba9",
   "metadata": {},
   "outputs": [
    {
     "data": {
      "text/html": [
       "<div>\n",
       "<style scoped>\n",
       "    .dataframe tbody tr th:only-of-type {\n",
       "        vertical-align: middle;\n",
       "    }\n",
       "\n",
       "    .dataframe tbody tr th {\n",
       "        vertical-align: top;\n",
       "    }\n",
       "\n",
       "    .dataframe thead th {\n",
       "        text-align: right;\n",
       "    }\n",
       "</style>\n",
       "<table border=\"1\" class=\"dataframe\">\n",
       "  <thead>\n",
       "    <tr style=\"text-align: right;\">\n",
       "      <th></th>\n",
       "      <th>Entry</th>\n",
       "      <th>Age</th>\n",
       "    </tr>\n",
       "  </thead>\n",
       "  <tbody>\n",
       "    <tr>\n",
       "      <th>0</th>\n",
       "      <td>4</td>\n",
       "      <td>5</td>\n",
       "    </tr>\n",
       "    <tr>\n",
       "      <th>1</th>\n",
       "      <td>18</td>\n",
       "      <td>7</td>\n",
       "    </tr>\n",
       "    <tr>\n",
       "      <th>2</th>\n",
       "      <td>15</td>\n",
       "      <td>8</td>\n",
       "    </tr>\n",
       "    <tr>\n",
       "      <th>3</th>\n",
       "      <td>16</td>\n",
       "      <td>54</td>\n",
       "    </tr>\n",
       "    <tr>\n",
       "      <th>4</th>\n",
       "      <td>23</td>\n",
       "      <td>34</td>\n",
       "    </tr>\n",
       "    <tr>\n",
       "      <th>5</th>\n",
       "      <td>42</td>\n",
       "      <td>65</td>\n",
       "    </tr>\n",
       "  </tbody>\n",
       "</table>\n",
       "</div>"
      ],
      "text/plain": [
       "   Entry  Age\n",
       "0      4    5\n",
       "1     18    7\n",
       "2     15    8\n",
       "3     16   54\n",
       "4     23   34\n",
       "5     42   65"
      ]
     },
     "execution_count": 23,
     "metadata": {},
     "output_type": "execute_result"
    }
   ],
   "source": [
    "CONV_TO_DF"
   ]
  },
  {
   "cell_type": "code",
   "execution_count": null,
   "id": "02e14e1d",
   "metadata": {},
   "outputs": [],
   "source": [
    "#so in this way we are able to covert series and series1 in to dataframe conv_to_df."
   ]
  },
  {
   "cell_type": "code",
   "execution_count": null,
   "id": "2e8d8408",
   "metadata": {},
   "outputs": [],
   "source": []
  },
  {
   "cell_type": "code",
   "execution_count": null,
   "id": "ca53917d",
   "metadata": {},
   "outputs": [],
   "source": []
  },
  {
   "cell_type": "code",
   "execution_count": null,
   "id": "6add1b8f",
   "metadata": {},
   "outputs": [],
   "source": []
  }
 ],
 "metadata": {
  "kernelspec": {
   "display_name": "Python 3 (ipykernel)",
   "language": "python",
   "name": "python3"
  },
  "language_info": {
   "codemirror_mode": {
    "name": "ipython",
    "version": 3
   },
   "file_extension": ".py",
   "mimetype": "text/x-python",
   "name": "python",
   "nbconvert_exporter": "python",
   "pygments_lexer": "ipython3",
   "version": "3.11.5"
  }
 },
 "nbformat": 4,
 "nbformat_minor": 5
}
