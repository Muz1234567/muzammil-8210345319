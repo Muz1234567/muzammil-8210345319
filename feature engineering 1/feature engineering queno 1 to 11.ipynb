{
 "cells": [
  {
   "cell_type": "markdown",
   "id": "f717ff4d",
   "metadata": {},
   "source": [
    "# Queno 1"
   ]
  },
  {
   "cell_type": "markdown",
   "id": "b1094ef0",
   "metadata": {},
   "source": [
    "# Missing Values in a Dataset"
   ]
  },
  {
   "cell_type": "code",
   "execution_count": null,
   "id": "b25cef82",
   "metadata": {},
   "outputs": [],
   "source": [
    "#Missing values are missing data have occur when we don't have data stored for certain variables or participant."
   ]
  },
  {
   "cell_type": "code",
   "execution_count": null,
   "id": "16844729",
   "metadata": {},
   "outputs": [],
   "source": [
    "#In missing values data goes missing due to incomplete entry,lost files and many other reason."
   ]
  },
  {
   "cell_type": "code",
   "execution_count": null,
   "id": "41ed8db6",
   "metadata": {},
   "outputs": [],
   "source": [
    "#There are three types of missing values;\n",
    "#1.Missing completely at random when missing values are randomly distributed they can come from anywhere in the whole\n",
    "#distribution of our values.\n",
    "#2.Misssing at random when this type of missing values systematically differs from data we've collected but it can be \n",
    "#fully accounted by other observed variables.\n",
    "#3.Missing at random in this missing values systematically differs from observed values."
   ]
  },
  {
   "cell_type": "code",
   "execution_count": null,
   "id": "ddb4608a",
   "metadata": {},
   "outputs": [],
   "source": [
    "#It is necessary to handle missing values in dataset because training a model with a dataset with lots of missing values \n",
    "#can negatively impact the quality of machine learning model."
   ]
  },
  {
   "cell_type": "code",
   "execution_count": null,
   "id": "f192deaa",
   "metadata": {},
   "outputs": [],
   "source": [
    "#Some of the algorithms that can handle missing values are KNN algorithm,naive bayes and random forest algorithms."
   ]
  },
  {
   "cell_type": "markdown",
   "id": "6b9c7d1f",
   "metadata": {},
   "source": [
    "# Queno2"
   ]
  },
  {
   "cell_type": "markdown",
   "id": "33dd728e",
   "metadata": {},
   "source": [
    "# Handling missing Values in python"
   ]
  },
  {
   "cell_type": "code",
   "execution_count": null,
   "id": "c9d6c9b6",
   "metadata": {},
   "outputs": [],
   "source": [
    "#First of all we have to create a data frame with missing values."
   ]
  },
  {
   "cell_type": "code",
   "execution_count": 1,
   "id": "0e5e6fc5",
   "metadata": {},
   "outputs": [],
   "source": [
    "import pandas as pd\n",
    "import numpy as np"
   ]
  },
  {
   "cell_type": "code",
   "execution_count": 2,
   "id": "c483ef39",
   "metadata": {},
   "outputs": [],
   "source": [
    "dict={'Math score':[98,96,np.nan,93],'Science score':[56,87,78,np.nan],'Social score':[76,98,np.nan,90]}\n",
    "df=pd.DataFrame(dict)"
   ]
  },
  {
   "cell_type": "code",
   "execution_count": 3,
   "id": "df7e6317",
   "metadata": {},
   "outputs": [
    {
     "data": {
      "text/html": [
       "<div>\n",
       "<style scoped>\n",
       "    .dataframe tbody tr th:only-of-type {\n",
       "        vertical-align: middle;\n",
       "    }\n",
       "\n",
       "    .dataframe tbody tr th {\n",
       "        vertical-align: top;\n",
       "    }\n",
       "\n",
       "    .dataframe thead th {\n",
       "        text-align: right;\n",
       "    }\n",
       "</style>\n",
       "<table border=\"1\" class=\"dataframe\">\n",
       "  <thead>\n",
       "    <tr style=\"text-align: right;\">\n",
       "      <th></th>\n",
       "      <th>Math score</th>\n",
       "      <th>Science score</th>\n",
       "      <th>Social score</th>\n",
       "    </tr>\n",
       "  </thead>\n",
       "  <tbody>\n",
       "    <tr>\n",
       "      <th>0</th>\n",
       "      <td>98.0</td>\n",
       "      <td>56.0</td>\n",
       "      <td>76.0</td>\n",
       "    </tr>\n",
       "    <tr>\n",
       "      <th>1</th>\n",
       "      <td>96.0</td>\n",
       "      <td>87.0</td>\n",
       "      <td>98.0</td>\n",
       "    </tr>\n",
       "    <tr>\n",
       "      <th>2</th>\n",
       "      <td>NaN</td>\n",
       "      <td>78.0</td>\n",
       "      <td>NaN</td>\n",
       "    </tr>\n",
       "    <tr>\n",
       "      <th>3</th>\n",
       "      <td>93.0</td>\n",
       "      <td>NaN</td>\n",
       "      <td>90.0</td>\n",
       "    </tr>\n",
       "  </tbody>\n",
       "</table>\n",
       "</div>"
      ],
      "text/plain": [
       "   Math score  Science score  Social score\n",
       "0        98.0           56.0          76.0\n",
       "1        96.0           87.0          98.0\n",
       "2         NaN           78.0           NaN\n",
       "3        93.0            NaN          90.0"
      ]
     },
     "execution_count": 3,
     "metadata": {},
     "output_type": "execute_result"
    }
   ],
   "source": [
    "df"
   ]
  },
  {
   "cell_type": "code",
   "execution_count": null,
   "id": "cba9cae0",
   "metadata": {},
   "outputs": [],
   "source": [
    "#now we can check it by using notnull() function"
   ]
  },
  {
   "cell_type": "code",
   "execution_count": 4,
   "id": "c667c634",
   "metadata": {},
   "outputs": [
    {
     "data": {
      "text/html": [
       "<div>\n",
       "<style scoped>\n",
       "    .dataframe tbody tr th:only-of-type {\n",
       "        vertical-align: middle;\n",
       "    }\n",
       "\n",
       "    .dataframe tbody tr th {\n",
       "        vertical-align: top;\n",
       "    }\n",
       "\n",
       "    .dataframe thead th {\n",
       "        text-align: right;\n",
       "    }\n",
       "</style>\n",
       "<table border=\"1\" class=\"dataframe\">\n",
       "  <thead>\n",
       "    <tr style=\"text-align: right;\">\n",
       "      <th></th>\n",
       "      <th>Math score</th>\n",
       "      <th>Science score</th>\n",
       "      <th>Social score</th>\n",
       "    </tr>\n",
       "  </thead>\n",
       "  <tbody>\n",
       "    <tr>\n",
       "      <th>0</th>\n",
       "      <td>True</td>\n",
       "      <td>True</td>\n",
       "      <td>True</td>\n",
       "    </tr>\n",
       "    <tr>\n",
       "      <th>1</th>\n",
       "      <td>True</td>\n",
       "      <td>True</td>\n",
       "      <td>True</td>\n",
       "    </tr>\n",
       "    <tr>\n",
       "      <th>2</th>\n",
       "      <td>False</td>\n",
       "      <td>True</td>\n",
       "      <td>False</td>\n",
       "    </tr>\n",
       "    <tr>\n",
       "      <th>3</th>\n",
       "      <td>True</td>\n",
       "      <td>False</td>\n",
       "      <td>True</td>\n",
       "    </tr>\n",
       "  </tbody>\n",
       "</table>\n",
       "</div>"
      ],
      "text/plain": [
       "   Math score  Science score  Social score\n",
       "0        True           True          True\n",
       "1        True           True          True\n",
       "2       False           True         False\n",
       "3        True          False          True"
      ]
     },
     "execution_count": 4,
     "metadata": {},
     "output_type": "execute_result"
    }
   ],
   "source": [
    "df.notnull() \n",
    "#the values which is missing there it is showing false"
   ]
  },
  {
   "cell_type": "code",
   "execution_count": null,
   "id": "23ef1df2",
   "metadata": {},
   "outputs": [],
   "source": [
    "#we can also use another method df.fillna to find missing values "
   ]
  },
  {
   "cell_type": "code",
   "execution_count": 6,
   "id": "f9946ad2",
   "metadata": {},
   "outputs": [
    {
     "data": {
      "text/html": [
       "<div>\n",
       "<style scoped>\n",
       "    .dataframe tbody tr th:only-of-type {\n",
       "        vertical-align: middle;\n",
       "    }\n",
       "\n",
       "    .dataframe tbody tr th {\n",
       "        vertical-align: top;\n",
       "    }\n",
       "\n",
       "    .dataframe thead th {\n",
       "        text-align: right;\n",
       "    }\n",
       "</style>\n",
       "<table border=\"1\" class=\"dataframe\">\n",
       "  <thead>\n",
       "    <tr style=\"text-align: right;\">\n",
       "      <th></th>\n",
       "      <th>Math score</th>\n",
       "      <th>Science score</th>\n",
       "      <th>Social score</th>\n",
       "    </tr>\n",
       "  </thead>\n",
       "  <tbody>\n",
       "    <tr>\n",
       "      <th>0</th>\n",
       "      <td>98.0</td>\n",
       "      <td>56.0</td>\n",
       "      <td>76.0</td>\n",
       "    </tr>\n",
       "    <tr>\n",
       "      <th>1</th>\n",
       "      <td>96.0</td>\n",
       "      <td>87.0</td>\n",
       "      <td>98.0</td>\n",
       "    </tr>\n",
       "    <tr>\n",
       "      <th>2</th>\n",
       "      <td>0.0</td>\n",
       "      <td>78.0</td>\n",
       "      <td>0.0</td>\n",
       "    </tr>\n",
       "    <tr>\n",
       "      <th>3</th>\n",
       "      <td>93.0</td>\n",
       "      <td>0.0</td>\n",
       "      <td>90.0</td>\n",
       "    </tr>\n",
       "  </tbody>\n",
       "</table>\n",
       "</div>"
      ],
      "text/plain": [
       "   Math score  Science score  Social score\n",
       "0        98.0           56.0          76.0\n",
       "1        96.0           87.0          98.0\n",
       "2         0.0           78.0           0.0\n",
       "3        93.0            0.0          90.0"
      ]
     },
     "execution_count": 6,
     "metadata": {},
     "output_type": "execute_result"
    }
   ],
   "source": [
    "df.fillna(0)\n",
    "#here we have filled with 0 where it is missing values."
   ]
  },
  {
   "cell_type": "code",
   "execution_count": null,
   "id": "41eccc38",
   "metadata": {},
   "outputs": [],
   "source": [
    "#Now another function is dropna"
   ]
  },
  {
   "cell_type": "code",
   "execution_count": 9,
   "id": "2288ae72",
   "metadata": {},
   "outputs": [
    {
     "data": {
      "text/html": [
       "<div>\n",
       "<style scoped>\n",
       "    .dataframe tbody tr th:only-of-type {\n",
       "        vertical-align: middle;\n",
       "    }\n",
       "\n",
       "    .dataframe tbody tr th {\n",
       "        vertical-align: top;\n",
       "    }\n",
       "\n",
       "    .dataframe thead th {\n",
       "        text-align: right;\n",
       "    }\n",
       "</style>\n",
       "<table border=\"1\" class=\"dataframe\">\n",
       "  <thead>\n",
       "    <tr style=\"text-align: right;\">\n",
       "      <th></th>\n",
       "      <th>Math score</th>\n",
       "      <th>Science score</th>\n",
       "      <th>Social score</th>\n",
       "    </tr>\n",
       "  </thead>\n",
       "  <tbody>\n",
       "    <tr>\n",
       "      <th>0</th>\n",
       "      <td>98.0</td>\n",
       "      <td>56.0</td>\n",
       "      <td>76.0</td>\n",
       "    </tr>\n",
       "    <tr>\n",
       "      <th>1</th>\n",
       "      <td>96.0</td>\n",
       "      <td>87.0</td>\n",
       "      <td>98.0</td>\n",
       "    </tr>\n",
       "  </tbody>\n",
       "</table>\n",
       "</div>"
      ],
      "text/plain": [
       "   Math score  Science score  Social score\n",
       "0        98.0           56.0          76.0\n",
       "1        96.0           87.0          98.0"
      ]
     },
     "execution_count": 9,
     "metadata": {},
     "output_type": "execute_result"
    }
   ],
   "source": [
    "df.dropna() #so here missing values rows are dropped."
   ]
  },
  {
   "cell_type": "code",
   "execution_count": 10,
   "id": "64119511",
   "metadata": {},
   "outputs": [
    {
     "data": {
      "text/html": [
       "<div>\n",
       "<style scoped>\n",
       "    .dataframe tbody tr th:only-of-type {\n",
       "        vertical-align: middle;\n",
       "    }\n",
       "\n",
       "    .dataframe tbody tr th {\n",
       "        vertical-align: top;\n",
       "    }\n",
       "\n",
       "    .dataframe thead th {\n",
       "        text-align: right;\n",
       "    }\n",
       "</style>\n",
       "<table border=\"1\" class=\"dataframe\">\n",
       "  <thead>\n",
       "    <tr style=\"text-align: right;\">\n",
       "      <th></th>\n",
       "      <th>Math score</th>\n",
       "      <th>Science score</th>\n",
       "      <th>Social score</th>\n",
       "    </tr>\n",
       "  </thead>\n",
       "  <tbody>\n",
       "    <tr>\n",
       "      <th>0</th>\n",
       "      <td>98.0</td>\n",
       "      <td>56.0</td>\n",
       "      <td>76.0</td>\n",
       "    </tr>\n",
       "    <tr>\n",
       "      <th>1</th>\n",
       "      <td>96.0</td>\n",
       "      <td>87.0</td>\n",
       "      <td>98.0</td>\n",
       "    </tr>\n",
       "    <tr>\n",
       "      <th>2</th>\n",
       "      <td>66.0</td>\n",
       "      <td>78.0</td>\n",
       "      <td>66.0</td>\n",
       "    </tr>\n",
       "    <tr>\n",
       "      <th>3</th>\n",
       "      <td>93.0</td>\n",
       "      <td>66.0</td>\n",
       "      <td>90.0</td>\n",
       "    </tr>\n",
       "  </tbody>\n",
       "</table>\n",
       "</div>"
      ],
      "text/plain": [
       "   Math score  Science score  Social score\n",
       "0        98.0           56.0          76.0\n",
       "1        96.0           87.0          98.0\n",
       "2        66.0           78.0          66.0\n",
       "3        93.0           66.0          90.0"
      ]
     },
     "execution_count": 10,
     "metadata": {},
     "output_type": "execute_result"
    }
   ],
   "source": [
    "#replacefunction()\n",
    "df.replace(to_replace=np.nan,value=66) \n",
    "#so here with help of replace fuction we have replaced missing values with 66."
   ]
  },
  {
   "cell_type": "code",
   "execution_count": null,
   "id": "b30fd147",
   "metadata": {},
   "outputs": [],
   "source": [
    "#so in this way we have used different function for handling missing values in python."
   ]
  },
  {
   "cell_type": "markdown",
   "id": "50660a80",
   "metadata": {},
   "source": [
    "# Queno3"
   ]
  },
  {
   "cell_type": "markdown",
   "id": "d5eb510e",
   "metadata": {},
   "source": [
    "# Imbalanced Data"
   ]
  },
  {
   "cell_type": "code",
   "execution_count": null,
   "id": "e5f5cc65",
   "metadata": {},
   "outputs": [],
   "source": [
    "#In imbalanced dataset one bucket makes up large proportion of training dataset that is majority class while other bucket\n",
    "#is underrepresented in dataset that is minority class."
   ]
  },
  {
   "cell_type": "code",
   "execution_count": null,
   "id": "8db41ae6",
   "metadata": {},
   "outputs": [],
   "source": [
    "#If an imbalanced dataset is not handled then models may get biased towards majority class resulting in poor prediction\n",
    "#for minority class and model performancefor minority class will be lacking."
   ]
  },
  {
   "cell_type": "markdown",
   "id": "cce1140b",
   "metadata": {},
   "source": [
    "# Queno 4"
   ]
  },
  {
   "cell_type": "markdown",
   "id": "3f4f9a2c",
   "metadata": {},
   "source": [
    "# Upsampling And Downsampling"
   ]
  },
  {
   "cell_type": "code",
   "execution_count": null,
   "id": "7141b509",
   "metadata": {},
   "outputs": [],
   "source": [
    "#Upsampling is a method used to increase the number of instances in dataset and it is commonly used when there is imbalanced\n",
    "#distribution of data with one class being significantly underrepresented."
   ]
  },
  {
   "cell_type": "code",
   "execution_count": null,
   "id": "a6466c34",
   "metadata": {},
   "outputs": [],
   "source": [
    "#By increasing the number of instances in minority class upsampling helps to prevent the model being biased towards\n",
    "#majority class."
   ]
  },
  {
   "cell_type": "code",
   "execution_count": null,
   "id": "8a1f728e",
   "metadata": {},
   "outputs": [],
   "source": [
    "#Downsampling is a method used to decrease the size of dataset by removing some of instances."
   ]
  },
  {
   "cell_type": "code",
   "execution_count": null,
   "id": "54c4b2f2",
   "metadata": {},
   "outputs": [],
   "source": [
    "#This is often used to reduce training time and to eliminate irrelevant instances from dataset and also used to address\n",
    "#the problem of overfitting."
   ]
  },
  {
   "cell_type": "markdown",
   "id": "19c89343",
   "metadata": {},
   "source": [
    "# Queno 5"
   ]
  },
  {
   "cell_type": "markdown",
   "id": "cba1a462",
   "metadata": {},
   "source": [
    "# Data Augmentation"
   ]
  },
  {
   "cell_type": "code",
   "execution_count": null,
   "id": "17698ddb",
   "metadata": {},
   "outputs": [],
   "source": [
    "#Data augmentation is a technique of artificially increasing the training set by creating modified copies of dataset using\n",
    "#existing data."
   ]
  },
  {
   "cell_type": "code",
   "execution_count": null,
   "id": "56bce05f",
   "metadata": {},
   "outputs": [],
   "source": [
    "#Data in this technique is derived from original data with minor changes."
   ]
  },
  {
   "cell_type": "code",
   "execution_count": null,
   "id": "8695cb88",
   "metadata": {},
   "outputs": [],
   "source": [
    "#This technique is used in different format of data like images,text,video,audio etc."
   ]
  },
  {
   "cell_type": "code",
   "execution_count": null,
   "id": "2dea93ab",
   "metadata": {},
   "outputs": [],
   "source": [
    "#It is used in model to prevent models from overfitting and to improve model accuracy."
   ]
  },
  {
   "cell_type": "markdown",
   "id": "1545e104",
   "metadata": {},
   "source": [
    "# SMOTE"
   ]
  },
  {
   "cell_type": "code",
   "execution_count": null,
   "id": "c3361d33",
   "metadata": {},
   "outputs": [],
   "source": [
    "#Synthetic Minority Oversampling Technique is a statistical technique for increasing the number of cases in our dataset \n",
    "#in a balanced way."
   ]
  },
  {
   "cell_type": "code",
   "execution_count": null,
   "id": "af53df94",
   "metadata": {},
   "outputs": [],
   "source": [
    "#This technique work as generating new instances from existing minority classes that we supply as input and this \n",
    "#implementation of smote does not change the number of majority cases."
   ]
  },
  {
   "cell_type": "code",
   "execution_count": null,
   "id": "da7dca08",
   "metadata": {},
   "outputs": [],
   "source": [
    "#Smote takes the entire dataset as input but it increases the percentage of only minority cases."
   ]
  },
  {
   "cell_type": "markdown",
   "id": "360b879f",
   "metadata": {},
   "source": [
    "# Queno 6"
   ]
  },
  {
   "cell_type": "markdown",
   "id": "a6eebaee",
   "metadata": {},
   "source": [
    "# Outliers In Dataset"
   ]
  },
  {
   "cell_type": "code",
   "execution_count": null,
   "id": "e219090f",
   "metadata": {},
   "outputs": [],
   "source": [
    "#Outlier is an extrmely high or extremely low datapoint comparing to other datapoints which are nearest with each other.  "
   ]
  },
  {
   "cell_type": "code",
   "execution_count": null,
   "id": "5a1f6201",
   "metadata": {},
   "outputs": [],
   "source": [
    "#For getting outliers in a datset we have to calculate iqr which can be subtracted by q3 that is q1."
   ]
  },
  {
   "cell_type": "code",
   "execution_count": null,
   "id": "9f4d38ce",
   "metadata": {},
   "outputs": [],
   "source": [
    "#After calcualting iqr we have to calculate lowest value and highest value if any of value if we datapoint below lowest\n",
    "#value then it will be lower outliers and if we have datapoint more than highest value then it will be higher outliers."
   ]
  },
  {
   "cell_type": "code",
   "execution_count": null,
   "id": "fcc896d1",
   "metadata": {},
   "outputs": [],
   "source": [
    "#Some outliers represent natural variations and they should be left in our dataset as they are called true outliers \n",
    "#while some outliers are problematic and should be removed as they represent measurement error,poor sampling ,data entry\n",
    "#So it is necessary to handle or remove outliers as they can affect statistical analysis and training process of machine\n",
    "#learning model."
   ]
  },
  {
   "cell_type": "markdown",
   "id": "b7ce08e0",
   "metadata": {},
   "source": [
    "# Queno 7"
   ]
  },
  {
   "cell_type": "code",
   "execution_count": null,
   "id": "1d5ff7c2",
   "metadata": {},
   "outputs": [],
   "source": [
    "#There are various methods to handle missing data that is deletion,imputation or estimation."
   ]
  },
  {
   "cell_type": "code",
   "execution_count": null,
   "id": "275dff9f",
   "metadata": {},
   "outputs": [],
   "source": [
    "#While analysing customer data if some data is missing then we can use this techniques."
   ]
  },
  {
   "cell_type": "code",
   "execution_count": null,
   "id": "1ce872cf",
   "metadata": {},
   "outputs": [],
   "source": [
    "#We can delete rows and coloumns that contains missing values but it can reduce size and diversity of our dataset and \n",
    "#introduce bias in our analysis."
   ]
  },
  {
   "cell_type": "code",
   "execution_count": null,
   "id": "30450dba",
   "metadata": {},
   "outputs": [],
   "source": [
    "#Another method we can use to handle missing values is imputation that is we can replace the missing values with another \n",
    "#values based on available value and it can preserve the size and structure of our dataset but there is not so much accuracy\n",
    "#and validity of our analysis."
   ]
  },
  {
   "cell_type": "code",
   "execution_count": null,
   "id": "58098cd7",
   "metadata": {},
   "outputs": [],
   "source": [
    "#Estimation is also one of method through which we can handle missing values in customer data that is using statistical\n",
    "#models or algorithm without directly filling missing values as this technique does not alter original data but it require\n",
    "#certain assumptions and conditions to be met."
   ]
  },
  {
   "cell_type": "markdown",
   "id": "27b76e51",
   "metadata": {},
   "source": [
    "# Que no 8"
   ]
  },
  {
   "cell_type": "code",
   "execution_count": null,
   "id": "3189e9d8",
   "metadata": {},
   "outputs": [],
   "source": [
    "#If there is large datset and only small proportion of data is missing then it is a case of missing completely at random\n",
    "# and deleting listwise technique can be used to handle missing values but it would be most suitable when there is \n",
    "#small dataset. "
   ]
  },
  {
   "cell_type": "code",
   "execution_count": null,
   "id": "6a31dd40",
   "metadata": {},
   "outputs": [],
   "source": [
    "#Another method is if data is missing in large dataset then it is best to drop the variable that stored missing values\n",
    "#and can after modify the variable by handling missing values and then can use that variable."
   ]
  },
  {
   "cell_type": "markdown",
   "id": "24d2760e",
   "metadata": {},
   "source": [
    "# Que no 9"
   ]
  },
  {
   "cell_type": "code",
   "execution_count": null,
   "id": "2a28c1dc",
   "metadata": {},
   "outputs": [],
   "source": [
    "#There are many evaluation techniques for imbalanced dataset."
   ]
  },
  {
   "cell_type": "code",
   "execution_count": null,
   "id": "528b4ff5",
   "metadata": {},
   "outputs": [],
   "source": [
    "#Among one of them is ROC curve and AUC which plots the true positive rate versus false positive rate for different \n",
    "#threshold values."
   ]
  },
  {
   "cell_type": "code",
   "execution_count": null,
   "id": "7f1a8ab2",
   "metadata": {},
   "outputs": [],
   "source": [
    "#A higher AUC indicates better model that can distinguish between classes."
   ]
  },
  {
   "cell_type": "code",
   "execution_count": null,
   "id": "a737cabc",
   "metadata": {},
   "outputs": [],
   "source": [
    "#A higher average precision indicates a better model that can predict the minority class accurately."
   ]
  },
  {
   "cell_type": "code",
   "execution_count": null,
   "id": "0ff29d48",
   "metadata": {},
   "outputs": [],
   "source": [
    "#Another technique is Cohen's kappa measure."
   ]
  },
  {
   "cell_type": "code",
   "execution_count": null,
   "id": "f73981e9",
   "metadata": {},
   "outputs": [],
   "source": [
    "#Cohen's kappa is a measure of agreement between models predictions and actual labels."
   ]
  },
  {
   "cell_type": "code",
   "execution_count": null,
   "id": "46d4665a",
   "metadata": {},
   "outputs": [],
   "source": [
    "#A higher kappa indicates a better model that can predict both classes reliably."
   ]
  },
  {
   "cell_type": "markdown",
   "id": "518aea3f",
   "metadata": {},
   "source": [
    "# Queno 10"
   ]
  },
  {
   "cell_type": "code",
   "execution_count": null,
   "id": "23853933",
   "metadata": {},
   "outputs": [],
   "source": [
    "#For downsampling majority class we have to randomly remove observations from majority class to prevent its signal \n",
    "#from dominating the algorithm."
   ]
  },
  {
   "cell_type": "code",
   "execution_count": null,
   "id": "57c8f561",
   "metadata": {},
   "outputs": [],
   "source": [
    "#First we can separate observation of each class in to different dataframe."
   ]
  },
  {
   "cell_type": "code",
   "execution_count": null,
   "id": "2d8a5511",
   "metadata": {},
   "outputs": [],
   "source": [
    "#Next we can resample majority class without replacement setting numbers to match that of minority class."
   ]
  },
  {
   "cell_type": "code",
   "execution_count": null,
   "id": "cf4a1744",
   "metadata": {},
   "outputs": [],
   "source": [
    "#Then finally we can combine downsampled majority class dataframe with original minority class  dataframe."
   ]
  },
  {
   "cell_type": "code",
   "execution_count": null,
   "id": "fadd6232",
   "metadata": {},
   "outputs": [],
   "source": [
    "#This time we got new dataframe of balanced data of two class which arein the rastio 1:1. "
   ]
  },
  {
   "cell_type": "markdown",
   "id": "9e1890b7",
   "metadata": {},
   "source": [
    "# Queno 11"
   ]
  },
  {
   "cell_type": "code",
   "execution_count": null,
   "id": "8e734f2e",
   "metadata": {},
   "outputs": [],
   "source": [
    "#Here same technique of resampling is used for upsampling minority class which we have discussed in queno 10."
   ]
  },
  {
   "cell_type": "code",
   "execution_count": null,
   "id": "df8f5323",
   "metadata": {},
   "outputs": [],
   "source": [
    "#We have to separate the observations from each class in to different dataframes."
   ]
  },
  {
   "cell_type": "code",
   "execution_count": null,
   "id": "3e91a427",
   "metadata": {},
   "outputs": [],
   "source": [
    "#Then we have resample the minority class with replacement setting no of samples to match that of majority class."
   ]
  },
  {
   "cell_type": "code",
   "execution_count": null,
   "id": "bc9952bb",
   "metadata": {},
   "outputs": [],
   "source": [
    "#Then we can combine upsampled minority class dataframe with original majority class dataframe. "
   ]
  },
  {
   "cell_type": "code",
   "execution_count": 1,
   "id": "6c9321a6",
   "metadata": {},
   "outputs": [],
   "source": [
    "#After that we got new dataframe in which observation ratio of two class is 1:1 which is balanced."
   ]
  },
  {
   "cell_type": "code",
   "execution_count": null,
   "id": "0846108f",
   "metadata": {},
   "outputs": [],
   "source": []
  },
  {
   "cell_type": "code",
   "execution_count": null,
   "id": "2f5136c3",
   "metadata": {},
   "outputs": [],
   "source": []
  }
 ],
 "metadata": {
  "kernelspec": {
   "display_name": "Python 3 (ipykernel)",
   "language": "python",
   "name": "python3"
  },
  "language_info": {
   "codemirror_mode": {
    "name": "ipython",
    "version": 3
   },
   "file_extension": ".py",
   "mimetype": "text/x-python",
   "name": "python",
   "nbconvert_exporter": "python",
   "pygments_lexer": "ipython3",
   "version": "3.11.5"
  }
 },
 "nbformat": 4,
 "nbformat_minor": 5
}
