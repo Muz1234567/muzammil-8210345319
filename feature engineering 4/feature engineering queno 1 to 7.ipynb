{
 "cells": [
  {
   "cell_type": "markdown",
   "id": "96aa5b7f",
   "metadata": {},
   "source": [
    "# Queno1"
   ]
  },
  {
   "cell_type": "markdown",
   "id": "fb5c2e2e",
   "metadata": {},
   "source": [
    "# Data Encoding"
   ]
  },
  {
   "cell_type": "code",
   "execution_count": null,
   "id": "8c6d9625",
   "metadata": {},
   "outputs": [],
   "source": [
    "#Data encoding is the process of converting categorical or textual data into numerical format so that it can be used as \n",
    "#algorithms."
   ]
  },
  {
   "cell_type": "code",
   "execution_count": null,
   "id": "8f82a49e",
   "metadata": {},
   "outputs": [],
   "source": [
    "#Data encoding is used in datascience because most machine learning algorithms work with numbers not with text or categorical\n",
    "#variables."
   ]
  },
  {
   "cell_type": "code",
   "execution_count": null,
   "id": "4e628335",
   "metadata": {},
   "outputs": [],
   "source": [
    "#Data encoding allows the model to identify patterns in data and make predictions based on those patterns. "
   ]
  },
  {
   "cell_type": "markdown",
   "id": "2b2cb9c3",
   "metadata": {},
   "source": [
    "# Queno2"
   ]
  },
  {
   "cell_type": "markdown",
   "id": "dff1c53f",
   "metadata": {},
   "source": [
    "# Nominal Encoding"
   ]
  },
  {
   "cell_type": "code",
   "execution_count": null,
   "id": "609314ad",
   "metadata": {},
   "outputs": [],
   "source": [
    "#Nominal encoding is used in a feature in which where variables are just names and there is no order or rank to this variables\n",
    "#feature."
   ]
  },
  {
   "cell_type": "code",
   "execution_count": null,
   "id": "19b40a8e",
   "metadata": {},
   "outputs": [],
   "source": [
    "#For example name of colour,gender of person are nominal features and in this feature variable nominal encoding is used."
   ]
  },
  {
   "cell_type": "markdown",
   "id": "f630305d",
   "metadata": {},
   "source": [
    "#  Queno3  "
   ]
  },
  {
   "cell_type": "code",
   "execution_count": null,
   "id": "7c912d98",
   "metadata": {},
   "outputs": [],
   "source": [
    "#One hot coding is preferred over nominal coding at the time of coverting categorical data into numerical format."
   ]
  },
  {
   "cell_type": "code",
   "execution_count": null,
   "id": "f25e63fd",
   "metadata": {},
   "outputs": [],
   "source": [
    "#In this technique each category is binary where all elements are 0 except for element corresponding to category which is\n",
    "#1."
   ]
  },
  {
   "cell_type": "code",
   "execution_count": null,
   "id": "b3a5668c",
   "metadata": {},
   "outputs": [],
   "source": [
    "#This technique allows model to properly interpret and use categorical data in its calculation and it is used in nominal data."
   ]
  },
  {
   "cell_type": "code",
   "execution_count": null,
   "id": "21a370c6",
   "metadata": {},
   "outputs": [],
   "source": [
    "#For example if we have four types of bike name that is suzuki hayate,pulsar,bajaj and yamaha."
   ]
  },
  {
   "cell_type": "code",
   "execution_count": null,
   "id": "c1080246",
   "metadata": {},
   "outputs": [],
   "source": [
    "#For having one hot encoding we have to set categorical value of each bike that is suzuki hayate as 4,pulsar as 2,\n",
    "#bajaj as 1 and yamaha as 3."
   ]
  },
  {
   "cell_type": "code",
   "execution_count": null,
   "id": "0a28f813",
   "metadata": {},
   "outputs": [],
   "source": [
    "#After applying one hot encoding the result for each bike would be\n",
    "#suzuki hayate=0,0,0,1\n",
    "#pulsar=0,1,0,0\n",
    "#bajaj=1,0,0,0\n",
    "#yamaha=0,0,1,0"
   ]
  },
  {
   "cell_type": "code",
   "execution_count": null,
   "id": "4617d60a",
   "metadata": {},
   "outputs": [],
   "source": [
    "#So in this way one hot encoding works."
   ]
  },
  {
   "cell_type": "markdown",
   "id": "32bf4099",
   "metadata": {},
   "source": [
    "# Queno4"
   ]
  },
  {
   "cell_type": "code",
   "execution_count": null,
   "id": "bb9437e7",
   "metadata": {},
   "outputs": [],
   "source": [
    "#For this situation one hot coding is very much suitable for encoding ."
   ]
  },
  {
   "cell_type": "code",
   "execution_count": null,
   "id": "bf2f6b03",
   "metadata": {},
   "outputs": [],
   "source": [
    "#As there are five unique values of categorical data we have to set categorical value for that 5 unique categories \n",
    "#in the same way as we hav edone in above queno 3."
   ]
  },
  {
   "cell_type": "markdown",
   "id": "f5629fd0",
   "metadata": {},
   "source": [
    "# Queno5"
   ]
  },
  {
   "cell_type": "code",
   "execution_count": null,
   "id": "5c1c9a24",
   "metadata": {},
   "outputs": [],
   "source": [
    "#Two of the coloums which are categorical that is gender and residential option.  "
   ]
  },
  {
   "cell_type": "code",
   "execution_count": null,
   "id": "4189e1cd",
   "metadata": {},
   "outputs": [],
   "source": [
    "#As in gender there are only two categories that is male and female so we have to create two new columns and in residential \n",
    "#option also there is two category that is hostel and permanent so here also we have to create two new columns with \n",
    "#setted categorical value."
   ]
  },
  {
   "cell_type": "code",
   "execution_count": null,
   "id": "20eeef3c",
   "metadata": {},
   "outputs": [],
   "source": [
    "#lets suppose categorical value of male is 1 and female is 2 so in the row where itis male then encoding will be like this\n",
    "#that is 1,0 and in the row of female encoding will be like 0,1."
   ]
  },
  {
   "cell_type": "markdown",
   "id": "65102a22",
   "metadata": {},
   "source": [
    "# Queno6"
   ]
  },
  {
   "cell_type": "code",
   "execution_count": null,
   "id": "cff0ce65",
   "metadata": {},
   "outputs": [],
   "source": [
    "#Binary encoding is best suitable for this situation."
   ]
  },
  {
   "cell_type": "code",
   "execution_count": null,
   "id": "14b84fc5",
   "metadata": {},
   "outputs": [],
   "source": [
    "#It is somehow similar to one hot encoding in which categorical feature is converted into numerical using an ordinal order."
   ]
  },
  {
   "cell_type": "code",
   "execution_count": null,
   "id": "3f5df539",
   "metadata": {},
   "outputs": [],
   "source": [
    "#After that the numbers are transformed into binary numbers and binary value is split into different coloumns."
   ]
  },
  {
   "cell_type": "code",
   "execution_count": null,
   "id": "c168e3d2",
   "metadata": {},
   "outputs": [],
   "source": [
    "#For example if there are four types of animal then we can have 4 categorical value lets suppose lion has 3rd category\n",
    "#then its encoding would be like 0,0,1,0."
   ]
  },
  {
   "cell_type": "code",
   "execution_count": null,
   "id": "f1b096b0",
   "metadata": {},
   "outputs": [],
   "source": [
    "#This is the way encoding technique will be applied to different types of species,habitats and diets."
   ]
  },
  {
   "cell_type": "markdown",
   "id": "ed4a01af",
   "metadata": {},
   "source": [
    "# Queno7"
   ]
  },
  {
   "cell_type": "code",
   "execution_count": null,
   "id": "d79cee9a",
   "metadata": {},
   "outputs": [],
   "source": [
    "#In this question also binary encoding is suitable as we have discussed above in queno6."
   ]
  },
  {
   "cell_type": "code",
   "execution_count": null,
   "id": "d0c897a7",
   "metadata": {},
   "outputs": [],
   "source": [
    "#Given features thast is 5 in which two is of categorical type that is gender and contract type."
   ]
  },
  {
   "cell_type": "code",
   "execution_count": null,
   "id": "2a8b301e",
   "metadata": {},
   "outputs": [],
   "source": [
    "#so if gender has two category that is male and female in which male categorical value is 2 and female categorical value \n",
    "#is 1 then encoding for male would be 0,1 and female will be 1,0 andsame condition would be applied for contract type."
   ]
  },
  {
   "cell_type": "code",
   "execution_count": null,
   "id": "6b4870b1",
   "metadata": {},
   "outputs": [],
   "source": []
  }
 ],
 "metadata": {
  "kernelspec": {
   "display_name": "Python 3 (ipykernel)",
   "language": "python",
   "name": "python3"
  },
  "language_info": {
   "codemirror_mode": {
    "name": "ipython",
    "version": 3
   },
   "file_extension": ".py",
   "mimetype": "text/x-python",
   "name": "python",
   "nbconvert_exporter": "python",
   "pygments_lexer": "ipython3",
   "version": "3.11.5"
  }
 },
 "nbformat": 4,
 "nbformat_minor": 5
}
