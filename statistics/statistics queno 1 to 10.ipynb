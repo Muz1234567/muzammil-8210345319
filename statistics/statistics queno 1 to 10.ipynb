{
 "cells": [
  {
   "cell_type": "markdown",
   "id": "f351f61a",
   "metadata": {},
   "source": [
    "# queno 1"
   ]
  },
  {
   "cell_type": "markdown",
   "id": "9e7e7c9e",
   "metadata": {},
   "source": [
    "# STATISTICS"
   ]
  },
  {
   "cell_type": "code",
   "execution_count": null,
   "id": "b13e6bd8",
   "metadata": {},
   "outputs": [],
   "source": [
    "#Statistics is a branch that deals with every aspect of data."
   ]
  },
  {
   "cell_type": "code",
   "execution_count": null,
   "id": "f66346f2",
   "metadata": {},
   "outputs": [],
   "source": [
    "#It helps to choose the proper method of collecting the data and employ those samples in the correct analysis process in order to produce result."
   ]
  },
  {
   "cell_type": "code",
   "execution_count": null,
   "id": "40911b39",
   "metadata": {},
   "outputs": [],
   "source": [
    "#In short statistics is a process which helps to make decision based on data. "
   ]
  },
  {
   "cell_type": "code",
   "execution_count": null,
   "id": "213785c6",
   "metadata": {},
   "outputs": [],
   "source": [
    "#In math main purpose of statistics is to plan the collected data in terms of experimental designs and statistical surveys."
   ]
  },
  {
   "cell_type": "code",
   "execution_count": null,
   "id": "a04aeb7d",
   "metadata": {},
   "outputs": [],
   "source": [
    "#It is also considered as mathematical science that works with numerical data."
   ]
  },
  {
   "cell_type": "code",
   "execution_count": null,
   "id": "9f5a8d0d",
   "metadata": {},
   "outputs": [],
   "source": [
    "#For example; When we have to know about the number of supporter of particular party in a town we have to reach out sample people of town to know about each party supporter. "
   ]
  },
  {
   "cell_type": "markdown",
   "id": "21b2cb51",
   "metadata": {},
   "source": [
    "# queno2"
   ]
  },
  {
   "cell_type": "markdown",
   "id": "b9bc8232",
   "metadata": {},
   "source": [
    "# Types Of Statistics"
   ]
  },
  {
   "cell_type": "code",
   "execution_count": null,
   "id": "1971e269",
   "metadata": {},
   "outputs": [],
   "source": [
    "#Two major types of statistics are;descriptive statistics and inferential statistics."
   ]
  },
  {
   "cell_type": "markdown",
   "id": "94c41960",
   "metadata": {},
   "source": [
    "# Descriptive Statistics"
   ]
  },
  {
   "cell_type": "code",
   "execution_count": null,
   "id": "a3692fc3",
   "metadata": {},
   "outputs": [],
   "source": [
    "#Descriptive  statistics,describes the properties of sample and population data."
   ]
  },
  {
   "cell_type": "code",
   "execution_count": null,
   "id": "9930edf2",
   "metadata": {},
   "outputs": [],
   "source": [
    "#Descriptive statistics include mean,variance,skewness and kurtosis."
   ]
  },
  {
   "cell_type": "code",
   "execution_count": null,
   "id": "b0799874",
   "metadata": {},
   "outputs": [],
   "source": [
    "#Descriptive statistics mostly focus on central tendency that is mean,median and mode."
   ]
  },
  {
   "cell_type": "code",
   "execution_count": null,
   "id": "6586f8f7",
   "metadata": {},
   "outputs": [],
   "source": [
    "#Descriptive statistics can also describe differences between observed characteristics of elements of a data set."
   ]
  },
  {
   "cell_type": "code",
   "execution_count": null,
   "id": "41fae720",
   "metadata": {},
   "outputs": [],
   "source": [
    "#They can help us understand the collective properties of elements of a data sample and form basis for testing hypothesis."
   ]
  },
  {
   "cell_type": "code",
   "execution_count": null,
   "id": "8f0b9ba9",
   "metadata": {},
   "outputs": [],
   "source": [
    "#For example;"
   ]
  },
  {
   "cell_type": "code",
   "execution_count": 1,
   "id": "ef6943d0",
   "metadata": {},
   "outputs": [],
   "source": [
    "import pandas as pd"
   ]
  },
  {
   "cell_type": "code",
   "execution_count": 2,
   "id": "58e1c1eb",
   "metadata": {},
   "outputs": [
    {
     "data": {
      "text/html": [
       "<div>\n",
       "<style scoped>\n",
       "    .dataframe tbody tr th:only-of-type {\n",
       "        vertical-align: middle;\n",
       "    }\n",
       "\n",
       "    .dataframe tbody tr th {\n",
       "        vertical-align: top;\n",
       "    }\n",
       "\n",
       "    .dataframe thead th {\n",
       "        text-align: right;\n",
       "    }\n",
       "</style>\n",
       "<table border=\"1\" class=\"dataframe\">\n",
       "  <thead>\n",
       "    <tr style=\"text-align: right;\">\n",
       "      <th></th>\n",
       "      <th>Descriptive statistics</th>\n",
       "    </tr>\n",
       "  </thead>\n",
       "  <tbody>\n",
       "    <tr>\n",
       "      <th>0</th>\n",
       "      <td>10</td>\n",
       "    </tr>\n",
       "    <tr>\n",
       "      <th>1</th>\n",
       "      <td>20</td>\n",
       "    </tr>\n",
       "    <tr>\n",
       "      <th>2</th>\n",
       "      <td>50</td>\n",
       "    </tr>\n",
       "    <tr>\n",
       "      <th>3</th>\n",
       "      <td>49</td>\n",
       "    </tr>\n",
       "    <tr>\n",
       "      <th>4</th>\n",
       "      <td>56</td>\n",
       "    </tr>\n",
       "    <tr>\n",
       "      <th>5</th>\n",
       "      <td>45</td>\n",
       "    </tr>\n",
       "    <tr>\n",
       "      <th>6</th>\n",
       "      <td>56</td>\n",
       "    </tr>\n",
       "    <tr>\n",
       "      <th>7</th>\n",
       "      <td>67</td>\n",
       "    </tr>\n",
       "  </tbody>\n",
       "</table>\n",
       "</div>"
      ],
      "text/plain": [
       "   Descriptive statistics\n",
       "0                      10\n",
       "1                      20\n",
       "2                      50\n",
       "3                      49\n",
       "4                      56\n",
       "5                      45\n",
       "6                      56\n",
       "7                      67"
      ]
     },
     "execution_count": 2,
     "metadata": {},
     "output_type": "execute_result"
    }
   ],
   "source": [
    "data=[10,20,50,49,56,45,56,67]\n",
    "df=pd.DataFrame(data,columns=['Descriptive statistics'])\n",
    "df"
   ]
  },
  {
   "cell_type": "code",
   "execution_count": 7,
   "id": "33643b52",
   "metadata": {},
   "outputs": [
    {
     "data": {
      "text/plain": [
       "Descriptive statistics    44.125\n",
       "dtype: float64"
      ]
     },
     "execution_count": 7,
     "metadata": {},
     "output_type": "execute_result"
    }
   ],
   "source": [
    "df[['Descriptive statistics']].mean()\n",
    "#calculating mean"
   ]
  },
  {
   "cell_type": "code",
   "execution_count": 10,
   "id": "c04ad977",
   "metadata": {},
   "outputs": [
    {
     "data": {
      "text/plain": [
       "Descriptive statistics    49.5\n",
       "dtype: float64"
      ]
     },
     "execution_count": 10,
     "metadata": {},
     "output_type": "execute_result"
    }
   ],
   "source": [
    "df[['Descriptive statistics']].median()\n",
    "#calculating median"
   ]
  },
  {
   "cell_type": "code",
   "execution_count": 12,
   "id": "7b65e146",
   "metadata": {},
   "outputs": [
    {
     "data": {
      "text/plain": [
       "0    56\n",
       "Name: Descriptive statistics, dtype: int64"
      ]
     },
     "execution_count": 12,
     "metadata": {},
     "output_type": "execute_result"
    }
   ],
   "source": [
    "df['Descriptive statistics'].mode()\n",
    "#calculating mode"
   ]
  },
  {
   "cell_type": "code",
   "execution_count": null,
   "id": "225f3fb8",
   "metadata": {},
   "outputs": [],
   "source": [
    "#so this is an example of descriptive statistics of list containing values and from that we have obtained average,median and mode."
   ]
  },
  {
   "cell_type": "markdown",
   "id": "e817941e",
   "metadata": {},
   "source": [
    "# Inferential Statistics"
   ]
  },
  {
   "cell_type": "code",
   "execution_count": null,
   "id": "9e4aff8d",
   "metadata": {},
   "outputs": [],
   "source": [
    "#Inferential statistics are tools that statisticians use to draw conclusion about characteristics of data obtained from sample data."
   ]
  },
  {
   "cell_type": "code",
   "execution_count": null,
   "id": "b8518b11",
   "metadata": {},
   "outputs": [],
   "source": [
    "#Based on the sample size and distribution,statisticians can calculate the probability that statistics,which measure central\n",
    "#tendency,variability,distribution and relationships between characteristics within a data sample provides an accurate picture of whole data."
   ]
  },
  {
   "cell_type": "code",
   "execution_count": null,
   "id": "7c33bdd9",
   "metadata": {},
   "outputs": [],
   "source": [
    "#Regression analysis is a widely used technique of statistical inference used to determine strength and nature of relationship."
   ]
  },
  {
   "cell_type": "code",
   "execution_count": null,
   "id": "9bbb35e4",
   "metadata": {},
   "outputs": [],
   "source": [
    "#It has many types such as hypothesis testing,ztest,t test,f test,regression analysis etc."
   ]
  },
  {
   "cell_type": "code",
   "execution_count": null,
   "id": "bc2ff805",
   "metadata": {},
   "outputs": [],
   "source": [
    "#For example;Suppose the average marks of 200 student in board exam are known."
   ]
  },
  {
   "cell_type": "code",
   "execution_count": null,
   "id": "20c4005c",
   "metadata": {},
   "outputs": [],
   "source": [
    "#Now by using this sample information the average marks of whole student in stateboard can be approximated  using inferential statistics."
   ]
  },
  {
   "cell_type": "markdown",
   "id": "518b514f",
   "metadata": {},
   "source": [
    "# queno 3"
   ]
  },
  {
   "cell_type": "markdown",
   "id": "d601746d",
   "metadata": {},
   "source": [
    "# Types of Data"
   ]
  },
  {
   "cell_type": "code",
   "execution_count": null,
   "id": "bddabd0b",
   "metadata": {},
   "outputs": [],
   "source": [
    "#There are two types of data;Qualitative and Quantitative data."
   ]
  },
  {
   "cell_type": "code",
   "execution_count": null,
   "id": "099bd1f8",
   "metadata": {},
   "outputs": [],
   "source": [
    "#They are further classified in to four categories;Nominal data,Ordinal data,Discrete data and Continous data."
   ]
  },
  {
   "cell_type": "markdown",
   "id": "9cfb7647",
   "metadata": {},
   "source": [
    "# Quantitative Data"
   ]
  },
  {
   "cell_type": "code",
   "execution_count": null,
   "id": "de0ca9df",
   "metadata": {},
   "outputs": [],
   "source": [
    "#Quantitative data can be expressed in numerical values,making it countable and including ststistical analysis."
   ]
  },
  {
   "cell_type": "code",
   "execution_count": null,
   "id": "f69776aa",
   "metadata": {},
   "outputs": [],
   "source": [
    "#These kinds of data are also known as numerical data."
   ]
  },
  {
   "cell_type": "code",
   "execution_count": null,
   "id": "85ad8248",
   "metadata": {},
   "outputs": [],
   "source": [
    "#Examples of Quantitative data;\n",
    "#Height or weight of person\n",
    "#Room temperature\n",
    "#Number of week days\n",
    "#Time"
   ]
  },
  {
   "cell_type": "code",
   "execution_count": null,
   "id": "86242d2a",
   "metadata": {},
   "outputs": [],
   "source": [
    "#It is of two types"
   ]
  },
  {
   "cell_type": "markdown",
   "id": "520a165d",
   "metadata": {},
   "source": [
    "# Discrete data"
   ]
  },
  {
   "cell_type": "code",
   "execution_count": null,
   "id": "0da7ac80",
   "metadata": {},
   "outputs": [],
   "source": [
    "#The discrete data contain the values that fall under integers or whole numbers."
   ]
  },
  {
   "cell_type": "code",
   "execution_count": null,
   "id": "2c0f33a7",
   "metadata": {},
   "outputs": [],
   "source": [
    "#Total number of employee in a company is an example of discrete data."
   ]
  },
  {
   "cell_type": "code",
   "execution_count": null,
   "id": "ade5e3ff",
   "metadata": {},
   "outputs": [],
   "source": [
    "#These data are  represented mainly by bar graph,number line,or frequency table."
   ]
  },
  {
   "cell_type": "markdown",
   "id": "76bbc45a",
   "metadata": {},
   "source": [
    "# Continous Data"
   ]
  },
  {
   "cell_type": "code",
   "execution_count": null,
   "id": "77f63c39",
   "metadata": {},
   "outputs": [],
   "source": [
    "#Continous data are in the form of fractional numbers."
   ]
  },
  {
   "cell_type": "code",
   "execution_count": null,
   "id": "b046d768",
   "metadata": {},
   "outputs": [],
   "source": [
    "#Continous data represents information that can be divided into smaller levels."
   ]
  },
  {
   "cell_type": "code",
   "execution_count": null,
   "id": "a250448f",
   "metadata": {},
   "outputs": [],
   "source": [
    "#Speed of a vehicle,Wifi frequency are an example of continous data."
   ]
  },
  {
   "cell_type": "markdown",
   "id": "3a069001",
   "metadata": {},
   "source": [
    "# Qualitative Data"
   ]
  },
  {
   "cell_type": "code",
   "execution_count": null,
   "id": "9a9d0fe3",
   "metadata": {},
   "outputs": [],
   "source": [
    "#Qualitative data is data that cant be measuredor counted in the form of numbers."
   ]
  },
  {
   "cell_type": "code",
   "execution_count": null,
   "id": "22139c0a",
   "metadata": {},
   "outputs": [],
   "source": [
    "#These type of data aresorted by category not by numbers."
   ]
  },
  {
   "cell_type": "code",
   "execution_count": null,
   "id": "6fd9068e",
   "metadata": {},
   "outputs": [],
   "source": [
    "#Example of this type of data is images,text,gender etc."
   ]
  },
  {
   "cell_type": "code",
   "execution_count": null,
   "id": "9c0f0e9b",
   "metadata": {},
   "outputs": [],
   "source": [
    "#It is of two types ;Nominal Data and Ordinal Data."
   ]
  },
  {
   "cell_type": "markdown",
   "id": "409ab063",
   "metadata": {},
   "source": [
    "# Nominal Data"
   ]
  },
  {
   "cell_type": "code",
   "execution_count": null,
   "id": "b7447aa1",
   "metadata": {},
   "outputs": [],
   "source": [
    "#Nominal data is used to label variables without any order."
   ]
  },
  {
   "cell_type": "code",
   "execution_count": null,
   "id": "9b7050b6",
   "metadata": {},
   "outputs": [],
   "source": [
    "#These data does not have any meaningful order;their values are distributed into distinct categories."
   ]
  },
  {
   "cell_type": "code",
   "execution_count": null,
   "id": "88479ea1",
   "metadata": {},
   "outputs": [],
   "source": [
    "#Colour of hair or eye is an example of nominal data as one colour cannot be compared with other colour as every colour has distinct characteristics. "
   ]
  },
  {
   "cell_type": "markdown",
   "id": "1c8b2941",
   "metadata": {},
   "source": [
    "# Ordinal Data"
   ]
  },
  {
   "cell_type": "code",
   "execution_count": null,
   "id": "e5e9e8ae",
   "metadata": {},
   "outputs": [],
   "source": [
    "#Ordinal data have ordering where number is present in order by their postion on scale."
   ]
  },
  {
   "cell_type": "code",
   "execution_count": null,
   "id": "6968cd71",
   "metadata": {},
   "outputs": [],
   "source": [
    "#These data are used for observation like customer satisfaction ,happiness etc and we cant do any arithmetic tasks on it."
   ]
  },
  {
   "cell_type": "code",
   "execution_count": null,
   "id": "a614a36a",
   "metadata": {},
   "outputs": [],
   "source": [
    "#Ranking of people in competition (first,second,third,etc) represents order in categorical way is an example of ordinal data."
   ]
  },
  {
   "cell_type": "markdown",
   "id": "767d2fb2",
   "metadata": {},
   "source": [
    "# Queno 4"
   ]
  },
  {
   "cell_type": "code",
   "execution_count": 3,
   "id": "5e4e4929",
   "metadata": {},
   "outputs": [],
   "source": [
    "data=[['Grading in exam:A+,B+,C+,C','Height data of class:178.9,179,179.5,176'],['Colour of mangoes:yellow,green,orange,red','Number of mangoes exported by farm:500,600,478,672']]                                                                                                 \n",
    "                                                                                                 "
   ]
  },
  {
   "cell_type": "code",
   "execution_count": 4,
   "id": "c7c24484",
   "metadata": {},
   "outputs": [],
   "source": [
    "classif=pd.DataFrame(data,columns=['Qualitative data','Quantitative data'])"
   ]
  },
  {
   "cell_type": "code",
   "execution_count": 5,
   "id": "90556d52",
   "metadata": {},
   "outputs": [
    {
     "data": {
      "text/html": [
       "<div>\n",
       "<style scoped>\n",
       "    .dataframe tbody tr th:only-of-type {\n",
       "        vertical-align: middle;\n",
       "    }\n",
       "\n",
       "    .dataframe tbody tr th {\n",
       "        vertical-align: top;\n",
       "    }\n",
       "\n",
       "    .dataframe thead th {\n",
       "        text-align: right;\n",
       "    }\n",
       "</style>\n",
       "<table border=\"1\" class=\"dataframe\">\n",
       "  <thead>\n",
       "    <tr style=\"text-align: right;\">\n",
       "      <th></th>\n",
       "      <th>Qualitative data</th>\n",
       "      <th>Quantitative data</th>\n",
       "    </tr>\n",
       "  </thead>\n",
       "  <tbody>\n",
       "    <tr>\n",
       "      <th>0</th>\n",
       "      <td>Grading in exam:A+,B+,C+,C</td>\n",
       "      <td>Height data of class:178.9,179,179.5,176</td>\n",
       "    </tr>\n",
       "    <tr>\n",
       "      <th>1</th>\n",
       "      <td>Colour of mangoes:yellow,green,orange,red</td>\n",
       "      <td>Number of mangoes exported by farm:500,600,478...</td>\n",
       "    </tr>\n",
       "  </tbody>\n",
       "</table>\n",
       "</div>"
      ],
      "text/plain": [
       "                            Qualitative data  \\\n",
       "0                 Grading in exam:A+,B+,C+,C   \n",
       "1  Colour of mangoes:yellow,green,orange,red   \n",
       "\n",
       "                                   Quantitative data  \n",
       "0           Height data of class:178.9,179,179.5,176  \n",
       "1  Number of mangoes exported by farm:500,600,478...  "
      ]
     },
     "execution_count": 5,
     "metadata": {},
     "output_type": "execute_result"
    }
   ],
   "source": [
    "classif"
   ]
  },
  {
   "cell_type": "code",
   "execution_count": null,
   "id": "4904cbd2",
   "metadata": {},
   "outputs": [],
   "source": [
    "#SO in this way grading in exam or colour of mangoes are qualitative data as it is descriptive we cannot perform any arithmetic operation on it. "
   ]
  },
  {
   "cell_type": "code",
   "execution_count": null,
   "id": "d7d7744f",
   "metadata": {},
   "outputs": [],
   "source": [
    "#Whereas in quantitative data it is numerical that is height of class number of mangoes and we can perform arithmetic operation on them. "
   ]
  },
  {
   "cell_type": "markdown",
   "id": "7c60bd32",
   "metadata": {},
   "source": [
    "# queno 5"
   ]
  },
  {
   "cell_type": "markdown",
   "id": "f247c730",
   "metadata": {},
   "source": [
    "# Levels of Measurements"
   ]
  },
  {
   "cell_type": "code",
   "execution_count": null,
   "id": "4a0994bc",
   "metadata": {},
   "outputs": [],
   "source": [
    "#Levels of measurement is used to describe information within the values."
   ]
  },
  {
   "cell_type": "code",
   "execution_count": null,
   "id": "324678cd",
   "metadata": {},
   "outputs": [],
   "source": [
    "#It relates the values that are assigned to variables with each other."
   ]
  },
  {
   "cell_type": "code",
   "execution_count": null,
   "id": "4dcf6374",
   "metadata": {},
   "outputs": [],
   "source": [
    "#There are four levels of measuement are;\n",
    "#1.Nominal\n",
    "#2.Ordinal\n",
    "#3.Interval\n",
    "#4.Ratio"
   ]
  },
  {
   "cell_type": "code",
   "execution_count": null,
   "id": "09c556dc",
   "metadata": {},
   "outputs": [],
   "source": [
    "#Under nominal level of measurement data can only be categorized."
   ]
  },
  {
   "cell_type": "code",
   "execution_count": null,
   "id": "028b2c95",
   "metadata": {},
   "outputs": [],
   "source": [
    "#for example;cloth brands,marital status,city of residents etc "
   ]
  },
  {
   "cell_type": "code",
   "execution_count": null,
   "id": "b3b728d6",
   "metadata": {},
   "outputs": [],
   "source": [
    "#Under Ordinal level of measurement we can categorize or rank our data in an order ,but we cannot say anything about the intervals between rankings."
   ]
  },
  {
   "cell_type": "code",
   "execution_count": null,
   "id": "3303b5be",
   "metadata": {},
   "outputs": [],
   "source": [
    "#for example grading of standard of students in class that is Grade A,B,C,D ACCORDING TO THEIR POSITION AND QUALIFICATION."
   ]
  },
  {
   "cell_type": "code",
   "execution_count": null,
   "id": "421ae7f6",
   "metadata": {},
   "outputs": [],
   "source": [
    "#Variable interval is anumerical scale which labels and orders variables with known spaced interval of each values."
   ]
  },
  {
   "cell_type": "code",
   "execution_count": null,
   "id": "97e62536",
   "metadata": {},
   "outputs": [],
   "source": [
    "#For example in Variable interval temperature in zero degrees is defined differently,it doesn't mean absolute absence of temperature. "
   ]
  },
  {
   "cell_type": "code",
   "execution_count": null,
   "id": "23fddd67",
   "metadata": {},
   "outputs": [],
   "source": [
    "#Whereas in ratio variable we can categorize,rank and infer equal intervals between neighbouring data points,and there is a true zero point. "
   ]
  },
  {
   "cell_type": "code",
   "execution_count": null,
   "id": "fca6258c",
   "metadata": {},
   "outputs": [],
   "source": [
    "#In ratio scales ,zero means an absolute lack of variables."
   ]
  },
  {
   "cell_type": "code",
   "execution_count": null,
   "id": "a0f856cd",
   "metadata": {},
   "outputs": [],
   "source": [
    "#For example in interval variable if a person weight is 0 means there is not any person or there is an absolute lack of variables. "
   ]
  },
  {
   "cell_type": "markdown",
   "id": "8f7529be",
   "metadata": {},
   "source": [
    "# queno6"
   ]
  },
  {
   "cell_type": "code",
   "execution_count": null,
   "id": "cd8382b0",
   "metadata": {},
   "outputs": [],
   "source": [
    "#Levels of measurement,also known as scale of measurement,refers to process of categorizing data based on characteristics and properties of data."
   ]
  },
  {
   "cell_type": "code",
   "execution_count": null,
   "id": "e6c77047",
   "metadata": {},
   "outputs": [],
   "source": [
    "#It is important in statistics as it helps determine the appropriate statistical methods and tests that can be used to analyse data."
   ]
  },
  {
   "cell_type": "code",
   "execution_count": null,
   "id": "905e9297",
   "metadata": {},
   "outputs": [],
   "source": [
    "#For example; in nominal  level of measurement we consider an example below."
   ]
  },
  {
   "cell_type": "code",
   "execution_count": null,
   "id": "dd1d3001",
   "metadata": {},
   "outputs": [],
   "source": [
    "#For example Mohan is in excellent group and Ramesh is in average group. "
   ]
  },
  {
   "cell_type": "code",
   "execution_count": null,
   "id": "6fc1dee3",
   "metadata": {},
   "outputs": [],
   "source": [
    "#Imagine we use 10 to mean excellent group and 5 to mean average group."
   ]
  },
  {
   "cell_type": "code",
   "execution_count": null,
   "id": "98f9e15f",
   "metadata": {},
   "outputs": [],
   "source": [
    "#Knowing that Mohan score is 10 and Ramesh score is 5 tells us that Mohan and Ramesh are in two different groups."
   ]
  },
  {
   "cell_type": "code",
   "execution_count": null,
   "id": "f4495aab",
   "metadata": {},
   "outputs": [],
   "source": [
    "#Hence it counts as measurement because it differentiates people on variable that is excellent and average."
   ]
  },
  {
   "cell_type": "markdown",
   "id": "88cfd05b",
   "metadata": {},
   "source": [
    "# Queno 7"
   ]
  },
  {
   "cell_type": "markdown",
   "id": "67277083",
   "metadata": {},
   "source": [
    "# Nominal Data vs Ordinal Data"
   ]
  },
  {
   "cell_type": "code",
   "execution_count": null,
   "id": "a7cadf73",
   "metadata": {},
   "outputs": [],
   "source": [
    "#Nominal data is qualitative data used to name or label variables without providing numeric values."
   ]
  },
  {
   "cell_type": "code",
   "execution_count": null,
   "id": "7b47c244",
   "metadata": {},
   "outputs": [],
   "source": [
    "#Nominal data is classified without any order or rank while ordinal data has some natural or predetermined order."
   ]
  },
  {
   "cell_type": "code",
   "execution_count": null,
   "id": "eb68d14c",
   "metadata": {},
   "outputs": [],
   "source": [
    "#Nominal data is qualitative or categorical data,while ordinal data is considered 'in-between' qualitative and quantitative data."
   ]
  },
  {
   "cell_type": "code",
   "execution_count": null,
   "id": "c61cbf15",
   "metadata": {},
   "outputs": [],
   "source": [
    "#Nominal data do not provide any quantitative value,and we cannot perform numeric operations with them."
   ]
  },
  {
   "cell_type": "code",
   "execution_count": null,
   "id": "d0a00204",
   "metadata": {},
   "outputs": [],
   "source": [
    "#While ordinal data provide sequence,and it is possible to assign numbers to data,no numeric operations can be performed but ordinal data makes possible to compare one item with another in terms of ranking."
   ]
  },
  {
   "cell_type": "code",
   "execution_count": null,
   "id": "fde6dc67",
   "metadata": {},
   "outputs": [],
   "source": [
    "#one example of Nominal data is preferred mode of transport(bus,tram,train,car,taxi etc)"
   ]
  },
  {
   "cell_type": "code",
   "execution_count": null,
   "id": "c60505c9",
   "metadata": {},
   "outputs": [],
   "source": [
    "#One example of Ordinal data is  rate education level(Elementary 4,High School 6,College 7,Graduate 9,Postgraduate 10)."
   ]
  },
  {
   "cell_type": "markdown",
   "id": "da8f6fe2",
   "metadata": {},
   "source": [
    "# queno 8"
   ]
  },
  {
   "cell_type": "code",
   "execution_count": null,
   "id": "a512ef15",
   "metadata": {},
   "outputs": [],
   "source": [
    "#A range plot is used to plot data in range."
   ]
  },
  {
   "cell_type": "code",
   "execution_count": null,
   "id": "5d884cb1",
   "metadata": {},
   "outputs": [],
   "source": [
    "#A range plot is based on two data points for each category and a bar or a line in between two data points which presents difference between those values. "
   ]
  },
  {
   "cell_type": "code",
   "execution_count": null,
   "id": "60771c8e",
   "metadata": {},
   "outputs": [],
   "source": [
    "#It is the most easiest and most convenient way of presenting minimum and maximum value of category and the space between them."
   ]
  },
  {
   "cell_type": "markdown",
   "id": "75808cd8",
   "metadata": {},
   "source": [
    "# Queno 9"
   ]
  },
  {
   "cell_type": "markdown",
   "id": "dc8db25d",
   "metadata": {},
   "source": [
    "# Difference between Descriptive and Inferential Statistics"
   ]
  },
  {
   "cell_type": "code",
   "execution_count": null,
   "id": "7e6016dd",
   "metadata": {},
   "outputs": [],
   "source": [
    "#In descriptive statistics it gives information about raw data which describes data in some manner."
   ]
  },
  {
   "cell_type": "code",
   "execution_count": null,
   "id": "63986ccf",
   "metadata": {},
   "outputs": [],
   "source": [
    "#Whereas in Inferential statistics it makes inferences about data drawn from sample."
   ]
  },
  {
   "cell_type": "code",
   "execution_count": null,
   "id": "db41dd75",
   "metadata": {},
   "outputs": [],
   "source": [
    "#Descriptive statistics helps in organising,analyzing data in meaningful mannner."
   ]
  },
  {
   "cell_type": "code",
   "execution_count": null,
   "id": "db2567e1",
   "metadata": {},
   "outputs": [],
   "source": [
    "#Whereas in inferential statistics it allows us to compare data and make hypothesis and prediction."
   ]
  },
  {
   "cell_type": "code",
   "execution_count": null,
   "id": "37014fc3",
   "metadata": {},
   "outputs": [],
   "source": [
    "#Descriptive statistics explains already known data and is limited to sample oe population having small size. "
   ]
  },
  {
   "cell_type": "code",
   "execution_count": null,
   "id": "0ee75e35",
   "metadata": {},
   "outputs": [],
   "source": [
    "#Whereas in inferential statistics it attempts to reach conclusion about population."
   ]
  },
  {
   "cell_type": "code",
   "execution_count": null,
   "id": "fe7a4098",
   "metadata": {},
   "outputs": [],
   "source": [
    "#Descriptive statistics can be achieved with help of chart,table,graphs etc."
   ]
  },
  {
   "cell_type": "code",
   "execution_count": null,
   "id": "5e167908",
   "metadata": {},
   "outputs": [],
   "source": [
    "#Whereas in inferential statistics can be achieved with the help of probability."
   ]
  },
  {
   "cell_type": "code",
   "execution_count": null,
   "id": "43827bc1",
   "metadata": {},
   "outputs": [],
   "source": [
    "#examples of descriptive statistics ;"
   ]
  },
  {
   "cell_type": "code",
   "execution_count": null,
   "id": "26b313c7",
   "metadata": {},
   "outputs": [],
   "source": [
    "#Suppose score of 8 students are 78,87,98,34,67,78,97,95,76"
   ]
  },
  {
   "cell_type": "code",
   "execution_count": null,
   "id": "8b524cff",
   "metadata": {},
   "outputs": [],
   "source": [
    "#Now from this we areable to calculate average,mode and median and also range that is highest and lowest range from this number."
   ]
  },
  {
   "cell_type": "code",
   "execution_count": null,
   "id": "aac6d985",
   "metadata": {},
   "outputs": [],
   "source": [
    "#Example of inferential statistics as we discussed above that it is all about prediction we would take sample data from any thing school,company,state and make conclusion to the whole data of them."
   ]
  },
  {
   "cell_type": "markdown",
   "id": "72dca178",
   "metadata": {},
   "source": [
    "# Queno 10"
   ]
  },
  {
   "cell_type": "markdown",
   "id": "a3fe3b40",
   "metadata": {},
   "source": [
    "# Common Measures used in central tendency and variability"
   ]
  },
  {
   "cell_type": "code",
   "execution_count": null,
   "id": "6709670a",
   "metadata": {},
   "outputs": [],
   "source": [
    "#Common measures of central tendency in statistics are;mean,median and mode."
   ]
  },
  {
   "cell_type": "code",
   "execution_count": null,
   "id": "beffd07e",
   "metadata": {},
   "outputs": [],
   "source": [
    "#Common measures used in variability are range that is highest and lowest values,standard deviation and interquartile range;the range of middle half of distribution."
   ]
  },
  {
   "cell_type": "code",
   "execution_count": 3,
   "id": "938f49d7",
   "metadata": {},
   "outputs": [
    {
     "data": {
      "text/html": [
       "<div>\n",
       "<style scoped>\n",
       "    .dataframe tbody tr th:only-of-type {\n",
       "        vertical-align: middle;\n",
       "    }\n",
       "\n",
       "    .dataframe tbody tr th {\n",
       "        vertical-align: top;\n",
       "    }\n",
       "\n",
       "    .dataframe thead th {\n",
       "        text-align: right;\n",
       "    }\n",
       "</style>\n",
       "<table border=\"1\" class=\"dataframe\">\n",
       "  <thead>\n",
       "    <tr style=\"text-align: right;\">\n",
       "      <th></th>\n",
       "      <th>Descriptive statistics</th>\n",
       "    </tr>\n",
       "  </thead>\n",
       "  <tbody>\n",
       "    <tr>\n",
       "      <th>0</th>\n",
       "      <td>10</td>\n",
       "    </tr>\n",
       "    <tr>\n",
       "      <th>1</th>\n",
       "      <td>20</td>\n",
       "    </tr>\n",
       "    <tr>\n",
       "      <th>2</th>\n",
       "      <td>50</td>\n",
       "    </tr>\n",
       "    <tr>\n",
       "      <th>3</th>\n",
       "      <td>49</td>\n",
       "    </tr>\n",
       "    <tr>\n",
       "      <th>4</th>\n",
       "      <td>56</td>\n",
       "    </tr>\n",
       "    <tr>\n",
       "      <th>5</th>\n",
       "      <td>45</td>\n",
       "    </tr>\n",
       "    <tr>\n",
       "      <th>6</th>\n",
       "      <td>56</td>\n",
       "    </tr>\n",
       "    <tr>\n",
       "      <th>7</th>\n",
       "      <td>67</td>\n",
       "    </tr>\n",
       "  </tbody>\n",
       "</table>\n",
       "</div>"
      ],
      "text/plain": [
       "   Descriptive statistics\n",
       "0                      10\n",
       "1                      20\n",
       "2                      50\n",
       "3                      49\n",
       "4                      56\n",
       "5                      45\n",
       "6                      56\n",
       "7                      67"
      ]
     },
     "execution_count": 3,
     "metadata": {},
     "output_type": "execute_result"
    }
   ],
   "source": [
    "df"
   ]
  },
  {
   "cell_type": "code",
   "execution_count": null,
   "id": "5959518b",
   "metadata": {},
   "outputs": [],
   "source": [
    "#So now df is a dataset which is descriptive."
   ]
  },
  {
   "cell_type": "code",
   "execution_count": 4,
   "id": "a33c4e45",
   "metadata": {},
   "outputs": [
    {
     "data": {
      "text/plain": [
       "Descriptive statistics    44.125\n",
       "dtype: float64"
      ]
     },
     "execution_count": 4,
     "metadata": {},
     "output_type": "execute_result"
    }
   ],
   "source": [
    "df[['Descriptive statistics']].mean()"
   ]
  },
  {
   "cell_type": "code",
   "execution_count": 6,
   "id": "ffba5b50",
   "metadata": {},
   "outputs": [
    {
     "data": {
      "text/plain": [
       "0    56\n",
       "Name: Descriptive statistics, dtype: int64"
      ]
     },
     "execution_count": 6,
     "metadata": {},
     "output_type": "execute_result"
    }
   ],
   "source": [
    "df['Descriptive statistics'].mode()"
   ]
  },
  {
   "cell_type": "code",
   "execution_count": 7,
   "id": "d4367d95",
   "metadata": {},
   "outputs": [
    {
     "data": {
      "text/plain": [
       "Descriptive statistics    49.5\n",
       "dtype: float64"
      ]
     },
     "execution_count": 7,
     "metadata": {},
     "output_type": "execute_result"
    }
   ],
   "source": [
    "df[['Descriptive statistics']].median()"
   ]
  },
  {
   "cell_type": "code",
   "execution_count": null,
   "id": "45ba463e",
   "metadata": {},
   "outputs": [],
   "source": [
    "#so in this way we are able to use central tendency that is mean ,median and mode in statistics."
   ]
  },
  {
   "cell_type": "code",
   "execution_count": 8,
   "id": "c0103261",
   "metadata": {},
   "outputs": [
    {
     "data": {
      "text/plain": [
       "Descriptive statistics    67\n",
       "dtype: int64"
      ]
     },
     "execution_count": 8,
     "metadata": {},
     "output_type": "execute_result"
    }
   ],
   "source": [
    "df[['Descriptive statistics']].max()\n",
    "#using variability in statistics that is calculating max value"
   ]
  },
  {
   "cell_type": "code",
   "execution_count": 9,
   "id": "d1bda825",
   "metadata": {},
   "outputs": [
    {
     "data": {
      "text/plain": [
       "Descriptive statistics    10\n",
       "dtype: int64"
      ]
     },
     "execution_count": 9,
     "metadata": {},
     "output_type": "execute_result"
    }
   ],
   "source": [
    "df[['Descriptive statistics']].min()\n",
    "#here calculating minimum value"
   ]
  },
  {
   "cell_type": "code",
   "execution_count": 10,
   "id": "f3d186b3",
   "metadata": {},
   "outputs": [
    {
     "data": {
      "text/plain": [
       "Descriptive statistics    19.312746\n",
       "dtype: float64"
      ]
     },
     "execution_count": 10,
     "metadata": {},
     "output_type": "execute_result"
    }
   ],
   "source": [
    "df[['Descriptive statistics']].std()\n",
    "#here we are calculating standard deviation of column desciptive statistics."
   ]
  },
  {
   "cell_type": "code",
   "execution_count": null,
   "id": "74046b86",
   "metadata": {},
   "outputs": [],
   "source": [
    "#so in this way we are able to use variability and central tendency in statistics in a dataset."
   ]
  },
  {
   "cell_type": "code",
   "execution_count": null,
   "id": "eadcf2f0",
   "metadata": {},
   "outputs": [],
   "source": []
  },
  {
   "cell_type": "code",
   "execution_count": null,
   "id": "ab621f74",
   "metadata": {},
   "outputs": [],
   "source": []
  }
 ],
 "metadata": {
  "kernelspec": {
   "display_name": "Python 3 (ipykernel)",
   "language": "python",
   "name": "python3"
  },
  "language_info": {
   "codemirror_mode": {
    "name": "ipython",
    "version": 3
   },
   "file_extension": ".py",
   "mimetype": "text/x-python",
   "name": "python",
   "nbconvert_exporter": "python",
   "pygments_lexer": "ipython3",
   "version": "3.11.5"
  }
 },
 "nbformat": 4,
 "nbformat_minor": 5
}
